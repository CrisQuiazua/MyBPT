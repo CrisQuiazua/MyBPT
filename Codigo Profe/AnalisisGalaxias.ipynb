{
 "cells": [
  {
   "cell_type": "markdown",
   "metadata": {
    "colab_type": "text",
    "id": "copyright-notice"
   },
   "source": [
    "# Analisis Galaxias: Aprendizaje Automático © MAHG 2020"
   ]
  },
  {
   "cell_type": "markdown",
   "metadata": {
    "colab_type": "text",
    "id": "copyright-notice"
   },
   "source": [
    "## Paquetes de Inicio."
   ]
  },
  {
   "cell_type": "code",
   "execution_count": 1,
   "metadata": {},
   "outputs": [
    {
     "name": "stdout",
     "output_type": "stream",
     "text": [
      "AnalisisGalaxias.ipynb                 Skyserver_SQL6_12_2020 1_34_06 PM.csv\n",
      "Skyserver_SQL4_21_2020 2_08_34 PM.csv  Skyserver_SQL6_12_2020 2_02_02 PM.csv\n",
      "Skyserver_SQL6_10_2020 10_02_37 PM.csv validationGALAX(V2).ipynb\n",
      "Skyserver_SQL6_10_2020 10_04_43 PM.csv validationGALAX.ipynb\n",
      "Skyserver_SQL6_10_2020 11_22_17 PM.csv validationGALAXJup.ipynb\n",
      "Skyserver_SQL6_10_2020 8_42_32 PM.csv  validationGALAXV.ipynb\n"
     ]
    }
   ],
   "source": [
    "#pip install  tensorflow==1.15\n",
    "#os.chdir(work_dir)\n",
    "!ls"
   ]
  },
  {
   "cell_type": "code",
   "execution_count": null,
   "metadata": {
    "jupyter": {
     "source_hidden": true
    }
   },
   "outputs": [],
   "source": []
  },
  {
   "cell_type": "code",
   "execution_count": 2,
   "metadata": {},
   "outputs": [
    {
     "name": "stdout",
     "output_type": "stream",
     "text": [
      "Version de Tensorflow\n",
      "1.15.0\n"
     ]
    }
   ],
   "source": [
    "from __future__ import print_function\n",
    "\n",
    "import math\n",
    "import tensorflow\n",
    "\n",
    "from IPython import display\n",
    "from matplotlib import cm\n",
    "from matplotlib import gridspec\n",
    "from matplotlib import pyplot as plt\n",
    "import numpy as np\n",
    "import pandas as pd\n",
    "from sklearn import metrics\n",
    "#tensorflow_version 1.x\n",
    "import tensorflow as tf\n",
    "print(\"Version de Tensorflow\") \n",
    "print (tensorflow.__version__)\n",
    "from tensorflow.python.data import Dataset\n",
    "\n",
    "from sklearn.datasets import make_blobs\n",
    "from sklearn.naive_bayes import GaussianNB\n",
    "from sklearn.metrics import brier_score_loss\n",
    "from sklearn.calibration import CalibratedClassifierCV\n",
    "from sklearn.model_selection import train_test_split\n",
    "\n",
    "#tf.logging.set_verbosity(tf.logging.ERROR)\n",
    "pd.options.display.max_rows = 10\n",
    "pd.options.display.float_format = '{:.1f}'.format#### Lectura de Archivo.#### Lectura de Archivo.#### Lectura de Archivo."
   ]
  },
  {
   "cell_type": "markdown",
   "metadata": {
    "colab_type": "text",
    "id": "copyright-notice"
   },
   "source": [
    "## Lectura de Archivo"
   ]
  },
  {
   "cell_type": "code",
   "execution_count": 3,
   "metadata": {},
   "outputs": [],
   "source": [
    "skyserver = pd.read_csv(\"Skyserver_SQL4_21_2020 2_08_34 PM.csv\", sep=\",\", header =1)\n",
    "skyserver.head()\n",
    "skyserver['class'] = skyserver['class'].replace({'GALAXY':0, 'QSO':1})"
   ]
  },
  {
   "cell_type": "markdown",
   "metadata": {},
   "source": [
    "#### Reorganizacion aleatoria de los datos"
   ]
  },
  {
   "cell_type": "code",
   "execution_count": 4,
   "metadata": {},
   "outputs": [
    {
     "data": {
      "text/html": [
       "<div>\n",
       "<style scoped>\n",
       "    .dataframe tbody tr th:only-of-type {\n",
       "        vertical-align: middle;\n",
       "    }\n",
       "\n",
       "    .dataframe tbody tr th {\n",
       "        vertical-align: top;\n",
       "    }\n",
       "\n",
       "    .dataframe thead th {\n",
       "        text-align: right;\n",
       "    }\n",
       "</style>\n",
       "<table border=\"1\" class=\"dataframe\">\n",
       "  <thead>\n",
       "    <tr style=\"text-align: right;\">\n",
       "      <th></th>\n",
       "      <th>ObjID</th>\n",
       "      <th>class</th>\n",
       "      <th>ra</th>\n",
       "      <th>dec</th>\n",
       "      <th>z</th>\n",
       "      <th>h_beta_flux</th>\n",
       "      <th>oiii_5007_flux</th>\n",
       "      <th>h_alpha_flux</th>\n",
       "      <th>nii_6584_flux</th>\n",
       "    </tr>\n",
       "  </thead>\n",
       "  <tbody>\n",
       "    <tr>\n",
       "      <th>217681</th>\n",
       "      <td>1237660669282353323</td>\n",
       "      <td>0</td>\n",
       "      <td>158.1</td>\n",
       "      <td>10.5</td>\n",
       "      <td>0.1</td>\n",
       "      <td>4.4</td>\n",
       "      <td>0.8</td>\n",
       "      <td>15.4</td>\n",
       "      <td>2.9</td>\n",
       "    </tr>\n",
       "    <tr>\n",
       "      <th>109698</th>\n",
       "      <td>1237654653641490609</td>\n",
       "      <td>0</td>\n",
       "      <td>133.6</td>\n",
       "      <td>48.2</td>\n",
       "      <td>0.1</td>\n",
       "      <td>-75.1</td>\n",
       "      <td>4.2</td>\n",
       "      <td>2.4</td>\n",
       "      <td>2.3</td>\n",
       "    </tr>\n",
       "    <tr>\n",
       "      <th>301920</th>\n",
       "      <td>1237661069789233326</td>\n",
       "      <td>0</td>\n",
       "      <td>159.5</td>\n",
       "      <td>13.7</td>\n",
       "      <td>0.1</td>\n",
       "      <td>48.7</td>\n",
       "      <td>13.1</td>\n",
       "      <td>259.3</td>\n",
       "      <td>87.2</td>\n",
       "    </tr>\n",
       "    <tr>\n",
       "      <th>172647</th>\n",
       "      <td>1237655370904371342</td>\n",
       "      <td>0</td>\n",
       "      <td>212.0</td>\n",
       "      <td>60.6</td>\n",
       "      <td>0.2</td>\n",
       "      <td>0.5</td>\n",
       "      <td>5.3</td>\n",
       "      <td>13.0</td>\n",
       "      <td>12.3</td>\n",
       "    </tr>\n",
       "    <tr>\n",
       "      <th>7508</th>\n",
       "      <td>1237651190287040622</td>\n",
       "      <td>0</td>\n",
       "      <td>139.9</td>\n",
       "      <td>55.7</td>\n",
       "      <td>0.0</td>\n",
       "      <td>57.7</td>\n",
       "      <td>14.9</td>\n",
       "      <td>290.9</td>\n",
       "      <td>96.1</td>\n",
       "    </tr>\n",
       "    <tr>\n",
       "      <th>...</th>\n",
       "      <td>...</td>\n",
       "      <td>...</td>\n",
       "      <td>...</td>\n",
       "      <td>...</td>\n",
       "      <td>...</td>\n",
       "      <td>...</td>\n",
       "      <td>...</td>\n",
       "      <td>...</td>\n",
       "      <td>...</td>\n",
       "    </tr>\n",
       "    <tr>\n",
       "      <th>412308</th>\n",
       "      <td>1237662337869283657</td>\n",
       "      <td>0</td>\n",
       "      <td>247.9</td>\n",
       "      <td>27.7</td>\n",
       "      <td>0.1</td>\n",
       "      <td>20.4</td>\n",
       "      <td>1.7</td>\n",
       "      <td>80.9</td>\n",
       "      <td>33.7</td>\n",
       "    </tr>\n",
       "    <tr>\n",
       "      <th>359900</th>\n",
       "      <td>1237661384387985542</td>\n",
       "      <td>0</td>\n",
       "      <td>158.6</td>\n",
       "      <td>40.4</td>\n",
       "      <td>0.1</td>\n",
       "      <td>19.7</td>\n",
       "      <td>8.2</td>\n",
       "      <td>64.9</td>\n",
       "      <td>24.1</td>\n",
       "    </tr>\n",
       "    <tr>\n",
       "      <th>272806</th>\n",
       "      <td>1237658919071842406</td>\n",
       "      <td>0</td>\n",
       "      <td>205.2</td>\n",
       "      <td>54.6</td>\n",
       "      <td>0.1</td>\n",
       "      <td>19.4</td>\n",
       "      <td>28.0</td>\n",
       "      <td>98.0</td>\n",
       "      <td>54.5</td>\n",
       "    </tr>\n",
       "    <tr>\n",
       "      <th>144842</th>\n",
       "      <td>1237657856068944011</td>\n",
       "      <td>0</td>\n",
       "      <td>165.4</td>\n",
       "      <td>50.4</td>\n",
       "      <td>0.1</td>\n",
       "      <td>38.0</td>\n",
       "      <td>4.3</td>\n",
       "      <td>165.0</td>\n",
       "      <td>59.2</td>\n",
       "    </tr>\n",
       "    <tr>\n",
       "      <th>494679</th>\n",
       "      <td>1237663542607741989</td>\n",
       "      <td>0</td>\n",
       "      <td>326.9</td>\n",
       "      <td>-0.4</td>\n",
       "      <td>0.1</td>\n",
       "      <td>8.6</td>\n",
       "      <td>4.7</td>\n",
       "      <td>37.1</td>\n",
       "      <td>11.6</td>\n",
       "    </tr>\n",
       "  </tbody>\n",
       "</table>\n",
       "<p>500000 rows × 9 columns</p>\n",
       "</div>"
      ],
      "text/plain": [
       "                      ObjID  class    ra  dec   z  h_beta_flux  \\\n",
       "217681  1237660669282353323      0 158.1 10.5 0.1          4.4   \n",
       "109698  1237654653641490609      0 133.6 48.2 0.1        -75.1   \n",
       "301920  1237661069789233326      0 159.5 13.7 0.1         48.7   \n",
       "172647  1237655370904371342      0 212.0 60.6 0.2          0.5   \n",
       "7508    1237651190287040622      0 139.9 55.7 0.0         57.7   \n",
       "...                     ...    ...   ...  ...  ..          ...   \n",
       "412308  1237662337869283657      0 247.9 27.7 0.1         20.4   \n",
       "359900  1237661384387985542      0 158.6 40.4 0.1         19.7   \n",
       "272806  1237658919071842406      0 205.2 54.6 0.1         19.4   \n",
       "144842  1237657856068944011      0 165.4 50.4 0.1         38.0   \n",
       "494679  1237663542607741989      0 326.9 -0.4 0.1          8.6   \n",
       "\n",
       "        oiii_5007_flux  h_alpha_flux  nii_6584_flux  \n",
       "217681             0.8          15.4            2.9  \n",
       "109698             4.2           2.4            2.3  \n",
       "301920            13.1         259.3           87.2  \n",
       "172647             5.3          13.0           12.3  \n",
       "7508              14.9         290.9           96.1  \n",
       "...                ...           ...            ...  \n",
       "412308             1.7          80.9           33.7  \n",
       "359900             8.2          64.9           24.1  \n",
       "272806            28.0          98.0           54.5  \n",
       "144842             4.3         165.0           59.2  \n",
       "494679             4.7          37.1           11.6  \n",
       "\n",
       "[500000 rows x 9 columns]"
      ]
     },
     "execution_count": 4,
     "metadata": {},
     "output_type": "execute_result"
    }
   ],
   "source": [
    "skyserver = skyserver.reindex(\n",
    "    np.random.permutation(skyserver.index))\n",
    "skyserver[\"z\"] /= 1.0\n",
    "skyserver"
   ]
  },
  {
   "cell_type": "markdown",
   "metadata": {},
   "source": [
    "## Analisis estadístico de la muestra"
   ]
  },
  {
   "cell_type": "code",
   "execution_count": 5,
   "metadata": {},
   "outputs": [
    {
     "data": {
      "text/html": [
       "<div>\n",
       "<style scoped>\n",
       "    .dataframe tbody tr th:only-of-type {\n",
       "        vertical-align: middle;\n",
       "    }\n",
       "\n",
       "    .dataframe tbody tr th {\n",
       "        vertical-align: top;\n",
       "    }\n",
       "\n",
       "    .dataframe thead th {\n",
       "        text-align: right;\n",
       "    }\n",
       "</style>\n",
       "<table border=\"1\" class=\"dataframe\">\n",
       "  <thead>\n",
       "    <tr style=\"text-align: right;\">\n",
       "      <th></th>\n",
       "      <th>ObjID</th>\n",
       "      <th>class</th>\n",
       "      <th>ra</th>\n",
       "      <th>dec</th>\n",
       "      <th>z</th>\n",
       "      <th>h_beta_flux</th>\n",
       "      <th>oiii_5007_flux</th>\n",
       "      <th>h_alpha_flux</th>\n",
       "      <th>nii_6584_flux</th>\n",
       "    </tr>\n",
       "  </thead>\n",
       "  <tbody>\n",
       "    <tr>\n",
       "      <th>count</th>\n",
       "      <td>500000.0</td>\n",
       "      <td>500000.0</td>\n",
       "      <td>500000.0</td>\n",
       "      <td>500000.0</td>\n",
       "      <td>500000.0</td>\n",
       "      <td>500000.0</td>\n",
       "      <td>500000.0</td>\n",
       "      <td>500000.0</td>\n",
       "      <td>500000.0</td>\n",
       "    </tr>\n",
       "    <tr>\n",
       "      <th>mean</th>\n",
       "      <td>1237658689673618688.0</td>\n",
       "      <td>0.0</td>\n",
       "      <td>184.8</td>\n",
       "      <td>25.3</td>\n",
       "      <td>0.1</td>\n",
       "      <td>1582999.4</td>\n",
       "      <td>3366255.1</td>\n",
       "      <td>44693246472.0</td>\n",
       "      <td>1080773.3</td>\n",
       "    </tr>\n",
       "    <tr>\n",
       "      <th>std</th>\n",
       "      <td>4506804555380.8</td>\n",
       "      <td>0.0</td>\n",
       "      <td>69.9</td>\n",
       "      <td>21.4</td>\n",
       "      <td>0.1</td>\n",
       "      <td>109438503.8</td>\n",
       "      <td>408961288.4</td>\n",
       "      <td>31593191834882.9</td>\n",
       "      <td>61615048.5</td>\n",
       "    </tr>\n",
       "    <tr>\n",
       "      <th>min</th>\n",
       "      <td>1237645879551066368.0</td>\n",
       "      <td>0.0</td>\n",
       "      <td>0.0</td>\n",
       "      <td>-11.3</td>\n",
       "      <td>-0.0</td>\n",
       "      <td>-670374200.0</td>\n",
       "      <td>-320867400.0</td>\n",
       "      <td>-153402600000.0</td>\n",
       "      <td>-1067148000.0</td>\n",
       "    </tr>\n",
       "    <tr>\n",
       "      <th>25%</th>\n",
       "      <td>1237655128761745664.0</td>\n",
       "      <td>0.0</td>\n",
       "      <td>147.7</td>\n",
       "      <td>5.1</td>\n",
       "      <td>0.1</td>\n",
       "      <td>4.4</td>\n",
       "      <td>4.7</td>\n",
       "      <td>13.5</td>\n",
       "      <td>9.2</td>\n",
       "    </tr>\n",
       "    <tr>\n",
       "      <th>50%</th>\n",
       "      <td>1237659325490463232.0</td>\n",
       "      <td>0.0</td>\n",
       "      <td>186.7</td>\n",
       "      <td>27.0</td>\n",
       "      <td>0.1</td>\n",
       "      <td>13.5</td>\n",
       "      <td>10.2</td>\n",
       "      <td>51.0</td>\n",
       "      <td>26.2</td>\n",
       "    </tr>\n",
       "    <tr>\n",
       "      <th>75%</th>\n",
       "      <td>1237662238565794304.0</td>\n",
       "      <td>0.0</td>\n",
       "      <td>226.3</td>\n",
       "      <td>43.6</td>\n",
       "      <td>0.1</td>\n",
       "      <td>36.9</td>\n",
       "      <td>22.0</td>\n",
       "      <td>154.2</td>\n",
       "      <td>61.3</td>\n",
       "    </tr>\n",
       "    <tr>\n",
       "      <th>max</th>\n",
       "      <td>1237667255079862272.0</td>\n",
       "      <td>1.0</td>\n",
       "      <td>360.0</td>\n",
       "      <td>70.3</td>\n",
       "      <td>0.4</td>\n",
       "      <td>38871370000.0</td>\n",
       "      <td>200374900000.0</td>\n",
       "      <td>22339760000000000.0</td>\n",
       "      <td>11168550000.0</td>\n",
       "    </tr>\n",
       "  </tbody>\n",
       "</table>\n",
       "</div>"
      ],
      "text/plain": [
       "                      ObjID    class       ra      dec        z   h_beta_flux  \\\n",
       "count              500000.0 500000.0 500000.0 500000.0 500000.0      500000.0   \n",
       "mean  1237658689673618688.0      0.0    184.8     25.3      0.1     1582999.4   \n",
       "std         4506804555380.8      0.0     69.9     21.4      0.1   109438503.8   \n",
       "min   1237645879551066368.0      0.0      0.0    -11.3     -0.0  -670374200.0   \n",
       "25%   1237655128761745664.0      0.0    147.7      5.1      0.1           4.4   \n",
       "50%   1237659325490463232.0      0.0    186.7     27.0      0.1          13.5   \n",
       "75%   1237662238565794304.0      0.0    226.3     43.6      0.1          36.9   \n",
       "max   1237667255079862272.0      1.0    360.0     70.3      0.4 38871370000.0   \n",
       "\n",
       "       oiii_5007_flux        h_alpha_flux  nii_6584_flux  \n",
       "count        500000.0            500000.0       500000.0  \n",
       "mean        3366255.1       44693246472.0      1080773.3  \n",
       "std       408961288.4    31593191834882.9     61615048.5  \n",
       "min      -320867400.0     -153402600000.0  -1067148000.0  \n",
       "25%               4.7                13.5            9.2  \n",
       "50%              10.2                51.0           26.2  \n",
       "75%              22.0               154.2           61.3  \n",
       "max    200374900000.0 22339760000000000.0  11168550000.0  "
      ]
     },
     "execution_count": 5,
     "metadata": {},
     "output_type": "execute_result"
    }
   ],
   "source": [
    "skyserver.describe()"
   ]
  },
  {
   "cell_type": "code",
   "execution_count": 6,
   "metadata": {},
   "outputs": [
    {
     "name": "stdout",
     "output_type": "stream",
     "text": [
      "<class 'pandas.core.frame.DataFrame'>\n",
      "Int64Index: 500000 entries, 217681 to 494679\n",
      "Data columns (total 9 columns):\n",
      " #   Column          Non-Null Count   Dtype  \n",
      "---  ------          --------------   -----  \n",
      " 0   ObjID           500000 non-null  int64  \n",
      " 1   class           500000 non-null  int64  \n",
      " 2   ra              500000 non-null  float64\n",
      " 3   dec             500000 non-null  float64\n",
      " 4   z               500000 non-null  float64\n",
      " 5   h_beta_flux     500000 non-null  float64\n",
      " 6   oiii_5007_flux  500000 non-null  float64\n",
      " 7   h_alpha_flux    500000 non-null  float64\n",
      " 8   nii_6584_flux   500000 non-null  float64\n",
      "dtypes: float64(7), int64(2)\n",
      "memory usage: 38.1 MB\n"
     ]
    }
   ],
   "source": [
    "skyserver.info()"
   ]
  },
  {
   "cell_type": "code",
   "execution_count": 7,
   "metadata": {},
   "outputs": [
    {
     "name": "stdout",
     "output_type": "stream",
     "text": [
      "[0 1]\n"
     ]
    },
    {
     "data": {
      "text/plain": [
       "0    499553\n",
       "1       447\n",
       "Name: class, dtype: int64"
      ]
     },
     "execution_count": 7,
     "metadata": {},
     "output_type": "execute_result"
    }
   ],
   "source": [
    "skyserver.columns\n",
    "print(skyserver['class'].unique())\n",
    "skyserver['class'].value_counts(normalize = False)"
   ]
  },
  {
   "cell_type": "markdown",
   "metadata": {},
   "source": [
    "#### Creacion de las razones de Flujo"
   ]
  },
  {
   "cell_type": "code",
   "execution_count": 8,
   "metadata": {},
   "outputs": [
    {
     "name": "stderr",
     "output_type": "stream",
     "text": [
      "/Users/marioahiguerag/opt/anaconda3/lib/python3.7/site-packages/pandas/core/series.py:679: RuntimeWarning: invalid value encountered in log10\n",
      "  result = getattr(ufunc, method)(*inputs, **kwargs)\n"
     ]
    }
   ],
   "source": [
    "import numpy as np\n",
    "skyserver['oiiihb']=np.log10(skyserver['oiii_5007_flux']/skyserver['h_beta_flux'])\n",
    "skyserver['niiha']=np.log10(skyserver['nii_6584_flux']/skyserver['h_alpha_flux'])"
   ]
  },
  {
   "cell_type": "code",
   "execution_count": 9,
   "metadata": {},
   "outputs": [],
   "source": [
    "skyserver = skyserver.dropna(subset = ['oiiihb', 'niiha'], how = 'any')"
   ]
  },
  {
   "cell_type": "markdown",
   "metadata": {},
   "source": [
    "## Grafico de la Muestra de galaxias y curva de Kewley"
   ]
  },
  {
   "cell_type": "code",
   "execution_count": 10,
   "metadata": {},
   "outputs": [
    {
     "data": {
      "text/plain": [
       "(-3.6, 3.6)"
      ]
     },
     "execution_count": 10,
     "metadata": {},
     "output_type": "execute_result"
    },
    {
     "data": {
      "image/png": "[encoded data removed]",
      "text/plain": [
       "<Figure size 432x288 with 1 Axes>"
      ]
     },
     "metadata": {
      "needs_background": "light"
     },
     "output_type": "display_data"
    }
   ],
   "source": [
    "import seaborn as sns\n",
    "\n",
    "aux0 = skyserver[skyserver['class']==0]\n",
    "aux1 = skyserver[skyserver['class']==1]\n",
    "plt.scatter(x = aux0['niiha'], y = aux0['oiiihb'], color='red', marker = '.', alpha = 0.75)\n",
    "plt.scatter(x = aux1['niiha'], y = aux1['oiiihb'], color='red', marker = '.', alpha = 0.75)\n",
    "\n",
    "# Kewley\n",
    "\n",
    "x1 = np.linspace(-3.6,0.469)\n",
    "y1 = 1.19 + (0.61/(x1-0.47))\n",
    "\n",
    "plt.plot(x1, y1, '--' , color='black',lw=1, label='Kewley' ) \n",
    "\n",
    "plt.xlim(-3.6,3.6)\n",
    "plt.ylim(-3.6,3.6)"
   ]
  },
  {
   "cell_type": "markdown",
   "metadata": {},
   "source": [
    "## Separación de la Muestra de galaxias y curvas de Kewley, Kauffman y Cid-Fernandes"
   ]
  },
  {
   "cell_type": "code",
   "execution_count": 11,
   "metadata": {},
   "outputs": [
    {
     "data": {
      "text/plain": [
       "Text(0, 0.5, 'Log([OIII]5007]/Hbeta)')"
      ]
     },
     "execution_count": 11,
     "metadata": {},
     "output_type": "execute_result"
    },
    {
     "data": {
      "image/png": "[encoded data removed]",
      "text/plain": [
       "<Figure size 432x288 with 1 Axes>"
      ]
     },
     "metadata": {
      "needs_background": "light"
     },
     "output_type": "display_data"
    }
   ],
   "source": [
    "import seaborn as sns\n",
    "\n",
    "aux0 = skyserver[skyserver['class']==0]\n",
    "aux1 = skyserver[skyserver['class']==1]\n",
    "#plt.scatter(x = aux0['niiha'], y = aux0['oiiihb'], color='red', marker = '.', alpha = 1)\n",
    "#plt.scatter(x = aux1['niiha'], y = aux1['oiiihb'], color='blue', marker = '+')\n",
    "ejey = skyserver['oiiihb']\n",
    "ejex = skyserver['niiha']\n",
    "\n",
    "fig = plt.figure()\n",
    "ax = fig.add_subplot(1,1,1)\n",
    "\n",
    "\n",
    "# Kewley\n",
    "\n",
    "x1 = np.linspace(-3.6,0.469)\n",
    "y1 = 1.19 + (0.61/(x1-0.47))\n",
    "\n",
    "#Kauffman\n",
    "\n",
    "x2 = np.linspace(-3.6,0.0) \n",
    "y2 = 1.3 + (0.61/(x2-0.05))\n",
    "\n",
    "#Cid-Fernandes\n",
    "\n",
    "x3 = np.linspace(-0.1,4.0) \n",
    "y3 = 0.48 +1.01*x3\n",
    "\n",
    "\n",
    "ax.plot(x1, y1, '--' , color='black',lw=1, label='Kewley' ) \n",
    "ax.plot(x2, y2, '-' , color='black', lw=1, label='Kauffman' ) \n",
    "ax.plot(x3, y3, '-' , color='black', lw=1, label='Cid. Fernandes' ) \n",
    "ax.set_ylim(-3.6,3.6) \n",
    "ax.set_xlim(-2.7,1.9) \n",
    "\n",
    "\n",
    "c1 = ejey < np.interp(ejex, x1, y1) \n",
    "c2 = (ejey < np.interp(ejex, x1, y1)) & (ejey > np.interp(ejex, x2, y2)) \n",
    "c3 = (ejey < np.interp(ejex, x3, y3)) & (ejey > np.interp(ejex, x1, y1)) \n",
    "c4 = (ejey > np.interp(ejex, x1, y1)) & (ejey > np.interp(ejex, x3, y3))\n",
    "\n",
    "ax.scatter(ejex, ejey, c1, facecolors=\"none\",edgecolors=\"red\") \n",
    "ax.scatter(ejex, ejey, c2, facecolors=\"none\",edgecolors=\"violet\") \n",
    "ax.scatter(ejex, ejey, c3, facecolors=\"none\",edgecolors=\"y\") \n",
    "ax.scatter(ejex, ejey, c4, facecolors=\"none\",edgecolors=\"blue\") \n",
    "\n",
    "ax.set_xlabel(r'Log([NII]6583/Halpha)') \n",
    "ax.set_ylabel(r'Log([OIII]5007]/Hbeta)')"
   ]
  },
  {
   "cell_type": "markdown",
   "metadata": {},
   "source": [
    "### Datos de trabajo: [NII/Halpha] y [OIII/Hbeta]"
   ]
  },
  {
   "cell_type": "markdown",
   "metadata": {},
   "source": [
    "### Analisis de regresión lineal"
   ]
  },
  {
   "cell_type": "code",
   "execution_count": 12,
   "metadata": {},
   "outputs": [],
   "source": [
    "# Se define la variable a trabajar:\n",
    "my_feature = skyserver[[\"h_beta_flux\"]]\n",
    "##my_feature2= skyserver[[\"niiha\"]]\n",
    "\n",
    "# Configure a numeric feature column razon oiii/hb.\n",
    "feature_columns = [tf.feature_column.numeric_column(\"h_beta_flux\")]"
   ]
  },
  {
   "cell_type": "code",
   "execution_count": 13,
   "metadata": {},
   "outputs": [],
   "source": [
    "# Se define la variable Objetivo\n",
    "targets = skyserver['oiiihb']\n",
    "##target2 = skyserver['niiha']"
   ]
  },
  {
   "cell_type": "code",
   "execution_count": 14,
   "metadata": {},
   "outputs": [
    {
     "name": "stdout",
     "output_type": "stream",
     "text": [
      "WARNING:tensorflow:\n",
      "The TensorFlow contrib module will not be included in TensorFlow 2.0.\n",
      "For more information, please see:\n",
      "  * https://github.com/tensorflow/community/blob/master/rfcs/20180907-contrib-sunset.md\n",
      "  * https://github.com/tensorflow/addons\n",
      "  * https://github.com/tensorflow/io (for I/O related ops)\n",
      "If you depend on functionality not listed there, please file an issue.\n",
      "\n",
      "INFO:tensorflow:Using default config.\n",
      "WARNING:tensorflow:Using temporary folder as model directory: /var/folders/bd/f5q27jzs5bz1yq4v_51d4dgh0000gn/T/tmptzdmc_os\n",
      "INFO:tensorflow:Using config: {'_model_dir': '/var/folders/bd/f5q27jzs5bz1yq4v_51d4dgh0000gn/T/tmptzdmc_os', '_tf_random_seed': None, '_save_summary_steps': 100, '_save_checkpoints_steps': None, '_save_checkpoints_secs': 600, '_session_config': allow_soft_placement: true\n",
      "graph_options {\n",
      "  rewrite_options {\n",
      "    meta_optimizer_iterations: ONE\n",
      "  }\n",
      "}\n",
      ", '_keep_checkpoint_max': 5, '_keep_checkpoint_every_n_hours': 10000, '_log_step_count_steps': 100, '_train_distribute': None, '_device_fn': None, '_protocol': None, '_eval_distribute': None, '_experimental_distribute': None, '_experimental_max_worker_delay_secs': None, '_session_creation_timeout_secs': 7200, '_service': None, '_cluster_spec': <tensorflow.python.training.server_lib.ClusterSpec object at 0x7faef784a350>, '_task_type': 'worker', '_task_id': 0, '_global_id_in_cluster': 0, '_master': '', '_evaluation_master': '', '_is_chief': True, '_num_ps_replicas': 0, '_num_worker_replicas': 1}\n"
     ]
    }
   ],
   "source": [
    "# Use gradient descent as the optimizer for training the model.\n",
    "my_optimizer=tf.train.GradientDescentOptimizer(learning_rate=0.0000001)\n",
    "my_optimizer = tf.contrib.estimator.clip_gradients_by_norm(my_optimizer, 5.0)\n",
    "\n",
    "# Configure the linear regression model with our feature columns and optimizer.\n",
    "# Set a learning rate of 0.0000001 for Gradient Descent.\n",
    "linear_regressor = tf.estimator.LinearRegressor(\n",
    "    feature_columns=feature_columns,\n",
    "    optimizer=my_optimizer\n",
    ")"
   ]
  },
  {
   "cell_type": "code",
   "execution_count": 13,
   "metadata": {
    "collapsed": true,
    "jupyter": {
     "outputs_hidden": true,
     "source_hidden": true
    }
   },
   "outputs": [
    {
     "name": "stdout",
     "output_type": "stream",
     "text": [
      "INFO:tensorflow:Using default config.\n",
      "WARNING:tensorflow:Using temporary folder as model directory: /var/folders/bd/f5q27jzs5bz1yq4v_51d4dgh0000gn/T/tmpz0x3w2cq\n",
      "INFO:tensorflow:Using config: {'_model_dir': '/var/folders/bd/f5q27jzs5bz1yq4v_51d4dgh0000gn/T/tmpz0x3w2cq', '_tf_random_seed': None, '_save_summary_steps': 100, '_save_checkpoints_steps': None, '_save_checkpoints_secs': 600, '_session_config': allow_soft_placement: true\n",
      "graph_options {\n",
      "  rewrite_options {\n",
      "    meta_optimizer_iterations: ONE\n",
      "  }\n",
      "}\n",
      ", '_keep_checkpoint_max': 5, '_keep_checkpoint_every_n_hours': 10000, '_log_step_count_steps': 100, '_train_distribute': None, '_device_fn': None, '_protocol': None, '_eval_distribute': None, '_experimental_distribute': None, '_experimental_max_worker_delay_secs': None, '_session_creation_timeout_secs': 7200, '_service': None, '_cluster_spec': ClusterSpec({}), '_task_type': 'worker', '_task_id': 0, '_global_id_in_cluster': 0, '_master': '', '_evaluation_master': '', '_is_chief': True, '_num_ps_replicas': 0, '_num_worker_replicas': 1}\n"
     ]
    }
   ],
   "source": [
    "\"\"\"\"\"from tensorflow.keras import optimizers\n",
    "my_optimizer = optimizers.SGD(lr=0.0000001, clipnorm=5.0)\n",
    "\n",
    "# Configure the linear regression model with our feature columns and optimizer.\n",
    "# Set a learning rate of 0.0000001 for Gradient Descent.\n",
    "linear_regressor = tf.estimator.LinearRegressor(\n",
    "    feature_columns=feature_columns,\n",
    "    optimizer=my_optimizer\n",
    ")"
   ]
  },
  {
   "cell_type": "code",
   "execution_count": 15,
   "metadata": {},
   "outputs": [],
   "source": [
    "def my_input_fn(features, targets, batch_size=1, shuffle=True, num_epochs=None):\n",
    "    \"\"\"Trains a linear regression model of one feature.\n",
    "  \n",
    "    Args:\n",
    "      features: pandas DataFrame of features\n",
    "      targets: pandas DataFrame of targets\n",
    "      batch_size: Size of batches to be passed to the model\n",
    "      shuffle: True or False. Whether to shuffle the data.\n",
    "      num_epochs: Number of epochs for which data should be repeated. None = repeat indefinitely\n",
    "    Returns:\n",
    "      Tuple of (features, labels) for next data batch\n",
    "    \"\"\"\n",
    "  \n",
    "    # Convert pandas data into a dict of np arrays.\n",
    "    features = {key:np.array(value) for key,value in dict(features).items()}                                           \n",
    " \n",
    "    # Construct a dataset, and configure batching/repeating.\n",
    "    ds = Dataset.from_tensor_slices((features,targets)) # warning: 2GB limit\n",
    "    ds = ds.batch(batch_size).repeat(num_epochs)\n",
    "    \n",
    "    # Shuffle the data, if specified.\n",
    "    if shuffle:\n",
    "      ds = ds.shuffle(buffer_size=10000)\n",
    "    \n",
    "    # Return the next batch of data.\n",
    "    features, labels = ds.make_one_shot_iterator().get_next()\n",
    "    return features, labels"
   ]
  },
  {
   "cell_type": "code",
   "execution_count": 16,
   "metadata": {},
   "outputs": [
    {
     "name": "stdout",
     "output_type": "stream",
     "text": [
      "WARNING:tensorflow:From /Users/marioahiguerag/opt/anaconda3/lib/python3.7/site-packages/tensorflow_core/python/training/training_util.py:236: Variable.initialized_value (from tensorflow.python.ops.variables) is deprecated and will be removed in a future version.\n",
      "Instructions for updating:\n",
      "Use Variable.read_value. Variables in 2.X are initialized automatically both in eager and graph (inside tf.defun) contexts.\n",
      "WARNING:tensorflow:From <ipython-input-15-ebaeabfee910>:26: DatasetV1.make_one_shot_iterator (from tensorflow.python.data.ops.dataset_ops) is deprecated and will be removed in a future version.\n",
      "Instructions for updating:\n",
      "Use `for ... in dataset:` to iterate over a dataset. If using `tf.estimator`, return the `Dataset` object directly from your input function. As a last resort, you can use `tf.compat.v1.data.make_one_shot_iterator(dataset)`.\n",
      "INFO:tensorflow:Calling model_fn.\n",
      "WARNING:tensorflow:From /Users/marioahiguerag/opt/anaconda3/lib/python3.7/site-packages/tensorflow_core/python/feature_column/feature_column_v2.py:305: Layer.add_variable (from tensorflow.python.keras.engine.base_layer) is deprecated and will be removed in a future version.\n",
      "Instructions for updating:\n",
      "Please use `layer.add_weight` method instead.\n",
      "WARNING:tensorflow:From /Users/marioahiguerag/opt/anaconda3/lib/python3.7/site-packages/tensorflow_core/python/ops/resource_variable_ops.py:1630: calling BaseResourceVariable.__init__ (from tensorflow.python.ops.resource_variable_ops) with constraint is deprecated and will be removed in a future version.\n",
      "Instructions for updating:\n",
      "If using Keras pass *_constraint arguments to layers.\n",
      "WARNING:tensorflow:From /Users/marioahiguerag/opt/anaconda3/lib/python3.7/site-packages/tensorflow_estimator/python/estimator/canned/linear.py:308: to_float (from tensorflow.python.ops.math_ops) is deprecated and will be removed in a future version.\n",
      "Instructions for updating:\n",
      "Use `tf.cast` instead.\n",
      "WARNING:tensorflow:From /Users/marioahiguerag/opt/anaconda3/lib/python3.7/site-packages/tensorflow_core/python/ops/clip_ops.py:301: where (from tensorflow.python.ops.array_ops) is deprecated and will be removed in a future version.\n",
      "Instructions for updating:\n",
      "Use tf.where in 2.0, which has the same broadcast rule as np.where\n",
      "INFO:tensorflow:Done calling model_fn.\n",
      "INFO:tensorflow:Create CheckpointSaverHook.\n",
      "INFO:tensorflow:Graph was finalized.\n",
      "INFO:tensorflow:Running local_init_op.\n",
      "INFO:tensorflow:Done running local_init_op.\n",
      "INFO:tensorflow:Saving checkpoints for 0 into /var/folders/bd/f5q27jzs5bz1yq4v_51d4dgh0000gn/T/tmptzdmc_os/model.ckpt.\n",
      "INFO:tensorflow:loss = 0.0062990435, step = 1\n",
      "INFO:tensorflow:Saving checkpoints for 100 into /var/folders/bd/f5q27jzs5bz1yq4v_51d4dgh0000gn/T/tmptzdmc_os/model.ckpt.\n",
      "INFO:tensorflow:Loss for final step: 0.3019224.\n"
     ]
    }
   ],
   "source": [
    "_ = linear_regressor.train(\n",
    "    input_fn = lambda:my_input_fn(my_feature, targets),\n",
    "    steps=100\n",
    ")"
   ]
  },
  {
   "cell_type": "markdown",
   "metadata": {},
   "source": [
    "### Se evalua el modelo"
   ]
  },
  {
   "cell_type": "code",
   "execution_count": 17,
   "metadata": {},
   "outputs": [
    {
     "name": "stdout",
     "output_type": "stream",
     "text": [
      "INFO:tensorflow:Calling model_fn.\n",
      "INFO:tensorflow:Done calling model_fn.\n",
      "INFO:tensorflow:Graph was finalized.\n",
      "INFO:tensorflow:Restoring parameters from /var/folders/bd/f5q27jzs5bz1yq4v_51d4dgh0000gn/T/tmptzdmc_os/model.ckpt-100\n",
      "INFO:tensorflow:Running local_init_op.\n",
      "INFO:tensorflow:Done running local_init_op.\n",
      "Mean Squared Error (on training data): 2443188.064\n",
      "Root Mean Squared Error (on training data): 1563.070\n"
     ]
    }
   ],
   "source": [
    "# Create an input function for predictions.\n",
    "# Note: Since we're making just one prediction for each example, we don't \n",
    "# need to repeat or shuffle the data here.\n",
    "prediction_input_fn =lambda: my_input_fn(my_feature, targets, num_epochs=1, shuffle=False)\n",
    "\n",
    "# Call predict() on the linear_regressor to make predictions.\n",
    "predictions = linear_regressor.predict(input_fn=prediction_input_fn)\n",
    "\n",
    "# Format predictions as a NumPy array, so we can calculate error metrics.\n",
    "predictions = np.array([item['predictions'][0] for item in predictions])\n",
    "\n",
    "# Print Mean Squared Error and Root Mean Squared Error.\n",
    "mean_squared_error = metrics.mean_squared_error(predictions, targets)\n",
    "root_mean_squared_error = math.sqrt(mean_squared_error)\n",
    "print(\"Mean Squared Error (on training data): %0.3f\" % mean_squared_error)\n",
    "print(\"Root Mean Squared Error (on training data): %0.3f\" % root_mean_squared_error)"
   ]
  },
  {
   "cell_type": "code",
   "execution_count": 18,
   "metadata": {},
   "outputs": [
    {
     "name": "stdout",
     "output_type": "stream",
     "text": [
      "Min. oiiihb: -5.780\n",
      "Max. oiiihb: 6.540\n",
      "Difference between Min. and Max.: 12.320\n",
      "Root Mean Squared Error: 1563.070\n"
     ]
    }
   ],
   "source": [
    "min_oiiihb = skyserver[\"oiiihb\"].min()\n",
    "max_oiiihb = skyserver[\"oiiihb\"].max()\n",
    "min_max_difference = max_oiiihb - min_oiiihb\n",
    "\n",
    "print(\"Min. oiiihb: %0.3f\" % min_oiiihb)\n",
    "print(\"Max. oiiihb: %0.3f\" % max_oiiihb)\n",
    "print(\"Difference between Min. and Max.: %0.3f\" % min_max_difference)\n",
    "print(\"Root Mean Squared Error: %0.3f\" % root_mean_squared_error)"
   ]
  },
  {
   "cell_type": "code",
   "execution_count": 19,
   "metadata": {},
   "outputs": [
    {
     "data": {
      "text/html": [
       "<div>\n",
       "<style scoped>\n",
       "    .dataframe tbody tr th:only-of-type {\n",
       "        vertical-align: middle;\n",
       "    }\n",
       "\n",
       "    .dataframe tbody tr th {\n",
       "        vertical-align: top;\n",
       "    }\n",
       "\n",
       "    .dataframe thead th {\n",
       "        text-align: right;\n",
       "    }\n",
       "</style>\n",
       "<table border=\"1\" class=\"dataframe\">\n",
       "  <thead>\n",
       "    <tr style=\"text-align: right;\">\n",
       "      <th></th>\n",
       "      <th>predictions</th>\n",
       "      <th>targets</th>\n",
       "    </tr>\n",
       "  </thead>\n",
       "  <tbody>\n",
       "    <tr>\n",
       "      <th>count</th>\n",
       "      <td>424529.0</td>\n",
       "      <td>360296.0</td>\n",
       "    </tr>\n",
       "    <tr>\n",
       "      <th>mean</th>\n",
       "      <td>-24.3</td>\n",
       "      <td>-0.1</td>\n",
       "    </tr>\n",
       "    <tr>\n",
       "      <th>std</th>\n",
       "      <td>1562.7</td>\n",
       "      <td>0.5</td>\n",
       "    </tr>\n",
       "    <tr>\n",
       "      <th>min</th>\n",
       "      <td>-512099.6</td>\n",
       "      <td>-5.4</td>\n",
       "    </tr>\n",
       "    <tr>\n",
       "      <th>25%</th>\n",
       "      <td>-0.0</td>\n",
       "      <td>-0.4</td>\n",
       "    </tr>\n",
       "    <tr>\n",
       "      <th>50%</th>\n",
       "      <td>-0.0</td>\n",
       "      <td>-0.1</td>\n",
       "    </tr>\n",
       "    <tr>\n",
       "      <th>75%</th>\n",
       "      <td>-0.0</td>\n",
       "      <td>0.2</td>\n",
       "    </tr>\n",
       "    <tr>\n",
       "      <th>max</th>\n",
       "      <td>1612.7</td>\n",
       "      <td>6.5</td>\n",
       "    </tr>\n",
       "  </tbody>\n",
       "</table>\n",
       "</div>"
      ],
      "text/plain": [
       "       predictions  targets\n",
       "count     424529.0 360296.0\n",
       "mean         -24.3     -0.1\n",
       "std         1562.7      0.5\n",
       "min      -512099.6     -5.4\n",
       "25%           -0.0     -0.4\n",
       "50%           -0.0     -0.1\n",
       "75%           -0.0      0.2\n",
       "max         1612.7      6.5"
      ]
     },
     "execution_count": 19,
     "metadata": {},
     "output_type": "execute_result"
    }
   ],
   "source": [
    "calibration_data = pd.DataFrame()\n",
    "calibration_data[\"predictions\"] = pd.Series(predictions)\n",
    "calibration_data[\"targets\"] = pd.Series(targets)\n",
    "calibration_data.describe()"
   ]
  },
  {
   "cell_type": "code",
   "execution_count": 25,
   "metadata": {},
   "outputs": [],
   "source": [
    "sample = skyserver.sample(n=5000)"
   ]
  },
  {
   "cell_type": "code",
   "execution_count": 24,
   "metadata": {},
   "outputs": [
    {
     "data": {
      "image/png": "[encoded data removed]",
      "text/plain": [
       "<Figure size 432x288 with 1 Axes>"
      ]
     },
     "metadata": {
      "needs_background": "light"
     },
     "output_type": "display_data"
    }
   ],
   "source": [
    "# Get the min and max total_rooms values.\n",
    "x_0 = sample[\"h_beta_flux\"].min()\n",
    "x_1 = sample[\"h_beta_flux\"].max()\n",
    "\n",
    "# Retrieve the final weight and bias generated during training.\n",
    "weight = linear_regressor.get_variable_value('linear/linear_model/h_beta_flux/weights')[0]\n",
    "bias = linear_regressor.get_variable_value('linear/linear_model/bias_weights')\n",
    "\n",
    "# Get the predicted median_house_values for the min and max total_rooms values.\n",
    "y_0 = weight * x_0 + bias \n",
    "y_1 = weight * x_1 + bias\n",
    "\n",
    "# Plot our regression line from (x_0, y_0) to (x_1, y_1).\n",
    "plt.plot([x_0, x_1], [y_0, y_1], c='r')\n",
    "\n",
    "# Label the graph axes.\n",
    "plt.ylabel(\"oiiihb\")\n",
    "plt.xlabel(\"h_beta_flux\")\n",
    "\n",
    "# Plot a scatter plot from our data sample.\n",
    "plt.scatter(sample[\"oiiihb\"], sample[\"h_beta_flux\"])\n",
    "\n",
    "# Display graph.\n",
    "plt.show()"
   ]
  },
  {
   "cell_type": "code",
   "execution_count": 22,
   "metadata": {},
   "outputs": [],
   "source": [
    "from tensorflow.keras import optimizers\n",
    "def train_model(learning_rate, steps, batch_size, input_feature=\"h_beta_flux\"):\n",
    "  \"\"\"Trains a linear regression model of one feature.\n",
    "  \n",
    "  Args:\n",
    "    learning_rate: A `float`, the learning rate.\n",
    "    steps: A non-zero `int`, the total number of training steps. A training step\n",
    "      consists of a forward and backward pass using a single batch.\n",
    "    batch_size: A non-zero `int`, the batch size.\n",
    "    input_feature: A `string` specifying a column from `california_housing_dataframe`\n",
    "      to use as input feature.\n",
    "  \"\"\"\n",
    "  \n",
    "  periods = 10\n",
    "  steps_per_period = steps / periods\n",
    "\n",
    "  my_feature = input_feature\n",
    "  my_feature_data = skyserver[[my_feature]]\n",
    "  my_label = \"oiiihb\"\n",
    "  targets = skyserver[my_label]\n",
    "\n",
    "  # Create feature columns.\n",
    "  feature_columns = [tf.feature_column.numeric_column(my_feature)]\n",
    "  \n",
    "  # Create input functions.\n",
    "  training_input_fn = lambda:my_input_fn(my_feature_data, targets, batch_size=batch_size)\n",
    "  prediction_input_fn = lambda: my_input_fn(my_feature_data, targets, num_epochs=1, shuffle=False)\n",
    "  \n",
    "  # Create a linear regressor object.\n",
    "  my_optimizer = tf.train.GradientDescentOptimizer(learning_rate=learning_rate)\n",
    "  my_optimizer = tf.contrib.estimator.clip_gradients_by_norm(my_optimizer, 5.0)\n",
    "  linear_regressor = tf.estimator.LinearRegressor(\n",
    "      feature_columns=feature_columns,\n",
    "      optimizer=my_optimizer\n",
    "  )\n",
    "\n",
    "  # Set up to plot the state of our model's line each period.\n",
    "  plt.figure(figsize=(15, 6))\n",
    "  plt.subplot(1, 2, 1)\n",
    "  plt.title(\"Learned Line by Period\")\n",
    "  plt.ylabel(my_label)\n",
    "  plt.xlabel(my_feature)\n",
    "  sample = skyserver.sample(n=300)\n",
    "  plt.scatter(sample[my_feature], sample[my_label])\n",
    "  colors = [cm.coolwarm(x) for x in np.linspace(-1, 1, periods)]\n",
    "\n",
    "  # Train the model, but do so inside a loop so that we can periodically assess\n",
    "  # loss metrics.\n",
    "  print(\"Training model...\")\n",
    "  print(\"RMSE (on training data):\")\n",
    "  root_mean_squared_errors = []\n",
    "  for period in range (0, periods):\n",
    "    # Train the model, starting from the prior state.\n",
    "    linear_regressor.train(\n",
    "        input_fn=training_input_fn,\n",
    "        steps=steps_per_period\n",
    "    )\n",
    "    # Take a break and compute predictions.\n",
    "    predictions = linear_regressor.predict(input_fn=prediction_input_fn)\n",
    "    predictions = np.array([item['predictions'][0] for item in predictions])\n",
    "    \n",
    "    # Compute loss.\n",
    "    root_mean_squared_error = math.sqrt(\n",
    "        metrics.mean_squared_error(predictions, targets))\n",
    "    # Occasionally print the current loss.\n",
    "    print(\"  period %02d : %0.2f\" % (period, root_mean_squared_error))\n",
    "    # Add the loss metrics from this period to our list.\n",
    "    root_mean_squared_errors.append(root_mean_squared_error)\n",
    "    # Finally, track the weights and biases over time.\n",
    "    # Apply some math to ensure that the data and line are plotted neatly.\n",
    "    y_extents = np.array([0, sample[my_label].max()])\n",
    "    \n",
    "    weight = linear_regressor.get_variable_value('linear/linear_model/%s/weights' % input_feature)[0]\n",
    "    bias = linear_regressor.get_variable_value('linear/linear_model/bias_weights')\n",
    "\n",
    "    x_extents = (y_extents - bias) / weight\n",
    "    x_extents = np.maximum(np.minimum(x_extents,\n",
    "                                      sample[my_feature].max()),\n",
    "                           sample[my_feature].min())\n",
    "    y_extents = weight * x_extents + bias\n",
    "    plt.plot(x_extents, y_extents, color=colors[period]) \n",
    "  print(\"Model training finished.\")\n",
    "\n",
    "  # Output a graph of loss metrics over periods.\n",
    "  plt.subplot(1, 2, 2)\n",
    "  plt.ylabel('RMSE')\n",
    "  plt.xlabel('Periods')\n",
    "  plt.title(\"Root Mean Squared Error vs. Periods\")\n",
    "  plt.tight_layout()\n",
    "  plt.plot(root_mean_squared_errors)\n",
    "\n",
    "  # Output a table with calibration data.\n",
    "  calibration_data = pd.DataFrame()\n",
    "  calibration_data[\"predictions\"] = pd.Series(predictions)\n",
    "  calibration_data[\"targets\"] = pd.Series(targets)\n",
    "  display.display(calibration_data.describe())\n",
    "\n",
    "  print(\"Final RMSE (on training data): %0.2f\" % root_mean_squared_error)"
   ]
  },
  {
   "cell_type": "code",
   "execution_count": 23,
   "metadata": {},
   "outputs": [
    {
     "name": "stdout",
     "output_type": "stream",
     "text": [
      "INFO:tensorflow:Using default config.\n",
      "WARNING:tensorflow:Using temporary folder as model directory: /var/folders/bd/f5q27jzs5bz1yq4v_51d4dgh0000gn/T/tmp7rvc2an8\n",
      "INFO:tensorflow:Using config: {'_model_dir': '/var/folders/bd/f5q27jzs5bz1yq4v_51d4dgh0000gn/T/tmp7rvc2an8', '_tf_random_seed': None, '_save_summary_steps': 100, '_save_checkpoints_steps': None, '_save_checkpoints_secs': 600, '_session_config': allow_soft_placement: true\n",
      "graph_options {\n",
      "  rewrite_options {\n",
      "    meta_optimizer_iterations: ONE\n",
      "  }\n",
      "}\n",
      ", '_keep_checkpoint_max': 5, '_keep_checkpoint_every_n_hours': 10000, '_log_step_count_steps': 100, '_train_distribute': None, '_device_fn': None, '_protocol': None, '_eval_distribute': None, '_experimental_distribute': None, '_experimental_max_worker_delay_secs': None, '_session_creation_timeout_secs': 7200, '_service': None, '_cluster_spec': <tensorflow.python.training.server_lib.ClusterSpec object at 0x7faedfcb1390>, '_task_type': 'worker', '_task_id': 0, '_global_id_in_cluster': 0, '_master': '', '_evaluation_master': '', '_is_chief': True, '_num_ps_replicas': 0, '_num_worker_replicas': 1}\n",
      "Training model...\n",
      "RMSE (on training data):\n",
      "INFO:tensorflow:Calling model_fn.\n",
      "INFO:tensorflow:Done calling model_fn.\n",
      "INFO:tensorflow:Create CheckpointSaverHook.\n",
      "INFO:tensorflow:Graph was finalized.\n",
      "INFO:tensorflow:Running local_init_op.\n",
      "INFO:tensorflow:Done running local_init_op.\n",
      "INFO:tensorflow:Saving checkpoints for 0 into /var/folders/bd/f5q27jzs5bz1yq4v_51d4dgh0000gn/T/tmp7rvc2an8/model.ckpt.\n",
      "INFO:tensorflow:loss = 0.076030724, step = 1\n",
      "INFO:tensorflow:Saving checkpoints for 10 into /var/folders/bd/f5q27jzs5bz1yq4v_51d4dgh0000gn/T/tmp7rvc2an8/model.ckpt.\n",
      "INFO:tensorflow:Loss for final step: 0.1314631.\n",
      "INFO:tensorflow:Calling model_fn.\n",
      "INFO:tensorflow:Done calling model_fn.\n",
      "INFO:tensorflow:Graph was finalized.\n",
      "INFO:tensorflow:Restoring parameters from /var/folders/bd/f5q27jzs5bz1yq4v_51d4dgh0000gn/T/tmp7rvc2an8/model.ckpt-10\n",
      "INFO:tensorflow:Running local_init_op.\n",
      "INFO:tensorflow:Done running local_init_op.\n",
      "  period 00 : 12437.14\n",
      "INFO:tensorflow:Calling model_fn.\n",
      "INFO:tensorflow:Done calling model_fn.\n",
      "INFO:tensorflow:Create CheckpointSaverHook.\n",
      "INFO:tensorflow:Graph was finalized.\n",
      "INFO:tensorflow:Restoring parameters from /var/folders/bd/f5q27jzs5bz1yq4v_51d4dgh0000gn/T/tmp7rvc2an8/model.ckpt-10\n",
      "WARNING:tensorflow:From /Users/marioahiguerag/opt/anaconda3/lib/python3.7/site-packages/tensorflow_core/python/training/saver.py:1069: get_checkpoint_mtimes (from tensorflow.python.training.checkpoint_management) is deprecated and will be removed in a future version.\n",
      "Instructions for updating:\n",
      "Use standard file utilities to get mtimes.\n",
      "INFO:tensorflow:Running local_init_op.\n",
      "INFO:tensorflow:Done running local_init_op.\n",
      "INFO:tensorflow:Saving checkpoints for 10 into /var/folders/bd/f5q27jzs5bz1yq4v_51d4dgh0000gn/T/tmp7rvc2an8/model.ckpt.\n",
      "INFO:tensorflow:loss = 0.33072245, step = 11\n",
      "INFO:tensorflow:Saving checkpoints for 20 into /var/folders/bd/f5q27jzs5bz1yq4v_51d4dgh0000gn/T/tmp7rvc2an8/model.ckpt.\n",
      "INFO:tensorflow:Loss for final step: 0.39357987.\n",
      "INFO:tensorflow:Calling model_fn.\n",
      "INFO:tensorflow:Done calling model_fn.\n",
      "INFO:tensorflow:Graph was finalized.\n",
      "INFO:tensorflow:Restoring parameters from /var/folders/bd/f5q27jzs5bz1yq4v_51d4dgh0000gn/T/tmp7rvc2an8/model.ckpt-20\n",
      "INFO:tensorflow:Running local_init_op.\n",
      "INFO:tensorflow:Done running local_init_op.\n",
      "  period 01 : 21348.04\n",
      "INFO:tensorflow:Calling model_fn.\n",
      "INFO:tensorflow:Done calling model_fn.\n",
      "INFO:tensorflow:Create CheckpointSaverHook.\n",
      "INFO:tensorflow:Graph was finalized.\n",
      "INFO:tensorflow:Restoring parameters from /var/folders/bd/f5q27jzs5bz1yq4v_51d4dgh0000gn/T/tmp7rvc2an8/model.ckpt-20\n",
      "INFO:tensorflow:Running local_init_op.\n",
      "INFO:tensorflow:Done running local_init_op.\n",
      "INFO:tensorflow:Saving checkpoints for 20 into /var/folders/bd/f5q27jzs5bz1yq4v_51d4dgh0000gn/T/tmp7rvc2an8/model.ckpt.\n",
      "INFO:tensorflow:loss = 0.37049752, step = 21\n",
      "INFO:tensorflow:Saving checkpoints for 30 into /var/folders/bd/f5q27jzs5bz1yq4v_51d4dgh0000gn/T/tmp7rvc2an8/model.ckpt.\n",
      "INFO:tensorflow:Loss for final step: 0.014352671.\n",
      "INFO:tensorflow:Calling model_fn.\n",
      "INFO:tensorflow:Done calling model_fn.\n",
      "INFO:tensorflow:Graph was finalized.\n",
      "INFO:tensorflow:Restoring parameters from /var/folders/bd/f5q27jzs5bz1yq4v_51d4dgh0000gn/T/tmp7rvc2an8/model.ckpt-30\n",
      "INFO:tensorflow:Running local_init_op.\n",
      "INFO:tensorflow:Done running local_init_op.\n",
      "  period 02 : 1504.86\n",
      "INFO:tensorflow:Calling model_fn.\n",
      "INFO:tensorflow:Done calling model_fn.\n",
      "INFO:tensorflow:Create CheckpointSaverHook.\n",
      "INFO:tensorflow:Graph was finalized.\n",
      "INFO:tensorflow:Restoring parameters from /var/folders/bd/f5q27jzs5bz1yq4v_51d4dgh0000gn/T/tmp7rvc2an8/model.ckpt-30\n",
      "INFO:tensorflow:Running local_init_op.\n",
      "INFO:tensorflow:Done running local_init_op.\n",
      "INFO:tensorflow:Saving checkpoints for 30 into /var/folders/bd/f5q27jzs5bz1yq4v_51d4dgh0000gn/T/tmp7rvc2an8/model.ckpt.\n",
      "INFO:tensorflow:loss = 0.07987276, step = 31\n",
      "INFO:tensorflow:Saving checkpoints for 40 into /var/folders/bd/f5q27jzs5bz1yq4v_51d4dgh0000gn/T/tmp7rvc2an8/model.ckpt.\n",
      "INFO:tensorflow:Loss for final step: 0.073165014.\n",
      "INFO:tensorflow:Calling model_fn.\n",
      "INFO:tensorflow:Done calling model_fn.\n",
      "INFO:tensorflow:Graph was finalized.\n",
      "INFO:tensorflow:Restoring parameters from /var/folders/bd/f5q27jzs5bz1yq4v_51d4dgh0000gn/T/tmp7rvc2an8/model.ckpt-40\n",
      "INFO:tensorflow:Running local_init_op.\n",
      "INFO:tensorflow:Done running local_init_op.\n",
      "  period 03 : 28892.01\n",
      "INFO:tensorflow:Calling model_fn.\n",
      "INFO:tensorflow:Done calling model_fn.\n",
      "INFO:tensorflow:Create CheckpointSaverHook.\n",
      "INFO:tensorflow:Graph was finalized.\n",
      "INFO:tensorflow:Restoring parameters from /var/folders/bd/f5q27jzs5bz1yq4v_51d4dgh0000gn/T/tmp7rvc2an8/model.ckpt-40\n",
      "INFO:tensorflow:Running local_init_op.\n",
      "INFO:tensorflow:Done running local_init_op.\n",
      "INFO:tensorflow:Saving checkpoints for 40 into /var/folders/bd/f5q27jzs5bz1yq4v_51d4dgh0000gn/T/tmp7rvc2an8/model.ckpt.\n",
      "INFO:tensorflow:loss = 0.02133567, step = 41\n",
      "INFO:tensorflow:Saving checkpoints for 50 into /var/folders/bd/f5q27jzs5bz1yq4v_51d4dgh0000gn/T/tmp7rvc2an8/model.ckpt.\n",
      "WARNING:tensorflow:From /Users/marioahiguerag/opt/anaconda3/lib/python3.7/site-packages/tensorflow_core/python/training/saver.py:963: remove_checkpoint (from tensorflow.python.training.checkpoint_management) is deprecated and will be removed in a future version.\n",
      "Instructions for updating:\n",
      "Use standard file APIs to delete files with this prefix.\n",
      "INFO:tensorflow:Loss for final step: 1.2105136.\n",
      "INFO:tensorflow:Calling model_fn.\n",
      "INFO:tensorflow:Done calling model_fn.\n",
      "INFO:tensorflow:Graph was finalized.\n",
      "INFO:tensorflow:Restoring parameters from /var/folders/bd/f5q27jzs5bz1yq4v_51d4dgh0000gn/T/tmp7rvc2an8/model.ckpt-50\n",
      "INFO:tensorflow:Running local_init_op.\n",
      "INFO:tensorflow:Done running local_init_op.\n",
      "  period 04 : 64144.21\n",
      "INFO:tensorflow:Calling model_fn.\n",
      "INFO:tensorflow:Done calling model_fn.\n",
      "INFO:tensorflow:Create CheckpointSaverHook.\n",
      "INFO:tensorflow:Graph was finalized.\n",
      "INFO:tensorflow:Restoring parameters from /var/folders/bd/f5q27jzs5bz1yq4v_51d4dgh0000gn/T/tmp7rvc2an8/model.ckpt-50\n",
      "INFO:tensorflow:Running local_init_op.\n",
      "INFO:tensorflow:Done running local_init_op.\n",
      "INFO:tensorflow:Saving checkpoints for 50 into /var/folders/bd/f5q27jzs5bz1yq4v_51d4dgh0000gn/T/tmp7rvc2an8/model.ckpt.\n",
      "INFO:tensorflow:loss = 0.006582363, step = 51\n",
      "INFO:tensorflow:Saving checkpoints for 60 into /var/folders/bd/f5q27jzs5bz1yq4v_51d4dgh0000gn/T/tmp7rvc2an8/model.ckpt.\n",
      "INFO:tensorflow:Loss for final step: 0.017154219.\n",
      "INFO:tensorflow:Calling model_fn.\n",
      "INFO:tensorflow:Done calling model_fn.\n",
      "INFO:tensorflow:Graph was finalized.\n",
      "INFO:tensorflow:Restoring parameters from /var/folders/bd/f5q27jzs5bz1yq4v_51d4dgh0000gn/T/tmp7rvc2an8/model.ckpt-60\n",
      "INFO:tensorflow:Running local_init_op.\n",
      "INFO:tensorflow:Done running local_init_op.\n",
      "  period 05 : 67416.18\n",
      "INFO:tensorflow:Calling model_fn.\n",
      "INFO:tensorflow:Done calling model_fn.\n",
      "INFO:tensorflow:Create CheckpointSaverHook.\n",
      "INFO:tensorflow:Graph was finalized.\n",
      "INFO:tensorflow:Restoring parameters from /var/folders/bd/f5q27jzs5bz1yq4v_51d4dgh0000gn/T/tmp7rvc2an8/model.ckpt-60\n",
      "INFO:tensorflow:Running local_init_op.\n",
      "INFO:tensorflow:Done running local_init_op.\n",
      "INFO:tensorflow:Saving checkpoints for 60 into /var/folders/bd/f5q27jzs5bz1yq4v_51d4dgh0000gn/T/tmp7rvc2an8/model.ckpt.\n",
      "INFO:tensorflow:loss = 0.121856846, step = 61\n",
      "INFO:tensorflow:Saving checkpoints for 70 into /var/folders/bd/f5q27jzs5bz1yq4v_51d4dgh0000gn/T/tmp7rvc2an8/model.ckpt.\n",
      "INFO:tensorflow:Loss for final step: 0.118898995.\n",
      "INFO:tensorflow:Calling model_fn.\n",
      "INFO:tensorflow:Done calling model_fn.\n",
      "INFO:tensorflow:Graph was finalized.\n",
      "INFO:tensorflow:Restoring parameters from /var/folders/bd/f5q27jzs5bz1yq4v_51d4dgh0000gn/T/tmp7rvc2an8/model.ckpt-70\n",
      "INFO:tensorflow:Running local_init_op.\n",
      "INFO:tensorflow:Done running local_init_op.\n",
      "  period 06 : 49699.04\n",
      "INFO:tensorflow:Calling model_fn.\n",
      "INFO:tensorflow:Done calling model_fn.\n",
      "INFO:tensorflow:Create CheckpointSaverHook.\n",
      "INFO:tensorflow:Graph was finalized.\n",
      "INFO:tensorflow:Restoring parameters from /var/folders/bd/f5q27jzs5bz1yq4v_51d4dgh0000gn/T/tmp7rvc2an8/model.ckpt-70\n",
      "INFO:tensorflow:Running local_init_op.\n",
      "INFO:tensorflow:Done running local_init_op.\n",
      "INFO:tensorflow:Saving checkpoints for 70 into /var/folders/bd/f5q27jzs5bz1yq4v_51d4dgh0000gn/T/tmp7rvc2an8/model.ckpt.\n",
      "INFO:tensorflow:loss = 0.10872237, step = 71\n",
      "INFO:tensorflow:Saving checkpoints for 80 into /var/folders/bd/f5q27jzs5bz1yq4v_51d4dgh0000gn/T/tmp7rvc2an8/model.ckpt.\n",
      "INFO:tensorflow:Loss for final step: 1.5307804.\n",
      "INFO:tensorflow:Calling model_fn.\n",
      "INFO:tensorflow:Done calling model_fn.\n",
      "INFO:tensorflow:Graph was finalized.\n",
      "INFO:tensorflow:Restoring parameters from /var/folders/bd/f5q27jzs5bz1yq4v_51d4dgh0000gn/T/tmp7rvc2an8/model.ckpt-80\n",
      "INFO:tensorflow:Running local_init_op.\n",
      "INFO:tensorflow:Done running local_init_op.\n",
      "  period 07 : 72847.62\n",
      "INFO:tensorflow:Calling model_fn.\n",
      "INFO:tensorflow:Done calling model_fn.\n",
      "INFO:tensorflow:Create CheckpointSaverHook.\n",
      "INFO:tensorflow:Graph was finalized.\n",
      "INFO:tensorflow:Restoring parameters from /var/folders/bd/f5q27jzs5bz1yq4v_51d4dgh0000gn/T/tmp7rvc2an8/model.ckpt-80\n",
      "INFO:tensorflow:Running local_init_op.\n",
      "INFO:tensorflow:Done running local_init_op.\n",
      "INFO:tensorflow:Saving checkpoints for 80 into /var/folders/bd/f5q27jzs5bz1yq4v_51d4dgh0000gn/T/tmp7rvc2an8/model.ckpt.\n",
      "INFO:tensorflow:loss = 0.42783105, step = 81\n",
      "INFO:tensorflow:Saving checkpoints for 90 into /var/folders/bd/f5q27jzs5bz1yq4v_51d4dgh0000gn/T/tmp7rvc2an8/model.ckpt.\n",
      "INFO:tensorflow:Loss for final step: 0.36994258.\n",
      "INFO:tensorflow:Calling model_fn.\n",
      "INFO:tensorflow:Done calling model_fn.\n",
      "INFO:tensorflow:Graph was finalized.\n",
      "INFO:tensorflow:Restoring parameters from /var/folders/bd/f5q27jzs5bz1yq4v_51d4dgh0000gn/T/tmp7rvc2an8/model.ckpt-90\n",
      "INFO:tensorflow:Running local_init_op.\n",
      "INFO:tensorflow:Done running local_init_op.\n",
      "  period 08 : 103432.97\n",
      "INFO:tensorflow:Calling model_fn.\n",
      "INFO:tensorflow:Done calling model_fn.\n",
      "INFO:tensorflow:Create CheckpointSaverHook.\n",
      "INFO:tensorflow:Graph was finalized.\n",
      "INFO:tensorflow:Restoring parameters from /var/folders/bd/f5q27jzs5bz1yq4v_51d4dgh0000gn/T/tmp7rvc2an8/model.ckpt-90\n",
      "INFO:tensorflow:Running local_init_op.\n",
      "INFO:tensorflow:Done running local_init_op.\n",
      "INFO:tensorflow:Saving checkpoints for 90 into /var/folders/bd/f5q27jzs5bz1yq4v_51d4dgh0000gn/T/tmp7rvc2an8/model.ckpt.\n",
      "INFO:tensorflow:loss = 0.11752088, step = 91\n",
      "INFO:tensorflow:Saving checkpoints for 100 into /var/folders/bd/f5q27jzs5bz1yq4v_51d4dgh0000gn/T/tmp7rvc2an8/model.ckpt.\n",
      "INFO:tensorflow:Loss for final step: 0.011283869.\n",
      "INFO:tensorflow:Calling model_fn.\n",
      "INFO:tensorflow:Done calling model_fn.\n",
      "INFO:tensorflow:Graph was finalized.\n",
      "INFO:tensorflow:Restoring parameters from /var/folders/bd/f5q27jzs5bz1yq4v_51d4dgh0000gn/T/tmp7rvc2an8/model.ckpt-100\n",
      "INFO:tensorflow:Running local_init_op.\n",
      "INFO:tensorflow:Done running local_init_op.\n",
      "  period 09 : 122991.22\n",
      "Model training finished.\n"
     ]
    },
    {
     "data": {
      "text/html": [
       "<div>\n",
       "<style scoped>\n",
       "    .dataframe tbody tr th:only-of-type {\n",
       "        vertical-align: middle;\n",
       "    }\n",
       "\n",
       "    .dataframe tbody tr th {\n",
       "        vertical-align: top;\n",
       "    }\n",
       "\n",
       "    .dataframe thead th {\n",
       "        text-align: right;\n",
       "    }\n",
       "</style>\n",
       "<table border=\"1\" class=\"dataframe\">\n",
       "  <thead>\n",
       "    <tr style=\"text-align: right;\">\n",
       "      <th></th>\n",
       "      <th>predictions</th>\n",
       "      <th>targets</th>\n",
       "    </tr>\n",
       "  </thead>\n",
       "  <tbody>\n",
       "    <tr>\n",
       "      <th>count</th>\n",
       "      <td>424529.0</td>\n",
       "      <td>360296.0</td>\n",
       "    </tr>\n",
       "    <tr>\n",
       "      <th>mean</th>\n",
       "      <td>-1911.0</td>\n",
       "      <td>-0.1</td>\n",
       "    </tr>\n",
       "    <tr>\n",
       "      <th>std</th>\n",
       "      <td>122962.4</td>\n",
       "      <td>0.5</td>\n",
       "    </tr>\n",
       "    <tr>\n",
       "      <th>min</th>\n",
       "      <td>-40294968.0</td>\n",
       "      <td>-5.4</td>\n",
       "    </tr>\n",
       "    <tr>\n",
       "      <th>25%</th>\n",
       "      <td>-0.0</td>\n",
       "      <td>-0.4</td>\n",
       "    </tr>\n",
       "    <tr>\n",
       "      <th>50%</th>\n",
       "      <td>-0.0</td>\n",
       "      <td>-0.1</td>\n",
       "    </tr>\n",
       "    <tr>\n",
       "      <th>75%</th>\n",
       "      <td>-0.0</td>\n",
       "      <td>0.2</td>\n",
       "    </tr>\n",
       "    <tr>\n",
       "      <th>max</th>\n",
       "      <td>126900.3</td>\n",
       "      <td>6.5</td>\n",
       "    </tr>\n",
       "  </tbody>\n",
       "</table>\n",
       "</div>"
      ],
      "text/plain": [
       "       predictions  targets\n",
       "count     424529.0 360296.0\n",
       "mean       -1911.0     -0.1\n",
       "std       122962.4      0.5\n",
       "min    -40294968.0     -5.4\n",
       "25%           -0.0     -0.4\n",
       "50%           -0.0     -0.1\n",
       "75%           -0.0      0.2\n",
       "max       126900.3      6.5"
      ]
     },
     "metadata": {},
     "output_type": "display_data"
    },
    {
     "name": "stdout",
     "output_type": "stream",
     "text": [
      "Final RMSE (on training data): 122991.22\n"
     ]
    },
    {
     "data": {
      "image/png": "[encoded data removed]",
      "text/plain": [
       "<Figure size 1080x432 with 2 Axes>"
      ]
     },
     "metadata": {
      "needs_background": "light"
     },
     "output_type": "display_data"
    }
   ],
   "source": [
    "train_model(\n",
    "    learning_rate=0.00001,\n",
    "    steps=100,\n",
    "    batch_size=1\n",
    ")"
   ]
  },
  {
   "cell_type": "code",
   "execution_count": null,
   "metadata": {},
   "outputs": [],
   "source": []
  }
 ],
 "metadata": {
  "kernelspec": {
   "display_name": "Python 3",
   "language": "python",
   "name": "python3"
  },
  "language_info": {
   "codemirror_mode": {
    "name": "ipython",
    "version": 3
   },
   "file_extension": ".py",
   "mimetype": "text/x-python",
   "name": "python",
   "nbconvert_exporter": "python",
   "pygments_lexer": "ipython3",
   "version": "3.7.0"
  }
 },
 "nbformat": 4,
 "nbformat_minor": 4
}
