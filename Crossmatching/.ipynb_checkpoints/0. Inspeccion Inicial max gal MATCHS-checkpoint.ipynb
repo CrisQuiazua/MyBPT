{
 "cells": [
  {
   "cell_type": "markdown",
   "id": "21efdc85",
   "metadata": {},
   "source": [
    "Inspeccion inicial, La secuencia empieza en el libro 1"
   ]
  },
  {
   "cell_type": "code",
   "execution_count": 1,
   "id": "ac721892",
   "metadata": {},
   "outputs": [
    {
     "name": "stdout",
     "output_type": "stream",
     "text": [
      "Could not import regions, which is required for some of the functionalities of this module.\n"
     ]
    }
   ],
   "source": [
    "import numpy as np\n",
    "import pandas as pd\n",
    "import time\n",
    "import pyvo\n",
    "import warnings\n",
    "import astropy.units as u\n",
    "import matplotlib.pyplot as plt\n",
    "from datetime import date\n",
    "from astropy.table import Table\n",
    "from astropy.table import hstack\n",
    "from astroquery.sdss import SDSS\n",
    "from astropy.coordinates import SkyCoord\n",
    "from matplotlib import pyplot as plt\n",
    "from astropy import coordinates, units as u\n",
    "from astroquery.xmatch import XMatch"
   ]
  },
  {
   "cell_type": "code",
   "execution_count": 2,
   "id": "cb82c262",
   "metadata": {},
   "outputs": [
    {
     "name": "stderr",
     "output_type": "stream",
     "text": [
      "C:\\ProgramData\\Anaconda33\\lib\\site-packages\\astroquery\\sdss\\core.py:874: VisibleDeprecationWarning: Reading unicode strings without specifying the encoding argument is deprecated. Set the encoding, use None for the system default.\n",
      "  arr = np.atleast_1d(np.genfromtxt(io.BytesIO(response.content),\n"
     ]
    }
   ],
   "source": [
    "query = \"\"\"SELECT TOP 500000\n",
    "    s.specobjid, s.ra, s.dec, s.z, g.h_alpha_flux, g.h_beta_flux,\n",
    "    g.oiii_5007_flux, g.nii_6548_flux, g.nii_6584_flux,\n",
    "    g.sii_6717_flux, g.sii_6731_flux, g.oi_6300_flux, s.class, s.subclass\n",
    "\n",
    "    FROM SpecObjAll AS s\n",
    "    JOIN galSpecExtra AS ID ON ID.specObjID = s.specObjID\n",
    "    JOIN galSpecLine AS g ON g.specObjID = s.specObjID\n",
    "\n",
    "\n",
    "    WHERE subclass IN ('STARFORMING', 'STARBURST', 'AGN', 'BROADLINE')\n",
    "    AND NOT h_alpha_flux <='0' AND NOT h_beta_flux <='0'\n",
    "    AND NOT oiii_5007_flux <='0' AND NOT nii_6548_flux <='0'\n",
    "    AND NOT nii_6584_flux <='0' AND NOT sii_6717_flux <='0' \n",
    "    AND NOT sii_6731_flux <='0' AND NOT oi_6300_flux <='0'\n",
    "    AND z < 0.8\n",
    "\n",
    "    ORDER BY specobjid ASC\"\"\"\n",
    "\n",
    "SDSS = SDSS.query_sql(query)"
   ]
  },
  {
   "cell_type": "code",
   "execution_count": 3,
   "id": "4a476418",
   "metadata": {},
   "outputs": [
    {
     "data": {
      "text/html": [
       "<div><i>Table length=5</i>\n",
       "<table id=\"table2947838498944\" class=\"table-striped table-bordered table-condensed\">\n",
       "<thead><tr><th>specobjid</th><th>ra</th><th>dec</th><th>z</th><th>h_alpha_flux</th><th>h_beta_flux</th><th>oiii_5007_flux</th><th>nii_6548_flux</th><th>nii_6584_flux</th><th>sii_6717_flux</th><th>sii_6731_flux</th><th>oi_6300_flux</th><th>class</th><th>subclass</th></tr></thead>\n",
       "<thead><tr><th>int64</th><th>float64</th><th>float64</th><th>float64</th><th>float64</th><th>float64</th><th>float64</th><th>float64</th><th>float64</th><th>float64</th><th>float64</th><th>float64</th><th>bytes6</th><th>bytes11</th></tr></thead>\n",
       "<tr><td>299489677444933632</td><td>146.71421</td><td>-1.0413043</td><td>0.02122228</td><td>472.5904</td><td>119.4956</td><td>68.39606</td><td>74.30252</td><td>224.1136</td><td>124.7115</td><td>84.18053</td><td>18.59493</td><td>GALAXY</td><td>STARFORMING</td></tr>\n",
       "<tr><td>299490502078654464</td><td>146.62857</td><td>-0.76513683</td><td>0.06465632</td><td>99.40005</td><td>25.64047</td><td>21.44437</td><td>17.10464</td><td>51.59155</td><td>35.33497</td><td>21.65778</td><td>8.490424</td><td>GALAXY</td><td>STARFORMING</td></tr>\n",
       "<tr><td>299491051364706304</td><td>146.9639</td><td>-0.54500256</td><td>0.05598787</td><td>181.5262</td><td>47.3665</td><td>11.85567</td><td>17.94872</td><td>54.13749</td><td>31.28298</td><td>19.16762</td><td>4.319232</td><td>GALAXY</td><td>STARBURST</td></tr>\n",
       "<tr><td>299491051834468352</td><td>146.63167</td><td>-0.98827781</td><td>0.05265425</td><td>127.3058</td><td>38.33226</td><td>35.46671</td><td>8.550285</td><td>25.78963</td><td>30.26996</td><td>25.72297</td><td>6.269853</td><td>GALAXY</td><td>STARFORMING</td></tr>\n",
       "<tr><td>299492700632147968</td><td>146.59272</td><td>-0.76025604</td><td>0.06502353</td><td>211.5018</td><td>53.18228</td><td>15.59901</td><td>25.31465</td><td>76.35482</td><td>41.6377</td><td>28.47964</td><td>7.211103</td><td>GALAXY</td><td>STARFORMING</td></tr>\n",
       "</table></div>"
      ],
      "text/plain": [
       "<Table length=5>\n",
       "    specobjid          ra        dec     ... oi_6300_flux class    subclass \n",
       "      int64         float64    float64   ...   float64    bytes6   bytes11  \n",
       "------------------ --------- ----------- ... ------------ ------ -----------\n",
       "299489677444933632 146.71421  -1.0413043 ...     18.59493 GALAXY STARFORMING\n",
       "299490502078654464 146.62857 -0.76513683 ...     8.490424 GALAXY STARFORMING\n",
       "299491051364706304  146.9639 -0.54500256 ...     4.319232 GALAXY   STARBURST\n",
       "299491051834468352 146.63167 -0.98827781 ...     6.269853 GALAXY STARFORMING\n",
       "299492700632147968 146.59272 -0.76025604 ...     7.211103 GALAXY STARFORMING"
      ]
     },
     "execution_count": 3,
     "metadata": {},
     "output_type": "execute_result"
    }
   ],
   "source": [
    "SDSS[0:5]"
   ]
  },
  {
   "cell_type": "code",
   "execution_count": 35,
   "id": "089da16b",
   "metadata": {},
   "outputs": [
    {
     "data": {
      "text/plain": [
       "329650"
      ]
     },
     "execution_count": 35,
     "metadata": {},
     "output_type": "execute_result"
    }
   ],
   "source": [
    "len(SDSS)"
   ]
  },
  {
   "cell_type": "code",
   "execution_count": 4,
   "id": "8a3160f9",
   "metadata": {},
   "outputs": [],
   "source": [
    "service = pyvo.dal.TAPService ('https://irsa.ipac.caltech.edu/TAP')\n",
    "result = service.run_async(\"\"\"\n",
    "            SELECT\n",
    "            galname,\n",
    "            ra,\n",
    "            dec,\n",
    "            fnu_12,\n",
    "            fnu_25,\n",
    "            fnu_60,\n",
    "            fnu_100,\n",
    "            rat_12_25,\n",
    "            rat_25_60,\n",
    "            rat_60_100\n",
    "            \n",
    "            FROM irasgal\n",
    "            ORDER BY galname ASC\"\"\")\n",
    "IRAS = result.to_table()"
   ]
  },
  {
   "cell_type": "code",
   "execution_count": 5,
   "id": "ec2a6410",
   "metadata": {},
   "outputs": [
    {
     "data": {
      "text/html": [
       "<div><i>Table length=5</i>\n",
       "<table id=\"table2948351098208\" class=\"table-striped table-bordered table-condensed\">\n",
       "<thead><tr><th>galname</th><th>ra</th><th>dec</th><th>fnu_12</th><th>fnu_25</th><th>fnu_60</th><th>fnu_100</th><th>rat_12_25</th><th>rat_25_60</th><th>rat_60_100</th></tr></thead>\n",
       "<thead><tr><th></th><th>degrees</th><th>degrees</th><th>Jy</th><th>Jy</th><th>Jy</th><th>Jy</th><th></th><th></th><th></th></tr></thead>\n",
       "<thead><tr><th>object</th><th>float32</th><th>float32</th><th>float32</th><th>float32</th><th>float32</th><th>float32</th><th>float32</th><th>float32</th><th>float32</th></tr></thead>\n",
       "<tr><td>00000-0359</td><td>0.6448</td><td>-3.7105</td><td>0.25</td><td>0.33</td><td>1.21</td><td>2.49</td><td>0.7576</td><td>0.2727</td><td>0.4859</td></tr>\n",
       "<tr><td>00001+0827</td><td>0.6663</td><td>8.7373</td><td>0.25</td><td>0.28</td><td>0.70</td><td>1.19</td><td>0.8929</td><td>0.4000</td><td>0.5882</td></tr>\n",
       "<tr><td>00003+0313</td><td>0.7196</td><td>3.5042</td><td>0.25</td><td>0.32</td><td>0.52</td><td>1.12</td><td>0.7812</td><td>0.6154</td><td>0.4643</td></tr>\n",
       "<tr><td>00003-3431</td><td>0.7281</td><td>-34.2385</td><td>1.06</td><td>0.25</td><td>0.80</td><td>2.57</td><td>4.2400</td><td>0.3125</td><td>0.3113</td></tr>\n",
       "<tr><td>00005+2140</td><td>0.7878</td><td>21.9597</td><td>0.25</td><td>1.05</td><td>4.25</td><td>4.51</td><td>0.2381</td><td>0.2471</td><td>0.9424</td></tr>\n",
       "</table></div>"
      ],
      "text/plain": [
       "<Table length=5>\n",
       " galname      ra      dec     fnu_12 ... fnu_100 rat_12_25 rat_25_60 rat_60_100\n",
       "           degrees  degrees     Jy   ...    Jy                                 \n",
       "  object   float32  float32  float32 ... float32  float32   float32   float32  \n",
       "---------- -------- -------- ------- ... ------- --------- --------- ----------\n",
       "00000-0359   0.6448  -3.7105    0.25 ...    2.49    0.7576    0.2727     0.4859\n",
       "00001+0827   0.6663   8.7373    0.25 ...    1.19    0.8929    0.4000     0.5882\n",
       "00003+0313   0.7196   3.5042    0.25 ...    1.12    0.7812    0.6154     0.4643\n",
       "00003-3431   0.7281 -34.2385    1.06 ...    2.57    4.2400    0.3125     0.3113\n",
       "00005+2140   0.7878  21.9597    0.25 ...    4.51    0.2381    0.2471     0.9424"
      ]
     },
     "execution_count": 5,
     "metadata": {},
     "output_type": "execute_result"
    }
   ],
   "source": [
    "IRAS[0:5]"
   ]
  },
  {
   "cell_type": "markdown",
   "id": "4ac21ff5",
   "metadata": {},
   "source": [
    "---\n",
    "\n",
    "Verificamos la longitud de los dos catalogos. El catalogo que tenga mas elementos será el que utilizaremos como referencia.\n"
   ]
  },
  {
   "cell_type": "code",
   "execution_count": 6,
   "id": "89487f96",
   "metadata": {},
   "outputs": [
    {
     "data": {
      "text/plain": [
       "(11444, 329650)"
      ]
     },
     "execution_count": 6,
     "metadata": {},
     "output_type": "execute_result"
    }
   ],
   "source": [
    "len(IRAS), len(SDSS)"
   ]
  },
  {
   "cell_type": "markdown",
   "id": "c07ecbbf",
   "metadata": {},
   "source": [
    "---\n",
    "\n",
    "Ahora crearemos cuatro arreglos de `NumPy` con la información de las coordenadas celestes"
   ]
  },
  {
   "cell_type": "code",
   "execution_count": 7,
   "id": "f962647a",
   "metadata": {},
   "outputs": [],
   "source": [
    "ra1 = np.asarray(IRAS['ra'])\n",
    "dec1 = np.asarray(IRAS['dec'])\n",
    "ra2 = np.asarray(SDSS['ra'])\n",
    "dec2 = np.asarray(SDSS['dec'])"
   ]
  },
  {
   "cell_type": "markdown",
   "id": "df05056d",
   "metadata": {},
   "source": [
    "Utilizando esos arreglos, definiremos dos 'catalogos' utilizando la función SkyCoord( ). Nótese que las coordenadas celestes ya se plantean en grados dentro de los catalogos originales "
   ]
  },
  {
   "cell_type": "code",
   "execution_count": 8,
   "id": "ea8b0c8b",
   "metadata": {},
   "outputs": [],
   "source": [
    "IRAScat = SkyCoord(ra=ra1*u.degree, dec=dec1*u.degree)\n",
    "SDSScat = SkyCoord(ra=ra2*u.degree, dec=dec2*u.degree)"
   ]
  },
  {
   "cell_type": "code",
   "execution_count": 9,
   "id": "a5f28d42",
   "metadata": {},
   "outputs": [
    {
     "data": {
      "text/plain": [
       "<SkyCoord (ICRS): (ra, dec) in deg\n",
       "    [(0.6447522 ,  -3.710484 ), (0.66634995,   8.73727  ),\n",
       "     (0.7195514 ,   3.5042214), ..., (0.5100675 , -33.46959  ),\n",
       "     (0.5424071 ,   2.942838 ), (0.57888216,  12.971159 )]>"
      ]
     },
     "execution_count": 9,
     "metadata": {},
     "output_type": "execute_result"
    }
   ],
   "source": [
    "#Explora:\n",
    "# type(IRAScat)\n",
    "IRAScat\n",
    "# cantidad_parejas = len(IRAScat)\n",
    "# cantidad_parejas"
   ]
  },
  {
   "cell_type": "code",
   "execution_count": 10,
   "id": "8c7f08e3",
   "metadata": {},
   "outputs": [
    {
     "data": {
      "text/plain": [
       "329650"
      ]
     },
     "execution_count": 10,
     "metadata": {},
     "output_type": "execute_result"
    }
   ],
   "source": [
    "#Explora:\n",
    "# type(SDSScat)\n",
    "# SDSScat\n",
    "cantidad_parejasSD = len(SDSScat)\n",
    "cantidad_parejasSD"
   ]
  },
  {
   "cell_type": "markdown",
   "id": "e8ee0edc",
   "metadata": {},
   "source": [
    "Ahora realizamos el crossmatching mediante el método .match_to_catalog( )\n",
    "\n",
    "En este caso utilizaremos el catálogo SDSS como referencia y lo cruzamos con el catalogo IRAS.\n",
    "\n",
    "El método retorna tres resultados:\n",
    "\n",
    "- idx : indices dentro del catálogo IRAS que corresponden a los objetos mas cercanos a cada uno de los objetos del catálogo SDSS\n",
    "- d2d : distancias en el cielo (2-dimensionales) entro los objetos que hacen match.\n",
    "- d3d : distancias 3-dimensionales (al no haber dato 3D, se asume que todos los objetos estan a una distancia de 1 del observador)"
   ]
  },
  {
   "cell_type": "code",
   "execution_count": 11,
   "id": "2d644b05",
   "metadata": {},
   "outputs": [],
   "source": [
    "idx, d2d, d3d = SDSScat.match_to_catalog_sky(IRAScat)"
   ]
  },
  {
   "cell_type": "markdown",
   "id": "370159bb",
   "metadata": {},
   "source": [
    "El tamaño del arreglo `idx` es igual al del catálogo SDSS:"
   ]
  },
  {
   "cell_type": "code",
   "execution_count": 12,
   "id": "1b11af7c",
   "metadata": {},
   "outputs": [
    {
     "data": {
      "text/plain": [
       "(329650,)"
      ]
     },
     "execution_count": 12,
     "metadata": {},
     "output_type": "execute_result"
    }
   ],
   "source": [
    "idx.shape"
   ]
  },
  {
   "cell_type": "markdown",
   "id": "2f7239a6",
   "metadata": {},
   "source": [
    "---\n",
    "\n",
    "Ahora podemos ver algunos de los match. Por ejemplo, para el objeto con índice **10719** del SDSS se tiene:"
   ]
  },
  {
   "cell_type": "code",
   "execution_count": 13,
   "id": "278ecfbe",
   "metadata": {},
   "outputs": [
    {
     "data": {
      "text/plain": [
       "8451"
      ]
     },
     "execution_count": 13,
     "metadata": {},
     "output_type": "execute_result"
    }
   ],
   "source": [
    "idx[10719]"
   ]
  },
  {
   "cell_type": "code",
   "execution_count": 14,
   "id": "057ea8bc",
   "metadata": {},
   "outputs": [
    {
     "data": {
      "text/html": [
       "<i>Row index=10719</i>\n",
       "<table id=\"table2947940861888\">\n",
       "<thead><tr><th>specobjid</th><th>ra</th><th>dec</th><th>z</th><th>h_alpha_flux</th><th>h_beta_flux</th><th>oiii_5007_flux</th><th>nii_6548_flux</th><th>nii_6584_flux</th><th>sii_6717_flux</th><th>sii_6731_flux</th><th>oi_6300_flux</th><th>class</th><th>subclass</th></tr></thead>\n",
       "<thead><tr><th>int64</th><th>float64</th><th>float64</th><th>float64</th><th>float64</th><th>float64</th><th>float64</th><th>float64</th><th>float64</th><th>float64</th><th>float64</th><th>float64</th><th>bytes6</th><th>bytes11</th></tr></thead>\n",
       "<tr><td>354807207503620096</td><td>235.4981</td><td>0.71280211</td><td>0.006394573</td><td>150.4484</td><td>30.57159</td><td>12.23558</td><td>14.36272</td><td>43.32129</td><td>42.70899</td><td>28.75874</td><td>11.33575</td><td>GALAXY</td><td>STARFORMING</td></tr>\n",
       "</table>"
      ],
      "text/plain": [
       "<Row index=10719>\n",
       "    specobjid         ra       dec          z      h_alpha_flux h_beta_flux oiii_5007_flux nii_6548_flux nii_6584_flux sii_6717_flux sii_6731_flux oi_6300_flux class    subclass \n",
       "      int64        float64   float64     float64     float64      float64      float64        float64       float64       float64       float64      float64    bytes6   bytes11  \n",
       "------------------ -------- ---------- ----------- ------------ ----------- -------------- ------------- ------------- ------------- ------------- ------------ ------ -----------\n",
       "354807207503620096 235.4981 0.71280211 0.006394573     150.4484    30.57159       12.23558      14.36272      43.32129      42.70899      28.75874     11.33575 GALAXY STARFORMING"
      ]
     },
     "execution_count": 14,
     "metadata": {},
     "output_type": "execute_result"
    }
   ],
   "source": [
    "SDSS[10719]"
   ]
  },
  {
   "cell_type": "code",
   "execution_count": 15,
   "id": "6ef0d17d",
   "metadata": {},
   "outputs": [
    {
     "data": {
      "text/html": [
       "<i>Row index=8451</i>\n",
       "<table id=\"table2948351006704\">\n",
       "<thead><tr><th>galname</th><th>ra</th><th>dec</th><th>fnu_12</th><th>fnu_25</th><th>fnu_60</th><th>fnu_100</th><th>rat_12_25</th><th>rat_25_60</th><th>rat_60_100</th></tr></thead>\n",
       "<thead><tr><th></th><th>degrees</th><th>degrees</th><th>Jy</th><th>Jy</th><th>Jy</th><th>Jy</th><th></th><th></th><th></th></tr></thead>\n",
       "<thead><tr><th>object</th><th>float32</th><th>float32</th><th>float32</th><th>float32</th><th>float32</th><th>float32</th><th>float32</th><th>float32</th><th>float32</th></tr></thead>\n",
       "<tr><td>15394+0052</td><td>235.4980</td><td>0.7127</td><td>0.34</td><td>0.26</td><td>0.43</td><td>1.41</td><td>1.3077</td><td>0.6047</td><td>0.3050</td></tr>\n",
       "</table>"
      ],
      "text/plain": [
       "<Row index=8451>\n",
       " galname      ra      dec     fnu_12  fnu_25  fnu_60 fnu_100 rat_12_25 rat_25_60 rat_60_100\n",
       "           degrees  degrees     Jy      Jy      Jy      Jy                                 \n",
       "  object   float32  float32  float32 float32 float32 float32  float32   float32   float32  \n",
       "---------- -------- -------- ------- ------- ------- ------- --------- --------- ----------\n",
       "15394+0052 235.4980   0.7127    0.34    0.26    0.43    1.41    1.3077    0.6047     0.3050"
      ]
     },
     "execution_count": 15,
     "metadata": {},
     "output_type": "execute_result"
    }
   ],
   "source": [
    "IRAS[idx[10719]]"
   ]
  },
  {
   "cell_type": "markdown",
   "id": "50a2dfb2",
   "metadata": {},
   "source": [
    "La distancia entre estos dos objetos es"
   ]
  },
  {
   "cell_type": "code",
   "execution_count": 16,
   "id": "65d789c8",
   "metadata": {},
   "outputs": [
    {
     "data": {
      "text/latex": [
       "$0^\\circ00{}^\\prime00.56445931{}^{\\prime\\prime}$"
      ],
      "text/plain": [
       "<Angle 0.00015679 deg>"
      ]
     },
     "execution_count": 16,
     "metadata": {},
     "output_type": "execute_result"
    }
   ],
   "source": [
    "d2d[10719]"
   ]
  },
  {
   "cell_type": "code",
   "execution_count": 17,
   "id": "13bb046c",
   "metadata": {},
   "outputs": [],
   "source": [
    "# Explora:\n",
    "\n",
    "# type(idx)\n",
    "# len(idx)\n",
    "# idx[1520:1530]"
   ]
  },
  {
   "cell_type": "code",
   "execution_count": 18,
   "id": "224a8d83",
   "metadata": {},
   "outputs": [
    {
     "data": {
      "text/latex": [
       "[$1^\\circ11{}^\\prime24.76485944{}^{\\prime\\prime}$\n",
       " $1^\\circ00{}^\\prime12.30583855{}^{\\prime\\prime}$\n",
       " $1^\\circ00{}^\\prime43.95080137{}^{\\prime\\prime}$\n",
       " $1^\\circ05{}^\\prime41.4499523{}^{\\prime\\prime}$\n",
       " $1^\\circ17{}^\\prime08.46743988{}^{\\prime\\prime}$\n",
       " $1^\\circ19{}^\\prime20.64887427{}^{\\prime\\prime}$\n",
       " $1^\\circ22{}^\\prime26.16897784{}^{\\prime\\prime}$\n",
       " $1^\\circ27{}^\\prime47.06426814{}^{\\prime\\prime}$\n",
       " $1^\\circ16{}^\\prime31.93414645{}^{\\prime\\prime}$\n",
       " $1^\\circ28{}^\\prime39.55232093{}^{\\prime\\prime}$]"
      ],
      "text/plain": [
       "<Angle [1.19021246, 1.00341829, 1.01220856, 1.09484721, 1.2856854 ,\n",
       "        1.32240247, 1.37393583, 1.46307341, 1.27553726, 1.47765342] deg>"
      ]
     },
     "execution_count": 18,
     "metadata": {},
     "output_type": "execute_result"
    }
   ],
   "source": [
    "# Explora:\n",
    "\n",
    "# type(idx)\n",
    "# len(d2d)\n",
    "d2d[1520:1530]"
   ]
  },
  {
   "cell_type": "code",
   "execution_count": 19,
   "id": "ec5209db",
   "metadata": {},
   "outputs": [
    {
     "data": {
      "text/latex": [
       "$[0.020772656,~0.017512645,~0.017666057,~0.019108302,~0.022438895,~0.023079797,~0.023979054,~0.025534787,~0.022261791,~0.025789235] \\; \\mathrm{}$"
      ],
      "text/plain": [
       "<Quantity [0.02077266, 0.01751265, 0.01766606, 0.0191083 , 0.0224389 ,\n",
       "           0.0230798 , 0.02397905, 0.02553479, 0.02226179, 0.02578924]>"
      ]
     },
     "execution_count": 19,
     "metadata": {},
     "output_type": "execute_result"
    }
   ],
   "source": [
    "# Explora:\n",
    "\n",
    "# type(d3d)\n",
    "# len(d3d)\n",
    "d3d[1520:1530]"
   ]
  },
  {
   "cell_type": "markdown",
   "id": "2ec1fd2b",
   "metadata": {},
   "source": [
    "---\n",
    "\n",
    "Debido a que los dos catalogos tienen diferente tamaño, es posible que varios elementos del catalogo SDSS tengan match con un mimso objeto del catalogo IRAS.\n",
    "\n",
    "Para revisar esta posibilidad, debemos identificar los valores únicos dentro del match. Esto lo hacemos con la función [np.unique( )](https://numpy.org/doc/stable/reference/generated/numpy.unique.html). En esta función utilizaremos el argumento `return_counts=True` para saber cuantas veces se repite un mismo valor."
   ]
  },
  {
   "cell_type": "code",
   "execution_count": 20,
   "id": "8fbbdc24",
   "metadata": {},
   "outputs": [],
   "source": [
    "unique, c = np.unique(idx, return_counts=True)"
   ]
  },
  {
   "cell_type": "markdown",
   "id": "4229d7d8",
   "metadata": {},
   "source": [
    "Los valores únicos son:"
   ]
  },
  {
   "cell_type": "code",
   "execution_count": 21,
   "id": "977ed5a2",
   "metadata": {},
   "outputs": [
    {
     "data": {
      "text/plain": [
       "array([    5,     9,    17, ..., 11439, 11440, 11443], dtype=int64)"
      ]
     },
     "execution_count": 21,
     "metadata": {},
     "output_type": "execute_result"
    }
   ],
   "source": [
    "unique"
   ]
  },
  {
   "cell_type": "code",
   "execution_count": 22,
   "id": "0245e3a3",
   "metadata": {},
   "outputs": [
    {
     "data": {
      "text/plain": [
       "3727"
      ]
     },
     "execution_count": 22,
     "metadata": {},
     "output_type": "execute_result"
    }
   ],
   "source": [
    "# Explora\n",
    "len(unique)"
   ]
  },
  {
   "cell_type": "markdown",
   "id": "f8c6aacd",
   "metadata": {},
   "source": [
    "El número de repeticiones de cada elemento es"
   ]
  },
  {
   "cell_type": "code",
   "execution_count": 23,
   "id": "cb4b4eb1",
   "metadata": {},
   "outputs": [
    {
     "data": {
      "text/plain": [
       "array([ 27, 339, 123, ...,   1,   1,   9], dtype=int64)"
      ]
     },
     "execution_count": 23,
     "metadata": {},
     "output_type": "execute_result"
    }
   ],
   "source": [
    "c"
   ]
  },
  {
   "cell_type": "code",
   "execution_count": 24,
   "id": "e2cec1f7",
   "metadata": {},
   "outputs": [
    {
     "data": {
      "text/plain": [
       "3727"
      ]
     },
     "execution_count": 24,
     "metadata": {},
     "output_type": "execute_result"
    }
   ],
   "source": [
    "len(c)"
   ]
  },
  {
   "cell_type": "markdown",
   "id": "fa5b74db",
   "metadata": {},
   "source": [
    "Esto queire decir que:\n",
    "\n",
    "- El índice 5 se repite 5 veces\n",
    "- el índice 17 se repite 20 veces\n",
    "- el índice 42 se repite 93 veces\n",
    "- el índice 84 se repite 8 veces\n",
    "- ...\n",
    "\n",
    "Para saber en donde se repite el cada índice, utilizamos la función [np.where( )](https://numpy.org/doc/stable/reference/generated/numpy.unique.html).\n",
    "\n",
    "Por ejemplo para el índice 5 se tiene"
   ]
  },
  {
   "cell_type": "code",
   "execution_count": 25,
   "id": "1f0fde01",
   "metadata": {},
   "outputs": [
    {
     "data": {
      "text/plain": [
       "(array([ 19711,  19720,  19721,  19722,  19724,  71678,  71691, 135496,\n",
       "        135498, 135499, 135500, 181407, 181408, 181409, 181410, 181413,\n",
       "        181418, 181419, 181420, 184847, 184861, 184862, 184863, 184865,\n",
       "        184884, 184885, 184895], dtype=int64),)"
      ]
     },
     "execution_count": 25,
     "metadata": {},
     "output_type": "execute_result"
    }
   ],
   "source": [
    "np.where(idx==5)"
   ]
  },
  {
   "cell_type": "code",
   "execution_count": 26,
   "id": "5344622b",
   "metadata": {},
   "outputs": [
    {
     "name": "stdout",
     "output_type": "stream",
     "text": [
      "Match IRAS[5] : ra = 0.7726925015449524 , dec = -1.9154912233352661\n",
      "SDSS[19711] : ra = 0.51393115 , dec = -1.2063099, d2d = 0.7548806612597737 deg\n",
      "SDSS[19720] : ra = 0.023121653 , dec = -1.2163687, d2d = 1.0247936214533742 deg\n",
      "SDSS[19721] : ra = 0.056005303 , dec = -1.2136299, d2d = 1.002925864629819 deg\n",
      "SDSS[19722] : ra = 0.12870372 , dec = -1.2130045, d2d = 0.9528350715932876 deg\n",
      "SDSS[19724] : ra = 0.16654755 , dec = -1.1911967, d2d = 0.9443194044874836 deg\n",
      "SDSS[71678] : ra = 0.51393115 , dec = -1.2063099, d2d = 0.7548806612597737 deg\n",
      "SDSS[71691] : ra = 0.24594648 , dec = -1.1079573, d2d = 0.9640406808048698 deg\n",
      "SDSS[135496] : ra = 0.302984 , dec = -0.999136, d2d = 1.029652980266088 deg\n",
      "SDSS[135498] : ra = 0.036677 , dec = -1.238461, d2d = 0.9998359551713715 deg\n",
      "SDSS[135499] : ra = 0.2637187 , dec = -0.87462349, d2d = 1.1585762572417622 deg\n",
      "SDSS[135500] : ra = 0.20495329 , dec = -1.03405, d2d = 1.0483540826732913 deg\n",
      "SDSS[181407] : ra = 0.230996 , dec = -1.139509, d2d = 0.9462400613219433 deg\n",
      "SDSS[181408] : ra = 0.281327 , dec = -1.059934, d2d = 0.9865346926491516 deg\n",
      "SDSS[181409] : ra = 0.365676 , dec = -1.102051, d2d = 0.909521591408203 deg\n",
      "SDSS[181410] : ra = 0.230094 , dec = -0.989108, d2d = 1.073500426299884 deg\n",
      "SDSS[181413] : ra = 0.316674 , dec = -0.967249, d2d = 1.0521309541755821 deg\n",
      "SDSS[181418] : ra = 0.127062 , dec = -1.259518, d2d = 0.9202254716600787 deg\n",
      "SDSS[181419] : ra = 0.140652 , dec = -1.134153, d2d = 1.0048260012029107 deg\n",
      "SDSS[181420] : ra = 0.166391 , dec = -1.041367, d2d = 1.0636928784153334 deg\n",
      "SDSS[184847] : ra = 0.44811201 , dec = -1.15539, d2d = 0.8264556393454368 deg\n",
      "SDSS[184861] : ra = 0.28810501 , dec = -1.151776, d2d = 0.9043860019882906 deg\n",
      "SDSS[184862] : ra = 0.26488999 , dec = -1.05339, d2d = 1.0004517496399372 deg\n",
      "SDSS[184863] : ra = 0.35393 , dec = -0.98029101, d2d = 1.0246195888331686 deg\n",
      "SDSS[184865] : ra = 0.25657001 , dec = -1.0196, d2d = 1.0338389901826903 deg\n",
      "SDSS[184884] : ra = 0.137898 , dec = -1.058727, d2d = 1.066175310753315 deg\n",
      "SDSS[184885] : ra = 0.23343199 , dec = -1.101457, d2d = 0.9763436510879264 deg\n",
      "SDSS[184895] : ra = 0.074780002 , dec = -1.224259, d2d = 0.9820957812877816 deg\n"
     ]
    }
   ],
   "source": [
    "indices = np.where(idx==5)[0]\n",
    "print(f\"Match IRAS[{5}] : ra = {IRAS['ra'][5]} , dec = {IRAS['dec'][5]}\" )\n",
    "for i in indices:\n",
    "    print(f\"SDSS[{i}] : ra = {SDSS['ra'][i]} , dec = {SDSS['dec'][i]}, d2d = {d2d[i]}\" )"
   ]
  },
  {
   "cell_type": "code",
   "execution_count": 27,
   "id": "4272822c",
   "metadata": {},
   "outputs": [
    {
     "data": {
      "text/plain": [
       "(array([ 19895,  19896,  19897,  19898,  19899,  19900,  19916,  19917,\n",
       "         20034,  20043,  20052,  20053,  20054,  20055,  20056,  20057,\n",
       "         20060,  20061,  20063,  20064,  20065,  20066,  20067,  20068,\n",
       "         20069,  20070,  20071,  20072,  20073,  20074,  20075,  20076,\n",
       "         20077,  20078,  20079,  20080,  20081,  20106,  20120,  20121,\n",
       "         20122,  20123,  20124,  20125,  20126,  20127,  20128,  20129,\n",
       "         20130,  20132,  20133,  20134,  20135,  20136,  20137,  20138,\n",
       "         20139,  20140,  20141,  20142,  20143,  20144,  20145,  20146,\n",
       "         20147,  20148,  20149,  20150,  20151,  20153,  20154,  20155,\n",
       "         20156,  20157,  20158,  20159,  20160,  20161,  20162,  20169,\n",
       "         20170,  20171,  20172,  20173,  20174,  20175,  20195,  20196,\n",
       "         20197,  20199,  20200,  20202,  20203,  20204,  20205,  20206,\n",
       "         20207,  20208,  20209,  20210,  20211,  20212,  20213,  20214,\n",
       "         20215,  20216,  20217,  20218,  20219,  20220,  20221,  20222,\n",
       "         20223,  20224,  20225,  20226,  20227,  20228,  20229,  20230,\n",
       "         20231,  20232,  20233,  20234,  20235,  20236,  20237,  20238,\n",
       "         20239,  20240,  20241,  20242,  20243,  20244,  20245,  20246,\n",
       "         20247,  20248,  20249,  20250,  20251,  20252,  20253,  20254,\n",
       "         20255,  20256,  20258,  20259,  20260,  20261,  20262,  20263,\n",
       "         20264,  20269,  20492,  20493,  20494,  20495,  20496,  20497,\n",
       "         20498,  20499,  20501,  20502,  20503,  20504,  20505,  20516,\n",
       "         20517,  20522,  20523,  20524,  20525,  20526,  20527,  20528,\n",
       "         20529,  20530,  20531,  69980,  69981,  70062,  70063,  70066,\n",
       "         70067,  70068,  70070,  70071,  70072,  70073,  70074,  70075,\n",
       "         70076,  70077,  71770,  71771,  71772,  71782,  71783,  71875,\n",
       "         71878,  71880,  71881,  71882,  71883,  71884,  71885,  71886,\n",
       "         71887,  71888,  71889,  71890,  71891,  71892,  71893,  71918,\n",
       "         71922,  71923,  71924,  71925,  71926,  71927,  71928,  71929,\n",
       "         71930,  71931,  71932,  71933,  71934,  71935,  71936,  71937,\n",
       "         71938,  71939,  71940,  71942,  71943,  71944,  71945,  71946,\n",
       "         71951,  71952,  71954,  71955,  71956,  71958,  71959,  71960,\n",
       "         71961,  71962,  71963,  71964,  71965,  71966,  71967,  71968,\n",
       "         71969,  71970,  71971,  71972,  71973,  71974,  71975,  71976,\n",
       "         71977,  71978,  71979,  71980,  71981,  71982,  71983,  71984,\n",
       "         71985,  71986,  71987,  71988,  71989,  71990,  71991,  71992,\n",
       "         71993,  71994,  71995,  71996,  71997,  72007,  72089, 135158,\n",
       "        135159, 135165, 135166, 135167, 135171, 135172, 135173, 135174,\n",
       "        135175, 135176, 135177, 135183, 135185, 135240, 135241, 135242,\n",
       "        135246, 135248, 135250, 135251, 135252, 135253, 135254, 135255,\n",
       "        135256, 135257, 135258, 135259, 135260, 135261, 135262, 135263,\n",
       "        135264, 135265, 135266, 135267, 135268, 135269, 135270, 135271,\n",
       "        135272, 135273, 135274, 135275, 135276, 135277, 135279, 135281,\n",
       "        135283, 135299, 135300, 135301, 135302, 135304, 135305, 135306,\n",
       "        135307, 135308, 135309, 135310, 135311, 135312, 135313, 135314,\n",
       "        135315, 135316, 135317, 135318, 135319, 135320, 135321, 135322,\n",
       "        135323, 135324, 135325, 135326, 135327, 135328, 135329, 135330,\n",
       "        135331, 135332, 135333, 135334, 135335, 135336, 135337, 135338,\n",
       "        135339, 135340, 135342, 135343, 135346, 135347, 135348, 135349,\n",
       "        135350, 135361, 135367, 135370, 135371, 135469, 135470, 135471,\n",
       "        135472, 135473, 135474, 135475, 135476, 135477, 135478, 135479,\n",
       "        135480, 135481, 135482, 135483, 135484, 181510, 181511, 181611,\n",
       "        181612, 181613, 181614, 181615, 181616, 181617, 181628, 181629,\n",
       "        181631, 181633, 181634, 181635, 181636, 181637, 181638, 181639,\n",
       "        181640, 181641, 181642, 181643, 181644, 181645, 181646, 181647,\n",
       "        181648, 181649, 181650, 181651, 181652, 181653, 181654, 181655,\n",
       "        181656, 181657, 181658, 181660, 181663, 181685, 181686, 181687,\n",
       "        181689, 181690, 181691, 181692, 181693, 181694, 181695, 181696,\n",
       "        181697, 181698, 181699, 181700, 181701, 181702, 181703, 181704,\n",
       "        181705, 181706, 181707, 181708, 181709, 181710, 181711, 181712,\n",
       "        181713, 181714, 181715, 181716, 181718, 181719, 181720, 181721,\n",
       "        181722, 181725, 181795, 181798, 181803, 181804, 181805, 181806,\n",
       "        181807, 181808, 181810, 181811, 181812, 181813, 181814, 181815,\n",
       "        181816, 181817, 181824, 181825, 185087, 185089, 185090, 185098,\n",
       "        185101, 185102, 185103, 185104, 185105, 185106, 185107, 185108,\n",
       "        185110, 185111, 185112, 185113, 185114, 185115, 185116, 185117,\n",
       "        185118, 185119, 185120, 185121, 185122, 185123, 185124, 185125,\n",
       "        185126, 185127, 185128, 185129, 185130, 185131, 185132, 185133,\n",
       "        185134, 185135, 185136, 185137, 185138, 185139, 185140, 185141,\n",
       "        185142, 185143, 185144, 185149, 185150, 185151, 185154, 185155,\n",
       "        185156, 185157, 185181, 185182, 185183, 185187, 185188, 185189,\n",
       "        185190, 185191, 185192, 185193, 185195, 185196, 185198, 185199,\n",
       "        185200, 185201, 185202, 185203, 185204, 185205, 185206, 185207,\n",
       "        185208, 185209, 185210, 185211, 185212, 185213, 185214, 185215,\n",
       "        185216, 185217, 185218, 185219, 185220, 185221, 185222, 185223,\n",
       "        185224, 185225, 185226, 185227, 185228, 185229, 185230, 185231,\n",
       "        185232, 185233, 185234, 185235, 185236, 185237, 185238, 185239,\n",
       "        185240, 185241, 185242, 185243, 185244, 185245, 185246, 185247,\n",
       "        185249, 185250, 185251, 185252, 185255, 185257, 185259, 185260,\n",
       "        185372, 185375, 185386, 185387, 185388, 185389, 185390, 185391,\n",
       "        185393, 185394, 185401, 185402, 185403], dtype=int64),)"
      ]
     },
     "execution_count": 27,
     "metadata": {},
     "output_type": "execute_result"
    }
   ],
   "source": [
    "# Explora:\n",
    "\n",
    "np.where(idx==84)"
   ]
  },
  {
   "cell_type": "code",
   "execution_count": 28,
   "id": "f8697110",
   "metadata": {},
   "outputs": [
    {
     "name": "stdout",
     "output_type": "stream",
     "text": [
      "Match IRAS[84] : ra = 3.7286314964294434 , dec = 0.251241534948349\n",
      "SDSS[19895] : ra = 3.1436066 , dec = 0.049789973, d2d = 0.6187359200563349 deg\n",
      "SDSS[19896] : ra = 3.0743046 , dec = -0.10294555, d2d = 0.7440363500793212 deg\n",
      "SDSS[19897] : ra = 3.0787286 , dec = -0.013361758, d2d = 0.7017022852215498 deg\n",
      "SDSS[19898] : ra = 3.2319399 , dec = 0.051845141, d2d = 0.535219099463444 deg\n",
      "SDSS[19899] : ra = 3.1669489 , dec = -0.036205308, d2d = 0.6309605762197946 deg\n",
      "SDSS[19900] : ra = 3.2771615 , dec = -0.13841074, d2d = 0.5963665573464648 deg\n",
      "SDSS[19916] : ra = 2.8606477 , dec = 0.067535306, d2d = 0.8872076142019346 deg\n",
      "SDSS[19917] : ra = 2.9560652 , dec = -0.031760269, d2d = 0.8227668473269437 deg\n",
      "SDSS[20034] : ra = 2.4377834 , dec = 0.58299646, d2d = 1.3327629576446316 deg\n",
      "SDSS[20043] : ra = 2.0330364 , dec = 1.2286852, d2d = 1.9570103303991677 deg\n",
      "SDSS[20052] : ra = 2.8021843 , dec = 0.65141226, d2d = 1.0091502521893205 deg\n",
      "SDSS[20053] : ra = 2.7823719 , dec = 0.59765268, d2d = 1.0076487481619165 deg\n",
      "SDSS[20054] : ra = 2.7039259 , dec = 0.73669121, d2d = 1.1338423925127756 deg\n",
      "SDSS[20055] : ra = 2.7797365 , dec = 0.4302093, d2d = 0.9656078733618315 deg\n",
      "SDSS[20056] : ra = 2.7507626 , dec = 0.30926083, d2d = 0.9795768588606347 deg\n",
      "SDSS[20057] : ra = 2.8114453 , dec = 0.47773562, d2d = 0.9447194903183096 deg\n",
      "SDSS[20060] : ra = 2.3154286 , dec = 0.81258425, d2d = 1.5205459154137244 deg\n",
      "SDSS[20061] : ra = 2.4295416 , dec = 0.9908201, d2d = 1.4947873519607935 deg\n",
      "SDSS[20063] : ra = 2.4969733 , dec = 0.91499137, d2d = 1.3990609686752689 deg\n",
      "SDSS[20064] : ra = 2.9748487 , dec = 0.5323446, d2d = 0.8044747997987793 deg\n",
      "SDSS[20065] : ra = 2.932049 , dec = 0.52288723, d2d = 0.8416085084258583 deg\n",
      "SDSS[20066] : ra = 3.0238851 , dec = 0.31458979, d2d = 0.7075791866697081 deg\n",
      "SDSS[20067] : ra = 2.8627499 , dec = 0.15897956, d2d = 0.87077747784875 deg\n",
      "SDSS[20068] : ra = 2.6204821 , dec = 1.050361, d2d = 1.3661656562739157 deg\n",
      "SDSS[20069] : ra = 2.8423547 , dec = 1.0117843, d2d = 1.1678205578428937 deg\n",
      "SDSS[20070] : ra = 2.9550055 , dec = 0.79328178, d2d = 0.9445901683758936 deg\n",
      "SDSS[20071] : ra = 2.6066081 , dec = 0.97215586, d2d = 1.3336018148541176 deg\n",
      "SDSS[20072] : ra = 2.949847 , dec = 0.83468281, d2d = 0.9730618029324112 deg\n",
      "SDSS[20073] : ra = 2.7868067 , dec = 0.84544325, d2d = 1.1135620257152965 deg\n",
      "SDSS[20074] : ra = 2.5806453 , dec = 0.94301062, d2d = 1.340245336157299 deg\n",
      "SDSS[20075] : ra = 2.9907791 , dec = 0.79226807, d2d = 0.914924394651121 deg\n",
      "SDSS[20076] : ra = 3.0876158 , dec = 0.61785719, d2d = 0.738432868805144 deg\n",
      "SDSS[20077] : ra = 3.1983154 , dec = 0.52293279, d2d = 0.5958505864070422 deg\n",
      "SDSS[20078] : ra = 3.1570722 , dec = 0.32586324, d2d = 0.5764027092661166 deg\n",
      "SDSS[20079] : ra = 3.2262368 , dec = 0.096340985, d2d = 0.5257300920565031 deg\n",
      "SDSS[20080] : ra = 3.0793294 , dec = 0.12253599, d2d = 0.6619317597786519 deg\n",
      "SDSS[20081] : ra = 3.0533278 , dec = 0.49290445, d2d = 0.7172280797258107 deg\n",
      "SDSS[20106] : ra = 4.0334693 , dec = -0.81093573, d2d = 1.1050528354119402 deg\n",
      "SDSS[20120] : ra = 3.7458024 , dec = -1.208458, d2d = 1.459800522670855 deg\n",
      "SDSS[20121] : ra = 3.8307669 , dec = -1.0543113, d2d = 1.309541487879367 deg\n",
      "SDSS[20122] : ra = 3.805721 , dec = -1.0543619, d2d = 1.307877134400699 deg\n",
      "SDSS[20123] : ra = 3.8616009 , dec = -0.97165443, d2d = 1.2301032712878885 deg\n",
      "SDSS[20124] : ra = 3.9227094 , dec = -0.79002314, d2d = 1.0591961606811393 deg\n",
      "SDSS[20125] : ra = 3.7791645 , dec = -0.86487711, d2d = 1.1172619581464214 deg\n",
      "SDSS[20126] : ra = 3.706383 , dec = -0.77463632, d2d = 1.0261190801112614 deg\n",
      "SDSS[20127] : ra = 3.829231 , dec = -1.1070804, d2d = 1.362041749851405 deg\n",
      "SDSS[20128] : ra = 3.9309893 , dec = -1.0150407, d2d = 1.282347814698311 deg\n",
      "SDSS[20129] : ra = 3.7459117 , dec = -1.0736878, d2d = 1.3250420169990815 deg\n",
      "SDSS[20130] : ra = 4.1924835 , dec = -0.58979884, d2d = 0.9604696048137921 deg\n",
      "SDSS[20132] : ra = 4.2299282 , dec = -0.46085935, d2d = 0.8708512993011873 deg\n",
      "SDSS[20133] : ra = 4.2809328 , dec = -0.14172289, d2d = 0.6778320530784111 deg\n",
      "SDSS[20134] : ra = 4.2321665 , dec = -0.23499384, d2d = 0.6999791525329145 deg\n",
      "SDSS[20135] : ra = 4.2194175 , dec = -0.42711351, d2d = 0.837277189927781 deg\n",
      "SDSS[20136] : ra = 4.2333228 , dec = -0.11593115, d2d = 0.6241216742025726 deg\n",
      "SDSS[20137] : ra = 4.1173981 , dec = -0.47289976, d2d = 0.8218987281694771 deg\n",
      "SDSS[20138] : ra = 4.1538608 , dec = -0.50224364, d2d = 0.8651915424574048 deg\n",
      "SDSS[20139] : ra = 4.0567379 , dec = -0.25843523, d2d = 0.6061546941397836 deg\n",
      "SDSS[20140] : ra = 4.061042 , dec = -0.43528513, d2d = 0.7627673353203178 deg\n",
      "SDSS[20141] : ra = 3.7641666 , dec = -0.58311431, d2d = 0.8351122103845194 deg\n",
      "SDSS[20142] : ra = 3.8486708 , dec = -0.45190684, d2d = 0.7133210081209316 deg\n",
      "SDSS[20143] : ra = 3.767872 , dec = -0.61918, d2d = 0.8713055939937839 deg\n",
      "SDSS[20144] : ra = 3.8989152 , dec = -0.16244701, d2d = 0.44736407554970115 deg\n",
      "SDSS[20145] : ra = 3.8386998 , dec = -0.57151401, d2d = 0.8300851956294955 deg\n",
      "SDSS[20146] : ra = 3.879303 , dec = -0.32799154, d2d = 0.5985087006669844 deg\n",
      "SDSS[20147] : ra = 3.8707447 , dec = -0.31506684, d2d = 0.5838674323067817 deg\n",
      "SDSS[20148] : ra = 3.9380927 , dec = -0.09993949, d2d = 0.4089032892617386 deg\n",
      "SDSS[20149] : ra = 3.5112963 , dec = -1.0068939, d2d = 1.2767675718706488 deg\n",
      "SDSS[20150] : ra = 3.4534506 , dec = -1.0026633, d2d = 1.2837428112821487 deg\n",
      "SDSS[20151] : ra = 3.5346762 , dec = -0.85084394, d2d = 1.1190213951151944 deg\n",
      "SDSS[20153] : ra = 3.6327069 , dec = -0.73755098, d2d = 0.9934343420129041 deg\n",
      "SDSS[20154] : ra = 3.6554002 , dec = -1.1111293, d2d = 1.3643374172391376 deg\n",
      "SDSS[20155] : ra = 3.4215478 , dec = -0.84245594, d2d = 1.1359882081099275 deg\n",
      "SDSS[20156] : ra = 3.6608394 , dec = -0.93858422, d2d = 1.1917553396006546 deg\n",
      "SDSS[20157] : ra = 3.665291 , dec = -0.8746443, d2d = 1.1276660441729054 deg\n",
      "SDSS[20158] : ra = 3.5953172 , dec = -0.17634924, d2d = 0.4478911593357145 deg\n",
      "SDSS[20159] : ra = 3.4783612 , dec = -0.60826417, d2d = 0.8952002631189835 deg\n",
      "SDSS[20160] : ra = 3.6103873 , dec = -0.43280857, d2d = 0.694194532229223 deg\n",
      "SDSS[20161] : ra = 3.5570422 , dec = -0.11124902, d2d = 0.4010513101805953 deg\n",
      "SDSS[20162] : ra = 3.6064842 , dec = -0.14148581, d2d = 0.4112841657625508 deg\n",
      "SDSS[20169] : ra = 3.2571558 , dec = -0.37479528, d2d = 0.7837148468299698 deg\n",
      "SDSS[20170] : ra = 3.3868985 , dec = -0.48351488, d2d = 0.8103371896970739 deg\n",
      "SDSS[20171] : ra = 3.4677605 , dec = -0.11956825, d2d = 0.4533798090761321 deg\n",
      "SDSS[20172] : ra = 3.3644753 , dec = -0.31555358, d2d = 0.6736952735265385 deg\n",
      "SDSS[20173] : ra = 3.3199041 , dec = -0.52282836, d2d = 0.8753506826328008 deg\n",
      "SDSS[20174] : ra = 3.2342391 , dec = -0.34741149, d2d = 0.7764063973592447 deg\n",
      "SDSS[20175] : ra = 3.407334 , dec = -0.38537252, d2d = 0.7130977087524599 deg\n",
      "SDSS[20195] : ra = 3.0516464 , dec = 1.036792, d2d = 1.0369827569584393 deg\n",
      "SDSS[20196] : ra = 3.0477211 , dec = 1.2690026, d2d = 1.224492842838008 deg\n",
      "SDSS[20197] : ra = 2.8698928 , dec = 0.40299601, d2d = 0.8720304303413889 deg\n",
      "SDSS[20199] : ra = 2.7968992 , dec = 0.25727756, d2d = 0.9317426565197175 deg\n",
      "SDSS[20200] : ra = 3.0804664 , dec = 0.11828169, d2d = 0.6616583281651083 deg\n",
      "SDSS[20202] : ra = 3.3021008 , dec = 1.0409786, d2d = 0.8975450010879549 deg\n",
      "SDSS[20203] : ra = 3.1761791 , dec = 0.67339149, d2d = 0.6952646715796093 deg\n",
      "SDSS[20204] : ra = 3.1788537 , dec = 1.0728908, d2d = 0.9885937357876637 deg\n",
      "SDSS[20205] : ra = 3.1903786 , dec = 0.66598529, d2d = 0.6794915137205918 deg\n",
      "SDSS[20206] : ra = 3.2021109 , dec = 0.75017707, d2d = 0.7253534744996334 deg\n",
      "SDSS[20207] : ra = 3.3445006 , dec = 0.090655511, d2d = 0.4163448145981801 deg\n",
      "SDSS[20208] : ra = 3.3909759 , dec = 0.058830239, d2d = 0.3886289575397694 deg\n",
      "SDSS[20209] : ra = 3.3266826 , dec = 0.0032952033, d2d = 0.4722703133293168 deg\n",
      "SDSS[20210] : ra = 3.4005973 , dec = 0.13623649, d2d = 0.3476080069408216 deg\n",
      "SDSS[20211] : ra = 3.1478655 , dec = 0.23171708, d2d = 0.5810889268279965 deg\n",
      "SDSS[20212] : ra = 3.4424991 , dec = 0.71043944, d2d = 0.5410436650395803 deg\n",
      "SDSS[20213] : ra = 3.5526284 , dec = 1.1694535, d2d = 0.9349250548623376 deg\n",
      "SDSS[20214] : ra = 3.4783148 , dec = 0.90758724, d2d = 0.7024535744298135 deg\n",
      "SDSS[20215] : ra = 3.4065876 , dec = 1.0217664, d2d = 0.8351086497885842 deg\n",
      "SDSS[20216] : ra = 3.3638106 , dec = 0.87556577, d2d = 0.7230911652346621 deg\n",
      "SDSS[20217] : ra = 3.4798586 , dec = 1.2128925, d2d = 0.993302045901428 deg\n",
      "SDSS[20218] : ra = 3.377503 , dec = 0.70129257, d2d = 0.5708134446896453 deg\n",
      "SDSS[20219] : ra = 3.371218 , dec = 0.67353286, d2d = 0.553231831556414 deg\n",
      "SDSS[20220] : ra = 3.4310577 , dec = 1.0888657, d2d = 0.8889042120187022 deg\n",
      "SDSS[20221] : ra = 3.4333174 , dec = 0.37168077, d2d = 0.31892539897322075 deg\n",
      "SDSS[20222] : ra = 3.4438319 , dec = 0.56748386, d2d = 0.425576858511221 deg\n",
      "SDSS[20223] : ra = 3.5600733 , dec = 0.23304118, d2d = 0.16953645681449586 deg\n",
      "SDSS[20224] : ra = 3.4698443 , dec = 0.078284234, d2d = 0.3112626504046663 deg\n",
      "SDSS[20225] : ra = 3.590549 , dec = 0.44664614, d2d = 0.23926764322305688 deg\n",
      "SDSS[20226] : ra = 3.5585786 , dec = -0.046426499, d2d = 0.34281787255025076 deg\n",
      "SDSS[20227] : ra = 3.6100162 , dec = 0.11434138, d2d = 0.18113832674759983 deg\n",
      "SDSS[20228] : ra = 3.7597449 , dec = 0.95018293, d2d = 0.6996334645076734 deg\n",
      "SDSS[20229] : ra = 3.7871785 , dec = 0.64538503, d2d = 0.3984678338981788 deg\n",
      "SDSS[20230] : ra = 3.7077482 , dec = 0.79581578, d2d = 0.5449744667808426 deg\n",
      "SDSS[20231] : ra = 3.809497 , dec = 0.82278774, d2d = 0.577237952169341 deg\n",
      "SDSS[20232] : ra = 3.7757501 , dec = 1.2455455, d2d = 0.9954195510028556 deg\n",
      "SDSS[20233] : ra = 3.7185002 , dec = 0.63424718, d2d = 0.3831395996928876 deg\n",
      "SDSS[20234] : ra = 3.6349277 , dec = 0.59365664, d2d = 0.3550042179546307 deg\n",
      "SDSS[20235] : ra = 3.6994533 , dec = 0.26499463, d2d = 0.032256738404379495 deg\n",
      "SDSS[20236] : ra = 3.6948698 , dec = 0.48181961, d2d = 0.23303658046396494 deg\n",
      "SDSS[20237] : ra = 3.7294683 , dec = 0.25229198, d2d = 0.001342996536570242 deg\n",
      "SDSS[20238] : ra = 3.8739158 , dec = 0.63977825, d2d = 0.41480952492365575 deg\n",
      "SDSS[20239] : ra = 3.8969778 , dec = 0.41317658, d2d = 0.23358608854277374 deg\n",
      "SDSS[20240] : ra = 3.8184069 , dec = 0.56605035, d2d = 0.3273587879612695 deg\n",
      "SDSS[20241] : ra = 3.7851459 , dec = 0.22131046, d2d = 0.06395070898381926 deg\n",
      "SDSS[20242] : ra = 3.7744572 , dec = -0.0062449565, d2d = 0.2615325611026737 deg\n",
      "SDSS[20243] : ra = 4.0090072 , dec = 0.042025931, d2d = 0.34983010650469587 deg\n",
      "SDSS[20244] : ra = 4.0279646 , dec = 0.41900994, d2d = 0.3431375943133661 deg\n",
      "SDSS[20245] : ra = 4.1595775 , dec = 0.55131409, d2d = 0.5251175579210605 deg\n",
      "SDSS[20246] : ra = 4.2495757 , dec = 0.35995169, d2d = 0.5321587615341533 deg\n",
      "SDSS[20247] : ra = 4.0450081 , dec = -0.086063694, d2d = 0.4624591648440466 deg\n",
      "SDSS[20248] : ra = 4.2075172 , dec = -0.0046726329, d2d = 0.5429752595807549 deg\n",
      "SDSS[20249] : ra = 4.2734245 , dec = 0.63631056, d2d = 0.6671271468627704 deg\n",
      "SDSS[20250] : ra = 4.1379768 , dec = 0.15379066, d2d = 0.42078273831677626 deg\n",
      "SDSS[20251] : ra = 4.0142894 , dec = 1.1744188, d2d = 0.9663551535449807 deg\n",
      "SDSS[20252] : ra = 4.0743647 , dec = 1.2561293, d2d = 1.0626886167640948 deg\n",
      "SDSS[20253] : ra = 4.0304142 , dec = 0.94120144, d2d = 0.7530647322156316 deg\n",
      "SDSS[20254] : ra = 3.8789698 , dec = 0.97303239, d2d = 0.7372792886558106 deg\n",
      "SDSS[20255] : ra = 3.9929887 , dec = 0.71730103, d2d = 0.5358085424192759 deg\n",
      "SDSS[20256] : ra = 4.3839817 , dec = 0.40371555, d2d = 0.6728431558835084 deg\n",
      "SDSS[20258] : ra = 4.416511 , dec = 0.50621391, d2d = 0.7335991044769498 deg\n",
      "SDSS[20259] : ra = 4.4808229 , dec = 0.33523211, d2d = 0.756856248636647 deg\n",
      "SDSS[20260] : ra = 4.4599338 , dec = 0.26726978, d2d = 0.7314704308678796 deg\n",
      "SDSS[20261] : ra = 4.2871739 , dec = 0.1425077, d2d = 0.5690244965060994 deg\n",
      "SDSS[20262] : ra = 4.4370879 , dec = 0.24108395, d2d = 0.7085226663756087 deg\n",
      "SDSS[20263] : ra = 4.2796136 , dec = 0.33043585, d2d = 0.5566373460102197 deg\n",
      "SDSS[20264] : ra = 4.4239599 , dec = 0.13121732, d2d = 0.7056074147622984 deg\n",
      "SDSS[20269] : ra = 4.0933044 , dec = 1.257887, d2d = 1.0706516275103783 deg\n",
      "SDSS[20492] : ra = 4.110801 , dec = -0.35060463, d2d = 0.7129311960261284 deg\n",
      "SDSS[20493] : ra = 4.1949084 , dec = -0.47380805, d2d = 0.8620367377542252 deg\n",
      "SDSS[20494] : ra = 4.1267852 , dec = -0.26734109, d2d = 0.6537990749161359 deg\n",
      "SDSS[20495] : ra = 3.9926922 , dec = -0.30350431, d2d = 0.6143862445312614 deg\n",
      "SDSS[20496] : ra = 3.9926922 , dec = -0.30350431, d2d = 0.6143862445312614 deg\n",
      "SDSS[20497] : ra = 3.9628676 , dec = -0.31396495, d2d = 0.6118206201536365 deg\n",
      "SDSS[20498] : ra = 3.9161307 , dec = -0.26709053, d2d = 0.5512021860944291 deg\n",
      "SDSS[20499] : ra = 4.1629751 , dec = -0.35800866, d2d = 0.7482233828114194 deg\n",
      "SDSS[20501] : ra = 4.110801 , dec = -0.35060463, d2d = 0.7129311960261284 deg\n",
      "SDSS[20502] : ra = 4.1629751 , dec = -0.35800866, d2d = 0.7482233828114194 deg\n",
      "SDSS[20503] : ra = 4.1949084 , dec = -0.47380805, d2d = 0.8620367377542252 deg\n",
      "SDSS[20504] : ra = 4.1267852 , dec = -0.26734109, d2d = 0.6537990749161359 deg\n",
      "SDSS[20505] : ra = 3.9161307 , dec = -0.26709053, d2d = 0.5512021860944291 deg\n",
      "SDSS[20516] : ra = 4.3327369 , dec = 0.65384415, d2d = 0.7259531078517798 deg\n",
      "SDSS[20517] : ra = 4.3327369 , dec = 0.65384415, d2d = 0.7259531078517798 deg\n",
      "SDSS[20522] : ra = 4.3241414 , dec = 0.54937617, d2d = 0.6659565871532537 deg\n",
      "SDSS[20523] : ra = 4.3241414 , dec = 0.54937617, d2d = 0.6659565871532537 deg\n",
      "SDSS[20524] : ra = 4.4759073 , dec = 0.32934063, d2d = 0.7513362448022813 deg\n",
      "SDSS[20525] : ra = 3.8250053 , dec = 0.24905877, d2d = 0.09639759930851675 deg\n",
      "SDSS[20526] : ra = 4.4489565 , dec = 0.28224386, d2d = 0.720984033948944 deg\n",
      "SDSS[20527] : ra = 4.4759073 , dec = 0.32934063, d2d = 0.7513362448022813 deg\n",
      "SDSS[20528] : ra = 4.1846645 , dec = -0.092781414, d2d = 0.5712415137527248 deg\n",
      "SDSS[20529] : ra = 4.4489565 , dec = 0.28224386, d2d = 0.720984033948944 deg\n",
      "SDSS[20530] : ra = 3.790982 , dec = -0.031392561, d2d = 0.28942978598903174 deg\n",
      "SDSS[20531] : ra = 3.8250053 , dec = 0.24905877, d2d = 0.09639759930851675 deg\n",
      "SDSS[69980] : ra = 2.7372393 , dec = 0.15662631, d2d = 0.9958904658029992 deg\n",
      "SDSS[69981] : ra = 2.9706876 , dec = 0.10768746, d2d = 0.7714147836313685 deg\n",
      "SDSS[70062] : ra = 2.1268145 , dec = 1.0590453, d2d = 1.793874720935389 deg\n",
      "SDSS[70063] : ra = 2.2571597 , dec = 0.89445722, d2d = 1.6058382187066145 deg\n",
      "SDSS[70066] : ra = 2.5391622 , dec = 0.93944357, d2d = 1.374150433846569 deg\n",
      "SDSS[70067] : ra = 2.3018307 , dec = 0.95158037, d2d = 1.589334847340988 deg\n",
      "SDSS[70068] : ra = 2.7180538 , dec = 0.55635964, d2d = 1.0556093766701815 deg\n",
      "SDSS[70070] : ra = 2.6324787 , dec = 0.57402344, d2d = 1.142660738626384 deg\n",
      "SDSS[70071] : ra = 2.7569361 , dec = 1.0095616, d2d = 1.2325230748520553 deg\n",
      "SDSS[70072] : ra = 2.7663742 , dec = 0.94633593, d2d = 1.1870058073184417 deg\n",
      "SDSS[70073] : ra = 2.6220341 , dec = 1.0103919, d2d = 1.34190188213064 deg\n",
      "SDSS[70074] : ra = 2.8748404 , dec = 0.901209, d2d = 1.073002961362801 deg\n",
      "SDSS[70075] : ra = 2.8177488 , dec = 0.49117073, d2d = 0.9419327107679353 deg\n",
      "SDSS[70076] : ra = 3.0437174 , dec = 0.47986235, d2d = 0.7220492071403012 deg\n",
      "SDSS[70077] : ra = 2.8823256 , dec = 0.58367635, d2d = 0.9092340252230718 deg\n",
      "SDSS[71770] : ra = 3.3199041 , dec = -0.52282836, d2d = 0.8753506826328008 deg\n",
      "SDSS[71771] : ra = 3.1568924 , dec = -0.34053461, d2d = 0.8228496195433178 deg\n",
      "SDSS[71772] : ra = 3.3671653 , dec = -0.16328995, d2d = 0.5499941092740684 deg\n",
      "SDSS[71782] : ra = 3.0047911 , dec = -0.17046974, d2d = 0.8377247062468935 deg\n",
      "SDSS[71783] : ra = 2.9560652 , dec = -0.031760269, d2d = 0.8227668473269437 deg\n",
      "SDSS[71875] : ra = 2.4778201 , dec = 1.1583952, d2d = 1.5450525574212421 deg\n",
      "SDSS[71878] : ra = 2.4432326 , dec = 0.84875897, d2d = 1.4174308126003177 deg\n",
      "SDSS[71880] : ra = 2.6981148 , dec = 0.60851169, d2d = 1.0906618902893797 deg\n",
      "SDSS[71881] : ra = 2.5122765 , dec = 0.55442125, d2d = 1.2535392972365313 deg\n",
      "SDSS[71882] : ra = 2.602309 , dec = 0.92254285, d2d = 1.3111445922943112 deg\n",
      "SDSS[71883] : ra = 2.7823719 , dec = 0.59765268, d2d = 1.0076487481619165 deg\n",
      "SDSS[71884] : ra = 3.0793294 , dec = 0.12253599, d2d = 0.6619317597786519 deg\n",
      "SDSS[71885] : ra = 2.9748487 , dec = 0.5323446, d2d = 0.8044747997987793 deg\n",
      "SDSS[71886] : ra = 3.0021723 , dec = 0.56029842, d2d = 0.7894500291746642 deg\n",
      "SDSS[71887] : ra = 2.8783001 , dec = 0.84175193, d2d = 1.0352264437796797 deg\n",
      "SDSS[71888] : ra = 3.2722524 , dec = 0.81000286, d2d = 0.7214406174655708 deg\n",
      "SDSS[71889] : ra = 3.1440707 , dec = 0.049800704, d2d = 0.6182936315402435 deg\n",
      "SDSS[71890] : ra = 3.1338259 , dec = 0.12711583, d2d = 0.6076157361525499 deg\n",
      "SDSS[71891] : ra = 3.2643608 , dec = 0.54184155, d2d = 0.5477087255190567 deg\n",
      "SDSS[71892] : ra = 3.2319399 , dec = 0.051845141, d2d = 0.535219099463444 deg\n",
      "SDSS[71893] : ra = 3.199402 , dec = 0.042445302, d2d = 0.5689266837613801 deg\n",
      "SDSS[71918] : ra = 4.0334693 , dec = -0.81093573, d2d = 1.1050528354119402 deg\n",
      "SDSS[71922] : ra = 4.2097188 , dec = -0.44047775, d2d = 0.8425657995866428 deg\n",
      "SDSS[71923] : ra = 4.3605402 , dec = -0.2239552, d2d = 0.7906441871663035 deg\n",
      "SDSS[71924] : ra = 4.1858715 , dec = -0.10027111, d2d = 0.5767395787166169 deg\n",
      "SDSS[71925] : ra = 4.1881203 , dec = -0.51223367, d2d = 0.8910780764042388 deg\n",
      "SDSS[71926] : ra = 4.0293142 , dec = -0.24436341, d2d = 0.5796842180981511 deg\n",
      "SDSS[71927] : ra = 4.1590773 , dec = -0.47571911, d2d = 0.8448385532010366 deg\n",
      "SDSS[71928] : ra = 4.0957587 , dec = -0.13740014, d2d = 0.5346251851397714 deg\n",
      "SDSS[71929] : ra = 4.0837323 , dec = -0.35578159, d2d = 0.7032584010273242 deg\n",
      "SDSS[71930] : ra = 3.7527223 , dec = -0.41817603, d2d = 0.6698509155800405 deg\n",
      "SDSS[71931] : ra = 3.7658977 , dec = -0.62431239, d2d = 0.8763466333474955 deg\n",
      "SDSS[71932] : ra = 3.861036 , dec = -0.028918541, d2d = 0.30987178798742027 deg\n",
      "SDSS[71933] : ra = 3.7335459 , dec = -0.080075634, d2d = 0.33135362462151463 deg\n",
      "SDSS[71934] : ra = 3.7495455 , dec = -0.75701653, d2d = 1.0084749487020437 deg\n",
      "SDSS[71935] : ra = 3.8616009 , dec = -0.97165443, d2d = 1.2301032712878885 deg\n",
      "SDSS[71936] : ra = 3.7453731 , dec = -0.94922161, d2d = 1.20057987984846 deg\n",
      "SDSS[71937] : ra = 3.8621375 , dec = -0.76254036, d2d = 1.022534490382089 deg\n",
      "SDSS[71938] : ra = 3.7010495 , dec = -0.047566541, d2d = 0.30007838112696256 deg\n",
      "SDSS[71939] : ra = 3.4788249 , dec = -0.60824482, d2d = 0.8950521603026631 deg\n",
      "SDSS[71940] : ra = 3.3670262 , dec = -0.32980097, d2d = 0.6843738804897144 deg\n",
      "SDSS[71942] : ra = 3.6341201 , dec = -0.7356628, d2d = 0.9914192907429547 deg\n",
      "SDSS[71943] : ra = 3.281123 , dec = -0.13764208, d2d = 0.5928687508220369 deg\n",
      "SDSS[71944] : ra = 3.199402 , dec = 0.042445302, d2d = 0.5689266837613801 deg\n",
      "SDSS[71945] : ra = 3.0743046 , dec = -0.10294555, d2d = 0.7440363500793212 deg\n",
      "SDSS[71946] : ra = 3.1902477 , dec = -0.35745159, d2d = 0.8126262731227534 deg\n",
      "SDSS[71951] : ra = 2.8606477 , dec = 0.067535306, d2d = 0.8872076142019346 deg\n",
      "SDSS[71952] : ra = 2.9560652 , dec = -0.031760269, d2d = 0.8227668473269437 deg\n",
      "SDSS[71954] : ra = 2.9550055 , dec = 0.79328178, d2d = 0.9445901683758936 deg\n",
      "SDSS[71955] : ra = 2.9943681 , dec = 0.89795492, d2d = 0.9784277989087439 deg\n",
      "SDSS[71956] : ra = 2.9336837 , dec = 0.52370202, d2d = 0.8403252911763144 deg\n",
      "SDSS[71958] : ra = 2.8139717 , dec = 0.454462, d2d = 0.9369463486330577 deg\n",
      "SDSS[71959] : ra = 2.7522051 , dec = 0.084915325, d2d = 0.9904867546329648 deg\n",
      "SDSS[71960] : ra = 2.8627499 , dec = 0.15897956, d2d = 0.87077747784875 deg\n",
      "SDSS[71961] : ra = 2.8195406 , dec = 0.48973384, d2d = 0.939834588759165 deg\n",
      "SDSS[71962] : ra = 3.4478055 , dec = 0.96055574, d2d = 0.7628761615863006 deg\n",
      "SDSS[71963] : ra = 3.3714809 , dec = 1.1524709, d2d = 0.9694065831127534 deg\n",
      "SDSS[71964] : ra = 3.4161978 , dec = 1.0970124, d2d = 0.9016251240588528 deg\n",
      "SDSS[71965] : ra = 3.2533644 , dec = 0.27231681, d2d = 0.4757291813448773 deg\n",
      "SDSS[71966] : ra = 3.2199834 , dec = 0.51214998, d2d = 0.5716503817218261 deg\n",
      "SDSS[71967] : ra = 2.9748487 , dec = 0.5323446, d2d = 0.8044747997987793 deg\n",
      "SDSS[71968] : ra = 3.020622 , dec = 0.30621015, d2d = 0.7101317310641938 deg\n",
      "SDSS[71969] : ra = 3.0298311 , dec = 0.093650632, d2d = 0.7163463835971614 deg\n",
      "SDSS[71970] : ra = 3.5502763 , dec = 1.1892623, d2d = 0.9548234254923506 deg\n",
      "SDSS[71971] : ra = 3.5258969 , dec = 1.1791496, d2d = 0.9497933304980436 deg\n",
      "SDSS[71972] : ra = 3.6311125 , dec = 0.99175691, d2d = 0.7469080989889506 deg\n",
      "SDSS[71973] : ra = 3.6600456 , dec = 1.1834543, d2d = 0.9347319422630795 deg\n",
      "SDSS[71974] : ra = 3.5338985 , dec = 0.87373816, d2d = 0.6522414783487497 deg\n",
      "SDSS[71975] : ra = 3.540573 , dec = 0.8333324, d2d = 0.61171258584637 deg\n",
      "SDSS[71976] : ra = 3.5221632 , dec = 1.2330567, d2d = 1.0032855817385675 deg\n",
      "SDSS[71977] : ra = 3.6362518 , dec = 0.48886479, d2d = 0.25494792842394776 deg\n",
      "SDSS[71978] : ra = 3.4438319 , dec = 0.56748386, d2d = 0.425576858511221 deg\n",
      "SDSS[71979] : ra = 3.3976852 , dec = 0.12674431, d2d = 0.3535870105993773 deg\n",
      "SDSS[71980] : ra = 3.6308462 , dec = 0.29551494, d2d = 0.10734001665785946 deg\n",
      "SDSS[71981] : ra = 3.6042134 , dec = 0.44612716, d2d = 0.2312134874020968 deg\n",
      "SDSS[71982] : ra = 4.1177406 , dec = 1.1338487, d2d = 0.9645600884822739 deg\n",
      "SDSS[71983] : ra = 3.8770415 , dec = 1.0843014, d2d = 0.8461742551310115 deg\n",
      "SDSS[71984] : ra = 3.9903566 , dec = 1.1178998, d2d = 0.9053096007026337 deg\n",
      "SDSS[71985] : ra = 3.8789698 , dec = 0.97303239, d2d = 0.7372792886558106 deg\n",
      "SDSS[71986] : ra = 3.706313 , dec = 0.30200385, d2d = 0.05545191790091392 deg\n",
      "SDSS[71987] : ra = 3.8615366 , dec = 0.74005847, d2d = 0.5065612724990485 deg\n",
      "SDSS[71988] : ra = 3.6712347 , dec = 0.44330743, d2d = 0.20045840484868965 deg\n",
      "SDSS[71989] : ra = 3.6977219 , dec = 0.49090684, d2d = 0.24165019165579218 deg\n",
      "SDSS[71990] : ra = 3.7232216 , dec = 0.17637022, d2d = 0.07506651664420685 deg\n",
      "SDSS[71991] : ra = 3.8969778 , dec = 0.41317658, d2d = 0.23358608854277374 deg\n",
      "SDSS[71992] : ra = 4.0002559 , dec = 0.1793972, d2d = 0.2809632935322805 deg\n",
      "SDSS[71993] : ra = 4.3951131 , dec = 0.54324121, d2d = 0.7276257299258477 deg\n",
      "SDSS[71994] : ra = 4.3206903 , dec = 0.5350277, d2d = 0.656544725309112 deg\n",
      "SDSS[71995] : ra = 4.3749472 , dec = 0.60255931, d2d = 0.7356110705497836 deg\n",
      "SDSS[71996] : ra = 4.3743424 , dec = 0.55113511, d2d = 0.7119391212043901 deg\n",
      "SDSS[71997] : ra = 4.480497 , dec = 0.13932848, d2d = 0.760144395974336 deg\n",
      "SDSS[72007] : ra = 4.4808229 , dec = 0.33523211, d2d = 0.756856248636647 deg\n",
      "SDSS[72089] : ra = 4.4840135 , dec = 0.14083792, d2d = 0.7634029440362069 deg\n",
      "SDSS[135158] : ra = 4.2600715 , dec = -0.38653848, d2d = 0.8301737878926528 deg\n",
      "SDSS[135159] : ra = 4.214195 , dec = -0.534761, d2d = 0.9238867722786366 deg\n",
      "SDSS[135165] : ra = 3.757449 , dec = -0.097317, d2d = 0.34974777188043144 deg\n",
      "SDSS[135166] : ra = 3.962298 , dec = -0.526294, d2d = 0.8118869408197339 deg\n",
      "SDSS[135167] : ra = 3.904582 , dec = -0.439913, d2d = 0.7131989377329137 deg\n",
      "SDSS[135171] : ra = 3.756709 , dec = 0.217945, d2d = 0.043554481635695405 deg\n",
      "SDSS[135172] : ra = 4.176512 , dec = 0.055958, d2d = 0.48860102905488095 deg\n",
      "SDSS[135173] : ra = 3.7598 , dec = -0.076921, d2d = 0.3296393890667468 deg\n",
      "SDSS[135174] : ra = 4.097459 , dec = 0.371179, d2d = 0.38783327936848194 deg\n",
      "SDSS[135175] : ra = 3.946413 , dec = -0.055094, d2d = 0.37585901079202017 deg\n",
      "SDSS[135176] : ra = 4.25145 , dec = -0.050905, d2d = 0.603846208845379 deg\n",
      "SDSS[135177] : ra = 4.01633 , dec = 0.14709, d2d = 0.30596886686162633 deg\n",
      "SDSS[135183] : ra = 4.378236 , dec = 0.366203, d2d = 0.6596891230692816 deg\n",
      "SDSS[135185] : ra = 4.459431 , dec = 0.267986, d2d = 0.7309837915004784 deg\n",
      "SDSS[135240] : ra = 4.229363 , dec = -0.396128, d2d = 0.8184230505914145 deg\n",
      "SDSS[135241] : ra = 4.342571 , dec = -0.050294, d2d = 0.683990757776152 deg\n",
      "SDSS[135242] : ra = 4.1860413 , dec = -0.032328194, d2d = 0.5381768551238776 deg\n",
      "SDSS[135246] : ra = 4.022254 , dec = -0.842796, d2d = 1.1327521374684995 deg\n",
      "SDSS[135248] : ra = 4.1206198 , dec = -0.74123789, d2d = 1.0670818162299938 deg\n",
      "SDSS[135250] : ra = 3.987163 , dec = -0.380745, d2d = 0.6828211818580966 deg\n",
      "SDSS[135251] : ra = 4.06577 , dec = -0.607343, d2d = 0.9224026037392309 deg\n",
      "SDSS[135252] : ra = 3.803041 , dec = -0.43968, d2d = 0.6949167387095623 deg\n",
      "SDSS[135253] : ra = 3.993225 , dec = -0.309584, d2d = 0.6201084056935761 deg\n",
      "SDSS[135254] : ra = 3.708919 , dec = -0.762436, d2d = 1.0138691880656112 deg\n",
      "SDSS[135255] : ra = 3.914784 , dec = -0.974119, d2d = 1.2394186215628982 deg\n",
      "SDSS[135256] : ra = 3.863338 , dec = -0.996561, d2d = 1.2550520103401384 deg\n",
      "SDSS[135257] : ra = 3.675057 , dec = -0.830188, d2d = 1.0827557109384514 deg\n",
      "SDSS[135258] : ra = 3.7359674 , dec = -0.94312586, d2d = 1.1943899323286256 deg\n",
      "SDSS[135259] : ra = 3.6712822 , dec = -1.1761191, d2d = 1.428512152245629 deg\n",
      "SDSS[135260] : ra = 3.649159 , dec = -0.25935, d2d = 0.5167393557517971 deg\n",
      "SDSS[135261] : ra = 3.710974 , dec = -0.146617, d2d = 0.39825018234362203 deg\n",
      "SDSS[135262] : ra = 3.66002 , dec = -0.393414, d2d = 0.6482964233070795 deg\n",
      "SDSS[135263] : ra = 3.641943 , dec = -0.039018, d2d = 0.30292813825412335 deg\n",
      "SDSS[135264] : ra = 3.5142 , dec = -0.50791, d2d = 0.7888542516939103 deg\n",
      "SDSS[135265] : ra = 3.534477 , dec = -0.667297, d2d = 0.9388331705240576 deg\n",
      "SDSS[135266] : ra = 3.549007 , dec = 0.03691, d2d = 0.27964750713832465 deg\n",
      "SDSS[135267] : ra = 3.385371 , dec = -0.478376, d2d = 0.8063296295399297 deg\n",
      "SDSS[135268] : ra = 3.487783 , dec = -0.340837, d2d = 0.6391904632692919 deg\n",
      "SDSS[135269] : ra = 3.5605542 , dec = -0.17460686, d2d = 0.4578173196826082 deg\n",
      "SDSS[135270] : ra = 3.1940956 , dec = -0.10310645, d2d = 0.6413187413522717 deg\n",
      "SDSS[135271] : ra = 3.353336 , dec = 0.010251, d2d = 0.44600695790648087 deg\n",
      "SDSS[135272] : ra = 3.2980112 , dec = -0.44650305, d2d = 0.8199259254919794 deg\n",
      "SDSS[135273] : ra = 3.247357 , dec = 0.061326, d2d = 0.5173887432587271 deg\n",
      "SDSS[135274] : ra = 3.3163831 , dec = -0.48102698, d2d = 0.8403350110537612 deg\n",
      "SDSS[135275] : ra = 3.629446 , dec = -1.034361, d2d = 1.2894226594231297 deg\n",
      "SDSS[135276] : ra = 3.637671 , dec = -1.118689, d2d = 1.3729467004526221 deg\n",
      "SDSS[135277] : ra = 3.645817 , dec = -0.73112, d2d = 0.9858459098677218 deg\n",
      "SDSS[135279] : ra = 3.620113 , dec = -0.745546, d2d = 1.0026769958413362 deg\n",
      "SDSS[135281] : ra = 3.13106 , dec = 0.050668, d2d = 0.6303321222636024 deg\n",
      "SDSS[135283] : ra = 3.4389421 , dec = -0.91840522, d2d = 1.2049845392513434 deg\n",
      "SDSS[135299] : ra = 2.8389 , dec = 1.182103, d2d = 1.2876272311096564 deg\n",
      "SDSS[135300] : ra = 2.759688 , dec = 1.195933, d2d = 1.3531897133574018 deg\n",
      "SDSS[135301] : ra = 2.826598 , dec = 0.901907, d2d = 1.1121775000903273 deg\n",
      "SDSS[135302] : ra = 2.810221 , dec = 0.745329, d2d = 1.0428476401959488 deg\n",
      "SDSS[135304] : ra = 2.770294 , dec = 0.244406, d2d = 0.9583528920350485 deg\n",
      "SDSS[135305] : ra = 3.04547 , dec = 1.25042, d2d = 1.2103616083269584 deg\n",
      "SDSS[135306] : ra = 2.999264 , dec = 1.113617, d2d = 1.1294170352839608 deg\n",
      "SDSS[135307] : ra = 2.9054062 , dec = 1.2491624, d2d = 1.2936044909952717 deg\n",
      "SDSS[135308] : ra = 3.005907 , dec = 0.857689, d2d = 0.9434274758706858 deg\n",
      "SDSS[135309] : ra = 2.98343 , dec = 0.943798, d2d = 1.0172966805485306 deg\n",
      "SDSS[135310] : ra = 3.0281523 , dec = 1.1945526, d2d = 1.17491175873694 deg\n",
      "SDSS[135311] : ra = 2.99032 , dec = 0.79263, d2d = 0.9155086101080995 deg\n",
      "SDSS[135312] : ra = 2.8721424 , dec = 0.59294751, d2d = 0.9221141608745463 deg\n",
      "SDSS[135313] : ra = 3.136424 , dec = 0.318824, d2d = 0.5960439366906098 deg\n",
      "SDSS[135314] : ra = 3.108388 , dec = 0.085626, d2d = 0.6419711034113041 deg\n",
      "SDSS[135315] : ra = 3.006658 , dec = 0.311116, d2d = 0.7244432762301105 deg\n",
      "SDSS[135316] : ra = 3.2509237 , dec = 1.1369116, d2d = 1.0062694192508903 deg\n",
      "SDSS[135317] : ra = 3.3259319 , dec = 1.1975962, d2d = 1.0284573308175509 deg\n",
      "SDSS[135318] : ra = 3.2391791 , dec = 1.1523613, d2d = 1.0254460356298254 deg\n",
      "SDSS[135319] : ra = 3.1519783 , dec = 0.76362897, d2d = 0.7713893127538497 deg\n",
      "SDSS[135320] : ra = 3.339186 , dec = 0.501474, d2d = 0.46290094573903545 deg\n",
      "SDSS[135321] : ra = 3.361569 , dec = 0.563149, d2d = 0.4816783095882009 deg\n",
      "SDSS[135322] : ra = 3.360724 , dec = 0.226344, d2d = 0.36874578730348595 deg\n",
      "SDSS[135323] : ra = 3.4366006 , dec = 0.73655706, d2d = 0.5663976900868546 deg\n",
      "SDSS[135324] : ra = 3.578668 , dec = 0.299032, d2d = 0.1573926845013431 deg\n",
      "SDSS[135325] : ra = 3.511504 , dec = 0.091266, d2d = 0.2696962575380895 deg\n",
      "SDSS[135326] : ra = 3.71308 , dec = 0.636219, d2d = 0.3852914146887146 deg\n",
      "SDSS[135327] : ra = 3.7318386 , dec = 0.19270227, d2d = 0.05862705955539081 deg\n",
      "SDSS[135328] : ra = 3.668177 , dec = 0.37956, d2d = 0.14184590070481706 deg\n",
      "SDSS[135329] : ra = 3.633294 , dec = 0.102771, d2d = 0.17644446405508868 deg\n",
      "SDSS[135330] : ra = 3.7703359 , dec = 0.35514387, d2d = 0.11195937259204321 deg\n",
      "SDSS[135331] : ra = 3.500355 , dec = 1.168302, d2d = 0.9450401712767997 deg\n",
      "SDSS[135332] : ra = 3.3703627 , dec = 1.2039089, d2d = 1.0177956374180863 deg\n",
      "SDSS[135333] : ra = 3.437695 , dec = 0.851566, d2d = 0.6671018505672037 deg\n",
      "SDSS[135334] : ra = 3.350319 , dec = 0.921096, d2d = 0.7692910506724921 deg\n",
      "SDSS[135335] : ra = 3.910776 , dec = 0.079429, d2d = 0.2503914307890281 deg\n",
      "SDSS[135336] : ra = 4.016333 , dec = 0.147094, d2d = 0.30597032609799907 deg\n",
      "SDSS[135337] : ra = 3.7668843 , dec = 1.002302, d2d = 0.7520338339885803 deg\n",
      "SDSS[135338] : ra = 3.5186313 , dec = 0.92495142, d2d = 0.7056769246583454 deg\n",
      "SDSS[135339] : ra = 3.693842 , dec = 0.929118, d2d = 0.6787684835806439 deg\n",
      "SDSS[135340] : ra = 3.625739 , dec = 1.001064, d2d = 0.7568481773227932 deg\n",
      "SDSS[135342] : ra = 4.485566 , dec = 0.120644, d2d = 0.7681140922830513 deg\n",
      "SDSS[135343] : ra = 4.155683 , dec = 0.64133, d2d = 0.5783858691189501 deg\n",
      "SDSS[135346] : ra = 3.8695915 , dec = 1.0261094, d2d = 0.7875831018923393 deg\n",
      "SDSS[135347] : ra = 3.9710279 , dec = 1.0088597, d2d = 0.7954453606331694 deg\n",
      "SDSS[135348] : ra = 3.918023 , dec = 0.811875, d2d = 0.591756400407153 deg\n",
      "SDSS[135349] : ra = 3.8046631 , dec = 0.96427895, d2d = 0.7170790890654486 deg\n",
      "SDSS[135350] : ra = 4.001761 , dec = 0.772182, d2d = 0.5881940293864921 deg\n",
      "SDSS[135361] : ra = 4.111068 , dec = 1.087781, d2d = 0.9198007201428225 deg\n",
      "SDSS[135367] : ra = 3.2244119 , dec = -0.46672345, d2d = 0.8773294142666106 deg\n",
      "SDSS[135370] : ra = 3.258357 , dec = -0.19693, d2d = 0.6496265472395119 deg\n",
      "SDSS[135371] : ra = 3.2253512 , dec = -0.037424809, d2d = 0.5801878094799757 deg\n",
      "SDSS[135469] : ra = 2.7836945 , dec = 0.50871646, d2d = 0.9793663525554627 deg\n",
      "SDSS[135470] : ra = 2.812137 , dec = 0.453603, d2d = 0.9385518834939729 deg\n",
      "SDSS[135471] : ra = 2.661978 , dec = 0.472908, d2d = 1.0894213154450467 deg\n",
      "SDSS[135472] : ra = 2.4025602 , dec = 1.0512499, d2d = 1.548619587596814 deg\n",
      "SDSS[135473] : ra = 2.2141716 , dec = 1.1000169, d2d = 1.7359860065455157 deg\n",
      "SDSS[135474] : ra = 2.425762 , dec = 0.967315, d2d = 1.4866122581570838 deg\n",
      "SDSS[135475] : ra = 3.1658165 , dec = 0.59790744, d2d = 0.6609989345558878 deg\n",
      "SDSS[135476] : ra = 3.00716 , dec = 0.759104, d2d = 0.8822706513031293 deg\n",
      "SDSS[135477] : ra = 3.143262 , dec = 0.585356, d2d = 0.6739960455508988 deg\n",
      "SDSS[135478] : ra = 3.175216 , dec = 0.58468, d2d = 0.6460903511165945 deg\n",
      "SDSS[135479] : ra = 3.1195928 , dec = 0.14617595, d2d = 0.6180310141764696 deg\n",
      "SDSS[135480] : ra = 2.496301 , dec = 1.243606, d2d = 1.5821280627771417 deg\n",
      "SDSS[135481] : ra = 2.49392 , dec = 1.191975, d2d = 1.5521648701428885 deg\n",
      "SDSS[135482] : ra = 2.493547 , dec = 1.223261, d2d = 1.5716126483861002 deg\n",
      "SDSS[135483] : ra = 2.533363 , dec = 1.194647, d2d = 1.522636148448621 deg\n",
      "SDSS[135484] : ra = 2.990318 , dec = 0.792628, d2d = 0.9155090402712474 deg\n",
      "SDSS[181510] : ra = 2.988453 , dec = -0.095814, d2d = 0.8175017159910377 deg\n",
      "SDSS[181511] : ra = 3.143484 , dec = -0.086852, d2d = 0.6757981411971351 deg\n",
      "SDSS[181611] : ra = 3.035249 , dec = 0.849935, d2d = 0.916059141338531 deg\n",
      "SDSS[181612] : ra = 3.144677 , dec = 0.675974, d2d = 0.7220641330441177 deg\n",
      "SDSS[181613] : ra = 2.547862 , dec = 0.913677, d2d = 1.3538381246109277 deg\n",
      "SDSS[181614] : ra = 2.692454 , dec = 0.68953, d2d = 1.1250257479222698 deg\n",
      "SDSS[181615] : ra = 2.954492 , dec = 0.413125, d2d = 0.7908714488984085 deg\n",
      "SDSS[181616] : ra = 3.104915 , dec = 0.215895, d2d = 0.6247120578385217 deg\n",
      "SDSS[181617] : ra = 3.312242 , dec = 0.046204, d2d = 0.4641327917420345 deg\n",
      "SDSS[181628] : ra = 3.886033 , dec = -0.714508, d2d = 0.9784919137172235 deg\n",
      "SDSS[181629] : ra = 4.014216 , dec = -0.852116, d2d = 1.1397155853662906 deg\n",
      "SDSS[181631] : ra = 3.971224 , dec = -0.652221, d2d = 0.9354644576103816 deg\n",
      "SDSS[181633] : ra = 4.303115 , dec = -0.24324, d2d = 0.7579849818821581 deg\n",
      "SDSS[181634] : ra = 3.76679 , dec = -0.802173, d2d = 1.0541054031500254 deg\n",
      "SDSS[181635] : ra = 3.819056 , dec = -0.895837, d2d = 1.1506368879142939 deg\n",
      "SDSS[181636] : ra = 3.750925 , dec = -1.260695, d2d = 1.51210087293538 deg\n",
      "SDSS[181637] : ra = 3.832316 , dec = -0.804853, d2d = 1.061171809481625 deg\n",
      "SDSS[181638] : ra = 3.72807 , dec = -0.715169, d2d = 0.966410708426841 deg\n",
      "SDSS[181639] : ra = 3.828763 , dec = -0.638752, d2d = 0.8956084591455621 deg\n",
      "SDSS[181640] : ra = 3.904379 , dec = -0.426158, d2d = 0.6998263328546496 deg\n",
      "SDSS[181641] : ra = 3.935783 , dec = -0.359619, d2d = 0.6450286077947572 deg\n",
      "SDSS[181642] : ra = 3.978657 , dec = -0.078506, d2d = 0.4138186550529928 deg\n",
      "SDSS[181643] : ra = 3.994371 , dec = -0.306104, d2d = 0.6174552332802817 deg\n",
      "SDSS[181644] : ra = 3.570491 , dec = -0.758009, d2d = 1.021564458653924 deg\n",
      "SDSS[181645] : ra = 3.615589 , dec = -0.848435, d2d = 1.1054711079478838 deg\n",
      "SDSS[181646] : ra = 3.563233 , dec = -0.305733, d2d = 0.5810138416285308 deg\n",
      "SDSS[181647] : ra = 3.696698 , dec = -0.223439, d2d = 0.4757534680547419 deg\n",
      "SDSS[181648] : ra = 3.713144 , dec = -0.230079, d2d = 0.4815696506850487 deg\n",
      "SDSS[181649] : ra = 3.676835 , dec = -0.124277, d2d = 0.3790739267290257 deg\n",
      "SDSS[181650] : ra = 3.642512 , dec = -0.25285, d2d = 0.5113949604941581 deg\n",
      "SDSS[181651] : ra = 3.656305 , dec = -0.232694, d2d = 0.4893104359035358 deg\n",
      "SDSS[181652] : ra = 3.687631 , dec = -0.053145, d2d = 0.30713547603524427 deg\n",
      "SDSS[181653] : ra = 3.484426 , dec = -0.40715, d2d = 0.702221462711773 deg\n",
      "SDSS[181654] : ra = 3.219214 , dec = -0.37919, d2d = 0.8105227745675708 deg\n",
      "SDSS[181655] : ra = 3.358384 , dec = 0.007246, d2d = 0.44341416891619256 deg\n",
      "SDSS[181656] : ra = 3.225196 , dec = -0.07016, d2d = 0.5972812954715773 deg\n",
      "SDSS[181657] : ra = 3.36659 , dec = -0.019366, d2d = 0.45199745987330864 deg\n",
      "SDSS[181658] : ra = 3.349795 , dec = -0.210684, d2d = 0.5974039671943036 deg\n",
      "SDSS[181660] : ra = 3.017789 , dec = -0.355751, d2d = 0.934736241216986 deg\n",
      "SDSS[181663] : ra = 2.871467 , dec = -0.034761, d2d = 0.9036173172322097 deg\n",
      "SDSS[181685] : ra = 2.677439 , dec = 0.310436, d2d = 1.0528451747305378 deg\n",
      "SDSS[181686] : ra = 2.799962 , dec = 0.176843, d2d = 0.9316383361417689 deg\n",
      "SDSS[181687] : ra = 2.716179 , dec = 0.421382, d2d = 1.0266312504323816 deg\n",
      "SDSS[181689] : ra = 3.258925 , dec = 1.173291, d2d = 1.034775591793611 deg\n",
      "SDSS[181690] : ra = 3.162647 , dec = 1.217606, d2d = 1.1198832400108778 deg\n",
      "SDSS[181691] : ra = 3.174147 , dec = 0.672315, d2d = 0.6962288024828722 deg\n",
      "SDSS[181692] : ra = 3.058444 , dec = 0.268998, d2d = 0.6704157627892865 deg\n",
      "SDSS[181693] : ra = 2.995578 , dec = 0.398758, d2d = 0.7477372046335106 deg\n",
      "SDSS[181694] : ra = 3.63514 , dec = 0.931735, d2d = 0.68688497378415 deg\n",
      "SDSS[181695] : ra = 3.359337 , dec = 0.082421, d2d = 0.4060511566949209 deg\n",
      "SDSS[181696] : ra = 3.196093 , dec = 0.193482, d2d = 0.5356576422616284 deg\n",
      "SDSS[181697] : ra = 3.241902 , dec = 0.626791, d2d = 0.6147586764583219 deg\n",
      "SDSS[181698] : ra = 3.358002 , dec = 0.684462, d2d = 0.5701196082300957 deg\n",
      "SDSS[181699] : ra = 3.300155 , dec = 0.619346, d2d = 0.5648732272466478 deg\n",
      "SDSS[181700] : ra = 3.435592 , dec = 0.651226, d2d = 0.49583669953951964 deg\n",
      "SDSS[181701] : ra = 3.462212 , dec = 0.654403, d2d = 0.4832326332491792 deg\n",
      "SDSS[181702] : ra = 3.579307 , dec = 0.200984, d2d = 0.15755404344883012 deg\n",
      "SDSS[181703] : ra = 3.552282 , dec = 0.196874, d2d = 0.18453860263263613 deg\n",
      "SDSS[181704] : ra = 3.758301 , dec = 0.7789, d2d = 0.5284918607238629 deg\n",
      "SDSS[181705] : ra = 3.70444 , dec = 1.213762, d2d = 0.9628243582035289 deg\n",
      "SDSS[181706] : ra = 3.797938 , dec = 1.206762, d2d = 0.9580301882819922 deg\n",
      "SDSS[181707] : ra = 3.778303 , dec = 1.241562, d2d = 0.9915651168801993 deg\n",
      "SDSS[181708] : ra = 3.874033 , dec = 0.845885, d2d = 0.6121603605104101 deg\n",
      "SDSS[181709] : ra = 3.692673 , dec = 0.316611, d2d = 0.07460661588351807 deg\n",
      "SDSS[181710] : ra = 3.972652 , dec = 0.16009, d2d = 0.26048767431301856 deg\n",
      "SDSS[181711] : ra = 3.998399 , dec = 0.398922, d2d = 0.30754127709068013 deg\n",
      "SDSS[181712] : ra = 4.017087 , dec = 0.432127, d2d = 0.34047480685728554 deg\n",
      "SDSS[181713] : ra = 3.909885 , dec = 0.246482, d2d = 0.1813142709762157 deg\n",
      "SDSS[181714] : ra = 3.934578 , dec = 0.133103, d2d = 0.23742406060560323 deg\n",
      "SDSS[181715] : ra = 4.078451 , dec = 1.158367, d2d = 0.9722289842274036 deg\n",
      "SDSS[181716] : ra = 3.974503 , dec = 1.219736, d2d = 0.9992111398791816 deg\n",
      "SDSS[181718] : ra = 4.103967 , dec = 0.34204, d2d = 0.38615707808112193 deg\n",
      "SDSS[181719] : ra = 4.117402 , dec = 0.293881, d2d = 0.391097423772428 deg\n",
      "SDSS[181720] : ra = 4.427197 , dec = 0.095909, d2d = 0.7156236214385173 deg\n",
      "SDSS[181721] : ra = 4.312837 , dec = 0.207033, d2d = 0.5858711277115715 deg\n",
      "SDSS[181722] : ra = 4.245263 , dec = 0.773653, d2d = 0.7347098945844698 deg\n",
      "SDSS[181725] : ra = 4.172652 , dec = 0.854511, d2d = 0.7490447627992077 deg\n",
      "SDSS[181795] : ra = 4.091915 , dec = -0.348168, d2d = 0.7009032773475242 deg\n",
      "SDSS[181798] : ra = 4.093131 , dec = -0.205822, d2d = 0.5846077680070434 deg\n",
      "SDSS[181803] : ra = 4.005224 , dec = -0.843415, d2d = 1.129058011043332 deg\n",
      "SDSS[181804] : ra = 3.86266 , dec = -0.460869, d2d = 0.7246135359795717 deg\n",
      "SDSS[181805] : ra = 4.00171 , dec = -0.302687, d2d = 0.6175824672985747 deg\n",
      "SDSS[181806] : ra = 4.051196 , dec = -0.436831, d2d = 0.7599277330700088 deg\n",
      "SDSS[181807] : ra = 3.974941 , dec = -0.497519, d2d = 0.7882319328510478 deg\n",
      "SDSS[181808] : ra = 4.089313 , dec = 0.899116, d2d = 0.7414971040164556 deg\n",
      "SDSS[181810] : ra = 4.2846 , dec = 0.789095, d2d = 0.7735370439062249 deg\n",
      "SDSS[181811] : ra = 4.108619 , dec = 0.94501, d2d = 0.791004214274508 deg\n",
      "SDSS[181812] : ra = 4.195764 , dec = 0.813354, d2d = 0.7308642799344853 deg\n",
      "SDSS[181813] : ra = 4.05596 , dec = 0.490046, d2d = 0.40517511556256075 deg\n",
      "SDSS[181814] : ra = 3.841085 , dec = 0.251693, d2d = 0.11245332470697665 deg\n",
      "SDSS[181815] : ra = 3.835273 , dec = 0.416768, d2d = 0.19690358734223515 deg\n",
      "SDSS[181816] : ra = 3.81278 , dec = -0.083687, d2d = 0.34533761099300797 deg\n",
      "SDSS[181817] : ra = 4.093355 , dec = 0.36838, d2d = 0.383067502228724 deg\n",
      "SDSS[181824] : ra = 4.165525 , dec = 0.627078, d2d = 0.5762959910331695 deg\n",
      "SDSS[181825] : ra = 4.148574 , dec = 0.43514, d2d = 0.45843632406455576 deg\n",
      "SDSS[185087] : ra = 3.9586179 , dec = -1.072204, d2d = 1.3432783734417804 deg\n",
      "SDSS[185089] : ra = 3.966593 , dec = -0.96119899, d2d = 1.2355700870819124 deg\n",
      "SDSS[185090] : ra = 4.0931888 , dec = -0.74543297, d2d = 1.0612522269061857 deg\n",
      "SDSS[185098] : ra = 4.4384861 , dec = -0.087932996, d2d = 0.7867213070100334 deg\n",
      "SDSS[185101] : ra = 3.934752 , dec = -1.09706, d2d = 1.3639642378404544 deg\n",
      "SDSS[185102] : ra = 3.738672 , dec = -0.91779, d2d = 1.1690746591822272 deg\n",
      "SDSS[185103] : ra = 3.8577011 , dec = -0.99954897, d2d = 1.2574317091334237 deg\n",
      "SDSS[185104] : ra = 3.7533829 , dec = -0.76354402, d2d = 1.0150873594272756 deg\n",
      "SDSS[185105] : ra = 3.906898 , dec = -1.011085, d2d = 1.2748508027775247 deg\n",
      "SDSS[185106] : ra = 3.8903489 , dec = -0.83359498, d2d = 1.0968232982489492 deg\n",
      "SDSS[185107] : ra = 4.1519632 , dec = -0.62402201, d2d = 0.9722605794990172 deg\n",
      "SDSS[185108] : ra = 4.0959821 , dec = -0.478829, d2d = 0.8172803094009691 deg\n",
      "SDSS[185110] : ra = 4.2900858 , dec = -0.25240201, d2d = 0.7542451357636692 deg\n",
      "SDSS[185111] : ra = 4.1732001 , dec = -0.342709, d2d = 0.7419006609489099 deg\n",
      "SDSS[185112] : ra = 4.072258 , dec = -0.206927, d2d = 0.572710169995696 deg\n",
      "SDSS[185113] : ra = 3.6814001 , dec = -1.144735, d2d = 1.396775240977787 deg\n",
      "SDSS[185114] : ra = 3.7092991 , dec = -1.106338, d2d = 1.3577171741929528 deg\n",
      "SDSS[185115] : ra = 3.687269 , dec = -1.027655, d2d = 1.2795651918094562 deg\n",
      "SDSS[185116] : ra = 3.509789 , dec = -0.91344798, d2d = 1.1850698200219145 deg\n",
      "SDSS[185117] : ra = 3.721982 , dec = -0.80255997, d2d = 1.0538224932178624 deg\n",
      "SDSS[185118] : ra = 3.706912 , dec = -0.71932697, d2d = 0.9708114957485703 deg\n",
      "SDSS[185119] : ra = 3.66748 , dec = -0.78719902, d2d = 1.040239457482233 deg\n",
      "SDSS[185120] : ra = 3.6429169 , dec = -0.86861199, d2d = 1.123128881823327 deg\n",
      "SDSS[185121] : ra = 3.5464039 , dec = -1.0203609, d2d = 1.2845920813972942 deg\n",
      "SDSS[185122] : ra = 3.5736339 , dec = -0.77596802, d2d = 1.0388371373133172 deg\n",
      "SDSS[185123] : ra = 4.0355048 , dec = -0.38246599, d2d = 0.704098983047964 deg\n",
      "SDSS[185124] : ra = 3.781636 , dec = -0.61889499, d2d = 0.8717493816865807 deg\n",
      "SDSS[185125] : ra = 4.0423131 , dec = -0.139249, d2d = 0.5008777655895084 deg\n",
      "SDSS[185126] : ra = 3.986829 , dec = -0.149529, d2d = 0.47674170590003295 deg\n",
      "SDSS[185127] : ra = 3.9960749 , dec = -0.65642899, d2d = 0.9462501688632575 deg\n",
      "SDSS[185128] : ra = 3.82897 , dec = -0.42215899, d2d = 0.6808347505921841 deg\n",
      "SDSS[185129] : ra = 3.9888999 , dec = -0.43485901, d2d = 0.7338069419914048 deg\n",
      "SDSS[185130] : ra = 4.0012031 , dec = -0.41302899, d2d = 0.7180178550929929 deg\n",
      "SDSS[185131] : ra = 3.6706531 , dec = -0.536569, d2d = 0.7899410584604213 deg\n",
      "SDSS[185132] : ra = 3.6987319 , dec = -0.59377599, d2d = 0.8455463302696403 deg\n",
      "SDSS[185133] : ra = 3.526264 , dec = -0.667822, d2d = 0.9410786275003977 deg\n",
      "SDSS[185134] : ra = 3.702888 , dec = -0.65512502, d2d = 0.9067320752311243 deg\n",
      "SDSS[185135] : ra = 3.666959 , dec = -0.36625499, d2d = 0.6205686321114195 deg\n",
      "SDSS[185136] : ra = 3.7646439 , dec = -0.60163802, d2d = 0.8536395082373186 deg\n",
      "SDSS[185137] : ra = 3.5236449 , dec = -0.08704, d2d = 0.3955422844488986 deg\n",
      "SDSS[185138] : ra = 3.3690121 , dec = -0.67160201, d2d = 0.9904351553948162 deg\n",
      "SDSS[185139] : ra = 3.4598861 , dec = -0.51679498, d2d = 0.8136969462886268 deg\n",
      "SDSS[185140] : ra = 3.3801701 , dec = -0.145757, d2d = 0.528235361164568 deg\n",
      "SDSS[185141] : ra = 3.4986899 , dec = -0.54553902, d2d = 0.8292956073160088 deg\n",
      "SDSS[185142] : ra = 3.385309 , dec = -0.054566, d2d = 0.45976946409496283 deg\n",
      "SDSS[185143] : ra = 3.4622259 , dec = -0.191873, d2d = 0.5170319784763832 deg\n",
      "SDSS[185144] : ra = 3.4382119 , dec = -0.074412003, d2d = 0.43634085830905117 deg\n",
      "SDSS[185149] : ra = 3.505975 , dec = -0.74295598, d2d = 1.0188240653794487 deg\n",
      "SDSS[185150] : ra = 3.286685 , dec = -0.29354799, d2d = 0.7015061214379014 deg\n",
      "SDSS[185151] : ra = 3.2838781 , dec = -0.44430399, d2d = 0.8255823263783364 deg\n",
      "SDSS[185154] : ra = 3.326472 , dec = -0.052937001, d2d = 0.5042380178667292 deg\n",
      "SDSS[185155] : ra = 3.259413 , dec = -0.198943, d2d = 0.650254516244368 deg\n",
      "SDSS[185156] : ra = 3.3300409 , dec = -0.44186199, d2d = 0.7995402375936068 deg\n",
      "SDSS[185157] : ra = 3.1155829 , dec = -0.25224701, d2d = 0.7933012511566714 deg\n",
      "SDSS[185181] : ra = 2.830194 , dec = 1.01634, d2d = 1.18002321453087 deg\n",
      "SDSS[185182] : ra = 2.94031 , dec = 1.126657, d2d = 1.1780072300932314 deg\n",
      "SDSS[185183] : ra = 2.786942 , dec = 0.65667599, d2d = 1.0252301189164714 deg\n",
      "SDSS[185187] : ra = 3.1392469 , dec = 1.003951, d2d = 0.9559806686473468 deg\n",
      "SDSS[185188] : ra = 2.974596 , dec = 0.97518402, d2d = 1.0452700727469721 deg\n",
      "SDSS[185189] : ra = 2.985831 , dec = 1.087623, d2d = 1.1185711319425549 deg\n",
      "SDSS[185190] : ra = 3.0753319 , dec = 0.75990301, d2d = 0.8279497562517841 deg\n",
      "SDSS[185191] : ra = 2.796102 , dec = 0.177029, d2d = 0.9354712525518528 deg\n",
      "SDSS[185192] : ra = 2.723218 , dec = 0.27837101, d2d = 1.0057686906901535 deg\n",
      "SDSS[185193] : ra = 2.874507 , dec = 0.41958401, d2d = 0.8705413769663465 deg\n",
      "SDSS[185195] : ra = 2.63905 , dec = 0.54843301, d2d = 1.1293582620883036 deg\n",
      "SDSS[185196] : ra = 2.9335849 , dec = 0.12266, d2d = 0.8053727626629575 deg\n",
      "SDSS[185198] : ra = 2.655412 , dec = 0.56739998, d2d = 1.1187915332785203 deg\n",
      "SDSS[185199] : ra = 3.3366311 , dec = 0.87270701, d2d = 0.7347566534597972 deg\n",
      "SDSS[185200] : ra = 3.303932 , dec = 0.78464103, d2d = 0.6818127486213865 deg\n",
      "SDSS[185201] : ra = 3.3116021 , dec = 1.153805, d2d = 0.9942356654972926 deg\n",
      "SDSS[185202] : ra = 3.226151 , dec = 1.049922, d2d = 0.9435785432470044 deg\n",
      "SDSS[185203] : ra = 3.216655 , dec = 0.24065401, d2d = 0.5120812326557777 deg\n",
      "SDSS[185204] : ra = 3.034548 , dec = 0.401034, d2d = 0.7100519550031003 deg\n",
      "SDSS[185205] : ra = 3.0705359 , dec = 0.45678699, d2d = 0.6894358056998491 deg\n",
      "SDSS[185206] : ra = 2.9848671 , dec = 0.42998099, d2d = 0.7649269562041843 deg\n",
      "SDSS[185207] : ra = 3.4800889 , dec = 0.907718, d2d = 0.7019456966919565 deg\n",
      "SDSS[185208] : ra = 3.6143711 , dec = 1.254699, d2d = 1.009940450042166 deg\n",
      "SDSS[185209] : ra = 3.510457 , dec = 0.83684701, d2d = 0.624923326042259 deg\n",
      "SDSS[185210] : ra = 3.515245 , dec = 1.0225019, d2d = 0.8002312269228581 deg\n",
      "SDSS[185211] : ra = 3.3736501 , dec = 0.92301297, d2d = 0.7597854689306203 deg\n",
      "SDSS[185212] : ra = 3.3227241 , dec = 0.043331999, d2d = 0.4560547319371713 deg\n",
      "SDSS[185213] : ra = 3.4025259 , dec = 0.039703999, d2d = 0.3887057800078588 deg\n",
      "SDSS[185214] : ra = 3.317961 , dec = 0.064356998, d2d = 0.45119248211953417 deg\n",
      "SDSS[185215] : ra = 3.299068 , dec = 0.62572598, d2d = 0.5698700892785273 deg\n",
      "SDSS[185216] : ra = 3.346632 , dec = 0.39549801, d2d = 0.4083243961710892 deg\n",
      "SDSS[185217] : ra = 3.4226439 , dec = 0.23095299, d2d = 0.3066567665961119 deg\n",
      "SDSS[185218] : ra = 3.608387 , dec = 0.000839, d2d = 0.277777033117147 deg\n",
      "SDSS[185219] : ra = 3.627151 , dec = -0.036796, d2d = 0.30539132362799476 deg\n",
      "SDSS[185220] : ra = 3.5032251 , dec = 0.31543601, d2d = 0.2343666427471252 deg\n",
      "SDSS[185221] : ra = 3.6195829 , dec = 0.42620701, d2d = 0.2061651884918566 deg\n",
      "SDSS[185222] : ra = 3.431838 , dec = 0.40338901, d2d = 0.3335150685473801 deg\n",
      "SDSS[185223] : ra = 3.5713179 , dec = 0.259215, d2d = 0.15751397276363485 deg\n",
      "SDSS[185224] : ra = 3.615442 , dec = 0.55561203, d2d = 0.32473464289124065 deg\n",
      "SDSS[185225] : ra = 3.588865 , dec = 0.261408, d2d = 0.14013435915334027 deg\n",
      "SDSS[185226] : ra = 3.685765 , dec = 0.45300901, d2d = 0.20627063521994773 deg\n",
      "SDSS[185227] : ra = 3.73261 , dec = 0.298067, d2d = 0.04699416274323273 deg\n",
      "SDSS[185228] : ra = 3.747663 , dec = 0.61594403, d2d = 0.3651986835754187 deg\n",
      "SDSS[185229] : ra = 3.7553909 , dec = 0.329732, d2d = 0.08292646509307257 deg\n",
      "SDSS[185230] : ra = 3.8181069 , dec = 0.0042610001, d2d = 0.2626883801724684 deg\n",
      "SDSS[185231] : ra = 3.6543231 , dec = 0.380436, d2d = 0.14903950677369446 deg\n",
      "SDSS[185232] : ra = 3.6459861 , dec = -0.0054649999, d2d = 0.2696821625896241 deg\n",
      "SDSS[185233] : ra = 3.777029 , dec = 0.671296, d2d = 0.4228331832614887 deg\n",
      "SDSS[185234] : ra = 3.696826 , dec = 1.038432, d2d = 0.7878326329053981 deg\n",
      "SDSS[185235] : ra = 3.647028 , dec = 0.74061698, d2d = 0.4961319452439682 deg\n",
      "SDSS[185236] : ra = 3.7465439 , dec = 1.2105581, d2d = 0.9594837396091738 deg\n",
      "SDSS[185237] : ra = 3.8361599 , dec = 1.076943, d2d = 0.8326725022660262 deg\n",
      "SDSS[185238] : ra = 3.731451 , dec = 0.69409001, d2d = 0.4428574394691562 deg\n",
      "SDSS[185239] : ra = 3.8812461 , dec = 0.991611, d2d = 0.7559332522936223 deg\n",
      "SDSS[185240] : ra = 4.1432381 , dec = 0.535932, d2d = 0.5029302331204072 deg\n",
      "SDSS[185241] : ra = 4.1665721 , dec = 0.41755801, d2d = 0.4684511331838094 deg\n",
      "SDSS[185242] : ra = 4.163517 , dec = 0.514166, d2d = 0.5081789977381957 deg\n",
      "SDSS[185243] : ra = 4.161201 , dec = 0.029888, d2d = 0.48591398607561986 deg\n",
      "SDSS[185244] : ra = 4.0249891 , dec = 0.02073, d2d = 0.3754501104045492 deg\n",
      "SDSS[185245] : ra = 3.983922 , dec = -0.041655, d2d = 0.38853734082371516 deg\n",
      "SDSS[185246] : ra = 3.938746 , dec = -0.043003999, d2d = 0.3615636881329719 deg\n",
      "SDSS[185247] : ra = 4.0267639 , dec = 0.91292799, d2d = 0.7257421832128716 deg\n",
      "SDSS[185249] : ra = 3.9268169 , dec = 1.143533, d2d = 0.9140322095741945 deg\n",
      "SDSS[185250] : ra = 4.079011 , dec = 1.137099, d2d = 0.9526220427547265 deg\n",
      "SDSS[185251] : ra = 3.9450381 , dec = 0.70029998, d2d = 0.4984795134277464 deg\n",
      "SDSS[185252] : ra = 3.9637539 , dec = 0.97307301, d2d = 0.7591549014569409 deg\n",
      "SDSS[185255] : ra = 4.4187222 , dec = 0.424229, d2d = 0.7114301883863772 deg\n",
      "SDSS[185257] : ra = 4.3653202 , dec = 0.57830298, d2d = 0.7157648556802705 deg\n",
      "SDSS[185259] : ra = 4.317575 , dec = 0.073156998, d2d = 0.6152767549086502 deg\n",
      "SDSS[185260] : ra = 4.3262892 , dec = 0.088624, d2d = 0.6193834048195089 deg\n",
      "SDSS[185372] : ra = 4.2267871 , dec = -0.434264, d2d = 0.847392032021037 deg\n",
      "SDSS[185375] : ra = 4.1689491 , dec = -0.38873699, d2d = 0.7768203240904373 deg\n",
      "SDSS[185386] : ra = 3.9865129 , dec = -0.82990003, d2d = 1.1114703111970876 deg\n",
      "SDSS[185387] : ra = 3.8728361 , dec = -0.41643599, d2d = 0.6830724555842685 deg\n",
      "SDSS[185388] : ra = 4.03859 , dec = -0.212934, d2d = 0.5581511186017369 deg\n",
      "SDSS[185389] : ra = 3.810379 , dec = -0.40016001, d2d = 0.6565108964081194 deg\n",
      "SDSS[185390] : ra = 4.1443968 , dec = -0.52089399, d2d = 0.8769552400631813 deg\n",
      "SDSS[185391] : ra = 4.1679859 , dec = 0.63725001, d2d = 0.5848268848457406 deg\n",
      "SDSS[185393] : ra = 4.190135 , dec = 0.39305601, d2d = 0.4827939278915183 deg\n",
      "SDSS[185394] : ra = 4.0217371 , dec = -0.089892, d2d = 0.4497583389174389 deg\n",
      "SDSS[185401] : ra = 4.5029359 , dec = 0.23434, d2d = 0.774481878567587 deg\n",
      "SDSS[185402] : ra = 4.37217 , dec = 0.30152601, d2d = 0.6454925677127117 deg\n",
      "SDSS[185403] : ra = 4.4631639 , dec = -0.054914001, d2d = 0.7957802358810152 deg\n"
     ]
    }
   ],
   "source": [
    "# Explora:\n",
    "indices = np.where(idx==84)[0]\n",
    "print(f\"Match IRAS[{84}] : ra = {IRAS['ra'][84]} , dec = {IRAS['dec'][84]}\" )\n",
    "for i in indices:\n",
    "    print(f\"SDSS[{i}] : ra = {SDSS['ra'][i]} , dec = {SDSS['dec'][i]}, d2d = {d2d[i]}\" )"
   ]
  },
  {
   "cell_type": "code",
   "execution_count": null,
   "id": "420a8664",
   "metadata": {},
   "outputs": [],
   "source": []
  },
  {
   "cell_type": "markdown",
   "id": "5bddd6d0",
   "metadata": {},
   "source": [
    "**La pregunta que surge es ¿Cual es el match apropiado?**\n",
    "\n",
    "La respuesta esta en el investigador, quien debe elegir (de acuerdo con sus criterios) cual es la mejor opción. \n",
    "\n",
    "Por ejemplo, en este caso se podría decir que el mejor match es entre el SDSS[19711] y el IRAS[5] porque la distancia entre estos objetos es de 0.75488 deg.\n",
    "\n",
    "También puede ser posible que el investigador considere los tres objetos mas cercanos en el SDSS correspondan a un solo objeto en el IRAS. Es decir que  SDSS[19711], SDSS[19722] y SDSS[19724] sean el objeto IRAS[5].\n",
    "\n"
   ]
  },
  {
   "cell_type": "markdown",
   "id": "5a91164d",
   "metadata": {},
   "source": [
    "---\n",
    "\n",
    "Una posibilidad adicional es restringir los resultados con una distancía máxima dentro de la cual se considera que si existe un match. Por ejemplo, podemos imponer que solamente si la distancia es menor que 10 arcsec se considere la posibilidad de match. "
   ]
  },
  {
   "cell_type": "code",
   "execution_count": 29,
   "id": "19259966",
   "metadata": {},
   "outputs": [
    {
     "data": {
      "text/plain": [
       "array([False, False, False, ..., False, False, False])"
      ]
     },
     "execution_count": 29,
     "metadata": {},
     "output_type": "execute_result"
    }
   ],
   "source": [
    "max_sep = 10 * u.arcsec # Criterio de maxima distancia posible\n",
    "\n",
    "# Creamos una mascara booleana\n",
    "sep_constraint = d2d < max_sep\n",
    "sep_constraint"
   ]
  },
  {
   "cell_type": "code",
   "execution_count": 30,
   "id": "d3983191",
   "metadata": {},
   "outputs": [],
   "source": [
    "SDSSmasked = SDSScat[sep_constraint]\n",
    "IRASmasked = IRAScat[idx[sep_constraint]]"
   ]
  },
  {
   "cell_type": "code",
   "execution_count": 31,
   "id": "668365a5",
   "metadata": {},
   "outputs": [
    {
     "data": {
      "text/plain": [
       "<SkyCoord (ICRS): (ra, dec) in deg\n",
       "    [(145.51241,  0.33917087), (145.51241,  0.33917087),\n",
       "     (167.2324 ,  0.44480423), ..., (242.24222, 19.823751  ),\n",
       "     (245.78193, 19.004866  ), (258.72922, 35.520481  )]>"
      ]
     },
     "execution_count": 31,
     "metadata": {},
     "output_type": "execute_result"
    }
   ],
   "source": [
    "SDSSmasked"
   ]
  },
  {
   "cell_type": "code",
   "execution_count": 32,
   "id": "594319cf",
   "metadata": {},
   "outputs": [
    {
     "data": {
      "text/plain": [
       "1349"
      ]
     },
     "execution_count": 32,
     "metadata": {},
     "output_type": "execute_result"
    }
   ],
   "source": [
    "# Explora:\n",
    "\n",
    "# type(SDSSmasked)\n",
    "len(SDSSmasked)"
   ]
  },
  {
   "cell_type": "code",
   "execution_count": 33,
   "id": "41815bc1",
   "metadata": {},
   "outputs": [
    {
     "data": {
      "text/plain": [
       "<SkyCoord (ICRS): (ra, dec) in deg\n",
       "    [(145.51395,  0.3375216 ), (145.51395,  0.3375216 ),\n",
       "     (167.2346 ,  0.44466087), ..., (242.24101, 19.82251   ),\n",
       "     (245.78319, 19.005993  ), (258.7292 , 35.520664  )]>"
      ]
     },
     "execution_count": 33,
     "metadata": {},
     "output_type": "execute_result"
    }
   ],
   "source": [
    "IRASmasked"
   ]
  },
  {
   "cell_type": "markdown",
   "id": "0b72eb5b",
   "metadata": {},
   "source": [
    "Asi se tienen solamente los objetos que hacen match y que cumplen con la ondiciónd e distancia máxima."
   ]
  },
  {
   "cell_type": "code",
   "execution_count": 34,
   "id": "e0a70619",
   "metadata": {},
   "outputs": [
    {
     "data": {
      "text/plain": [
       "1349"
      ]
     },
     "execution_count": 34,
     "metadata": {},
     "output_type": "execute_result"
    }
   ],
   "source": [
    "len(IRASmasked)"
   ]
  }
 ],
 "metadata": {
  "kernelspec": {
   "display_name": "Python 3 (ipykernel)",
   "language": "python",
   "name": "python3"
  },
  "language_info": {
   "codemirror_mode": {
    "name": "ipython",
    "version": 3
   },
   "file_extension": ".py",
   "mimetype": "text/x-python",
   "name": "python",
   "nbconvert_exporter": "python",
   "pygments_lexer": "ipython3",
   "version": "3.9.7"
  }
 },
 "nbformat": 4,
 "nbformat_minor": 5
}
