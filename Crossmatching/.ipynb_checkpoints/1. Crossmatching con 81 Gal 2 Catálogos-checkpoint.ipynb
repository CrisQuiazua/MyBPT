{
 "cells": [
  {
   "cell_type": "code",
   "execution_count": 1,
   "id": "ac721892",
   "metadata": {},
   "outputs": [
    {
     "name": "stdout",
     "output_type": "stream",
     "text": [
      "Could not import regions, which is required for some of the functionalities of this module.\n"
     ]
    }
   ],
   "source": [
    "import numpy as np\n",
    "import pandas as pd\n",
    "import time\n",
    "import pyvo\n",
    "import warnings\n",
    "import astropy.units as u\n",
    "import matplotlib.pyplot as plt\n",
    "from datetime import date\n",
    "from astropy.table import Table\n",
    "from astropy.table import hstack\n",
    "from astroquery.sdss import SDSS\n",
    "from astropy.coordinates import SkyCoord\n",
    "from matplotlib import pyplot as plt\n",
    "from astropy import coordinates, units as u\n",
    "from astroquery.xmatch import XMatch"
   ]
  },
  {
   "cell_type": "code",
   "execution_count": 2,
   "id": "cb82c262",
   "metadata": {},
   "outputs": [
    {
     "name": "stderr",
     "output_type": "stream",
     "text": [
      "C:\\ProgramData\\Anaconda33\\lib\\site-packages\\astroquery\\sdss\\core.py:874: VisibleDeprecationWarning: Reading unicode strings without specifying the encoding argument is deprecated. Set the encoding, use None for the system default.\n",
      "  arr = np.atleast_1d(np.genfromtxt(io.BytesIO(response.content),\n"
     ]
    }
   ],
   "source": [
    "query = \"\"\"SELECT TOP 20000\n",
    "    s.specobjid, s.ra, s.dec, s.z, g.h_alpha_flux, g.h_beta_flux,\n",
    "    g.oiii_5007_flux, g.nii_6548_flux, g.nii_6584_flux,\n",
    "    g.sii_6717_flux, g.sii_6731_flux, g.oi_6300_flux, s.class, s.subclass\n",
    "\n",
    "    FROM SpecObjAll AS s\n",
    "    JOIN galSpecExtra AS ID ON ID.specObjID = s.specObjID\n",
    "    JOIN galSpecLine AS g ON g.specObjID = s.specObjID\n",
    "\n",
    "\n",
    "    WHERE subclass IN ('STARFORMING', 'STARBURST', 'AGN', 'BROADLINE')\n",
    "    AND NOT h_alpha_flux <='0' AND NOT h_beta_flux <='0'\n",
    "    AND NOT oiii_5007_flux <='0' AND NOT nii_6548_flux <='0'\n",
    "    AND NOT nii_6584_flux <='0' AND NOT sii_6717_flux <='0' \n",
    "    AND NOT sii_6731_flux <='0' AND NOT oi_6300_flux <='0'\n",
    "    AND z < 0.8\n",
    "\n",
    "    ORDER BY specobjid ASC\"\"\"\n",
    "\n",
    "SDSS = SDSS.query_sql(query)"
   ]
  },
  {
   "cell_type": "code",
   "execution_count": 3,
   "id": "0295d94c",
   "metadata": {},
   "outputs": [
    {
     "data": {
      "text/plain": [
       "astropy.table.table.Table"
      ]
     },
     "execution_count": 3,
     "metadata": {},
     "output_type": "execute_result"
    }
   ],
   "source": [
    "type(SDSS)"
   ]
  },
  {
   "cell_type": "code",
   "execution_count": 4,
   "id": "4a476418",
   "metadata": {},
   "outputs": [
    {
     "data": {
      "text/html": [
       "<div><i>Table length=5</i>\n",
       "<table id=\"table2541558488992\" class=\"table-striped table-bordered table-condensed\">\n",
       "<thead><tr><th>specobjid</th><th>ra</th><th>dec</th><th>z</th><th>h_alpha_flux</th><th>h_beta_flux</th><th>oiii_5007_flux</th><th>nii_6548_flux</th><th>nii_6584_flux</th><th>sii_6717_flux</th><th>sii_6731_flux</th><th>oi_6300_flux</th><th>class</th><th>subclass</th></tr></thead>\n",
       "<thead><tr><th>int64</th><th>float64</th><th>float64</th><th>float64</th><th>float64</th><th>float64</th><th>float64</th><th>float64</th><th>float64</th><th>float64</th><th>float64</th><th>float64</th><th>bytes6</th><th>bytes11</th></tr></thead>\n",
       "<tr><td>299489677444933632</td><td>146.71421</td><td>-1.0413043</td><td>0.02122228</td><td>472.5904</td><td>119.4956</td><td>68.39606</td><td>74.30252</td><td>224.1136</td><td>124.7115</td><td>84.18053</td><td>18.59493</td><td>GALAXY</td><td>STARFORMING</td></tr>\n",
       "<tr><td>299490502078654464</td><td>146.62857</td><td>-0.76513683</td><td>0.06465632</td><td>99.40005</td><td>25.64047</td><td>21.44437</td><td>17.10464</td><td>51.59155</td><td>35.33497</td><td>21.65778</td><td>8.490424</td><td>GALAXY</td><td>STARFORMING</td></tr>\n",
       "<tr><td>299491051364706304</td><td>146.9639</td><td>-0.54500256</td><td>0.05598787</td><td>181.5262</td><td>47.3665</td><td>11.85567</td><td>17.94872</td><td>54.13749</td><td>31.28298</td><td>19.16762</td><td>4.319232</td><td>GALAXY</td><td>STARBURST</td></tr>\n",
       "<tr><td>299491051834468352</td><td>146.63167</td><td>-0.98827781</td><td>0.05265425</td><td>127.3058</td><td>38.33226</td><td>35.46671</td><td>8.550285</td><td>25.78963</td><td>30.26996</td><td>25.72297</td><td>6.269853</td><td>GALAXY</td><td>STARFORMING</td></tr>\n",
       "<tr><td>299492700632147968</td><td>146.59272</td><td>-0.76025604</td><td>0.06502353</td><td>211.5018</td><td>53.18228</td><td>15.59901</td><td>25.31465</td><td>76.35482</td><td>41.6377</td><td>28.47964</td><td>7.211103</td><td>GALAXY</td><td>STARFORMING</td></tr>\n",
       "</table></div>"
      ],
      "text/plain": [
       "<Table length=5>\n",
       "    specobjid          ra        dec     ... oi_6300_flux class    subclass \n",
       "      int64         float64    float64   ...   float64    bytes6   bytes11  \n",
       "------------------ --------- ----------- ... ------------ ------ -----------\n",
       "299489677444933632 146.71421  -1.0413043 ...     18.59493 GALAXY STARFORMING\n",
       "299490502078654464 146.62857 -0.76513683 ...     8.490424 GALAXY STARFORMING\n",
       "299491051364706304  146.9639 -0.54500256 ...     4.319232 GALAXY   STARBURST\n",
       "299491051834468352 146.63167 -0.98827781 ...     6.269853 GALAXY STARFORMING\n",
       "299492700632147968 146.59272 -0.76025604 ...     7.211103 GALAXY STARFORMING"
      ]
     },
     "execution_count": 4,
     "metadata": {},
     "output_type": "execute_result"
    }
   ],
   "source": [
    "SDSS[0:5]"
   ]
  },
  {
   "cell_type": "code",
   "execution_count": 5,
   "id": "8a3160f9",
   "metadata": {},
   "outputs": [],
   "source": [
    "service = pyvo.dal.TAPService ('https://irsa.ipac.caltech.edu/TAP')\n",
    "result = service.run_async(\"\"\"\n",
    "            SELECT\n",
    "            galname,\n",
    "            ra,\n",
    "            dec,\n",
    "            fnu_12,\n",
    "            fnu_25,\n",
    "            fnu_60,\n",
    "            fnu_100,\n",
    "            rat_12_25,\n",
    "            rat_25_60,\n",
    "            rat_60_100\n",
    "            \n",
    "            FROM irasgal\n",
    "            ORDER BY galname ASC\"\"\")\n",
    "IRAS = result.to_table()"
   ]
  },
  {
   "cell_type": "code",
   "execution_count": 6,
   "id": "ec2a6410",
   "metadata": {},
   "outputs": [
    {
     "data": {
      "text/html": [
       "<div><i>Table length=5</i>\n",
       "<table id=\"table2541661693120\" class=\"table-striped table-bordered table-condensed\">\n",
       "<thead><tr><th>galname</th><th>ra</th><th>dec</th><th>fnu_12</th><th>fnu_25</th><th>fnu_60</th><th>fnu_100</th><th>rat_12_25</th><th>rat_25_60</th><th>rat_60_100</th></tr></thead>\n",
       "<thead><tr><th></th><th>degrees</th><th>degrees</th><th>Jy</th><th>Jy</th><th>Jy</th><th>Jy</th><th></th><th></th><th></th></tr></thead>\n",
       "<thead><tr><th>object</th><th>float32</th><th>float32</th><th>float32</th><th>float32</th><th>float32</th><th>float32</th><th>float32</th><th>float32</th><th>float32</th></tr></thead>\n",
       "<tr><td>00000-0359</td><td>0.6448</td><td>-3.7105</td><td>0.25</td><td>0.33</td><td>1.21</td><td>2.49</td><td>0.7576</td><td>0.2727</td><td>0.4859</td></tr>\n",
       "<tr><td>00001+0827</td><td>0.6663</td><td>8.7373</td><td>0.25</td><td>0.28</td><td>0.70</td><td>1.19</td><td>0.8929</td><td>0.4000</td><td>0.5882</td></tr>\n",
       "<tr><td>00003+0313</td><td>0.7196</td><td>3.5042</td><td>0.25</td><td>0.32</td><td>0.52</td><td>1.12</td><td>0.7812</td><td>0.6154</td><td>0.4643</td></tr>\n",
       "<tr><td>00003-3431</td><td>0.7281</td><td>-34.2385</td><td>1.06</td><td>0.25</td><td>0.80</td><td>2.57</td><td>4.2400</td><td>0.3125</td><td>0.3113</td></tr>\n",
       "<tr><td>00005+2140</td><td>0.7878</td><td>21.9597</td><td>0.25</td><td>1.05</td><td>4.25</td><td>4.51</td><td>0.2381</td><td>0.2471</td><td>0.9424</td></tr>\n",
       "</table></div>"
      ],
      "text/plain": [
       "<Table length=5>\n",
       " galname      ra      dec     fnu_12 ... fnu_100 rat_12_25 rat_25_60 rat_60_100\n",
       "           degrees  degrees     Jy   ...    Jy                                 \n",
       "  object   float32  float32  float32 ... float32  float32   float32   float32  \n",
       "---------- -------- -------- ------- ... ------- --------- --------- ----------\n",
       "00000-0359   0.6448  -3.7105    0.25 ...    2.49    0.7576    0.2727     0.4859\n",
       "00001+0827   0.6663   8.7373    0.25 ...    1.19    0.8929    0.4000     0.5882\n",
       "00003+0313   0.7196   3.5042    0.25 ...    1.12    0.7812    0.6154     0.4643\n",
       "00003-3431   0.7281 -34.2385    1.06 ...    2.57    4.2400    0.3125     0.3113\n",
       "00005+2140   0.7878  21.9597    0.25 ...    4.51    0.2381    0.2471     0.9424"
      ]
     },
     "execution_count": 6,
     "metadata": {},
     "output_type": "execute_result"
    }
   ],
   "source": [
    "IRAS[0:5]"
   ]
  },
  {
   "cell_type": "markdown",
   "id": "4ac21ff5",
   "metadata": {},
   "source": [
    "---\n",
    "\n",
    "Verificamos la longitud de los dos catalogos. El catalogo que tenga mas elementos será el que utilizaremos como referencia.\n"
   ]
  },
  {
   "cell_type": "code",
   "execution_count": 7,
   "id": "89487f96",
   "metadata": {},
   "outputs": [
    {
     "data": {
      "text/plain": [
       "(11444, 20000)"
      ]
     },
     "execution_count": 7,
     "metadata": {},
     "output_type": "execute_result"
    }
   ],
   "source": [
    "len(IRAS), len(SDSS)"
   ]
  },
  {
   "cell_type": "markdown",
   "id": "c07ecbbf",
   "metadata": {},
   "source": [
    "---\n",
    "\n",
    "Ahora crearemos cuatro arreglos de `NumPy` con la información de las coordenadas celestes"
   ]
  },
  {
   "cell_type": "code",
   "execution_count": 8,
   "id": "f962647a",
   "metadata": {},
   "outputs": [],
   "source": [
    "ra1 = np.asarray(IRAS['ra'])\n",
    "dec1 = np.asarray(IRAS['dec'])\n",
    "ra2 = np.asarray(SDSS['ra'])\n",
    "dec2 = np.asarray(SDSS['dec'])"
   ]
  },
  {
   "cell_type": "markdown",
   "id": "df05056d",
   "metadata": {},
   "source": [
    "Utilizando esos arreglos, definiremos dos 'catalogos' utilizando la función SkyCoord( ). Nótese que las coordenadas celestes ya se plantean en grados dentro de los catalogos originales "
   ]
  },
  {
   "cell_type": "code",
   "execution_count": 9,
   "id": "ea8b0c8b",
   "metadata": {},
   "outputs": [],
   "source": [
    "IRAScat = SkyCoord(ra=ra1*u.degree, dec=dec1*u.degree)\n",
    "SDSScat = SkyCoord(ra=ra2*u.degree, dec=dec2*u.degree)"
   ]
  },
  {
   "cell_type": "code",
   "execution_count": 10,
   "id": "a5f28d42",
   "metadata": {},
   "outputs": [
    {
     "data": {
      "text/plain": [
       "<SkyCoord (ICRS): (ra, dec) in deg\n",
       "    [(0.6447522 ,  -3.710484 ), (0.66634995,   8.73727  ),\n",
       "     (0.7195514 ,   3.5042214), ..., (0.5100675 , -33.46959  ),\n",
       "     (0.5424071 ,   2.942838 ), (0.57888216,  12.971159 )]>"
      ]
     },
     "execution_count": 10,
     "metadata": {},
     "output_type": "execute_result"
    }
   ],
   "source": [
    "#Explora:\n",
    "# type(IRAScat)\n",
    "IRAScat\n",
    "# cantidad_parejas = len(IRAScat)\n",
    "# cantidad_parejas"
   ]
  },
  {
   "cell_type": "code",
   "execution_count": 11,
   "id": "8c7f08e3",
   "metadata": {},
   "outputs": [
    {
     "data": {
      "text/plain": [
       "20000"
      ]
     },
     "execution_count": 11,
     "metadata": {},
     "output_type": "execute_result"
    }
   ],
   "source": [
    "#Explora:\n",
    "# type(SDSScat)\n",
    "# SDSScat\n",
    "cantidad_parejasSD = len(SDSScat)\n",
    "cantidad_parejasSD"
   ]
  },
  {
   "cell_type": "markdown",
   "id": "e8ee0edc",
   "metadata": {},
   "source": [
    "Ahora realizamos el crossmatching mediante el método .match_to_catalog( )\n",
    "\n",
    "En este caso utilizaremos el catálogo SDSS como referencia y lo cruzamos con el catalogo IRAS.\n",
    "\n",
    "El método retorna tres resultados:\n",
    "\n",
    "- idx : indices dentro del catálogo IRAS que corresponden a los objetos mas cercanos a cada uno de los objetos del catálogo SDSS\n",
    "- d2d : distancias en el cielo (2-dimensionales) entro los objetos que hacen match.\n",
    "- d3d : distancias 3-dimensionales (al no haber dato 3D, se asume que todos los objetos estan a una distancia de 1 del observador)"
   ]
  },
  {
   "cell_type": "code",
   "execution_count": 12,
   "id": "2d644b05",
   "metadata": {},
   "outputs": [],
   "source": [
    "idx, d2d, d3d = SDSScat.match_to_catalog_sky(IRAScat)"
   ]
  },
  {
   "cell_type": "markdown",
   "id": "370159bb",
   "metadata": {},
   "source": [
    "El tamaño del arreglo `idx` es igual al del catálogo SDSS:"
   ]
  },
  {
   "cell_type": "code",
   "execution_count": 13,
   "id": "1b11af7c",
   "metadata": {},
   "outputs": [
    {
     "data": {
      "text/plain": [
       "(20000,)"
      ]
     },
     "execution_count": 13,
     "metadata": {},
     "output_type": "execute_result"
    }
   ],
   "source": [
    "idx.shape"
   ]
  },
  {
   "cell_type": "markdown",
   "id": "2f7239a6",
   "metadata": {},
   "source": [
    "---\n",
    "\n",
    "Ahora podemos ver algunos de los match. Por ejemplo, para el objeto con índice **10719** del SDSS se tiene:"
   ]
  },
  {
   "cell_type": "code",
   "execution_count": 14,
   "id": "278ecfbe",
   "metadata": {},
   "outputs": [
    {
     "data": {
      "text/plain": [
       "8451"
      ]
     },
     "execution_count": 14,
     "metadata": {},
     "output_type": "execute_result"
    }
   ],
   "source": [
    "idx[10719]"
   ]
  },
  {
   "cell_type": "code",
   "execution_count": 15,
   "id": "057ea8bc",
   "metadata": {},
   "outputs": [
    {
     "data": {
      "text/html": [
       "<i>Row index=10719</i>\n",
       "<table id=\"table2541660878160\">\n",
       "<thead><tr><th>specobjid</th><th>ra</th><th>dec</th><th>z</th><th>h_alpha_flux</th><th>h_beta_flux</th><th>oiii_5007_flux</th><th>nii_6548_flux</th><th>nii_6584_flux</th><th>sii_6717_flux</th><th>sii_6731_flux</th><th>oi_6300_flux</th><th>class</th><th>subclass</th></tr></thead>\n",
       "<thead><tr><th>int64</th><th>float64</th><th>float64</th><th>float64</th><th>float64</th><th>float64</th><th>float64</th><th>float64</th><th>float64</th><th>float64</th><th>float64</th><th>float64</th><th>bytes6</th><th>bytes11</th></tr></thead>\n",
       "<tr><td>354807207503620096</td><td>235.4981</td><td>0.71280211</td><td>0.006394573</td><td>150.4484</td><td>30.57159</td><td>12.23558</td><td>14.36272</td><td>43.32129</td><td>42.70899</td><td>28.75874</td><td>11.33575</td><td>GALAXY</td><td>STARFORMING</td></tr>\n",
       "</table>"
      ],
      "text/plain": [
       "<Row index=10719>\n",
       "    specobjid         ra       dec          z      h_alpha_flux h_beta_flux oiii_5007_flux nii_6548_flux nii_6584_flux sii_6717_flux sii_6731_flux oi_6300_flux class    subclass \n",
       "      int64        float64   float64     float64     float64      float64      float64        float64       float64       float64       float64      float64    bytes6   bytes11  \n",
       "------------------ -------- ---------- ----------- ------------ ----------- -------------- ------------- ------------- ------------- ------------- ------------ ------ -----------\n",
       "354807207503620096 235.4981 0.71280211 0.006394573     150.4484    30.57159       12.23558      14.36272      43.32129      42.70899      28.75874     11.33575 GALAXY STARFORMING"
      ]
     },
     "execution_count": 15,
     "metadata": {},
     "output_type": "execute_result"
    }
   ],
   "source": [
    "SDSS[10719]"
   ]
  },
  {
   "cell_type": "code",
   "execution_count": 16,
   "id": "6ef0d17d",
   "metadata": {},
   "outputs": [
    {
     "data": {
      "text/html": [
       "<i>Row index=8451</i>\n",
       "<table id=\"table2541686379424\">\n",
       "<thead><tr><th>galname</th><th>ra</th><th>dec</th><th>fnu_12</th><th>fnu_25</th><th>fnu_60</th><th>fnu_100</th><th>rat_12_25</th><th>rat_25_60</th><th>rat_60_100</th></tr></thead>\n",
       "<thead><tr><th></th><th>degrees</th><th>degrees</th><th>Jy</th><th>Jy</th><th>Jy</th><th>Jy</th><th></th><th></th><th></th></tr></thead>\n",
       "<thead><tr><th>object</th><th>float32</th><th>float32</th><th>float32</th><th>float32</th><th>float32</th><th>float32</th><th>float32</th><th>float32</th><th>float32</th></tr></thead>\n",
       "<tr><td>15394+0052</td><td>235.4980</td><td>0.7127</td><td>0.34</td><td>0.26</td><td>0.43</td><td>1.41</td><td>1.3077</td><td>0.6047</td><td>0.3050</td></tr>\n",
       "</table>"
      ],
      "text/plain": [
       "<Row index=8451>\n",
       " galname      ra      dec     fnu_12  fnu_25  fnu_60 fnu_100 rat_12_25 rat_25_60 rat_60_100\n",
       "           degrees  degrees     Jy      Jy      Jy      Jy                                 \n",
       "  object   float32  float32  float32 float32 float32 float32  float32   float32   float32  \n",
       "---------- -------- -------- ------- ------- ------- ------- --------- --------- ----------\n",
       "15394+0052 235.4980   0.7127    0.34    0.26    0.43    1.41    1.3077    0.6047     0.3050"
      ]
     },
     "execution_count": 16,
     "metadata": {},
     "output_type": "execute_result"
    }
   ],
   "source": [
    "IRAS[idx[10719]]"
   ]
  },
  {
   "cell_type": "markdown",
   "id": "50a2dfb2",
   "metadata": {},
   "source": [
    "La distancia entre estos dos objetos es"
   ]
  },
  {
   "cell_type": "code",
   "execution_count": 17,
   "id": "65d789c8",
   "metadata": {},
   "outputs": [
    {
     "data": {
      "text/latex": [
       "$0^\\circ00{}^\\prime00.56445931{}^{\\prime\\prime}$"
      ],
      "text/plain": [
       "<Angle 0.00015679 deg>"
      ]
     },
     "execution_count": 17,
     "metadata": {},
     "output_type": "execute_result"
    }
   ],
   "source": [
    "d2d[10719]"
   ]
  },
  {
   "cell_type": "code",
   "execution_count": 18,
   "id": "13bb046c",
   "metadata": {},
   "outputs": [],
   "source": [
    "# Explora:\n",
    "\n",
    "# type(idx)\n",
    "# len(idx)\n",
    "# idx[1520:1530]"
   ]
  },
  {
   "cell_type": "code",
   "execution_count": 19,
   "id": "224a8d83",
   "metadata": {},
   "outputs": [
    {
     "data": {
      "text/latex": [
       "[$1^\\circ11{}^\\prime24.76485944{}^{\\prime\\prime}$\n",
       " $1^\\circ00{}^\\prime12.30583855{}^{\\prime\\prime}$\n",
       " $1^\\circ00{}^\\prime43.95080137{}^{\\prime\\prime}$\n",
       " $1^\\circ05{}^\\prime41.4499523{}^{\\prime\\prime}$\n",
       " $1^\\circ17{}^\\prime08.46743988{}^{\\prime\\prime}$\n",
       " $1^\\circ19{}^\\prime20.64887427{}^{\\prime\\prime}$\n",
       " $1^\\circ22{}^\\prime26.16897784{}^{\\prime\\prime}$\n",
       " $1^\\circ27{}^\\prime47.06426814{}^{\\prime\\prime}$\n",
       " $1^\\circ16{}^\\prime31.93414645{}^{\\prime\\prime}$\n",
       " $1^\\circ28{}^\\prime39.55232093{}^{\\prime\\prime}$]"
      ],
      "text/plain": [
       "<Angle [1.19021246, 1.00341829, 1.01220856, 1.09484721, 1.2856854 ,\n",
       "        1.32240247, 1.37393583, 1.46307341, 1.27553726, 1.47765342] deg>"
      ]
     },
     "execution_count": 19,
     "metadata": {},
     "output_type": "execute_result"
    }
   ],
   "source": [
    "# Explora:\n",
    "\n",
    "# type(idx)\n",
    "# len(d2d)\n",
    "d2d[1520:1530]"
   ]
  },
  {
   "cell_type": "code",
   "execution_count": 20,
   "id": "ec5209db",
   "metadata": {},
   "outputs": [
    {
     "data": {
      "text/latex": [
       "$[0.020772656,~0.017512645,~0.017666057,~0.019108302,~0.022438895,~0.023079797,~0.023979054,~0.025534787,~0.022261791,~0.025789235] \\; \\mathrm{}$"
      ],
      "text/plain": [
       "<Quantity [0.02077266, 0.01751265, 0.01766606, 0.0191083 , 0.0224389 ,\n",
       "           0.0230798 , 0.02397905, 0.02553479, 0.02226179, 0.02578924]>"
      ]
     },
     "execution_count": 20,
     "metadata": {},
     "output_type": "execute_result"
    }
   ],
   "source": [
    "# Explora:\n",
    "\n",
    "# type(d3d)\n",
    "# len(d3d)\n",
    "d3d[1520:1530]"
   ]
  },
  {
   "cell_type": "markdown",
   "id": "2ec1fd2b",
   "metadata": {},
   "source": [
    "---\n",
    "\n",
    "Debido a que los dos catalogos tienen diferente tamaño, es posible que varios elementos del catalogo SDSS tengan match con un mimso objeto del catalogo IRAS.\n",
    "\n",
    "Para revisar esta posibilidad, debemos identificar los valores únicos dentro del match. Esto lo hacemos con la función [np.unique( )](https://numpy.org/doc/stable/reference/generated/numpy.unique.html). En esta función utilizaremos el argumento `return_counts=True` para saber cuantas veces se repite un mismo valor."
   ]
  },
  {
   "cell_type": "code",
   "execution_count": 21,
   "id": "8fbbdc24",
   "metadata": {},
   "outputs": [],
   "source": [
    "unique, c = np.unique(idx, return_counts=True)"
   ]
  },
  {
   "cell_type": "markdown",
   "id": "4229d7d8",
   "metadata": {},
   "source": [
    "Los valores únicos son:"
   ]
  },
  {
   "cell_type": "code",
   "execution_count": 22,
   "id": "977ed5a2",
   "metadata": {},
   "outputs": [
    {
     "data": {
      "text/plain": [
       "array([    5,    17,    42,    84,  4575,  4589,  4590,  4616,  4628,\n",
       "        4647,  4656,  4680,  4682,  4692,  4707,  4766,  4779,  4784,\n",
       "        4799,  4927,  4928,  4948,  4956,  4985,  4998,  5006,  5010,\n",
       "        5275,  5359,  5379,  5399,  5434,  5438,  5442,  5477,  5500,\n",
       "        5506,  5514,  5516,  5526,  5534,  5550,  5554,  5556,  5560,\n",
       "        5581,  5584,  5600,  5621,  5638,  5643,  5646,  5657,  5660,\n",
       "        5673,  5683,  5712,  5743,  5754,  5774,  5785,  5792,  5808,\n",
       "        5834,  5835,  5865,  5869,  5871,  5885,  5904,  5905,  5929,\n",
       "        5934,  5948,  5953,  5976,  6001,  6009,  6048,  6076,  6114,\n",
       "        6118,  6171,  6212,  6245,  6264,  6266,  6293,  6320,  6325,\n",
       "        6363,  6366,  6385,  6395,  6398,  6404,  6419,  6426,  6459,\n",
       "        6468,  6469,  6476,  6493,  6496,  6521,  6535,  6570,  6600,\n",
       "        6614,  6618,  6638,  6669,  6680,  6700,  6710,  6719,  6763,\n",
       "        6803,  6808,  6813,  6824,  6854,  6891,  6899,  6913,  6917,\n",
       "        6945,  6983,  7000,  7030,  7053,  7098,  7106,  7126,  7135,\n",
       "        7163,  7170,  7180,  7219,  7239,  7326,  7350,  7354,  7362,\n",
       "        7374,  7406,  7424,  7428,  7491,  7517,  7538,  7543,  7554,\n",
       "        7575,  7589,  7597,  7600,  7617,  7619,  7624,  7640,  7663,\n",
       "        7705,  7706,  7712,  7749,  7752,  7776,  7784,  7785,  7820,\n",
       "        7847,  7871,  7875,  7896,  7902,  7919,  7932,  7944,  7953,\n",
       "        8006,  8082,  8093,  8109,  8156,  8159,  8171,  8195,  8210,\n",
       "        8211,  8259,  8290,  8300,  8326,  8350,  8363,  8373,  8381,\n",
       "        8437,  8451,  8483,  8486,  8532,  8555,  8590,  8642,  8650,\n",
       "        8658,  8667,  8686,  8696,  8739,  8741,  8744,  8790,  8896,\n",
       "        8961,  8962,  8991,  8992,  9031,  9033,  9048,  9051,  9060,\n",
       "        9061,  9064,  9070,  9089,  9092,  9094,  9096,  9107,  9113,\n",
       "        9118,  9152,  9155,  9160,  9169,  9173,  9174,  9178,  9180,\n",
       "        9189,  9193,  9194,  9197,  9200,  9205,  9210,  9211,  9223,\n",
       "        9225,  9239,  9240,  9251,  9254,  9256,  9263,  9266,  9293,\n",
       "        9297,  9298,  9315,  9330, 10585, 10595, 10604, 10633, 10662,\n",
       "       10669, 10690, 10700, 10762, 10796, 10827, 10941, 10960, 11008,\n",
       "       11056, 11069, 11075, 11117, 11128, 11129, 11142, 11155, 11162,\n",
       "       11171, 11183, 11192, 11203, 11208, 11221, 11254, 11261, 11281,\n",
       "       11295, 11318, 11325, 11343, 11346, 11361, 11384, 11398, 11405,\n",
       "       11406, 11409, 11432], dtype=int64)"
      ]
     },
     "execution_count": 22,
     "metadata": {},
     "output_type": "execute_result"
    }
   ],
   "source": [
    "unique"
   ]
  },
  {
   "cell_type": "code",
   "execution_count": 23,
   "id": "0245e3a3",
   "metadata": {},
   "outputs": [
    {
     "data": {
      "text/plain": [
       "309"
      ]
     },
     "execution_count": 23,
     "metadata": {},
     "output_type": "execute_result"
    }
   ],
   "source": [
    "# Explora\n",
    "len(unique)"
   ]
  },
  {
   "cell_type": "markdown",
   "id": "f8c6aacd",
   "metadata": {},
   "source": [
    "El número de repeticiones de cada elemento es"
   ]
  },
  {
   "cell_type": "code",
   "execution_count": 24,
   "id": "cb4b4eb1",
   "metadata": {},
   "outputs": [
    {
     "data": {
      "text/plain": [
       "array([  5,  20,  93,   8,  66,  20, 105,   4,  90,   9,  67,  87,  21,\n",
       "        31,  61, 283,  15,  48,  75,  56, 122, 104,  27,  33,  58, 182,\n",
       "       144, 443,   3,  82, 162,  18,  79,  64, 150,  95,   4,  73, 149,\n",
       "        74,   3,  21,  56,   4,  26,  47,  25,  84,  36,  20,  37, 115,\n",
       "        16,  52, 106, 109,  98,  24, 100,  51,  55,  98,  27, 185,  43,\n",
       "        11,  71,  47,  11, 153, 203,  12,  60,  25, 268,  93,  94,   8,\n",
       "        56,  47, 231,  30,   1,  40,  47,  71, 147,  82,  76,   6,  49,\n",
       "        40,   5,  29,  28,  92,  45,  67, 131,  59,  71,  23,  70, 101,\n",
       "       136,  56,  24,  81,  43,  57,  48, 152,  16,   4,  13,  94, 108,\n",
       "        56, 103, 128,  24, 112,  29,  92,  11,  14, 243, 310, 152,  24,\n",
       "        59,  19, 198,  35,  15,  33,  44,  61, 159,   7,  11,  58, 131,\n",
       "         9,   9, 107,  63,  75,  76,  53,  14,   9,   1,  60,   4,  44,\n",
       "        11,  33,  44,  66,  26,  86,  87, 126,  24,  62,  29, 123,  41,\n",
       "         9,  94,  87,  74,  13,  23,  35,   9,  37,   5, 138,  32, 177,\n",
       "        70,  36, 131,   9,  58,   3,   2,  52,  49, 124,  56, 101,  16,\n",
       "       225, 104,   6,  65, 115,   9,  54, 115,  93,  58,  22,  24, 138,\n",
       "        47,   4,  93,  13, 147,  30,  73, 177,  37,  11,  65,  48,   3,\n",
       "        55,  11,  74,  22,  66,  58,  39,  48,  38, 116,  64,  50, 159,\n",
       "        57,  43,  84,  25,  35,  22,  15,  89, 113,  14,  21,  11,  42,\n",
       "        28,  21,  23, 126,  12,  13,  25,  61,   9, 322,  18,  46,   3,\n",
       "         8,   7,  30,  16,  47,   2,  53,  91,  72,  39, 121, 182,  76,\n",
       "        14,   6, 364,   2, 407,   5,  73,  84,  94,  91,  15,  30,  33,\n",
       "        53,  17,  13,  12,   9,   8, 118,  52,   4,  33, 189,  38, 104,\n",
       "        15,  83,  64,  58,  40,   2,  69,  68,   7,  78], dtype=int64)"
      ]
     },
     "execution_count": 24,
     "metadata": {},
     "output_type": "execute_result"
    }
   ],
   "source": [
    "c"
   ]
  },
  {
   "cell_type": "code",
   "execution_count": 25,
   "id": "e2cec1f7",
   "metadata": {},
   "outputs": [
    {
     "data": {
      "text/plain": [
       "309"
      ]
     },
     "execution_count": 25,
     "metadata": {},
     "output_type": "execute_result"
    }
   ],
   "source": [
    "len(c)"
   ]
  },
  {
   "cell_type": "markdown",
   "id": "fa5b74db",
   "metadata": {},
   "source": [
    "Esto queire decir que:\n",
    "\n",
    "- El índice 5 se repite 5 veces\n",
    "- el índice 17 se repite 20 veces\n",
    "- el índice 42 se repite 93 veces\n",
    "- el índice 84 se repite 8 veces\n",
    "- ...\n",
    "\n",
    "Para saber en donde se repite el cada índice, utilizamos la función [np.where( )](https://numpy.org/doc/stable/reference/generated/numpy.unique.html).\n",
    "\n",
    "Por ejemplo para el índice 5 se tiene"
   ]
  },
  {
   "cell_type": "code",
   "execution_count": 26,
   "id": "1f0fde01",
   "metadata": {},
   "outputs": [
    {
     "data": {
      "text/plain": [
       "(array([19711, 19720, 19721, 19722, 19724], dtype=int64),)"
      ]
     },
     "execution_count": 26,
     "metadata": {},
     "output_type": "execute_result"
    }
   ],
   "source": [
    "np.where(idx==5)"
   ]
  },
  {
   "cell_type": "code",
   "execution_count": 27,
   "id": "5344622b",
   "metadata": {},
   "outputs": [
    {
     "name": "stdout",
     "output_type": "stream",
     "text": [
      "Match IRAS[5] : ra = 0.7726925015449524 , dec = -1.9154912233352661\n",
      "SDSS[19711] : ra = 0.51393115 , dec = -1.2063099, d2d = 0.7548806612597737 deg\n",
      "SDSS[19720] : ra = 0.023121653 , dec = -1.2163687, d2d = 1.0247936214533742 deg\n",
      "SDSS[19721] : ra = 0.056005303 , dec = -1.2136299, d2d = 1.002925864629819 deg\n",
      "SDSS[19722] : ra = 0.12870372 , dec = -1.2130045, d2d = 0.9528350715932876 deg\n",
      "SDSS[19724] : ra = 0.16654755 , dec = -1.1911967, d2d = 0.9443194044874836 deg\n"
     ]
    }
   ],
   "source": [
    "indices = np.where(idx==5)[0]\n",
    "print(f\"Match IRAS[{5}] : ra = {IRAS['ra'][5]} , dec = {IRAS['dec'][5]}\" )\n",
    "for i in indices:\n",
    "    print(f\"SDSS[{i}] : ra = {SDSS['ra'][i]} , dec = {SDSS['dec'][i]}, d2d = {d2d[i]}\" )"
   ]
  },
  {
   "cell_type": "code",
   "execution_count": 28,
   "id": "4272822c",
   "metadata": {},
   "outputs": [],
   "source": [
    "# Explora:\n",
    "\n",
    "# np.where(idx==84)"
   ]
  },
  {
   "cell_type": "code",
   "execution_count": 29,
   "id": "f8697110",
   "metadata": {},
   "outputs": [
    {
     "data": {
      "text/plain": [
       "'\\nindices = np.where(idx==84)[0]\\nprint(f\"Match IRAS[{84}] : ra = {IRAS[\\'ra\\'][84]} , dec = {IRAS[\\'dec\\'][84]}\" )\\nfor i in indices:\\n    print(f\"SDSS[{i}] : ra = {SDSS[\\'ra\\'][i]} , dec = {SDSS[\\'dec\\'][i]}, d2d = {d2d[i]}\" )\\n    \\n    '"
      ]
     },
     "execution_count": 29,
     "metadata": {},
     "output_type": "execute_result"
    }
   ],
   "source": [
    "# Explora:\n",
    "\"\"\"\n",
    "indices = np.where(idx==84)[0]\n",
    "print(f\"Match IRAS[{84}] : ra = {IRAS['ra'][84]} , dec = {IRAS['dec'][84]}\" )\n",
    "for i in indices:\n",
    "    print(f\"SDSS[{i}] : ra = {SDSS['ra'][i]} , dec = {SDSS['dec'][i]}, d2d = {d2d[i]}\" )\n",
    "    \n",
    "    \"\"\""
   ]
  },
  {
   "cell_type": "code",
   "execution_count": 30,
   "id": "0fc6cb81",
   "metadata": {},
   "outputs": [],
   "source": [
    "# Explora:\n",
    "# np.where(idx==17)"
   ]
  },
  {
   "cell_type": "code",
   "execution_count": 31,
   "id": "6be89783",
   "metadata": {},
   "outputs": [
    {
     "data": {
      "text/plain": [
       "'\\nindices = np.where(idx==17)[0]\\nprint(f\"Match IRAS[{17}] : ra = {IRAS[\\'ra\\'][17]} , dec = {IRAS[\\'dec\\'][17]}\" )\\nfor i in indices:\\n    print(f\"SDSS[{i}] : ra = {SDSS[\\'ra\\'][i]} , dec = {SDSS[\\'dec\\'][i]}, d2d = {d2d[i]}\" )\\n'"
      ]
     },
     "execution_count": 31,
     "metadata": {},
     "output_type": "execute_result"
    }
   ],
   "source": [
    "# Explora:\n",
    "\"\"\"\n",
    "indices = np.where(idx==17)[0]\n",
    "print(f\"Match IRAS[{17}] : ra = {IRAS['ra'][17]} , dec = {IRAS['dec'][17]}\" )\n",
    "for i in indices:\n",
    "    print(f\"SDSS[{i}] : ra = {SDSS['ra'][i]} , dec = {SDSS['dec'][i]}, d2d = {d2d[i]}\" )\n",
    "\"\"\""
   ]
  },
  {
   "cell_type": "code",
   "execution_count": 32,
   "id": "7cf6b059",
   "metadata": {},
   "outputs": [],
   "source": [
    "# Explora:\n",
    "# np.where(idx==42)"
   ]
  },
  {
   "cell_type": "code",
   "execution_count": 33,
   "id": "d59bfd7f",
   "metadata": {},
   "outputs": [],
   "source": [
    "# Explora:\n",
    "# indices = np.where(idx==42)[0]\n",
    "# print(f\"Match IRAS[{42}] : ra = {IRAS['ra'][42]} , dec = {IRAS['dec'][42]}\" )\n",
    "# for i in indices:\n",
    "#     print(f\"SDSS[{i}] : ra = {SDSS['ra'][i]} , dec = {SDSS['dec'][i]}, d2d = {d2d[i]}\" )"
   ]
  },
  {
   "cell_type": "code",
   "execution_count": null,
   "id": "a6c361b8",
   "metadata": {},
   "outputs": [],
   "source": []
  },
  {
   "cell_type": "code",
   "execution_count": null,
   "id": "2e53f5d3",
   "metadata": {},
   "outputs": [],
   "source": []
  },
  {
   "cell_type": "code",
   "execution_count": null,
   "id": "420a8664",
   "metadata": {},
   "outputs": [],
   "source": []
  },
  {
   "cell_type": "markdown",
   "id": "5bddd6d0",
   "metadata": {},
   "source": [
    "**La pregunta que surge es ¿Cual es el match apropiado?**\n",
    "\n",
    "La respuesta esta en el investigador, quien debe elegir (de acuerdo con sus criterios) cual es la mejor opción. \n",
    "\n",
    "Por ejemplo, en este caso se podría decir que el mejor match es entre el SDSS[19711] y el IRAS[5] porque la distancia entre estos objetos es de 0.75488 deg.\n",
    "\n",
    "También puede ser posible que el investigador considere los tres objetos mas cercanos en el SDSS correspondan a un solo objeto en el IRAS. Es decir que  SDSS[19711], SDSS[19722] y SDSS[19724] sean el objeto IRAS[5].\n",
    "\n"
   ]
  },
  {
   "cell_type": "markdown",
   "id": "5a91164d",
   "metadata": {},
   "source": [
    "---\n",
    "\n",
    "Una posibilidad adicional es restringir los resultados con una distancía máxima dentro de la cual se considera que si existe un match. Por ejemplo, podemos imponer que solamente si la distancia es menor que 10 arcsec se considere la posibilidad de match. "
   ]
  },
  {
   "cell_type": "code",
   "execution_count": 34,
   "id": "19259966",
   "metadata": {},
   "outputs": [
    {
     "data": {
      "text/plain": [
       "array([False, False, False, ..., False, False, False])"
      ]
     },
     "execution_count": 34,
     "metadata": {},
     "output_type": "execute_result"
    }
   ],
   "source": [
    "max_sep = 10 * u.arcsec # Criterio de maxima distancia posible\n",
    "\n",
    "# Creamos una mascara booleana\n",
    "sep_constraint = d2d < max_sep\n",
    "sep_constraint"
   ]
  },
  {
   "cell_type": "code",
   "execution_count": 35,
   "id": "d3983191",
   "metadata": {},
   "outputs": [],
   "source": [
    "SDSSmasked = SDSScat[sep_constraint]\n",
    "IRASmasked = IRAScat[idx[sep_constraint]]"
   ]
  },
  {
   "cell_type": "code",
   "execution_count": 36,
   "id": "668365a5",
   "metadata": {},
   "outputs": [
    {
     "data": {
      "text/plain": [
       "<SkyCoord (ICRS): (ra, dec) in deg\n",
       "    [(145.51241, 0.33917087), (145.51241, 0.33917087),\n",
       "     (167.2324 , 0.44480423), (169.70646, 0.61930757),\n",
       "     (169.70646, 0.61930757)]>"
      ]
     },
     "execution_count": 36,
     "metadata": {},
     "output_type": "execute_result"
    }
   ],
   "source": [
    "SDSSmasked[0:5]"
   ]
  },
  {
   "cell_type": "code",
   "execution_count": 37,
   "id": "41815bc1",
   "metadata": {},
   "outputs": [
    {
     "data": {
      "text/plain": [
       "<SkyCoord (ICRS): (ra, dec) in deg\n",
       "    [(145.51395, 0.3375216 ), (145.51395, 0.3375216 ),\n",
       "     (167.2346 , 0.44466087), (169.70757, 0.61774945),\n",
       "     (169.70757, 0.61774945)]>"
      ]
     },
     "execution_count": 37,
     "metadata": {},
     "output_type": "execute_result"
    }
   ],
   "source": [
    "IRASmasked[0:5]"
   ]
  },
  {
   "cell_type": "markdown",
   "id": "0b72eb5b",
   "metadata": {},
   "source": [
    "Asi se tienen solamente los objetos que hacen match y que cumplen con la ondiciónd e distancia máxima."
   ]
  },
  {
   "cell_type": "code",
   "execution_count": 38,
   "id": "e0a70619",
   "metadata": {},
   "outputs": [
    {
     "data": {
      "text/plain": [
       "81"
      ]
     },
     "execution_count": 38,
     "metadata": {},
     "output_type": "execute_result"
    }
   ],
   "source": [
    "# len(SDSSmasked)\n",
    "len(IRASmasked) # ESTE ES EL QUE TIENE EL MATCH DE LOS 81"
   ]
  },
  {
   "cell_type": "code",
   "execution_count": 39,
   "id": "97b618cc",
   "metadata": {},
   "outputs": [
    {
     "data": {
      "text/plain": [
       "81"
      ]
     },
     "execution_count": 39,
     "metadata": {},
     "output_type": "execute_result"
    }
   ],
   "source": [
    "len(SDSSmasked)"
   ]
  },
  {
   "cell_type": "markdown",
   "id": "7d377131",
   "metadata": {},
   "source": [
    "---\n",
    "# Tablas"
   ]
  },
  {
   "cell_type": "markdown",
   "id": "86cfecc3",
   "metadata": {},
   "source": [
    "## 1. Tabla general de Matches"
   ]
  },
  {
   "cell_type": "code",
   "execution_count": 40,
   "id": "9e34ebf7",
   "metadata": {},
   "outputs": [],
   "source": [
    "from astropy.table import Table\n",
    "\n",
    "# Supongamos que \"SDSSmasked\" y \"IRASmasked\" son objetos SkyCoord\n",
    "\n",
    "# Crear una nueva tabla vacía para almacenar los matches combinados\n",
    "matched_table = Table()\n",
    "\n",
    "# Agregar las columnas \"ra\" y \"dec\" a la nueva tabla desde \"SDSSmasked\"\n",
    "matched_table['ra_sdss'] = SDSSmasked.ra\n",
    "matched_table['dec_sdss'] = SDSSmasked.dec\n",
    "\n",
    "# Agregar las columnas \"ra\" y \"dec\" a la nueva tabla desde \"IRASmasked\"\n",
    "matched_table['ra_iras'] = IRASmasked.ra\n",
    "matched_table['dec_iras'] = IRASmasked.dec\n"
   ]
  },
  {
   "cell_type": "code",
   "execution_count": 41,
   "id": "59cfcb28",
   "metadata": {},
   "outputs": [
    {
     "data": {
      "text/html": [
       "<div><i>Table length=81</i>\n",
       "<table id=\"table2541688353792\" class=\"table-striped table-bordered table-condensed\">\n",
       "<thead><tr><th>ra_sdss</th><th>dec_sdss</th><th>ra_iras</th><th>dec_iras</th></tr></thead>\n",
       "<thead><tr><th>deg</th><th>deg</th><th>deg</th><th>deg</th></tr></thead>\n",
       "<thead><tr><th>float64</th><th>float64</th><th>float32</th><th>float32</th></tr></thead>\n",
       "<tr><td>145.51241</td><td>0.33917087</td><td>145.51395</td><td>0.3375216</td></tr>\n",
       "<tr><td>145.51241</td><td>0.33917087</td><td>145.51395</td><td>0.3375216</td></tr>\n",
       "<tr><td>167.2324</td><td>0.44480423</td><td>167.2346</td><td>0.44466087</td></tr>\n",
       "<tr><td>169.70646</td><td>0.61930757</td><td>169.70757</td><td>0.61774945</td></tr>\n",
       "<tr><td>169.70646</td><td>0.61930757</td><td>169.70757</td><td>0.61774945</td></tr>\n",
       "<tr><td>170.82587</td><td>-0.9224747</td><td>170.82668</td><td>-0.92125833</td></tr>\n",
       "<tr><td>169.38707</td><td>-0.18750165</td><td>169.38559</td><td>-0.1864041</td></tr>\n",
       "<tr><td>174.63863</td><td>-1.1845063</td><td>174.63847</td><td>-1.1859262</td></tr>\n",
       "<tr><td>174.63863</td><td>-1.1845063</td><td>174.63847</td><td>-1.1859262</td></tr>\n",
       "<tr><td>...</td><td>...</td><td>...</td><td>...</td></tr>\n",
       "<tr><td>262.58929</td><td>59.639906</td><td>262.59348</td><td>59.639565</td></tr>\n",
       "<tr><td>264.23958</td><td>59.200298</td><td>264.24017</td><td>59.199715</td></tr>\n",
       "<tr><td>329.53048</td><td>1.0088956</td><td>329.531</td><td>1.0091623</td></tr>\n",
       "<tr><td>331.05302</td><td>-0.0320986</td><td>331.05234</td><td>-0.032973766</td></tr>\n",
       "<tr><td>346.63215</td><td>0.17246415</td><td>346.6315</td><td>0.1721589</td></tr>\n",
       "<tr><td>356.75181</td><td>-0.44739343</td><td>356.7521</td><td>-0.4476941</td></tr>\n",
       "<tr><td>356.75181</td><td>-0.44739343</td><td>356.7521</td><td>-0.4476941</td></tr>\n",
       "<tr><td>355.28238</td><td>-1.037554</td><td>355.2808</td><td>-1.0376734</td></tr>\n",
       "<tr><td>356.05549</td><td>0.80402758</td><td>356.05377</td><td>0.80373883</td></tr>\n",
       "<tr><td>356.05549</td><td>0.80402758</td><td>356.05377</td><td>0.80373883</td></tr>\n",
       "</table></div>"
      ],
      "text/plain": [
       "<Table length=81>\n",
       " ra_sdss    dec_sdss   ra_iras    dec_iras  \n",
       "   deg        deg        deg        deg     \n",
       " float64    float64    float32    float32   \n",
       "--------- ----------- --------- ------------\n",
       "145.51241  0.33917087 145.51395    0.3375216\n",
       "145.51241  0.33917087 145.51395    0.3375216\n",
       " 167.2324  0.44480423  167.2346   0.44466087\n",
       "169.70646  0.61930757 169.70757   0.61774945\n",
       "169.70646  0.61930757 169.70757   0.61774945\n",
       "170.82587  -0.9224747 170.82668  -0.92125833\n",
       "169.38707 -0.18750165 169.38559   -0.1864041\n",
       "174.63863  -1.1845063 174.63847   -1.1859262\n",
       "174.63863  -1.1845063 174.63847   -1.1859262\n",
       "      ...         ...       ...          ...\n",
       "262.58929   59.639906 262.59348    59.639565\n",
       "264.23958   59.200298 264.24017    59.199715\n",
       "329.53048   1.0088956   329.531    1.0091623\n",
       "331.05302  -0.0320986 331.05234 -0.032973766\n",
       "346.63215  0.17246415  346.6315    0.1721589\n",
       "356.75181 -0.44739343  356.7521   -0.4476941\n",
       "356.75181 -0.44739343  356.7521   -0.4476941\n",
       "355.28238   -1.037554  355.2808   -1.0376734\n",
       "356.05549  0.80402758 356.05377   0.80373883\n",
       "356.05549  0.80402758 356.05377   0.80373883"
      ]
     },
     "execution_count": 41,
     "metadata": {},
     "output_type": "execute_result"
    }
   ],
   "source": [
    "matched_table"
   ]
  },
  {
   "cell_type": "code",
   "execution_count": null,
   "id": "20a55061",
   "metadata": {},
   "outputs": [],
   "source": []
  },
  {
   "cell_type": "code",
   "execution_count": null,
   "id": "34cab4de",
   "metadata": {},
   "outputs": [],
   "source": []
  },
  {
   "cell_type": "markdown",
   "id": "38938f8d",
   "metadata": {},
   "source": [
    "## 2.Tabla IRAS MATCHES con sus filas"
   ]
  },
  {
   "cell_type": "code",
   "execution_count": 42,
   "id": "1b708906",
   "metadata": {},
   "outputs": [],
   "source": [
    "import astropy.table as table\n",
    "import astropy.coordinates as coord\n",
    "\n",
    "#VAMOS CON LAS 81 DE IRAS\n",
    "\n",
    "# Crear una nueva tabla con las columnas 'ra' y 'dec'\n",
    "new_table = table.Table()\n",
    "new_table['ra'] = IRASmasked.ra\n",
    "new_table['dec'] = IRASmasked.dec"
   ]
  },
  {
   "cell_type": "code",
   "execution_count": 43,
   "id": "0cf22027",
   "metadata": {},
   "outputs": [
    {
     "name": "stderr",
     "output_type": "stream",
     "text": [
      "WARNING: MergeConflictWarning: In merged column 'ra' the 'unit' attribute does not match (degrees != deg).  Using deg for merged output [astropy.utils.metadata]\n",
      "WARNING: MergeConflictWarning: In merged column 'dec' the 'unit' attribute does not match (degrees != deg).  Using deg for merged output [astropy.utils.metadata]\n"
     ]
    }
   ],
   "source": [
    "# Unir las tablas basándose en las columnas 'ra' y 'dec'\n",
    "dataIRAS = table.join(IRAS, new_table, keys=['ra', 'dec'], join_type='inner')"
   ]
  },
  {
   "cell_type": "code",
   "execution_count": 44,
   "id": "d2dc177d",
   "metadata": {},
   "outputs": [
    {
     "data": {
      "text/html": [
       "<div><i>Table length=5</i>\n",
       "<table id=\"table2541691062784\" class=\"table-striped table-bordered table-condensed\">\n",
       "<thead><tr><th>galname</th><th>ra</th><th>dec</th><th>fnu_12</th><th>fnu_25</th><th>fnu_60</th><th>fnu_100</th><th>rat_12_25</th><th>rat_25_60</th><th>rat_60_100</th></tr></thead>\n",
       "<thead><tr><th></th><th>deg</th><th>deg</th><th>Jy</th><th>Jy</th><th>Jy</th><th>Jy</th><th></th><th></th><th></th></tr></thead>\n",
       "<thead><tr><th>object</th><th>float32</th><th>float32</th><th>float32</th><th>float32</th><th>float32</th><th>float32</th><th>float32</th><th>float32</th><th>float32</th></tr></thead>\n",
       "<tr><td>09394+0033</td><td>145.5139</td><td>0.3375</td><td>0.35</td><td>0.50</td><td>5.16</td><td>15.08</td><td>0.7000</td><td>0.0969</td><td>0.3422</td></tr>\n",
       "<tr><td>09394+0033</td><td>145.5139</td><td>0.3375</td><td>0.35</td><td>0.50</td><td>5.16</td><td>15.08</td><td>0.7000</td><td>0.0969</td><td>0.3422</td></tr>\n",
       "<tr><td>11063+0042</td><td>167.2346</td><td>0.4447</td><td>0.42</td><td>0.27</td><td>0.82</td><td>1.01</td><td>1.5556</td><td>0.3293</td><td>0.8119</td></tr>\n",
       "<tr><td>11149+0005</td><td>169.3856</td><td>-0.1864</td><td>0.35</td><td>0.43</td><td>0.68</td><td>2.10</td><td>0.8140</td><td>0.6324</td><td>0.3238</td></tr>\n",
       "<tr><td>11162+0053</td><td>169.7076</td><td>0.6177</td><td>0.25</td><td>0.50</td><td>0.75</td><td>1.79</td><td>0.5000</td><td>0.6667</td><td>0.4190</td></tr>\n",
       "</table></div>"
      ],
      "text/plain": [
       "<Table length=5>\n",
       " galname      ra      dec     fnu_12 ... fnu_100 rat_12_25 rat_25_60 rat_60_100\n",
       "             deg      deg       Jy   ...    Jy                                 \n",
       "  object   float32  float32  float32 ... float32  float32   float32   float32  \n",
       "---------- -------- -------- ------- ... ------- --------- --------- ----------\n",
       "09394+0033 145.5139   0.3375    0.35 ...   15.08    0.7000    0.0969     0.3422\n",
       "09394+0033 145.5139   0.3375    0.35 ...   15.08    0.7000    0.0969     0.3422\n",
       "11063+0042 167.2346   0.4447    0.42 ...    1.01    1.5556    0.3293     0.8119\n",
       "11149+0005 169.3856  -0.1864    0.35 ...    2.10    0.8140    0.6324     0.3238\n",
       "11162+0053 169.7076   0.6177    0.25 ...    1.79    0.5000    0.6667     0.4190"
      ]
     },
     "execution_count": 44,
     "metadata": {},
     "output_type": "execute_result"
    }
   ],
   "source": [
    "dataIRAS[0:5]"
   ]
  },
  {
   "cell_type": "code",
   "execution_count": null,
   "id": "94e499de",
   "metadata": {},
   "outputs": [],
   "source": []
  },
  {
   "cell_type": "code",
   "execution_count": null,
   "id": "3fdfba0c",
   "metadata": {},
   "outputs": [],
   "source": []
  },
  {
   "cell_type": "markdown",
   "id": "3aceea43",
   "metadata": {},
   "source": [
    "## 3.Tabla SDSS MATCHES con sus filas"
   ]
  },
  {
   "cell_type": "code",
   "execution_count": 45,
   "id": "5c32fb55",
   "metadata": {},
   "outputs": [],
   "source": [
    "import astropy.table as table\n",
    "\n",
    "# Seleccionar las columnas 'ra_sdss' y 'dec_sdss' de 'matched_table'\n",
    "nuevaSDSS = table.Table()\n",
    "nuevaSDSS['ra_sdss'] = matched_table['ra_sdss']\n",
    "nuevaSDSS['dec_sdss'] = matched_table['dec_sdss']"
   ]
  },
  {
   "cell_type": "code",
   "execution_count": 46,
   "id": "0af9de39",
   "metadata": {},
   "outputs": [],
   "source": [
    "import astropy.table\n",
    "# Crear una nueva tabla llamada \"dataSDSS\" con todas las columnas de \"SDSS\"\n",
    "dtype = [str if name in ['class', 'subclass'] else float for name in SDSS.colnames]\n",
    "dataSDSS = astropy.table.Table(names=SDSS.colnames, dtype=dtype)\n",
    "\n",
    "# Iterar sobre las filas de \"SDSS\" y agregar solo las filas que estén presentes en \"nuevaSDSS\"\n",
    "for row in SDSS:\n",
    "    if (row['ra'] in nuevaSDSS['ra_sdss']) and (row['dec'] in nuevaSDSS['dec_sdss']):\n",
    "        dataSDSS.add_row(row)\n"
   ]
  },
  {
   "cell_type": "code",
   "execution_count": 47,
   "id": "7929c312",
   "metadata": {},
   "outputs": [
    {
     "data": {
      "text/html": [
       "<div><i>Table length=5</i>\n",
       "<table id=\"table2541691196272\" class=\"table-striped table-bordered table-condensed\">\n",
       "<thead><tr><th>specobjid</th><th>ra</th><th>dec</th><th>z</th><th>h_alpha_flux</th><th>h_beta_flux</th><th>oiii_5007_flux</th><th>nii_6548_flux</th><th>nii_6584_flux</th><th>sii_6717_flux</th><th>sii_6731_flux</th><th>oi_6300_flux</th><th>class</th><th>subclass</th></tr></thead>\n",
       "<thead><tr><th>float64</th><th>float64</th><th>float64</th><th>float64</th><th>float64</th><th>float64</th><th>float64</th><th>float64</th><th>float64</th><th>float64</th><th>float64</th><th>float64</th><th>str6</th><th>str11</th></tr></thead>\n",
       "<tr><td>2.99595780317014e+17</td><td>145.51241</td><td>0.33917087</td><td>0.006378901</td><td>153.8173</td><td>35.59267</td><td>3.656026</td><td>13.19764</td><td>39.80714</td><td>16.52884</td><td>11.71782</td><td>1.011221</td><td>GALAXY</td><td>STARBURST</td></tr>\n",
       "<tr><td>2.995977039926006e+17</td><td>145.51241</td><td>0.33917087</td><td>0.00638492</td><td>145.2406</td><td>34.59045</td><td>4.021027</td><td>12.83837</td><td>38.72347</td><td>15.92982</td><td>11.42728</td><td>1.412207</td><td>GALAXY</td><td>STARBURST</td></tr>\n",
       "<tr><td>3.131291237173432e+17</td><td>167.2324</td><td>0.44480423</td><td>0.01290247</td><td>10285.94</td><td>3250.791</td><td>6074.062</td><td>578.0041</td><td>1743.394</td><td>1323.39</td><td>1014.631</td><td>181.0779</td><td>GALAXY</td><td>STARBURST</td></tr>\n",
       "<tr><td>3.142838872137011e+17</td><td>169.70646</td><td>0.61930757</td><td>0.02539067</td><td>528.2295</td><td>139.9098</td><td>34.01912</td><td>62.50361</td><td>188.5253</td><td>90.17503</td><td>59.36301</td><td>16.12341</td><td>GALAXY</td><td>STARFORMING</td></tr>\n",
       "<tr><td>3.142849804170957e+17</td><td>169.70646</td><td>0.61930757</td><td>0.025405</td><td>571.5007</td><td>155.4066</td><td>37.14765</td><td>69.16956</td><td>208.6314</td><td>94.7355</td><td>75.20856</td><td>17.52826</td><td>GALAXY</td><td>STARFORMING</td></tr>\n",
       "</table></div>"
      ],
      "text/plain": [
       "<Table length=5>\n",
       "      specobjid           ra       dec     ... oi_6300_flux class    subclass \n",
       "       float64         float64   float64   ...   float64     str6     str11   \n",
       "--------------------- --------- ---------- ... ------------ ------ -----------\n",
       " 2.99595780317014e+17 145.51241 0.33917087 ...     1.011221 GALAXY   STARBURST\n",
       "2.995977039926006e+17 145.51241 0.33917087 ...     1.412207 GALAXY   STARBURST\n",
       "3.131291237173432e+17  167.2324 0.44480423 ...     181.0779 GALAXY   STARBURST\n",
       "3.142838872137011e+17 169.70646 0.61930757 ...     16.12341 GALAXY STARFORMING\n",
       "3.142849804170957e+17 169.70646 0.61930757 ...     17.52826 GALAXY STARFORMING"
      ]
     },
     "execution_count": 47,
     "metadata": {},
     "output_type": "execute_result"
    }
   ],
   "source": [
    "dataSDSS[0:5]"
   ]
  },
  {
   "cell_type": "code",
   "execution_count": null,
   "id": "8b14f866",
   "metadata": {},
   "outputs": [],
   "source": []
  },
  {
   "cell_type": "markdown",
   "id": "1cb29bbd",
   "metadata": {},
   "source": [
    "## 4.Tabla MATCHES COMPLETOS SDSS + IRAS"
   ]
  },
  {
   "cell_type": "code",
   "execution_count": 48,
   "id": "26c310d2",
   "metadata": {},
   "outputs": [
    {
     "data": {
      "text/plain": [
       "astropy.table.table.Table"
      ]
     },
     "execution_count": 48,
     "metadata": {},
     "output_type": "execute_result"
    }
   ],
   "source": [
    "type(dataSDSS)"
   ]
  },
  {
   "cell_type": "code",
   "execution_count": 49,
   "id": "9eedf72b",
   "metadata": {},
   "outputs": [
    {
     "data": {
      "text/plain": [
       "81"
      ]
     },
     "execution_count": 49,
     "metadata": {},
     "output_type": "execute_result"
    }
   ],
   "source": [
    "len(dataSDSS)"
   ]
  },
  {
   "cell_type": "code",
   "execution_count": 50,
   "id": "1d4f03f1",
   "metadata": {},
   "outputs": [
    {
     "data": {
      "text/plain": [
       "81"
      ]
     },
     "execution_count": 50,
     "metadata": {},
     "output_type": "execute_result"
    }
   ],
   "source": [
    "len(dataIRAS)"
   ]
  },
  {
   "cell_type": "code",
   "execution_count": 51,
   "id": "1bff029c",
   "metadata": {},
   "outputs": [],
   "source": [
    "from astropy.table import Table, hstack"
   ]
  },
  {
   "cell_type": "code",
   "execution_count": 52,
   "id": "4c2c0a76",
   "metadata": {},
   "outputs": [],
   "source": [
    "TablaFusionada = hstack([dataSDSS, dataIRAS])"
   ]
  },
  {
   "cell_type": "code",
   "execution_count": 53,
   "id": "69b35f14",
   "metadata": {},
   "outputs": [
    {
     "data": {
      "text/html": [
       "<div><i>Table length=5</i>\n",
       "<table id=\"table2541691060624\" class=\"table-striped table-bordered table-condensed\">\n",
       "<thead><tr><th>specobjid</th><th>ra_1</th><th>dec_1</th><th>z</th><th>h_alpha_flux</th><th>h_beta_flux</th><th>oiii_5007_flux</th><th>nii_6548_flux</th><th>nii_6584_flux</th><th>sii_6717_flux</th><th>sii_6731_flux</th><th>oi_6300_flux</th><th>class</th><th>subclass</th><th>galname</th><th>ra_2</th><th>dec_2</th><th>fnu_12</th><th>fnu_25</th><th>fnu_60</th><th>fnu_100</th><th>rat_12_25</th><th>rat_25_60</th><th>rat_60_100</th></tr></thead>\n",
       "<thead><tr><th></th><th></th><th></th><th></th><th></th><th></th><th></th><th></th><th></th><th></th><th></th><th></th><th></th><th></th><th></th><th>deg</th><th>deg</th><th>Jy</th><th>Jy</th><th>Jy</th><th>Jy</th><th></th><th></th><th></th></tr></thead>\n",
       "<thead><tr><th>float64</th><th>float64</th><th>float64</th><th>float64</th><th>float64</th><th>float64</th><th>float64</th><th>float64</th><th>float64</th><th>float64</th><th>float64</th><th>float64</th><th>str6</th><th>str11</th><th>object</th><th>float32</th><th>float32</th><th>float32</th><th>float32</th><th>float32</th><th>float32</th><th>float32</th><th>float32</th><th>float32</th></tr></thead>\n",
       "<tr><td>2.99595780317014e+17</td><td>145.51241</td><td>0.33917087</td><td>0.006378901</td><td>153.8173</td><td>35.59267</td><td>3.656026</td><td>13.19764</td><td>39.80714</td><td>16.52884</td><td>11.71782</td><td>1.011221</td><td>GALAXY</td><td>STARBURST</td><td>09394+0033</td><td>145.5139</td><td>0.3375</td><td>0.35</td><td>0.50</td><td>5.16</td><td>15.08</td><td>0.7000</td><td>0.0969</td><td>0.3422</td></tr>\n",
       "<tr><td>2.995977039926006e+17</td><td>145.51241</td><td>0.33917087</td><td>0.00638492</td><td>145.2406</td><td>34.59045</td><td>4.021027</td><td>12.83837</td><td>38.72347</td><td>15.92982</td><td>11.42728</td><td>1.412207</td><td>GALAXY</td><td>STARBURST</td><td>09394+0033</td><td>145.5139</td><td>0.3375</td><td>0.35</td><td>0.50</td><td>5.16</td><td>15.08</td><td>0.7000</td><td>0.0969</td><td>0.3422</td></tr>\n",
       "<tr><td>3.131291237173432e+17</td><td>167.2324</td><td>0.44480423</td><td>0.01290247</td><td>10285.94</td><td>3250.791</td><td>6074.062</td><td>578.0041</td><td>1743.394</td><td>1323.39</td><td>1014.631</td><td>181.0779</td><td>GALAXY</td><td>STARBURST</td><td>11063+0042</td><td>167.2346</td><td>0.4447</td><td>0.42</td><td>0.27</td><td>0.82</td><td>1.01</td><td>1.5556</td><td>0.3293</td><td>0.8119</td></tr>\n",
       "<tr><td>3.142838872137011e+17</td><td>169.70646</td><td>0.61930757</td><td>0.02539067</td><td>528.2295</td><td>139.9098</td><td>34.01912</td><td>62.50361</td><td>188.5253</td><td>90.17503</td><td>59.36301</td><td>16.12341</td><td>GALAXY</td><td>STARFORMING</td><td>11149+0005</td><td>169.3856</td><td>-0.1864</td><td>0.35</td><td>0.43</td><td>0.68</td><td>2.10</td><td>0.8140</td><td>0.6324</td><td>0.3238</td></tr>\n",
       "<tr><td>3.142849804170957e+17</td><td>169.70646</td><td>0.61930757</td><td>0.025405</td><td>571.5007</td><td>155.4066</td><td>37.14765</td><td>69.16956</td><td>208.6314</td><td>94.7355</td><td>75.20856</td><td>17.52826</td><td>GALAXY</td><td>STARFORMING</td><td>11162+0053</td><td>169.7076</td><td>0.6177</td><td>0.25</td><td>0.50</td><td>0.75</td><td>1.79</td><td>0.5000</td><td>0.6667</td><td>0.4190</td></tr>\n",
       "</table></div>"
      ],
      "text/plain": [
       "<Table length=5>\n",
       "      specobjid          ra_1     dec_1    ... rat_12_25 rat_25_60 rat_60_100\n",
       "                                           ...                               \n",
       "       float64         float64   float64   ...  float32   float32   float32  \n",
       "--------------------- --------- ---------- ... --------- --------- ----------\n",
       " 2.99595780317014e+17 145.51241 0.33917087 ...    0.7000    0.0969     0.3422\n",
       "2.995977039926006e+17 145.51241 0.33917087 ...    0.7000    0.0969     0.3422\n",
       "3.131291237173432e+17  167.2324 0.44480423 ...    1.5556    0.3293     0.8119\n",
       "3.142838872137011e+17 169.70646 0.61930757 ...    0.8140    0.6324     0.3238\n",
       "3.142849804170957e+17 169.70646 0.61930757 ...    0.5000    0.6667     0.4190"
      ]
     },
     "execution_count": 53,
     "metadata": {},
     "output_type": "execute_result"
    }
   ],
   "source": [
    "TablaFusionada[0:5]"
   ]
  },
  {
   "cell_type": "code",
   "execution_count": 57,
   "id": "90642823",
   "metadata": {},
   "outputs": [],
   "source": [
    "# Ordenar la tabla:\n",
    "TablaFusionada = TablaFusionada[['ra_1', 'dec_1', 'ra_2', 'dec_2', 'z', 'h_alpha_flux', 'h_beta_flux', 'oiii_5007_flux', 'nii_6548_flux', 'nii_6584_flux', 'sii_6717_flux', 'sii_6731_flux', 'oi_6300_flux', 'fnu_12', 'fnu_25', 'fnu_60', 'fnu_100', 'rat_12_25', 'rat_25_60', 'rat_60_100']]"
   ]
  },
  {
   "cell_type": "code",
   "execution_count": 59,
   "id": "d76e21d7",
   "metadata": {},
   "outputs": [
    {
     "data": {
      "text/html": [
       "<div><i>Table length=5</i>\n",
       "<table id=\"table2541688355616\" class=\"table-striped table-bordered table-condensed\">\n",
       "<thead><tr><th>ra_1</th><th>dec_1</th><th>ra_2</th><th>dec_2</th><th>z</th><th>h_alpha_flux</th><th>h_beta_flux</th><th>oiii_5007_flux</th><th>nii_6548_flux</th><th>nii_6584_flux</th><th>sii_6717_flux</th><th>sii_6731_flux</th><th>oi_6300_flux</th><th>fnu_12</th><th>fnu_25</th><th>fnu_60</th><th>fnu_100</th><th>rat_12_25</th><th>rat_25_60</th><th>rat_60_100</th></tr></thead>\n",
       "<thead><tr><th></th><th></th><th>deg</th><th>deg</th><th></th><th></th><th></th><th></th><th></th><th></th><th></th><th></th><th></th><th>Jy</th><th>Jy</th><th>Jy</th><th>Jy</th><th></th><th></th><th></th></tr></thead>\n",
       "<thead><tr><th>float64</th><th>float64</th><th>float32</th><th>float32</th><th>float64</th><th>float64</th><th>float64</th><th>float64</th><th>float64</th><th>float64</th><th>float64</th><th>float64</th><th>float64</th><th>float32</th><th>float32</th><th>float32</th><th>float32</th><th>float32</th><th>float32</th><th>float32</th></tr></thead>\n",
       "<tr><td>145.51241</td><td>0.33917087</td><td>145.5139</td><td>0.3375</td><td>0.006378901</td><td>153.8173</td><td>35.59267</td><td>3.656026</td><td>13.19764</td><td>39.80714</td><td>16.52884</td><td>11.71782</td><td>1.011221</td><td>0.35</td><td>0.50</td><td>5.16</td><td>15.08</td><td>0.7000</td><td>0.0969</td><td>0.3422</td></tr>\n",
       "<tr><td>145.51241</td><td>0.33917087</td><td>145.5139</td><td>0.3375</td><td>0.00638492</td><td>145.2406</td><td>34.59045</td><td>4.021027</td><td>12.83837</td><td>38.72347</td><td>15.92982</td><td>11.42728</td><td>1.412207</td><td>0.35</td><td>0.50</td><td>5.16</td><td>15.08</td><td>0.7000</td><td>0.0969</td><td>0.3422</td></tr>\n",
       "<tr><td>167.2324</td><td>0.44480423</td><td>167.2346</td><td>0.4447</td><td>0.01290247</td><td>10285.94</td><td>3250.791</td><td>6074.062</td><td>578.0041</td><td>1743.394</td><td>1323.39</td><td>1014.631</td><td>181.0779</td><td>0.42</td><td>0.27</td><td>0.82</td><td>1.01</td><td>1.5556</td><td>0.3293</td><td>0.8119</td></tr>\n",
       "<tr><td>169.70646</td><td>0.61930757</td><td>169.3856</td><td>-0.1864</td><td>0.02539067</td><td>528.2295</td><td>139.9098</td><td>34.01912</td><td>62.50361</td><td>188.5253</td><td>90.17503</td><td>59.36301</td><td>16.12341</td><td>0.35</td><td>0.43</td><td>0.68</td><td>2.10</td><td>0.8140</td><td>0.6324</td><td>0.3238</td></tr>\n",
       "<tr><td>169.70646</td><td>0.61930757</td><td>169.7076</td><td>0.6177</td><td>0.025405</td><td>571.5007</td><td>155.4066</td><td>37.14765</td><td>69.16956</td><td>208.6314</td><td>94.7355</td><td>75.20856</td><td>17.52826</td><td>0.25</td><td>0.50</td><td>0.75</td><td>1.79</td><td>0.5000</td><td>0.6667</td><td>0.4190</td></tr>\n",
       "</table></div>"
      ],
      "text/plain": [
       "<Table length=5>\n",
       "   ra_1     dec_1      ra_2    dec_2   ... rat_12_25 rat_25_60 rat_60_100\n",
       "                       deg      deg    ...                               \n",
       " float64   float64   float32  float32  ...  float32   float32   float32  \n",
       "--------- ---------- -------- -------- ... --------- --------- ----------\n",
       "145.51241 0.33917087 145.5139   0.3375 ...    0.7000    0.0969     0.3422\n",
       "145.51241 0.33917087 145.5139   0.3375 ...    0.7000    0.0969     0.3422\n",
       " 167.2324 0.44480423 167.2346   0.4447 ...    1.5556    0.3293     0.8119\n",
       "169.70646 0.61930757 169.3856  -0.1864 ...    0.8140    0.6324     0.3238\n",
       "169.70646 0.61930757 169.7076   0.6177 ...    0.5000    0.6667     0.4190"
      ]
     },
     "execution_count": 59,
     "metadata": {},
     "output_type": "execute_result"
    }
   ],
   "source": [
    "TablaFusionada[0:5]"
   ]
  },
  {
   "cell_type": "code",
   "execution_count": null,
   "id": "40119a43",
   "metadata": {},
   "outputs": [],
   "source": []
  },
  {
   "cell_type": "code",
   "execution_count": null,
   "id": "e5b76ace",
   "metadata": {},
   "outputs": [],
   "source": []
  }
 ],
 "metadata": {
  "kernelspec": {
   "display_name": "Python 3 (ipykernel)",
   "language": "python",
   "name": "python3"
  },
  "language_info": {
   "codemirror_mode": {
    "name": "ipython",
    "version": 3
   },
   "file_extension": ".py",
   "mimetype": "text/x-python",
   "name": "python",
   "nbconvert_exporter": "python",
   "pygments_lexer": "ipython3",
   "version": "3.9.7"
  }
 },
 "nbformat": 4,
 "nbformat_minor": 5
}
