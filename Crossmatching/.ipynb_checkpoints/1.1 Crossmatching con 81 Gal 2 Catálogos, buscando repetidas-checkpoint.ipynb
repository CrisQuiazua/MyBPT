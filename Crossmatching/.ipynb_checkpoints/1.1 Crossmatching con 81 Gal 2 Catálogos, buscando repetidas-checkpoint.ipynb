{
 "cells": [
  {
   "cell_type": "code",
   "execution_count": 1,
   "id": "ac721892",
   "metadata": {},
   "outputs": [
    {
     "name": "stdout",
     "output_type": "stream",
     "text": [
      "Could not import regions, which is required for some of the functionalities of this module.\n"
     ]
    }
   ],
   "source": [
    "import numpy as np\n",
    "import pandas as pd\n",
    "import time\n",
    "import pyvo\n",
    "import warnings\n",
    "import astropy.units as u\n",
    "import matplotlib.pyplot as plt\n",
    "from datetime import date\n",
    "from astropy.table import Table\n",
    "from astropy.table import hstack\n",
    "from astroquery.sdss import SDSS\n",
    "from astropy.coordinates import SkyCoord\n",
    "from matplotlib import pyplot as plt\n",
    "from astropy import coordinates, units as u\n",
    "from astroquery.xmatch import XMatch"
   ]
  },
  {
   "cell_type": "code",
   "execution_count": 2,
   "id": "cb82c262",
   "metadata": {},
   "outputs": [
    {
     "name": "stderr",
     "output_type": "stream",
     "text": [
      "C:\\ProgramData\\Anaconda33\\lib\\site-packages\\astroquery\\sdss\\core.py:874: VisibleDeprecationWarning: Reading unicode strings without specifying the encoding argument is deprecated. Set the encoding, use None for the system default.\n",
      "  arr = np.atleast_1d(np.genfromtxt(io.BytesIO(response.content),\n"
     ]
    }
   ],
   "source": [
    "query = \"\"\"SELECT TOP 20000\n",
    "    s.specobjid, s.ra, s.dec, s.z, g.h_alpha_flux, g.h_beta_flux,\n",
    "    g.oiii_5007_flux, g.nii_6548_flux, g.nii_6584_flux,\n",
    "    g.sii_6717_flux, g.sii_6731_flux, g.oi_6300_flux, s.class, s.subclass\n",
    "\n",
    "    FROM SpecObjAll AS s\n",
    "    JOIN galSpecExtra AS ID ON ID.specObjID = s.specObjID\n",
    "    JOIN galSpecLine AS g ON g.specObjID = s.specObjID\n",
    "\n",
    "\n",
    "    WHERE subclass IN ('STARFORMING', 'STARBURST', 'AGN', 'BROADLINE')\n",
    "    AND NOT h_alpha_flux <='0' AND NOT h_beta_flux <='0'\n",
    "    AND NOT oiii_5007_flux <='0' AND NOT nii_6548_flux <='0'\n",
    "    AND NOT nii_6584_flux <='0' AND NOT sii_6717_flux <='0' \n",
    "    AND NOT sii_6731_flux <='0' AND NOT oi_6300_flux <='0'\n",
    "    AND z < 0.8\n",
    "\n",
    "    ORDER BY specobjid ASC\"\"\"\n",
    "\n",
    "SDSS = SDSS.query_sql(query)"
   ]
  },
  {
   "cell_type": "code",
   "execution_count": 3,
   "id": "0295d94c",
   "metadata": {},
   "outputs": [
    {
     "data": {
      "text/plain": [
       "astropy.table.table.Table"
      ]
     },
     "execution_count": 3,
     "metadata": {},
     "output_type": "execute_result"
    }
   ],
   "source": [
    "type(SDSS)"
   ]
  },
  {
   "cell_type": "code",
   "execution_count": 4,
   "id": "4a476418",
   "metadata": {},
   "outputs": [
    {
     "data": {
      "text/html": [
       "<div><i>Table length=5</i>\n",
       "<table id=\"table2309424863024\" class=\"table-striped table-bordered table-condensed\">\n",
       "<thead><tr><th>specobjid</th><th>ra</th><th>dec</th><th>z</th><th>h_alpha_flux</th><th>h_beta_flux</th><th>oiii_5007_flux</th><th>nii_6548_flux</th><th>nii_6584_flux</th><th>sii_6717_flux</th><th>sii_6731_flux</th><th>oi_6300_flux</th><th>class</th><th>subclass</th></tr></thead>\n",
       "<thead><tr><th>int64</th><th>float64</th><th>float64</th><th>float64</th><th>float64</th><th>float64</th><th>float64</th><th>float64</th><th>float64</th><th>float64</th><th>float64</th><th>float64</th><th>bytes6</th><th>bytes11</th></tr></thead>\n",
       "<tr><td>299489677444933632</td><td>146.71421</td><td>-1.0413043</td><td>0.02122228</td><td>472.5904</td><td>119.4956</td><td>68.39606</td><td>74.30252</td><td>224.1136</td><td>124.7115</td><td>84.18053</td><td>18.59493</td><td>GALAXY</td><td>STARFORMING</td></tr>\n",
       "<tr><td>299490502078654464</td><td>146.62857</td><td>-0.76513683</td><td>0.06465632</td><td>99.40005</td><td>25.64047</td><td>21.44437</td><td>17.10464</td><td>51.59155</td><td>35.33497</td><td>21.65778</td><td>8.490424</td><td>GALAXY</td><td>STARFORMING</td></tr>\n",
       "<tr><td>299491051364706304</td><td>146.9639</td><td>-0.54500256</td><td>0.05598787</td><td>181.5262</td><td>47.3665</td><td>11.85567</td><td>17.94872</td><td>54.13749</td><td>31.28298</td><td>19.16762</td><td>4.319232</td><td>GALAXY</td><td>STARBURST</td></tr>\n",
       "<tr><td>299491051834468352</td><td>146.63167</td><td>-0.98827781</td><td>0.05265425</td><td>127.3058</td><td>38.33226</td><td>35.46671</td><td>8.550285</td><td>25.78963</td><td>30.26996</td><td>25.72297</td><td>6.269853</td><td>GALAXY</td><td>STARFORMING</td></tr>\n",
       "<tr><td>299492700632147968</td><td>146.59272</td><td>-0.76025604</td><td>0.06502353</td><td>211.5018</td><td>53.18228</td><td>15.59901</td><td>25.31465</td><td>76.35482</td><td>41.6377</td><td>28.47964</td><td>7.211103</td><td>GALAXY</td><td>STARFORMING</td></tr>\n",
       "</table></div>"
      ],
      "text/plain": [
       "<Table length=5>\n",
       "    specobjid          ra        dec     ... oi_6300_flux class    subclass \n",
       "      int64         float64    float64   ...   float64    bytes6   bytes11  \n",
       "------------------ --------- ----------- ... ------------ ------ -----------\n",
       "299489677444933632 146.71421  -1.0413043 ...     18.59493 GALAXY STARFORMING\n",
       "299490502078654464 146.62857 -0.76513683 ...     8.490424 GALAXY STARFORMING\n",
       "299491051364706304  146.9639 -0.54500256 ...     4.319232 GALAXY   STARBURST\n",
       "299491051834468352 146.63167 -0.98827781 ...     6.269853 GALAXY STARFORMING\n",
       "299492700632147968 146.59272 -0.76025604 ...     7.211103 GALAXY STARFORMING"
      ]
     },
     "execution_count": 4,
     "metadata": {},
     "output_type": "execute_result"
    }
   ],
   "source": [
    "SDSS[0:5]"
   ]
  },
  {
   "cell_type": "code",
   "execution_count": 5,
   "id": "8a3160f9",
   "metadata": {},
   "outputs": [],
   "source": [
    "service = pyvo.dal.TAPService ('https://irsa.ipac.caltech.edu/TAP')\n",
    "result = service.run_async(\"\"\"\n",
    "            SELECT\n",
    "            galname,\n",
    "            ra,\n",
    "            dec,\n",
    "            fnu_12,\n",
    "            fnu_25,\n",
    "            fnu_60,\n",
    "            fnu_100,\n",
    "            rat_12_25,\n",
    "            rat_25_60,\n",
    "            rat_60_100\n",
    "            \n",
    "            FROM irasgal\n",
    "            ORDER BY galname ASC\"\"\")\n",
    "IRAS = result.to_table()"
   ]
  },
  {
   "cell_type": "code",
   "execution_count": 6,
   "id": "ec2a6410",
   "metadata": {},
   "outputs": [
    {
     "data": {
      "text/html": [
       "<div><i>Table length=5</i>\n",
       "<table id=\"table2309528130032\" class=\"table-striped table-bordered table-condensed\">\n",
       "<thead><tr><th>galname</th><th>ra</th><th>dec</th><th>fnu_12</th><th>fnu_25</th><th>fnu_60</th><th>fnu_100</th><th>rat_12_25</th><th>rat_25_60</th><th>rat_60_100</th></tr></thead>\n",
       "<thead><tr><th></th><th>degrees</th><th>degrees</th><th>Jy</th><th>Jy</th><th>Jy</th><th>Jy</th><th></th><th></th><th></th></tr></thead>\n",
       "<thead><tr><th>object</th><th>float32</th><th>float32</th><th>float32</th><th>float32</th><th>float32</th><th>float32</th><th>float32</th><th>float32</th><th>float32</th></tr></thead>\n",
       "<tr><td>00000-0359</td><td>0.6448</td><td>-3.7105</td><td>0.25</td><td>0.33</td><td>1.21</td><td>2.49</td><td>0.7576</td><td>0.2727</td><td>0.4859</td></tr>\n",
       "<tr><td>00001+0827</td><td>0.6663</td><td>8.7373</td><td>0.25</td><td>0.28</td><td>0.70</td><td>1.19</td><td>0.8929</td><td>0.4000</td><td>0.5882</td></tr>\n",
       "<tr><td>00003+0313</td><td>0.7196</td><td>3.5042</td><td>0.25</td><td>0.32</td><td>0.52</td><td>1.12</td><td>0.7812</td><td>0.6154</td><td>0.4643</td></tr>\n",
       "<tr><td>00003-3431</td><td>0.7281</td><td>-34.2385</td><td>1.06</td><td>0.25</td><td>0.80</td><td>2.57</td><td>4.2400</td><td>0.3125</td><td>0.3113</td></tr>\n",
       "<tr><td>00005+2140</td><td>0.7878</td><td>21.9597</td><td>0.25</td><td>1.05</td><td>4.25</td><td>4.51</td><td>0.2381</td><td>0.2471</td><td>0.9424</td></tr>\n",
       "</table></div>"
      ],
      "text/plain": [
       "<Table length=5>\n",
       " galname      ra      dec     fnu_12 ... fnu_100 rat_12_25 rat_25_60 rat_60_100\n",
       "           degrees  degrees     Jy   ...    Jy                                 \n",
       "  object   float32  float32  float32 ... float32  float32   float32   float32  \n",
       "---------- -------- -------- ------- ... ------- --------- --------- ----------\n",
       "00000-0359   0.6448  -3.7105    0.25 ...    2.49    0.7576    0.2727     0.4859\n",
       "00001+0827   0.6663   8.7373    0.25 ...    1.19    0.8929    0.4000     0.5882\n",
       "00003+0313   0.7196   3.5042    0.25 ...    1.12    0.7812    0.6154     0.4643\n",
       "00003-3431   0.7281 -34.2385    1.06 ...    2.57    4.2400    0.3125     0.3113\n",
       "00005+2140   0.7878  21.9597    0.25 ...    4.51    0.2381    0.2471     0.9424"
      ]
     },
     "execution_count": 6,
     "metadata": {},
     "output_type": "execute_result"
    }
   ],
   "source": [
    "IRAS[0:5]"
   ]
  },
  {
   "cell_type": "markdown",
   "id": "4ac21ff5",
   "metadata": {},
   "source": [
    "---\n",
    "\n",
    "Verificamos la longitud de los dos catalogos. El catalogo que tenga mas elementos será el que utilizaremos como referencia.\n"
   ]
  },
  {
   "cell_type": "code",
   "execution_count": 7,
   "id": "89487f96",
   "metadata": {},
   "outputs": [
    {
     "data": {
      "text/plain": [
       "(11444, 20000)"
      ]
     },
     "execution_count": 7,
     "metadata": {},
     "output_type": "execute_result"
    }
   ],
   "source": [
    "len(IRAS), len(SDSS)"
   ]
  },
  {
   "cell_type": "markdown",
   "id": "c07ecbbf",
   "metadata": {},
   "source": [
    "---\n",
    "\n",
    "Ahora crearemos cuatro arreglos de `NumPy` con la información de las coordenadas celestes"
   ]
  },
  {
   "cell_type": "code",
   "execution_count": 8,
   "id": "f962647a",
   "metadata": {},
   "outputs": [],
   "source": [
    "ra1 = np.asarray(IRAS['ra'])\n",
    "dec1 = np.asarray(IRAS['dec'])\n",
    "ra2 = np.asarray(SDSS['ra'])\n",
    "dec2 = np.asarray(SDSS['dec'])"
   ]
  },
  {
   "cell_type": "markdown",
   "id": "df05056d",
   "metadata": {},
   "source": [
    "Utilizando esos arreglos, definiremos dos 'catalogos' utilizando la función SkyCoord( ). Nótese que las coordenadas celestes ya se plantean en grados dentro de los catalogos originales "
   ]
  },
  {
   "cell_type": "code",
   "execution_count": 9,
   "id": "ea8b0c8b",
   "metadata": {},
   "outputs": [],
   "source": [
    "IRAScat = SkyCoord(ra=ra1*u.degree, dec=dec1*u.degree)\n",
    "SDSScat = SkyCoord(ra=ra2*u.degree, dec=dec2*u.degree)"
   ]
  },
  {
   "cell_type": "code",
   "execution_count": 10,
   "id": "a5f28d42",
   "metadata": {},
   "outputs": [
    {
     "data": {
      "text/plain": [
       "<SkyCoord (ICRS): (ra, dec) in deg\n",
       "    [(0.6447522 ,  -3.710484 ), (0.66634995,   8.73727  ),\n",
       "     (0.7195514 ,   3.5042214), ..., (0.5100675 , -33.46959  ),\n",
       "     (0.5424071 ,   2.942838 ), (0.57888216,  12.971159 )]>"
      ]
     },
     "execution_count": 10,
     "metadata": {},
     "output_type": "execute_result"
    }
   ],
   "source": [
    "#Explora:\n",
    "# type(IRAScat)\n",
    "IRAScat\n",
    "# cantidad_parejas = len(IRAScat)\n",
    "# cantidad_parejas"
   ]
  },
  {
   "cell_type": "code",
   "execution_count": 11,
   "id": "8c7f08e3",
   "metadata": {},
   "outputs": [
    {
     "data": {
      "text/plain": [
       "20000"
      ]
     },
     "execution_count": 11,
     "metadata": {},
     "output_type": "execute_result"
    }
   ],
   "source": [
    "#Explora:\n",
    "# type(SDSScat)\n",
    "# SDSScat\n",
    "cantidad_parejasSD = len(SDSScat)\n",
    "cantidad_parejasSD"
   ]
  },
  {
   "cell_type": "markdown",
   "id": "e8ee0edc",
   "metadata": {},
   "source": [
    "Ahora realizamos el crossmatching mediante el método .match_to_catalog( )\n",
    "\n",
    "En este caso utilizaremos el catálogo SDSS como referencia y lo cruzamos con el catalogo IRAS.\n",
    "\n",
    "El método retorna tres resultados:\n",
    "\n",
    "- idx : indices dentro del catálogo IRAS que corresponden a los objetos mas cercanos a cada uno de los objetos del catálogo SDSS\n",
    "- d2d : distancias en el cielo (2-dimensionales) entro los objetos que hacen match.\n",
    "- d3d : distancias 3-dimensionales (al no haber dato 3D, se asume que todos los objetos estan a una distancia de 1 del observador)"
   ]
  },
  {
   "cell_type": "code",
   "execution_count": 12,
   "id": "2d644b05",
   "metadata": {},
   "outputs": [],
   "source": [
    "idx, d2d, d3d = SDSScat.match_to_catalog_sky(IRAScat)"
   ]
  },
  {
   "cell_type": "markdown",
   "id": "370159bb",
   "metadata": {},
   "source": [
    "El tamaño del arreglo `idx` es igual al del catálogo SDSS:"
   ]
  },
  {
   "cell_type": "code",
   "execution_count": 13,
   "id": "1b11af7c",
   "metadata": {},
   "outputs": [
    {
     "data": {
      "text/plain": [
       "(20000,)"
      ]
     },
     "execution_count": 13,
     "metadata": {},
     "output_type": "execute_result"
    }
   ],
   "source": [
    "idx.shape"
   ]
  },
  {
   "cell_type": "code",
   "execution_count": null,
   "id": "420a8664",
   "metadata": {},
   "outputs": [],
   "source": []
  },
  {
   "cell_type": "markdown",
   "id": "5bddd6d0",
   "metadata": {},
   "source": [
    "**La pregunta que surge es ¿Cual es el match apropiado?**\n",
    "\n",
    "La respuesta esta en el investigador, quien debe elegir (de acuerdo con sus criterios) cual es la mejor opción. \n",
    "\n",
    "Por ejemplo, en este caso se podría decir que el mejor match es entre el SDSS[19711] y el IRAS[5] porque la distancia entre estos objetos es de 0.75488 deg.\n",
    "\n",
    "También puede ser posible que el investigador considere los tres objetos mas cercanos en el SDSS correspondan a un solo objeto en el IRAS. Es decir que  SDSS[19711], SDSS[19722] y SDSS[19724] sean el objeto IRAS[5].\n",
    "\n"
   ]
  },
  {
   "cell_type": "markdown",
   "id": "5a91164d",
   "metadata": {},
   "source": [
    "---\n",
    "\n",
    "Una posibilidad adicional es restringir los resultados con una distancía máxima dentro de la cual se considera que si existe un match. Por ejemplo, podemos imponer que solamente si la distancia es menor que 10 arcsec se considere la posibilidad de match. "
   ]
  },
  {
   "cell_type": "code",
   "execution_count": 14,
   "id": "19259966",
   "metadata": {},
   "outputs": [
    {
     "data": {
      "text/plain": [
       "array([False, False, False, ..., False, False, False])"
      ]
     },
     "execution_count": 14,
     "metadata": {},
     "output_type": "execute_result"
    }
   ],
   "source": [
    "max_sep = 10 * u.arcsec # Criterio de maxima distancia posible\n",
    "\n",
    "# Creamos una mascara booleana\n",
    "sep_constraint = d2d < max_sep\n",
    "sep_constraint"
   ]
  },
  {
   "cell_type": "code",
   "execution_count": 15,
   "id": "d3983191",
   "metadata": {},
   "outputs": [],
   "source": [
    "SDSSmasked = SDSScat[sep_constraint]\n",
    "IRASmasked = IRAScat[idx[sep_constraint]]"
   ]
  },
  {
   "cell_type": "code",
   "execution_count": 16,
   "id": "668365a5",
   "metadata": {},
   "outputs": [
    {
     "data": {
      "text/plain": [
       "<SkyCoord (ICRS): (ra, dec) in deg\n",
       "    [(145.51241, 0.33917087), (145.51241, 0.33917087),\n",
       "     (167.2324 , 0.44480423), (169.70646, 0.61930757),\n",
       "     (169.70646, 0.61930757)]>"
      ]
     },
     "execution_count": 16,
     "metadata": {},
     "output_type": "execute_result"
    }
   ],
   "source": [
    "SDSSmasked[0:5]"
   ]
  },
  {
   "cell_type": "code",
   "execution_count": 17,
   "id": "41815bc1",
   "metadata": {},
   "outputs": [
    {
     "data": {
      "text/plain": [
       "<SkyCoord (ICRS): (ra, dec) in deg\n",
       "    [(145.51395, 0.3375216 ), (145.51395, 0.3375216 ),\n",
       "     (167.2346 , 0.44466087), (169.70757, 0.61774945),\n",
       "     (169.70757, 0.61774945)]>"
      ]
     },
     "execution_count": 17,
     "metadata": {},
     "output_type": "execute_result"
    }
   ],
   "source": [
    "IRASmasked[0:5]"
   ]
  },
  {
   "cell_type": "code",
   "execution_count": 18,
   "id": "a4874a33",
   "metadata": {},
   "outputs": [],
   "source": [
    "# Desde aqui los valores se repiten: (145.51241, 0.33917087), (145.51241, 0.33917087),\n",
    "\n",
    "#(145.51395, 0.3375216 ) y (145.51395, 0.3375216 )\n",
    "\n",
    "\n",
    "\n"
   ]
  },
  {
   "cell_type": "markdown",
   "id": "0b72eb5b",
   "metadata": {},
   "source": [
    "Asi se tienen solamente los objetos que hacen match y que cumplen con la ondiciónd e distancia máxima."
   ]
  },
  {
   "cell_type": "code",
   "execution_count": 19,
   "id": "e0a70619",
   "metadata": {},
   "outputs": [
    {
     "data": {
      "text/plain": [
       "81"
      ]
     },
     "execution_count": 19,
     "metadata": {},
     "output_type": "execute_result"
    }
   ],
   "source": [
    "# len(SDSSmasked)\n",
    "len(IRASmasked) "
   ]
  },
  {
   "cell_type": "code",
   "execution_count": 20,
   "id": "97b618cc",
   "metadata": {},
   "outputs": [
    {
     "data": {
      "text/plain": [
       "81"
      ]
     },
     "execution_count": 20,
     "metadata": {},
     "output_type": "execute_result"
    }
   ],
   "source": [
    "len(SDSSmasked)"
   ]
  },
  {
   "cell_type": "markdown",
   "id": "7d377131",
   "metadata": {},
   "source": [
    "---\n",
    "# Tablas"
   ]
  },
  {
   "cell_type": "markdown",
   "id": "86cfecc3",
   "metadata": {},
   "source": [
    "## 1. Tabla general de Matches"
   ]
  },
  {
   "cell_type": "code",
   "execution_count": 21,
   "id": "9e34ebf7",
   "metadata": {},
   "outputs": [],
   "source": [
    "from astropy.table import Table\n",
    "\n",
    "# Crear una nueva tabla vacía para almacenar los matches combinados\n",
    "matched_table = Table()\n",
    "\n",
    "# Agregar las columnas \"ra\" y \"dec\" a la nueva tabla desde \"SDSSmasked\"\n",
    "matched_table['ra_sdss'] = SDSSmasked.ra\n",
    "matched_table['dec_sdss'] = SDSSmasked.dec\n",
    "\n",
    "# Agregar las columnas \"ra\" y \"dec\" a la nueva tabla desde \"IRASmasked\"\n",
    "matched_table['ra_iras'] = IRASmasked.ra\n",
    "matched_table['dec_iras'] = IRASmasked.dec\n"
   ]
  },
  {
   "cell_type": "code",
   "execution_count": 22,
   "id": "59cfcb28",
   "metadata": {},
   "outputs": [
    {
     "data": {
      "text/html": [
       "<div><i>Table length=81</i>\n",
       "<table id=\"table2309557406976\" class=\"table-striped table-bordered table-condensed\">\n",
       "<thead><tr><th>ra_sdss</th><th>dec_sdss</th><th>ra_iras</th><th>dec_iras</th></tr></thead>\n",
       "<thead><tr><th>deg</th><th>deg</th><th>deg</th><th>deg</th></tr></thead>\n",
       "<thead><tr><th>float64</th><th>float64</th><th>float32</th><th>float32</th></tr></thead>\n",
       "<tr><td>145.51241</td><td>0.33917087</td><td>145.51395</td><td>0.3375216</td></tr>\n",
       "<tr><td>145.51241</td><td>0.33917087</td><td>145.51395</td><td>0.3375216</td></tr>\n",
       "<tr><td>167.2324</td><td>0.44480423</td><td>167.2346</td><td>0.44466087</td></tr>\n",
       "<tr><td>169.70646</td><td>0.61930757</td><td>169.70757</td><td>0.61774945</td></tr>\n",
       "<tr><td>169.70646</td><td>0.61930757</td><td>169.70757</td><td>0.61774945</td></tr>\n",
       "<tr><td>170.82587</td><td>-0.9224747</td><td>170.82668</td><td>-0.92125833</td></tr>\n",
       "<tr><td>169.38707</td><td>-0.18750165</td><td>169.38559</td><td>-0.1864041</td></tr>\n",
       "<tr><td>174.63863</td><td>-1.1845063</td><td>174.63847</td><td>-1.1859262</td></tr>\n",
       "<tr><td>174.63863</td><td>-1.1845063</td><td>174.63847</td><td>-1.1859262</td></tr>\n",
       "<tr><td>...</td><td>...</td><td>...</td><td>...</td></tr>\n",
       "<tr><td>262.58929</td><td>59.639906</td><td>262.59348</td><td>59.639565</td></tr>\n",
       "<tr><td>264.23958</td><td>59.200298</td><td>264.24017</td><td>59.199715</td></tr>\n",
       "<tr><td>329.53048</td><td>1.0088956</td><td>329.531</td><td>1.0091623</td></tr>\n",
       "<tr><td>331.05302</td><td>-0.0320986</td><td>331.05234</td><td>-0.032973766</td></tr>\n",
       "<tr><td>346.63215</td><td>0.17246415</td><td>346.6315</td><td>0.1721589</td></tr>\n",
       "<tr><td>356.75181</td><td>-0.44739343</td><td>356.7521</td><td>-0.4476941</td></tr>\n",
       "<tr><td>356.75181</td><td>-0.44739343</td><td>356.7521</td><td>-0.4476941</td></tr>\n",
       "<tr><td>355.28238</td><td>-1.037554</td><td>355.2808</td><td>-1.0376734</td></tr>\n",
       "<tr><td>356.05549</td><td>0.80402758</td><td>356.05377</td><td>0.80373883</td></tr>\n",
       "<tr><td>356.05549</td><td>0.80402758</td><td>356.05377</td><td>0.80373883</td></tr>\n",
       "</table></div>"
      ],
      "text/plain": [
       "<Table length=81>\n",
       " ra_sdss    dec_sdss   ra_iras    dec_iras  \n",
       "   deg        deg        deg        deg     \n",
       " float64    float64    float32    float32   \n",
       "--------- ----------- --------- ------------\n",
       "145.51241  0.33917087 145.51395    0.3375216\n",
       "145.51241  0.33917087 145.51395    0.3375216\n",
       " 167.2324  0.44480423  167.2346   0.44466087\n",
       "169.70646  0.61930757 169.70757   0.61774945\n",
       "169.70646  0.61930757 169.70757   0.61774945\n",
       "170.82587  -0.9224747 170.82668  -0.92125833\n",
       "169.38707 -0.18750165 169.38559   -0.1864041\n",
       "174.63863  -1.1845063 174.63847   -1.1859262\n",
       "174.63863  -1.1845063 174.63847   -1.1859262\n",
       "      ...         ...       ...          ...\n",
       "262.58929   59.639906 262.59348    59.639565\n",
       "264.23958   59.200298 264.24017    59.199715\n",
       "329.53048   1.0088956   329.531    1.0091623\n",
       "331.05302  -0.0320986 331.05234 -0.032973766\n",
       "346.63215  0.17246415  346.6315    0.1721589\n",
       "356.75181 -0.44739343  356.7521   -0.4476941\n",
       "356.75181 -0.44739343  356.7521   -0.4476941\n",
       "355.28238   -1.037554  355.2808   -1.0376734\n",
       "356.05549  0.80402758 356.05377   0.80373883\n",
       "356.05549  0.80402758 356.05377   0.80373883"
      ]
     },
     "execution_count": 22,
     "metadata": {},
     "output_type": "execute_result"
    }
   ],
   "source": [
    "matched_table"
   ]
  },
  {
   "cell_type": "code",
   "execution_count": 23,
   "id": "20a55061",
   "metadata": {},
   "outputs": [
    {
     "data": {
      "text/plain": [
       "astropy.table.table.Table"
      ]
     },
     "execution_count": 23,
     "metadata": {},
     "output_type": "execute_result"
    }
   ],
   "source": [
    "type(matched_table)"
   ]
  },
  {
   "cell_type": "markdown",
   "id": "9c6bbc37",
   "metadata": {},
   "source": [
    "# Obtener los valores repetidos en ra"
   ]
  },
  {
   "cell_type": "code",
   "execution_count": 24,
   "id": "34cab4de",
   "metadata": {},
   "outputs": [],
   "source": [
    "# Obtener los valores y sus conteos en la columna \"ra_sdss\"\n",
    "valores, conteos = np.unique(matched_table['ra_sdss'], return_counts=True)"
   ]
  },
  {
   "cell_type": "code",
   "execution_count": 25,
   "id": "123ddcd9",
   "metadata": {},
   "outputs": [],
   "source": [
    "# Filtrar los valores duplicados\n",
    "valores_duplicados = valores[conteos > 1]"
   ]
  },
  {
   "cell_type": "code",
   "execution_count": 26,
   "id": "240d4ff2",
   "metadata": {},
   "outputs": [
    {
     "data": {
      "text/html": [
       "&lt;Column name=&apos;ra_sdss&apos; dtype=&apos;float64&apos; unit=&apos;deg&apos; length=14&gt;\n",
       "<table>\n",
       "<tr><td>145.51241</td></tr>\n",
       "<tr><td>169.70646</td></tr>\n",
       "<tr><td>174.63863</td></tr>\n",
       "<tr><td>198.65753</td></tr>\n",
       "<tr><td>202.63334</td></tr>\n",
       "<tr><td>210.83645</td></tr>\n",
       "<tr><td>213.61094</td></tr>\n",
       "<tr><td>215.61509</td></tr>\n",
       "<tr><td>217.0189</td></tr>\n",
       "<tr><td>218.85559</td></tr>\n",
       "<tr><td>255.76447</td></tr>\n",
       "<tr><td>264.24835</td></tr>\n",
       "<tr><td>356.05549</td></tr>\n",
       "<tr><td>356.75181</td></tr>\n",
       "</table>"
      ],
      "text/plain": [
       "<Column name='ra_sdss' dtype='float64' unit='deg' length=14>\n",
       "145.51241\n",
       "169.70646\n",
       "174.63863\n",
       "198.65753\n",
       "202.63334\n",
       "210.83645\n",
       "213.61094\n",
       "215.61509\n",
       " 217.0189\n",
       "218.85559\n",
       "255.76447\n",
       "264.24835\n",
       "356.05549\n",
       "356.75181"
      ]
     },
     "execution_count": 26,
     "metadata": {},
     "output_type": "execute_result"
    }
   ],
   "source": [
    "valores_duplicados"
   ]
  },
  {
   "cell_type": "code",
   "execution_count": 27,
   "id": "eb8b4f7a",
   "metadata": {},
   "outputs": [],
   "source": [
    "# Crear una nueva tabla con los datos duplicados en la columna \"ra_sdss\"\n",
    "tabla_duplicados = Table(names=matched_table.colnames)\n",
    "for row in matched_table:\n",
    "    if row['ra_sdss'] in valores_duplicados:\n",
    "        tabla_duplicados.add_row(row)"
   ]
  },
  {
   "cell_type": "code",
   "execution_count": 28,
   "id": "70ae1374",
   "metadata": {},
   "outputs": [
    {
     "data": {
      "text/html": [
       "<div><i>Table length=28</i>\n",
       "<table id=\"table2309557217552\" class=\"table-striped table-bordered table-condensed\">\n",
       "<thead><tr><th>ra_sdss</th><th>dec_sdss</th><th>ra_iras</th><th>dec_iras</th></tr></thead>\n",
       "<thead><tr><th>float64</th><th>float64</th><th>float64</th><th>float64</th></tr></thead>\n",
       "<tr><td>145.51241</td><td>0.33917087</td><td>145.51394653320312</td><td>0.33752161264419556</td></tr>\n",
       "<tr><td>145.51241</td><td>0.33917087</td><td>145.51394653320312</td><td>0.33752161264419556</td></tr>\n",
       "<tr><td>169.70646</td><td>0.61930757</td><td>169.7075653076172</td><td>0.6177494525909424</td></tr>\n",
       "<tr><td>169.70646</td><td>0.61930757</td><td>169.7075653076172</td><td>0.6177494525909424</td></tr>\n",
       "<tr><td>174.63863</td><td>-1.1845063</td><td>174.6384735107422</td><td>-1.1859261989593506</td></tr>\n",
       "<tr><td>174.63863</td><td>-1.1845063</td><td>174.6384735107422</td><td>-1.1859261989593506</td></tr>\n",
       "<tr><td>202.63334</td><td>-0.60375072</td><td>202.63490295410156</td><td>-0.6047807931900024</td></tr>\n",
       "<tr><td>202.63334</td><td>-0.60375072</td><td>202.63490295410156</td><td>-0.6047807931900024</td></tr>\n",
       "<tr><td>210.83645</td><td>-0.54993497</td><td>210.83551025390625</td><td>-0.5498472452163696</td></tr>\n",
       "<tr><td>210.83645</td><td>-0.54993497</td><td>210.83551025390625</td><td>-0.5498472452163696</td></tr>\n",
       "<tr><td>...</td><td>...</td><td>...</td><td>...</td></tr>\n",
       "<tr><td>198.65753</td><td>-3.3076371</td><td>198.65554809570312</td><td>-3.306500196456909</td></tr>\n",
       "<tr><td>198.65753</td><td>-3.3076371</td><td>198.65554809570312</td><td>-3.306500196456909</td></tr>\n",
       "<tr><td>255.76447</td><td>61.043912</td><td>255.76559448242188</td><td>61.04149627685547</td></tr>\n",
       "<tr><td>255.76447</td><td>61.043912</td><td>255.76559448242188</td><td>61.04149627685547</td></tr>\n",
       "<tr><td>264.24835</td><td>55.006835</td><td>264.25250244140625</td><td>55.006832122802734</td></tr>\n",
       "<tr><td>264.24835</td><td>55.006835</td><td>264.25250244140625</td><td>55.006832122802734</td></tr>\n",
       "<tr><td>356.75181</td><td>-0.44739343</td><td>356.7521057128906</td><td>-0.4476940929889679</td></tr>\n",
       "<tr><td>356.75181</td><td>-0.44739343</td><td>356.7521057128906</td><td>-0.4476940929889679</td></tr>\n",
       "<tr><td>356.05549</td><td>0.80402758</td><td>356.05377197265625</td><td>0.8037388324737549</td></tr>\n",
       "<tr><td>356.05549</td><td>0.80402758</td><td>356.05377197265625</td><td>0.8037388324737549</td></tr>\n",
       "</table></div>"
      ],
      "text/plain": [
       "<Table length=28>\n",
       " ra_sdss    dec_sdss       ra_iras             dec_iras     \n",
       " float64    float64        float64             float64      \n",
       "--------- ----------- ------------------ -------------------\n",
       "145.51241  0.33917087 145.51394653320312 0.33752161264419556\n",
       "145.51241  0.33917087 145.51394653320312 0.33752161264419556\n",
       "169.70646  0.61930757  169.7075653076172  0.6177494525909424\n",
       "169.70646  0.61930757  169.7075653076172  0.6177494525909424\n",
       "174.63863  -1.1845063  174.6384735107422 -1.1859261989593506\n",
       "174.63863  -1.1845063  174.6384735107422 -1.1859261989593506\n",
       "202.63334 -0.60375072 202.63490295410156 -0.6047807931900024\n",
       "202.63334 -0.60375072 202.63490295410156 -0.6047807931900024\n",
       "210.83645 -0.54993497 210.83551025390625 -0.5498472452163696\n",
       "210.83645 -0.54993497 210.83551025390625 -0.5498472452163696\n",
       "      ...         ...                ...                 ...\n",
       "198.65753  -3.3076371 198.65554809570312  -3.306500196456909\n",
       "198.65753  -3.3076371 198.65554809570312  -3.306500196456909\n",
       "255.76447   61.043912 255.76559448242188   61.04149627685547\n",
       "255.76447   61.043912 255.76559448242188   61.04149627685547\n",
       "264.24835   55.006835 264.25250244140625  55.006832122802734\n",
       "264.24835   55.006835 264.25250244140625  55.006832122802734\n",
       "356.75181 -0.44739343  356.7521057128906 -0.4476940929889679\n",
       "356.75181 -0.44739343  356.7521057128906 -0.4476940929889679\n",
       "356.05549  0.80402758 356.05377197265625  0.8037388324737549\n",
       "356.05549  0.80402758 356.05377197265625  0.8037388324737549"
      ]
     },
     "execution_count": 28,
     "metadata": {},
     "output_type": "execute_result"
    }
   ],
   "source": [
    "tabla_duplicados"
   ]
  },
  {
   "cell_type": "code",
   "execution_count": 29,
   "id": "66e208c1",
   "metadata": {},
   "outputs": [],
   "source": [
    "# De los 81 galaxias match, existen 28 galaxias con misma ar y dec para 2 galaxias. "
   ]
  },
  {
   "cell_type": "code",
   "execution_count": null,
   "id": "482a98ea",
   "metadata": {},
   "outputs": [],
   "source": []
  },
  {
   "cell_type": "code",
   "execution_count": null,
   "id": "a96dd5a1",
   "metadata": {},
   "outputs": [],
   "source": []
  },
  {
   "cell_type": "markdown",
   "id": "38938f8d",
   "metadata": {},
   "source": [
    "## 2.Tabla IRAS MATCHES con sus filas"
   ]
  },
  {
   "cell_type": "code",
   "execution_count": 30,
   "id": "1b708906",
   "metadata": {},
   "outputs": [],
   "source": [
    "import astropy.table as table\n",
    "import astropy.coordinates as coord\n",
    "\n",
    "#VAMOS CON LAS 81 DE IRAS\n",
    "\n",
    "# Crear una nueva tabla con las columnas 'ra' y 'dec'\n",
    "new_table = table.Table()\n",
    "new_table['ra'] = IRASmasked.ra\n",
    "new_table['dec'] = IRASmasked.dec"
   ]
  },
  {
   "cell_type": "code",
   "execution_count": 31,
   "id": "0cf22027",
   "metadata": {},
   "outputs": [
    {
     "name": "stderr",
     "output_type": "stream",
     "text": [
      "WARNING: MergeConflictWarning: In merged column 'ra' the 'unit' attribute does not match (degrees != deg).  Using deg for merged output [astropy.utils.metadata]\n",
      "WARNING: MergeConflictWarning: In merged column 'dec' the 'unit' attribute does not match (degrees != deg).  Using deg for merged output [astropy.utils.metadata]\n"
     ]
    }
   ],
   "source": [
    "# Unir las tablas basándose en las columnas 'ra' y 'dec'\n",
    "dataIRAS = table.join(IRAS, new_table, keys=['ra', 'dec'], join_type='inner')"
   ]
  },
  {
   "cell_type": "code",
   "execution_count": 32,
   "id": "d2dc177d",
   "metadata": {},
   "outputs": [
    {
     "data": {
      "text/html": [
       "<div><i>Table length=5</i>\n",
       "<table id=\"table2309557217024\" class=\"table-striped table-bordered table-condensed\">\n",
       "<thead><tr><th>galname</th><th>ra</th><th>dec</th><th>fnu_12</th><th>fnu_25</th><th>fnu_60</th><th>fnu_100</th><th>rat_12_25</th><th>rat_25_60</th><th>rat_60_100</th></tr></thead>\n",
       "<thead><tr><th></th><th>deg</th><th>deg</th><th>Jy</th><th>Jy</th><th>Jy</th><th>Jy</th><th></th><th></th><th></th></tr></thead>\n",
       "<thead><tr><th>object</th><th>float32</th><th>float32</th><th>float32</th><th>float32</th><th>float32</th><th>float32</th><th>float32</th><th>float32</th><th>float32</th></tr></thead>\n",
       "<tr><td>09394+0033</td><td>145.5139</td><td>0.3375</td><td>0.35</td><td>0.50</td><td>5.16</td><td>15.08</td><td>0.7000</td><td>0.0969</td><td>0.3422</td></tr>\n",
       "<tr><td>09394+0033</td><td>145.5139</td><td>0.3375</td><td>0.35</td><td>0.50</td><td>5.16</td><td>15.08</td><td>0.7000</td><td>0.0969</td><td>0.3422</td></tr>\n",
       "<tr><td>11063+0042</td><td>167.2346</td><td>0.4447</td><td>0.42</td><td>0.27</td><td>0.82</td><td>1.01</td><td>1.5556</td><td>0.3293</td><td>0.8119</td></tr>\n",
       "<tr><td>11149+0005</td><td>169.3856</td><td>-0.1864</td><td>0.35</td><td>0.43</td><td>0.68</td><td>2.10</td><td>0.8140</td><td>0.6324</td><td>0.3238</td></tr>\n",
       "<tr><td>11162+0053</td><td>169.7076</td><td>0.6177</td><td>0.25</td><td>0.50</td><td>0.75</td><td>1.79</td><td>0.5000</td><td>0.6667</td><td>0.4190</td></tr>\n",
       "</table></div>"
      ],
      "text/plain": [
       "<Table length=5>\n",
       " galname      ra      dec     fnu_12 ... fnu_100 rat_12_25 rat_25_60 rat_60_100\n",
       "             deg      deg       Jy   ...    Jy                                 \n",
       "  object   float32  float32  float32 ... float32  float32   float32   float32  \n",
       "---------- -------- -------- ------- ... ------- --------- --------- ----------\n",
       "09394+0033 145.5139   0.3375    0.35 ...   15.08    0.7000    0.0969     0.3422\n",
       "09394+0033 145.5139   0.3375    0.35 ...   15.08    0.7000    0.0969     0.3422\n",
       "11063+0042 167.2346   0.4447    0.42 ...    1.01    1.5556    0.3293     0.8119\n",
       "11149+0005 169.3856  -0.1864    0.35 ...    2.10    0.8140    0.6324     0.3238\n",
       "11162+0053 169.7076   0.6177    0.25 ...    1.79    0.5000    0.6667     0.4190"
      ]
     },
     "execution_count": 32,
     "metadata": {},
     "output_type": "execute_result"
    }
   ],
   "source": [
    "dataIRAS[0:5]"
   ]
  },
  {
   "cell_type": "code",
   "execution_count": null,
   "id": "94e499de",
   "metadata": {},
   "outputs": [],
   "source": []
  },
  {
   "cell_type": "code",
   "execution_count": null,
   "id": "3fdfba0c",
   "metadata": {},
   "outputs": [],
   "source": []
  },
  {
   "cell_type": "markdown",
   "id": "3aceea43",
   "metadata": {},
   "source": [
    "## 3.Tabla SDSS MATCHES con sus filas"
   ]
  },
  {
   "cell_type": "code",
   "execution_count": 33,
   "id": "5c32fb55",
   "metadata": {},
   "outputs": [],
   "source": [
    "import astropy.table as table\n",
    "\n",
    "# Seleccionar las columnas 'ra_sdss' y 'dec_sdss' de 'matched_table'\n",
    "nuevaSDSS = table.Table()\n",
    "nuevaSDSS['ra_sdss'] = matched_table['ra_sdss']\n",
    "nuevaSDSS['dec_sdss'] = matched_table['dec_sdss']"
   ]
  },
  {
   "cell_type": "code",
   "execution_count": 34,
   "id": "0af9de39",
   "metadata": {},
   "outputs": [],
   "source": [
    "import astropy.table\n",
    "# Crear una nueva tabla llamada \"dataSDSS\" con todas las columnas de \"SDSS\"\n",
    "dtype = [str if name in ['class', 'subclass'] else float for name in SDSS.colnames]\n",
    "dataSDSS = astropy.table.Table(names=SDSS.colnames, dtype=dtype)\n",
    "\n",
    "# Iterar sobre las filas de \"SDSS\" y agregar solo las filas que estén presentes en \"nuevaSDSS\"\n",
    "for row in SDSS:\n",
    "    if (row['ra'] in nuevaSDSS['ra_sdss']) and (row['dec'] in nuevaSDSS['dec_sdss']):\n",
    "        dataSDSS.add_row(row)\n"
   ]
  },
  {
   "cell_type": "code",
   "execution_count": 35,
   "id": "7929c312",
   "metadata": {},
   "outputs": [
    {
     "data": {
      "text/html": [
       "<div><i>Table length=5</i>\n",
       "<table id=\"table2309560023312\" class=\"table-striped table-bordered table-condensed\">\n",
       "<thead><tr><th>specobjid</th><th>ra</th><th>dec</th><th>z</th><th>h_alpha_flux</th><th>h_beta_flux</th><th>oiii_5007_flux</th><th>nii_6548_flux</th><th>nii_6584_flux</th><th>sii_6717_flux</th><th>sii_6731_flux</th><th>oi_6300_flux</th><th>class</th><th>subclass</th></tr></thead>\n",
       "<thead><tr><th>float64</th><th>float64</th><th>float64</th><th>float64</th><th>float64</th><th>float64</th><th>float64</th><th>float64</th><th>float64</th><th>float64</th><th>float64</th><th>float64</th><th>str6</th><th>str11</th></tr></thead>\n",
       "<tr><td>2.99595780317014e+17</td><td>145.51241</td><td>0.33917087</td><td>0.006378901</td><td>153.8173</td><td>35.59267</td><td>3.656026</td><td>13.19764</td><td>39.80714</td><td>16.52884</td><td>11.71782</td><td>1.011221</td><td>GALAXY</td><td>STARBURST</td></tr>\n",
       "<tr><td>2.995977039926006e+17</td><td>145.51241</td><td>0.33917087</td><td>0.00638492</td><td>145.2406</td><td>34.59045</td><td>4.021027</td><td>12.83837</td><td>38.72347</td><td>15.92982</td><td>11.42728</td><td>1.412207</td><td>GALAXY</td><td>STARBURST</td></tr>\n",
       "<tr><td>3.131291237173432e+17</td><td>167.2324</td><td>0.44480423</td><td>0.01290247</td><td>10285.94</td><td>3250.791</td><td>6074.062</td><td>578.0041</td><td>1743.394</td><td>1323.39</td><td>1014.631</td><td>181.0779</td><td>GALAXY</td><td>STARBURST</td></tr>\n",
       "<tr><td>3.142838872137011e+17</td><td>169.70646</td><td>0.61930757</td><td>0.02539067</td><td>528.2295</td><td>139.9098</td><td>34.01912</td><td>62.50361</td><td>188.5253</td><td>90.17503</td><td>59.36301</td><td>16.12341</td><td>GALAXY</td><td>STARFORMING</td></tr>\n",
       "<tr><td>3.142849804170957e+17</td><td>169.70646</td><td>0.61930757</td><td>0.025405</td><td>571.5007</td><td>155.4066</td><td>37.14765</td><td>69.16956</td><td>208.6314</td><td>94.7355</td><td>75.20856</td><td>17.52826</td><td>GALAXY</td><td>STARFORMING</td></tr>\n",
       "</table></div>"
      ],
      "text/plain": [
       "<Table length=5>\n",
       "      specobjid           ra       dec     ... oi_6300_flux class    subclass \n",
       "       float64         float64   float64   ...   float64     str6     str11   \n",
       "--------------------- --------- ---------- ... ------------ ------ -----------\n",
       " 2.99595780317014e+17 145.51241 0.33917087 ...     1.011221 GALAXY   STARBURST\n",
       "2.995977039926006e+17 145.51241 0.33917087 ...     1.412207 GALAXY   STARBURST\n",
       "3.131291237173432e+17  167.2324 0.44480423 ...     181.0779 GALAXY   STARBURST\n",
       "3.142838872137011e+17 169.70646 0.61930757 ...     16.12341 GALAXY STARFORMING\n",
       "3.142849804170957e+17 169.70646 0.61930757 ...     17.52826 GALAXY STARFORMING"
      ]
     },
     "execution_count": 35,
     "metadata": {},
     "output_type": "execute_result"
    }
   ],
   "source": [
    "dataSDSS[0:5]"
   ]
  },
  {
   "cell_type": "code",
   "execution_count": null,
   "id": "8b14f866",
   "metadata": {},
   "outputs": [],
   "source": []
  },
  {
   "cell_type": "markdown",
   "id": "1cb29bbd",
   "metadata": {},
   "source": [
    "## 4.Tabla MATCHES COMPLETOS SDSS + IRAS"
   ]
  },
  {
   "cell_type": "code",
   "execution_count": 36,
   "id": "26c310d2",
   "metadata": {},
   "outputs": [
    {
     "data": {
      "text/plain": [
       "astropy.table.table.Table"
      ]
     },
     "execution_count": 36,
     "metadata": {},
     "output_type": "execute_result"
    }
   ],
   "source": [
    "type(dataSDSS)"
   ]
  },
  {
   "cell_type": "code",
   "execution_count": 37,
   "id": "9eedf72b",
   "metadata": {},
   "outputs": [
    {
     "data": {
      "text/plain": [
       "81"
      ]
     },
     "execution_count": 37,
     "metadata": {},
     "output_type": "execute_result"
    }
   ],
   "source": [
    "len(dataSDSS)"
   ]
  },
  {
   "cell_type": "code",
   "execution_count": 38,
   "id": "1d4f03f1",
   "metadata": {},
   "outputs": [
    {
     "data": {
      "text/plain": [
       "81"
      ]
     },
     "execution_count": 38,
     "metadata": {},
     "output_type": "execute_result"
    }
   ],
   "source": [
    "len(dataIRAS)"
   ]
  },
  {
   "cell_type": "code",
   "execution_count": 39,
   "id": "1bff029c",
   "metadata": {},
   "outputs": [],
   "source": [
    "from astropy.table import Table, hstack"
   ]
  },
  {
   "cell_type": "code",
   "execution_count": 40,
   "id": "4c2c0a76",
   "metadata": {},
   "outputs": [],
   "source": [
    "TablaFusionada = hstack([dataSDSS, dataIRAS])"
   ]
  },
  {
   "cell_type": "code",
   "execution_count": 41,
   "id": "69b35f14",
   "metadata": {},
   "outputs": [
    {
     "data": {
      "text/html": [
       "<div><i>Table length=5</i>\n",
       "<table id=\"table2309557215920\" class=\"table-striped table-bordered table-condensed\">\n",
       "<thead><tr><th>specobjid</th><th>ra_1</th><th>dec_1</th><th>z</th><th>h_alpha_flux</th><th>h_beta_flux</th><th>oiii_5007_flux</th><th>nii_6548_flux</th><th>nii_6584_flux</th><th>sii_6717_flux</th><th>sii_6731_flux</th><th>oi_6300_flux</th><th>class</th><th>subclass</th><th>galname</th><th>ra_2</th><th>dec_2</th><th>fnu_12</th><th>fnu_25</th><th>fnu_60</th><th>fnu_100</th><th>rat_12_25</th><th>rat_25_60</th><th>rat_60_100</th></tr></thead>\n",
       "<thead><tr><th></th><th></th><th></th><th></th><th></th><th></th><th></th><th></th><th></th><th></th><th></th><th></th><th></th><th></th><th></th><th>deg</th><th>deg</th><th>Jy</th><th>Jy</th><th>Jy</th><th>Jy</th><th></th><th></th><th></th></tr></thead>\n",
       "<thead><tr><th>float64</th><th>float64</th><th>float64</th><th>float64</th><th>float64</th><th>float64</th><th>float64</th><th>float64</th><th>float64</th><th>float64</th><th>float64</th><th>float64</th><th>str6</th><th>str11</th><th>object</th><th>float32</th><th>float32</th><th>float32</th><th>float32</th><th>float32</th><th>float32</th><th>float32</th><th>float32</th><th>float32</th></tr></thead>\n",
       "<tr><td>2.99595780317014e+17</td><td>145.51241</td><td>0.33917087</td><td>0.006378901</td><td>153.8173</td><td>35.59267</td><td>3.656026</td><td>13.19764</td><td>39.80714</td><td>16.52884</td><td>11.71782</td><td>1.011221</td><td>GALAXY</td><td>STARBURST</td><td>09394+0033</td><td>145.5139</td><td>0.3375</td><td>0.35</td><td>0.50</td><td>5.16</td><td>15.08</td><td>0.7000</td><td>0.0969</td><td>0.3422</td></tr>\n",
       "<tr><td>2.995977039926006e+17</td><td>145.51241</td><td>0.33917087</td><td>0.00638492</td><td>145.2406</td><td>34.59045</td><td>4.021027</td><td>12.83837</td><td>38.72347</td><td>15.92982</td><td>11.42728</td><td>1.412207</td><td>GALAXY</td><td>STARBURST</td><td>09394+0033</td><td>145.5139</td><td>0.3375</td><td>0.35</td><td>0.50</td><td>5.16</td><td>15.08</td><td>0.7000</td><td>0.0969</td><td>0.3422</td></tr>\n",
       "<tr><td>3.131291237173432e+17</td><td>167.2324</td><td>0.44480423</td><td>0.01290247</td><td>10285.94</td><td>3250.791</td><td>6074.062</td><td>578.0041</td><td>1743.394</td><td>1323.39</td><td>1014.631</td><td>181.0779</td><td>GALAXY</td><td>STARBURST</td><td>11063+0042</td><td>167.2346</td><td>0.4447</td><td>0.42</td><td>0.27</td><td>0.82</td><td>1.01</td><td>1.5556</td><td>0.3293</td><td>0.8119</td></tr>\n",
       "<tr><td>3.142838872137011e+17</td><td>169.70646</td><td>0.61930757</td><td>0.02539067</td><td>528.2295</td><td>139.9098</td><td>34.01912</td><td>62.50361</td><td>188.5253</td><td>90.17503</td><td>59.36301</td><td>16.12341</td><td>GALAXY</td><td>STARFORMING</td><td>11149+0005</td><td>169.3856</td><td>-0.1864</td><td>0.35</td><td>0.43</td><td>0.68</td><td>2.10</td><td>0.8140</td><td>0.6324</td><td>0.3238</td></tr>\n",
       "<tr><td>3.142849804170957e+17</td><td>169.70646</td><td>0.61930757</td><td>0.025405</td><td>571.5007</td><td>155.4066</td><td>37.14765</td><td>69.16956</td><td>208.6314</td><td>94.7355</td><td>75.20856</td><td>17.52826</td><td>GALAXY</td><td>STARFORMING</td><td>11162+0053</td><td>169.7076</td><td>0.6177</td><td>0.25</td><td>0.50</td><td>0.75</td><td>1.79</td><td>0.5000</td><td>0.6667</td><td>0.4190</td></tr>\n",
       "</table></div>"
      ],
      "text/plain": [
       "<Table length=5>\n",
       "      specobjid          ra_1     dec_1    ... rat_12_25 rat_25_60 rat_60_100\n",
       "                                           ...                               \n",
       "       float64         float64   float64   ...  float32   float32   float32  \n",
       "--------------------- --------- ---------- ... --------- --------- ----------\n",
       " 2.99595780317014e+17 145.51241 0.33917087 ...    0.7000    0.0969     0.3422\n",
       "2.995977039926006e+17 145.51241 0.33917087 ...    0.7000    0.0969     0.3422\n",
       "3.131291237173432e+17  167.2324 0.44480423 ...    1.5556    0.3293     0.8119\n",
       "3.142838872137011e+17 169.70646 0.61930757 ...    0.8140    0.6324     0.3238\n",
       "3.142849804170957e+17 169.70646 0.61930757 ...    0.5000    0.6667     0.4190"
      ]
     },
     "execution_count": 41,
     "metadata": {},
     "output_type": "execute_result"
    }
   ],
   "source": [
    "TablaFusionada[0:5]"
   ]
  },
  {
   "cell_type": "code",
   "execution_count": 42,
   "id": "90642823",
   "metadata": {},
   "outputs": [],
   "source": [
    "# Ordenar la tabla:\n",
    "TablaFusionada = TablaFusionada[['ra_1', 'dec_1', 'ra_2', 'dec_2', 'z', 'h_alpha_flux', 'h_beta_flux', 'oiii_5007_flux', 'nii_6548_flux', 'nii_6584_flux', 'sii_6717_flux', 'sii_6731_flux', 'oi_6300_flux', 'fnu_12', 'fnu_25', 'fnu_60', 'fnu_100', 'rat_12_25', 'rat_25_60', 'rat_60_100']]"
   ]
  },
  {
   "cell_type": "code",
   "execution_count": 43,
   "id": "d76e21d7",
   "metadata": {},
   "outputs": [
    {
     "data": {
      "text/html": [
       "<div><i>Table length=5</i>\n",
       "<table id=\"table2309557215344\" class=\"table-striped table-bordered table-condensed\">\n",
       "<thead><tr><th>ra_1</th><th>dec_1</th><th>ra_2</th><th>dec_2</th><th>z</th><th>h_alpha_flux</th><th>h_beta_flux</th><th>oiii_5007_flux</th><th>nii_6548_flux</th><th>nii_6584_flux</th><th>sii_6717_flux</th><th>sii_6731_flux</th><th>oi_6300_flux</th><th>fnu_12</th><th>fnu_25</th><th>fnu_60</th><th>fnu_100</th><th>rat_12_25</th><th>rat_25_60</th><th>rat_60_100</th></tr></thead>\n",
       "<thead><tr><th></th><th></th><th>deg</th><th>deg</th><th></th><th></th><th></th><th></th><th></th><th></th><th></th><th></th><th></th><th>Jy</th><th>Jy</th><th>Jy</th><th>Jy</th><th></th><th></th><th></th></tr></thead>\n",
       "<thead><tr><th>float64</th><th>float64</th><th>float32</th><th>float32</th><th>float64</th><th>float64</th><th>float64</th><th>float64</th><th>float64</th><th>float64</th><th>float64</th><th>float64</th><th>float64</th><th>float32</th><th>float32</th><th>float32</th><th>float32</th><th>float32</th><th>float32</th><th>float32</th></tr></thead>\n",
       "<tr><td>145.51241</td><td>0.33917087</td><td>145.5139</td><td>0.3375</td><td>0.006378901</td><td>153.8173</td><td>35.59267</td><td>3.656026</td><td>13.19764</td><td>39.80714</td><td>16.52884</td><td>11.71782</td><td>1.011221</td><td>0.35</td><td>0.50</td><td>5.16</td><td>15.08</td><td>0.7000</td><td>0.0969</td><td>0.3422</td></tr>\n",
       "<tr><td>145.51241</td><td>0.33917087</td><td>145.5139</td><td>0.3375</td><td>0.00638492</td><td>145.2406</td><td>34.59045</td><td>4.021027</td><td>12.83837</td><td>38.72347</td><td>15.92982</td><td>11.42728</td><td>1.412207</td><td>0.35</td><td>0.50</td><td>5.16</td><td>15.08</td><td>0.7000</td><td>0.0969</td><td>0.3422</td></tr>\n",
       "<tr><td>167.2324</td><td>0.44480423</td><td>167.2346</td><td>0.4447</td><td>0.01290247</td><td>10285.94</td><td>3250.791</td><td>6074.062</td><td>578.0041</td><td>1743.394</td><td>1323.39</td><td>1014.631</td><td>181.0779</td><td>0.42</td><td>0.27</td><td>0.82</td><td>1.01</td><td>1.5556</td><td>0.3293</td><td>0.8119</td></tr>\n",
       "<tr><td>169.70646</td><td>0.61930757</td><td>169.3856</td><td>-0.1864</td><td>0.02539067</td><td>528.2295</td><td>139.9098</td><td>34.01912</td><td>62.50361</td><td>188.5253</td><td>90.17503</td><td>59.36301</td><td>16.12341</td><td>0.35</td><td>0.43</td><td>0.68</td><td>2.10</td><td>0.8140</td><td>0.6324</td><td>0.3238</td></tr>\n",
       "<tr><td>169.70646</td><td>0.61930757</td><td>169.7076</td><td>0.6177</td><td>0.025405</td><td>571.5007</td><td>155.4066</td><td>37.14765</td><td>69.16956</td><td>208.6314</td><td>94.7355</td><td>75.20856</td><td>17.52826</td><td>0.25</td><td>0.50</td><td>0.75</td><td>1.79</td><td>0.5000</td><td>0.6667</td><td>0.4190</td></tr>\n",
       "</table></div>"
      ],
      "text/plain": [
       "<Table length=5>\n",
       "   ra_1     dec_1      ra_2    dec_2   ... rat_12_25 rat_25_60 rat_60_100\n",
       "                       deg      deg    ...                               \n",
       " float64   float64   float32  float32  ...  float32   float32   float32  \n",
       "--------- ---------- -------- -------- ... --------- --------- ----------\n",
       "145.51241 0.33917087 145.5139   0.3375 ...    0.7000    0.0969     0.3422\n",
       "145.51241 0.33917087 145.5139   0.3375 ...    0.7000    0.0969     0.3422\n",
       " 167.2324 0.44480423 167.2346   0.4447 ...    1.5556    0.3293     0.8119\n",
       "169.70646 0.61930757 169.3856  -0.1864 ...    0.8140    0.6324     0.3238\n",
       "169.70646 0.61930757 169.7076   0.6177 ...    0.5000    0.6667     0.4190"
      ]
     },
     "execution_count": 43,
     "metadata": {},
     "output_type": "execute_result"
    }
   ],
   "source": [
    "TablaFusionada[0:5]"
   ]
  },
  {
   "cell_type": "code",
   "execution_count": null,
   "id": "40119a43",
   "metadata": {},
   "outputs": [],
   "source": []
  },
  {
   "cell_type": "code",
   "execution_count": null,
   "id": "e5b76ace",
   "metadata": {},
   "outputs": [],
   "source": []
  }
 ],
 "metadata": {
  "kernelspec": {
   "display_name": "Python 3 (ipykernel)",
   "language": "python",
   "name": "python3"
  },
  "language_info": {
   "codemirror_mode": {
    "name": "ipython",
    "version": 3
   },
   "file_extension": ".py",
   "mimetype": "text/x-python",
   "name": "python",
   "nbconvert_exporter": "python",
   "pygments_lexer": "ipython3",
   "version": "3.9.7"
  }
 },
 "nbformat": 4,
 "nbformat_minor": 5
}
