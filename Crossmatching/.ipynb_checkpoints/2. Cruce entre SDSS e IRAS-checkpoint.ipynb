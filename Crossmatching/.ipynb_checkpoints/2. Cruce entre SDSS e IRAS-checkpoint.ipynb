{
 "cells": [
  {
   "cell_type": "markdown",
   "id": "4d71716a",
   "metadata": {},
   "source": [
    "**Objetivo:**   \n",
    "\n",
    "* Realizar el proceso de Crossmatching entre SDSS e IRAS, teniendo como referencia el libro: 1. Datos IRAS Y SDSS.  \n",
    "  Datos iniciales, sin repetición:   \n",
    "  IRAS= 11.440  \n",
    "  SDSS= 310.346   \n",
    "\n",
    "* Crossmatching entre SDSS e IRAS, usando sus respectivos datos de \"ra\" y \"dec\" con un criterio de 10 * u.arcsec (Máxima distancia posible según la literatura para identificar a un mismo objeto según \"ra\" y \"dec\"."
   ]
  },
  {
   "cell_type": "code",
   "execution_count": 1,
   "id": "ac721892",
   "metadata": {},
   "outputs": [
    {
     "name": "stdout",
     "output_type": "stream",
     "text": [
      "Could not import regions, which is required for some of the functionalities of this module.\n"
     ]
    }
   ],
   "source": [
    "import numpy as np\n",
    "import pandas as pd\n",
    "import time\n",
    "import pyvo\n",
    "import warnings\n",
    "import astropy.units as u\n",
    "import matplotlib.pyplot as plt\n",
    "from datetime import date\n",
    "from astropy.table import Table\n",
    "from astropy.table import hstack\n",
    "from astroquery.sdss import SDSS\n",
    "from astropy.coordinates import SkyCoord\n",
    "from matplotlib import pyplot as plt\n",
    "from astropy import coordinates, units as u\n",
    "from astroquery.xmatch import XMatch"
   ]
  },
  {
   "cell_type": "code",
   "execution_count": 2,
   "id": "12c4a5cc",
   "metadata": {},
   "outputs": [
    {
     "name": "stdout",
     "output_type": "stream",
     "text": [
      "Valores duplicados en la columna 'ra': [132.58559 179.51375 185.48906 351.8132 ]\n",
      "Índices de los valores duplicados en la columna 'ra': Int64Index([4105, 5929, 6215, 11228], dtype='int64')\n",
      "Índices de TODAS las ocurrencias de valores duplicados en la columna 'ra': Int64Index([4100, 4105, 5928, 5929, 6213, 6215, 11227, 11228], dtype='int64')\n"
     ]
    },
    {
     "name": "stderr",
     "output_type": "stream",
     "text": [
      "C:\\ProgramData\\Anaconda33\\lib\\site-packages\\astroquery\\sdss\\core.py:874: VisibleDeprecationWarning: Reading unicode strings without specifying the encoding argument is deprecated. Set the encoding, use None for the system default.\n",
      "  arr = np.atleast_1d(np.genfromtxt(io.BytesIO(response.content),\n"
     ]
    },
    {
     "name": "stdout",
     "output_type": "stream",
     "text": [
      "Número de valores únicos: 293697\n",
      "Número de valores repetidos 1 vez: 14895\n",
      "Número de valores repetidos 2 veces: 1239\n",
      "Número de valores repetidos 3 veces: 211\n",
      "Número de valores repetidos 4 veces: 242\n",
      "Número de valores repetidos 5 veces: 45\n",
      "Número de valores repetidos 6 veces: 14\n",
      "Número de valores repetidos 7 veces: 3\n",
      "Número de valores repetidos 8 veces: 0\n",
      "Número de valores repetidos 9 veces: 0\n",
      "Número de valores repetidos 10 veces: 0\n",
      "Valores duplicados en la columna 'ra': [146.9639  146.94999 146.63167 ... 257.38367 258.13561 257.98823]\n",
      "Índices de los valores duplicados en la columna 'ra': Int64Index([     5,      7,      8,      9,     10,     12,     15,     18,\n",
      "                20,     22,\n",
      "            ...\n",
      "            329098, 329099, 329100, 329102, 329103, 329116, 329285, 329438,\n",
      "            329439, 329576],\n",
      "           dtype='int64', length=19304)\n",
      "Índices donde el valor de 'ra' es igual a 145.51241: Int64Index([167, 170], dtype='int64')\n"
     ]
    }
   ],
   "source": [
    "%run \"C:\\Users\\Cristina Quiazúa M\\Desktop\\MyBPT\\Crossmatching\\1. Datos IRAS Y SDSS.ipynb\""
   ]
  },
  {
   "cell_type": "code",
   "execution_count": 3,
   "id": "5f8a322c",
   "metadata": {},
   "outputs": [
    {
     "data": {
      "text/html": [
       "<div>\n",
       "<style scoped>\n",
       "    .dataframe tbody tr th:only-of-type {\n",
       "        vertical-align: middle;\n",
       "    }\n",
       "\n",
       "    .dataframe tbody tr th {\n",
       "        vertical-align: top;\n",
       "    }\n",
       "\n",
       "    .dataframe thead th {\n",
       "        text-align: right;\n",
       "    }\n",
       "</style>\n",
       "<table border=\"1\" class=\"dataframe\">\n",
       "  <thead>\n",
       "    <tr style=\"text-align: right;\">\n",
       "      <th></th>\n",
       "      <th>specobjid</th>\n",
       "      <th>ra</th>\n",
       "      <th>dec</th>\n",
       "      <th>z</th>\n",
       "      <th>h_alpha_flux</th>\n",
       "      <th>h_beta_flux</th>\n",
       "      <th>oiii_5007_flux</th>\n",
       "      <th>nii_6548_flux</th>\n",
       "      <th>nii_6584_flux</th>\n",
       "      <th>sii_6717_flux</th>\n",
       "      <th>sii_6731_flux</th>\n",
       "      <th>oi_6300_flux</th>\n",
       "      <th>class</th>\n",
       "      <th>subclass</th>\n",
       "    </tr>\n",
       "  </thead>\n",
       "  <tbody>\n",
       "    <tr>\n",
       "      <th>0</th>\n",
       "      <td>299489677444933632</td>\n",
       "      <td>146.71421</td>\n",
       "      <td>-1.041304</td>\n",
       "      <td>0.021222</td>\n",
       "      <td>472.59040</td>\n",
       "      <td>119.49560</td>\n",
       "      <td>68.39606</td>\n",
       "      <td>74.30252</td>\n",
       "      <td>224.11360</td>\n",
       "      <td>124.71150</td>\n",
       "      <td>84.18053</td>\n",
       "      <td>18.594930</td>\n",
       "      <td>b'GALAXY'</td>\n",
       "      <td>b'STARFORMING'</td>\n",
       "    </tr>\n",
       "    <tr>\n",
       "      <th>1</th>\n",
       "      <td>299490502078654464</td>\n",
       "      <td>146.62857</td>\n",
       "      <td>-0.765137</td>\n",
       "      <td>0.064656</td>\n",
       "      <td>99.40005</td>\n",
       "      <td>25.64047</td>\n",
       "      <td>21.44437</td>\n",
       "      <td>17.10464</td>\n",
       "      <td>51.59155</td>\n",
       "      <td>35.33497</td>\n",
       "      <td>21.65778</td>\n",
       "      <td>8.490424</td>\n",
       "      <td>b'GALAXY'</td>\n",
       "      <td>b'STARFORMING'</td>\n",
       "    </tr>\n",
       "    <tr>\n",
       "      <th>2</th>\n",
       "      <td>299491051364706304</td>\n",
       "      <td>146.96390</td>\n",
       "      <td>-0.545003</td>\n",
       "      <td>0.055988</td>\n",
       "      <td>181.52620</td>\n",
       "      <td>47.36650</td>\n",
       "      <td>11.85567</td>\n",
       "      <td>17.94872</td>\n",
       "      <td>54.13749</td>\n",
       "      <td>31.28298</td>\n",
       "      <td>19.16762</td>\n",
       "      <td>4.319232</td>\n",
       "      <td>b'GALAXY'</td>\n",
       "      <td>b'STARBURST'</td>\n",
       "    </tr>\n",
       "  </tbody>\n",
       "</table>\n",
       "</div>"
      ],
      "text/plain": [
       "            specobjid         ra       dec         z  h_alpha_flux  \\\n",
       "0  299489677444933632  146.71421 -1.041304  0.021222     472.59040   \n",
       "1  299490502078654464  146.62857 -0.765137  0.064656      99.40005   \n",
       "2  299491051364706304  146.96390 -0.545003  0.055988     181.52620   \n",
       "\n",
       "   h_beta_flux  oiii_5007_flux  nii_6548_flux  nii_6584_flux  sii_6717_flux  \\\n",
       "0    119.49560        68.39606       74.30252      224.11360      124.71150   \n",
       "1     25.64047        21.44437       17.10464       51.59155       35.33497   \n",
       "2     47.36650        11.85567       17.94872       54.13749       31.28298   \n",
       "\n",
       "   sii_6731_flux  oi_6300_flux      class        subclass  \n",
       "0       84.18053     18.594930  b'GALAXY'  b'STARFORMING'  \n",
       "1       21.65778      8.490424  b'GALAXY'  b'STARFORMING'  \n",
       "2       19.16762      4.319232  b'GALAXY'    b'STARBURST'  "
      ]
     },
     "execution_count": 3,
     "metadata": {},
     "output_type": "execute_result"
    }
   ],
   "source": [
    "SDSS[0:3]"
   ]
  },
  {
   "cell_type": "code",
   "execution_count": 4,
   "id": "0cc21e2a",
   "metadata": {},
   "outputs": [
    {
     "data": {
      "text/html": [
       "<div>\n",
       "<style scoped>\n",
       "    .dataframe tbody tr th:only-of-type {\n",
       "        vertical-align: middle;\n",
       "    }\n",
       "\n",
       "    .dataframe tbody tr th {\n",
       "        vertical-align: top;\n",
       "    }\n",
       "\n",
       "    .dataframe thead th {\n",
       "        text-align: right;\n",
       "    }\n",
       "</style>\n",
       "<table border=\"1\" class=\"dataframe\">\n",
       "  <thead>\n",
       "    <tr style=\"text-align: right;\">\n",
       "      <th></th>\n",
       "      <th>galname</th>\n",
       "      <th>ra</th>\n",
       "      <th>dec</th>\n",
       "      <th>fnu_12</th>\n",
       "      <th>fnu_25</th>\n",
       "      <th>fnu_60</th>\n",
       "      <th>fnu_100</th>\n",
       "      <th>rat_12_25</th>\n",
       "      <th>rat_25_60</th>\n",
       "      <th>rat_60_100</th>\n",
       "    </tr>\n",
       "  </thead>\n",
       "  <tbody>\n",
       "    <tr>\n",
       "      <th>0</th>\n",
       "      <td>00000-0359</td>\n",
       "      <td>0.644752</td>\n",
       "      <td>-3.710484</td>\n",
       "      <td>0.25</td>\n",
       "      <td>0.33</td>\n",
       "      <td>1.21</td>\n",
       "      <td>2.49</td>\n",
       "      <td>0.757576</td>\n",
       "      <td>0.272727</td>\n",
       "      <td>0.485944</td>\n",
       "    </tr>\n",
       "    <tr>\n",
       "      <th>1</th>\n",
       "      <td>00001+0827</td>\n",
       "      <td>0.666350</td>\n",
       "      <td>8.737270</td>\n",
       "      <td>0.25</td>\n",
       "      <td>0.28</td>\n",
       "      <td>0.70</td>\n",
       "      <td>1.19</td>\n",
       "      <td>0.892857</td>\n",
       "      <td>0.400000</td>\n",
       "      <td>0.588235</td>\n",
       "    </tr>\n",
       "    <tr>\n",
       "      <th>2</th>\n",
       "      <td>00003+0313</td>\n",
       "      <td>0.719551</td>\n",
       "      <td>3.504221</td>\n",
       "      <td>0.25</td>\n",
       "      <td>0.32</td>\n",
       "      <td>0.52</td>\n",
       "      <td>1.12</td>\n",
       "      <td>0.781250</td>\n",
       "      <td>0.615385</td>\n",
       "      <td>0.464286</td>\n",
       "    </tr>\n",
       "  </tbody>\n",
       "</table>\n",
       "</div>"
      ],
      "text/plain": [
       "      galname        ra       dec  fnu_12  fnu_25  fnu_60  fnu_100  rat_12_25  \\\n",
       "0  00000-0359  0.644752 -3.710484    0.25    0.33    1.21     2.49   0.757576   \n",
       "1  00001+0827  0.666350  8.737270    0.25    0.28    0.70     1.19   0.892857   \n",
       "2  00003+0313  0.719551  3.504221    0.25    0.32    0.52     1.12   0.781250   \n",
       "\n",
       "   rat_25_60  rat_60_100  \n",
       "0   0.272727    0.485944  \n",
       "1   0.400000    0.588235  \n",
       "2   0.615385    0.464286  "
      ]
     },
     "execution_count": 4,
     "metadata": {},
     "output_type": "execute_result"
    }
   ],
   "source": [
    "IRAS[0:3]"
   ]
  },
  {
   "cell_type": "markdown",
   "id": "4ac21ff5",
   "metadata": {},
   "source": [
    "---\n",
    "\n",
    "Verificamos la longitud de los dos catalogos. El catalogo que tenga mas elementos será el que utilizaremos como referencia.\n"
   ]
  },
  {
   "cell_type": "code",
   "execution_count": 5,
   "id": "89487f96",
   "metadata": {},
   "outputs": [
    {
     "data": {
      "text/plain": [
       "(11440, 310346)"
      ]
     },
     "execution_count": 5,
     "metadata": {},
     "output_type": "execute_result"
    }
   ],
   "source": [
    "len(IRAS), len(SDSS)"
   ]
  },
  {
   "cell_type": "markdown",
   "id": "c07ecbbf",
   "metadata": {},
   "source": [
    "---\n",
    "\n",
    "Ahora crearemos cuatro arreglos de `NumPy` con la información de las coordenadas celestes"
   ]
  },
  {
   "cell_type": "code",
   "execution_count": 6,
   "id": "f962647a",
   "metadata": {},
   "outputs": [],
   "source": [
    "ra1 = np.asarray(IRAS['ra'])\n",
    "dec1 = np.asarray(IRAS['dec'])\n",
    "ra2 = np.asarray(SDSS['ra'])\n",
    "dec2 = np.asarray(SDSS['dec'])"
   ]
  },
  {
   "cell_type": "markdown",
   "id": "df05056d",
   "metadata": {},
   "source": [
    "Utilizando esos arreglos, definiremos dos 'catalogos' utilizando la función SkyCoord( ). Nótese que las coordenadas celestes ya se plantean en grados dentro de los catalogos originales "
   ]
  },
  {
   "cell_type": "code",
   "execution_count": 7,
   "id": "ea8b0c8b",
   "metadata": {},
   "outputs": [],
   "source": [
    "IRAScat = SkyCoord(ra=ra1*u.degree, dec=dec1*u.degree)\n",
    "SDSScat = SkyCoord(ra=ra2*u.degree, dec=dec2*u.degree)"
   ]
  },
  {
   "cell_type": "code",
   "execution_count": 8,
   "id": "a5f28d42",
   "metadata": {},
   "outputs": [
    {
     "data": {
      "text/plain": [
       "<SkyCoord (ICRS): (ra, dec) in deg\n",
       "    [(0.6447522 ,  -3.710484 ), (0.66634995,   8.73727  ),\n",
       "     (0.7195514 ,   3.5042214), ..., (0.5100675 , -33.46959  ),\n",
       "     (0.5424071 ,   2.942838 ), (0.57888216,  12.971159 )]>"
      ]
     },
     "execution_count": 8,
     "metadata": {},
     "output_type": "execute_result"
    }
   ],
   "source": [
    "#Explora:\n",
    "# type(IRAScat)\n",
    "IRAScat\n",
    "# cantidad_parejas = len(IRAScat)\n",
    "# cantidad_parejas"
   ]
  },
  {
   "cell_type": "code",
   "execution_count": 9,
   "id": "8c7f08e3",
   "metadata": {},
   "outputs": [
    {
     "data": {
      "text/plain": [
       "310346"
      ]
     },
     "execution_count": 9,
     "metadata": {},
     "output_type": "execute_result"
    }
   ],
   "source": [
    "#Explora:\n",
    "# type(SDSScat)\n",
    "# SDSScat\n",
    "cantidad_parejasSD = len(SDSScat)\n",
    "cantidad_parejasSD"
   ]
  },
  {
   "cell_type": "markdown",
   "id": "e8ee0edc",
   "metadata": {},
   "source": [
    "Ahora realizamos el crossmatching mediante el método .match_to_catalog( )\n",
    "\n",
    "En este caso utilizaremos el catálogo SDSS como referencia y lo cruzamos con el catalogo IRAS.\n",
    "\n",
    "El método retorna tres resultados:\n",
    "\n",
    "- idx : indices dentro del catálogo IRAS que corresponden a los objetos mas cercanos a cada uno de los objetos del catálogo SDSS\n",
    "- d2d : distancias en el cielo (2-dimensionales) entro los objetos que hacen match.\n",
    "- d3d : distancias 3-dimensionales (al no haber dato 3D, se asume que todos los objetos estan a una distancia de 1 del observador)"
   ]
  },
  {
   "cell_type": "code",
   "execution_count": 10,
   "id": "2d644b05",
   "metadata": {},
   "outputs": [],
   "source": [
    "idx, d2d, d3d = SDSScat.match_to_catalog_sky(IRAScat)"
   ]
  },
  {
   "cell_type": "markdown",
   "id": "370159bb",
   "metadata": {},
   "source": [
    "El tamaño del arreglo `idx` es igual al del catálogo SDSS:"
   ]
  },
  {
   "cell_type": "code",
   "execution_count": 11,
   "id": "1b11af7c",
   "metadata": {},
   "outputs": [
    {
     "data": {
      "text/plain": [
       "(310346,)"
      ]
     },
     "execution_count": 11,
     "metadata": {},
     "output_type": "execute_result"
    }
   ],
   "source": [
    "idx.shape"
   ]
  },
  {
   "cell_type": "markdown",
   "id": "5bddd6d0",
   "metadata": {},
   "source": [
    "**La pregunta que surge es ¿Cual es el match apropiado?**\n",
    "\n",
    "La respuesta esta en el investigador, quien debe elegir (de acuerdo con sus criterios) cual es la mejor opción. \n",
    "\n",
    "Por ejemplo, en este caso se podría decir que el mejor match es entre el SDSS[19711] y el IRAS[5] porque la distancia entre estos objetos es de 0.75488 deg.\n",
    "\n",
    "También puede ser posible que el investigador considere los tres objetos mas cercanos en el SDSS correspondan a un solo objeto en el IRAS. Es decir que  SDSS[19711], SDSS[19722] y SDSS[19724] sean el objeto IRAS[5].\n",
    "\n"
   ]
  },
  {
   "cell_type": "markdown",
   "id": "5a91164d",
   "metadata": {},
   "source": [
    "---\n",
    "\n",
    "Una posibilidad adicional es restringir los resultados con una distancía máxima dentro de la cual se considera que si existe un match. Por ejemplo, podemos imponer que solamente si la distancia es menor que 10 arcsec se considere la posibilidad de match. "
   ]
  },
  {
   "cell_type": "code",
   "execution_count": 12,
   "id": "19259966",
   "metadata": {},
   "outputs": [
    {
     "data": {
      "text/plain": [
       "array([False, False, False, ..., False, False, False])"
      ]
     },
     "execution_count": 12,
     "metadata": {},
     "output_type": "execute_result"
    }
   ],
   "source": [
    "max_sep = 10 * u.arcsec # Criterio de maxima distancia posible\n",
    "\n",
    "# Creamos una mascara booleana\n",
    "sep_constraint = d2d < max_sep\n",
    "sep_constraint"
   ]
  },
  {
   "cell_type": "code",
   "execution_count": 13,
   "id": "d3983191",
   "metadata": {},
   "outputs": [],
   "source": [
    "SDSSmasked = SDSScat[sep_constraint]\n",
    "IRASmasked = IRAScat[idx[sep_constraint]]"
   ]
  },
  {
   "cell_type": "code",
   "execution_count": 14,
   "id": "668365a5",
   "metadata": {},
   "outputs": [
    {
     "data": {
      "text/plain": [
       "<SkyCoord (ICRS): (ra, dec) in deg\n",
       "    [(145.51241,  0.33917087), (167.2324 ,  0.44480423),\n",
       "     (169.70646,  0.61930757), ..., (242.24222, 19.823751  ),\n",
       "     (245.78193, 19.004866  ), (258.72922, 35.520481  )]>"
      ]
     },
     "execution_count": 14,
     "metadata": {},
     "output_type": "execute_result"
    }
   ],
   "source": [
    "SDSSmasked"
   ]
  },
  {
   "cell_type": "code",
   "execution_count": 15,
   "id": "594319cf",
   "metadata": {},
   "outputs": [
    {
     "data": {
      "text/plain": [
       "1269"
      ]
     },
     "execution_count": 15,
     "metadata": {},
     "output_type": "execute_result"
    }
   ],
   "source": [
    "# Explora:\n",
    "\n",
    "# type(SDSSmasked)\n",
    "len(SDSSmasked)"
   ]
  },
  {
   "cell_type": "code",
   "execution_count": 16,
   "id": "41815bc1",
   "metadata": {},
   "outputs": [
    {
     "data": {
      "text/plain": [
       "<SkyCoord (ICRS): (ra, dec) in deg\n",
       "    [(145.51395,  0.3375216 ), (167.2346 ,  0.44466087),\n",
       "     (169.70757,  0.61774945), ..., (242.24101, 19.82251   ),\n",
       "     (245.78319, 19.005993  ), (258.7292 , 35.520664  )]>"
      ]
     },
     "execution_count": 16,
     "metadata": {},
     "output_type": "execute_result"
    }
   ],
   "source": [
    "IRASmasked"
   ]
  },
  {
   "cell_type": "markdown",
   "id": "0b72eb5b",
   "metadata": {},
   "source": [
    "Asi se tienen solamente los objetos que hacen match y que cumplen con la ondiciónd e distancia máxima."
   ]
  },
  {
   "cell_type": "code",
   "execution_count": 17,
   "id": "e0a70619",
   "metadata": {},
   "outputs": [
    {
     "data": {
      "text/plain": [
       "1269"
      ]
     },
     "execution_count": 17,
     "metadata": {},
     "output_type": "execute_result"
    }
   ],
   "source": [
    "len(IRASmasked)"
   ]
  },
  {
   "cell_type": "markdown",
   "id": "38baae17",
   "metadata": {},
   "source": [
    "# Tablas"
   ]
  },
  {
   "cell_type": "markdown",
   "id": "a34bb7d4",
   "metadata": {},
   "source": [
    "## 1. Tabla general de Matches"
   ]
  },
  {
   "cell_type": "code",
   "execution_count": 18,
   "id": "b36c4036",
   "metadata": {},
   "outputs": [
    {
     "data": {
      "text/plain": [
       "<SkyCoord (ICRS): (ra, dec) in deg\n",
       "    [(145.51241,  0.33917087), (167.2324 ,  0.44480423),\n",
       "     (169.70646,  0.61930757), (170.82587, -0.9224747 ),\n",
       "     (169.38707, -0.18750165)]>"
      ]
     },
     "execution_count": 18,
     "metadata": {},
     "output_type": "execute_result"
    }
   ],
   "source": [
    "SDSSmasked[0:5]"
   ]
  },
  {
   "cell_type": "code",
   "execution_count": 19,
   "id": "296d0725",
   "metadata": {},
   "outputs": [
    {
     "data": {
      "text/plain": [
       "<SkyCoord (ICRS): (ra, dec) in deg\n",
       "    [(145.51395,  0.3375216 ), (167.2346 ,  0.44466087),\n",
       "     (169.70757,  0.61774945), (170.82668, -0.92125833),\n",
       "     (169.38559, -0.1864041 )]>"
      ]
     },
     "execution_count": 19,
     "metadata": {},
     "output_type": "execute_result"
    }
   ],
   "source": [
    "IRASmasked[0:5]"
   ]
  },
  {
   "cell_type": "code",
   "execution_count": 20,
   "id": "f9f26d6e",
   "metadata": {},
   "outputs": [],
   "source": [
    "# Crear una nueva tabla vacía para almacenar los matches combinados\n",
    "matched_table = Table()\n",
    "\n",
    "# Agregar las columnas \"ra\" y \"dec\" a la nueva tabla desde \"SDSSmasked\"\n",
    "matched_table['ra_sdss'] = SDSSmasked.ra\n",
    "matched_table['dec_sdss'] = SDSSmasked.dec\n",
    "\n",
    "# Agregar las columnas \"ra\" y \"dec\" a la nueva tabla desde \"IRASmasked\"\n",
    "matched_table['ra_iras'] = IRASmasked.ra\n",
    "matched_table['dec_iras'] = IRASmasked.dec"
   ]
  },
  {
   "cell_type": "code",
   "execution_count": 21,
   "id": "1b62bcaf",
   "metadata": {},
   "outputs": [
    {
     "data": {
      "text/html": [
       "<div><i>Table length=5</i>\n",
       "<table id=\"table1915656526528\" class=\"table-striped table-bordered table-condensed\">\n",
       "<thead><tr><th>ra_sdss</th><th>dec_sdss</th><th>ra_iras</th><th>dec_iras</th></tr></thead>\n",
       "<thead><tr><th>deg</th><th>deg</th><th>deg</th><th>deg</th></tr></thead>\n",
       "<thead><tr><th>float64</th><th>float64</th><th>float32</th><th>float32</th></tr></thead>\n",
       "<tr><td>145.51241</td><td>0.33917087</td><td>145.51395</td><td>0.3375216</td></tr>\n",
       "<tr><td>167.2324</td><td>0.44480423</td><td>167.2346</td><td>0.44466087</td></tr>\n",
       "<tr><td>169.70646</td><td>0.61930757</td><td>169.70757</td><td>0.61774945</td></tr>\n",
       "<tr><td>170.82587</td><td>-0.9224747</td><td>170.82668</td><td>-0.92125833</td></tr>\n",
       "<tr><td>169.38707</td><td>-0.18750165</td><td>169.38559</td><td>-0.1864041</td></tr>\n",
       "</table></div>"
      ],
      "text/plain": [
       "<Table length=5>\n",
       " ra_sdss    dec_sdss   ra_iras    dec_iras \n",
       "   deg        deg        deg        deg    \n",
       " float64    float64    float32    float32  \n",
       "--------- ----------- --------- -----------\n",
       "145.51241  0.33917087 145.51395   0.3375216\n",
       " 167.2324  0.44480423  167.2346  0.44466087\n",
       "169.70646  0.61930757 169.70757  0.61774945\n",
       "170.82587  -0.9224747 170.82668 -0.92125833\n",
       "169.38707 -0.18750165 169.38559  -0.1864041"
      ]
     },
     "execution_count": 21,
     "metadata": {},
     "output_type": "execute_result"
    }
   ],
   "source": [
    "matched_table[0:5]\n",
    "# Table tiene coincidencias de 1.269 objetos"
   ]
  },
  {
   "cell_type": "code",
   "execution_count": 22,
   "id": "a61f09fe",
   "metadata": {},
   "outputs": [],
   "source": [
    "# Convertir matched_table a dataframes de pandas\n",
    "df_matched_table = matched_table.to_pandas()"
   ]
  },
  {
   "cell_type": "code",
   "execution_count": 23,
   "id": "af38ee1f",
   "metadata": {},
   "outputs": [],
   "source": [
    "# Fusionar los dataframes en función de las columnas \"ra_sdss\" y \"dec_sdss\" de SDSS y \"ra_iras\" y \"dec_iras\" de IRAS\n",
    "FusionData = pd.merge(df_matched_table, SDSS, left_on=['ra_sdss', 'dec_sdss'], right_on=['ra', 'dec'], how='inner')\n",
    "FusionData = pd.merge(FusionData, IRAS, left_on=['ra_iras', 'dec_iras'], right_on=['ra', 'dec'], how='inner')"
   ]
  },
  {
   "cell_type": "code",
   "execution_count": 24,
   "id": "2e89e830",
   "metadata": {},
   "outputs": [
    {
     "data": {
      "text/html": [
       "<div>\n",
       "<style scoped>\n",
       "    .dataframe tbody tr th:only-of-type {\n",
       "        vertical-align: middle;\n",
       "    }\n",
       "\n",
       "    .dataframe tbody tr th {\n",
       "        vertical-align: top;\n",
       "    }\n",
       "\n",
       "    .dataframe thead th {\n",
       "        text-align: right;\n",
       "    }\n",
       "</style>\n",
       "<table border=\"1\" class=\"dataframe\">\n",
       "  <thead>\n",
       "    <tr style=\"text-align: right;\">\n",
       "      <th></th>\n",
       "      <th>ra_sdss</th>\n",
       "      <th>dec_sdss</th>\n",
       "      <th>ra_iras</th>\n",
       "      <th>dec_iras</th>\n",
       "      <th>specobjid</th>\n",
       "      <th>ra_x</th>\n",
       "      <th>dec_x</th>\n",
       "      <th>z</th>\n",
       "      <th>h_alpha_flux</th>\n",
       "      <th>h_beta_flux</th>\n",
       "      <th>...</th>\n",
       "      <th>galname</th>\n",
       "      <th>ra_y</th>\n",
       "      <th>dec_y</th>\n",
       "      <th>fnu_12</th>\n",
       "      <th>fnu_25</th>\n",
       "      <th>fnu_60</th>\n",
       "      <th>fnu_100</th>\n",
       "      <th>rat_12_25</th>\n",
       "      <th>rat_25_60</th>\n",
       "      <th>rat_60_100</th>\n",
       "    </tr>\n",
       "  </thead>\n",
       "  <tbody>\n",
       "    <tr>\n",
       "      <th>0</th>\n",
       "      <td>145.51241</td>\n",
       "      <td>0.339171</td>\n",
       "      <td>145.513947</td>\n",
       "      <td>0.337522</td>\n",
       "      <td>299595780317014016</td>\n",
       "      <td>145.51241</td>\n",
       "      <td>0.339171</td>\n",
       "      <td>0.006379</td>\n",
       "      <td>153.8173</td>\n",
       "      <td>35.59267</td>\n",
       "      <td>...</td>\n",
       "      <td>09394+0033</td>\n",
       "      <td>145.513947</td>\n",
       "      <td>0.337522</td>\n",
       "      <td>0.35</td>\n",
       "      <td>0.50</td>\n",
       "      <td>5.16</td>\n",
       "      <td>15.08</td>\n",
       "      <td>0.700000</td>\n",
       "      <td>0.096899</td>\n",
       "      <td>0.342175</td>\n",
       "    </tr>\n",
       "    <tr>\n",
       "      <th>1</th>\n",
       "      <td>167.23240</td>\n",
       "      <td>0.444804</td>\n",
       "      <td>167.234604</td>\n",
       "      <td>0.444661</td>\n",
       "      <td>313129123717343232</td>\n",
       "      <td>167.23240</td>\n",
       "      <td>0.444804</td>\n",
       "      <td>0.012902</td>\n",
       "      <td>10285.9400</td>\n",
       "      <td>3250.79100</td>\n",
       "      <td>...</td>\n",
       "      <td>11063+0042</td>\n",
       "      <td>167.234604</td>\n",
       "      <td>0.444661</td>\n",
       "      <td>0.42</td>\n",
       "      <td>0.27</td>\n",
       "      <td>0.82</td>\n",
       "      <td>1.01</td>\n",
       "      <td>1.555556</td>\n",
       "      <td>0.329268</td>\n",
       "      <td>0.811881</td>\n",
       "    </tr>\n",
       "    <tr>\n",
       "      <th>2</th>\n",
       "      <td>169.70646</td>\n",
       "      <td>0.619308</td>\n",
       "      <td>169.707565</td>\n",
       "      <td>0.617749</td>\n",
       "      <td>314283887213701120</td>\n",
       "      <td>169.70646</td>\n",
       "      <td>0.619308</td>\n",
       "      <td>0.025391</td>\n",
       "      <td>528.2295</td>\n",
       "      <td>139.90980</td>\n",
       "      <td>...</td>\n",
       "      <td>11162+0053</td>\n",
       "      <td>169.707565</td>\n",
       "      <td>0.617749</td>\n",
       "      <td>0.25</td>\n",
       "      <td>0.50</td>\n",
       "      <td>0.75</td>\n",
       "      <td>1.79</td>\n",
       "      <td>0.500000</td>\n",
       "      <td>0.666667</td>\n",
       "      <td>0.418994</td>\n",
       "    </tr>\n",
       "  </tbody>\n",
       "</table>\n",
       "<p>3 rows × 28 columns</p>\n",
       "</div>"
      ],
      "text/plain": [
       "     ra_sdss  dec_sdss     ra_iras  dec_iras           specobjid       ra_x  \\\n",
       "0  145.51241  0.339171  145.513947  0.337522  299595780317014016  145.51241   \n",
       "1  167.23240  0.444804  167.234604  0.444661  313129123717343232  167.23240   \n",
       "2  169.70646  0.619308  169.707565  0.617749  314283887213701120  169.70646   \n",
       "\n",
       "      dec_x         z  h_alpha_flux  h_beta_flux  ...     galname        ra_y  \\\n",
       "0  0.339171  0.006379      153.8173     35.59267  ...  09394+0033  145.513947   \n",
       "1  0.444804  0.012902    10285.9400   3250.79100  ...  11063+0042  167.234604   \n",
       "2  0.619308  0.025391      528.2295    139.90980  ...  11162+0053  169.707565   \n",
       "\n",
       "      dec_y  fnu_12  fnu_25  fnu_60 fnu_100 rat_12_25 rat_25_60  rat_60_100  \n",
       "0  0.337522    0.35    0.50    5.16   15.08  0.700000  0.096899    0.342175  \n",
       "1  0.444661    0.42    0.27    0.82    1.01  1.555556  0.329268    0.811881  \n",
       "2  0.617749    0.25    0.50    0.75    1.79  0.500000  0.666667    0.418994  \n",
       "\n",
       "[3 rows x 28 columns]"
      ]
     },
     "execution_count": 24,
     "metadata": {},
     "output_type": "execute_result"
    }
   ],
   "source": [
    "FusionData[0:3]"
   ]
  },
  {
   "cell_type": "code",
   "execution_count": 25,
   "id": "563f2440",
   "metadata": {},
   "outputs": [],
   "source": [
    "# Eliminar columnas duplicadas 'ra' y 'dec'\n",
    "FusionData = FusionData.drop(['ra_y', 'dec_y', 'ra_x', 'dec_x'], axis=1)"
   ]
  },
  {
   "cell_type": "code",
   "execution_count": 33,
   "id": "06c184df",
   "metadata": {},
   "outputs": [
    {
     "data": {
      "text/html": [
       "<div>\n",
       "<style scoped>\n",
       "    .dataframe tbody tr th:only-of-type {\n",
       "        vertical-align: middle;\n",
       "    }\n",
       "\n",
       "    .dataframe tbody tr th {\n",
       "        vertical-align: top;\n",
       "    }\n",
       "\n",
       "    .dataframe thead th {\n",
       "        text-align: right;\n",
       "    }\n",
       "</style>\n",
       "<table border=\"1\" class=\"dataframe\">\n",
       "  <thead>\n",
       "    <tr style=\"text-align: right;\">\n",
       "      <th></th>\n",
       "      <th>ra_sdss</th>\n",
       "      <th>dec_sdss</th>\n",
       "      <th>ra_iras</th>\n",
       "      <th>dec_iras</th>\n",
       "      <th>specobjid</th>\n",
       "      <th>z</th>\n",
       "      <th>h_alpha_flux</th>\n",
       "      <th>h_beta_flux</th>\n",
       "      <th>oiii_5007_flux</th>\n",
       "      <th>nii_6548_flux</th>\n",
       "      <th>...</th>\n",
       "      <th>class</th>\n",
       "      <th>subclass</th>\n",
       "      <th>galname</th>\n",
       "      <th>fnu_12</th>\n",
       "      <th>fnu_25</th>\n",
       "      <th>fnu_60</th>\n",
       "      <th>fnu_100</th>\n",
       "      <th>rat_12_25</th>\n",
       "      <th>rat_25_60</th>\n",
       "      <th>rat_60_100</th>\n",
       "    </tr>\n",
       "  </thead>\n",
       "  <tbody>\n",
       "    <tr>\n",
       "      <th>0</th>\n",
       "      <td>145.51241</td>\n",
       "      <td>0.339171</td>\n",
       "      <td>145.513947</td>\n",
       "      <td>0.337522</td>\n",
       "      <td>299595780317014016</td>\n",
       "      <td>0.006379</td>\n",
       "      <td>153.8173</td>\n",
       "      <td>35.59267</td>\n",
       "      <td>3.656026</td>\n",
       "      <td>13.19764</td>\n",
       "      <td>...</td>\n",
       "      <td>b'GALAXY'</td>\n",
       "      <td>b'STARBURST'</td>\n",
       "      <td>09394+0033</td>\n",
       "      <td>0.35</td>\n",
       "      <td>0.50</td>\n",
       "      <td>5.16</td>\n",
       "      <td>15.08</td>\n",
       "      <td>0.700000</td>\n",
       "      <td>0.096899</td>\n",
       "      <td>0.342175</td>\n",
       "    </tr>\n",
       "    <tr>\n",
       "      <th>1</th>\n",
       "      <td>167.23240</td>\n",
       "      <td>0.444804</td>\n",
       "      <td>167.234604</td>\n",
       "      <td>0.444661</td>\n",
       "      <td>313129123717343232</td>\n",
       "      <td>0.012902</td>\n",
       "      <td>10285.9400</td>\n",
       "      <td>3250.79100</td>\n",
       "      <td>6074.062000</td>\n",
       "      <td>578.00410</td>\n",
       "      <td>...</td>\n",
       "      <td>b'GALAXY'</td>\n",
       "      <td>b'STARBURST'</td>\n",
       "      <td>11063+0042</td>\n",
       "      <td>0.42</td>\n",
       "      <td>0.27</td>\n",
       "      <td>0.82</td>\n",
       "      <td>1.01</td>\n",
       "      <td>1.555556</td>\n",
       "      <td>0.329268</td>\n",
       "      <td>0.811881</td>\n",
       "    </tr>\n",
       "    <tr>\n",
       "      <th>2</th>\n",
       "      <td>169.70646</td>\n",
       "      <td>0.619308</td>\n",
       "      <td>169.707565</td>\n",
       "      <td>0.617749</td>\n",
       "      <td>314283887213701120</td>\n",
       "      <td>0.025391</td>\n",
       "      <td>528.2295</td>\n",
       "      <td>139.90980</td>\n",
       "      <td>34.019120</td>\n",
       "      <td>62.50361</td>\n",
       "      <td>...</td>\n",
       "      <td>b'GALAXY'</td>\n",
       "      <td>b'STARFORMING'</td>\n",
       "      <td>11162+0053</td>\n",
       "      <td>0.25</td>\n",
       "      <td>0.50</td>\n",
       "      <td>0.75</td>\n",
       "      <td>1.79</td>\n",
       "      <td>0.500000</td>\n",
       "      <td>0.666667</td>\n",
       "      <td>0.418994</td>\n",
       "    </tr>\n",
       "  </tbody>\n",
       "</table>\n",
       "<p>3 rows × 24 columns</p>\n",
       "</div>"
      ],
      "text/plain": [
       "     ra_sdss  dec_sdss     ra_iras  dec_iras           specobjid         z  \\\n",
       "0  145.51241  0.339171  145.513947  0.337522  299595780317014016  0.006379   \n",
       "1  167.23240  0.444804  167.234604  0.444661  313129123717343232  0.012902   \n",
       "2  169.70646  0.619308  169.707565  0.617749  314283887213701120  0.025391   \n",
       "\n",
       "   h_alpha_flux  h_beta_flux  oiii_5007_flux  nii_6548_flux  ...      class  \\\n",
       "0      153.8173     35.59267        3.656026       13.19764  ...  b'GALAXY'   \n",
       "1    10285.9400   3250.79100     6074.062000      578.00410  ...  b'GALAXY'   \n",
       "2      528.2295    139.90980       34.019120       62.50361  ...  b'GALAXY'   \n",
       "\n",
       "         subclass     galname  fnu_12 fnu_25 fnu_60 fnu_100  rat_12_25  \\\n",
       "0    b'STARBURST'  09394+0033    0.35   0.50   5.16   15.08   0.700000   \n",
       "1    b'STARBURST'  11063+0042    0.42   0.27   0.82    1.01   1.555556   \n",
       "2  b'STARFORMING'  11162+0053    0.25   0.50   0.75    1.79   0.500000   \n",
       "\n",
       "   rat_25_60  rat_60_100  \n",
       "0   0.096899    0.342175  \n",
       "1   0.329268    0.811881  \n",
       "2   0.666667    0.418994  \n",
       "\n",
       "[3 rows x 24 columns]"
      ]
     },
     "execution_count": 33,
     "metadata": {},
     "output_type": "execute_result"
    }
   ],
   "source": [
    "FusionData[0:3]"
   ]
  },
  {
   "cell_type": "code",
   "execution_count": 32,
   "id": "8d785794",
   "metadata": {},
   "outputs": [
    {
     "data": {
      "text/plain": [
       "b'STARFORMING'    719\n",
       "b'STARBURST'      416\n",
       "b'AGN'             84\n",
       "b'BROADLINE'       50\n",
       "Name: subclass, dtype: int64"
      ]
     },
     "execution_count": 32,
     "metadata": {},
     "output_type": "execute_result"
    }
   ],
   "source": [
    "conteo_subclass = FusionData['subclass'].value_counts()\n",
    "conteo_subclass"
   ]
  },
  {
   "cell_type": "code",
   "execution_count": 27,
   "id": "1237ffe1",
   "metadata": {},
   "outputs": [
    {
     "data": {
      "text/plain": [
       "1269"
      ]
     },
     "execution_count": 27,
     "metadata": {},
     "output_type": "execute_result"
    }
   ],
   "source": [
    "len(FusionData)"
   ]
  },
  {
   "cell_type": "markdown",
   "id": "6736d553",
   "metadata": {},
   "source": [
    "## Conclusiones:\n",
    "\n",
    "Se realiza un cruce del Catalogo IRAS y del catálogo SDSS, usando sus respectivos datos de \"ra\" y \"dec\" con un criterio de 10 * u.arcsec. Esto da como resultado 1.269 Objetos. "
   ]
  }
 ],
 "metadata": {
  "kernelspec": {
   "display_name": "Python 3 (ipykernel)",
   "language": "python",
   "name": "python3"
  },
  "language_info": {
   "codemirror_mode": {
    "name": "ipython",
    "version": 3
   },
   "file_extension": ".py",
   "mimetype": "text/x-python",
   "name": "python",
   "nbconvert_exporter": "python",
   "pygments_lexer": "ipython3",
   "version": "3.9.7"
  }
 },
 "nbformat": 4,
 "nbformat_minor": 5
}
