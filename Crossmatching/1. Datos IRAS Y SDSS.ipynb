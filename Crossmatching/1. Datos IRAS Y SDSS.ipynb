{
 "cells": [
  {
   "cell_type": "markdown",
   "id": "b3dc9ba2",
   "metadata": {},
   "source": [
    "**Objetivo:**   \n",
    "* Preparar los datos tanto de IRAS como de SDSS, pues se han identificado múltiples observaciones para la misma posición (ra, dec)  \n",
    "* Datos iniciales de IRAS= 11.444, SDSS= 329.650 (máximo valor que obtengo dado:  \n",
    "  búsqueda con \"WHERE subclass IN ('STARFORMING', 'STARBURST', 'AGN', 'BROADLINE')\" En un total de 500.000 galaxias que es el máximo de SDSS.  \n",
    "  esperando así un cruce de 1.349  \n",
    "* Posteriormente en el cuaderno 2. Empezar el proceso de Crossmatching. "
   ]
  },
  {
   "cell_type": "code",
   "execution_count": 1,
   "id": "145292c5",
   "metadata": {},
   "outputs": [
    {
     "name": "stdout",
     "output_type": "stream",
     "text": [
      "Could not import regions, which is required for some of the functionalities of this module.\n"
     ]
    }
   ],
   "source": [
    "import numpy as np\n",
    "import pandas as pd\n",
    "import time\n",
    "import pyvo\n",
    "import warnings\n",
    "import astropy.units as u\n",
    "import matplotlib.pyplot as plt\n",
    "from datetime import date\n",
    "from astropy.table import Table\n",
    "from astropy.table import hstack\n",
    "from astroquery.sdss import SDSS\n",
    "from astropy.coordinates import SkyCoord\n",
    "from matplotlib import pyplot as plt\n",
    "from astropy import coordinates, units as u\n",
    "from astroquery.xmatch import XMatch"
   ]
  },
  {
   "cell_type": "markdown",
   "id": "95406196",
   "metadata": {},
   "source": [
    "## 1. Datos para IRAS:"
   ]
  },
  {
   "cell_type": "code",
   "execution_count": 2,
   "id": "80bac0e5",
   "metadata": {},
   "outputs": [],
   "source": [
    "service = pyvo.dal.TAPService ('https://irsa.ipac.caltech.edu/TAP')\n",
    "result = service.run_async(\"\"\"\n",
    "            SELECT\n",
    "            galname,\n",
    "            ra,\n",
    "            dec,\n",
    "            fnu_12,\n",
    "            fnu_25,\n",
    "            fnu_60,\n",
    "            fnu_100,\n",
    "            rat_12_25,\n",
    "            rat_25_60,\n",
    "            rat_60_100\n",
    "            \n",
    "            FROM irasgal\n",
    "            ORDER BY galname ASC\"\"\")\n",
    "IRAS = result.to_table()"
   ]
  },
  {
   "cell_type": "code",
   "execution_count": 3,
   "id": "38ba9979",
   "metadata": {},
   "outputs": [],
   "source": [
    "IRAS = IRAS.to_pandas()"
   ]
  },
  {
   "cell_type": "code",
   "execution_count": 4,
   "id": "ad8ce795",
   "metadata": {},
   "outputs": [
    {
     "data": {
      "text/plain": [
       "11444"
      ]
     },
     "execution_count": 4,
     "metadata": {},
     "output_type": "execute_result"
    }
   ],
   "source": [
    "len(IRAS)"
   ]
  },
  {
   "cell_type": "code",
   "execution_count": 5,
   "id": "336ebebc",
   "metadata": {},
   "outputs": [
    {
     "data": {
      "text/html": [
       "<div>\n",
       "<style scoped>\n",
       "    .dataframe tbody tr th:only-of-type {\n",
       "        vertical-align: middle;\n",
       "    }\n",
       "\n",
       "    .dataframe tbody tr th {\n",
       "        vertical-align: top;\n",
       "    }\n",
       "\n",
       "    .dataframe thead th {\n",
       "        text-align: right;\n",
       "    }\n",
       "</style>\n",
       "<table border=\"1\" class=\"dataframe\">\n",
       "  <thead>\n",
       "    <tr style=\"text-align: right;\">\n",
       "      <th></th>\n",
       "      <th>galname</th>\n",
       "      <th>ra</th>\n",
       "      <th>dec</th>\n",
       "      <th>fnu_12</th>\n",
       "      <th>fnu_25</th>\n",
       "      <th>fnu_60</th>\n",
       "      <th>fnu_100</th>\n",
       "      <th>rat_12_25</th>\n",
       "      <th>rat_25_60</th>\n",
       "      <th>rat_60_100</th>\n",
       "    </tr>\n",
       "  </thead>\n",
       "  <tbody>\n",
       "    <tr>\n",
       "      <th>0</th>\n",
       "      <td>00000-0359</td>\n",
       "      <td>0.644752</td>\n",
       "      <td>-3.710484</td>\n",
       "      <td>0.25</td>\n",
       "      <td>0.33</td>\n",
       "      <td>1.21</td>\n",
       "      <td>2.49</td>\n",
       "      <td>0.757576</td>\n",
       "      <td>0.272727</td>\n",
       "      <td>0.485944</td>\n",
       "    </tr>\n",
       "    <tr>\n",
       "      <th>1</th>\n",
       "      <td>00001+0827</td>\n",
       "      <td>0.666350</td>\n",
       "      <td>8.737270</td>\n",
       "      <td>0.25</td>\n",
       "      <td>0.28</td>\n",
       "      <td>0.70</td>\n",
       "      <td>1.19</td>\n",
       "      <td>0.892857</td>\n",
       "      <td>0.400000</td>\n",
       "      <td>0.588235</td>\n",
       "    </tr>\n",
       "    <tr>\n",
       "      <th>2</th>\n",
       "      <td>00003+0313</td>\n",
       "      <td>0.719551</td>\n",
       "      <td>3.504221</td>\n",
       "      <td>0.25</td>\n",
       "      <td>0.32</td>\n",
       "      <td>0.52</td>\n",
       "      <td>1.12</td>\n",
       "      <td>0.781250</td>\n",
       "      <td>0.615385</td>\n",
       "      <td>0.464286</td>\n",
       "    </tr>\n",
       "    <tr>\n",
       "      <th>3</th>\n",
       "      <td>00003-3431</td>\n",
       "      <td>0.728076</td>\n",
       "      <td>-34.238483</td>\n",
       "      <td>1.06</td>\n",
       "      <td>0.25</td>\n",
       "      <td>0.80</td>\n",
       "      <td>2.57</td>\n",
       "      <td>4.240000</td>\n",
       "      <td>0.312500</td>\n",
       "      <td>0.311284</td>\n",
       "    </tr>\n",
       "    <tr>\n",
       "      <th>4</th>\n",
       "      <td>00005+2140</td>\n",
       "      <td>0.787838</td>\n",
       "      <td>21.959749</td>\n",
       "      <td>0.25</td>\n",
       "      <td>1.05</td>\n",
       "      <td>4.25</td>\n",
       "      <td>4.51</td>\n",
       "      <td>0.238095</td>\n",
       "      <td>0.247059</td>\n",
       "      <td>0.942350</td>\n",
       "    </tr>\n",
       "  </tbody>\n",
       "</table>\n",
       "</div>"
      ],
      "text/plain": [
       "      galname        ra        dec  fnu_12  fnu_25  fnu_60  fnu_100  \\\n",
       "0  00000-0359  0.644752  -3.710484    0.25    0.33    1.21     2.49   \n",
       "1  00001+0827  0.666350   8.737270    0.25    0.28    0.70     1.19   \n",
       "2  00003+0313  0.719551   3.504221    0.25    0.32    0.52     1.12   \n",
       "3  00003-3431  0.728076 -34.238483    1.06    0.25    0.80     2.57   \n",
       "4  00005+2140  0.787838  21.959749    0.25    1.05    4.25     4.51   \n",
       "\n",
       "   rat_12_25  rat_25_60  rat_60_100  \n",
       "0   0.757576   0.272727    0.485944  \n",
       "1   0.892857   0.400000    0.588235  \n",
       "2   0.781250   0.615385    0.464286  \n",
       "3   4.240000   0.312500    0.311284  \n",
       "4   0.238095   0.247059    0.942350  "
      ]
     },
     "execution_count": 5,
     "metadata": {},
     "output_type": "execute_result"
    }
   ],
   "source": [
    "IRAS[0:5]"
   ]
  },
  {
   "cell_type": "code",
   "execution_count": 6,
   "id": "37453075",
   "metadata": {},
   "outputs": [
    {
     "data": {
      "text/plain": [
       "4"
      ]
     },
     "execution_count": 6,
     "metadata": {},
     "output_type": "execute_result"
    }
   ],
   "source": [
    "# Cantidad de valores duplicados\n",
    "valores_duplicados = IRAS.duplicated(subset='ra')\n",
    "conteo_valores_duplicados = valores_duplicados.sum()\n",
    "conteo_valores_duplicados"
   ]
  },
  {
   "cell_type": "code",
   "execution_count": 7,
   "id": "fffae98a",
   "metadata": {},
   "outputs": [
    {
     "name": "stdout",
     "output_type": "stream",
     "text": [
      "Valores duplicados en la columna 'ra': [132.58559 179.51375 185.48906 351.8132 ]\n"
     ]
    }
   ],
   "source": [
    "# Valores duplicados\n",
    "valores_duplicados = IRAS[IRAS.duplicated(subset='ra')]['ra'].unique()\n",
    "print(\"Valores duplicados en la columna 'ra':\", valores_duplicados)"
   ]
  },
  {
   "cell_type": "code",
   "execution_count": 8,
   "id": "6a78a801",
   "metadata": {},
   "outputs": [
    {
     "name": "stdout",
     "output_type": "stream",
     "text": [
      "Índices de los valores duplicados en la columna 'ra': Int64Index([4105, 5929, 6215, 11228], dtype='int64')\n"
     ]
    }
   ],
   "source": [
    "# Indices de los valores duplicados en la columna 'ra'\n",
    "indices_duplicados = IRAS[IRAS.duplicated(subset='ra')].index\n",
    "print(\"Índices de los valores duplicados en la columna 'ra':\", indices_duplicados)"
   ]
  },
  {
   "cell_type": "code",
   "execution_count": 9,
   "id": "cdb7b874",
   "metadata": {},
   "outputs": [
    {
     "name": "stdout",
     "output_type": "stream",
     "text": [
      "Índices de TODAS las ocurrencias de valores duplicados en la columna 'ra': Int64Index([4100, 4105, 5928, 5929, 6213, 6215, 11227, 11228], dtype='int64')\n"
     ]
    }
   ],
   "source": [
    "# Indices de TODAS las ocurrencias de valores duplicados en la columna 'ra'\n",
    "IndDuplCompletos = IRAS[IRAS['ra'].isin(valores_duplicados)].index\n",
    "\n",
    "# Imprimir los índices de TODAS las ocurrencias de valores duplicados\n",
    "print(\"Índices de TODAS las ocurrencias de valores duplicados en la columna 'ra':\", IndDuplCompletos)"
   ]
  },
  {
   "cell_type": "code",
   "execution_count": 10,
   "id": "95280058",
   "metadata": {},
   "outputs": [
    {
     "data": {
      "text/html": [
       "<div>\n",
       "<style scoped>\n",
       "    .dataframe tbody tr th:only-of-type {\n",
       "        vertical-align: middle;\n",
       "    }\n",
       "\n",
       "    .dataframe tbody tr th {\n",
       "        vertical-align: top;\n",
       "    }\n",
       "\n",
       "    .dataframe thead th {\n",
       "        text-align: right;\n",
       "    }\n",
       "</style>\n",
       "<table border=\"1\" class=\"dataframe\">\n",
       "  <thead>\n",
       "    <tr style=\"text-align: right;\">\n",
       "      <th></th>\n",
       "      <th>galname</th>\n",
       "      <th>ra</th>\n",
       "      <th>dec</th>\n",
       "      <th>fnu_12</th>\n",
       "      <th>fnu_25</th>\n",
       "      <th>fnu_60</th>\n",
       "      <th>fnu_100</th>\n",
       "      <th>rat_12_25</th>\n",
       "      <th>rat_25_60</th>\n",
       "      <th>rat_60_100</th>\n",
       "    </tr>\n",
       "  </thead>\n",
       "  <tbody>\n",
       "    <tr>\n",
       "      <th>4100</th>\n",
       "      <td>08458+6638</td>\n",
       "      <td>132.585587</td>\n",
       "      <td>66.456436</td>\n",
       "      <td>0.43</td>\n",
       "      <td>0.25</td>\n",
       "      <td>0.4</td>\n",
       "      <td>1.0</td>\n",
       "      <td>1.72</td>\n",
       "      <td>0.625</td>\n",
       "      <td>0.4</td>\n",
       "    </tr>\n",
       "  </tbody>\n",
       "</table>\n",
       "</div>"
      ],
      "text/plain": [
       "         galname          ra        dec  fnu_12  fnu_25  fnu_60  fnu_100  \\\n",
       "4100  08458+6638  132.585587  66.456436    0.43    0.25     0.4      1.0   \n",
       "\n",
       "      rat_12_25  rat_25_60  rat_60_100  \n",
       "4100       1.72      0.625         0.4  "
      ]
     },
     "execution_count": 10,
     "metadata": {},
     "output_type": "execute_result"
    }
   ],
   "source": [
    "# Duplicado 1.1\n",
    "IRAS[4100:4101]"
   ]
  },
  {
   "cell_type": "code",
   "execution_count": 11,
   "id": "d6e4a513",
   "metadata": {},
   "outputs": [
    {
     "data": {
      "text/html": [
       "<div>\n",
       "<style scoped>\n",
       "    .dataframe tbody tr th:only-of-type {\n",
       "        vertical-align: middle;\n",
       "    }\n",
       "\n",
       "    .dataframe tbody tr th {\n",
       "        vertical-align: top;\n",
       "    }\n",
       "\n",
       "    .dataframe thead th {\n",
       "        text-align: right;\n",
       "    }\n",
       "</style>\n",
       "<table border=\"1\" class=\"dataframe\">\n",
       "  <thead>\n",
       "    <tr style=\"text-align: right;\">\n",
       "      <th></th>\n",
       "      <th>galname</th>\n",
       "      <th>ra</th>\n",
       "      <th>dec</th>\n",
       "      <th>fnu_12</th>\n",
       "      <th>fnu_25</th>\n",
       "      <th>fnu_60</th>\n",
       "      <th>fnu_100</th>\n",
       "      <th>rat_12_25</th>\n",
       "      <th>rat_25_60</th>\n",
       "      <th>rat_60_100</th>\n",
       "    </tr>\n",
       "  </thead>\n",
       "  <tbody>\n",
       "    <tr>\n",
       "      <th>4105</th>\n",
       "      <td>08463+6016</td>\n",
       "      <td>132.585587</td>\n",
       "      <td>60.086784</td>\n",
       "      <td>0.25</td>\n",
       "      <td>0.31</td>\n",
       "      <td>0.31</td>\n",
       "      <td>0.83</td>\n",
       "      <td>0.806452</td>\n",
       "      <td>1.0</td>\n",
       "      <td>0.373494</td>\n",
       "    </tr>\n",
       "  </tbody>\n",
       "</table>\n",
       "</div>"
      ],
      "text/plain": [
       "         galname          ra        dec  fnu_12  fnu_25  fnu_60  fnu_100  \\\n",
       "4105  08463+6016  132.585587  60.086784    0.25    0.31    0.31     0.83   \n",
       "\n",
       "      rat_12_25  rat_25_60  rat_60_100  \n",
       "4105   0.806452        1.0    0.373494  "
      ]
     },
     "execution_count": 11,
     "metadata": {},
     "output_type": "execute_result"
    }
   ],
   "source": [
    "# Duplicado 1.2\n",
    "IRAS[4105:4106]"
   ]
  },
  {
   "cell_type": "code",
   "execution_count": 12,
   "id": "41e981fd",
   "metadata": {},
   "outputs": [],
   "source": [
    "# Eliminar las filas con valores duplicados en la columna 'ra'\n",
    "IRAS = IRAS.drop(indices_duplicados)"
   ]
  },
  {
   "cell_type": "code",
   "execution_count": 13,
   "id": "e1163aaf",
   "metadata": {},
   "outputs": [
    {
     "data": {
      "text/plain": [
       "11440"
      ]
     },
     "execution_count": 13,
     "metadata": {},
     "output_type": "execute_result"
    }
   ],
   "source": [
    "len(IRAS)"
   ]
  },
  {
   "cell_type": "markdown",
   "id": "682303f1",
   "metadata": {},
   "source": [
    "## 2. Datos para SDSS:"
   ]
  },
  {
   "cell_type": "code",
   "execution_count": 14,
   "id": "9180b2ad",
   "metadata": {},
   "outputs": [
    {
     "name": "stderr",
     "output_type": "stream",
     "text": [
      "C:\\ProgramData\\Anaconda33\\lib\\site-packages\\astroquery\\sdss\\core.py:874: VisibleDeprecationWarning: Reading unicode strings without specifying the encoding argument is deprecated. Set the encoding, use None for the system default.\n",
      "  arr = np.atleast_1d(np.genfromtxt(io.BytesIO(response.content),\n"
     ]
    }
   ],
   "source": [
    "query = \"\"\"SELECT \n",
    "    s.specobjid, s.ra, s.dec, s.z, g.h_alpha_flux, g.h_beta_flux,\n",
    "    g.oiii_5007_flux, g.nii_6548_flux, g.nii_6584_flux,\n",
    "    g.sii_6717_flux, g.sii_6731_flux, g.oi_6300_flux, s.class, s.subclass\n",
    "\n",
    "    FROM SpecObjAll AS s\n",
    "    JOIN galSpecExtra AS ID ON ID.specObjID = s.specObjID\n",
    "    JOIN galSpecLine AS g ON g.specObjID = s.specObjID\n",
    "\n",
    "\n",
    "    WHERE subclass IN ('STARFORMING', 'STARBURST', 'AGN', 'BROADLINE')\n",
    "    AND NOT h_alpha_flux <='0' AND NOT h_beta_flux <='0'\n",
    "    AND NOT oiii_5007_flux <='0' AND NOT nii_6548_flux <='0'\n",
    "    AND NOT nii_6584_flux <='0' AND NOT sii_6717_flux <='0' \n",
    "    AND NOT sii_6731_flux <='0' AND NOT oi_6300_flux <='0'\n",
    "    AND z < 0.8\n",
    "\n",
    "    ORDER BY specobjid ASC\"\"\"\n",
    "\n",
    "SDSS = SDSS.query_sql(query)"
   ]
  },
  {
   "cell_type": "code",
   "execution_count": 15,
   "id": "c7b1ec7a",
   "metadata": {},
   "outputs": [],
   "source": [
    "SDSS = SDSS.to_pandas()"
   ]
  },
  {
   "cell_type": "code",
   "execution_count": 16,
   "id": "c7c4f76d",
   "metadata": {},
   "outputs": [
    {
     "data": {
      "text/plain": [
       "329650"
      ]
     },
     "execution_count": 16,
     "metadata": {},
     "output_type": "execute_result"
    }
   ],
   "source": [
    "len(SDSS)"
   ]
  },
  {
   "cell_type": "code",
   "execution_count": 17,
   "id": "3480da86",
   "metadata": {},
   "outputs": [
    {
     "data": {
      "text/html": [
       "<div>\n",
       "<style scoped>\n",
       "    .dataframe tbody tr th:only-of-type {\n",
       "        vertical-align: middle;\n",
       "    }\n",
       "\n",
       "    .dataframe tbody tr th {\n",
       "        vertical-align: top;\n",
       "    }\n",
       "\n",
       "    .dataframe thead th {\n",
       "        text-align: right;\n",
       "    }\n",
       "</style>\n",
       "<table border=\"1\" class=\"dataframe\">\n",
       "  <thead>\n",
       "    <tr style=\"text-align: right;\">\n",
       "      <th></th>\n",
       "      <th>specobjid</th>\n",
       "      <th>ra</th>\n",
       "      <th>dec</th>\n",
       "      <th>z</th>\n",
       "      <th>h_alpha_flux</th>\n",
       "      <th>h_beta_flux</th>\n",
       "      <th>oiii_5007_flux</th>\n",
       "      <th>nii_6548_flux</th>\n",
       "      <th>nii_6584_flux</th>\n",
       "      <th>sii_6717_flux</th>\n",
       "      <th>sii_6731_flux</th>\n",
       "      <th>oi_6300_flux</th>\n",
       "      <th>class</th>\n",
       "      <th>subclass</th>\n",
       "    </tr>\n",
       "  </thead>\n",
       "  <tbody>\n",
       "    <tr>\n",
       "      <th>0</th>\n",
       "      <td>299489677444933632</td>\n",
       "      <td>146.71421</td>\n",
       "      <td>-1.041304</td>\n",
       "      <td>0.021222</td>\n",
       "      <td>472.59040</td>\n",
       "      <td>119.49560</td>\n",
       "      <td>68.39606</td>\n",
       "      <td>74.302520</td>\n",
       "      <td>224.11360</td>\n",
       "      <td>124.71150</td>\n",
       "      <td>84.18053</td>\n",
       "      <td>18.594930</td>\n",
       "      <td>b'GALAXY'</td>\n",
       "      <td>b'STARFORMING'</td>\n",
       "    </tr>\n",
       "    <tr>\n",
       "      <th>1</th>\n",
       "      <td>299490502078654464</td>\n",
       "      <td>146.62857</td>\n",
       "      <td>-0.765137</td>\n",
       "      <td>0.064656</td>\n",
       "      <td>99.40005</td>\n",
       "      <td>25.64047</td>\n",
       "      <td>21.44437</td>\n",
       "      <td>17.104640</td>\n",
       "      <td>51.59155</td>\n",
       "      <td>35.33497</td>\n",
       "      <td>21.65778</td>\n",
       "      <td>8.490424</td>\n",
       "      <td>b'GALAXY'</td>\n",
       "      <td>b'STARFORMING'</td>\n",
       "    </tr>\n",
       "    <tr>\n",
       "      <th>2</th>\n",
       "      <td>299491051364706304</td>\n",
       "      <td>146.96390</td>\n",
       "      <td>-0.545003</td>\n",
       "      <td>0.055988</td>\n",
       "      <td>181.52620</td>\n",
       "      <td>47.36650</td>\n",
       "      <td>11.85567</td>\n",
       "      <td>17.948720</td>\n",
       "      <td>54.13749</td>\n",
       "      <td>31.28298</td>\n",
       "      <td>19.16762</td>\n",
       "      <td>4.319232</td>\n",
       "      <td>b'GALAXY'</td>\n",
       "      <td>b'STARBURST'</td>\n",
       "    </tr>\n",
       "    <tr>\n",
       "      <th>3</th>\n",
       "      <td>299491051834468352</td>\n",
       "      <td>146.63167</td>\n",
       "      <td>-0.988278</td>\n",
       "      <td>0.052654</td>\n",
       "      <td>127.30580</td>\n",
       "      <td>38.33226</td>\n",
       "      <td>35.46671</td>\n",
       "      <td>8.550285</td>\n",
       "      <td>25.78963</td>\n",
       "      <td>30.26996</td>\n",
       "      <td>25.72297</td>\n",
       "      <td>6.269853</td>\n",
       "      <td>b'GALAXY'</td>\n",
       "      <td>b'STARFORMING'</td>\n",
       "    </tr>\n",
       "    <tr>\n",
       "      <th>4</th>\n",
       "      <td>299492700632147968</td>\n",
       "      <td>146.59272</td>\n",
       "      <td>-0.760256</td>\n",
       "      <td>0.065024</td>\n",
       "      <td>211.50180</td>\n",
       "      <td>53.18228</td>\n",
       "      <td>15.59901</td>\n",
       "      <td>25.314650</td>\n",
       "      <td>76.35482</td>\n",
       "      <td>41.63770</td>\n",
       "      <td>28.47964</td>\n",
       "      <td>7.211103</td>\n",
       "      <td>b'GALAXY'</td>\n",
       "      <td>b'STARFORMING'</td>\n",
       "    </tr>\n",
       "  </tbody>\n",
       "</table>\n",
       "</div>"
      ],
      "text/plain": [
       "            specobjid         ra       dec         z  h_alpha_flux  \\\n",
       "0  299489677444933632  146.71421 -1.041304  0.021222     472.59040   \n",
       "1  299490502078654464  146.62857 -0.765137  0.064656      99.40005   \n",
       "2  299491051364706304  146.96390 -0.545003  0.055988     181.52620   \n",
       "3  299491051834468352  146.63167 -0.988278  0.052654     127.30580   \n",
       "4  299492700632147968  146.59272 -0.760256  0.065024     211.50180   \n",
       "\n",
       "   h_beta_flux  oiii_5007_flux  nii_6548_flux  nii_6584_flux  sii_6717_flux  \\\n",
       "0    119.49560        68.39606      74.302520      224.11360      124.71150   \n",
       "1     25.64047        21.44437      17.104640       51.59155       35.33497   \n",
       "2     47.36650        11.85567      17.948720       54.13749       31.28298   \n",
       "3     38.33226        35.46671       8.550285       25.78963       30.26996   \n",
       "4     53.18228        15.59901      25.314650       76.35482       41.63770   \n",
       "\n",
       "   sii_6731_flux  oi_6300_flux      class        subclass  \n",
       "0       84.18053     18.594930  b'GALAXY'  b'STARFORMING'  \n",
       "1       21.65778      8.490424  b'GALAXY'  b'STARFORMING'  \n",
       "2       19.16762      4.319232  b'GALAXY'    b'STARBURST'  \n",
       "3       25.72297      6.269853  b'GALAXY'  b'STARFORMING'  \n",
       "4       28.47964      7.211103  b'GALAXY'  b'STARFORMING'  "
      ]
     },
     "execution_count": 17,
     "metadata": {},
     "output_type": "execute_result"
    }
   ],
   "source": [
    "SDSS[0:5]"
   ]
  },
  {
   "cell_type": "code",
   "execution_count": 18,
   "id": "14116e18",
   "metadata": {},
   "outputs": [
    {
     "data": {
      "text/plain": [
       "19304"
      ]
     },
     "execution_count": 18,
     "metadata": {},
     "output_type": "execute_result"
    }
   ],
   "source": [
    "# Cantidad de valores duplicados\n",
    "valores_duplicados = SDSS.duplicated(subset='ra')\n",
    "conteo_valores_duplicados = valores_duplicados.sum()\n",
    "conteo_valores_duplicados"
   ]
  },
  {
   "cell_type": "code",
   "execution_count": 19,
   "id": "b542159a",
   "metadata": {},
   "outputs": [],
   "source": [
    "# Contar la frecuencia de cada valor en la columna \"ra\"\n",
    "frecuencias = SDSS['ra'].value_counts()"
   ]
  },
  {
   "cell_type": "code",
   "execution_count": 20,
   "id": "6c735933",
   "metadata": {},
   "outputs": [],
   "source": [
    "# Contar el número de valores únicos\n",
    "num_valores_unicos = frecuencias[frecuencias == 1].count()\n",
    "\n",
    "# Contar el número de valores repetidos 1 vez\n",
    "num_repetidos_1 = frecuencias[frecuencias == 2].count()\n",
    "\n",
    "# Contar el número de valores repetidos 2 veces\n",
    "num_repetidos_2 = frecuencias[frecuencias == 3].count()\n",
    "\n",
    "# Contar el número de valores repetidos 3 veces\n",
    "num_repetidos_3 = frecuencias[frecuencias == 4].count()\n",
    "\n",
    "# Contar el número de valores repetidos 4 veces\n",
    "num_repetidos_4 = frecuencias[frecuencias == 5].count()\n",
    "\n",
    "# Contar el número de valores repetidos 5 veces\n",
    "num_repetidos_5 = frecuencias[frecuencias == 6].count()\n",
    "\n",
    "# Contar el número de valores repetidos 6 veces\n",
    "num_repetidos_6 = frecuencias[frecuencias == 7].count()\n",
    "\n",
    "# Contar el número de valores repetidos 7 veces\n",
    "num_repetidos_7 = frecuencias[frecuencias == 8].count()\n",
    "\n",
    "# Contar el número de valores repetidos 8 veces\n",
    "num_repetidos_8 = frecuencias[frecuencias == 9].count()\n",
    "\n",
    "# Contar el número de valores repetidos 9 veces\n",
    "num_repetidos_9 = frecuencias[frecuencias == 10].count()\n",
    "\n",
    "# Contar el número de valores repetidos 10 veces\n",
    "num_repetidos_10 = frecuencias[frecuencias == 11].count()\n"
   ]
  },
  {
   "cell_type": "code",
   "execution_count": 21,
   "id": "79c87f59",
   "metadata": {},
   "outputs": [
    {
     "name": "stdout",
     "output_type": "stream",
     "text": [
      "Número de valores únicos: 293697\n",
      "Número de valores repetidos 1 vez: 14895\n",
      "Número de valores repetidos 2 veces: 1239\n",
      "Número de valores repetidos 3 veces: 211\n",
      "Número de valores repetidos 4 veces: 242\n",
      "Número de valores repetidos 5 veces: 45\n",
      "Número de valores repetidos 6 veces: 14\n",
      "Número de valores repetidos 7 veces: 3\n",
      "Número de valores repetidos 8 veces: 0\n",
      "Número de valores repetidos 9 veces: 0\n",
      "Número de valores repetidos 10 veces: 0\n"
     ]
    }
   ],
   "source": [
    "print(f\"Número de valores únicos: {num_valores_unicos}\")\n",
    "print(f\"Número de valores repetidos 1 vez: {num_repetidos_1}\")\n",
    "print(f\"Número de valores repetidos 2 veces: {num_repetidos_2}\")\n",
    "print(f\"Número de valores repetidos 3 veces: {num_repetidos_3}\")\n",
    "print(f\"Número de valores repetidos 4 veces: {num_repetidos_4}\")\n",
    "print(f\"Número de valores repetidos 5 veces: {num_repetidos_5}\")\n",
    "print(f\"Número de valores repetidos 6 veces: {num_repetidos_6}\")\n",
    "print(f\"Número de valores repetidos 7 veces: {num_repetidos_7}\")\n",
    "print(f\"Número de valores repetidos 8 veces: {num_repetidos_8}\")\n",
    "print(f\"Número de valores repetidos 9 veces: {num_repetidos_9}\")\n",
    "print(f\"Número de valores repetidos 10 veces: {num_repetidos_10}\")"
   ]
  },
  {
   "cell_type": "code",
   "execution_count": 22,
   "id": "9d2ada2c",
   "metadata": {},
   "outputs": [
    {
     "data": {
      "text/plain": [
       "310346"
      ]
     },
     "execution_count": 22,
     "metadata": {},
     "output_type": "execute_result"
    }
   ],
   "source": [
    "a = 293697+14895+1239+211+242+45+14+3\n",
    "a"
   ]
  },
  {
   "cell_type": "code",
   "execution_count": 23,
   "id": "74da7827",
   "metadata": {},
   "outputs": [
    {
     "data": {
      "text/plain": [
       "16649"
      ]
     },
     "execution_count": 23,
     "metadata": {},
     "output_type": "execute_result"
    }
   ],
   "source": [
    "# Pre Repetidos:\n",
    "b= 14895+1239+211+242+45+14+3\n",
    "b"
   ]
  },
  {
   "cell_type": "code",
   "execution_count": 24,
   "id": "2722020d",
   "metadata": {},
   "outputs": [
    {
     "data": {
      "text/plain": [
       "4409"
      ]
     },
     "execution_count": 24,
     "metadata": {},
     "output_type": "execute_result"
    }
   ],
   "source": [
    "# Pre Repetidos 2:\n",
    "c= (1239*2)+(211*3)+(242*4)+(45*5)+(14*6)+(3*7)\n",
    "c"
   ]
  },
  {
   "cell_type": "code",
   "execution_count": 25,
   "id": "e91b1994",
   "metadata": {},
   "outputs": [
    {
     "data": {
      "text/plain": [
       "19304"
      ]
     },
     "execution_count": 25,
     "metadata": {},
     "output_type": "execute_result"
    }
   ],
   "source": [
    "#Repetidos totales: \n",
    "# N° Repetidos * cada una de sus veces + N° una vez repetido\n",
    "d= 4409+14895\n",
    "d\n",
    "# d son 19.304, igual a la operación \"conteo_valores_duplicados\""
   ]
  },
  {
   "cell_type": "code",
   "execution_count": 26,
   "id": "9880d505",
   "metadata": {},
   "outputs": [
    {
     "data": {
      "text/plain": [
       "16649"
      ]
     },
     "execution_count": 26,
     "metadata": {},
     "output_type": "execute_result"
    }
   ],
   "source": [
    "x= 329650-19304-293697 #Ultimos son los valores no repetidos\n",
    "x\n",
    "#16649 es b."
   ]
  },
  {
   "cell_type": "code",
   "execution_count": 27,
   "id": "ae92769c",
   "metadata": {},
   "outputs": [
    {
     "data": {
      "text/plain": [
       "310346"
      ]
     },
     "execution_count": 27,
     "metadata": {},
     "output_type": "execute_result"
    }
   ],
   "source": [
    "#y = total - repetidos\n",
    "y = 329650-19304\n",
    "y"
   ]
  },
  {
   "cell_type": "code",
   "execution_count": 28,
   "id": "a3408e42",
   "metadata": {},
   "outputs": [
    {
     "name": "stdout",
     "output_type": "stream",
     "text": [
      "Valores duplicados en la columna 'ra': [146.9639  146.94999 146.63167 ... 257.38367 258.13561 257.98823]\n"
     ]
    }
   ],
   "source": [
    "# Valores duplicados\n",
    "valores_duplicados = SDSS[SDSS.duplicated(subset='ra')]['ra'].unique()\n",
    "print(\"Valores duplicados en la columna 'ra':\", valores_duplicados)"
   ]
  },
  {
   "cell_type": "code",
   "execution_count": 29,
   "id": "ec49692a",
   "metadata": {},
   "outputs": [
    {
     "data": {
      "text/plain": [
       "16649"
      ]
     },
     "execution_count": 29,
     "metadata": {},
     "output_type": "execute_result"
    }
   ],
   "source": [
    "len(valores_duplicados)"
   ]
  },
  {
   "cell_type": "code",
   "execution_count": 30,
   "id": "0345cac1",
   "metadata": {},
   "outputs": [
    {
     "data": {
      "text/html": [
       "<div>\n",
       "<style scoped>\n",
       "    .dataframe tbody tr th:only-of-type {\n",
       "        vertical-align: middle;\n",
       "    }\n",
       "\n",
       "    .dataframe tbody tr th {\n",
       "        vertical-align: top;\n",
       "    }\n",
       "\n",
       "    .dataframe thead th {\n",
       "        text-align: right;\n",
       "    }\n",
       "</style>\n",
       "<table border=\"1\" class=\"dataframe\">\n",
       "  <thead>\n",
       "    <tr style=\"text-align: right;\">\n",
       "      <th></th>\n",
       "      <th>specobjid</th>\n",
       "      <th>ra</th>\n",
       "      <th>dec</th>\n",
       "      <th>z</th>\n",
       "      <th>h_alpha_flux</th>\n",
       "      <th>h_beta_flux</th>\n",
       "      <th>oiii_5007_flux</th>\n",
       "      <th>nii_6548_flux</th>\n",
       "      <th>nii_6584_flux</th>\n",
       "      <th>sii_6717_flux</th>\n",
       "      <th>sii_6731_flux</th>\n",
       "      <th>oi_6300_flux</th>\n",
       "      <th>class</th>\n",
       "      <th>subclass</th>\n",
       "    </tr>\n",
       "  </thead>\n",
       "  <tbody>\n",
       "    <tr>\n",
       "      <th>0</th>\n",
       "      <td>299489677444933632</td>\n",
       "      <td>146.71421</td>\n",
       "      <td>-1.041304</td>\n",
       "      <td>0.021222</td>\n",
       "      <td>472.59040</td>\n",
       "      <td>119.49560</td>\n",
       "      <td>68.39606</td>\n",
       "      <td>74.302520</td>\n",
       "      <td>224.11360</td>\n",
       "      <td>124.71150</td>\n",
       "      <td>84.18053</td>\n",
       "      <td>18.594930</td>\n",
       "      <td>b'GALAXY'</td>\n",
       "      <td>b'STARFORMING'</td>\n",
       "    </tr>\n",
       "    <tr>\n",
       "      <th>1</th>\n",
       "      <td>299490502078654464</td>\n",
       "      <td>146.62857</td>\n",
       "      <td>-0.765137</td>\n",
       "      <td>0.064656</td>\n",
       "      <td>99.40005</td>\n",
       "      <td>25.64047</td>\n",
       "      <td>21.44437</td>\n",
       "      <td>17.104640</td>\n",
       "      <td>51.59155</td>\n",
       "      <td>35.33497</td>\n",
       "      <td>21.65778</td>\n",
       "      <td>8.490424</td>\n",
       "      <td>b'GALAXY'</td>\n",
       "      <td>b'STARFORMING'</td>\n",
       "    </tr>\n",
       "    <tr>\n",
       "      <th>2</th>\n",
       "      <td>299491051364706304</td>\n",
       "      <td>146.96390</td>\n",
       "      <td>-0.545003</td>\n",
       "      <td>0.055988</td>\n",
       "      <td>181.52620</td>\n",
       "      <td>47.36650</td>\n",
       "      <td>11.85567</td>\n",
       "      <td>17.948720</td>\n",
       "      <td>54.13749</td>\n",
       "      <td>31.28298</td>\n",
       "      <td>19.16762</td>\n",
       "      <td>4.319232</td>\n",
       "      <td>b'GALAXY'</td>\n",
       "      <td>b'STARBURST'</td>\n",
       "    </tr>\n",
       "    <tr>\n",
       "      <th>3</th>\n",
       "      <td>299491051834468352</td>\n",
       "      <td>146.63167</td>\n",
       "      <td>-0.988278</td>\n",
       "      <td>0.052654</td>\n",
       "      <td>127.30580</td>\n",
       "      <td>38.33226</td>\n",
       "      <td>35.46671</td>\n",
       "      <td>8.550285</td>\n",
       "      <td>25.78963</td>\n",
       "      <td>30.26996</td>\n",
       "      <td>25.72297</td>\n",
       "      <td>6.269853</td>\n",
       "      <td>b'GALAXY'</td>\n",
       "      <td>b'STARFORMING'</td>\n",
       "    </tr>\n",
       "    <tr>\n",
       "      <th>4</th>\n",
       "      <td>299492700632147968</td>\n",
       "      <td>146.59272</td>\n",
       "      <td>-0.760256</td>\n",
       "      <td>0.065024</td>\n",
       "      <td>211.50180</td>\n",
       "      <td>53.18228</td>\n",
       "      <td>15.59901</td>\n",
       "      <td>25.314650</td>\n",
       "      <td>76.35482</td>\n",
       "      <td>41.63770</td>\n",
       "      <td>28.47964</td>\n",
       "      <td>7.211103</td>\n",
       "      <td>b'GALAXY'</td>\n",
       "      <td>b'STARFORMING'</td>\n",
       "    </tr>\n",
       "    <tr>\n",
       "      <th>5</th>\n",
       "      <td>299492701101910016</td>\n",
       "      <td>146.96390</td>\n",
       "      <td>-0.545003</td>\n",
       "      <td>0.055981</td>\n",
       "      <td>195.51970</td>\n",
       "      <td>42.86956</td>\n",
       "      <td>16.26119</td>\n",
       "      <td>20.297290</td>\n",
       "      <td>61.22130</td>\n",
       "      <td>33.02700</td>\n",
       "      <td>24.30562</td>\n",
       "      <td>2.184580</td>\n",
       "      <td>b'GALAXY'</td>\n",
       "      <td>b'STARFORMING'</td>\n",
       "    </tr>\n",
       "    <tr>\n",
       "      <th>6</th>\n",
       "      <td>299493250857723904</td>\n",
       "      <td>146.94999</td>\n",
       "      <td>-0.592202</td>\n",
       "      <td>0.064779</td>\n",
       "      <td>229.13250</td>\n",
       "      <td>60.80691</td>\n",
       "      <td>29.73346</td>\n",
       "      <td>24.491550</td>\n",
       "      <td>73.87218</td>\n",
       "      <td>45.46917</td>\n",
       "      <td>33.85824</td>\n",
       "      <td>7.237874</td>\n",
       "      <td>b'GALAXY'</td>\n",
       "      <td>b'STARFORMING'</td>\n",
       "    </tr>\n",
       "    <tr>\n",
       "      <th>7</th>\n",
       "      <td>299493525265868800</td>\n",
       "      <td>146.94999</td>\n",
       "      <td>-0.592202</td>\n",
       "      <td>0.064777</td>\n",
       "      <td>233.11410</td>\n",
       "      <td>62.10917</td>\n",
       "      <td>35.72292</td>\n",
       "      <td>23.550690</td>\n",
       "      <td>71.03431</td>\n",
       "      <td>44.16328</td>\n",
       "      <td>32.56358</td>\n",
       "      <td>7.674830</td>\n",
       "      <td>b'GALAXY'</td>\n",
       "      <td>b'STARFORMING'</td>\n",
       "    </tr>\n",
       "    <tr>\n",
       "      <th>8</th>\n",
       "      <td>299493800143775744</td>\n",
       "      <td>146.63167</td>\n",
       "      <td>-0.988278</td>\n",
       "      <td>0.052659</td>\n",
       "      <td>116.86990</td>\n",
       "      <td>36.78978</td>\n",
       "      <td>32.56529</td>\n",
       "      <td>8.366628</td>\n",
       "      <td>25.23568</td>\n",
       "      <td>24.13779</td>\n",
       "      <td>23.15360</td>\n",
       "      <td>2.733802</td>\n",
       "      <td>b'GALAXY'</td>\n",
       "      <td>b'STARFORMING'</td>\n",
       "    </tr>\n",
       "    <tr>\n",
       "      <th>9</th>\n",
       "      <td>299494075021682688</td>\n",
       "      <td>146.62857</td>\n",
       "      <td>-0.765137</td>\n",
       "      <td>0.064589</td>\n",
       "      <td>99.23278</td>\n",
       "      <td>26.19861</td>\n",
       "      <td>17.28930</td>\n",
       "      <td>16.263180</td>\n",
       "      <td>49.05350</td>\n",
       "      <td>32.67037</td>\n",
       "      <td>18.77828</td>\n",
       "      <td>5.045829</td>\n",
       "      <td>b'GALAXY'</td>\n",
       "      <td>b'STARFORMING'</td>\n",
       "    </tr>\n",
       "  </tbody>\n",
       "</table>\n",
       "</div>"
      ],
      "text/plain": [
       "            specobjid         ra       dec         z  h_alpha_flux  \\\n",
       "0  299489677444933632  146.71421 -1.041304  0.021222     472.59040   \n",
       "1  299490502078654464  146.62857 -0.765137  0.064656      99.40005   \n",
       "2  299491051364706304  146.96390 -0.545003  0.055988     181.52620   \n",
       "3  299491051834468352  146.63167 -0.988278  0.052654     127.30580   \n",
       "4  299492700632147968  146.59272 -0.760256  0.065024     211.50180   \n",
       "5  299492701101910016  146.96390 -0.545003  0.055981     195.51970   \n",
       "6  299493250857723904  146.94999 -0.592202  0.064779     229.13250   \n",
       "7  299493525265868800  146.94999 -0.592202  0.064777     233.11410   \n",
       "8  299493800143775744  146.63167 -0.988278  0.052659     116.86990   \n",
       "9  299494075021682688  146.62857 -0.765137  0.064589      99.23278   \n",
       "\n",
       "   h_beta_flux  oiii_5007_flux  nii_6548_flux  nii_6584_flux  sii_6717_flux  \\\n",
       "0    119.49560        68.39606      74.302520      224.11360      124.71150   \n",
       "1     25.64047        21.44437      17.104640       51.59155       35.33497   \n",
       "2     47.36650        11.85567      17.948720       54.13749       31.28298   \n",
       "3     38.33226        35.46671       8.550285       25.78963       30.26996   \n",
       "4     53.18228        15.59901      25.314650       76.35482       41.63770   \n",
       "5     42.86956        16.26119      20.297290       61.22130       33.02700   \n",
       "6     60.80691        29.73346      24.491550       73.87218       45.46917   \n",
       "7     62.10917        35.72292      23.550690       71.03431       44.16328   \n",
       "8     36.78978        32.56529       8.366628       25.23568       24.13779   \n",
       "9     26.19861        17.28930      16.263180       49.05350       32.67037   \n",
       "\n",
       "   sii_6731_flux  oi_6300_flux      class        subclass  \n",
       "0       84.18053     18.594930  b'GALAXY'  b'STARFORMING'  \n",
       "1       21.65778      8.490424  b'GALAXY'  b'STARFORMING'  \n",
       "2       19.16762      4.319232  b'GALAXY'    b'STARBURST'  \n",
       "3       25.72297      6.269853  b'GALAXY'  b'STARFORMING'  \n",
       "4       28.47964      7.211103  b'GALAXY'  b'STARFORMING'  \n",
       "5       24.30562      2.184580  b'GALAXY'  b'STARFORMING'  \n",
       "6       33.85824      7.237874  b'GALAXY'  b'STARFORMING'  \n",
       "7       32.56358      7.674830  b'GALAXY'  b'STARFORMING'  \n",
       "8       23.15360      2.733802  b'GALAXY'  b'STARFORMING'  \n",
       "9       18.77828      5.045829  b'GALAXY'  b'STARFORMING'  "
      ]
     },
     "execution_count": 30,
     "metadata": {},
     "output_type": "execute_result"
    }
   ],
   "source": [
    "SDSS[0:10]"
   ]
  },
  {
   "cell_type": "code",
   "execution_count": 31,
   "id": "acac0fa7",
   "metadata": {},
   "outputs": [
    {
     "name": "stdout",
     "output_type": "stream",
     "text": [
      "Índices de los valores duplicados en la columna 'ra': Int64Index([     5,      7,      8,      9,     10,     12,     15,     18,\n",
      "                20,     22,\n",
      "            ...\n",
      "            329098, 329099, 329100, 329102, 329103, 329116, 329285, 329438,\n",
      "            329439, 329576],\n",
      "           dtype='int64', length=19304)\n"
     ]
    }
   ],
   "source": [
    "# Indices de los valores duplicados en la columna 'ra'\n",
    "indices_duplicados = SDSS[SDSS.duplicated(subset='ra')].index\n",
    "print(\"Índices de los valores duplicados en la columna 'ra':\", indices_duplicados)"
   ]
  },
  {
   "cell_type": "code",
   "execution_count": 32,
   "id": "db2d8c1c",
   "metadata": {},
   "outputs": [
    {
     "name": "stdout",
     "output_type": "stream",
     "text": [
      "Índices donde el valor de 'ra' es igual a 145.51241: Int64Index([167, 170], dtype='int64')\n"
     ]
    }
   ],
   "source": [
    "indices_ra_igual_145_51241 = SDSS.index[SDSS['ra'] == 145.51241]\n",
    "\n",
    "# Imprimir los índices\n",
    "print(\"Índices donde el valor de 'ra' es igual a 145.51241:\", indices_ra_igual_145_51241)"
   ]
  },
  {
   "cell_type": "code",
   "execution_count": 33,
   "id": "fe522f40",
   "metadata": {},
   "outputs": [
    {
     "data": {
      "text/html": [
       "<div>\n",
       "<style scoped>\n",
       "    .dataframe tbody tr th:only-of-type {\n",
       "        vertical-align: middle;\n",
       "    }\n",
       "\n",
       "    .dataframe tbody tr th {\n",
       "        vertical-align: top;\n",
       "    }\n",
       "\n",
       "    .dataframe thead th {\n",
       "        text-align: right;\n",
       "    }\n",
       "</style>\n",
       "<table border=\"1\" class=\"dataframe\">\n",
       "  <thead>\n",
       "    <tr style=\"text-align: right;\">\n",
       "      <th></th>\n",
       "      <th>specobjid</th>\n",
       "      <th>ra</th>\n",
       "      <th>dec</th>\n",
       "      <th>z</th>\n",
       "      <th>h_alpha_flux</th>\n",
       "      <th>h_beta_flux</th>\n",
       "      <th>oiii_5007_flux</th>\n",
       "      <th>nii_6548_flux</th>\n",
       "      <th>nii_6584_flux</th>\n",
       "      <th>sii_6717_flux</th>\n",
       "      <th>sii_6731_flux</th>\n",
       "      <th>oi_6300_flux</th>\n",
       "      <th>class</th>\n",
       "      <th>subclass</th>\n",
       "    </tr>\n",
       "  </thead>\n",
       "  <tbody>\n",
       "    <tr>\n",
       "      <th>167</th>\n",
       "      <td>299595780317014016</td>\n",
       "      <td>145.51241</td>\n",
       "      <td>0.339171</td>\n",
       "      <td>0.006379</td>\n",
       "      <td>153.8173</td>\n",
       "      <td>35.59267</td>\n",
       "      <td>3.656026</td>\n",
       "      <td>13.19764</td>\n",
       "      <td>39.80714</td>\n",
       "      <td>16.52884</td>\n",
       "      <td>11.71782</td>\n",
       "      <td>1.011221</td>\n",
       "      <td>b'GALAXY'</td>\n",
       "      <td>b'STARBURST'</td>\n",
       "    </tr>\n",
       "  </tbody>\n",
       "</table>\n",
       "</div>"
      ],
      "text/plain": [
       "              specobjid         ra       dec         z  h_alpha_flux  \\\n",
       "167  299595780317014016  145.51241  0.339171  0.006379      153.8173   \n",
       "\n",
       "     h_beta_flux  oiii_5007_flux  nii_6548_flux  nii_6584_flux  sii_6717_flux  \\\n",
       "167     35.59267        3.656026       13.19764       39.80714       16.52884   \n",
       "\n",
       "     sii_6731_flux  oi_6300_flux      class      subclass  \n",
       "167       11.71782      1.011221  b'GALAXY'  b'STARBURST'  "
      ]
     },
     "execution_count": 33,
     "metadata": {},
     "output_type": "execute_result"
    }
   ],
   "source": [
    "# Duplicado 1.1\n",
    "SDSS[167:168]"
   ]
  },
  {
   "cell_type": "code",
   "execution_count": 34,
   "id": "3afc5cae",
   "metadata": {},
   "outputs": [
    {
     "data": {
      "text/html": [
       "<div>\n",
       "<style scoped>\n",
       "    .dataframe tbody tr th:only-of-type {\n",
       "        vertical-align: middle;\n",
       "    }\n",
       "\n",
       "    .dataframe tbody tr th {\n",
       "        vertical-align: top;\n",
       "    }\n",
       "\n",
       "    .dataframe thead th {\n",
       "        text-align: right;\n",
       "    }\n",
       "</style>\n",
       "<table border=\"1\" class=\"dataframe\">\n",
       "  <thead>\n",
       "    <tr style=\"text-align: right;\">\n",
       "      <th></th>\n",
       "      <th>specobjid</th>\n",
       "      <th>ra</th>\n",
       "      <th>dec</th>\n",
       "      <th>z</th>\n",
       "      <th>h_alpha_flux</th>\n",
       "      <th>h_beta_flux</th>\n",
       "      <th>oiii_5007_flux</th>\n",
       "      <th>nii_6548_flux</th>\n",
       "      <th>nii_6584_flux</th>\n",
       "      <th>sii_6717_flux</th>\n",
       "      <th>sii_6731_flux</th>\n",
       "      <th>oi_6300_flux</th>\n",
       "      <th>class</th>\n",
       "      <th>subclass</th>\n",
       "    </tr>\n",
       "  </thead>\n",
       "  <tbody>\n",
       "    <tr>\n",
       "      <th>170</th>\n",
       "      <td>299597703992600576</td>\n",
       "      <td>145.51241</td>\n",
       "      <td>0.339171</td>\n",
       "      <td>0.006385</td>\n",
       "      <td>145.2406</td>\n",
       "      <td>34.59045</td>\n",
       "      <td>4.021027</td>\n",
       "      <td>12.83837</td>\n",
       "      <td>38.72347</td>\n",
       "      <td>15.92982</td>\n",
       "      <td>11.42728</td>\n",
       "      <td>1.412207</td>\n",
       "      <td>b'GALAXY'</td>\n",
       "      <td>b'STARBURST'</td>\n",
       "    </tr>\n",
       "  </tbody>\n",
       "</table>\n",
       "</div>"
      ],
      "text/plain": [
       "              specobjid         ra       dec         z  h_alpha_flux  \\\n",
       "170  299597703992600576  145.51241  0.339171  0.006385      145.2406   \n",
       "\n",
       "     h_beta_flux  oiii_5007_flux  nii_6548_flux  nii_6584_flux  sii_6717_flux  \\\n",
       "170     34.59045        4.021027       12.83837       38.72347       15.92982   \n",
       "\n",
       "     sii_6731_flux  oi_6300_flux      class      subclass  \n",
       "170       11.42728      1.412207  b'GALAXY'  b'STARBURST'  "
      ]
     },
     "execution_count": 34,
     "metadata": {},
     "output_type": "execute_result"
    }
   ],
   "source": [
    "# Duplicado 1.2\n",
    "SDSS[170:171]"
   ]
  },
  {
   "cell_type": "code",
   "execution_count": 35,
   "id": "71d51248",
   "metadata": {},
   "outputs": [],
   "source": [
    "# Eliminar las filas con valores duplicados en la columna 'ra'\n",
    "\n",
    "SDSS = SDSS.drop(indices_duplicados)"
   ]
  },
  {
   "cell_type": "code",
   "execution_count": 36,
   "id": "49f28476",
   "metadata": {},
   "outputs": [
    {
     "data": {
      "text/plain": [
       "310346"
      ]
     },
     "execution_count": 36,
     "metadata": {},
     "output_type": "execute_result"
    }
   ],
   "source": [
    "len(SDSS)"
   ]
  },
  {
   "cell_type": "code",
   "execution_count": 37,
   "id": "998a34d2",
   "metadata": {},
   "outputs": [
    {
     "data": {
      "text/plain": [
       "Int64Index([167], dtype='int64')"
      ]
     },
     "execution_count": 37,
     "metadata": {},
     "output_type": "execute_result"
    }
   ],
   "source": [
    "indices_ra_igual_145_51241 = SDSS.index[SDSS['ra'] == 145.51241]\n",
    "indices_ra_igual_145_51241"
   ]
  },
  {
   "cell_type": "code",
   "execution_count": 38,
   "id": "d8934a1a",
   "metadata": {},
   "outputs": [
    {
     "data": {
      "text/html": [
       "<div>\n",
       "<style scoped>\n",
       "    .dataframe tbody tr th:only-of-type {\n",
       "        vertical-align: middle;\n",
       "    }\n",
       "\n",
       "    .dataframe tbody tr th {\n",
       "        vertical-align: top;\n",
       "    }\n",
       "\n",
       "    .dataframe thead th {\n",
       "        text-align: right;\n",
       "    }\n",
       "</style>\n",
       "<table border=\"1\" class=\"dataframe\">\n",
       "  <thead>\n",
       "    <tr style=\"text-align: right;\">\n",
       "      <th></th>\n",
       "      <th>specobjid</th>\n",
       "      <th>ra</th>\n",
       "      <th>dec</th>\n",
       "      <th>z</th>\n",
       "      <th>h_alpha_flux</th>\n",
       "      <th>h_beta_flux</th>\n",
       "      <th>oiii_5007_flux</th>\n",
       "      <th>nii_6548_flux</th>\n",
       "      <th>nii_6584_flux</th>\n",
       "      <th>sii_6717_flux</th>\n",
       "      <th>sii_6731_flux</th>\n",
       "      <th>oi_6300_flux</th>\n",
       "      <th>class</th>\n",
       "      <th>subclass</th>\n",
       "    </tr>\n",
       "  </thead>\n",
       "  <tbody>\n",
       "    <tr>\n",
       "      <th>167</th>\n",
       "      <td>299595780317014016</td>\n",
       "      <td>145.51241</td>\n",
       "      <td>0.339171</td>\n",
       "      <td>0.006379</td>\n",
       "      <td>153.8173</td>\n",
       "      <td>35.59267</td>\n",
       "      <td>3.656026</td>\n",
       "      <td>13.19764</td>\n",
       "      <td>39.80714</td>\n",
       "      <td>16.52884</td>\n",
       "      <td>11.71782</td>\n",
       "      <td>1.011221</td>\n",
       "      <td>b'GALAXY'</td>\n",
       "      <td>b'STARBURST'</td>\n",
       "    </tr>\n",
       "  </tbody>\n",
       "</table>\n",
       "</div>"
      ],
      "text/plain": [
       "              specobjid         ra       dec         z  h_alpha_flux  \\\n",
       "167  299595780317014016  145.51241  0.339171  0.006379      153.8173   \n",
       "\n",
       "     h_beta_flux  oiii_5007_flux  nii_6548_flux  nii_6584_flux  sii_6717_flux  \\\n",
       "167     35.59267        3.656026       13.19764       39.80714       16.52884   \n",
       "\n",
       "     sii_6731_flux  oi_6300_flux      class      subclass  \n",
       "167       11.71782      1.011221  b'GALAXY'  b'STARBURST'  "
      ]
     },
     "execution_count": 38,
     "metadata": {},
     "output_type": "execute_result"
    }
   ],
   "source": [
    "SDSS[100:101]"
   ]
  },
  {
   "cell_type": "markdown",
   "id": "9512fc18",
   "metadata": {},
   "source": [
    "## Conclusiones:\n",
    "\n",
    "Se tienen los siguientes valores no repetidos por múltiples observaciones de un mismo objeto:  \n",
    "* IRAS= 11.440\n",
    "* SDSS= 310.346"
   ]
  }
 ],
 "metadata": {
  "kernelspec": {
   "display_name": "Python 3 (ipykernel)",
   "language": "python",
   "name": "python3"
  },
  "language_info": {
   "codemirror_mode": {
    "name": "ipython",
    "version": 3
   },
   "file_extension": ".py",
   "mimetype": "text/x-python",
   "name": "python",
   "nbconvert_exporter": "python",
   "pygments_lexer": "ipython3",
   "version": "3.9.7"
  }
 },
 "nbformat": 4,
 "nbformat_minor": 5
}
