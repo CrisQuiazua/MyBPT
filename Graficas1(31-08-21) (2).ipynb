{
 "cells": [
  {
   "cell_type": "code",
   "execution_count": 6,
   "metadata": {
    "executionInfo": {
     "elapsed": 157,
     "status": "ok",
     "timestamp": 1625539620014,
     "user": {
      "displayName": "Giova Q",
      "photoUrl": "https://lh3.googleusercontent.com/a-/AOh14GhXBKvVb1GLx13PKKS0g9G29x1nkfssWnzqQVdopg=s64",
      "userId": "00605851554373861494"
     },
     "user_tz": 300
    },
    "id": "-s22EDVttHlk"
   },
   "outputs": [],
   "source": [
    "import pandas as pd\n",
    "import math\n",
    "import matplotlib.pyplot as plt"
   ]
  },
  {
   "cell_type": "code",
   "execution_count": 7,
   "metadata": {},
   "outputs": [],
   "source": [
    "import numpy as np"
   ]
  },
  {
   "cell_type": "code",
   "execution_count": 8,
   "metadata": {
    "colab": {
     "base_uri": "https://localhost:8080/",
     "height": 387
    },
    "executionInfo": {
     "elapsed": 548,
     "status": "error",
     "timestamp": 1625539540363,
     "user": {
      "displayName": "Giova Q",
      "photoUrl": "https://lh3.googleusercontent.com/a-/AOh14GhXBKvVb1GLx13PKKS0g9G29x1nkfssWnzqQVdopg=s64",
      "userId": "00605851554373861494"
     },
     "user_tz": 300
    },
    "id": "rsPUe68UtHlr",
    "outputId": "afb3d222-1e6b-4373-c5a2-988cc7d56e84"
   },
   "outputs": [],
   "source": [
    "df=pd.read_csv('base1.csv', sep=',')"
   ]
  },
  {
   "cell_type": "code",
   "execution_count": 9,
   "metadata": {
    "id": "h1Lea5SEtHls",
    "outputId": "2d03ecc6-2cc3-4023-8dc3-84e6e166982b"
   },
   "outputs": [
    {
     "name": "stdout",
     "output_type": "stream",
     "text": [
      "   Row#           specobjid         ra       dec   class     subclass  \\\n",
      "0     1  299489676975171584  146.71421 -1.041304  GALAXY          NaN   \n",
      "1     2  299489677444933632  146.71421 -1.041304  GALAXY  STARFORMING   \n",
      "2     3  299489951853078528  146.91945 -0.990492  GALAXY          NaN   \n",
      "3     4  299489952322840576  146.74413 -0.652191  GALAXY          NaN   \n",
      "4     5  299490226730985472  146.90229 -0.984913     QSO    BROADLINE   \n",
      "\n",
      "   h_alpha_flux  h_beta_flux  oiii_5007_flux  nii_6584_flux  sii_6731_flux  \\\n",
      "0    462.117600    98.786780       72.290090     205.904600     103.055100   \n",
      "1    472.590400   119.495600       68.396060     224.113600      84.180530   \n",
      "2     15.469430     8.996722        0.200927      23.569140       6.665386   \n",
      "3      3.417222     6.602319        5.172892      -2.430531      -0.496555   \n",
      "4      0.000000    96.324520       88.410730       0.000000       0.000000   \n",
      "\n",
      "   oi_6300_flux  \n",
      "0     16.143720  \n",
      "1     18.594930  \n",
      "2     -0.851145  \n",
      "3      3.155121  \n",
      "4      0.000000  \n"
     ]
    }
   ],
   "source": [
    "print(df.head())"
   ]
  },
  {
   "cell_type": "code",
   "execution_count": 10,
   "metadata": {
    "id": "9DVfii_RtHlu",
    "outputId": "a314d4e9-4bba-4808-af03-4b0fccd4f298"
   },
   "outputs": [
    {
     "name": "stdout",
     "output_type": "stream",
     "text": [
      "<class 'pandas.core.frame.DataFrame'>\n",
      "RangeIndex: 15000 entries, 0 to 14999\n",
      "Data columns (total 12 columns):\n",
      "Row#              15000 non-null int64\n",
      "specobjid         15000 non-null int64\n",
      "ra                15000 non-null float64\n",
      "dec               15000 non-null float64\n",
      "class             15000 non-null object\n",
      "subclass          5753 non-null object\n",
      "h_alpha_flux      15000 non-null float64\n",
      "h_beta_flux       15000 non-null float64\n",
      "oiii_5007_flux    15000 non-null float64\n",
      "nii_6584_flux     15000 non-null float64\n",
      "sii_6731_flux     15000 non-null float64\n",
      "oi_6300_flux      15000 non-null float64\n",
      "dtypes: float64(8), int64(2), object(2)\n",
      "memory usage: 1.4+ MB\n"
     ]
    }
   ],
   "source": [
    "df.info()"
   ]
  },
  {
   "cell_type": "code",
   "execution_count": 11,
   "metadata": {
    "id": "DFed6kittHlv",
    "outputId": "8d70dff8-3531-4421-8c35-5896955b6638"
   },
   "outputs": [
    {
     "data": {
      "text/plain": [
       "15000"
      ]
     },
     "execution_count": 11,
     "metadata": {},
     "output_type": "execute_result"
    }
   ],
   "source": [
    "len(df)"
   ]
  },
  {
   "cell_type": "code",
   "execution_count": 12,
   "metadata": {
    "id": "XAS3nCMktHlv",
    "outputId": "2fbdd68b-9295-473b-8524-5885262242f6"
   },
   "outputs": [
    {
     "data": {
      "text/html": [
       "<div>\n",
       "<style scoped>\n",
       "    .dataframe tbody tr th:only-of-type {\n",
       "        vertical-align: middle;\n",
       "    }\n",
       "\n",
       "    .dataframe tbody tr th {\n",
       "        vertical-align: top;\n",
       "    }\n",
       "\n",
       "    .dataframe thead th {\n",
       "        text-align: right;\n",
       "    }\n",
       "</style>\n",
       "<table border=\"1\" class=\"dataframe\">\n",
       "  <thead>\n",
       "    <tr style=\"text-align: right;\">\n",
       "      <th></th>\n",
       "      <th>Row#</th>\n",
       "      <th>specobjid</th>\n",
       "      <th>ra</th>\n",
       "      <th>dec</th>\n",
       "      <th>h_alpha_flux</th>\n",
       "      <th>h_beta_flux</th>\n",
       "      <th>oiii_5007_flux</th>\n",
       "      <th>nii_6584_flux</th>\n",
       "      <th>sii_6731_flux</th>\n",
       "      <th>oi_6300_flux</th>\n",
       "    </tr>\n",
       "  </thead>\n",
       "  <tbody>\n",
       "    <tr>\n",
       "      <th>count</th>\n",
       "      <td>15000.000000</td>\n",
       "      <td>1.500000e+04</td>\n",
       "      <td>15000.000000</td>\n",
       "      <td>15000.000000</td>\n",
       "      <td>1.500000e+04</td>\n",
       "      <td>1.500000e+04</td>\n",
       "      <td>1.500000e+04</td>\n",
       "      <td>1.500000e+04</td>\n",
       "      <td>1.500000e+04</td>\n",
       "      <td>1.500000e+04</td>\n",
       "    </tr>\n",
       "    <tr>\n",
       "      <th>mean</th>\n",
       "      <td>7500.500000</td>\n",
       "      <td>3.126616e+17</td>\n",
       "      <td>166.532182</td>\n",
       "      <td>0.009493</td>\n",
       "      <td>3.482509e+05</td>\n",
       "      <td>9.376894e+04</td>\n",
       "      <td>3.612538e+05</td>\n",
       "      <td>-3.226920e+06</td>\n",
       "      <td>2.063245e+06</td>\n",
       "      <td>6.410859e+07</td>\n",
       "    </tr>\n",
       "    <tr>\n",
       "      <th>std</th>\n",
       "      <td>4330.271354</td>\n",
       "      <td>7.862905e+15</td>\n",
       "      <td>12.441185</td>\n",
       "      <td>0.715432</td>\n",
       "      <td>2.932332e+07</td>\n",
       "      <td>6.352522e+06</td>\n",
       "      <td>3.982408e+07</td>\n",
       "      <td>4.167174e+08</td>\n",
       "      <td>2.451429e+08</td>\n",
       "      <td>7.789227e+09</td>\n",
       "    </tr>\n",
       "    <tr>\n",
       "      <th>min</th>\n",
       "      <td>1.000000</td>\n",
       "      <td>2.994897e+17</td>\n",
       "      <td>145.160390</td>\n",
       "      <td>-1.257152</td>\n",
       "      <td>-3.589710e+06</td>\n",
       "      <td>-5.325371e+03</td>\n",
       "      <td>-8.560764e+02</td>\n",
       "      <td>-5.098693e+10</td>\n",
       "      <td>-9.702375e+06</td>\n",
       "      <td>-3.613382e+08</td>\n",
       "    </tr>\n",
       "    <tr>\n",
       "      <th>25%</th>\n",
       "      <td>3750.750000</td>\n",
       "      <td>3.052854e+17</td>\n",
       "      <td>155.147705</td>\n",
       "      <td>-0.604555</td>\n",
       "      <td>8.146143e+00</td>\n",
       "      <td>3.159987e+00</td>\n",
       "      <td>3.613197e+00</td>\n",
       "      <td>5.373754e+00</td>\n",
       "      <td>6.634966e-02</td>\n",
       "      <td>2.426333e-01</td>\n",
       "    </tr>\n",
       "    <tr>\n",
       "      <th>50%</th>\n",
       "      <td>7500.500000</td>\n",
       "      <td>3.141440e+17</td>\n",
       "      <td>168.341200</td>\n",
       "      <td>0.010327</td>\n",
       "      <td>3.934337e+01</td>\n",
       "      <td>1.181246e+01</td>\n",
       "      <td>9.377415e+00</td>\n",
       "      <td>2.285743e+01</td>\n",
       "      <td>7.488946e+00</td>\n",
       "      <td>3.169994e+00</td>\n",
       "    </tr>\n",
       "    <tr>\n",
       "      <th>75%</th>\n",
       "      <td>11250.250000</td>\n",
       "      <td>3.198180e+17</td>\n",
       "      <td>177.967980</td>\n",
       "      <td>0.621874</td>\n",
       "      <td>1.479491e+02</td>\n",
       "      <td>3.631564e+01</td>\n",
       "      <td>2.152427e+01</td>\n",
       "      <td>5.974381e+01</td>\n",
       "      <td>2.127001e+01</td>\n",
       "      <td>7.296719e+00</td>\n",
       "    </tr>\n",
       "    <tr>\n",
       "      <th>max</th>\n",
       "      <td>15000.000000</td>\n",
       "      <td>3.265168e+17</td>\n",
       "      <td>190.149250</td>\n",
       "      <td>1.258306</td>\n",
       "      <td>3.368937e+09</td>\n",
       "      <td>6.205819e+08</td>\n",
       "      <td>4.863205e+09</td>\n",
       "      <td>1.279105e+09</td>\n",
       "      <td>3.001967e+10</td>\n",
       "      <td>9.539669e+11</td>\n",
       "    </tr>\n",
       "  </tbody>\n",
       "</table>\n",
       "</div>"
      ],
      "text/plain": [
       "               Row#     specobjid            ra           dec  h_alpha_flux  \\\n",
       "count  15000.000000  1.500000e+04  15000.000000  15000.000000  1.500000e+04   \n",
       "mean    7500.500000  3.126616e+17    166.532182      0.009493  3.482509e+05   \n",
       "std     4330.271354  7.862905e+15     12.441185      0.715432  2.932332e+07   \n",
       "min        1.000000  2.994897e+17    145.160390     -1.257152 -3.589710e+06   \n",
       "25%     3750.750000  3.052854e+17    155.147705     -0.604555  8.146143e+00   \n",
       "50%     7500.500000  3.141440e+17    168.341200      0.010327  3.934337e+01   \n",
       "75%    11250.250000  3.198180e+17    177.967980      0.621874  1.479491e+02   \n",
       "max    15000.000000  3.265168e+17    190.149250      1.258306  3.368937e+09   \n",
       "\n",
       "        h_beta_flux  oiii_5007_flux  nii_6584_flux  sii_6731_flux  \\\n",
       "count  1.500000e+04    1.500000e+04   1.500000e+04   1.500000e+04   \n",
       "mean   9.376894e+04    3.612538e+05  -3.226920e+06   2.063245e+06   \n",
       "std    6.352522e+06    3.982408e+07   4.167174e+08   2.451429e+08   \n",
       "min   -5.325371e+03   -8.560764e+02  -5.098693e+10  -9.702375e+06   \n",
       "25%    3.159987e+00    3.613197e+00   5.373754e+00   6.634966e-02   \n",
       "50%    1.181246e+01    9.377415e+00   2.285743e+01   7.488946e+00   \n",
       "75%    3.631564e+01    2.152427e+01   5.974381e+01   2.127001e+01   \n",
       "max    6.205819e+08    4.863205e+09   1.279105e+09   3.001967e+10   \n",
       "\n",
       "       oi_6300_flux  \n",
       "count  1.500000e+04  \n",
       "mean   6.410859e+07  \n",
       "std    7.789227e+09  \n",
       "min   -3.613382e+08  \n",
       "25%    2.426333e-01  \n",
       "50%    3.169994e+00  \n",
       "75%    7.296719e+00  \n",
       "max    9.539669e+11  "
      ]
     },
     "execution_count": 12,
     "metadata": {},
     "output_type": "execute_result"
    }
   ],
   "source": [
    "df.describe()"
   ]
  },
  {
   "cell_type": "code",
   "execution_count": 13,
   "metadata": {
    "id": "g1yxVxQMtHlw",
    "outputId": "0ad90d64-441f-4794-870c-5bb1fd591502"
   },
   "outputs": [
    {
     "data": {
      "text/plain": [
       "Index(['Row#', 'specobjid', 'ra', 'dec', 'class', 'subclass', 'h_alpha_flux',\n",
       "       'h_beta_flux', 'oiii_5007_flux', 'nii_6584_flux', 'sii_6731_flux',\n",
       "       'oi_6300_flux'],\n",
       "      dtype='object')"
      ]
     },
     "execution_count": 13,
     "metadata": {},
     "output_type": "execute_result"
    }
   ],
   "source": [
    "df.columns"
   ]
  },
  {
   "cell_type": "code",
   "execution_count": null,
   "metadata": {},
   "outputs": [],
   "source": []
  },
  {
   "cell_type": "code",
   "execution_count": 14,
   "metadata": {
    "id": "bG2r6CaztHlz"
   },
   "outputs": [],
   "source": [
    "h_alpha = []\n",
    "h_betha = []\n",
    "Oiii = []\n",
    "Nii = []\n",
    "Sii = []\n",
    "Oi = []\n",
    "\n",
    "for n in range(len(df)):\n",
    "    if df['h_alpha_flux'][n] > 0 and df['h_beta_flux'][n] > 0 and df['oiii_5007_flux'][n] > 0 and df['nii_6584_flux'][n] > 0 and df['sii_6731_flux'][n] > 0 and df['oi_6300_flux'][n] > 0:\n",
    "        #print(\"hola\")\n",
    "        h_alpha.append(df['h_alpha_flux'][n])\n",
    "        h_betha.append(df['h_beta_flux'][n])\n",
    "        Oiii.append(df['oiii_5007_flux'][n])\n",
    "        Nii.append(df['nii_6584_flux'][n])\n",
    "        Sii.append(df['sii_6731_flux'][n])\n",
    "        Oi.append(df['oi_6300_flux'][n])\n",
    "        "
   ]
  },
  {
   "cell_type": "code",
   "execution_count": 15,
   "metadata": {
    "id": "Yom_uBUVtHl2"
   },
   "outputs": [],
   "source": [
    "m1 = []\n",
    "m2 = []\n",
    "m3 = []\n",
    "m4 = []\n",
    "for n in range(len(h_alpha)):\n",
    "    m1.append(Oiii[n]/h_betha[n]) # y para todos\n",
    "    m2.append(Nii[n]/h_alpha[n])  # x para el gráfico a\n",
    "    m3.append(Sii[n]/h_alpha[n])  # x para el gráfico b\n",
    "    m4.append(Oi[n]/h_alpha[n])   # x para el gráfico c"
   ]
  },
  {
   "cell_type": "code",
   "execution_count": 16,
   "metadata": {},
   "outputs": [
    {
     "name": "stdout",
     "output_type": "stream",
     "text": [
      "185\n",
      "272\n",
      "340\n",
      "371\n",
      "628\n",
      "779\n",
      "815\n",
      "1431\n",
      "1594\n",
      "2249\n",
      "2348\n",
      "2681\n",
      "2797\n",
      "3165\n",
      "3318\n",
      "3879\n",
      "5094\n",
      "5116\n",
      "5826\n",
      "5827\n",
      "5852\n",
      "6700\n",
      "6804\n",
      "6988\n",
      "7058\n",
      "7069\n",
      "7130\n",
      "7148\n",
      "7526\n",
      "7786\n",
      "8343\n",
      "8842\n",
      "8845\n"
     ]
    }
   ],
   "source": [
    "# Buscando valores ruido mayores a 5 en m3\n",
    "\n",
    "for i in range(len(m3)):\n",
    "    if m3[i] > 5:\n",
    "        print(i)\n"
   ]
  },
  {
   "cell_type": "code",
   "execution_count": 17,
   "metadata": {},
   "outputs": [],
   "source": [
    "# Redefiniendo valores sin ruido mayores a 5\n",
    "\n",
    "mm1 = m1[0:184]+m1[186:271]+m1[273:339]+m1[341:370]+m1[372:len(m3)]\n",
    "mm2 = m2[0:184]+m2[186:271]+m2[273:339]+m2[341:370]+m2[372:len(m3)]\n",
    "mm3 = m3[0:184]+m3[186:271]+m3[273:339]+m3[341:370]+m3[372:len(m3)]\n",
    "mm4 = m4[0:184]+m4[186:271]+m4[273:339]+m4[341:370]+m4[372:len(m3)]\n",
    "m1 = mm1\n",
    "m2 = mm2\n",
    "m3 = mm3\n",
    "m4 = mm4"
   ]
  },
  {
   "cell_type": "code",
   "execution_count": 18,
   "metadata": {
    "id": "EU4J5fQ0tHl4"
   },
   "outputs": [],
   "source": [
    "M1 = []\n",
    "M2 = []\n",
    "M3 = []\n",
    "M4 = []\n",
    "for n in range(len(m1)):\n",
    "    M1.append(math.log(m1[n]))\n",
    "    M2.append(math.log(m2[n]))\n",
    "    M3.append(math.log(m3[n]))\n",
    "    M4.append(math.log(m4[n]))\n",
    "    #print(M1[n], M2[n], M3[n], M4[n])"
   ]
  },
  {
   "cell_type": "code",
   "execution_count": 19,
   "metadata": {},
   "outputs": [
    {
     "name": "stdout",
     "output_type": "stream",
     "text": [
      "190\n",
      "226\n",
      "543\n",
      "991\n",
      "1023\n",
      "1234\n",
      "1520\n",
      "1991\n",
      "2112\n",
      "2217\n",
      "2523\n",
      "2796\n",
      "3110\n",
      "3333\n",
      "3658\n",
      "3716\n",
      "3748\n",
      "4136\n",
      "4151\n",
      "4390\n",
      "4477\n",
      "4863\n",
      "5888\n",
      "6132\n",
      "6340\n",
      "6390\n",
      "6509\n",
      "7347\n",
      "7383\n",
      "7386\n",
      "7619\n",
      "7765\n",
      "7903\n",
      "8413\n",
      "8723\n",
      "8872\n",
      "8927\n",
      "8936\n"
     ]
    }
   ],
   "source": [
    "# Buscando valores ruido mayores a 5 en m3\n",
    "\n",
    "for i in range(len(M3)):\n",
    "    if M3[i] < -5:\n",
    "        print(i)\n"
   ]
  },
  {
   "cell_type": "code",
   "execution_count": 20,
   "metadata": {},
   "outputs": [],
   "source": [
    "# Redefiniendo valores sin ruido menores a -5 en MM3\n",
    "\n",
    "Mm1 = M1[0:189]+M1[191:225]+M1[227:542]+M1[544:len(M3)]\n",
    "Mm2 = M2[0:189]+M2[191:225]+M2[227:542]+M2[544:len(M3)]\n",
    "Mm3 = M3[0:189]+M3[191:225]+M3[227:542]+M3[544:len(M3)]\n",
    "Mm4 = M4[0:189]+M4[191:225]+M4[227:542]+M4[544:len(M3)]\n",
    "M1 = Mm1\n",
    "M2 = Mm2\n",
    "M3 = Mm3\n",
    "M4 = Mm4"
   ]
  },
  {
   "cell_type": "markdown",
   "metadata": {
    "id": "7hl0tkPDtHl5"
   },
   "source": [
    "## Gráfico Puntos"
   ]
  },
  {
   "cell_type": "code",
   "execution_count": 21,
   "metadata": {
    "id": "jdh2TJEgtHl6"
   },
   "outputs": [],
   "source": [
    "from matplotlib import pyplot as plt"
   ]
  },
  {
   "cell_type": "code",
   "execution_count": 22,
   "metadata": {
    "id": "D1dU7WlVtHl_"
   },
   "outputs": [
    {
     "data": {
      "text/plain": [
       "Text(0,0.5,'log[Oiii] lamda5007/h_betha')"
      ]
     },
     "execution_count": 22,
     "metadata": {},
     "output_type": "execute_result"
    },
    {
     "data": {
      "image/png": "[encoded data removed]",
      "text/plain": [
       "<Figure size 432x288 with 1 Axes>"
      ]
     },
     "metadata": {
      "needs_background": "light"
     },
     "output_type": "display_data"
    }
   ],
   "source": [
    "MM1 = M1[0:1000]\n",
    "MM2 = M2[0:1000]\n",
    "plt.scatter(MM2,MM1, marker=\"o\", color=\"red\")\n",
    "plt.title('Gráfico a')\n",
    "plt.xlabel('log[Ni] lamda6583/h_alpha')\n",
    "plt.ylabel('log[Oiii] lamda5007/h_betha')"
   ]
  },
  {
   "cell_type": "code",
   "execution_count": 23,
   "metadata": {
    "id": "ldvsNVqHtHmA"
   },
   "outputs": [
    {
     "data": {
      "text/plain": [
       "Text(0,0.5,'log[Oiii] lamda5007/h_betha')"
      ]
     },
     "execution_count": 23,
     "metadata": {},
     "output_type": "execute_result"
    },
    {
     "data": {
      "image/png": "[encoded data removed]",
      "text/plain": [
       "<Figure size 432x288 with 1 Axes>"
      ]
     },
     "metadata": {
      "needs_background": "light"
     },
     "output_type": "display_data"
    }
   ],
   "source": [
    "MM1 = M1[0:1000]\n",
    "MM3 = M3[0:1000]\n",
    "plt.scatter(MM3,MM1, marker=\"x\", color=\"Blue\")\n",
    "plt.title('Gráfico b')\n",
    "plt.xlabel('log[Sii] lamda6716.6731/h_alpha')\n",
    "plt.ylabel('log[Oiii] lamda5007/h_betha')"
   ]
  },
  {
   "cell_type": "code",
   "execution_count": 24,
   "metadata": {},
   "outputs": [
    {
     "data": {
      "text/plain": [
       "8996"
      ]
     },
     "execution_count": 24,
     "metadata": {},
     "output_type": "execute_result"
    }
   ],
   "source": [
    "len(M1)"
   ]
  },
  {
   "cell_type": "code",
   "execution_count": null,
   "metadata": {},
   "outputs": [],
   "source": []
  },
  {
   "cell_type": "code",
   "execution_count": 25,
   "metadata": {
    "id": "xkYdEmeJtHmB"
   },
   "outputs": [
    {
     "data": {
      "text/plain": [
       "Text(0,0.5,'log[Oiii] lamda5007/h_betha')"
      ]
     },
     "execution_count": 25,
     "metadata": {},
     "output_type": "execute_result"
    },
    {
     "data": {
      "image/png": "[encoded data removed]",
      "text/plain": [
       "<Figure size 432x288 with 1 Axes>"
      ]
     },
     "metadata": {
      "needs_background": "light"
     },
     "output_type": "display_data"
    }
   ],
   "source": [
    "MM1 = M1[0:1000]\n",
    "MM4 = M4[0:1000]\n",
    "plt.scatter(MM4,MM1, marker=\"x\", color=\"Green\")\n",
    "plt.title('Gráfico c')\n",
    "plt.xlabel('log[Oi] lamda6300/h_alpha')\n",
    "plt.ylabel('log[Oiii] lamda5007/h_betha')"
   ]
  },
  {
   "cell_type": "code",
   "execution_count": 26,
   "metadata": {
    "id": "RHiTYjIStHmC"
   },
   "outputs": [
    {
     "data": {
      "text/plain": [
       "Text(0.5,0,'log[Oi]l6300/h_a')"
      ]
     },
     "execution_count": 26,
     "metadata": {},
     "output_type": "execute_result"
    },
    {
     "data": {
      "image/png": "[encoded data removed]",
      "text/plain": [
       "<Figure size 432x288 with 3 Axes>"
      ]
     },
     "metadata": {
      "needs_background": "light"
     },
     "output_type": "display_data"
    }
   ],
   "source": [
    "MM1 = M1[0:1000]\n",
    "MM2 = M2[0:1000]\n",
    "MM3 = M3[0:1000]\n",
    "MM4 = M4[0:1000]\n",
    "\n",
    "plt.figure()\n",
    "\n",
    "\n",
    "\n",
    "plt.subplot(1,3,1)\n",
    "plt.plot(MM2,MM1, 'x', color=\"Red\")\n",
    "plt.ylabel('log[Oiii] lamda5007/h_betha')\n",
    "plt.xlabel('log[Ni]l6583/h_a')\n",
    "\n",
    "\n",
    "plt.subplot(1,3,2)\n",
    "plt.plot(MM3,MM1, 'x', color=\"Blue\")\n",
    "plt.xlabel('log[Sii]l6716/h_a')\n",
    "\n",
    "plt.subplot(1,3,3)\n",
    "plt.plot(MM4,MM1, 'x', color=\"Green\")\n",
    "plt.xlabel('log[Oi]l6300/h_a')\n"
   ]
  },
  {
   "cell_type": "markdown",
   "metadata": {},
   "source": [
    "## Nuevas gráficas"
   ]
  },
  {
   "cell_type": "markdown",
   "metadata": {},
   "source": [
    "# Datos KAFFMAN para NII"
   ]
  },
  {
   "cell_type": "code",
   "execution_count": 27,
   "metadata": {},
   "outputs": [],
   "source": [
    "# Buscando valores de MM1 menores a 0,61\n",
    "\n",
    "L1 = []\n",
    "L2 = []\n",
    "L3 = []\n",
    "L4 = []\n",
    "\n",
    "for i in range(len(MM1)):\n",
    "    if MM1[i] < 0.61:\n",
    "        L1.append(MM1[i])   # L1 un array que contiene todos los MM1 menores a 0,61\n",
    "        L2.append(MM2[i])\n",
    "        L3.append(MM3[i])\n",
    "        L4.append(MM4[i])"
   ]
  },
  {
   "cell_type": "code",
   "execution_count": 28,
   "metadata": {},
   "outputs": [
    {
     "data": {
      "text/plain": [
       "1.6637865702751822"
      ]
     },
     "execution_count": 28,
     "metadata": {},
     "output_type": "execute_result"
    }
   ],
   "source": [
    "L1[0]/(L2[0]-0.05)+ 1.3   # El primer dato"
   ]
  },
  {
   "cell_type": "code",
   "execution_count": 29,
   "metadata": {},
   "outputs": [],
   "source": [
    "# Ecuaciòn de KAFFMAN para NII\n",
    "Q1 = []\n",
    "\n",
    "for ii in range(len(L1)):\n",
    "    Q1.append(L1[ii]/(L2[ii]-0.05)+ 1.3)"
   ]
  },
  {
   "cell_type": "markdown",
   "metadata": {},
   "source": [
    "# Datos KAFFMAN para SII"
   ]
  },
  {
   "cell_type": "code",
   "execution_count": 30,
   "metadata": {},
   "outputs": [],
   "source": [
    "# Buscando valores de MM1 menores a 0,61\n",
    "\n",
    "LL1 = []\n",
    "LL2 = []\n",
    "LL3 = []\n",
    "LL4 = []\n",
    "\n",
    "for i in range(len(MM1)):\n",
    "    if MM1[i] < 0.72:\n",
    "        LL1.append(MM1[i])   # LL1 un array que contiene todos los MM1 menores a 0,72\n",
    "        LL2.append(MM2[i])\n",
    "        LL3.append(MM3[i])\n",
    "        LL4.append(MM4[i])"
   ]
  },
  {
   "cell_type": "code",
   "execution_count": 31,
   "metadata": {},
   "outputs": [
    {
     "data": {
      "text/plain": [
       "1.4715282614002982"
      ]
     },
     "execution_count": 31,
     "metadata": {},
     "output_type": "execute_result"
    }
   ],
   "source": [
    "LL1[0]/(LL3[0]-0.32)+ 1.3  # El primer dato "
   ]
  },
  {
   "cell_type": "code",
   "execution_count": 32,
   "metadata": {},
   "outputs": [],
   "source": [
    "# Ecuaciòn de KAFFMAN para SII\n",
    "Q2 = []\n",
    "\n",
    "for ii in range(len(LL1)):\n",
    "    Q2.append(LL1[ii]/(LL3[ii]-0.32)+ 1.3)"
   ]
  },
  {
   "cell_type": "code",
   "execution_count": null,
   "metadata": {},
   "outputs": [],
   "source": []
  },
  {
   "cell_type": "markdown",
   "metadata": {},
   "source": [
    "# Datos KAFFMAN para OI"
   ]
  },
  {
   "cell_type": "code",
   "execution_count": 33,
   "metadata": {},
   "outputs": [],
   "source": [
    "# Buscando valores de MM1 menores a 0,61\n",
    "\n",
    "LLL1 = []\n",
    "LLL2 = []\n",
    "LLL3 = []\n",
    "LLL4 = []\n",
    "\n",
    "for i in range(len(MM1)):\n",
    "    if MM1[i] < 0.73:\n",
    "        LLL1.append(MM1[i])   # LLL1 un array que contiene todos los MM1 menores a 0,73\n",
    "        LLL2.append(MM2[i])\n",
    "        LLL3.append(MM3[i])\n",
    "        LLL4.append(MM4[i])"
   ]
  },
  {
   "cell_type": "code",
   "execution_count": 34,
   "metadata": {},
   "outputs": [
    {
     "data": {
      "text/plain": [
       "1.4429682240007546"
      ]
     },
     "execution_count": 34,
     "metadata": {},
     "output_type": "execute_result"
    }
   ],
   "source": [
    "LLL1[0]/(LLL4[0]+0.59)+ 1.33  # El primer dato "
   ]
  },
  {
   "cell_type": "code",
   "execution_count": 35,
   "metadata": {},
   "outputs": [],
   "source": [
    "# Ecuaciòn de KAFFMAN para OI\n",
    "Q3 = []\n",
    "\n",
    "for ii in range(len(LLL1)):\n",
    "    Q3.append(LLL1[ii]/(LLL4[ii]+0.59)+ 1.33)"
   ]
  },
  {
   "cell_type": "code",
   "execution_count": 36,
   "metadata": {},
   "outputs": [
    {
     "name": "stdout",
     "output_type": "stream",
     "text": [
      "1.6637865702751822 1.4715282614002982 1.4429682240007546\n"
     ]
    }
   ],
   "source": [
    "print(Q1[0], Q2[0], Q3[0])  # KAFFMAN para los tres datos"
   ]
  },
  {
   "cell_type": "code",
   "execution_count": 37,
   "metadata": {},
   "outputs": [
    {
     "data": {
      "text/plain": [
       "[1.6637865702751822,\n",
       " 2.00089330708924,\n",
       " 1.553203683987698,\n",
       " 2.399403600346814,\n",
       " 1.3471859618263036,\n",
       " -4.413972326302302,\n",
       " 2.447519845645259,\n",
       " 2.100369851087328,\n",
       " 1.9052894506484235,\n",
       " 1.7466382112999919,\n",
       " 1.377061473688782,\n",
       " 1.8508114268012874,\n",
       " 2.4026546726313818,\n",
       " 4.659014007794744,\n",
       " 1.87946219887705,\n",
       " 1.0759767338550659,\n",
       " 3.8617260132872007,\n",
       " 1.6966677841512154,\n",
       " 0.5210794885944952,\n",
       " 2.4453234155797805,\n",
       " 1.1857780332027548,\n",
       " 1.939110178305174,\n",
       " 2.628501676447654,\n",
       " -172.9476715830292,\n",
       " 0.2298457366009976,\n",
       " 2.635743725179708,\n",
       " 2.730948043320395,\n",
       " 3.0230706639595923,\n",
       " 2.081296796526968,\n",
       " 2.8250722920740845,\n",
       " 2.5949627133842266,\n",
       " 2.589570213793244,\n",
       " 1.2501438230692492,\n",
       " 2.3690971665078653,\n",
       " 1.7020427970181542,\n",
       " 1.3035899636758117,\n",
       " -2.8394390966910654,\n",
       " 2.997778947719878,\n",
       " 0.8970003463516949,\n",
       " 1.1421005375915334,\n",
       " 1.937406014189946,\n",
       " 2.2420678404260084,\n",
       " 2.9245129466336985,\n",
       " 2.6079383035030754,\n",
       " 1.3352828771372054,\n",
       " 2.6718752053792194,\n",
       " 2.253716312198417,\n",
       " 2.5825331397697466,\n",
       " 1.6379271731380076,\n",
       " 1.0692384448633703,\n",
       " 1.7834242617773315,\n",
       " 1.8448189798827517,\n",
       " 2.528248186525188,\n",
       " 2.8918399748781116,\n",
       " 1.9701951371628539,\n",
       " 0.9605376318596632,\n",
       " 2.621094075578664,\n",
       " 2.0220581328287994,\n",
       " 2.3442453113785175,\n",
       " 1.2885144646879638,\n",
       " 2.3825413483975506,\n",
       " 1.9517880867892836,\n",
       " 2.3168318212751338,\n",
       " -0.2707570599438549,\n",
       " 1.138122062672479,\n",
       " 0.22453888528357768,\n",
       " -0.28378649832399505,\n",
       " 1.5792578175770051,\n",
       " 1.1285723912830476,\n",
       " 1.3023461771908285,\n",
       " 0.7073267673673808,\n",
       " 2.891478441980194,\n",
       " 2.715689767365567,\n",
       " 1.6412409398662962,\n",
       " 1.4690895998767548,\n",
       " 2.84023559010139,\n",
       " 2.5527592092231726,\n",
       " 1.6786631586601284,\n",
       " 3.5587796322157903,\n",
       " -1.342521791943047,\n",
       " 1.4475458818415317,\n",
       " 17.741512346574606,\n",
       " 2.7540696499043467,\n",
       " 2.0786982703517616,\n",
       " 2.245353496786666,\n",
       " 2.07047174485726,\n",
       " 2.3693370097807973,\n",
       " 2.5903209413089945,\n",
       " 5.494802257483556,\n",
       " 2.723033908500451,\n",
       " 2.3398584700402845,\n",
       " 1.9622452149052356,\n",
       " 2.0005013991605507,\n",
       " 1.8544352511288882,\n",
       " 2.640323599922411,\n",
       " 2.372580477317377,\n",
       " 2.442027560942681,\n",
       " 1.7585502851506682,\n",
       " 1.2932408558215869,\n",
       " 1.765283525926455,\n",
       " 2.3566627112299834,\n",
       " 1.1767548182507475,\n",
       " 1.6053426648527704,\n",
       " 1.432802345909076,\n",
       " 1.636791661854156,\n",
       " 2.415203936225046,\n",
       " 1.1776923855075583,\n",
       " 1.5223432577020226,\n",
       " 2.5565654703908605,\n",
       " 1.4727636437353584,\n",
       " 2.715254135619345,\n",
       " 1.7548458176440997,\n",
       " 1.0328828691179308,\n",
       " 0.4362742034860757,\n",
       " 2.413536122645323,\n",
       " 3.0879510047177927,\n",
       " 1.2845810643234594,\n",
       " 1.2450616171255349,\n",
       " 0.20748188115205513,\n",
       " 2.7622603904207566,\n",
       " 2.401646408237461,\n",
       " 0.6721885295846208,\n",
       " 1.3314375409600494,\n",
       " 2.6372632705953745,\n",
       " 2.0852478271729473,\n",
       " 1.5319604466368302,\n",
       " 2.1675526277464963,\n",
       " 2.065284110207459,\n",
       " -8.920088106509725,\n",
       " 2.1662426460048896,\n",
       " 2.7436831470882517,\n",
       " 4.383520246658681,\n",
       " 1.3326972288775834,\n",
       " 2.2090560489034257,\n",
       " 2.7867834747668834,\n",
       " 2.688385990333521,\n",
       " 2.5880913021315624,\n",
       " 1.4559472374218099,\n",
       " 0.9706362089328444,\n",
       " 1.6121730041380955,\n",
       " 3.9654183627196566,\n",
       " 1.7951451927432172,\n",
       " 2.512721153577026,\n",
       " 1.0604972924918457,\n",
       " 2.396424109684377,\n",
       " 3.4403659622020344,\n",
       " 1.7653456049553342,\n",
       " 1.2065566847295481,\n",
       " 1.999216146241383,\n",
       " 1.0207253157670253,\n",
       " 2.4130915308587877,\n",
       " 5.494715021837804,\n",
       " 2.8451749723933677,\n",
       " 1.0499290186182486,\n",
       " 2.0108454965096443,\n",
       " -0.99575116583585,\n",
       " 1.0889253408128812,\n",
       " 1.4000078259640947,\n",
       " 0.26882489647912866,\n",
       " 6.355047570909605,\n",
       " 1.1759934349954708,\n",
       " -2.2128088646655852,\n",
       " 2.117531678869105,\n",
       " 2.4468712376957953,\n",
       " -0.6749718240283149,\n",
       " 1.9664927490829927,\n",
       " 1.9532851186398155,\n",
       " 2.5249543874059803,\n",
       " 2.147101430220332,\n",
       " 1.2692361775103198,\n",
       " 0.6391643170200181,\n",
       " 2.0776027236649965,\n",
       " 1.87908801523281,\n",
       " 3.4282846032294296,\n",
       " 1.9405483501439473,\n",
       " 1.805108099569816,\n",
       " 0.44626998028532927,\n",
       " 1.6185802232111781,\n",
       " 1.1012156760890703,\n",
       " 2.3963021543946175,\n",
       " -11.313896923693349,\n",
       " 1.03332501579312,\n",
       " 2.1318453959385453,\n",
       " 3.808820358456475,\n",
       " 2.2273817275859726,\n",
       " 1.8966615103011344,\n",
       " 1.6167412644399513,\n",
       " 1.9915711557722076,\n",
       " 1.771667079054495,\n",
       " 2.1170727192750576,\n",
       " 19.912452845493952,\n",
       " 3.479625097682124,\n",
       " 1.774615794924398,\n",
       " 2.143132072085162,\n",
       " 2.3178205513222823,\n",
       " 2.4666021153012636,\n",
       " 1.7365715874770757,\n",
       " 1.6148680693616493,\n",
       " 1.485988818728229,\n",
       " 3.0312348200403045,\n",
       " 2.299005876461675,\n",
       " 2.3765449048706024,\n",
       " 3.6170419895680475,\n",
       " 2.388582819597896,\n",
       " 4.570516621421342,\n",
       " 2.6751032197505107,\n",
       " 2.639813638543527,\n",
       " 2.574365344757056,\n",
       " 1.0042427481942082,\n",
       " 1.9248789623400513,\n",
       " 0.9043934855121607,\n",
       " 1.676755266761297,\n",
       " 2.621797135934863,\n",
       " 1.5759988431930483,\n",
       " 2.0619722794872377,\n",
       " 2.3645433690389894,\n",
       " 1.1358022652623667,\n",
       " -0.12261737506357662,\n",
       " 2.413966150905302,\n",
       " 3.1867888841943453,\n",
       " 1.9973212954407347,\n",
       " 9.50734918845648,\n",
       " 2.3681472363706524,\n",
       " 2.0765568786704356,\n",
       " 0.7055572021083337,\n",
       " 1.671710267899846,\n",
       " 1.2317463703707672,\n",
       " -0.2943760965783091,\n",
       " 2.2516981131845655,\n",
       " 1.2608382810732215,\n",
       " 1.0831429272896234,\n",
       " 1.579934029960385,\n",
       " 2.403567367312422,\n",
       " 1.9384862631306348,\n",
       " 2.3144487813052983,\n",
       " 2.9437367290907495,\n",
       " 3.418139483017084,\n",
       " 3.6755150944319066,\n",
       " 2.4463787709450395,\n",
       " 1.1603388414734013,\n",
       " -10.609037400290578,\n",
       " 2.8304864458712955,\n",
       " 2.0390579343706023,\n",
       " 2.808037616421995,\n",
       " 2.0014066146824554,\n",
       " 2.3222144203925676,\n",
       " 2.7195635980209527,\n",
       " 2.5944315400205857,\n",
       " 1.8820179058789395,\n",
       " 0.5248023042961925,\n",
       " 1.8118968248400646,\n",
       " 1.0945489793912018,\n",
       " 1.8912029311879872,\n",
       " 2.9042220110659107,\n",
       " 2.767481207793934,\n",
       " 5.204965767483865,\n",
       " 1.4852677039850615,\n",
       " 2.6451830907703067,\n",
       " 1.8850984627194727,\n",
       " 2.327074447347486,\n",
       " 10.346388152585728,\n",
       " 2.337183417194077,\n",
       " 1.8392143809825954,\n",
       " 2.8686044503067594,\n",
       " 2.6705546884108,\n",
       " 2.262489315575257,\n",
       " 0.6636990256591423,\n",
       " 1.9837642765208712,\n",
       " 4.254828375059592,\n",
       " 2.177892055746808,\n",
       " 0.024607175304858453,\n",
       " 4.394072132986066,\n",
       " 3.5327540185045416,\n",
       " -0.2288545224754004,\n",
       " 1.395352405370438,\n",
       " 1.352410368886022,\n",
       " 3.295117736076479,\n",
       " 1.981287078362098,\n",
       " 2.8863563226622047,\n",
       " 2.2817819957542103,\n",
       " 2.169482485250982,\n",
       " 1.6038884450103688,\n",
       " 2.686815098016299,\n",
       " -0.08824351508752382,\n",
       " 0.5399832414796603,\n",
       " 0.9265938746164455,\n",
       " 3.2407019317634287,\n",
       " 2.507283917751728,\n",
       " 109.52550437478494,\n",
       " 1.8150662689463366,\n",
       " 3.445991807178479,\n",
       " 2.240519530836634,\n",
       " 1.6171130661818154,\n",
       " 2.102616022395665,\n",
       " 2.516429729459859,\n",
       " 1.51847915873758,\n",
       " 1.6474308326950755,\n",
       " 1.0274331128075433,\n",
       " 1.1681422807421566,\n",
       " 3.7645591960847433,\n",
       " 2.2609026120200943,\n",
       " 33.30641098560311,\n",
       " 5.545821185112839,\n",
       " 1.3892045151868408,\n",
       " 2.4832051818894305,\n",
       " 1.8779522281231773,\n",
       " 1.6507217869809403,\n",
       " 0.49617496230279634,\n",
       " 1.8470744711855995,\n",
       " 2.5209768436604656,\n",
       " 1.4708376685824898,\n",
       " 1.4980003015558732,\n",
       " 2.861114298880636,\n",
       " 1.7024184053226354,\n",
       " 2.635184913396282,\n",
       " 1.5896163952781737,\n",
       " 1.2905491988592146,\n",
       " 1.8382969958144617,\n",
       " 2.6192412770738676,\n",
       " 2.7794555822460523,\n",
       " 0.9684919737465005,\n",
       " 1.3178112987793702,\n",
       " 1.8322175108721095,\n",
       " 1.735765289549346,\n",
       " 3.3551415091926744,\n",
       " 1.3570122539268041,\n",
       " 1.3101266622795638,\n",
       " -3.604557001637609,\n",
       " 1.26961442125014,\n",
       " 2.505057989903025,\n",
       " -0.6609820750567628,\n",
       " 0.6049494816230013,\n",
       " 2.249561424447514,\n",
       " 1.467089433506158,\n",
       " 2.949239735599682,\n",
       " 2.76522836509017,\n",
       " 2.132897214876946,\n",
       " 3.0554247647949273,\n",
       " 3.6520086759202144,\n",
       " 2.630667825273883,\n",
       " 2.4526859528028515,\n",
       " 1.6831566071792285,\n",
       " 3.017521716995551,\n",
       " 2.043865092916467,\n",
       " 2.4704339964852817,\n",
       " 3.770178405208223,\n",
       " -0.03534033742709708,\n",
       " 2.9723751890571966,\n",
       " 1.323317640389453,\n",
       " 1.1974859054817446,\n",
       " 1.850330678397135,\n",
       " 2.2567706355258537,\n",
       " 1.9104768189393955,\n",
       " 3.392003456272276,\n",
       " 2.153247433029609,\n",
       " 1.884151607509994,\n",
       " 2.812956716800193,\n",
       " 2.392880620687225,\n",
       " 2.2147374571596865,\n",
       " 1.5091005084010993,\n",
       " 38.19554269031326,\n",
       " 1.03262104509365,\n",
       " 1.0090606191909028,\n",
       " 0.17245952193310243,\n",
       " 1.8220996906964078,\n",
       " 1.1570332524393225,\n",
       " 2.854071137267556,\n",
       " 2.752026230099392,\n",
       " 2.9421267903133534,\n",
       " 1.8190884322625878,\n",
       " 2.006582461088816,\n",
       " 2.4510849874078415,\n",
       " 1.5199625921195103,\n",
       " 2.5631032516405456,\n",
       " 2.010425725422698,\n",
       " 2.744305278632638,\n",
       " 4.665068705142084,\n",
       " 1.0081766418945297,\n",
       " 1.0671279182315752,\n",
       " 2.5107358662374093,\n",
       " 0.8998127863339199,\n",
       " 1.0493276460124168,\n",
       " 2.364112713961809,\n",
       " 1.0728993448882214,\n",
       " 2.6724507909160624,\n",
       " 1.0737919224510362,\n",
       " -5.52879642229109,\n",
       " 2.4218526363401605,\n",
       " 1.5140957198071778,\n",
       " 2.303325918747886,\n",
       " 0.9031104118390885,\n",
       " -1.2796108447289651,\n",
       " 2.5756148724092576,\n",
       " 1.1871077929415261,\n",
       " 2.647985960028821,\n",
       " 2.3437326524621245,\n",
       " 2.151940159869742,\n",
       " 2.612588906421059,\n",
       " 1.2551685474354337,\n",
       " 2.124334516647835,\n",
       " 3.6091292036614417,\n",
       " -1.2803743767567795,\n",
       " 2.504103191633475,\n",
       " 1.9954609102376362,\n",
       " 1.7525519926795912,\n",
       " 1.3614970432383402,\n",
       " 2.3392048274805335,\n",
       " -2.146584351931346,\n",
       " 2.212247322535976,\n",
       " 2.0941189290004893,\n",
       " 2.1657425354397355,\n",
       " 1.9726857738825534,\n",
       " -3.3004721990379133,\n",
       " 1.3710914644177372,\n",
       " 1.4422085226251258,\n",
       " 1.7949672610084264,\n",
       " 2.7169529378604103,\n",
       " 2.6830742700338455,\n",
       " 14.639128475397023,\n",
       " 1.4623145046154074,\n",
       " 1.1087964369184633,\n",
       " 3.859569649130031,\n",
       " 2.157893321874621,\n",
       " 1.4291854172167695,\n",
       " 1.2951763965136223,\n",
       " 2.1730636388760636,\n",
       " 2.7652159777855,\n",
       " 1.806586524578067,\n",
       " 0.8192801544263109,\n",
       " 0.22082275750506475,\n",
       " 3.4108434360120086,\n",
       " 3.4276591348345944,\n",
       " 1.3708082657178877,\n",
       " 1.4554997515616792,\n",
       " 2.6354793977768733,\n",
       " 2.612938921567875,\n",
       " 1.0907604977510172,\n",
       " 2.5498064160250316,\n",
       " 2.23938957138642,\n",
       " 2.6906225362544207,\n",
       " 1.3068584816196647,\n",
       " 1.7716904471107315,\n",
       " 1.558121123566203,\n",
       " 1.460223811381776,\n",
       " 0.5543260937549161,\n",
       " 2.330891207226337,\n",
       " 1.400062936875759,\n",
       " 1.8382122200571485,\n",
       " 2.135335438165333,\n",
       " 2.735267135509224,\n",
       " 2.602546932566964,\n",
       " 3.109328831878015,\n",
       " 3.2103165558656332,\n",
       " 1.468035469201262,\n",
       " 2.9777046544397647,\n",
       " 1.940943687259083,\n",
       " 1.5073167244613308,\n",
       " 1.0997946997613055,\n",
       " 17.16259295869233,\n",
       " 8.79312095618436,\n",
       " 2.3390156862425546,\n",
       " 10.029705377871046,\n",
       " 2.1347718850230484,\n",
       " 0.834811832786519,\n",
       " 2.2662325491136412,\n",
       " 2.0076204763717946,\n",
       " 2.8924506220811295,\n",
       " 5.025110476899431,\n",
       " 1.6419446129974176,\n",
       " 1.1738435158724867,\n",
       " 1.9241422717946934,\n",
       " 4.621871150043862,\n",
       " 0.5641737338423596,\n",
       " 2.9971284838411414,\n",
       " 1.589051918365656,\n",
       " 2.4080112288264814,\n",
       " 1.3195671959721451,\n",
       " 2.5909886933243875,\n",
       " 0.9108089041881625,\n",
       " 2.0900164420611986,\n",
       " 1.039874677649141,\n",
       " 3.156833401985989,\n",
       " 1.3451899988962186,\n",
       " 3.070548705251391,\n",
       " 2.7761129819471595,\n",
       " 7.778822108543864,\n",
       " 2.7141544499386754,\n",
       " 1.3956946088134186,\n",
       " 2.357407203049876,\n",
       " 1.8025402500677132,\n",
       " 0.22419357870581424,\n",
       " 2.257458739020248,\n",
       " 1.5571453808830824,\n",
       " 0.05106930629759043,\n",
       " 3.714764616169811,\n",
       " 0.9646325640420794,\n",
       " -4.9046517413556305,\n",
       " 2.788547472937837,\n",
       " 0.4706804261774383,\n",
       " 0.5173494751575717,\n",
       " 1.6711425747594169,\n",
       " 1.670601119510111,\n",
       " 7.812297490385168,\n",
       " 1.6581362296870021,\n",
       " 1.6206708246607757,\n",
       " 1.9068261174700292,\n",
       " 1.6852886367706532,\n",
       " 1.4980770975416164,\n",
       " 2.293703417670994,\n",
       " 1.3549537002680396,\n",
       " 2.979633717692963,\n",
       " 1.5494841807064053,\n",
       " 2.293694568482241,\n",
       " 3.562281264114593,\n",
       " 0.8427202039484047,\n",
       " 2.080876958672416,\n",
       " 2.1358704442299428,\n",
       " 0.3878731426176065,\n",
       " 2.4344835204362316,\n",
       " 1.2858331327990709,\n",
       " 1.2861520282824765,\n",
       " 1.1262169786722958,\n",
       " 1.9321526380574743,\n",
       " 2.940007247865869,\n",
       " 3.1646383445018014,\n",
       " 2.5996200996308594,\n",
       " 2.3478499622173747,\n",
       " 0.9891965773874671,\n",
       " 2.377489200043024,\n",
       " 2.8572260537593874,\n",
       " 2.076169563187957,\n",
       " 2.2245988435849497,\n",
       " 2.481332738766449,\n",
       " 2.0297056053294673,\n",
       " 1.0654692577031186,\n",
       " 1.6772498660312007,\n",
       " 2.125256164065938,\n",
       " 2.6505867318300913,\n",
       " 1.77489945465098,\n",
       " 2.6068843666256436,\n",
       " 2.150653330836615,\n",
       " 2.999990225607,\n",
       " 3.1874500354484385,\n",
       " 2.371292967238702,\n",
       " 2.798443296546796,\n",
       " 2.1288900264956454,\n",
       " 3.1377836160157067,\n",
       " 2.9310332733701507,\n",
       " 2.1299626087146866,\n",
       " 4.135043853207782,\n",
       " 1.7265428139012848,\n",
       " 2.1961500363361197,\n",
       " 1.3745630042796442,\n",
       " 0.34391972441230045,\n",
       " 1.1633392391800017,\n",
       " 1.8988697791696032,\n",
       " 2.5405341546808256,\n",
       " 2.254738093438744,\n",
       " 3.500656445599877,\n",
       " 2.3611403084406763,\n",
       " 2.2702498520084964,\n",
       " 1.0662959280276854,\n",
       " 2.7543401128638325,\n",
       " 1.044953327481558,\n",
       " 1.5232138465687342,\n",
       " 2.667991051972849,\n",
       " 1.8490746695536378,\n",
       " 2.313167470617867,\n",
       " 0.3320239176526485,\n",
       " 1.7482503561375542,\n",
       " 2.2644949992904495,\n",
       " 2.803877791925608,\n",
       " 2.405656251149687,\n",
       " 0.7122387268022773,\n",
       " 2.3614960431220684,\n",
       " 1.4348195661491234,\n",
       " 1.3241357235449158,\n",
       " 1.7435353722449063,\n",
       " 2.8837470112507253,\n",
       " 1.3218085535890278,\n",
       " 2.2856856632116145,\n",
       " 2.835412949472655,\n",
       " 2.1046768017653674,\n",
       " 1.5442840920463297,\n",
       " 2.3911314108279518,\n",
       " 1.3793980319863255,\n",
       " 1.5060201852898254,\n",
       " 1.942952788256721,\n",
       " 1.1112082968170016,\n",
       " 0.6783891361469028,\n",
       " 3.0275987995054523,\n",
       " 1.8824542156386266,\n",
       " 1.311926859213126,\n",
       " 2.849267334347911,\n",
       " 2.237141857576037,\n",
       " 2.047591992036683,\n",
       " 2.075876397879105,\n",
       " 1.3355120114463752,\n",
       " 1.0577955858261754,\n",
       " 2.2251491652665636,\n",
       " 2.7252602260300822,\n",
       " 4.0280308124840305,\n",
       " 1.0251386454662847,\n",
       " 1.8575400629477006,\n",
       " 0.5540170547576574,\n",
       " 2.2891718195239537,\n",
       " 2.7619515578310234,\n",
       " 2.8986565565786044,\n",
       " 0.6280509812408244,\n",
       " 1.8000641409659908,\n",
       " -4.1369311732254515,\n",
       " 2.506118877815301,\n",
       " 1.349840578028349,\n",
       " 1.8392167012950695,\n",
       " 1.8253997193956328,\n",
       " 2.7503252632077944,\n",
       " 0.5741282217823498,\n",
       " 3.048228075023991,\n",
       " 2.05189920732957,\n",
       " 1.9296320420020114,\n",
       " 1.7602096055875436,\n",
       " 4.981487531128363,\n",
       " 1.2610543756856958,\n",
       " 2.1940321763726205,\n",
       " 1.1383977692649982,\n",
       " 1.1922177117313135,\n",
       " 1.8243909542527237,\n",
       " 1.0380568950840452,\n",
       " 2.3896054911894087,\n",
       " 1.0332755489379766,\n",
       " 2.2720597777855627,\n",
       " 1.0359992173994708,\n",
       " 2.48648931418556,\n",
       " 0.6970390864153371,\n",
       " 1.9358269601941158,\n",
       " 1.0619333679040484,\n",
       " 1.270792624026498,\n",
       " -1.0551316870164233,\n",
       " 0.1968467578683084,\n",
       " 1.5394605140371527,\n",
       " 1.3318742455301706,\n",
       " 1.081739857366588,\n",
       " 1.5932857659208572,\n",
       " 1.9297139721488683,\n",
       " 3.1719267710845322,\n",
       " 1.6931966559560312,\n",
       " 6.613399229093405,\n",
       " 1.651230753114655,\n",
       " 0.23924090579399304,\n",
       " 1.889508981337756,\n",
       " 1.0923673351597052,\n",
       " 2.594462878896098,\n",
       " 2.339805862134832,\n",
       " 2.097379766053943,\n",
       " 1.8024075352959301,\n",
       " 1.1883695950983773,\n",
       " 1.138019562867821,\n",
       " 25.90984287132596,\n",
       " 1.7579896349376365,\n",
       " -0.589181181724467,\n",
       " 1.1097728477795132,\n",
       " 3.807210788734217,\n",
       " 1.7185697456667053,\n",
       " 2.536410141089399,\n",
       " 2.064498569891062,\n",
       " 1.2879964967789646,\n",
       " 1.4191373278582515,\n",
       " 2.3317859000290824,\n",
       " 2.669546224005032,\n",
       " 1.3897289098997627,\n",
       " 1.610801503529839,\n",
       " 2.102639268070529,\n",
       " 2.752585302896006,\n",
       " 2.230435055521463,\n",
       " 2.054244844465152,\n",
       " 1.0385709524065683,\n",
       " -6.848125078343522,\n",
       " 1.569426356766717,\n",
       " 2.71346735988947,\n",
       " 1.1765619312764415,\n",
       " 2.0453267568323215,\n",
       " 2.402087413128509,\n",
       " 3.834740569559334,\n",
       " 3.301998543379103,\n",
       " 1.7082304235060364,\n",
       " 2.5834851825978475,\n",
       " 2.526613176909139,\n",
       " -0.32381334769698733,\n",
       " 3.0144611446452547,\n",
       " 2.665456517238452,\n",
       " 2.519467026438977,\n",
       " 8.224881100595178,\n",
       " 1.2311626195716985,\n",
       " 3.212067700394174,\n",
       " 1.86000082159628,\n",
       " 1.5861373568532557,\n",
       " 2.7393481739322536,\n",
       " 1.059640696596549,\n",
       " 1.2442305205138453,\n",
       " 1.1505983850442756,\n",
       " 2.6295092294536113,\n",
       " 2.532399649983156,\n",
       " 2.2673485838088148,\n",
       " 1.3039501890368115,\n",
       " 1.92506041716128,\n",
       " 3.0880920967007395,\n",
       " 1.1134014375108034,\n",
       " 3.6611132975851133,\n",
       " 2.0373200876549005,\n",
       " 2.40112552930528,\n",
       " 2.1794367758083935,\n",
       " 3.666589243281398,\n",
       " 1.5682248922762458,\n",
       " 1.3122657257531491,\n",
       " 3.60727123311416,\n",
       " 1.1968468849610252,\n",
       " 3.923866837282696,\n",
       " 2.1348613232213034,\n",
       " 1.0864614639642665,\n",
       " 2.7650739592501323,\n",
       " 2.3773433952281313,\n",
       " 1.531524936097003,\n",
       " 2.1825066142797835,\n",
       " 1.2816241373314963,\n",
       " 3.3725915869256067,\n",
       " 1.6152148615379194,\n",
       " 2.381754441448929,\n",
       " 3.316526198045704,\n",
       " 1.1772247521371633,\n",
       " 2.0204825116651035,\n",
       " 1.1295758939429836,\n",
       " 5.748180326713068,\n",
       " 2.6311380421236237,\n",
       " 3.560674257770655,\n",
       " 30.33666926815455,\n",
       " 2.133751223117789,\n",
       " 0.8501478308175681,\n",
       " 2.2407547459592676,\n",
       " 0.8452524436201629,\n",
       " 39.60695388547059,\n",
       " 1.1760828150098608,\n",
       " 2.1889176515165985,\n",
       " 2.4980935527994115,\n",
       " 1.6101226923255272,\n",
       " 3.9096928980850905,\n",
       " 3.2055592651482367,\n",
       " 2.214253972729006,\n",
       " 1.960092046825157,\n",
       " 1.6891898596461488,\n",
       " 0.8175490449978959,\n",
       " 1.5685370394714027,\n",
       " 3.1836132744247374,\n",
       " 2.9295117005385083,\n",
       " 2.0675739158588646,\n",
       " 3.548755844753466,\n",
       " -2.0642966490959864,\n",
       " 1.4459592113838569,\n",
       " -46.639311267040256,\n",
       " 1.6870930485408597,\n",
       " 1.261813463547562,\n",
       " 0.9960438199730859,\n",
       " 1.7067763987439268,\n",
       " 2.8224786696843234,\n",
       " 2.568150146157638,\n",
       " 1.7800537199212703,\n",
       " 2.0949822540043757,\n",
       " 1.43251169438493,\n",
       " 2.9227212589675235,\n",
       " -0.1597467568684603,\n",
       " 3.0589696461097233,\n",
       " 1.068863781927745,\n",
       " 3.582915425750886,\n",
       " 2.5308472758064844,\n",
       " 2.617725835182341,\n",
       " 2.8848343691419363,\n",
       " 2.1875166089632647,\n",
       " 1.9555233423302787,\n",
       " 2.2153491329285093,\n",
       " 2.622054179224378,\n",
       " 1.773628104870932,\n",
       " 2.1499201725189465,\n",
       " 2.474020083803104,\n",
       " 1.2168013704959855,\n",
       " 3.2182814710152234,\n",
       " 2.368451871248156,\n",
       " 0.6300808641586311,\n",
       " 1.7826926965769692,\n",
       " 1.6258063901487856,\n",
       " 1.0430096346310624,\n",
       " 2.116876627245534,\n",
       " 0.6343298485150476,\n",
       " 0.5404104218567405,\n",
       " 1.2397574154485362,\n",
       " 2.776201180049047,\n",
       " 2.040142377551031,\n",
       " 4.916342068204636,\n",
       " 1.1212894010014367,\n",
       " 3.4136440882449834,\n",
       " 1.3445103760489008,\n",
       " 2.8141950083429403]"
      ]
     },
     "execution_count": 37,
     "metadata": {},
     "output_type": "execute_result"
    }
   ],
   "source": [
    "Q1"
   ]
  },
  {
   "cell_type": "code",
   "execution_count": 38,
   "metadata": {},
   "outputs": [
    {
     "data": {
      "text/plain": [
       "800"
      ]
     },
     "execution_count": 38,
     "metadata": {},
     "output_type": "execute_result"
    }
   ],
   "source": [
    "len(Q1)"
   ]
  },
  {
   "cell_type": "markdown",
   "metadata": {},
   "source": [
    "# Gráficas para líneas KAFFMAN"
   ]
  },
  {
   "cell_type": "code",
   "execution_count": 39,
   "metadata": {},
   "outputs": [
    {
     "data": {
      "text/plain": [
       "Text(0.5,0,'log[Oi]l6300/h_a')"
      ]
     },
     "execution_count": 39,
     "metadata": {},
     "output_type": "execute_result"
    },
    {
     "data": {
      "image/png": "[encoded data removed]",
      "text/plain": [
       "<Figure size 432x288 with 3 Axes>"
      ]
     },
     "metadata": {
      "needs_background": "light"
     },
     "output_type": "display_data"
    }
   ],
   "source": [
    "QQ1 = Q1[0:1000] # altura para la primera gráfica\n",
    "QQ2 = Q2[0:1000] # altura para la segunda gráfica\n",
    "QQ3 = Q3[0:1000] # altura para la tercera gráfica\n",
    "\n",
    "\n",
    "\n",
    "plt.figure()\n",
    "\n",
    "\n",
    "\n",
    "plt.subplot(1,3,1)\n",
    "plt.plot(MM2,MM1, 'x', color=\"Red\")\n",
    "plt.ylabel('log[Oiii] lamda5007/h_betha')\n",
    "plt.xlabel('log[Ni]l6583/h_a')\n",
    "\n",
    "\n",
    "plt.subplot(1,3,2)\n",
    "plt.plot(MM3,MM1, 'x', color=\"Blue\")\n",
    "plt.xlabel('log[Sii]l6716/h_a')\n",
    "\n",
    "plt.subplot(1,3,3)\n",
    "plt.plot(MM4,MM1, 'x', color=\"Green\")\n",
    "plt.xlabel('log[Oi]l6300/h_a')"
   ]
  },
  {
   "cell_type": "code",
   "execution_count": 40,
   "metadata": {},
   "outputs": [
    {
     "data": {
      "text/plain": [
       "Text(0.5,1,'Gráfico a')"
      ]
     },
     "execution_count": 40,
     "metadata": {},
     "output_type": "execute_result"
    },
    {
     "data": {
      "image/png": "[encoded data removed]",
      "text/plain": [
       "<Figure size 432x288 with 1 Axes>"
      ]
     },
     "metadata": {
      "needs_background": "light"
     },
     "output_type": "display_data"
    }
   ],
   "source": [
    "QQ1 = Q1[0:422] # altura para la primera gráfica\n",
    "QQ2 = Q2[0:422] # altura para la segunda gráfica\n",
    "QQ3 = Q3[0:422] # altura para la tercera gráfica\n",
    "\n",
    "MMK1 = M1[0:422]\n",
    "MMK2 = M2[0:422]\n",
    "\n",
    "plt.scatter(MMK2,QQ1, marker=\"o\", color=\"red\")\n",
    "#plt.scatter(QQ1,MMK1, marker=\"o\", color=\"red\")\n",
    "plt.title('Gráfico a')\n",
    "#plt.xlabel('log[Ni] lamda6583/h_alpha')\n",
    "#plt.ylabel('log[Oiii] lamda5007/h_betha')"
   ]
  },
  {
   "cell_type": "code",
   "execution_count": 41,
   "metadata": {},
   "outputs": [
    {
     "data": {
      "text/plain": [
       "422"
      ]
     },
     "execution_count": 41,
     "metadata": {},
     "output_type": "execute_result"
    }
   ],
   "source": [
    "len(QQ2)"
   ]
  },
  {
   "cell_type": "code",
   "execution_count": 42,
   "metadata": {},
   "outputs": [
    {
     "data": {
      "text/plain": [
       "Text(0.5,1,'Gráfico b')"
      ]
     },
     "execution_count": 42,
     "metadata": {},
     "output_type": "execute_result"
    },
    {
     "data": {
      "image/png": "[encoded data removed]",
      "text/plain": [
       "<Figure size 432x288 with 1 Axes>"
      ]
     },
     "metadata": {
      "needs_background": "light"
     },
     "output_type": "display_data"
    }
   ],
   "source": [
    "QQ1 = Q1[0:421] # altura para la primera gráfica\n",
    "QQ2 = Q2[0:421] # altura para la segunda gráfica\n",
    "QQ3 = Q3[0:421] # altura para la tercera gráfica\n",
    "\n",
    "MMKK1 = M1[0:421]\n",
    "MMKK3 = M3[0:421]\n",
    "plt.scatter(MMKK3,QQ2, marker=\"x\", color=\"Blue\")\n",
    "plt.title('Gráfico b')\n",
    "#plt.xlabel('log[Sii] lamda6716.6731/h_alpha')\n",
    "#plt.ylabel('log[Oiii] lamda5007/h_betha')"
   ]
  },
  {
   "cell_type": "code",
   "execution_count": 43,
   "metadata": {},
   "outputs": [
    {
     "data": {
      "text/plain": [
       "Text(0,0.5,'log[Oiii] lamda5007/h_betha')"
      ]
     },
     "execution_count": 43,
     "metadata": {},
     "output_type": "execute_result"
    },
    {
     "data": {
      "image/png": "[encoded data removed]",
      "text/plain": [
       "<Figure size 432x288 with 1 Axes>"
      ]
     },
     "metadata": {
      "needs_background": "light"
     },
     "output_type": "display_data"
    }
   ],
   "source": [
    "QQ1 = Q1[0:421] # altura para la primera gráfica\n",
    "QQ2 = Q2[0:421] # altura para la segunda gráfica\n",
    "QQ3 = Q3[0:421] # altura para la tercera gráfica\n",
    "\n",
    "MMKKK1 = M1[0:421]\n",
    "MMKKK4 = M4[0:421]\n",
    "\n",
    "plt.scatter(MMKKK4,QQ3, marker=\"x\", color=\"Green\")\n",
    "plt.title('Gráfico c')\n",
    "plt.xlabel('log[Oi] lamda6300/h_alpha')\n",
    "plt.ylabel('log[Oiii] lamda5007/h_betha')"
   ]
  },
  {
   "cell_type": "markdown",
   "metadata": {},
   "source": [
    "# Otras gráficas"
   ]
  },
  {
   "cell_type": "markdown",
   "metadata": {},
   "source": [
    "# Datos KAFFMAN para NII"
   ]
  },
  {
   "cell_type": "code",
   "execution_count": 44,
   "metadata": {},
   "outputs": [],
   "source": [
    "# Buscando valores de MM1 menores a 0,61\n",
    "\n",
    "L1menor = []\n",
    "L2menor = []\n",
    "L3menor = []\n",
    "L4menor = []\n",
    "\n",
    "for i in range(len(MM1)):\n",
    "    if MM1[i] < 0.61:\n",
    "        L1menor.append(MM1[i])   # L1 un array que contiene todos los MM1 menores a 0,61\n",
    "        L2menor.append(MM2[i])\n",
    "        L3menor.append(MM3[i])\n",
    "        L4menor.append(MM4[i])\n",
    "        \n",
    "# Primera gráfica\n",
    "# L1 es Y\n",
    "# R1 es X\n",
    "\n",
    "# Ecuación de KAFFMAN para NII\n",
    "R1menor = []\n",
    "\n",
    "for ii in range(len(L2menor)):\n",
    "    R1menor.append((L2menor[ii]-0.05)+ 1.3)\n"
   ]
  },
  {
   "cell_type": "code",
   "execution_count": 45,
   "metadata": {},
   "outputs": [],
   "source": [
    "# Buscando valores de MM1 mayor a 0,61\n",
    "\n",
    "L1mayor = []\n",
    "L2mayor = []\n",
    "L3mayor = []\n",
    "L4mayor = []\n",
    "\n",
    "for i in range(len(MM1)):\n",
    "    if MM1[i] > 0.61:\n",
    "        L1mayor.append(MM1[i])   # L1 un array que contiene todos los MM1 mayores a 0,61\n",
    "        L2mayor.append(MM2[i])\n",
    "        L3mayor.append(MM3[i])\n",
    "        L4mayor.append(MM4[i])\n",
    "        \n",
    "# Primera gráfica\n",
    "# L1 es Y\n",
    "# R1 es X\n",
    "\n",
    "# Ecuación de KAFFMAN para NII\n",
    "R1mayor = []\n",
    "\n",
    "for ii in range(len(L2mayor)):\n",
    "    R1mayor.append((L2mayor[ii]-0.05)+ 1.3)"
   ]
  },
  {
   "cell_type": "code",
   "execution_count": 46,
   "metadata": {},
   "outputs": [
    {
     "data": {
      "text/plain": [
       "Text(0,0.5,'log[Oiii] lamda5007/h_betha')"
      ]
     },
     "execution_count": 46,
     "metadata": {},
     "output_type": "execute_result"
    },
    {
     "data": {
      "image/png": "[encoded data removed]",
      "text/plain": [
       "<Figure size 432x288 with 1 Axes>"
      ]
     },
     "metadata": {
      "needs_background": "light"
     },
     "output_type": "display_data"
    }
   ],
   "source": [
    "# Gráfica 1\n",
    "RR1menor = R1menor[0:323] # Los X de la primera gráfica\n",
    "LY1menor = L1menor[0:323] # Los Y de la primera gráfica \n",
    "RR1mayor = R1mayor[0:323] # Los X de la primera gráfica\n",
    "LY1mayor = L1mayor[0:323] # Los Y de la primera gráfica\n",
    "\n",
    "MR1 = M1[0:1000]\n",
    "MR2 = M2[0:1000]\n",
    "\n",
    "plt.scatter(MR2,MR1, marker=\"o\", color=\"red\")\n",
    "plt.scatter(LY1menor,RR1menor, marker=\"o\", color=\"purple\") \n",
    "plt.scatter(LY1mayor,RR1mayor, marker=\"o\", color=\"cyan\") \n",
    "\n",
    "# Kewley\n",
    "\n",
    "x1 = np.linspace(-3.6,0.469)   # 50 datos \n",
    "y1 = 1.19 + (0.61/(x1-0.47))\n",
    "plt.plot(x1, y1, '--' , color='black',lw=1, label='Kewley' ) \n",
    "plt.xlim(-3.6,3.6)\n",
    "plt.ylim(-3.6,3.6)\n",
    "\n",
    "###########\n",
    "\n",
    "plt.title('Gráfico a')\n",
    "plt.xlabel('log[Ni] lamda6583/h_alpha')\n",
    "plt.ylabel('log[Oiii] lamda5007/h_betha')"
   ]
  },
  {
   "cell_type": "markdown",
   "metadata": {},
   "source": [
    "# Datos KAFFMAN para SII"
   ]
  },
  {
   "cell_type": "code",
   "execution_count": 47,
   "metadata": {},
   "outputs": [],
   "source": [
    "# Buscando valores de MM1 menores a 0,72\n",
    "\n",
    "LLS1 = []\n",
    "LLS2 = []\n",
    "LLS3 = []\n",
    "LLS4 = []\n",
    "\n",
    "for i in range(len(MM3)):\n",
    "    if MM1[i] < 0.72:\n",
    "        LLS1.append(MM1[i])   \n",
    "        LLS2.append(MM2[i])\n",
    "        LLS3.append(MM3[i])\n",
    "        LLS4.append(MM4[i])\n",
    "        \n",
    "# Segunda gráfica\n",
    "# LLS1 es Y\n",
    "# RR1 es X\n",
    "\n",
    "# Ecuación de KAFFMAN para SII\n",
    "\n",
    "RRS1 = []\n",
    "\n",
    "for ii in range(len(LLS3)):\n",
    "    RRS1.append((LLS3[ii]-0.32)+ 1.3)\n"
   ]
  },
  {
   "cell_type": "code",
   "execution_count": 48,
   "metadata": {},
   "outputs": [],
   "source": [
    "# mayores"
   ]
  },
  {
   "cell_type": "code",
   "execution_count": 49,
   "metadata": {},
   "outputs": [],
   "source": [
    "# Buscando valores de MM1 menores a 0,72\n",
    "\n",
    "LLD1 = []\n",
    "LLD2 = []\n",
    "LLD3 = []\n",
    "LLD4 = []\n",
    "\n",
    "for i in range(len(MM1)):\n",
    "    if MM1[i] > 0.72:\n",
    "        LLD1.append(MM1[i])   \n",
    "        LLD2.append(MM2[i])\n",
    "        LLD3.append(MM3[i])\n",
    "        LLD4.append(MM4[i])\n",
    "        \n",
    "# Segunda gráfica\n",
    "# LLD1 es Y\n",
    "# RR2 es X\n",
    "\n",
    "# Ecuación de KAFFMAN para SII\n",
    "\n",
    "RRD1 = []\n",
    "\n",
    "for ii in range(len(LLD3)):\n",
    "    RRD1.append((LLD3[ii]-0.32)+ 1.3)"
   ]
  },
  {
   "cell_type": "code",
   "execution_count": 50,
   "metadata": {},
   "outputs": [
    {
     "data": {
      "text/plain": [
       "Text(0,0.5,'log[Oiii] lamda5007/h_betha')"
      ]
     },
     "execution_count": 50,
     "metadata": {},
     "output_type": "execute_result"
    },
    {
     "data": {
      "image/png": "[encoded data removed]",
      "text/plain": [
       "<Figure size 432x288 with 1 Axes>"
      ]
     },
     "metadata": {
      "needs_background": "light"
     },
     "output_type": "display_data"
    }
   ],
   "source": [
    "# Gráfica 2\n",
    "RRX1menor = RRS1[0:329] # Los X de la primera gráfica\n",
    "LLY1menor = LLS1[0:329] # Los Y de la primera gráfica \n",
    "\n",
    "RRX1mayor = RRD1[0:329] # Los X de la primera gráfica\n",
    "LLY1mayor = LLD1[0:329] # Los Y de la primera gráfica \n",
    "\n",
    "\n",
    "MRR1 = M1[0:1000]\n",
    "MRR3 = M3[0:1000]\n",
    "\n",
    "plt.scatter(LLY1menor,RRX1menor, marker=\"o\", color=\"brown\") \n",
    "plt.scatter(LLY1mayor,RRX1mayor, marker=\"o\", color=\"yellow\") \n",
    "plt.scatter(MRR3,MRR1, marker=\"x\", color=\"Blue\")\n",
    "\n",
    "\n",
    "# Kewley\n",
    "\n",
    "x1 = np.linspace(-3.6,0.469)   # 50 datos \n",
    "y1 = 1.19 + (0.61/(x1-0.47))\n",
    "plt.plot(x1, y1, '--' , color='black',lw=1, label='Kewley' ) \n",
    "plt.xlim(-3.6,3.6)\n",
    "plt.ylim(-3.6,3.6)\n",
    "\n",
    "\n",
    "\n",
    "plt.title('Gráfico b')\n",
    "plt.xlabel('log[Sii] lamda6716.6731/h_alpha')\n",
    "plt.ylabel('log[Oiii] lamda5007/h_betha')"
   ]
  },
  {
   "cell_type": "markdown",
   "metadata": {},
   "source": [
    "# Datos KAFFMAN para OI"
   ]
  },
  {
   "cell_type": "code",
   "execution_count": 51,
   "metadata": {},
   "outputs": [],
   "source": [
    "# Buscando valores de MM1 menores a 0,73\n",
    "\n",
    "LLLS1 = []\n",
    "LLLS2 = []\n",
    "LLLS3 = []\n",
    "LLLS4 = []\n",
    "\n",
    "for i in range(len(MM1)):\n",
    "    if MM1[i] < 0.73:\n",
    "        LLLS1.append(MM1[i])  \n",
    "        LLLS2.append(MM2[i])\n",
    "        LLLS3.append(MM3[i])\n",
    "        LLLS4.append(MM4[i])\n",
    "        \n",
    "# Tercera gráfica\n",
    "# LLLS1 es Y\n",
    "# RRRS1 es X\n",
    "\n",
    "# Ecuación de KAFFMAN para NII\n",
    "RRRS1 = []\n",
    "\n",
    "for ii in range(len(LLL4)):\n",
    "    RRRS1.append((LLL4[ii]+0.59)+ 1.33)"
   ]
  },
  {
   "cell_type": "code",
   "execution_count": 52,
   "metadata": {},
   "outputs": [],
   "source": [
    "# Buscando valores de MM1 menores a 0,73\n",
    "\n",
    "LLLD1 = []\n",
    "LLLD2 = []\n",
    "LLLD3 = []\n",
    "LLLD4 = []\n",
    "\n",
    "for i in range(len(MM1)):\n",
    "    if MM1[i] > 0.73:\n",
    "        LLLD1.append(MM1[i])   \n",
    "        LLLD2.append(MM2[i])\n",
    "        LLLD3.append(MM3[i])\n",
    "        LLLD4.append(MM4[i])\n",
    "        \n",
    "# Tercera gráfica\n",
    "# LLLD1 es Y\n",
    "# RRRD1 es X\n",
    "\n",
    "# Ecuación de KAFFMAN para NII\n",
    "RRRD1 = []\n",
    "\n",
    "for ii in range(len(LLL4)):\n",
    "    RRRD1.append((LLL4[ii]+0.59)+ 1.33)"
   ]
  },
  {
   "cell_type": "code",
   "execution_count": null,
   "metadata": {},
   "outputs": [],
   "source": []
  },
  {
   "cell_type": "code",
   "execution_count": 53,
   "metadata": {},
   "outputs": [
    {
     "data": {
      "text/plain": [
       "Text(0,0.5,'log[Oiii] lamda5007/h_betha')"
      ]
     },
     "execution_count": 53,
     "metadata": {},
     "output_type": "execute_result"
    },
    {
     "data": {
      "image/png": "[encoded data removed]",
      "text/plain": [
       "<Figure size 432x288 with 1 Axes>"
      ]
     },
     "metadata": {
      "needs_background": "light"
     },
     "output_type": "display_data"
    }
   ],
   "source": [
    "# Gráfico 3\n",
    "\n",
    "RRRX1menor = RRRS1[0:329] # Los X de la primera gráfica\n",
    "LLLY1menor = LLLS1[0:329] # Los Y de la primera gráfica \n",
    "\n",
    "RRRX1mayor = RRRD1[0:102] # Los X de la primera gráfica\n",
    "LLLY1mayor = LLLD1[0:102] # Los Y de la primera gráfica \n",
    "\n",
    "\n",
    "MRRR1 = M1[0:1000]\n",
    "MRRR4 = M4[0:1000]\n",
    "\n",
    "\n",
    "plt.scatter(LLLY1menor,RRRX1menor, marker=\"o\", color=\"gray\") \n",
    "plt.scatter(LLLY1mayor,RRRX1mayor, marker=\"o\", color=\"cyan\") \n",
    "plt.scatter(MRRR4,MRRR1, marker=\"x\", color=\"Green\")\n",
    "\n",
    "\n",
    "# Kewley\n",
    "\n",
    "x1 = np.linspace(-3.6,0.469)   # 50 datos \n",
    "y1 = 1.19 + (0.61/(x1-0.47))\n",
    "plt.plot(x1, y1, '--' , color='black',lw=1, label='Kewley' ) \n",
    "plt.xlim(-3.6,3.6)\n",
    "plt.ylim(-3.6,3.6)\n",
    "\n",
    "\n",
    "plt.title('Gráfico c')\n",
    "plt.xlabel('log[Oi] lamda6300/h_alpha')\n",
    "plt.ylabel('log[Oiii] lamda5007/h_betha')"
   ]
  }
 ],
 "metadata": {
  "colab": {
   "name": "Graficas1.ipynb",
   "provenance": []
  },
  "kernelspec": {
   "display_name": "Python 3",
   "language": "python",
   "name": "python3"
  },
  "language_info": {
   "codemirror_mode": {
    "name": "ipython",
    "version": 3
   },
   "file_extension": ".py",
   "mimetype": "text/x-python",
   "name": "python",
   "nbconvert_exporter": "python",
   "pygments_lexer": "ipython3",
   "version": "3.7.0"
  }
 },
 "nbformat": 4,
 "nbformat_minor": 1
}
