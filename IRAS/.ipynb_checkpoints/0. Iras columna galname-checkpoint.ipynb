{
 "cells": [
  {
   "cell_type": "code",
   "execution_count": 1,
   "id": "63365f2a",
   "metadata": {},
   "outputs": [],
   "source": [
    "from datetime import date\n",
    "import time\n",
    "import pyvo\n",
    "import numpy as np\n",
    "import pandas as pd\n",
    "import astropy.units as u\n",
    "from astropy.table import Table\n",
    "from astropy.table import hstack\n",
    "from astropy.coordinates import SkyCoord\n",
    "from matplotlib import pyplot as plt"
   ]
  },
  {
   "cell_type": "code",
   "execution_count": 2,
   "id": "ebcc99f1",
   "metadata": {},
   "outputs": [],
   "source": [
    "service = pyvo.dal.TAPService ('https://irsa.ipac.caltech.edu/TAP')\n",
    "result = service.run_async(\"\"\"\n",
    "            SELECT\n",
    "            galname,\n",
    "            ra,\n",
    "            dec,\n",
    "            fnu_12,\n",
    "            fnu_25,\n",
    "            fnu_60,\n",
    "            fnu_100,\n",
    "            rat_12_25,\n",
    "            rat_25_60,\n",
    "            rat_60_100\n",
    "            \n",
    "            FROM irasgal\n",
    "            ORDER BY galname ASC\"\"\")\n",
    "table = result.to_table()"
   ]
  },
  {
   "cell_type": "code",
   "execution_count": 4,
   "id": "04ba4b1f",
   "metadata": {},
   "outputs": [
    {
     "data": {
      "text/plain": [
       "astropy.table.table.Table"
      ]
     },
     "execution_count": 4,
     "metadata": {},
     "output_type": "execute_result"
    }
   ],
   "source": [
    "type(table)"
   ]
  },
  {
   "cell_type": "code",
   "execution_count": null,
   "id": "e35bc7a6",
   "metadata": {},
   "outputs": [],
   "source": [
    "table"
   ]
  },
  {
   "cell_type": "code",
   "execution_count": null,
   "id": "164b377a",
   "metadata": {},
   "outputs": [],
   "source": []
  },
  {
   "cell_type": "code",
   "execution_count": null,
   "id": "82733530",
   "metadata": {},
   "outputs": [],
   "source": []
  }
 ],
 "metadata": {
  "kernelspec": {
   "display_name": "Python 3 (ipykernel)",
   "language": "python",
   "name": "python3"
  },
  "language_info": {
   "codemirror_mode": {
    "name": "ipython",
    "version": 3
   },
   "file_extension": ".py",
   "mimetype": "text/x-python",
   "name": "python",
   "nbconvert_exporter": "python",
   "pygments_lexer": "ipython3",
   "version": "3.9.7"
  }
 },
 "nbformat": 4,
 "nbformat_minor": 5
}
