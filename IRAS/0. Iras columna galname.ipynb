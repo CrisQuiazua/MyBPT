{
 "cells": [
  {
   "cell_type": "code",
   "execution_count": 1,
   "id": "63365f2a",
   "metadata": {},
   "outputs": [],
   "source": [
    "from datetime import date\n",
    "import time\n",
    "import pyvo\n",
    "import numpy as np\n",
    "import pandas as pd\n",
    "import astropy.units as u\n",
    "from astropy.table import Table\n",
    "from astropy.table import hstack\n",
    "from astropy.coordinates import SkyCoord\n",
    "from matplotlib import pyplot as plt"
   ]
  },
  {
   "cell_type": "code",
   "execution_count": 2,
   "id": "ebcc99f1",
   "metadata": {},
   "outputs": [],
   "source": [
    "service = pyvo.dal.TAPService ('https://irsa.ipac.caltech.edu/TAP')\n",
    "result = service.run_async(\"\"\"\n",
    "            SELECT\n",
    "            galname,\n",
    "            ra,\n",
    "            dec,\n",
    "            fnu_12,\n",
    "            fnu_25,\n",
    "            fnu_60,\n",
    "            fnu_100,\n",
    "            rat_12_25,\n",
    "            rat_25_60,\n",
    "            rat_60_100\n",
    "            \n",
    "            FROM irasgal\n",
    "            ORDER BY galname ASC\"\"\")\n",
    "table = result.to_table()"
   ]
  },
  {
   "cell_type": "code",
   "execution_count": 3,
   "id": "04ba4b1f",
   "metadata": {},
   "outputs": [
    {
     "data": {
      "text/plain": [
       "astropy.table.table.Table"
      ]
     },
     "execution_count": 3,
     "metadata": {},
     "output_type": "execute_result"
    }
   ],
   "source": [
    "type(table)"
   ]
  },
  {
   "cell_type": "code",
   "execution_count": 4,
   "id": "e35bc7a6",
   "metadata": {},
   "outputs": [
    {
     "data": {
      "text/html": [
       "<div><i>Table length=11444</i>\n",
       "<table id=\"table2248604988464\" class=\"table-striped table-bordered table-condensed\">\n",
       "<thead><tr><th>galname</th><th>ra</th><th>dec</th><th>fnu_12</th><th>fnu_25</th><th>fnu_60</th><th>fnu_100</th><th>rat_12_25</th><th>rat_25_60</th><th>rat_60_100</th></tr></thead>\n",
       "<thead><tr><th></th><th>degrees</th><th>degrees</th><th>Jy</th><th>Jy</th><th>Jy</th><th>Jy</th><th></th><th></th><th></th></tr></thead>\n",
       "<thead><tr><th>object</th><th>float32</th><th>float32</th><th>float32</th><th>float32</th><th>float32</th><th>float32</th><th>float32</th><th>float32</th><th>float32</th></tr></thead>\n",
       "<tr><td>00000-0359</td><td>0.6448</td><td>-3.7105</td><td>0.25</td><td>0.33</td><td>1.21</td><td>2.49</td><td>0.7576</td><td>0.2727</td><td>0.4859</td></tr>\n",
       "<tr><td>00001+0827</td><td>0.6663</td><td>8.7373</td><td>0.25</td><td>0.28</td><td>0.70</td><td>1.19</td><td>0.8929</td><td>0.4000</td><td>0.5882</td></tr>\n",
       "<tr><td>00003+0313</td><td>0.7196</td><td>3.5042</td><td>0.25</td><td>0.32</td><td>0.52</td><td>1.12</td><td>0.7812</td><td>0.6154</td><td>0.4643</td></tr>\n",
       "<tr><td>00003-3431</td><td>0.7281</td><td>-34.2385</td><td>1.06</td><td>0.25</td><td>0.80</td><td>2.57</td><td>4.2400</td><td>0.3125</td><td>0.3113</td></tr>\n",
       "<tr><td>00005+2140</td><td>0.7878</td><td>21.9597</td><td>0.25</td><td>1.05</td><td>4.25</td><td>4.51</td><td>0.2381</td><td>0.2471</td><td>0.9424</td></tr>\n",
       "<tr><td>00005-0211</td><td>0.7727</td><td>-1.9155</td><td>0.25</td><td>0.56</td><td>0.88</td><td>2.60</td><td>0.4464</td><td>0.6364</td><td>0.3385</td></tr>\n",
       "<tr><td>00007+0320</td><td>0.8188</td><td>3.6212</td><td>0.25</td><td>0.29</td><td>0.58</td><td>1.68</td><td>0.8621</td><td>0.5000</td><td>0.3452</td></tr>\n",
       "<tr><td>00007+0820</td><td>0.8386</td><td>8.6131</td><td>0.69</td><td>0.62</td><td>0.54</td><td>1.23</td><td>1.1129</td><td>1.1481</td><td>0.4390</td></tr>\n",
       "<tr><td>00008+0526</td><td>0.8543</td><td>5.7137</td><td>0.25</td><td>0.91</td><td>0.59</td><td>1.83</td><td>0.2747</td><td>1.5424</td><td>0.3224</td></tr>\n",
       "<tr><td>...</td><td>...</td><td>...</td><td>...</td><td>...</td><td>...</td><td>...</td><td>...</td><td>...</td><td>...</td></tr>\n",
       "<tr><td>23579+2602</td><td>0.1311</td><td>26.3236</td><td>0.42</td><td>0.25</td><td>1.07</td><td>2.14</td><td>1.6800</td><td>0.2336</td><td>0.5000</td></tr>\n",
       "<tr><td>23579+3230</td><td>0.1238</td><td>32.7850</td><td>0.25</td><td>0.25</td><td>0.67</td><td>0.91</td><td>1.0000</td><td>0.3731</td><td>0.7363</td></tr>\n",
       "<tr><td>23587+1249</td><td>0.3349</td><td>13.1109</td><td>0.25</td><td>0.36</td><td>2.10</td><td>4.33</td><td>0.6944</td><td>0.1714</td><td>0.4850</td></tr>\n",
       "<tr><td>23589+1104</td><td>0.3757</td><td>11.3453</td><td>0.25</td><td>0.40</td><td>0.87</td><td>1.86</td><td>0.6250</td><td>0.4598</td><td>0.4677</td></tr>\n",
       "<tr><td>23590+3316</td><td>0.4001</td><td>33.5611</td><td>0.41</td><td>0.45</td><td>0.47</td><td>1.16</td><td>0.9111</td><td>0.9574</td><td>0.4052</td></tr>\n",
       "<tr><td>23591+2312</td><td>0.4234</td><td>23.4945</td><td>0.38</td><td>0.67</td><td>5.47</td><td>14.29</td><td>0.5672</td><td>0.1225</td><td>0.3828</td></tr>\n",
       "<tr><td>23594+3622</td><td>0.4926</td><td>36.6495</td><td>0.25</td><td>0.37</td><td>5.00</td><td>5.72</td><td>0.6757</td><td>0.0740</td><td>0.8741</td></tr>\n",
       "<tr><td>23594-3344</td><td>0.5101</td><td>-33.4696</td><td>0.25</td><td>0.34</td><td>0.92</td><td>1.99</td><td>0.7353</td><td>0.3696</td><td>0.4623</td></tr>\n",
       "<tr><td>23596+0239</td><td>0.5424</td><td>2.9428</td><td>0.25</td><td>0.31</td><td>1.73</td><td>3.18</td><td>0.8065</td><td>0.1792</td><td>0.5440</td></tr>\n",
       "<tr><td>23597+1241</td><td>0.5789</td><td>12.9712</td><td>0.25</td><td>0.44</td><td>3.29</td><td>7.12</td><td>0.5682</td><td>0.1337</td><td>0.4621</td></tr>\n",
       "</table></div>"
      ],
      "text/plain": [
       "<Table length=11444>\n",
       " galname      ra      dec     fnu_12 ... fnu_100 rat_12_25 rat_25_60 rat_60_100\n",
       "           degrees  degrees     Jy   ...    Jy                                 \n",
       "  object   float32  float32  float32 ... float32  float32   float32   float32  \n",
       "---------- -------- -------- ------- ... ------- --------- --------- ----------\n",
       "00000-0359   0.6448  -3.7105    0.25 ...    2.49    0.7576    0.2727     0.4859\n",
       "00001+0827   0.6663   8.7373    0.25 ...    1.19    0.8929    0.4000     0.5882\n",
       "00003+0313   0.7196   3.5042    0.25 ...    1.12    0.7812    0.6154     0.4643\n",
       "00003-3431   0.7281 -34.2385    1.06 ...    2.57    4.2400    0.3125     0.3113\n",
       "00005+2140   0.7878  21.9597    0.25 ...    4.51    0.2381    0.2471     0.9424\n",
       "00005-0211   0.7727  -1.9155    0.25 ...    2.60    0.4464    0.6364     0.3385\n",
       "00007+0320   0.8188   3.6212    0.25 ...    1.68    0.8621    0.5000     0.3452\n",
       "00007+0820   0.8386   8.6131    0.69 ...    1.23    1.1129    1.1481     0.4390\n",
       "00008+0526   0.8543   5.7137    0.25 ...    1.83    0.2747    1.5424     0.3224\n",
       "       ...      ...      ...     ... ...     ...       ...       ...        ...\n",
       "23579+2602   0.1311  26.3236    0.42 ...    2.14    1.6800    0.2336     0.5000\n",
       "23579+3230   0.1238  32.7850    0.25 ...    0.91    1.0000    0.3731     0.7363\n",
       "23587+1249   0.3349  13.1109    0.25 ...    4.33    0.6944    0.1714     0.4850\n",
       "23589+1104   0.3757  11.3453    0.25 ...    1.86    0.6250    0.4598     0.4677\n",
       "23590+3316   0.4001  33.5611    0.41 ...    1.16    0.9111    0.9574     0.4052\n",
       "23591+2312   0.4234  23.4945    0.38 ...   14.29    0.5672    0.1225     0.3828\n",
       "23594+3622   0.4926  36.6495    0.25 ...    5.72    0.6757    0.0740     0.8741\n",
       "23594-3344   0.5101 -33.4696    0.25 ...    1.99    0.7353    0.3696     0.4623\n",
       "23596+0239   0.5424   2.9428    0.25 ...    3.18    0.8065    0.1792     0.5440\n",
       "23597+1241   0.5789  12.9712    0.25 ...    7.12    0.5682    0.1337     0.4621"
      ]
     },
     "execution_count": 4,
     "metadata": {},
     "output_type": "execute_result"
    }
   ],
   "source": [
    "table"
   ]
  },
  {
   "cell_type": "code",
   "execution_count": 5,
   "id": "164b377a",
   "metadata": {},
   "outputs": [],
   "source": [
    "columna_galname = table['galname']"
   ]
  },
  {
   "cell_type": "code",
   "execution_count": 6,
   "id": "82733530",
   "metadata": {},
   "outputs": [
    {
     "data": {
      "text/html": [
       "&lt;MaskedColumn name=&apos;galname&apos; dtype=&apos;object&apos; description=&apos;Source name&apos; length=11444&gt;\n",
       "<table>\n",
       "<tr><td>00000-0359</td></tr>\n",
       "<tr><td>00001+0827</td></tr>\n",
       "<tr><td>00003+0313</td></tr>\n",
       "<tr><td>00003-3431</td></tr>\n",
       "<tr><td>00005+2140</td></tr>\n",
       "<tr><td>00005-0211</td></tr>\n",
       "<tr><td>00007+0320</td></tr>\n",
       "<tr><td>00007+0820</td></tr>\n",
       "<tr><td>00008+0526</td></tr>\n",
       "<tr><td>00009-1101</td></tr>\n",
       "<tr><td>00010+2255</td></tr>\n",
       "<tr><td>00012+0712</td></tr>\n",
       "<tr><td>...</td></tr>\n",
       "<tr><td>23576+0050</td></tr>\n",
       "<tr><td>23577-8104</td></tr>\n",
       "<tr><td>23579+2602</td></tr>\n",
       "<tr><td>23579+3230</td></tr>\n",
       "<tr><td>23587+1249</td></tr>\n",
       "<tr><td>23589+1104</td></tr>\n",
       "<tr><td>23590+3316</td></tr>\n",
       "<tr><td>23591+2312</td></tr>\n",
       "<tr><td>23594+3622</td></tr>\n",
       "<tr><td>23594-3344</td></tr>\n",
       "<tr><td>23596+0239</td></tr>\n",
       "<tr><td>23597+1241</td></tr>\n",
       "</table>"
      ],
      "text/plain": [
       "<MaskedColumn name='galname' dtype='object' description='Source name' length=11444>\n",
       "00000-0359\n",
       "00001+0827\n",
       "00003+0313\n",
       "00003-3431\n",
       "00005+2140\n",
       "00005-0211\n",
       "00007+0320\n",
       "00007+0820\n",
       "00008+0526\n",
       "00009-1101\n",
       "00010+2255\n",
       "00012+0712\n",
       "       ...\n",
       "23576+0050\n",
       "23577-8104\n",
       "23579+2602\n",
       "23579+3230\n",
       "23587+1249\n",
       "23589+1104\n",
       "23590+3316\n",
       "23591+2312\n",
       "23594+3622\n",
       "23594-3344\n",
       "23596+0239\n",
       "23597+1241"
      ]
     },
     "execution_count": 6,
     "metadata": {},
     "output_type": "execute_result"
    }
   ],
   "source": [
    "columna_galname"
   ]
  },
  {
   "cell_type": "code",
   "execution_count": 7,
   "id": "0ee6951e",
   "metadata": {},
   "outputs": [],
   "source": [
    "# Convertir la columna en un array NumPy\n",
    "datos_galname = columna_galname.data"
   ]
  },
  {
   "cell_type": "code",
   "execution_count": 8,
   "id": "6318d725",
   "metadata": {},
   "outputs": [],
   "source": [
    "# Obtener los valores duplicados\n",
    "valores_duplicados = np.unique(datos_galname, return_counts=True)\n",
    "valores_duplicados = valores_duplicados[0][valores_duplicados[1] > 1]"
   ]
  },
  {
   "cell_type": "code",
   "execution_count": 9,
   "id": "6e695f27",
   "metadata": {},
   "outputs": [
    {
     "data": {
      "text/plain": [
       "masked_array(data=[],\n",
       "             mask=[],\n",
       "       fill_value='?',\n",
       "            dtype=object)"
      ]
     },
     "execution_count": 9,
     "metadata": {},
     "output_type": "execute_result"
    }
   ],
   "source": [
    "valores_duplicados"
   ]
  },
  {
   "cell_type": "code",
   "execution_count": 10,
   "id": "d182a065",
   "metadata": {},
   "outputs": [
    {
     "name": "stdout",
     "output_type": "stream",
     "text": [
      "Valores duplicados en la columna 'galname':\n",
      "[]\n"
     ]
    }
   ],
   "source": [
    "# Imprimir los valores duplicados\n",
    "print(\"Valores duplicados en la columna 'galname':\")\n",
    "print(valores_duplicados)"
   ]
  },
  {
   "cell_type": "code",
   "execution_count": null,
   "id": "866259f4",
   "metadata": {},
   "outputs": [],
   "source": []
  }
 ],
 "metadata": {
  "kernelspec": {
   "display_name": "Python 3 (ipykernel)",
   "language": "python",
   "name": "python3"
  },
  "language_info": {
   "codemirror_mode": {
    "name": "ipython",
    "version": 3
   },
   "file_extension": ".py",
   "mimetype": "text/x-python",
   "name": "python",
   "nbconvert_exporter": "python",
   "pygments_lexer": "ipython3",
   "version": "3.9.7"
  }
 },
 "nbformat": 4,
 "nbformat_minor": 5
}
