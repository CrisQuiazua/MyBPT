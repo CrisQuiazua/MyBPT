{
 "cells": [
  {
   "cell_type": "markdown",
   "id": "de4cfdd7",
   "metadata": {},
   "source": [
    "Objetivo:\n",
    "\n",
    "Realizar Hierarchical Clustering 2D: Para SII.  \n",
    "clusters=3.    \n",
    "\n",
    "* 0. Traer Datos Pre-etiqDeBase: Con 1269 Observaciones en Visual e infrarrojo. \n",
    "* 1. Hacer Hierarchical Clustering para X = 'Ejex_SH', 'Ejey_OHB'.\n",
    "* 2. Medición de exactitud del Método. \n",
    "* 3. Medición de exactitud con una muestra de Pre-etiquetas (12.45% Pre-etiquetadas - 158 galaxias).\n",
    "* 4. Realizar gráfica."
   ]
  },
  {
   "cell_type": "markdown",
   "id": "a7176119",
   "metadata": {},
   "source": [
    "## 0. Datos:"
   ]
  },
  {
   "cell_type": "code",
   "execution_count": 1,
   "id": "324e488a",
   "metadata": {},
   "outputs": [],
   "source": [
    "import numpy as np\n",
    "import pandas as pd\n",
    "import time\n",
    "from datetime import date\n",
    "import warnings\n",
    "warnings.filterwarnings \n",
    "import astropy.units as u\n",
    "from astropy.table import Table\n",
    "from astroquery.sdss import SDSS\n",
    "from array import array\n",
    "from sklearn.cluster import KMeans\n",
    "from sklearn.metrics import silhouette_score\n",
    "import seaborn as sns\n",
    "import matplotlib.pyplot as plt\n",
    "from sklearn.cluster import AgglomerativeClustering\n",
    "from sklearn.preprocessing import StandardScaler"
   ]
  },
  {
   "cell_type": "code",
   "execution_count": 2,
   "id": "f6ec5762",
   "metadata": {},
   "outputs": [],
   "source": [
    "FusionData = pd.read_csv('C:/Users/Cristina Quiazúa M/Desktop/MyBPT/Results/3. Paquete de ML/Mydata.csv')"
   ]
  },
  {
   "cell_type": "code",
   "execution_count": 3,
   "id": "2a26afd3",
   "metadata": {},
   "outputs": [
    {
     "data": {
      "text/html": [
       "<div>\n",
       "<style scoped>\n",
       "    .dataframe tbody tr th:only-of-type {\n",
       "        vertical-align: middle;\n",
       "    }\n",
       "\n",
       "    .dataframe tbody tr th {\n",
       "        vertical-align: top;\n",
       "    }\n",
       "\n",
       "    .dataframe thead th {\n",
       "        text-align: right;\n",
       "    }\n",
       "</style>\n",
       "<table border=\"1\" class=\"dataframe\">\n",
       "  <thead>\n",
       "    <tr style=\"text-align: right;\">\n",
       "      <th></th>\n",
       "      <th>ra_sdss</th>\n",
       "      <th>dec_sdss</th>\n",
       "      <th>ra_iras</th>\n",
       "      <th>dec_iras</th>\n",
       "      <th>specobjid</th>\n",
       "      <th>z</th>\n",
       "      <th>h_alpha_flux</th>\n",
       "      <th>h_beta_flux</th>\n",
       "      <th>oiii_5007_flux</th>\n",
       "      <th>nii_6548_flux</th>\n",
       "      <th>...</th>\n",
       "      <th>fnu_100</th>\n",
       "      <th>rat_12_25</th>\n",
       "      <th>rat_25_60</th>\n",
       "      <th>rat_60_100</th>\n",
       "      <th>Ejey_OHb</th>\n",
       "      <th>Ejex_NH</th>\n",
       "      <th>Ejex_SH</th>\n",
       "      <th>Ejex_OH</th>\n",
       "      <th>Log_12_25</th>\n",
       "      <th>EtiqRef</th>\n",
       "    </tr>\n",
       "  </thead>\n",
       "  <tbody>\n",
       "    <tr>\n",
       "      <th>0</th>\n",
       "      <td>145.51241</td>\n",
       "      <td>0.339171</td>\n",
       "      <td>145.51395</td>\n",
       "      <td>0.337522</td>\n",
       "      <td>299595780317014016</td>\n",
       "      <td>0.006379</td>\n",
       "      <td>153.8173</td>\n",
       "      <td>35.59267</td>\n",
       "      <td>3.656026</td>\n",
       "      <td>13.19764</td>\n",
       "      <td>...</td>\n",
       "      <td>15.08</td>\n",
       "      <td>0.700000</td>\n",
       "      <td>0.096899</td>\n",
       "      <td>0.342175</td>\n",
       "      <td>-2.275763</td>\n",
       "      <td>-1.065383</td>\n",
       "      <td>-1.694790</td>\n",
       "      <td>-5.024607</td>\n",
       "      <td>-0.356675</td>\n",
       "      <td>NaN</td>\n",
       "    </tr>\n",
       "    <tr>\n",
       "      <th>1</th>\n",
       "      <td>167.23240</td>\n",
       "      <td>0.444804</td>\n",
       "      <td>167.23460</td>\n",
       "      <td>0.444661</td>\n",
       "      <td>313129123717343232</td>\n",
       "      <td>0.012902</td>\n",
       "      <td>10285.9400</td>\n",
       "      <td>3250.79100</td>\n",
       "      <td>6074.062000</td>\n",
       "      <td>578.00410</td>\n",
       "      <td>...</td>\n",
       "      <td>1.01</td>\n",
       "      <td>1.555556</td>\n",
       "      <td>0.329268</td>\n",
       "      <td>0.811881</td>\n",
       "      <td>0.625129</td>\n",
       "      <td>-1.488608</td>\n",
       "      <td>-1.481473</td>\n",
       "      <td>-4.039606</td>\n",
       "      <td>0.441833</td>\n",
       "      <td>NaN</td>\n",
       "    </tr>\n",
       "    <tr>\n",
       "      <th>2</th>\n",
       "      <td>169.70646</td>\n",
       "      <td>0.619308</td>\n",
       "      <td>169.70757</td>\n",
       "      <td>0.617749</td>\n",
       "      <td>314283887213701120</td>\n",
       "      <td>0.025391</td>\n",
       "      <td>528.2295</td>\n",
       "      <td>139.90980</td>\n",
       "      <td>34.019120</td>\n",
       "      <td>62.50361</td>\n",
       "      <td>...</td>\n",
       "      <td>1.79</td>\n",
       "      <td>0.500000</td>\n",
       "      <td>0.666667</td>\n",
       "      <td>0.418994</td>\n",
       "      <td>-1.414075</td>\n",
       "      <td>-0.743963</td>\n",
       "      <td>-1.261980</td>\n",
       "      <td>-3.489259</td>\n",
       "      <td>-0.693147</td>\n",
       "      <td>NaN</td>\n",
       "    </tr>\n",
       "    <tr>\n",
       "      <th>3</th>\n",
       "      <td>170.82587</td>\n",
       "      <td>-0.922475</td>\n",
       "      <td>170.82668</td>\n",
       "      <td>-0.921258</td>\n",
       "      <td>315274540949202944</td>\n",
       "      <td>0.008394</td>\n",
       "      <td>998.6539</td>\n",
       "      <td>263.62670</td>\n",
       "      <td>358.444700</td>\n",
       "      <td>54.00912</td>\n",
       "      <td>...</td>\n",
       "      <td>2.83</td>\n",
       "      <td>0.591837</td>\n",
       "      <td>0.401639</td>\n",
       "      <td>0.431095</td>\n",
       "      <td>0.307240</td>\n",
       "      <td>-1.526911</td>\n",
       "      <td>-1.179064</td>\n",
       "      <td>-3.498782</td>\n",
       "      <td>-0.524524</td>\n",
       "      <td>NaN</td>\n",
       "    </tr>\n",
       "    <tr>\n",
       "      <th>4</th>\n",
       "      <td>169.38707</td>\n",
       "      <td>-0.187502</td>\n",
       "      <td>169.38559</td>\n",
       "      <td>-0.186404</td>\n",
       "      <td>315334739210823680</td>\n",
       "      <td>0.040338</td>\n",
       "      <td>520.6220</td>\n",
       "      <td>74.79313</td>\n",
       "      <td>28.152840</td>\n",
       "      <td>74.78139</td>\n",
       "      <td>...</td>\n",
       "      <td>2.10</td>\n",
       "      <td>0.813953</td>\n",
       "      <td>0.632353</td>\n",
       "      <td>0.323810</td>\n",
       "      <td>-0.977078</td>\n",
       "      <td>-0.550111</td>\n",
       "      <td>-1.223666</td>\n",
       "      <td>-2.962311</td>\n",
       "      <td>-0.205852</td>\n",
       "      <td>Infrarroja</td>\n",
       "    </tr>\n",
       "  </tbody>\n",
       "</table>\n",
       "<p>5 rows × 30 columns</p>\n",
       "</div>"
      ],
      "text/plain": [
       "     ra_sdss  dec_sdss    ra_iras  dec_iras           specobjid         z  \\\n",
       "0  145.51241  0.339171  145.51395  0.337522  299595780317014016  0.006379   \n",
       "1  167.23240  0.444804  167.23460  0.444661  313129123717343232  0.012902   \n",
       "2  169.70646  0.619308  169.70757  0.617749  314283887213701120  0.025391   \n",
       "3  170.82587 -0.922475  170.82668 -0.921258  315274540949202944  0.008394   \n",
       "4  169.38707 -0.187502  169.38559 -0.186404  315334739210823680  0.040338   \n",
       "\n",
       "   h_alpha_flux  h_beta_flux  oiii_5007_flux  nii_6548_flux  ...  fnu_100  \\\n",
       "0      153.8173     35.59267        3.656026       13.19764  ...    15.08   \n",
       "1    10285.9400   3250.79100     6074.062000      578.00410  ...     1.01   \n",
       "2      528.2295    139.90980       34.019120       62.50361  ...     1.79   \n",
       "3      998.6539    263.62670      358.444700       54.00912  ...     2.83   \n",
       "4      520.6220     74.79313       28.152840       74.78139  ...     2.10   \n",
       "\n",
       "   rat_12_25  rat_25_60  rat_60_100  Ejey_OHb   Ejex_NH   Ejex_SH   Ejex_OH  \\\n",
       "0   0.700000   0.096899    0.342175 -2.275763 -1.065383 -1.694790 -5.024607   \n",
       "1   1.555556   0.329268    0.811881  0.625129 -1.488608 -1.481473 -4.039606   \n",
       "2   0.500000   0.666667    0.418994 -1.414075 -0.743963 -1.261980 -3.489259   \n",
       "3   0.591837   0.401639    0.431095  0.307240 -1.526911 -1.179064 -3.498782   \n",
       "4   0.813953   0.632353    0.323810 -0.977078 -0.550111 -1.223666 -2.962311   \n",
       "\n",
       "   Log_12_25     EtiqRef  \n",
       "0  -0.356675         NaN  \n",
       "1   0.441833         NaN  \n",
       "2  -0.693147         NaN  \n",
       "3  -0.524524         NaN  \n",
       "4  -0.205852  Infrarroja  \n",
       "\n",
       "[5 rows x 30 columns]"
      ]
     },
     "execution_count": 3,
     "metadata": {},
     "output_type": "execute_result"
    }
   ],
   "source": [
    "FusionData[0:5]"
   ]
  },
  {
   "cell_type": "code",
   "execution_count": 4,
   "id": "56f4c721",
   "metadata": {},
   "outputs": [
    {
     "data": {
      "text/plain": [
       "pandas.core.frame.DataFrame"
      ]
     },
     "execution_count": 4,
     "metadata": {},
     "output_type": "execute_result"
    }
   ],
   "source": [
    "type(FusionData)# Debe estar en: pandas.core.frame.DataFrame"
   ]
  },
  {
   "cell_type": "markdown",
   "id": "2f3f0162",
   "metadata": {},
   "source": [
    "## 1. Hacer K-Means para X = 'Ejex_SH', 'Ejey_OHb'."
   ]
  },
  {
   "cell_type": "code",
   "execution_count": 5,
   "id": "7df2caba",
   "metadata": {},
   "outputs": [],
   "source": [
    "columns_of_interest = ['Ejex_SH', 'Ejey_OHb']\n",
    "data = FusionData[columns_of_interest]\n",
    "\n",
    "# Escalar los datos para asegurarse de que todas las variables tengan la misma escala\n",
    "scaler = StandardScaler()\n",
    "scaled_data = scaler.fit_transform(data)"
   ]
  },
  {
   "cell_type": "code",
   "execution_count": 6,
   "id": "68d45e11",
   "metadata": {},
   "outputs": [
    {
     "data": {
      "text/html": [
       "<div>\n",
       "<style scoped>\n",
       "    .dataframe tbody tr th:only-of-type {\n",
       "        vertical-align: middle;\n",
       "    }\n",
       "\n",
       "    .dataframe tbody tr th {\n",
       "        vertical-align: top;\n",
       "    }\n",
       "\n",
       "    .dataframe thead th {\n",
       "        text-align: right;\n",
       "    }\n",
       "</style>\n",
       "<table border=\"1\" class=\"dataframe\">\n",
       "  <thead>\n",
       "    <tr style=\"text-align: right;\">\n",
       "      <th></th>\n",
       "      <th>ra_sdss</th>\n",
       "      <th>dec_sdss</th>\n",
       "      <th>ra_iras</th>\n",
       "      <th>dec_iras</th>\n",
       "      <th>specobjid</th>\n",
       "      <th>z</th>\n",
       "      <th>h_alpha_flux</th>\n",
       "      <th>h_beta_flux</th>\n",
       "      <th>oiii_5007_flux</th>\n",
       "      <th>nii_6548_flux</th>\n",
       "      <th>...</th>\n",
       "      <th>rat_12_25</th>\n",
       "      <th>rat_25_60</th>\n",
       "      <th>rat_60_100</th>\n",
       "      <th>Ejey_OHb</th>\n",
       "      <th>Ejex_NH</th>\n",
       "      <th>Ejex_SH</th>\n",
       "      <th>Ejex_OH</th>\n",
       "      <th>Log_12_25</th>\n",
       "      <th>EtiqRef</th>\n",
       "      <th>HC_S_2D</th>\n",
       "    </tr>\n",
       "  </thead>\n",
       "  <tbody>\n",
       "    <tr>\n",
       "      <th>0</th>\n",
       "      <td>145.51241</td>\n",
       "      <td>0.339171</td>\n",
       "      <td>145.51395</td>\n",
       "      <td>0.337522</td>\n",
       "      <td>299595780317014016</td>\n",
       "      <td>0.006379</td>\n",
       "      <td>153.8173</td>\n",
       "      <td>35.59267</td>\n",
       "      <td>3.656026</td>\n",
       "      <td>13.19764</td>\n",
       "      <td>...</td>\n",
       "      <td>0.700000</td>\n",
       "      <td>0.096899</td>\n",
       "      <td>0.342175</td>\n",
       "      <td>-2.275763</td>\n",
       "      <td>-1.065383</td>\n",
       "      <td>-1.694790</td>\n",
       "      <td>-5.024607</td>\n",
       "      <td>-0.356675</td>\n",
       "      <td>NaN</td>\n",
       "      <td>1</td>\n",
       "    </tr>\n",
       "    <tr>\n",
       "      <th>1</th>\n",
       "      <td>167.23240</td>\n",
       "      <td>0.444804</td>\n",
       "      <td>167.23460</td>\n",
       "      <td>0.444661</td>\n",
       "      <td>313129123717343232</td>\n",
       "      <td>0.012902</td>\n",
       "      <td>10285.9400</td>\n",
       "      <td>3250.79100</td>\n",
       "      <td>6074.062000</td>\n",
       "      <td>578.00410</td>\n",
       "      <td>...</td>\n",
       "      <td>1.555556</td>\n",
       "      <td>0.329268</td>\n",
       "      <td>0.811881</td>\n",
       "      <td>0.625129</td>\n",
       "      <td>-1.488608</td>\n",
       "      <td>-1.481473</td>\n",
       "      <td>-4.039606</td>\n",
       "      <td>0.441833</td>\n",
       "      <td>NaN</td>\n",
       "      <td>0</td>\n",
       "    </tr>\n",
       "    <tr>\n",
       "      <th>2</th>\n",
       "      <td>169.70646</td>\n",
       "      <td>0.619308</td>\n",
       "      <td>169.70757</td>\n",
       "      <td>0.617749</td>\n",
       "      <td>314283887213701120</td>\n",
       "      <td>0.025391</td>\n",
       "      <td>528.2295</td>\n",
       "      <td>139.90980</td>\n",
       "      <td>34.019120</td>\n",
       "      <td>62.50361</td>\n",
       "      <td>...</td>\n",
       "      <td>0.500000</td>\n",
       "      <td>0.666667</td>\n",
       "      <td>0.418994</td>\n",
       "      <td>-1.414075</td>\n",
       "      <td>-0.743963</td>\n",
       "      <td>-1.261980</td>\n",
       "      <td>-3.489259</td>\n",
       "      <td>-0.693147</td>\n",
       "      <td>NaN</td>\n",
       "      <td>1</td>\n",
       "    </tr>\n",
       "    <tr>\n",
       "      <th>3</th>\n",
       "      <td>170.82587</td>\n",
       "      <td>-0.922475</td>\n",
       "      <td>170.82668</td>\n",
       "      <td>-0.921258</td>\n",
       "      <td>315274540949202944</td>\n",
       "      <td>0.008394</td>\n",
       "      <td>998.6539</td>\n",
       "      <td>263.62670</td>\n",
       "      <td>358.444700</td>\n",
       "      <td>54.00912</td>\n",
       "      <td>...</td>\n",
       "      <td>0.591837</td>\n",
       "      <td>0.401639</td>\n",
       "      <td>0.431095</td>\n",
       "      <td>0.307240</td>\n",
       "      <td>-1.526911</td>\n",
       "      <td>-1.179064</td>\n",
       "      <td>-3.498782</td>\n",
       "      <td>-0.524524</td>\n",
       "      <td>NaN</td>\n",
       "      <td>0</td>\n",
       "    </tr>\n",
       "    <tr>\n",
       "      <th>4</th>\n",
       "      <td>169.38707</td>\n",
       "      <td>-0.187502</td>\n",
       "      <td>169.38559</td>\n",
       "      <td>-0.186404</td>\n",
       "      <td>315334739210823680</td>\n",
       "      <td>0.040338</td>\n",
       "      <td>520.6220</td>\n",
       "      <td>74.79313</td>\n",
       "      <td>28.152840</td>\n",
       "      <td>74.78139</td>\n",
       "      <td>...</td>\n",
       "      <td>0.813953</td>\n",
       "      <td>0.632353</td>\n",
       "      <td>0.323810</td>\n",
       "      <td>-0.977078</td>\n",
       "      <td>-0.550111</td>\n",
       "      <td>-1.223666</td>\n",
       "      <td>-2.962311</td>\n",
       "      <td>-0.205852</td>\n",
       "      <td>Infrarroja</td>\n",
       "      <td>1</td>\n",
       "    </tr>\n",
       "  </tbody>\n",
       "</table>\n",
       "<p>5 rows × 31 columns</p>\n",
       "</div>"
      ],
      "text/plain": [
       "     ra_sdss  dec_sdss    ra_iras  dec_iras           specobjid         z  \\\n",
       "0  145.51241  0.339171  145.51395  0.337522  299595780317014016  0.006379   \n",
       "1  167.23240  0.444804  167.23460  0.444661  313129123717343232  0.012902   \n",
       "2  169.70646  0.619308  169.70757  0.617749  314283887213701120  0.025391   \n",
       "3  170.82587 -0.922475  170.82668 -0.921258  315274540949202944  0.008394   \n",
       "4  169.38707 -0.187502  169.38559 -0.186404  315334739210823680  0.040338   \n",
       "\n",
       "   h_alpha_flux  h_beta_flux  oiii_5007_flux  nii_6548_flux  ...  rat_12_25  \\\n",
       "0      153.8173     35.59267        3.656026       13.19764  ...   0.700000   \n",
       "1    10285.9400   3250.79100     6074.062000      578.00410  ...   1.555556   \n",
       "2      528.2295    139.90980       34.019120       62.50361  ...   0.500000   \n",
       "3      998.6539    263.62670      358.444700       54.00912  ...   0.591837   \n",
       "4      520.6220     74.79313       28.152840       74.78139  ...   0.813953   \n",
       "\n",
       "   rat_25_60  rat_60_100  Ejey_OHb   Ejex_NH   Ejex_SH   Ejex_OH  Log_12_25  \\\n",
       "0   0.096899    0.342175 -2.275763 -1.065383 -1.694790 -5.024607  -0.356675   \n",
       "1   0.329268    0.811881  0.625129 -1.488608 -1.481473 -4.039606   0.441833   \n",
       "2   0.666667    0.418994 -1.414075 -0.743963 -1.261980 -3.489259  -0.693147   \n",
       "3   0.401639    0.431095  0.307240 -1.526911 -1.179064 -3.498782  -0.524524   \n",
       "4   0.632353    0.323810 -0.977078 -0.550111 -1.223666 -2.962311  -0.205852   \n",
       "\n",
       "      EtiqRef  HC_S_2D  \n",
       "0         NaN        1  \n",
       "1         NaN        0  \n",
       "2         NaN        1  \n",
       "3         NaN        0  \n",
       "4  Infrarroja        1  \n",
       "\n",
       "[5 rows x 31 columns]"
      ]
     },
     "execution_count": 6,
     "metadata": {},
     "output_type": "execute_result"
    }
   ],
   "source": [
    "# Definir el modelo de clustering jerárquico\n",
    "cluster_model = AgglomerativeClustering(n_clusters=3)\n",
    "\n",
    "# Ajustar el modelo a los datos\n",
    "clusters = cluster_model.fit_predict(scaled_data)\n",
    "\n",
    "# Añadir la columna de clusters al DataFrame original\n",
    "FusionData['HC_S_2D'] = clusters\n",
    "FusionData[0:5]"
   ]
  },
  {
   "cell_type": "code",
   "execution_count": 7,
   "id": "4abad0e3",
   "metadata": {},
   "outputs": [],
   "source": [
    "#Excel\n",
    "# nombre_archivo_excel = \"FusionData.xlsx\"\n",
    "# FusionData.to_excel(nombre_archivo_excel, index=False)\n",
    "# print(f\"DataFrame exportado a {nombre_archivo_excel}\")"
   ]
  },
  {
   "cell_type": "code",
   "execution_count": 8,
   "id": "25f86b0d",
   "metadata": {},
   "outputs": [
    {
     "name": "stdout",
     "output_type": "stream",
     "text": [
      "Para la categoría 'Infrarroja':\n",
      "1    49\n",
      "0    26\n",
      "Name: HC_S_2D, dtype: int64\n",
      "\n",
      "Para la categoría 'Seyfert':\n",
      "2    40\n",
      "0    20\n",
      "Name: HC_S_2D, dtype: int64\n",
      "\n",
      "Para la categoría 'LINER':\n",
      "2    23\n",
      "Name: HC_S_2D, dtype: int64\n"
     ]
    }
   ],
   "source": [
    "# Filtrar por categoría \"Infrarroja\"\n",
    "infrarroja_df = FusionData.loc[FusionData['EtiqRef'] == 'Infrarroja']\n",
    "infrarroja_counts = infrarroja_df['HC_S_2D'].value_counts()\n",
    "\n",
    "# Filtrar por categoría \"Seyfert\"\n",
    "seyfert_df = FusionData.loc[FusionData['EtiqRef'] == 'Seyfert']\n",
    "seyfert_counts = seyfert_df['HC_S_2D'].value_counts()\n",
    "\n",
    "# Filtrar por categoría \"LINER\"\n",
    "liner_df = FusionData.loc[FusionData['EtiqRef'] == 'LINER']\n",
    "liner_counts = liner_df['HC_S_2D'].value_counts()\n",
    "\n",
    "# Imprimir los resultados\n",
    "print(\"Para la categoría 'Infrarroja':\")\n",
    "print(infrarroja_counts)\n",
    "print()\n",
    "\n",
    "print(\"Para la categoría 'Seyfert':\")\n",
    "print(seyfert_counts)\n",
    "print()\n",
    "\n",
    "print(\"Para la categoría 'LINER':\")\n",
    "print(liner_counts)"
   ]
  },
  {
   "cell_type": "markdown",
   "id": "0051dc8b",
   "metadata": {},
   "source": [
    "Item con mayor cantidad de aciertos:\n",
    "\n",
    "0 = LINER                    \n",
    "1 = Infrarroja   \n",
    "2 = Seyfert  "
   ]
  },
  {
   "cell_type": "markdown",
   "id": "2de9b586",
   "metadata": {},
   "source": [
    "## 2. Medición de exactitud del Método. "
   ]
  },
  {
   "cell_type": "code",
   "execution_count": 9,
   "id": "8725291e",
   "metadata": {},
   "outputs": [
    {
     "name": "stdout",
     "output_type": "stream",
     "text": [
      "Silhouette Score: 0.40\n"
     ]
    }
   ],
   "source": [
    "labels_true = FusionData['HC_S_2D']\n",
    "\n",
    "# Calcular la silueta\n",
    "silhouette_avg = silhouette_score(scaled_data, labels_true)\n",
    "\n",
    "print(f'Silhouette Score: {silhouette_avg:.2f}')"
   ]
  },
  {
   "cell_type": "code",
   "execution_count": 10,
   "id": "7d9357a9",
   "metadata": {},
   "outputs": [
    {
     "name": "stdout",
     "output_type": "stream",
     "text": [
      "Silhouette Score (en porcentaje): 39.60%\n"
     ]
    }
   ],
   "source": [
    "silhouette_avg_percentage = silhouette_avg * 100\n",
    "print(f'Silhouette Score (en porcentaje): {silhouette_avg_percentage:.2f}%')"
   ]
  },
  {
   "cell_type": "markdown",
   "id": "3a4d7ee5",
   "metadata": {},
   "source": [
    "## 3. Medición de exactitud con Frecuencia cruzada"
   ]
  },
  {
   "cell_type": "markdown",
   "id": "1a13478d",
   "metadata": {},
   "source": [
    "### EtiqRef Vs ClusterS 2D"
   ]
  },
  {
   "cell_type": "markdown",
   "id": "4e3e1444",
   "metadata": {},
   "source": [
    "Convertir dataframe en:\n",
    "\n",
    "0 = LINER  \n",
    "1 = Infrarroja  \n",
    "2 = Seyfert"
   ]
  },
  {
   "cell_type": "code",
   "execution_count": 11,
   "id": "d9c24f31",
   "metadata": {},
   "outputs": [],
   "source": [
    "# Crear un diccionario que mapee los valores antiguos a los nuevos nombres\n",
    "\n",
    "replace_dict = {\n",
    "    0: \"LINER\", \n",
    "    1: \"Infrarroja\", \n",
    "    2: \"Seyfert\"\n",
    "}\n",
    "\n",
    "# Reemplazar los valores en la columna \"ClusterN3\" utilizando el diccionario\n",
    "FusionData[\"HC_S_2D\"] = FusionData[\"HC_S_2D\"].replace(replace_dict)"
   ]
  },
  {
   "cell_type": "code",
   "execution_count": 12,
   "id": "afb381b3",
   "metadata": {},
   "outputs": [
    {
     "data": {
      "text/html": [
       "<div>\n",
       "<style scoped>\n",
       "    .dataframe tbody tr th:only-of-type {\n",
       "        vertical-align: middle;\n",
       "    }\n",
       "\n",
       "    .dataframe tbody tr th {\n",
       "        vertical-align: top;\n",
       "    }\n",
       "\n",
       "    .dataframe thead th {\n",
       "        text-align: right;\n",
       "    }\n",
       "</style>\n",
       "<table border=\"1\" class=\"dataframe\">\n",
       "  <thead>\n",
       "    <tr style=\"text-align: right;\">\n",
       "      <th></th>\n",
       "      <th>ra_sdss</th>\n",
       "      <th>dec_sdss</th>\n",
       "      <th>ra_iras</th>\n",
       "      <th>dec_iras</th>\n",
       "      <th>specobjid</th>\n",
       "      <th>z</th>\n",
       "      <th>h_alpha_flux</th>\n",
       "      <th>h_beta_flux</th>\n",
       "      <th>oiii_5007_flux</th>\n",
       "      <th>nii_6548_flux</th>\n",
       "      <th>...</th>\n",
       "      <th>rat_12_25</th>\n",
       "      <th>rat_25_60</th>\n",
       "      <th>rat_60_100</th>\n",
       "      <th>Ejey_OHb</th>\n",
       "      <th>Ejex_NH</th>\n",
       "      <th>Ejex_SH</th>\n",
       "      <th>Ejex_OH</th>\n",
       "      <th>Log_12_25</th>\n",
       "      <th>EtiqRef</th>\n",
       "      <th>HC_S_2D</th>\n",
       "    </tr>\n",
       "  </thead>\n",
       "  <tbody>\n",
       "    <tr>\n",
       "      <th>0</th>\n",
       "      <td>145.51241</td>\n",
       "      <td>0.339171</td>\n",
       "      <td>145.51395</td>\n",
       "      <td>0.337522</td>\n",
       "      <td>299595780317014016</td>\n",
       "      <td>0.006379</td>\n",
       "      <td>153.8173</td>\n",
       "      <td>35.59267</td>\n",
       "      <td>3.656026</td>\n",
       "      <td>13.19764</td>\n",
       "      <td>...</td>\n",
       "      <td>0.700000</td>\n",
       "      <td>0.096899</td>\n",
       "      <td>0.342175</td>\n",
       "      <td>-2.275763</td>\n",
       "      <td>-1.065383</td>\n",
       "      <td>-1.694790</td>\n",
       "      <td>-5.024607</td>\n",
       "      <td>-0.356675</td>\n",
       "      <td>NaN</td>\n",
       "      <td>Infrarroja</td>\n",
       "    </tr>\n",
       "    <tr>\n",
       "      <th>1</th>\n",
       "      <td>167.23240</td>\n",
       "      <td>0.444804</td>\n",
       "      <td>167.23460</td>\n",
       "      <td>0.444661</td>\n",
       "      <td>313129123717343232</td>\n",
       "      <td>0.012902</td>\n",
       "      <td>10285.9400</td>\n",
       "      <td>3250.79100</td>\n",
       "      <td>6074.062000</td>\n",
       "      <td>578.00410</td>\n",
       "      <td>...</td>\n",
       "      <td>1.555556</td>\n",
       "      <td>0.329268</td>\n",
       "      <td>0.811881</td>\n",
       "      <td>0.625129</td>\n",
       "      <td>-1.488608</td>\n",
       "      <td>-1.481473</td>\n",
       "      <td>-4.039606</td>\n",
       "      <td>0.441833</td>\n",
       "      <td>NaN</td>\n",
       "      <td>LINER</td>\n",
       "    </tr>\n",
       "    <tr>\n",
       "      <th>2</th>\n",
       "      <td>169.70646</td>\n",
       "      <td>0.619308</td>\n",
       "      <td>169.70757</td>\n",
       "      <td>0.617749</td>\n",
       "      <td>314283887213701120</td>\n",
       "      <td>0.025391</td>\n",
       "      <td>528.2295</td>\n",
       "      <td>139.90980</td>\n",
       "      <td>34.019120</td>\n",
       "      <td>62.50361</td>\n",
       "      <td>...</td>\n",
       "      <td>0.500000</td>\n",
       "      <td>0.666667</td>\n",
       "      <td>0.418994</td>\n",
       "      <td>-1.414075</td>\n",
       "      <td>-0.743963</td>\n",
       "      <td>-1.261980</td>\n",
       "      <td>-3.489259</td>\n",
       "      <td>-0.693147</td>\n",
       "      <td>NaN</td>\n",
       "      <td>Infrarroja</td>\n",
       "    </tr>\n",
       "  </tbody>\n",
       "</table>\n",
       "<p>3 rows × 31 columns</p>\n",
       "</div>"
      ],
      "text/plain": [
       "     ra_sdss  dec_sdss    ra_iras  dec_iras           specobjid         z  \\\n",
       "0  145.51241  0.339171  145.51395  0.337522  299595780317014016  0.006379   \n",
       "1  167.23240  0.444804  167.23460  0.444661  313129123717343232  0.012902   \n",
       "2  169.70646  0.619308  169.70757  0.617749  314283887213701120  0.025391   \n",
       "\n",
       "   h_alpha_flux  h_beta_flux  oiii_5007_flux  nii_6548_flux  ...  rat_12_25  \\\n",
       "0      153.8173     35.59267        3.656026       13.19764  ...   0.700000   \n",
       "1    10285.9400   3250.79100     6074.062000      578.00410  ...   1.555556   \n",
       "2      528.2295    139.90980       34.019120       62.50361  ...   0.500000   \n",
       "\n",
       "   rat_25_60  rat_60_100  Ejey_OHb   Ejex_NH   Ejex_SH   Ejex_OH  Log_12_25  \\\n",
       "0   0.096899    0.342175 -2.275763 -1.065383 -1.694790 -5.024607  -0.356675   \n",
       "1   0.329268    0.811881  0.625129 -1.488608 -1.481473 -4.039606   0.441833   \n",
       "2   0.666667    0.418994 -1.414075 -0.743963 -1.261980 -3.489259  -0.693147   \n",
       "\n",
       "   EtiqRef     HC_S_2D  \n",
       "0      NaN  Infrarroja  \n",
       "1      NaN       LINER  \n",
       "2      NaN  Infrarroja  \n",
       "\n",
       "[3 rows x 31 columns]"
      ]
     },
     "execution_count": 12,
     "metadata": {},
     "output_type": "execute_result"
    }
   ],
   "source": [
    "FusionData[0:3]"
   ]
  },
  {
   "cell_type": "code",
   "execution_count": 13,
   "id": "db646f18",
   "metadata": {},
   "outputs": [
    {
     "data": {
      "text/plain": [
       "Infrarroja    75\n",
       "Seyfert       60\n",
       "LINER         23\n",
       "Name: EtiqRef, dtype: int64"
      ]
     },
     "execution_count": 13,
     "metadata": {},
     "output_type": "execute_result"
    }
   ],
   "source": [
    "# Cuantos infrarrojas, Seyfert y LINER fueron clasificadas en EtiqRef:\n",
    "conteoEtiqRef = FusionData['EtiqRef'].value_counts()\n",
    "conteoEtiqRef"
   ]
  },
  {
   "cell_type": "code",
   "execution_count": 14,
   "id": "e30d3356",
   "metadata": {},
   "outputs": [
    {
     "data": {
      "text/plain": [
       "Infrarroja    679\n",
       "LINER         507\n",
       "Seyfert        83\n",
       "Name: HC_S_2D, dtype: int64"
      ]
     },
     "execution_count": 14,
     "metadata": {},
     "output_type": "execute_result"
    }
   ],
   "source": [
    "# Cuantos infrarrojas, Seyfert y LINER fueron clasificadas en ClusterN2D:\n",
    "conteoHC_S_2D = FusionData['HC_S_2D'].value_counts()\n",
    "conteoHC_S_2D"
   ]
  },
  {
   "cell_type": "code",
   "execution_count": 15,
   "id": "ae9de5b8",
   "metadata": {},
   "outputs": [
    {
     "data": {
      "text/html": [
       "<div>\n",
       "<style scoped>\n",
       "    .dataframe tbody tr th:only-of-type {\n",
       "        vertical-align: middle;\n",
       "    }\n",
       "\n",
       "    .dataframe tbody tr th {\n",
       "        vertical-align: top;\n",
       "    }\n",
       "\n",
       "    .dataframe thead th {\n",
       "        text-align: right;\n",
       "    }\n",
       "</style>\n",
       "<table border=\"1\" class=\"dataframe\">\n",
       "  <thead>\n",
       "    <tr style=\"text-align: right;\">\n",
       "      <th>HC_S_2D</th>\n",
       "      <th>Infrarroja</th>\n",
       "      <th>LINER</th>\n",
       "      <th>Seyfert</th>\n",
       "      <th>Total</th>\n",
       "    </tr>\n",
       "    <tr>\n",
       "      <th>EtiqRef</th>\n",
       "      <th></th>\n",
       "      <th></th>\n",
       "      <th></th>\n",
       "      <th></th>\n",
       "    </tr>\n",
       "  </thead>\n",
       "  <tbody>\n",
       "    <tr>\n",
       "      <th>Infrarroja</th>\n",
       "      <td>49</td>\n",
       "      <td>26</td>\n",
       "      <td>0</td>\n",
       "      <td>75</td>\n",
       "    </tr>\n",
       "    <tr>\n",
       "      <th>LINER</th>\n",
       "      <td>0</td>\n",
       "      <td>0</td>\n",
       "      <td>23</td>\n",
       "      <td>23</td>\n",
       "    </tr>\n",
       "    <tr>\n",
       "      <th>Seyfert</th>\n",
       "      <td>0</td>\n",
       "      <td>20</td>\n",
       "      <td>40</td>\n",
       "      <td>60</td>\n",
       "    </tr>\n",
       "    <tr>\n",
       "      <th>Total</th>\n",
       "      <td>49</td>\n",
       "      <td>46</td>\n",
       "      <td>63</td>\n",
       "      <td>158</td>\n",
       "    </tr>\n",
       "  </tbody>\n",
       "</table>\n",
       "</div>"
      ],
      "text/plain": [
       "HC_S_2D     Infrarroja  LINER  Seyfert  Total\n",
       "EtiqRef                                      \n",
       "Infrarroja          49     26        0     75\n",
       "LINER                0      0       23     23\n",
       "Seyfert              0     20       40     60\n",
       "Total               49     46       63    158"
      ]
     },
     "execution_count": 15,
     "metadata": {},
     "output_type": "execute_result"
    }
   ],
   "source": [
    "tabla_frecuencias = pd.crosstab(FusionData['EtiqRef'], FusionData['HC_S_2D'], margins=True, margins_name=\"Total\")\n",
    "tabla_frecuencias"
   ]
  },
  {
   "cell_type": "code",
   "execution_count": 16,
   "id": "e8234015",
   "metadata": {},
   "outputs": [
    {
     "name": "stdout",
     "output_type": "stream",
     "text": [
      "Coincidencias Infrarroja: 49\n",
      "Coincidencias Seyfert: 40\n",
      "Coincidencias LINER: 0\n"
     ]
    }
   ],
   "source": [
    "# Para obtener las cantidades de coincidencias específicas, puedes acceder a los valores en la tabla\n",
    "coincidencias_infrarroja = tabla_frecuencias.loc['Infrarroja', 'Infrarroja']\n",
    "coincidencias_seyfert = tabla_frecuencias.loc['Seyfert', 'Seyfert']\n",
    "coincidencias_liner = tabla_frecuencias.loc['LINER', 'LINER']\n",
    "\n",
    "print(\"Coincidencias Infrarroja:\", coincidencias_infrarroja)\n",
    "print(\"Coincidencias Seyfert:\", coincidencias_seyfert)\n",
    "print(\"Coincidencias LINER:\", coincidencias_liner)"
   ]
  },
  {
   "cell_type": "markdown",
   "id": "3af35b62",
   "metadata": {},
   "source": [
    "### Mi muestra (EtiqRef) trae :\n",
    "\n",
    "Infrarroja    75  \n",
    "Seyfert       60  \n",
    "LINER         23  "
   ]
  },
  {
   "cell_type": "code",
   "execution_count": 17,
   "id": "ae742898",
   "metadata": {},
   "outputs": [
    {
     "name": "stdout",
     "output_type": "stream",
     "text": [
      "Porcentaje de Exactitud General: 56.32911392405063\n"
     ]
    }
   ],
   "source": [
    "# Sumar las coincidencias para cada categoría\n",
    "total_coincidencias = coincidencias_infrarroja + coincidencias_seyfert + coincidencias_liner\n",
    "\n",
    "# Obtener el total de observaciones\n",
    "total_observaciones = tabla_frecuencias.loc['Total', 'Total']\n",
    "\n",
    "# Calcular el porcentaje de exactitud general\n",
    "exactitud_general = (total_coincidencias / total_observaciones) * 100\n",
    "\n",
    "print(\"Porcentaje de Exactitud General:\", exactitud_general)"
   ]
  },
  {
   "cell_type": "markdown",
   "id": "43ad6b11",
   "metadata": {},
   "source": [
    "### Cálculos"
   ]
  },
  {
   "cell_type": "code",
   "execution_count": 18,
   "id": "9507c881",
   "metadata": {},
   "outputs": [],
   "source": [
    "# Calcula los verdaderos positivos, falsos positivos, falsos negativos y verdaderos negativos\n",
    "verdaderos_positivos = tabla_frecuencias.loc['Infrarroja', 'Infrarroja']\n",
    "falsos_positivos = tabla_frecuencias.loc['Total', 'Infrarroja'] - verdaderos_positivos\n",
    "falsos_negativos = tabla_frecuencias.loc['Infrarroja', 'Total'] - verdaderos_positivos\n",
    "verdaderos_negativos = tabla_frecuencias.loc['Total', 'Total'] - verdaderos_positivos - falsos_positivos - falsos_negativos"
   ]
  },
  {
   "cell_type": "code",
   "execution_count": 19,
   "id": "3ffe33e1",
   "metadata": {},
   "outputs": [],
   "source": [
    "# Calcula la Precisión\n",
    "precision = verdaderos_positivos / (verdaderos_positivos + falsos_positivos)\n",
    "# Calcula la Sensibilidad\n",
    "sensibilidad = verdaderos_positivos / (verdaderos_positivos + falsos_negativos)"
   ]
  },
  {
   "cell_type": "code",
   "execution_count": 20,
   "id": "1d856534",
   "metadata": {},
   "outputs": [],
   "source": [
    "# Calcula los Falsos Positivos y Falsos Negativos\n",
    "falsos_positivos = falsos_positivos / (falsos_positivos + verdaderos_negativos)\n",
    "falsos_negativos = falsos_negativos / (falsos_negativos + verdaderos_positivos)"
   ]
  },
  {
   "cell_type": "code",
   "execution_count": 21,
   "id": "defcf719",
   "metadata": {},
   "outputs": [
    {
     "name": "stdout",
     "output_type": "stream",
     "text": [
      "Precisión: 1.0\n",
      "Sensibilidad: 0.6533333333333333\n",
      "Falsos Positivos: 0.0\n",
      "Falsos Negativos: 0.3466666666666667\n"
     ]
    }
   ],
   "source": [
    "# Imprime los resultados\n",
    "print(\"Precisión:\", precision)\n",
    "print(\"Sensibilidad:\", sensibilidad)\n",
    "print(\"Falsos Positivos:\", falsos_positivos)\n",
    "print(\"Falsos Negativos:\", falsos_negativos)"
   ]
  },
  {
   "cell_type": "markdown",
   "id": "0e27e5b2",
   "metadata": {},
   "source": [
    "## 4. Realizar gráfica"
   ]
  },
  {
   "cell_type": "code",
   "execution_count": 22,
   "id": "73eb1167",
   "metadata": {},
   "outputs": [
    {
     "data": {
      "image/png": "[encoded data removed]",
      "text/plain": [
       "<Figure size 432x288 with 1 Axes>"
      ]
     },
     "metadata": {
      "needs_background": "light"
     },
     "output_type": "display_data"
    }
   ],
   "source": [
    "infrarroja_df = FusionData[FusionData['HC_S_2D'] == 'Infrarroja']\n",
    "seyfert_df = FusionData[FusionData['HC_S_2D'] == 'Seyfert']\n",
    "liner_df = FusionData[FusionData['HC_S_2D'] == 'LINER']\n",
    "\n",
    "sns.scatterplot(data=infrarroja_df, x='Ejex_SH', y='Ejey_OHb', color='olivedrab', label='Infrarroja', marker='o')\n",
    "sns.scatterplot(data=seyfert_df, x='Ejex_SH', y='Ejey_OHb', color='yellowgreen', label='Seyfert', marker='o')\n",
    "sns.scatterplot(data=liner_df, x='Ejex_SH', y='Ejey_OHb', color='gold', label='LINER', marker='o')\n",
    "\n",
    "plt.xlabel('Ejex_SH')\n",
    "plt.ylabel('Ejey_OHb')\n",
    "plt.title('Hierarchical Clustering SII 2D')\n",
    "plt.legend()\n",
    "plt.show()"
   ]
  },
  {
   "cell_type": "markdown",
   "id": "b2a47ecc",
   "metadata": {},
   "source": [
    "# Conclusiones:    "
   ]
  },
  {
   "cell_type": "markdown",
   "id": "2f5a1099",
   "metadata": {},
   "source": [
    "## 2. Por medicion del Metodo: Coeficiente de Silueta: 40%"
   ]
  },
  {
   "cell_type": "markdown",
   "id": "f523fe45",
   "metadata": {},
   "source": [
    "## 3. Por Frecuencia cruzada\n",
    "\n",
    "Se tiene una exactitud del modelo de: 56%"
   ]
  }
 ],
 "metadata": {
  "kernelspec": {
   "display_name": "Python 3 (ipykernel)",
   "language": "python",
   "name": "python3"
  },
  "language_info": {
   "codemirror_mode": {
    "name": "ipython",
    "version": 3
   },
   "file_extension": ".py",
   "mimetype": "text/x-python",
   "name": "python",
   "nbconvert_exporter": "python",
   "pygments_lexer": "ipython3",
   "version": "3.9.7"
  }
 },
 "nbformat": 4,
 "nbformat_minor": 5
}
