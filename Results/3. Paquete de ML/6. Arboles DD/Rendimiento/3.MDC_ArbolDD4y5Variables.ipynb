{
 "cells": [
  {
   "cell_type": "markdown",
   "id": "b9b6584f",
   "metadata": {},
   "source": [
    "# Resultados para la matriz de confusión.\n",
    "### Método: ArbolDD\n",
    "### Variables: 4y5."
   ]
  },
  {
   "cell_type": "markdown",
   "id": "4538f6b1",
   "metadata": {},
   "source": [
    "1. Para 4 variables  \n",
    "2. Para 5 variables"
   ]
  },
  {
   "cell_type": "markdown",
   "id": "ef061ca3",
   "metadata": {},
   "source": [
    "### 1. Para 4 variables: "
   ]
  },
  {
   "cell_type": "code",
   "execution_count": 1,
   "id": "eb17ce79",
   "metadata": {
    "scrolled": true
   },
   "outputs": [
    {
     "name": "stdout",
     "output_type": "stream",
     "text": [
      "Accuracy: 0.95\n",
      "\n",
      "Micro Precision: 0.95\n",
      "Micro Recall: 0.95\n",
      "Micro F1-score: 0.95\n",
      "\n",
      "Macro Precision: 0.90\n",
      "Macro Recall: 0.96\n",
      "Macro F1-score: 0.92\n",
      "\n",
      "Weighted Precision: 0.96\n",
      "Weighted Recall: 0.95\n",
      "Weighted F1-score: 0.95\n",
      "\n",
      "\n",
      "Classification Report\n",
      "\n",
      "              precision    recall  f1-score   support\n",
      "\n",
      "     Class 1       0.97      1.00      0.98        32\n",
      "     Class 2       0.73      1.00      0.84         8\n",
      "     Class 3       1.00      0.88      0.94        33\n",
      "\n",
      "    accuracy                           0.95        73\n",
      "   macro avg       0.90      0.96      0.92        73\n",
      "weighted avg       0.96      0.95      0.95        73\n",
      "\n"
     ]
    }
   ],
   "source": [
    "from sklearn.metrics import accuracy_score, precision_score, recall_score, f1_score, classification_report\n",
    "\n",
    "# Nueva matriz de confusión\n",
    "confusion_matrix_result = [\n",
    "    [32, 0, 0],\n",
    "    [0, 8, 0],\n",
    "    [1, 3, 29]\n",
    "]\n",
    "\n",
    "\n",
    "# Obtener las etiquetas reales y predichas para todas las clases\n",
    "y_true = []\n",
    "y_pred = []\n",
    "\n",
    "for true_label, row in enumerate(confusion_matrix_result):\n",
    "    for predicted_label, count in enumerate(row):\n",
    "        y_true.extend([true_label] * count)\n",
    "        y_pred.extend([predicted_label] * count)\n",
    "\n",
    "# Calcular métricas directamente con scikit-learn\n",
    "accuracy = accuracy_score(y_true, y_pred)\n",
    "precision_micro = precision_score(y_true, y_pred, average='micro')\n",
    "recall_micro = recall_score(y_true, y_pred, average='micro')\n",
    "f1_micro = f1_score(y_true, y_pred, average='micro')\n",
    "\n",
    "precision_macro = precision_score(y_true, y_pred, average='macro')\n",
    "recall_macro = recall_score(y_true, y_pred, average='macro')\n",
    "f1_macro = f1_score(y_true, y_pred, average='macro')\n",
    "\n",
    "precision_weighted = precision_score(y_true, y_pred, average='weighted')\n",
    "recall_weighted = recall_score(y_true, y_pred, average='weighted')\n",
    "f1_weighted = f1_score(y_true, y_pred, average='weighted')\n",
    "\n",
    "# Mostrar resultados\n",
    "print(f'Accuracy: {accuracy:.2f}\\n')\n",
    "\n",
    "print(f'Micro Precision: {precision_micro:.2f}')\n",
    "print(f'Micro Recall: {recall_micro:.2f}')\n",
    "print(f'Micro F1-score: {f1_micro:.2f}\\n')\n",
    "\n",
    "print(f'Macro Precision: {precision_macro:.2f}')\n",
    "print(f'Macro Recall: {recall_macro:.2f}')\n",
    "print(f'Macro F1-score: {f1_macro:.2f}\\n')\n",
    "\n",
    "print(f'Weighted Precision: {precision_weighted:.2f}')\n",
    "print(f'Weighted Recall: {recall_weighted:.2f}')\n",
    "print(f'Weighted F1-score: {f1_weighted:.2f}\\n')\n",
    "\n",
    "# Classification Report\n",
    "print('\\nClassification Report\\n')\n",
    "target_names = ['Class 1', 'Class 2', 'Class 3']\n",
    "print(classification_report(y_true, y_pred, target_names=target_names))"
   ]
  },
  {
   "cell_type": "markdown",
   "id": "5d844694",
   "metadata": {},
   "source": [
    "### 2. Para 5 variables: "
   ]
  },
  {
   "cell_type": "code",
   "execution_count": 2,
   "id": "6a64631b",
   "metadata": {},
   "outputs": [
    {
     "name": "stdout",
     "output_type": "stream",
     "text": [
      "Accuracy: 0.95\n",
      "\n",
      "Micro Precision: 0.95\n",
      "Micro Recall: 0.95\n",
      "Micro F1-score: 0.95\n",
      "\n",
      "Macro Precision: 0.91\n",
      "Macro Recall: 0.96\n",
      "Macro F1-score: 0.93\n",
      "\n",
      "Weighted Precision: 0.95\n",
      "Weighted Recall: 0.95\n",
      "Weighted F1-score: 0.95\n",
      "\n",
      "\n",
      "Classification Report\n",
      "\n",
      "              precision    recall  f1-score   support\n",
      "\n",
      "     Class 1       0.94      1.00      0.97        32\n",
      "     Class 2       0.80      1.00      0.89         8\n",
      "     Class 3       1.00      0.88      0.94        33\n",
      "\n",
      "    accuracy                           0.95        73\n",
      "   macro avg       0.91      0.96      0.93        73\n",
      "weighted avg       0.95      0.95      0.95        73\n",
      "\n"
     ]
    }
   ],
   "source": [
    "# Nueva matriz de confusión\n",
    "confusion_matrix_result = [\n",
    "    [32, 0, 0],\n",
    "    [0, 8, 0],\n",
    "    [2, 2, 29]\n",
    "]\n",
    "\n",
    "\n",
    "# Obtener las etiquetas reales y predichas para todas las clases\n",
    "y_true = []\n",
    "y_pred = []\n",
    "\n",
    "for true_label, row in enumerate(confusion_matrix_result):\n",
    "    for predicted_label, count in enumerate(row):\n",
    "        y_true.extend([true_label] * count)\n",
    "        y_pred.extend([predicted_label] * count)\n",
    "\n",
    "# Calcular métricas directamente con scikit-learn\n",
    "accuracy = accuracy_score(y_true, y_pred)\n",
    "precision_micro = precision_score(y_true, y_pred, average='micro')\n",
    "recall_micro = recall_score(y_true, y_pred, average='micro')\n",
    "f1_micro = f1_score(y_true, y_pred, average='micro')\n",
    "\n",
    "precision_macro = precision_score(y_true, y_pred, average='macro')\n",
    "recall_macro = recall_score(y_true, y_pred, average='macro')\n",
    "f1_macro = f1_score(y_true, y_pred, average='macro')\n",
    "\n",
    "precision_weighted = precision_score(y_true, y_pred, average='weighted')\n",
    "recall_weighted = recall_score(y_true, y_pred, average='weighted')\n",
    "f1_weighted = f1_score(y_true, y_pred, average='weighted')\n",
    "\n",
    "# Mostrar resultados\n",
    "print(f'Accuracy: {accuracy:.2f}\\n')\n",
    "\n",
    "print(f'Micro Precision: {precision_micro:.2f}')\n",
    "print(f'Micro Recall: {recall_micro:.2f}')\n",
    "print(f'Micro F1-score: {f1_micro:.2f}\\n')\n",
    "\n",
    "print(f'Macro Precision: {precision_macro:.2f}')\n",
    "print(f'Macro Recall: {recall_macro:.2f}')\n",
    "print(f'Macro F1-score: {f1_macro:.2f}\\n')\n",
    "\n",
    "print(f'Weighted Precision: {precision_weighted:.2f}')\n",
    "print(f'Weighted Recall: {recall_weighted:.2f}')\n",
    "print(f'Weighted F1-score: {f1_weighted:.2f}\\n')\n",
    "\n",
    "# Classification Report\n",
    "print('\\nClassification Report\\n')\n",
    "target_names = ['Class 1', 'Class 2', 'Class 3']\n",
    "print(classification_report(y_true, y_pred, target_names=target_names))"
   ]
  }
 ],
 "metadata": {
  "kernelspec": {
   "display_name": "Python 3 (ipykernel)",
   "language": "python",
   "name": "python3"
  },
  "language_info": {
   "codemirror_mode": {
    "name": "ipython",
    "version": 3
   },
   "file_extension": ".py",
   "mimetype": "text/x-python",
   "name": "python",
   "nbconvert_exporter": "python",
   "pygments_lexer": "ipython3",
   "version": "3.9.7"
  }
 },
 "nbformat": 4,
 "nbformat_minor": 5
}
