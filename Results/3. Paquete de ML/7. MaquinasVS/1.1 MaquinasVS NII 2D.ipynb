{
 "cells": [
  {
   "cell_type": "markdown",
   "id": "04d1621c",
   "metadata": {},
   "source": [
    "Objetivo:\n",
    "\n",
    "Realizar Máquinas de vectores de soporte en 2D: Para NII.    \n",
    "Para los datos preetiquetados: 12.45% Pre-etiquetadas - 158 galaxias, se van a dividir así:  \n",
    "54% = Datos de entrenamiento = 85 Datos.  \n",
    "46% = Datos para tomar la exactitud = 73 Datos.\n",
    "\n",
    "* 0. Traer Datos Pre-etiqDeBase: Con 1269 Observaciones en Visual e infrarrojo. \n",
    "* 1. Hacer Máquinas de vectores de soporte= 'Ejex_NH', 'Ejey_OHB'.\n",
    "* 2. Medición de exactitud con el 40% restante de los datos. \n",
    "* 3. Realizar gráfica."
   ]
  },
  {
   "cell_type": "markdown",
   "id": "1a72e302",
   "metadata": {},
   "source": [
    "## 0. Datos:"
   ]
  },
  {
   "cell_type": "code",
   "execution_count": 1,
   "id": "a356b6fc",
   "metadata": {},
   "outputs": [],
   "source": [
    "import numpy as np\n",
    "import pandas as pd\n",
    "import time\n",
    "from datetime import date\n",
    "import warnings\n",
    "warnings.filterwarnings \n",
    "import astropy.units as u\n",
    "from astropy.table import Table\n",
    "from astroquery.sdss import SDSS\n",
    "from array import array\n",
    "from sklearn.cluster import KMeans\n",
    "from sklearn.metrics import silhouette_score\n",
    "import seaborn as sns\n",
    "import matplotlib.pyplot as plt\n",
    "from sklearn.cluster import AgglomerativeClustering\n",
    "from sklearn.preprocessing import StandardScaler\n",
    "from sklearn.tree import DecisionTreeClassifier\n",
    "from sklearn.model_selection import train_test_split\n",
    "from sklearn.svm import SVC\n",
    "from sklearn import metrics"
   ]
  },
  {
   "cell_type": "code",
   "execution_count": 2,
   "id": "491a3e61",
   "metadata": {},
   "outputs": [],
   "source": [
    "FusionData = pd.read_csv('C:/Users/Cristina Quiazúa M/Desktop/MyBPT/Results/3. Paquete de ML/Mydata.csv')"
   ]
  },
  {
   "cell_type": "code",
   "execution_count": 3,
   "id": "3d0b664c",
   "metadata": {},
   "outputs": [
    {
     "data": {
      "text/html": [
       "<div>\n",
       "<style scoped>\n",
       "    .dataframe tbody tr th:only-of-type {\n",
       "        vertical-align: middle;\n",
       "    }\n",
       "\n",
       "    .dataframe tbody tr th {\n",
       "        vertical-align: top;\n",
       "    }\n",
       "\n",
       "    .dataframe thead th {\n",
       "        text-align: right;\n",
       "    }\n",
       "</style>\n",
       "<table border=\"1\" class=\"dataframe\">\n",
       "  <thead>\n",
       "    <tr style=\"text-align: right;\">\n",
       "      <th></th>\n",
       "      <th>ra_sdss</th>\n",
       "      <th>dec_sdss</th>\n",
       "      <th>ra_iras</th>\n",
       "      <th>dec_iras</th>\n",
       "      <th>specobjid</th>\n",
       "      <th>z</th>\n",
       "      <th>h_alpha_flux</th>\n",
       "      <th>h_beta_flux</th>\n",
       "      <th>oiii_5007_flux</th>\n",
       "      <th>nii_6548_flux</th>\n",
       "      <th>...</th>\n",
       "      <th>fnu_100</th>\n",
       "      <th>rat_12_25</th>\n",
       "      <th>rat_25_60</th>\n",
       "      <th>rat_60_100</th>\n",
       "      <th>Ejey_OHb</th>\n",
       "      <th>Ejex_NH</th>\n",
       "      <th>Ejex_SH</th>\n",
       "      <th>Ejex_OH</th>\n",
       "      <th>Log_12_25</th>\n",
       "      <th>EtiqRef</th>\n",
       "    </tr>\n",
       "  </thead>\n",
       "  <tbody>\n",
       "    <tr>\n",
       "      <th>0</th>\n",
       "      <td>145.51241</td>\n",
       "      <td>0.339171</td>\n",
       "      <td>145.51395</td>\n",
       "      <td>0.337522</td>\n",
       "      <td>299595780317014016</td>\n",
       "      <td>0.006379</td>\n",
       "      <td>153.8173</td>\n",
       "      <td>35.59267</td>\n",
       "      <td>3.656026</td>\n",
       "      <td>13.19764</td>\n",
       "      <td>...</td>\n",
       "      <td>15.08</td>\n",
       "      <td>0.700000</td>\n",
       "      <td>0.096899</td>\n",
       "      <td>0.342175</td>\n",
       "      <td>-2.275763</td>\n",
       "      <td>-1.065383</td>\n",
       "      <td>-1.694790</td>\n",
       "      <td>-5.024607</td>\n",
       "      <td>-0.356675</td>\n",
       "      <td>NaN</td>\n",
       "    </tr>\n",
       "    <tr>\n",
       "      <th>1</th>\n",
       "      <td>167.23240</td>\n",
       "      <td>0.444804</td>\n",
       "      <td>167.23460</td>\n",
       "      <td>0.444661</td>\n",
       "      <td>313129123717343232</td>\n",
       "      <td>0.012902</td>\n",
       "      <td>10285.9400</td>\n",
       "      <td>3250.79100</td>\n",
       "      <td>6074.062000</td>\n",
       "      <td>578.00410</td>\n",
       "      <td>...</td>\n",
       "      <td>1.01</td>\n",
       "      <td>1.555556</td>\n",
       "      <td>0.329268</td>\n",
       "      <td>0.811881</td>\n",
       "      <td>0.625129</td>\n",
       "      <td>-1.488608</td>\n",
       "      <td>-1.481473</td>\n",
       "      <td>-4.039606</td>\n",
       "      <td>0.441833</td>\n",
       "      <td>NaN</td>\n",
       "    </tr>\n",
       "    <tr>\n",
       "      <th>2</th>\n",
       "      <td>169.70646</td>\n",
       "      <td>0.619308</td>\n",
       "      <td>169.70757</td>\n",
       "      <td>0.617749</td>\n",
       "      <td>314283887213701120</td>\n",
       "      <td>0.025391</td>\n",
       "      <td>528.2295</td>\n",
       "      <td>139.90980</td>\n",
       "      <td>34.019120</td>\n",
       "      <td>62.50361</td>\n",
       "      <td>...</td>\n",
       "      <td>1.79</td>\n",
       "      <td>0.500000</td>\n",
       "      <td>0.666667</td>\n",
       "      <td>0.418994</td>\n",
       "      <td>-1.414075</td>\n",
       "      <td>-0.743963</td>\n",
       "      <td>-1.261980</td>\n",
       "      <td>-3.489259</td>\n",
       "      <td>-0.693147</td>\n",
       "      <td>NaN</td>\n",
       "    </tr>\n",
       "    <tr>\n",
       "      <th>3</th>\n",
       "      <td>170.82587</td>\n",
       "      <td>-0.922475</td>\n",
       "      <td>170.82668</td>\n",
       "      <td>-0.921258</td>\n",
       "      <td>315274540949202944</td>\n",
       "      <td>0.008394</td>\n",
       "      <td>998.6539</td>\n",
       "      <td>263.62670</td>\n",
       "      <td>358.444700</td>\n",
       "      <td>54.00912</td>\n",
       "      <td>...</td>\n",
       "      <td>2.83</td>\n",
       "      <td>0.591837</td>\n",
       "      <td>0.401639</td>\n",
       "      <td>0.431095</td>\n",
       "      <td>0.307240</td>\n",
       "      <td>-1.526911</td>\n",
       "      <td>-1.179064</td>\n",
       "      <td>-3.498782</td>\n",
       "      <td>-0.524524</td>\n",
       "      <td>NaN</td>\n",
       "    </tr>\n",
       "    <tr>\n",
       "      <th>4</th>\n",
       "      <td>169.38707</td>\n",
       "      <td>-0.187502</td>\n",
       "      <td>169.38559</td>\n",
       "      <td>-0.186404</td>\n",
       "      <td>315334739210823680</td>\n",
       "      <td>0.040338</td>\n",
       "      <td>520.6220</td>\n",
       "      <td>74.79313</td>\n",
       "      <td>28.152840</td>\n",
       "      <td>74.78139</td>\n",
       "      <td>...</td>\n",
       "      <td>2.10</td>\n",
       "      <td>0.813953</td>\n",
       "      <td>0.632353</td>\n",
       "      <td>0.323810</td>\n",
       "      <td>-0.977078</td>\n",
       "      <td>-0.550111</td>\n",
       "      <td>-1.223666</td>\n",
       "      <td>-2.962311</td>\n",
       "      <td>-0.205852</td>\n",
       "      <td>Infrarroja</td>\n",
       "    </tr>\n",
       "  </tbody>\n",
       "</table>\n",
       "<p>5 rows × 30 columns</p>\n",
       "</div>"
      ],
      "text/plain": [
       "     ra_sdss  dec_sdss    ra_iras  dec_iras           specobjid         z  \\\n",
       "0  145.51241  0.339171  145.51395  0.337522  299595780317014016  0.006379   \n",
       "1  167.23240  0.444804  167.23460  0.444661  313129123717343232  0.012902   \n",
       "2  169.70646  0.619308  169.70757  0.617749  314283887213701120  0.025391   \n",
       "3  170.82587 -0.922475  170.82668 -0.921258  315274540949202944  0.008394   \n",
       "4  169.38707 -0.187502  169.38559 -0.186404  315334739210823680  0.040338   \n",
       "\n",
       "   h_alpha_flux  h_beta_flux  oiii_5007_flux  nii_6548_flux  ...  fnu_100  \\\n",
       "0      153.8173     35.59267        3.656026       13.19764  ...    15.08   \n",
       "1    10285.9400   3250.79100     6074.062000      578.00410  ...     1.01   \n",
       "2      528.2295    139.90980       34.019120       62.50361  ...     1.79   \n",
       "3      998.6539    263.62670      358.444700       54.00912  ...     2.83   \n",
       "4      520.6220     74.79313       28.152840       74.78139  ...     2.10   \n",
       "\n",
       "   rat_12_25  rat_25_60  rat_60_100  Ejey_OHb   Ejex_NH   Ejex_SH   Ejex_OH  \\\n",
       "0   0.700000   0.096899    0.342175 -2.275763 -1.065383 -1.694790 -5.024607   \n",
       "1   1.555556   0.329268    0.811881  0.625129 -1.488608 -1.481473 -4.039606   \n",
       "2   0.500000   0.666667    0.418994 -1.414075 -0.743963 -1.261980 -3.489259   \n",
       "3   0.591837   0.401639    0.431095  0.307240 -1.526911 -1.179064 -3.498782   \n",
       "4   0.813953   0.632353    0.323810 -0.977078 -0.550111 -1.223666 -2.962311   \n",
       "\n",
       "   Log_12_25     EtiqRef  \n",
       "0  -0.356675         NaN  \n",
       "1   0.441833         NaN  \n",
       "2  -0.693147         NaN  \n",
       "3  -0.524524         NaN  \n",
       "4  -0.205852  Infrarroja  \n",
       "\n",
       "[5 rows x 30 columns]"
      ]
     },
     "execution_count": 3,
     "metadata": {},
     "output_type": "execute_result"
    }
   ],
   "source": [
    "FusionData[0:5]"
   ]
  },
  {
   "cell_type": "code",
   "execution_count": 4,
   "id": "b72a5dd8",
   "metadata": {},
   "outputs": [
    {
     "data": {
      "text/plain": [
       "Infrarroja    75\n",
       "Seyfert       60\n",
       "LINER         23\n",
       "Name: EtiqRef, dtype: int64"
      ]
     },
     "execution_count": 4,
     "metadata": {},
     "output_type": "execute_result"
    }
   ],
   "source": [
    "conteoEtiqRef = FusionData['EtiqRef'].value_counts()\n",
    "conteoEtiqRef"
   ]
  },
  {
   "cell_type": "code",
   "execution_count": 5,
   "id": "9903cd2b",
   "metadata": {},
   "outputs": [],
   "source": [
    "grupo1 = FusionData.sample(frac=0.6, random_state=1)\n",
    "grupo2 = FusionData.drop(grupo1.index)"
   ]
  },
  {
   "cell_type": "code",
   "execution_count": 6,
   "id": "c66ad4fa",
   "metadata": {},
   "outputs": [],
   "source": [
    "FusionData['EtiqRef60%'] = grupo1['EtiqRef']\n",
    "FusionData['EtiqRef40%'] = grupo2['EtiqRef']"
   ]
  },
  {
   "cell_type": "code",
   "execution_count": 7,
   "id": "b14e9705",
   "metadata": {},
   "outputs": [
    {
     "data": {
      "text/html": [
       "<div>\n",
       "<style scoped>\n",
       "    .dataframe tbody tr th:only-of-type {\n",
       "        vertical-align: middle;\n",
       "    }\n",
       "\n",
       "    .dataframe tbody tr th {\n",
       "        vertical-align: top;\n",
       "    }\n",
       "\n",
       "    .dataframe thead th {\n",
       "        text-align: right;\n",
       "    }\n",
       "</style>\n",
       "<table border=\"1\" class=\"dataframe\">\n",
       "  <thead>\n",
       "    <tr style=\"text-align: right;\">\n",
       "      <th></th>\n",
       "      <th>ra_sdss</th>\n",
       "      <th>dec_sdss</th>\n",
       "      <th>ra_iras</th>\n",
       "      <th>dec_iras</th>\n",
       "      <th>specobjid</th>\n",
       "      <th>z</th>\n",
       "      <th>h_alpha_flux</th>\n",
       "      <th>h_beta_flux</th>\n",
       "      <th>oiii_5007_flux</th>\n",
       "      <th>nii_6548_flux</th>\n",
       "      <th>...</th>\n",
       "      <th>rat_25_60</th>\n",
       "      <th>rat_60_100</th>\n",
       "      <th>Ejey_OHb</th>\n",
       "      <th>Ejex_NH</th>\n",
       "      <th>Ejex_SH</th>\n",
       "      <th>Ejex_OH</th>\n",
       "      <th>Log_12_25</th>\n",
       "      <th>EtiqRef</th>\n",
       "      <th>EtiqRef60%</th>\n",
       "      <th>EtiqRef40%</th>\n",
       "    </tr>\n",
       "  </thead>\n",
       "  <tbody>\n",
       "    <tr>\n",
       "      <th>0</th>\n",
       "      <td>145.51241</td>\n",
       "      <td>0.339171</td>\n",
       "      <td>145.51395</td>\n",
       "      <td>0.337522</td>\n",
       "      <td>299595780317014016</td>\n",
       "      <td>0.006379</td>\n",
       "      <td>153.8173</td>\n",
       "      <td>35.59267</td>\n",
       "      <td>3.656026</td>\n",
       "      <td>13.19764</td>\n",
       "      <td>...</td>\n",
       "      <td>0.096899</td>\n",
       "      <td>0.342175</td>\n",
       "      <td>-2.275763</td>\n",
       "      <td>-1.065383</td>\n",
       "      <td>-1.694790</td>\n",
       "      <td>-5.024607</td>\n",
       "      <td>-0.356675</td>\n",
       "      <td>NaN</td>\n",
       "      <td>NaN</td>\n",
       "      <td>NaN</td>\n",
       "    </tr>\n",
       "    <tr>\n",
       "      <th>1</th>\n",
       "      <td>167.23240</td>\n",
       "      <td>0.444804</td>\n",
       "      <td>167.23460</td>\n",
       "      <td>0.444661</td>\n",
       "      <td>313129123717343232</td>\n",
       "      <td>0.012902</td>\n",
       "      <td>10285.9400</td>\n",
       "      <td>3250.79100</td>\n",
       "      <td>6074.062000</td>\n",
       "      <td>578.00410</td>\n",
       "      <td>...</td>\n",
       "      <td>0.329268</td>\n",
       "      <td>0.811881</td>\n",
       "      <td>0.625129</td>\n",
       "      <td>-1.488608</td>\n",
       "      <td>-1.481473</td>\n",
       "      <td>-4.039606</td>\n",
       "      <td>0.441833</td>\n",
       "      <td>NaN</td>\n",
       "      <td>NaN</td>\n",
       "      <td>NaN</td>\n",
       "    </tr>\n",
       "    <tr>\n",
       "      <th>2</th>\n",
       "      <td>169.70646</td>\n",
       "      <td>0.619308</td>\n",
       "      <td>169.70757</td>\n",
       "      <td>0.617749</td>\n",
       "      <td>314283887213701120</td>\n",
       "      <td>0.025391</td>\n",
       "      <td>528.2295</td>\n",
       "      <td>139.90980</td>\n",
       "      <td>34.019120</td>\n",
       "      <td>62.50361</td>\n",
       "      <td>...</td>\n",
       "      <td>0.666667</td>\n",
       "      <td>0.418994</td>\n",
       "      <td>-1.414075</td>\n",
       "      <td>-0.743963</td>\n",
       "      <td>-1.261980</td>\n",
       "      <td>-3.489259</td>\n",
       "      <td>-0.693147</td>\n",
       "      <td>NaN</td>\n",
       "      <td>NaN</td>\n",
       "      <td>NaN</td>\n",
       "    </tr>\n",
       "    <tr>\n",
       "      <th>3</th>\n",
       "      <td>170.82587</td>\n",
       "      <td>-0.922475</td>\n",
       "      <td>170.82668</td>\n",
       "      <td>-0.921258</td>\n",
       "      <td>315274540949202944</td>\n",
       "      <td>0.008394</td>\n",
       "      <td>998.6539</td>\n",
       "      <td>263.62670</td>\n",
       "      <td>358.444700</td>\n",
       "      <td>54.00912</td>\n",
       "      <td>...</td>\n",
       "      <td>0.401639</td>\n",
       "      <td>0.431095</td>\n",
       "      <td>0.307240</td>\n",
       "      <td>-1.526911</td>\n",
       "      <td>-1.179064</td>\n",
       "      <td>-3.498782</td>\n",
       "      <td>-0.524524</td>\n",
       "      <td>NaN</td>\n",
       "      <td>NaN</td>\n",
       "      <td>NaN</td>\n",
       "    </tr>\n",
       "    <tr>\n",
       "      <th>4</th>\n",
       "      <td>169.38707</td>\n",
       "      <td>-0.187502</td>\n",
       "      <td>169.38559</td>\n",
       "      <td>-0.186404</td>\n",
       "      <td>315334739210823680</td>\n",
       "      <td>0.040338</td>\n",
       "      <td>520.6220</td>\n",
       "      <td>74.79313</td>\n",
       "      <td>28.152840</td>\n",
       "      <td>74.78139</td>\n",
       "      <td>...</td>\n",
       "      <td>0.632353</td>\n",
       "      <td>0.323810</td>\n",
       "      <td>-0.977078</td>\n",
       "      <td>-0.550111</td>\n",
       "      <td>-1.223666</td>\n",
       "      <td>-2.962311</td>\n",
       "      <td>-0.205852</td>\n",
       "      <td>Infrarroja</td>\n",
       "      <td>NaN</td>\n",
       "      <td>Infrarroja</td>\n",
       "    </tr>\n",
       "  </tbody>\n",
       "</table>\n",
       "<p>5 rows × 32 columns</p>\n",
       "</div>"
      ],
      "text/plain": [
       "     ra_sdss  dec_sdss    ra_iras  dec_iras           specobjid         z  \\\n",
       "0  145.51241  0.339171  145.51395  0.337522  299595780317014016  0.006379   \n",
       "1  167.23240  0.444804  167.23460  0.444661  313129123717343232  0.012902   \n",
       "2  169.70646  0.619308  169.70757  0.617749  314283887213701120  0.025391   \n",
       "3  170.82587 -0.922475  170.82668 -0.921258  315274540949202944  0.008394   \n",
       "4  169.38707 -0.187502  169.38559 -0.186404  315334739210823680  0.040338   \n",
       "\n",
       "   h_alpha_flux  h_beta_flux  oiii_5007_flux  nii_6548_flux  ...  rat_25_60  \\\n",
       "0      153.8173     35.59267        3.656026       13.19764  ...   0.096899   \n",
       "1    10285.9400   3250.79100     6074.062000      578.00410  ...   0.329268   \n",
       "2      528.2295    139.90980       34.019120       62.50361  ...   0.666667   \n",
       "3      998.6539    263.62670      358.444700       54.00912  ...   0.401639   \n",
       "4      520.6220     74.79313       28.152840       74.78139  ...   0.632353   \n",
       "\n",
       "   rat_60_100  Ejey_OHb   Ejex_NH   Ejex_SH   Ejex_OH Log_12_25     EtiqRef  \\\n",
       "0    0.342175 -2.275763 -1.065383 -1.694790 -5.024607 -0.356675         NaN   \n",
       "1    0.811881  0.625129 -1.488608 -1.481473 -4.039606  0.441833         NaN   \n",
       "2    0.418994 -1.414075 -0.743963 -1.261980 -3.489259 -0.693147         NaN   \n",
       "3    0.431095  0.307240 -1.526911 -1.179064 -3.498782 -0.524524         NaN   \n",
       "4    0.323810 -0.977078 -0.550111 -1.223666 -2.962311 -0.205852  Infrarroja   \n",
       "\n",
       "   EtiqRef60%  EtiqRef40%  \n",
       "0         NaN         NaN  \n",
       "1         NaN         NaN  \n",
       "2         NaN         NaN  \n",
       "3         NaN         NaN  \n",
       "4         NaN  Infrarroja  \n",
       "\n",
       "[5 rows x 32 columns]"
      ]
     },
     "execution_count": 7,
     "metadata": {},
     "output_type": "execute_result"
    }
   ],
   "source": [
    "FusionData[0:5]"
   ]
  },
  {
   "cell_type": "markdown",
   "id": "e2cc3652",
   "metadata": {},
   "source": [
    "### División por grupos EtiqRef 60% y 40%"
   ]
  },
  {
   "cell_type": "code",
   "execution_count": 8,
   "id": "89ba8421",
   "metadata": {},
   "outputs": [
    {
     "data": {
      "text/plain": [
       "Infrarroja    43\n",
       "Seyfert       27\n",
       "LINER         15\n",
       "Name: EtiqRef60%, dtype: int64"
      ]
     },
     "execution_count": 8,
     "metadata": {},
     "output_type": "execute_result"
    }
   ],
   "source": [
    "conteoEtiqRef60 = FusionData['EtiqRef60%'].value_counts()\n",
    "conteoEtiqRef60"
   ]
  },
  {
   "cell_type": "code",
   "execution_count": 9,
   "id": "fc478058",
   "metadata": {},
   "outputs": [
    {
     "data": {
      "text/plain": [
       "Seyfert       33\n",
       "Infrarroja    32\n",
       "LINER          8\n",
       "Name: EtiqRef40%, dtype: int64"
      ]
     },
     "execution_count": 9,
     "metadata": {},
     "output_type": "execute_result"
    }
   ],
   "source": [
    "conteoEtiqRef40 = FusionData['EtiqRef40%'].value_counts()\n",
    "conteoEtiqRef40"
   ]
  },
  {
   "cell_type": "markdown",
   "id": "08b341e2",
   "metadata": {},
   "source": [
    "## 1. Hacer MaquinasVS para X = 'Ejex_NH', 'Ejey_OHb'."
   ]
  },
  {
   "cell_type": "code",
   "execution_count": 10,
   "id": "a1f471a9",
   "metadata": {},
   "outputs": [],
   "source": [
    "# Seleccionar solo las filas con etiquetas conocidas para el entrenamiento\n",
    "training_data = FusionData.dropna(subset=['EtiqRef60%'])"
   ]
  },
  {
   "cell_type": "code",
   "execution_count": 11,
   "id": "295c7d8e",
   "metadata": {},
   "outputs": [],
   "source": [
    "# Seleccionar las características (X) y la variable objetivo (y) para el entrenamiento\n",
    "X_train = training_data[['Ejex_NH', 'Ejey_OHb']]\n",
    "y_train = training_data['EtiqRef60%']"
   ]
  },
  {
   "cell_type": "code",
   "execution_count": 12,
   "id": "725ffb72",
   "metadata": {},
   "outputs": [
    {
     "data": {
      "text/plain": [
       "SVC(C=1, kernel='linear')"
      ]
     },
     "execution_count": 12,
     "metadata": {},
     "output_type": "execute_result"
    }
   ],
   "source": [
    "# Crear un clasificador SVM\n",
    "clf = SVC(kernel='linear', C=1)\n",
    "\n",
    "# Entrenar el clasificador con los datos de entrenamiento\n",
    "clf.fit(X_train, y_train)"
   ]
  },
  {
   "cell_type": "code",
   "execution_count": 13,
   "id": "23016555",
   "metadata": {},
   "outputs": [],
   "source": [
    "# Realizar predicciones para todos los datos\n",
    "X_all = FusionData[['Ejex_NH', 'Ejey_OHb']]\n",
    "y_pred = clf.predict(X_all)"
   ]
  },
  {
   "cell_type": "code",
   "execution_count": 14,
   "id": "efa17d65",
   "metadata": {},
   "outputs": [
    {
     "data": {
      "text/html": [
       "<div>\n",
       "<style scoped>\n",
       "    .dataframe tbody tr th:only-of-type {\n",
       "        vertical-align: middle;\n",
       "    }\n",
       "\n",
       "    .dataframe tbody tr th {\n",
       "        vertical-align: top;\n",
       "    }\n",
       "\n",
       "    .dataframe thead th {\n",
       "        text-align: right;\n",
       "    }\n",
       "</style>\n",
       "<table border=\"1\" class=\"dataframe\">\n",
       "  <thead>\n",
       "    <tr style=\"text-align: right;\">\n",
       "      <th></th>\n",
       "      <th>ra_sdss</th>\n",
       "      <th>dec_sdss</th>\n",
       "      <th>ra_iras</th>\n",
       "      <th>dec_iras</th>\n",
       "      <th>specobjid</th>\n",
       "      <th>z</th>\n",
       "      <th>h_alpha_flux</th>\n",
       "      <th>h_beta_flux</th>\n",
       "      <th>oiii_5007_flux</th>\n",
       "      <th>nii_6548_flux</th>\n",
       "      <th>...</th>\n",
       "      <th>rat_60_100</th>\n",
       "      <th>Ejey_OHb</th>\n",
       "      <th>Ejex_NH</th>\n",
       "      <th>Ejex_SH</th>\n",
       "      <th>Ejex_OH</th>\n",
       "      <th>Log_12_25</th>\n",
       "      <th>EtiqRef</th>\n",
       "      <th>EtiqRef60%</th>\n",
       "      <th>EtiqRef40%</th>\n",
       "      <th>PredicSVM_N</th>\n",
       "    </tr>\n",
       "  </thead>\n",
       "  <tbody>\n",
       "    <tr>\n",
       "      <th>0</th>\n",
       "      <td>145.51241</td>\n",
       "      <td>0.339171</td>\n",
       "      <td>145.51395</td>\n",
       "      <td>0.337522</td>\n",
       "      <td>299595780317014016</td>\n",
       "      <td>0.006379</td>\n",
       "      <td>153.8173</td>\n",
       "      <td>35.59267</td>\n",
       "      <td>3.656026</td>\n",
       "      <td>13.19764</td>\n",
       "      <td>...</td>\n",
       "      <td>0.342175</td>\n",
       "      <td>-2.275763</td>\n",
       "      <td>-1.065383</td>\n",
       "      <td>-1.694790</td>\n",
       "      <td>-5.024607</td>\n",
       "      <td>-0.356675</td>\n",
       "      <td>NaN</td>\n",
       "      <td>NaN</td>\n",
       "      <td>NaN</td>\n",
       "      <td>Infrarroja</td>\n",
       "    </tr>\n",
       "    <tr>\n",
       "      <th>1</th>\n",
       "      <td>167.23240</td>\n",
       "      <td>0.444804</td>\n",
       "      <td>167.23460</td>\n",
       "      <td>0.444661</td>\n",
       "      <td>313129123717343232</td>\n",
       "      <td>0.012902</td>\n",
       "      <td>10285.9400</td>\n",
       "      <td>3250.79100</td>\n",
       "      <td>6074.062000</td>\n",
       "      <td>578.00410</td>\n",
       "      <td>...</td>\n",
       "      <td>0.811881</td>\n",
       "      <td>0.625129</td>\n",
       "      <td>-1.488608</td>\n",
       "      <td>-1.481473</td>\n",
       "      <td>-4.039606</td>\n",
       "      <td>0.441833</td>\n",
       "      <td>NaN</td>\n",
       "      <td>NaN</td>\n",
       "      <td>NaN</td>\n",
       "      <td>Infrarroja</td>\n",
       "    </tr>\n",
       "    <tr>\n",
       "      <th>2</th>\n",
       "      <td>169.70646</td>\n",
       "      <td>0.619308</td>\n",
       "      <td>169.70757</td>\n",
       "      <td>0.617749</td>\n",
       "      <td>314283887213701120</td>\n",
       "      <td>0.025391</td>\n",
       "      <td>528.2295</td>\n",
       "      <td>139.90980</td>\n",
       "      <td>34.019120</td>\n",
       "      <td>62.50361</td>\n",
       "      <td>...</td>\n",
       "      <td>0.418994</td>\n",
       "      <td>-1.414075</td>\n",
       "      <td>-0.743963</td>\n",
       "      <td>-1.261980</td>\n",
       "      <td>-3.489259</td>\n",
       "      <td>-0.693147</td>\n",
       "      <td>NaN</td>\n",
       "      <td>NaN</td>\n",
       "      <td>NaN</td>\n",
       "      <td>Infrarroja</td>\n",
       "    </tr>\n",
       "    <tr>\n",
       "      <th>3</th>\n",
       "      <td>170.82587</td>\n",
       "      <td>-0.922475</td>\n",
       "      <td>170.82668</td>\n",
       "      <td>-0.921258</td>\n",
       "      <td>315274540949202944</td>\n",
       "      <td>0.008394</td>\n",
       "      <td>998.6539</td>\n",
       "      <td>263.62670</td>\n",
       "      <td>358.444700</td>\n",
       "      <td>54.00912</td>\n",
       "      <td>...</td>\n",
       "      <td>0.431095</td>\n",
       "      <td>0.307240</td>\n",
       "      <td>-1.526911</td>\n",
       "      <td>-1.179064</td>\n",
       "      <td>-3.498782</td>\n",
       "      <td>-0.524524</td>\n",
       "      <td>NaN</td>\n",
       "      <td>NaN</td>\n",
       "      <td>NaN</td>\n",
       "      <td>Infrarroja</td>\n",
       "    </tr>\n",
       "    <tr>\n",
       "      <th>4</th>\n",
       "      <td>169.38707</td>\n",
       "      <td>-0.187502</td>\n",
       "      <td>169.38559</td>\n",
       "      <td>-0.186404</td>\n",
       "      <td>315334739210823680</td>\n",
       "      <td>0.040338</td>\n",
       "      <td>520.6220</td>\n",
       "      <td>74.79313</td>\n",
       "      <td>28.152840</td>\n",
       "      <td>74.78139</td>\n",
       "      <td>...</td>\n",
       "      <td>0.323810</td>\n",
       "      <td>-0.977078</td>\n",
       "      <td>-0.550111</td>\n",
       "      <td>-1.223666</td>\n",
       "      <td>-2.962311</td>\n",
       "      <td>-0.205852</td>\n",
       "      <td>Infrarroja</td>\n",
       "      <td>NaN</td>\n",
       "      <td>Infrarroja</td>\n",
       "      <td>Infrarroja</td>\n",
       "    </tr>\n",
       "  </tbody>\n",
       "</table>\n",
       "<p>5 rows × 33 columns</p>\n",
       "</div>"
      ],
      "text/plain": [
       "     ra_sdss  dec_sdss    ra_iras  dec_iras           specobjid         z  \\\n",
       "0  145.51241  0.339171  145.51395  0.337522  299595780317014016  0.006379   \n",
       "1  167.23240  0.444804  167.23460  0.444661  313129123717343232  0.012902   \n",
       "2  169.70646  0.619308  169.70757  0.617749  314283887213701120  0.025391   \n",
       "3  170.82587 -0.922475  170.82668 -0.921258  315274540949202944  0.008394   \n",
       "4  169.38707 -0.187502  169.38559 -0.186404  315334739210823680  0.040338   \n",
       "\n",
       "   h_alpha_flux  h_beta_flux  oiii_5007_flux  nii_6548_flux  ...  rat_60_100  \\\n",
       "0      153.8173     35.59267        3.656026       13.19764  ...    0.342175   \n",
       "1    10285.9400   3250.79100     6074.062000      578.00410  ...    0.811881   \n",
       "2      528.2295    139.90980       34.019120       62.50361  ...    0.418994   \n",
       "3      998.6539    263.62670      358.444700       54.00912  ...    0.431095   \n",
       "4      520.6220     74.79313       28.152840       74.78139  ...    0.323810   \n",
       "\n",
       "   Ejey_OHb   Ejex_NH   Ejex_SH   Ejex_OH Log_12_25     EtiqRef  EtiqRef60%  \\\n",
       "0 -2.275763 -1.065383 -1.694790 -5.024607 -0.356675         NaN         NaN   \n",
       "1  0.625129 -1.488608 -1.481473 -4.039606  0.441833         NaN         NaN   \n",
       "2 -1.414075 -0.743963 -1.261980 -3.489259 -0.693147         NaN         NaN   \n",
       "3  0.307240 -1.526911 -1.179064 -3.498782 -0.524524         NaN         NaN   \n",
       "4 -0.977078 -0.550111 -1.223666 -2.962311 -0.205852  Infrarroja         NaN   \n",
       "\n",
       "   EtiqRef40%  PredicSVM_N  \n",
       "0         NaN   Infrarroja  \n",
       "1         NaN   Infrarroja  \n",
       "2         NaN   Infrarroja  \n",
       "3         NaN   Infrarroja  \n",
       "4  Infrarroja   Infrarroja  \n",
       "\n",
       "[5 rows x 33 columns]"
      ]
     },
     "execution_count": 14,
     "metadata": {},
     "output_type": "execute_result"
    }
   ],
   "source": [
    "# Añadir la columna de clusters al DataFrame original\n",
    "FusionData[\"PredicSVM_N\"] = y_pred\n",
    "FusionData[0:5]"
   ]
  },
  {
   "cell_type": "code",
   "execution_count": 15,
   "id": "b378680c",
   "metadata": {},
   "outputs": [
    {
     "data": {
      "text/plain": [
       "Infrarroja    1092\n",
       "LINER           94\n",
       "Seyfert         83\n",
       "Name: PredicSVM_N, dtype: int64"
      ]
     },
     "execution_count": 15,
     "metadata": {},
     "output_type": "execute_result"
    }
   ],
   "source": [
    "conteoPredicSVM_N = FusionData['PredicSVM_N'].value_counts()\n",
    "conteoPredicSVM_N"
   ]
  },
  {
   "cell_type": "markdown",
   "id": "3230939b",
   "metadata": {},
   "source": [
    "## 2. Medición de exactitud con Frecuencia cruzada"
   ]
  },
  {
   "cell_type": "code",
   "execution_count": 16,
   "id": "b5992ab8",
   "metadata": {},
   "outputs": [
    {
     "data": {
      "text/html": [
       "<div>\n",
       "<style scoped>\n",
       "    .dataframe tbody tr th:only-of-type {\n",
       "        vertical-align: middle;\n",
       "    }\n",
       "\n",
       "    .dataframe tbody tr th {\n",
       "        vertical-align: top;\n",
       "    }\n",
       "\n",
       "    .dataframe thead th {\n",
       "        text-align: right;\n",
       "    }\n",
       "</style>\n",
       "<table border=\"1\" class=\"dataframe\">\n",
       "  <thead>\n",
       "    <tr style=\"text-align: right;\">\n",
       "      <th>PredicSVM_N</th>\n",
       "      <th>Infrarroja</th>\n",
       "      <th>LINER</th>\n",
       "      <th>Seyfert</th>\n",
       "      <th>Total</th>\n",
       "    </tr>\n",
       "    <tr>\n",
       "      <th>EtiqRef40%</th>\n",
       "      <th></th>\n",
       "      <th></th>\n",
       "      <th></th>\n",
       "      <th></th>\n",
       "    </tr>\n",
       "  </thead>\n",
       "  <tbody>\n",
       "    <tr>\n",
       "      <th>Infrarroja</th>\n",
       "      <td>32</td>\n",
       "      <td>0</td>\n",
       "      <td>0</td>\n",
       "      <td>32</td>\n",
       "    </tr>\n",
       "    <tr>\n",
       "      <th>LINER</th>\n",
       "      <td>0</td>\n",
       "      <td>8</td>\n",
       "      <td>0</td>\n",
       "      <td>8</td>\n",
       "    </tr>\n",
       "    <tr>\n",
       "      <th>Seyfert</th>\n",
       "      <td>0</td>\n",
       "      <td>0</td>\n",
       "      <td>33</td>\n",
       "      <td>33</td>\n",
       "    </tr>\n",
       "    <tr>\n",
       "      <th>Total</th>\n",
       "      <td>32</td>\n",
       "      <td>8</td>\n",
       "      <td>33</td>\n",
       "      <td>73</td>\n",
       "    </tr>\n",
       "  </tbody>\n",
       "</table>\n",
       "</div>"
      ],
      "text/plain": [
       "PredicSVM_N  Infrarroja  LINER  Seyfert  Total\n",
       "EtiqRef40%                                    \n",
       "Infrarroja           32      0        0     32\n",
       "LINER                 0      8        0      8\n",
       "Seyfert               0      0       33     33\n",
       "Total                32      8       33     73"
      ]
     },
     "execution_count": 16,
     "metadata": {},
     "output_type": "execute_result"
    }
   ],
   "source": [
    "tabla_frecuencias = pd.crosstab(FusionData['EtiqRef40%'], FusionData['PredicSVM_N'], margins=True, margins_name=\"Total\")\n",
    "tabla_frecuencias"
   ]
  },
  {
   "cell_type": "code",
   "execution_count": 17,
   "id": "c6efdee2",
   "metadata": {},
   "outputs": [
    {
     "name": "stdout",
     "output_type": "stream",
     "text": [
      "Coincidencias Infrarroja: 32\n",
      "Coincidencias Seyfert: 33\n",
      "Coincidencias LINER: 8\n"
     ]
    }
   ],
   "source": [
    "# Para obtener las cantidades de coincidencias específicas, puedes acceder a los valores en la tabla\n",
    "coincidencias_infrarroja = tabla_frecuencias.loc['Infrarroja', 'Infrarroja']\n",
    "coincidencias_seyfert = tabla_frecuencias.loc['Seyfert', 'Seyfert']\n",
    "coincidencias_liner = tabla_frecuencias.loc['LINER', 'LINER']\n",
    "\n",
    "print(\"Coincidencias Infrarroja:\", coincidencias_infrarroja)\n",
    "print(\"Coincidencias Seyfert:\", coincidencias_seyfert)\n",
    "print(\"Coincidencias LINER:\", coincidencias_liner)"
   ]
  },
  {
   "cell_type": "markdown",
   "id": "1a67b6dd",
   "metadata": {},
   "source": [
    "### Cálculos"
   ]
  },
  {
   "cell_type": "code",
   "execution_count": 18,
   "id": "bee58b77",
   "metadata": {},
   "outputs": [],
   "source": [
    "# Calcula los verdaderos positivos, falsos positivos, falsos negativos y verdaderos negativos\n",
    "verdaderos_positivos = tabla_frecuencias.loc['Infrarroja', 'Infrarroja']\n",
    "falsos_positivos = tabla_frecuencias.loc['Total', 'Infrarroja'] - verdaderos_positivos\n",
    "falsos_negativos = tabla_frecuencias.loc['Infrarroja', 'Total'] - verdaderos_positivos\n",
    "verdaderos_negativos = tabla_frecuencias.loc['Total', 'Total'] - verdaderos_positivos - falsos_positivos - falsos_negativos"
   ]
  },
  {
   "cell_type": "code",
   "execution_count": 19,
   "id": "24167a03",
   "metadata": {},
   "outputs": [],
   "source": [
    "# Calcula la Precisión\n",
    "precision = verdaderos_positivos / (verdaderos_positivos + falsos_positivos)\n",
    "# Calcula la Sensibilidad\n",
    "sensibilidad = verdaderos_positivos / (verdaderos_positivos + falsos_negativos)"
   ]
  },
  {
   "cell_type": "code",
   "execution_count": 20,
   "id": "066dd64d",
   "metadata": {},
   "outputs": [],
   "source": [
    "# Calcula los Falsos Positivos y Falsos Negativos\n",
    "falsos_positivos = falsos_positivos / (falsos_positivos + verdaderos_negativos)\n",
    "falsos_negativos = falsos_negativos / (falsos_negativos + verdaderos_positivos)"
   ]
  },
  {
   "cell_type": "code",
   "execution_count": 21,
   "id": "ff44c516",
   "metadata": {},
   "outputs": [
    {
     "name": "stdout",
     "output_type": "stream",
     "text": [
      "Precisión: 1.0\n",
      "Sensibilidad: 1.0\n",
      "Falsos Positivos: 0.0\n",
      "Falsos Negativos: 0.0\n"
     ]
    }
   ],
   "source": [
    "# Imprime los resultados\n",
    "print(\"Precisión:\", precision)\n",
    "print(\"Sensibilidad:\", sensibilidad)\n",
    "print(\"Falsos Positivos:\", falsos_positivos)\n",
    "print(\"Falsos Negativos:\", falsos_negativos)"
   ]
  },
  {
   "cell_type": "markdown",
   "id": "73fe9339",
   "metadata": {},
   "source": [
    "## 3. Realizar gráfica"
   ]
  },
  {
   "cell_type": "code",
   "execution_count": 22,
   "id": "3ff43fba",
   "metadata": {},
   "outputs": [
    {
     "data": {
      "image/png": "[encoded data removed]",
      "text/plain": [
       "<Figure size 432x288 with 1 Axes>"
      ]
     },
     "metadata": {
      "needs_background": "light"
     },
     "output_type": "display_data"
    }
   ],
   "source": [
    "infrarroja_df = FusionData[FusionData['PredicSVM_N'] == 'Infrarroja']\n",
    "seyfert_df = FusionData[FusionData['PredicSVM_N'] == 'Seyfert']\n",
    "liner_df = FusionData[FusionData['PredicSVM_N'] == 'LINER']\n",
    "\n",
    "sns.scatterplot(data=infrarroja_df, x='Ejex_NH', y='Ejey_OHb', color='indigo', label='Infrarroja', marker='o')\n",
    "sns.scatterplot(data=seyfert_df, x='Ejex_NH', y='Ejey_OHb', color='salmon', label='Seyfert', marker='o')\n",
    "sns.scatterplot(data=liner_df, x='Ejex_NH', y='Ejey_OHb', color='lightsalmon', label='LINER', marker='o')\n",
    "\n",
    "plt.xlabel('Ejex_NH')\n",
    "plt.ylabel('Ejey_OHb')\n",
    "plt.title('SVC NII 2D')\n",
    "plt.legend()\n",
    "plt.show()"
   ]
  },
  {
   "cell_type": "markdown",
   "id": "4cb7c167",
   "metadata": {},
   "source": [
    "# Conclusiones:    "
   ]
  },
  {
   "cell_type": "markdown",
   "id": "5f381b7b",
   "metadata": {},
   "source": [
    "## 2. Medición: 100%"
   ]
  }
 ],
 "metadata": {
  "kernelspec": {
   "display_name": "Python 3 (ipykernel)",
   "language": "python",
   "name": "python3"
  },
  "language_info": {
   "codemirror_mode": {
    "name": "ipython",
    "version": 3
   },
   "file_extension": ".py",
   "mimetype": "text/x-python",
   "name": "python",
   "nbconvert_exporter": "python",
   "pygments_lexer": "ipython3",
   "version": "3.9.7"
  }
 },
 "nbformat": 4,
 "nbformat_minor": 5
}
