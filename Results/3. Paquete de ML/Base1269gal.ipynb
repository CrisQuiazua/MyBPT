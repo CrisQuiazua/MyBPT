{
 "cells": [
  {
   "cell_type": "markdown",
   "id": "d24aa2f3",
   "metadata": {},
   "source": [
    "**Objetivo:** Hacer una sola tabla de SDSS e IRAS con las razones:\n",
    "        \n",
    "ejey_OHb=np.log((FusionData['oiii_5007_flux'])/(FusionData['h_beta_flux']))\n",
    "ejex_NH=np.log((FusionData['nii_6548_flux']+FusionData['nii_6584_flux'])/FusionData['h_alpha_flux'])\n",
    "ejex_SH=np.log((FusionData['sii_6717_flux']+FusionData['sii_6731_flux'])/FusionData['h_alpha_flux'])\n",
    "ejex_OH=np.log((FusionData['oi_6300_flux'])/(FusionData['h_alpha_flux']))\n",
    "y  \n",
    "Log_12_25=np.log(FusionData['rat_12_25'])  "
   ]
  },
  {
   "cell_type": "code",
   "execution_count": 1,
   "id": "16a3030d",
   "metadata": {},
   "outputs": [],
   "source": [
    "%matplotlib notebook\n",
    "import matplotlib.pyplot as plt\n",
    "\n",
    "from mpl_toolkits.mplot3d import Axes3D\n",
    "import numpy as np"
   ]
  },
  {
   "cell_type": "code",
   "execution_count": 2,
   "id": "6f77cb84",
   "metadata": {},
   "outputs": [
    {
     "name": "stdout",
     "output_type": "stream",
     "text": [
      "Could not import regions, which is required for some of the functionalities of this module.\n",
      "Valores duplicados en la columna 'ra': [132.58559 179.51375 185.48906 351.8132 ]\n",
      "Índices de los valores duplicados en la columna 'ra': Int64Index([4105, 5929, 6215, 11228], dtype='int64')\n",
      "Índices de TODAS las ocurrencias de valores duplicados en la columna 'ra': Int64Index([4100, 4105, 5928, 5929, 6213, 6215, 11227, 11228], dtype='int64')\n"
     ]
    },
    {
     "name": "stderr",
     "output_type": "stream",
     "text": [
      "C:\\ProgramData\\Anaconda33\\lib\\site-packages\\astroquery\\sdss\\core.py:874: VisibleDeprecationWarning: Reading unicode strings without specifying the encoding argument is deprecated. Set the encoding, use None for the system default.\n",
      "  arr = np.atleast_1d(np.genfromtxt(io.BytesIO(response.content),\n"
     ]
    },
    {
     "name": "stdout",
     "output_type": "stream",
     "text": [
      "Número de valores únicos: 293697\n",
      "Número de valores repetidos 1 vez: 14895\n",
      "Número de valores repetidos 2 veces: 1239\n",
      "Número de valores repetidos 3 veces: 211\n",
      "Número de valores repetidos 4 veces: 242\n",
      "Número de valores repetidos 5 veces: 45\n",
      "Número de valores repetidos 6 veces: 14\n",
      "Número de valores repetidos 7 veces: 3\n",
      "Número de valores repetidos 8 veces: 0\n",
      "Número de valores repetidos 9 veces: 0\n",
      "Número de valores repetidos 10 veces: 0\n",
      "Valores duplicados en la columna 'ra': [146.9639  146.94999 146.63167 ... 257.38367 258.13561 257.98823]\n",
      "Índices de los valores duplicados en la columna 'ra': Int64Index([     5,      7,      8,      9,     10,     12,     15,     18,\n",
      "                20,     22,\n",
      "            ...\n",
      "            329098, 329099, 329100, 329102, 329103, 329116, 329285, 329438,\n",
      "            329439, 329576],\n",
      "           dtype='int64', length=19304)\n",
      "Índices donde el valor de 'ra' es igual a 145.51241: Int64Index([167, 170], dtype='int64')\n"
     ]
    }
   ],
   "source": [
    "# Importando Cruce entre SDSS e IRAS\n",
    "%run \"C:\\Users\\Cristina Quiazúa M\\Desktop\\MyBPT\\Crossmatching\\2. Cruce entre SDSS e IRAS.ipynb\""
   ]
  },
  {
   "cell_type": "code",
   "execution_count": 3,
   "id": "7179e385",
   "metadata": {},
   "outputs": [
    {
     "data": {
      "text/html": [
       "<div>\n",
       "<style scoped>\n",
       "    .dataframe tbody tr th:only-of-type {\n",
       "        vertical-align: middle;\n",
       "    }\n",
       "\n",
       "    .dataframe tbody tr th {\n",
       "        vertical-align: top;\n",
       "    }\n",
       "\n",
       "    .dataframe thead th {\n",
       "        text-align: right;\n",
       "    }\n",
       "</style>\n",
       "<table border=\"1\" class=\"dataframe\">\n",
       "  <thead>\n",
       "    <tr style=\"text-align: right;\">\n",
       "      <th></th>\n",
       "      <th>ra_sdss</th>\n",
       "      <th>dec_sdss</th>\n",
       "      <th>ra_iras</th>\n",
       "      <th>dec_iras</th>\n",
       "      <th>specobjid</th>\n",
       "      <th>z</th>\n",
       "      <th>h_alpha_flux</th>\n",
       "      <th>h_beta_flux</th>\n",
       "      <th>oiii_5007_flux</th>\n",
       "      <th>nii_6548_flux</th>\n",
       "      <th>...</th>\n",
       "      <th>class</th>\n",
       "      <th>subclass</th>\n",
       "      <th>galname</th>\n",
       "      <th>fnu_12</th>\n",
       "      <th>fnu_25</th>\n",
       "      <th>fnu_60</th>\n",
       "      <th>fnu_100</th>\n",
       "      <th>rat_12_25</th>\n",
       "      <th>rat_25_60</th>\n",
       "      <th>rat_60_100</th>\n",
       "    </tr>\n",
       "  </thead>\n",
       "  <tbody>\n",
       "    <tr>\n",
       "      <th>0</th>\n",
       "      <td>145.51241</td>\n",
       "      <td>0.339171</td>\n",
       "      <td>145.513947</td>\n",
       "      <td>0.337522</td>\n",
       "      <td>299595780317014016</td>\n",
       "      <td>0.006379</td>\n",
       "      <td>153.8173</td>\n",
       "      <td>35.59267</td>\n",
       "      <td>3.656026</td>\n",
       "      <td>13.19764</td>\n",
       "      <td>...</td>\n",
       "      <td>b'GALAXY'</td>\n",
       "      <td>b'STARBURST'</td>\n",
       "      <td>09394+0033</td>\n",
       "      <td>0.35</td>\n",
       "      <td>0.50</td>\n",
       "      <td>5.16</td>\n",
       "      <td>15.08</td>\n",
       "      <td>0.700000</td>\n",
       "      <td>0.096899</td>\n",
       "      <td>0.342175</td>\n",
       "    </tr>\n",
       "    <tr>\n",
       "      <th>1</th>\n",
       "      <td>167.23240</td>\n",
       "      <td>0.444804</td>\n",
       "      <td>167.234604</td>\n",
       "      <td>0.444661</td>\n",
       "      <td>313129123717343232</td>\n",
       "      <td>0.012902</td>\n",
       "      <td>10285.9400</td>\n",
       "      <td>3250.79100</td>\n",
       "      <td>6074.062000</td>\n",
       "      <td>578.00410</td>\n",
       "      <td>...</td>\n",
       "      <td>b'GALAXY'</td>\n",
       "      <td>b'STARBURST'</td>\n",
       "      <td>11063+0042</td>\n",
       "      <td>0.42</td>\n",
       "      <td>0.27</td>\n",
       "      <td>0.82</td>\n",
       "      <td>1.01</td>\n",
       "      <td>1.555556</td>\n",
       "      <td>0.329268</td>\n",
       "      <td>0.811881</td>\n",
       "    </tr>\n",
       "    <tr>\n",
       "      <th>2</th>\n",
       "      <td>169.70646</td>\n",
       "      <td>0.619308</td>\n",
       "      <td>169.707565</td>\n",
       "      <td>0.617749</td>\n",
       "      <td>314283887213701120</td>\n",
       "      <td>0.025391</td>\n",
       "      <td>528.2295</td>\n",
       "      <td>139.90980</td>\n",
       "      <td>34.019120</td>\n",
       "      <td>62.50361</td>\n",
       "      <td>...</td>\n",
       "      <td>b'GALAXY'</td>\n",
       "      <td>b'STARFORMING'</td>\n",
       "      <td>11162+0053</td>\n",
       "      <td>0.25</td>\n",
       "      <td>0.50</td>\n",
       "      <td>0.75</td>\n",
       "      <td>1.79</td>\n",
       "      <td>0.500000</td>\n",
       "      <td>0.666667</td>\n",
       "      <td>0.418994</td>\n",
       "    </tr>\n",
       "    <tr>\n",
       "      <th>3</th>\n",
       "      <td>170.82587</td>\n",
       "      <td>-0.922475</td>\n",
       "      <td>170.826675</td>\n",
       "      <td>-0.921258</td>\n",
       "      <td>315274540949202944</td>\n",
       "      <td>0.008394</td>\n",
       "      <td>998.6539</td>\n",
       "      <td>263.62670</td>\n",
       "      <td>358.444700</td>\n",
       "      <td>54.00912</td>\n",
       "      <td>...</td>\n",
       "      <td>b'GALAXY'</td>\n",
       "      <td>b'STARBURST'</td>\n",
       "      <td>11207-0038</td>\n",
       "      <td>0.29</td>\n",
       "      <td>0.49</td>\n",
       "      <td>1.22</td>\n",
       "      <td>2.83</td>\n",
       "      <td>0.591837</td>\n",
       "      <td>0.401639</td>\n",
       "      <td>0.431095</td>\n",
       "    </tr>\n",
       "    <tr>\n",
       "      <th>4</th>\n",
       "      <td>169.38707</td>\n",
       "      <td>-0.187502</td>\n",
       "      <td>169.385590</td>\n",
       "      <td>-0.186404</td>\n",
       "      <td>315334739210823680</td>\n",
       "      <td>0.040338</td>\n",
       "      <td>520.6220</td>\n",
       "      <td>74.79313</td>\n",
       "      <td>28.152840</td>\n",
       "      <td>74.78139</td>\n",
       "      <td>...</td>\n",
       "      <td>b'GALAXY'</td>\n",
       "      <td>b'STARFORMING'</td>\n",
       "      <td>11149+0005</td>\n",
       "      <td>0.35</td>\n",
       "      <td>0.43</td>\n",
       "      <td>0.68</td>\n",
       "      <td>2.10</td>\n",
       "      <td>0.813953</td>\n",
       "      <td>0.632353</td>\n",
       "      <td>0.323810</td>\n",
       "    </tr>\n",
       "  </tbody>\n",
       "</table>\n",
       "<p>5 rows × 24 columns</p>\n",
       "</div>"
      ],
      "text/plain": [
       "     ra_sdss  dec_sdss     ra_iras  dec_iras           specobjid         z  \\\n",
       "0  145.51241  0.339171  145.513947  0.337522  299595780317014016  0.006379   \n",
       "1  167.23240  0.444804  167.234604  0.444661  313129123717343232  0.012902   \n",
       "2  169.70646  0.619308  169.707565  0.617749  314283887213701120  0.025391   \n",
       "3  170.82587 -0.922475  170.826675 -0.921258  315274540949202944  0.008394   \n",
       "4  169.38707 -0.187502  169.385590 -0.186404  315334739210823680  0.040338   \n",
       "\n",
       "   h_alpha_flux  h_beta_flux  oiii_5007_flux  nii_6548_flux  ...      class  \\\n",
       "0      153.8173     35.59267        3.656026       13.19764  ...  b'GALAXY'   \n",
       "1    10285.9400   3250.79100     6074.062000      578.00410  ...  b'GALAXY'   \n",
       "2      528.2295    139.90980       34.019120       62.50361  ...  b'GALAXY'   \n",
       "3      998.6539    263.62670      358.444700       54.00912  ...  b'GALAXY'   \n",
       "4      520.6220     74.79313       28.152840       74.78139  ...  b'GALAXY'   \n",
       "\n",
       "         subclass     galname  fnu_12 fnu_25 fnu_60 fnu_100  rat_12_25  \\\n",
       "0    b'STARBURST'  09394+0033    0.35   0.50   5.16   15.08   0.700000   \n",
       "1    b'STARBURST'  11063+0042    0.42   0.27   0.82    1.01   1.555556   \n",
       "2  b'STARFORMING'  11162+0053    0.25   0.50   0.75    1.79   0.500000   \n",
       "3    b'STARBURST'  11207-0038    0.29   0.49   1.22    2.83   0.591837   \n",
       "4  b'STARFORMING'  11149+0005    0.35   0.43   0.68    2.10   0.813953   \n",
       "\n",
       "   rat_25_60  rat_60_100  \n",
       "0   0.096899    0.342175  \n",
       "1   0.329268    0.811881  \n",
       "2   0.666667    0.418994  \n",
       "3   0.401639    0.431095  \n",
       "4   0.632353    0.323810  \n",
       "\n",
       "[5 rows x 24 columns]"
      ]
     },
     "execution_count": 3,
     "metadata": {},
     "output_type": "execute_result"
    }
   ],
   "source": [
    "FusionData[0:5]"
   ]
  },
  {
   "cell_type": "code",
   "execution_count": 4,
   "id": "985fe63b",
   "metadata": {},
   "outputs": [
    {
     "data": {
      "text/plain": [
       "1269"
      ]
     },
     "execution_count": 4,
     "metadata": {},
     "output_type": "execute_result"
    }
   ],
   "source": [
    "len(FusionData)"
   ]
  },
  {
   "cell_type": "code",
   "execution_count": 5,
   "id": "9a34d367",
   "metadata": {},
   "outputs": [
    {
     "data": {
      "text/plain": [
       "pandas.core.frame.DataFrame"
      ]
     },
     "execution_count": 5,
     "metadata": {},
     "output_type": "execute_result"
    }
   ],
   "source": [
    "type(FusionData)"
   ]
  },
  {
   "cell_type": "code",
   "execution_count": 6,
   "id": "ce33ee0b",
   "metadata": {},
   "outputs": [
    {
     "data": {
      "text/plain": [
       "['ra_sdss',\n",
       " 'dec_sdss',\n",
       " 'ra_iras',\n",
       " 'dec_iras',\n",
       " 'specobjid',\n",
       " 'z',\n",
       " 'h_alpha_flux',\n",
       " 'h_beta_flux',\n",
       " 'oiii_5007_flux',\n",
       " 'nii_6548_flux',\n",
       " 'nii_6584_flux',\n",
       " 'sii_6717_flux',\n",
       " 'sii_6731_flux',\n",
       " 'oi_6300_flux',\n",
       " 'class',\n",
       " 'subclass',\n",
       " 'galname',\n",
       " 'fnu_12',\n",
       " 'fnu_25',\n",
       " 'fnu_60',\n",
       " 'fnu_100',\n",
       " 'rat_12_25',\n",
       " 'rat_25_60',\n",
       " 'rat_60_100']"
      ]
     },
     "execution_count": 6,
     "metadata": {},
     "output_type": "execute_result"
    }
   ],
   "source": [
    "nombres_columnas = FusionData.columns.tolist()\n",
    "nombres_columnas"
   ]
  },
  {
   "cell_type": "markdown",
   "id": "ef3d7cab",
   "metadata": {},
   "source": [
    "## Razones"
   ]
  },
  {
   "cell_type": "code",
   "execution_count": 7,
   "id": "9be8f193",
   "metadata": {},
   "outputs": [],
   "source": [
    "ejey_OHb=np.log((FusionData['oiii_5007_flux'])/(FusionData['h_beta_flux']))\n",
    "\n",
    "ejex_NH=np.log((FusionData['nii_6548_flux']+FusionData['nii_6584_flux'])/FusionData['h_alpha_flux'])\n",
    "ejex_SH=np.log((FusionData['sii_6717_flux']+FusionData['sii_6731_flux'])/FusionData['h_alpha_flux'])\n",
    "ejex_OH=np.log((FusionData['oi_6300_flux'])/(FusionData['h_alpha_flux']))"
   ]
  },
  {
   "cell_type": "code",
   "execution_count": 8,
   "id": "70d0f008",
   "metadata": {},
   "outputs": [
    {
     "data": {
      "text/plain": [
       "pandas.core.series.Series"
      ]
     },
     "execution_count": 8,
     "metadata": {},
     "output_type": "execute_result"
    }
   ],
   "source": [
    "type(ejey_OHb)"
   ]
  },
  {
   "cell_type": "code",
   "execution_count": 9,
   "id": "cf9a9e79",
   "metadata": {},
   "outputs": [],
   "source": [
    "# Crea un diccionario con las nuevas columnas y sus nombres\n",
    "nuevas_columnas = {\n",
    "    \"Ejey_OHb\": ejey_OHb,\n",
    "    \"Ejex_NH\": ejex_NH,\n",
    "    \"Ejex_SH\": ejex_SH,\n",
    "    \"Ejex_OH\": ejex_OH\n",
    "}"
   ]
  },
  {
   "cell_type": "code",
   "execution_count": 10,
   "id": "7a8265a2",
   "metadata": {},
   "outputs": [],
   "source": [
    "# Convierte el diccionario en un DataFrame\n",
    "df_nuevas_columnas = pd.DataFrame(nuevas_columnas)"
   ]
  },
  {
   "cell_type": "code",
   "execution_count": 11,
   "id": "4d96af77",
   "metadata": {},
   "outputs": [],
   "source": [
    "# Concatena el DataFrame df_nuevas_columnas con el DataFrame FusionData\n",
    "FusionData = pd.concat([FusionData, df_nuevas_columnas], axis=1)"
   ]
  },
  {
   "cell_type": "code",
   "execution_count": 12,
   "id": "3262d817",
   "metadata": {},
   "outputs": [
    {
     "data": {
      "text/html": [
       "<div>\n",
       "<style scoped>\n",
       "    .dataframe tbody tr th:only-of-type {\n",
       "        vertical-align: middle;\n",
       "    }\n",
       "\n",
       "    .dataframe tbody tr th {\n",
       "        vertical-align: top;\n",
       "    }\n",
       "\n",
       "    .dataframe thead th {\n",
       "        text-align: right;\n",
       "    }\n",
       "</style>\n",
       "<table border=\"1\" class=\"dataframe\">\n",
       "  <thead>\n",
       "    <tr style=\"text-align: right;\">\n",
       "      <th></th>\n",
       "      <th>ra_sdss</th>\n",
       "      <th>dec_sdss</th>\n",
       "      <th>ra_iras</th>\n",
       "      <th>dec_iras</th>\n",
       "      <th>specobjid</th>\n",
       "      <th>z</th>\n",
       "      <th>h_alpha_flux</th>\n",
       "      <th>h_beta_flux</th>\n",
       "      <th>oiii_5007_flux</th>\n",
       "      <th>nii_6548_flux</th>\n",
       "      <th>...</th>\n",
       "      <th>fnu_25</th>\n",
       "      <th>fnu_60</th>\n",
       "      <th>fnu_100</th>\n",
       "      <th>rat_12_25</th>\n",
       "      <th>rat_25_60</th>\n",
       "      <th>rat_60_100</th>\n",
       "      <th>Ejey_OHb</th>\n",
       "      <th>Ejex_NH</th>\n",
       "      <th>Ejex_SH</th>\n",
       "      <th>Ejex_OH</th>\n",
       "    </tr>\n",
       "  </thead>\n",
       "  <tbody>\n",
       "    <tr>\n",
       "      <th>0</th>\n",
       "      <td>145.51241</td>\n",
       "      <td>0.339171</td>\n",
       "      <td>145.513947</td>\n",
       "      <td>0.337522</td>\n",
       "      <td>299595780317014016</td>\n",
       "      <td>0.006379</td>\n",
       "      <td>153.8173</td>\n",
       "      <td>35.59267</td>\n",
       "      <td>3.656026</td>\n",
       "      <td>13.19764</td>\n",
       "      <td>...</td>\n",
       "      <td>0.50</td>\n",
       "      <td>5.16</td>\n",
       "      <td>15.08</td>\n",
       "      <td>0.700000</td>\n",
       "      <td>0.096899</td>\n",
       "      <td>0.342175</td>\n",
       "      <td>-2.275763</td>\n",
       "      <td>-1.065383</td>\n",
       "      <td>-1.694790</td>\n",
       "      <td>-5.024607</td>\n",
       "    </tr>\n",
       "    <tr>\n",
       "      <th>1</th>\n",
       "      <td>167.23240</td>\n",
       "      <td>0.444804</td>\n",
       "      <td>167.234604</td>\n",
       "      <td>0.444661</td>\n",
       "      <td>313129123717343232</td>\n",
       "      <td>0.012902</td>\n",
       "      <td>10285.9400</td>\n",
       "      <td>3250.79100</td>\n",
       "      <td>6074.062000</td>\n",
       "      <td>578.00410</td>\n",
       "      <td>...</td>\n",
       "      <td>0.27</td>\n",
       "      <td>0.82</td>\n",
       "      <td>1.01</td>\n",
       "      <td>1.555556</td>\n",
       "      <td>0.329268</td>\n",
       "      <td>0.811881</td>\n",
       "      <td>0.625129</td>\n",
       "      <td>-1.488608</td>\n",
       "      <td>-1.481473</td>\n",
       "      <td>-4.039606</td>\n",
       "    </tr>\n",
       "    <tr>\n",
       "      <th>2</th>\n",
       "      <td>169.70646</td>\n",
       "      <td>0.619308</td>\n",
       "      <td>169.707565</td>\n",
       "      <td>0.617749</td>\n",
       "      <td>314283887213701120</td>\n",
       "      <td>0.025391</td>\n",
       "      <td>528.2295</td>\n",
       "      <td>139.90980</td>\n",
       "      <td>34.019120</td>\n",
       "      <td>62.50361</td>\n",
       "      <td>...</td>\n",
       "      <td>0.50</td>\n",
       "      <td>0.75</td>\n",
       "      <td>1.79</td>\n",
       "      <td>0.500000</td>\n",
       "      <td>0.666667</td>\n",
       "      <td>0.418994</td>\n",
       "      <td>-1.414075</td>\n",
       "      <td>-0.743963</td>\n",
       "      <td>-1.261980</td>\n",
       "      <td>-3.489259</td>\n",
       "    </tr>\n",
       "  </tbody>\n",
       "</table>\n",
       "<p>3 rows × 28 columns</p>\n",
       "</div>"
      ],
      "text/plain": [
       "     ra_sdss  dec_sdss     ra_iras  dec_iras           specobjid         z  \\\n",
       "0  145.51241  0.339171  145.513947  0.337522  299595780317014016  0.006379   \n",
       "1  167.23240  0.444804  167.234604  0.444661  313129123717343232  0.012902   \n",
       "2  169.70646  0.619308  169.707565  0.617749  314283887213701120  0.025391   \n",
       "\n",
       "   h_alpha_flux  h_beta_flux  oiii_5007_flux  nii_6548_flux  ...  fnu_25  \\\n",
       "0      153.8173     35.59267        3.656026       13.19764  ...    0.50   \n",
       "1    10285.9400   3250.79100     6074.062000      578.00410  ...    0.27   \n",
       "2      528.2295    139.90980       34.019120       62.50361  ...    0.50   \n",
       "\n",
       "   fnu_60  fnu_100  rat_12_25 rat_25_60 rat_60_100  Ejey_OHb   Ejex_NH  \\\n",
       "0    5.16    15.08   0.700000  0.096899   0.342175 -2.275763 -1.065383   \n",
       "1    0.82     1.01   1.555556  0.329268   0.811881  0.625129 -1.488608   \n",
       "2    0.75     1.79   0.500000  0.666667   0.418994 -1.414075 -0.743963   \n",
       "\n",
       "    Ejex_SH   Ejex_OH  \n",
       "0 -1.694790 -5.024607  \n",
       "1 -1.481473 -4.039606  \n",
       "2 -1.261980 -3.489259  \n",
       "\n",
       "[3 rows x 28 columns]"
      ]
     },
     "execution_count": 12,
     "metadata": {},
     "output_type": "execute_result"
    }
   ],
   "source": [
    "FusionData[0:3]"
   ]
  },
  {
   "cell_type": "markdown",
   "id": "a78d7bc3",
   "metadata": {},
   "source": [
    "## Log de rat_12_25"
   ]
  },
  {
   "cell_type": "code",
   "execution_count": 13,
   "id": "2b66fb21",
   "metadata": {},
   "outputs": [],
   "source": [
    "Log_12_25=np.log(FusionData['rat_12_25'])"
   ]
  },
  {
   "cell_type": "code",
   "execution_count": 14,
   "id": "48c0c652",
   "metadata": {},
   "outputs": [
    {
     "data": {
      "text/plain": [
       "0   -0.356675\n",
       "1    0.441833\n",
       "2   -0.693147\n",
       "Name: rat_12_25, dtype: float32"
      ]
     },
     "execution_count": 14,
     "metadata": {},
     "output_type": "execute_result"
    }
   ],
   "source": [
    "Log_12_25[0:3]"
   ]
  },
  {
   "cell_type": "code",
   "execution_count": 15,
   "id": "567e0fbf",
   "metadata": {},
   "outputs": [],
   "source": [
    "# Crea un diccionario con la nueva columna y su nombre\n",
    "nueva_columna = {\n",
    "    \"Log_12_25\": Log_12_25\n",
    "}\n",
    "\n",
    "# Convierte el diccionario en un DataFrame\n",
    "df_nueva_columna = pd.DataFrame(nueva_columna)\n",
    "\n",
    "# Concatena el DataFrame df_nueva_columna con el DataFrame FusionData\n",
    "FusionData = pd.concat([FusionData, df_nueva_columna], axis=1)"
   ]
  },
  {
   "cell_type": "code",
   "execution_count": 16,
   "id": "5bfb2df1",
   "metadata": {},
   "outputs": [
    {
     "data": {
      "text/html": [
       "<div>\n",
       "<style scoped>\n",
       "    .dataframe tbody tr th:only-of-type {\n",
       "        vertical-align: middle;\n",
       "    }\n",
       "\n",
       "    .dataframe tbody tr th {\n",
       "        vertical-align: top;\n",
       "    }\n",
       "\n",
       "    .dataframe thead th {\n",
       "        text-align: right;\n",
       "    }\n",
       "</style>\n",
       "<table border=\"1\" class=\"dataframe\">\n",
       "  <thead>\n",
       "    <tr style=\"text-align: right;\">\n",
       "      <th></th>\n",
       "      <th>ra_sdss</th>\n",
       "      <th>dec_sdss</th>\n",
       "      <th>ra_iras</th>\n",
       "      <th>dec_iras</th>\n",
       "      <th>specobjid</th>\n",
       "      <th>z</th>\n",
       "      <th>h_alpha_flux</th>\n",
       "      <th>h_beta_flux</th>\n",
       "      <th>oiii_5007_flux</th>\n",
       "      <th>nii_6548_flux</th>\n",
       "      <th>...</th>\n",
       "      <th>fnu_60</th>\n",
       "      <th>fnu_100</th>\n",
       "      <th>rat_12_25</th>\n",
       "      <th>rat_25_60</th>\n",
       "      <th>rat_60_100</th>\n",
       "      <th>Ejey_OHb</th>\n",
       "      <th>Ejex_NH</th>\n",
       "      <th>Ejex_SH</th>\n",
       "      <th>Ejex_OH</th>\n",
       "      <th>Log_12_25</th>\n",
       "    </tr>\n",
       "  </thead>\n",
       "  <tbody>\n",
       "    <tr>\n",
       "      <th>0</th>\n",
       "      <td>145.51241</td>\n",
       "      <td>0.339171</td>\n",
       "      <td>145.513947</td>\n",
       "      <td>0.337522</td>\n",
       "      <td>299595780317014016</td>\n",
       "      <td>0.006379</td>\n",
       "      <td>153.8173</td>\n",
       "      <td>35.59267</td>\n",
       "      <td>3.656026</td>\n",
       "      <td>13.19764</td>\n",
       "      <td>...</td>\n",
       "      <td>5.16</td>\n",
       "      <td>15.08</td>\n",
       "      <td>0.700000</td>\n",
       "      <td>0.096899</td>\n",
       "      <td>0.342175</td>\n",
       "      <td>-2.275763</td>\n",
       "      <td>-1.065383</td>\n",
       "      <td>-1.694790</td>\n",
       "      <td>-5.024607</td>\n",
       "      <td>-0.356675</td>\n",
       "    </tr>\n",
       "    <tr>\n",
       "      <th>1</th>\n",
       "      <td>167.23240</td>\n",
       "      <td>0.444804</td>\n",
       "      <td>167.234604</td>\n",
       "      <td>0.444661</td>\n",
       "      <td>313129123717343232</td>\n",
       "      <td>0.012902</td>\n",
       "      <td>10285.9400</td>\n",
       "      <td>3250.79100</td>\n",
       "      <td>6074.062000</td>\n",
       "      <td>578.00410</td>\n",
       "      <td>...</td>\n",
       "      <td>0.82</td>\n",
       "      <td>1.01</td>\n",
       "      <td>1.555556</td>\n",
       "      <td>0.329268</td>\n",
       "      <td>0.811881</td>\n",
       "      <td>0.625129</td>\n",
       "      <td>-1.488608</td>\n",
       "      <td>-1.481473</td>\n",
       "      <td>-4.039606</td>\n",
       "      <td>0.441833</td>\n",
       "    </tr>\n",
       "    <tr>\n",
       "      <th>2</th>\n",
       "      <td>169.70646</td>\n",
       "      <td>0.619308</td>\n",
       "      <td>169.707565</td>\n",
       "      <td>0.617749</td>\n",
       "      <td>314283887213701120</td>\n",
       "      <td>0.025391</td>\n",
       "      <td>528.2295</td>\n",
       "      <td>139.90980</td>\n",
       "      <td>34.019120</td>\n",
       "      <td>62.50361</td>\n",
       "      <td>...</td>\n",
       "      <td>0.75</td>\n",
       "      <td>1.79</td>\n",
       "      <td>0.500000</td>\n",
       "      <td>0.666667</td>\n",
       "      <td>0.418994</td>\n",
       "      <td>-1.414075</td>\n",
       "      <td>-0.743963</td>\n",
       "      <td>-1.261980</td>\n",
       "      <td>-3.489259</td>\n",
       "      <td>-0.693147</td>\n",
       "    </tr>\n",
       "  </tbody>\n",
       "</table>\n",
       "<p>3 rows × 29 columns</p>\n",
       "</div>"
      ],
      "text/plain": [
       "     ra_sdss  dec_sdss     ra_iras  dec_iras           specobjid         z  \\\n",
       "0  145.51241  0.339171  145.513947  0.337522  299595780317014016  0.006379   \n",
       "1  167.23240  0.444804  167.234604  0.444661  313129123717343232  0.012902   \n",
       "2  169.70646  0.619308  169.707565  0.617749  314283887213701120  0.025391   \n",
       "\n",
       "   h_alpha_flux  h_beta_flux  oiii_5007_flux  nii_6548_flux  ...  fnu_60  \\\n",
       "0      153.8173     35.59267        3.656026       13.19764  ...    5.16   \n",
       "1    10285.9400   3250.79100     6074.062000      578.00410  ...    0.82   \n",
       "2      528.2295    139.90980       34.019120       62.50361  ...    0.75   \n",
       "\n",
       "   fnu_100  rat_12_25  rat_25_60 rat_60_100  Ejey_OHb   Ejex_NH   Ejex_SH  \\\n",
       "0    15.08   0.700000   0.096899   0.342175 -2.275763 -1.065383 -1.694790   \n",
       "1     1.01   1.555556   0.329268   0.811881  0.625129 -1.488608 -1.481473   \n",
       "2     1.79   0.500000   0.666667   0.418994 -1.414075 -0.743963 -1.261980   \n",
       "\n",
       "    Ejex_OH  Log_12_25  \n",
       "0 -5.024607  -0.356675  \n",
       "1 -4.039606   0.441833  \n",
       "2 -3.489259  -0.693147  \n",
       "\n",
       "[3 rows x 29 columns]"
      ]
     },
     "execution_count": 16,
     "metadata": {},
     "output_type": "execute_result"
    }
   ],
   "source": [
    "FusionData[0:3]"
   ]
  },
  {
   "cell_type": "code",
   "execution_count": 17,
   "id": "8d40cf72",
   "metadata": {},
   "outputs": [
    {
     "data": {
      "text/plain": [
       "['ra_sdss',\n",
       " 'dec_sdss',\n",
       " 'ra_iras',\n",
       " 'dec_iras',\n",
       " 'specobjid',\n",
       " 'z',\n",
       " 'h_alpha_flux',\n",
       " 'h_beta_flux',\n",
       " 'oiii_5007_flux',\n",
       " 'nii_6548_flux',\n",
       " 'nii_6584_flux',\n",
       " 'sii_6717_flux',\n",
       " 'sii_6731_flux',\n",
       " 'oi_6300_flux',\n",
       " 'class',\n",
       " 'subclass',\n",
       " 'galname',\n",
       " 'fnu_12',\n",
       " 'fnu_25',\n",
       " 'fnu_60',\n",
       " 'fnu_100',\n",
       " 'rat_12_25',\n",
       " 'rat_25_60',\n",
       " 'rat_60_100',\n",
       " 'Ejey_OHb',\n",
       " 'Ejex_NH',\n",
       " 'Ejex_SH',\n",
       " 'Ejex_OH',\n",
       " 'Log_12_25']"
      ]
     },
     "execution_count": 17,
     "metadata": {},
     "output_type": "execute_result"
    }
   ],
   "source": [
    "nombres_columnas = FusionData.columns.tolist()\n",
    "nombres_columnas"
   ]
  }
 ],
 "metadata": {
  "kernelspec": {
   "display_name": "Python 3 (ipykernel)",
   "language": "python",
   "name": "python3"
  },
  "language_info": {
   "codemirror_mode": {
    "name": "ipython",
    "version": 3
   },
   "file_extension": ".py",
   "mimetype": "text/x-python",
   "name": "python",
   "nbconvert_exporter": "python",
   "pygments_lexer": "ipython3",
   "version": "3.9.7"
  }
 },
 "nbformat": 4,
 "nbformat_minor": 5
}
