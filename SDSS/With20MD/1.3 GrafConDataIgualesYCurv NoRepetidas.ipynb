{
 "cells": [
  {
   "cell_type": "markdown",
   "id": "07dd29e1",
   "metadata": {},
   "source": [
    "Objetivo:\n",
    "1. Escoger datos distribuidos así: 25% = 'STARFORMING', 25% = 'STARBURST', 25% = 'AGN', 25% = 'BROADLINE' esto dado la columna de SDSS subclass. Se escogen entonces 5.000 de cada subclasificación para un total de 20.000 galaxias.  \n",
    "**Nota:** esto se hace para aumentar la cantidad de datos LINER en la muestra. Haciendo esta operacion se logra obtener mayor cantidad de estos que tomando un query sencillo de los primeros 20.000 datos del SDSS.  \n",
    "2. Realizar el BPT clásico.  \n",
    "3. Líneas de separación de fuente de ionización según ecuaciones de: **The Host Galaxies and Classification of Active Galactic Nuclei - 2006**  \n",
    "4. Con Z < 0.8  "
   ]
  },
  {
   "cell_type": "code",
   "execution_count": 1,
   "id": "4f31d171",
   "metadata": {},
   "outputs": [
    {
     "name": "stdout",
     "output_type": "stream",
     "text": [
      "Could not import regions, which is required for some of the functionalities of this module.\n",
      "Valores duplicados en la columna 'ra': [132.58559 179.51375 185.48906 351.8132 ]\n",
      "Índices de los valores duplicados en la columna 'ra': Int64Index([4105, 5929, 6215, 11228], dtype='int64')\n",
      "Índices de TODAS las ocurrencias de valores duplicados en la columna 'ra': Int64Index([4100, 4105, 5928, 5929, 6213, 6215, 11227, 11228], dtype='int64')\n"
     ]
    },
    {
     "name": "stderr",
     "output_type": "stream",
     "text": [
      "C:\\ProgramData\\Anaconda33\\lib\\site-packages\\astroquery\\sdss\\core.py:874: VisibleDeprecationWarning: Reading unicode strings without specifying the encoding argument is deprecated. Set the encoding, use None for the system default.\n",
      "  arr = np.atleast_1d(np.genfromtxt(io.BytesIO(response.content),\n"
     ]
    },
    {
     "name": "stdout",
     "output_type": "stream",
     "text": [
      "Número de valores únicos: 293697\n",
      "Número de valores repetidos 1 vez: 14895\n",
      "Número de valores repetidos 2 veces: 1239\n",
      "Número de valores repetidos 3 veces: 211\n",
      "Número de valores repetidos 4 veces: 242\n",
      "Número de valores repetidos 5 veces: 45\n",
      "Número de valores repetidos 6 veces: 14\n",
      "Número de valores repetidos 7 veces: 3\n",
      "Número de valores repetidos 8 veces: 0\n",
      "Número de valores repetidos 9 veces: 0\n",
      "Número de valores repetidos 10 veces: 0\n",
      "Valores duplicados en la columna 'ra': [146.9639  146.94999 146.63167 ... 257.38367 258.13561 257.98823]\n",
      "Índices de los valores duplicados en la columna 'ra': Int64Index([     5,      7,      8,      9,     10,     12,     15,     18,\n",
      "                20,     22,\n",
      "            ...\n",
      "            329098, 329099, 329100, 329102, 329103, 329116, 329285, 329438,\n",
      "            329439, 329576],\n",
      "           dtype='int64', length=19304)\n",
      "Índices donde el valor de 'ra' es igual a 145.51241: Int64Index([167, 170], dtype='int64')\n"
     ]
    }
   ],
   "source": [
    "%run \"C:\\Users\\Cristina Quiazúa M\\Desktop\\MyBPT\\Crossmatching\\1. Datos IRAS Y SDSS.ipynb\""
   ]
  },
  {
   "cell_type": "code",
   "execution_count": 2,
   "id": "ccbc5875",
   "metadata": {},
   "outputs": [
    {
     "data": {
      "text/html": [
       "<div>\n",
       "<style scoped>\n",
       "    .dataframe tbody tr th:only-of-type {\n",
       "        vertical-align: middle;\n",
       "    }\n",
       "\n",
       "    .dataframe tbody tr th {\n",
       "        vertical-align: top;\n",
       "    }\n",
       "\n",
       "    .dataframe thead th {\n",
       "        text-align: right;\n",
       "    }\n",
       "</style>\n",
       "<table border=\"1\" class=\"dataframe\">\n",
       "  <thead>\n",
       "    <tr style=\"text-align: right;\">\n",
       "      <th></th>\n",
       "      <th>specobjid</th>\n",
       "      <th>ra</th>\n",
       "      <th>dec</th>\n",
       "      <th>z</th>\n",
       "      <th>h_alpha_flux</th>\n",
       "      <th>h_beta_flux</th>\n",
       "      <th>oiii_5007_flux</th>\n",
       "      <th>nii_6548_flux</th>\n",
       "      <th>nii_6584_flux</th>\n",
       "      <th>sii_6717_flux</th>\n",
       "      <th>sii_6731_flux</th>\n",
       "      <th>oi_6300_flux</th>\n",
       "      <th>class</th>\n",
       "      <th>subclass</th>\n",
       "    </tr>\n",
       "  </thead>\n",
       "  <tbody>\n",
       "    <tr>\n",
       "      <th>0</th>\n",
       "      <td>299489677444933632</td>\n",
       "      <td>146.71421</td>\n",
       "      <td>-1.041304</td>\n",
       "      <td>0.021222</td>\n",
       "      <td>472.59040</td>\n",
       "      <td>119.49560</td>\n",
       "      <td>68.39606</td>\n",
       "      <td>74.30252</td>\n",
       "      <td>224.11360</td>\n",
       "      <td>124.71150</td>\n",
       "      <td>84.18053</td>\n",
       "      <td>18.594930</td>\n",
       "      <td>b'GALAXY'</td>\n",
       "      <td>b'STARFORMING'</td>\n",
       "    </tr>\n",
       "    <tr>\n",
       "      <th>1</th>\n",
       "      <td>299490502078654464</td>\n",
       "      <td>146.62857</td>\n",
       "      <td>-0.765137</td>\n",
       "      <td>0.064656</td>\n",
       "      <td>99.40005</td>\n",
       "      <td>25.64047</td>\n",
       "      <td>21.44437</td>\n",
       "      <td>17.10464</td>\n",
       "      <td>51.59155</td>\n",
       "      <td>35.33497</td>\n",
       "      <td>21.65778</td>\n",
       "      <td>8.490424</td>\n",
       "      <td>b'GALAXY'</td>\n",
       "      <td>b'STARFORMING'</td>\n",
       "    </tr>\n",
       "    <tr>\n",
       "      <th>2</th>\n",
       "      <td>299491051364706304</td>\n",
       "      <td>146.96390</td>\n",
       "      <td>-0.545003</td>\n",
       "      <td>0.055988</td>\n",
       "      <td>181.52620</td>\n",
       "      <td>47.36650</td>\n",
       "      <td>11.85567</td>\n",
       "      <td>17.94872</td>\n",
       "      <td>54.13749</td>\n",
       "      <td>31.28298</td>\n",
       "      <td>19.16762</td>\n",
       "      <td>4.319232</td>\n",
       "      <td>b'GALAXY'</td>\n",
       "      <td>b'STARBURST'</td>\n",
       "    </tr>\n",
       "  </tbody>\n",
       "</table>\n",
       "</div>"
      ],
      "text/plain": [
       "            specobjid         ra       dec         z  h_alpha_flux  \\\n",
       "0  299489677444933632  146.71421 -1.041304  0.021222     472.59040   \n",
       "1  299490502078654464  146.62857 -0.765137  0.064656      99.40005   \n",
       "2  299491051364706304  146.96390 -0.545003  0.055988     181.52620   \n",
       "\n",
       "   h_beta_flux  oiii_5007_flux  nii_6548_flux  nii_6584_flux  sii_6717_flux  \\\n",
       "0    119.49560        68.39606       74.30252      224.11360      124.71150   \n",
       "1     25.64047        21.44437       17.10464       51.59155       35.33497   \n",
       "2     47.36650        11.85567       17.94872       54.13749       31.28298   \n",
       "\n",
       "   sii_6731_flux  oi_6300_flux      class        subclass  \n",
       "0       84.18053     18.594930  b'GALAXY'  b'STARFORMING'  \n",
       "1       21.65778      8.490424  b'GALAXY'  b'STARFORMING'  \n",
       "2       19.16762      4.319232  b'GALAXY'    b'STARBURST'  "
      ]
     },
     "execution_count": 2,
     "metadata": {},
     "output_type": "execute_result"
    }
   ],
   "source": [
    "SDSS[0:3]"
   ]
  },
  {
   "cell_type": "code",
   "execution_count": 3,
   "id": "874f25ce",
   "metadata": {},
   "outputs": [
    {
     "data": {
      "text/plain": [
       "b'STARFORMING'    224391\n",
       "b'STARBURST'       59376\n",
       "b'AGN'             15617\n",
       "b'BROADLINE'       10962\n",
       "Name: subclass, dtype: int64"
      ]
     },
     "execution_count": 3,
     "metadata": {},
     "output_type": "execute_result"
    }
   ],
   "source": [
    "valores_y_cantidades = SDSS['subclass'].value_counts()\n",
    "valores_y_cantidades"
   ]
  },
  {
   "cell_type": "code",
   "execution_count": 4,
   "id": "c1400f0b",
   "metadata": {},
   "outputs": [],
   "source": [
    "# Crear un DataFrame vacío llamado \"data\"\n",
    "data = pd.DataFrame()"
   ]
  },
  {
   "cell_type": "code",
   "execution_count": 5,
   "id": "8031197b",
   "metadata": {},
   "outputs": [],
   "source": [
    "# Seleccionar 5000 datos para cada clase\n",
    "classes = [b'STARFORMING', b'STARBURST', b'AGN', b'BROADLINE']\n",
    "for class_label in classes:\n",
    "    # Filtrar el DataFrame original por la clase actual y seleccionar 5000 filas\n",
    "    subset = SDSS[SDSS['subclass'] == class_label].head(5000)\n",
    "    \n",
    "    # Concatenar el subset al DataFrame \"data\"\n",
    "    data = pd.concat([data, subset])"
   ]
  },
  {
   "cell_type": "code",
   "execution_count": 6,
   "id": "21c3a7ce",
   "metadata": {},
   "outputs": [
    {
     "data": {
      "text/html": [
       "<div>\n",
       "<style scoped>\n",
       "    .dataframe tbody tr th:only-of-type {\n",
       "        vertical-align: middle;\n",
       "    }\n",
       "\n",
       "    .dataframe tbody tr th {\n",
       "        vertical-align: top;\n",
       "    }\n",
       "\n",
       "    .dataframe thead th {\n",
       "        text-align: right;\n",
       "    }\n",
       "</style>\n",
       "<table border=\"1\" class=\"dataframe\">\n",
       "  <thead>\n",
       "    <tr style=\"text-align: right;\">\n",
       "      <th></th>\n",
       "      <th>specobjid</th>\n",
       "      <th>ra</th>\n",
       "      <th>dec</th>\n",
       "      <th>z</th>\n",
       "      <th>h_alpha_flux</th>\n",
       "      <th>h_beta_flux</th>\n",
       "      <th>oiii_5007_flux</th>\n",
       "      <th>nii_6548_flux</th>\n",
       "      <th>nii_6584_flux</th>\n",
       "      <th>sii_6717_flux</th>\n",
       "      <th>sii_6731_flux</th>\n",
       "      <th>oi_6300_flux</th>\n",
       "      <th>class</th>\n",
       "      <th>subclass</th>\n",
       "    </tr>\n",
       "  </thead>\n",
       "  <tbody>\n",
       "    <tr>\n",
       "      <th>0</th>\n",
       "      <td>299489677444933632</td>\n",
       "      <td>146.71421</td>\n",
       "      <td>-1.041304</td>\n",
       "      <td>0.021222</td>\n",
       "      <td>472.59040</td>\n",
       "      <td>119.49560</td>\n",
       "      <td>68.39606</td>\n",
       "      <td>74.302520</td>\n",
       "      <td>224.11360</td>\n",
       "      <td>124.71150</td>\n",
       "      <td>84.18053</td>\n",
       "      <td>18.594930</td>\n",
       "      <td>b'GALAXY'</td>\n",
       "      <td>b'STARFORMING'</td>\n",
       "    </tr>\n",
       "    <tr>\n",
       "      <th>1</th>\n",
       "      <td>299490502078654464</td>\n",
       "      <td>146.62857</td>\n",
       "      <td>-0.765137</td>\n",
       "      <td>0.064656</td>\n",
       "      <td>99.40005</td>\n",
       "      <td>25.64047</td>\n",
       "      <td>21.44437</td>\n",
       "      <td>17.104640</td>\n",
       "      <td>51.59155</td>\n",
       "      <td>35.33497</td>\n",
       "      <td>21.65778</td>\n",
       "      <td>8.490424</td>\n",
       "      <td>b'GALAXY'</td>\n",
       "      <td>b'STARFORMING'</td>\n",
       "    </tr>\n",
       "    <tr>\n",
       "      <th>2</th>\n",
       "      <td>299491051834468352</td>\n",
       "      <td>146.63167</td>\n",
       "      <td>-0.988278</td>\n",
       "      <td>0.052654</td>\n",
       "      <td>127.30580</td>\n",
       "      <td>38.33226</td>\n",
       "      <td>35.46671</td>\n",
       "      <td>8.550285</td>\n",
       "      <td>25.78963</td>\n",
       "      <td>30.26996</td>\n",
       "      <td>25.72297</td>\n",
       "      <td>6.269853</td>\n",
       "      <td>b'GALAXY'</td>\n",
       "      <td>b'STARFORMING'</td>\n",
       "    </tr>\n",
       "  </tbody>\n",
       "</table>\n",
       "</div>"
      ],
      "text/plain": [
       "            specobjid         ra       dec         z  h_alpha_flux  \\\n",
       "0  299489677444933632  146.71421 -1.041304  0.021222     472.59040   \n",
       "1  299490502078654464  146.62857 -0.765137  0.064656      99.40005   \n",
       "2  299491051834468352  146.63167 -0.988278  0.052654     127.30580   \n",
       "\n",
       "   h_beta_flux  oiii_5007_flux  nii_6548_flux  nii_6584_flux  sii_6717_flux  \\\n",
       "0    119.49560        68.39606      74.302520      224.11360      124.71150   \n",
       "1     25.64047        21.44437      17.104640       51.59155       35.33497   \n",
       "2     38.33226        35.46671       8.550285       25.78963       30.26996   \n",
       "\n",
       "   sii_6731_flux  oi_6300_flux      class        subclass  \n",
       "0       84.18053     18.594930  b'GALAXY'  b'STARFORMING'  \n",
       "1       21.65778      8.490424  b'GALAXY'  b'STARFORMING'  \n",
       "2       25.72297      6.269853  b'GALAXY'  b'STARFORMING'  "
      ]
     },
     "execution_count": 6,
     "metadata": {},
     "output_type": "execute_result"
    }
   ],
   "source": [
    "# Restablecer los índices del nuevo DataFrame\n",
    "data.reset_index(drop=True, inplace=True)\n",
    "\n",
    "# Imprimir el DataFrame resultante\n",
    "data[0:3]"
   ]
  },
  {
   "cell_type": "code",
   "execution_count": 7,
   "id": "e941a2ab",
   "metadata": {},
   "outputs": [
    {
     "data": {
      "text/plain": [
       "20000"
      ]
     },
     "execution_count": 7,
     "metadata": {},
     "output_type": "execute_result"
    }
   ],
   "source": [
    "len(data)"
   ]
  },
  {
   "cell_type": "markdown",
   "id": "7635e578",
   "metadata": {},
   "source": [
    "## Razones"
   ]
  },
  {
   "cell_type": "code",
   "execution_count": 8,
   "id": "687753a9",
   "metadata": {},
   "outputs": [],
   "source": [
    "ejey_OHb=np.log((data['oiii_5007_flux'])/(data['h_beta_flux']))\n",
    "\n",
    "ejex_NH=np.log((data['nii_6548_flux']+data['nii_6584_flux'])/data['h_alpha_flux'])\n",
    "ejex_SH=np.log((data['sii_6717_flux']+data['sii_6731_flux'])/data['h_alpha_flux'])\n",
    "ejex_OH=np.log((data['oi_6300_flux'])/(data['h_alpha_flux']))"
   ]
  },
  {
   "cell_type": "code",
   "execution_count": 9,
   "id": "c25f3d5f",
   "metadata": {},
   "outputs": [
    {
     "data": {
      "text/plain": [
       "pandas.core.series.Series"
      ]
     },
     "execution_count": 9,
     "metadata": {},
     "output_type": "execute_result"
    }
   ],
   "source": [
    "type(ejey_OHb)"
   ]
  },
  {
   "cell_type": "markdown",
   "id": "f2a32496",
   "metadata": {},
   "source": [
    "## Gráficas"
   ]
  },
  {
   "cell_type": "code",
   "execution_count": 10,
   "id": "8288f60a",
   "metadata": {},
   "outputs": [
    {
     "data": {
      "text/plain": [
       "<matplotlib.legend.Legend at 0x1afca709730>"
      ]
     },
     "execution_count": 10,
     "metadata": {},
     "output_type": "execute_result"
    },
    {
     "data": {
      "image/png": "[encoded data removed]",
      "text/plain": [
       "<Figure size 432x288 with 1 Axes>"
      ]
     },
     "metadata": {
      "needs_background": "light"
     },
     "output_type": "display_data"
    }
   ],
   "source": [
    "fig = plt.figure()\n",
    "ax = fig.add_subplot()\n",
    "ax.scatter(ejex_NH, ejey_OHb, marker=\".\", color=\"purple\")\n",
    "# Cuadrado:\n",
    "ax.set_xlim([-4.5, 3])\n",
    "ax.set_ylim([-4, 4])\n",
    "plt.title('BPT Clásico, Gráfico a')\n",
    "plt.ylabel('log [O III]/ Hβ')\n",
    "plt.xlabel('log [NII] /Hα')\n",
    "\n",
    "# Kewley\n",
    "x1 = np.linspace(-4.5,0.4)  \n",
    "y1 = 1.19 + (0.61/(x1-0.47))\n",
    "plt.plot(x1, y1, '-', color='red', lw=2, label= 'Kewley') \n",
    "\n",
    "\n",
    "# Kauffmann\n",
    "x2 = np.linspace(-4.5,0)\n",
    "y2 = 1.3 + (0.61/(x2-0.05))\n",
    "plt.plot(x2, y2, '--', color='blue', lw=2, label='Kouffman')\n",
    "\n",
    "# Seyfert-LINER\n",
    "x3 = np.linspace(-0.2,5)\n",
    "y3 = 1.01 * x3 +0.48\n",
    "plt.plot(x3, y3, '-.', color='green', lw=2, label='Seyfert-LINER')\n",
    "\n",
    "plt.legend()"
   ]
  },
  {
   "cell_type": "markdown",
   "id": "e4633fe3",
   "metadata": {},
   "source": [
    "Debajo de la línea azul: HII - Galaxias formadoras de estrellas.  \n",
    "Entre línea azul y roja: Galaxias compuestas.  \n",
    "Arriba de la línea roja: AGNs."
   ]
  },
  {
   "cell_type": "code",
   "execution_count": 11,
   "id": "7d010c8a",
   "metadata": {},
   "outputs": [
    {
     "data": {
      "text/plain": [
       "<matplotlib.legend.Legend at 0x1afca41a490>"
      ]
     },
     "execution_count": 11,
     "metadata": {},
     "output_type": "execute_result"
    },
    {
     "data": {
      "image/png": "[encoded data removed]",
      "text/plain": [
       "<Figure size 432x288 with 1 Axes>"
      ]
     },
     "metadata": {
      "needs_background": "light"
     },
     "output_type": "display_data"
    }
   ],
   "source": [
    "fig = plt.figure()\n",
    "ax1 = fig.add_subplot()\n",
    "ax1.scatter(ejex_SH,ejey_OHb, marker=\"+\", color=\"blue\")\n",
    "# Cuadrado:\n",
    "ax1.set_xlim([-7, 3])\n",
    "ax1.set_ylim([-6, 6])\n",
    "plt.title('BPT Clásico, Gráfico b')\n",
    "plt.ylabel('log [O III]/ Hβ')\n",
    "plt.xlabel('log [SII] /Hα')\n",
    "\n",
    "# Kewley\n",
    "x1 = np.linspace(-7,0.3) \n",
    "y1 = 1.30 + (0.72/(x1-0.32))\n",
    "plt.plot(x1, y1, '-' , color='red', lw=2, label= 'Kewley') \n",
    "\n",
    "\n",
    "# Seyfert-LINER\n",
    "x2 = np.linspace(-0.32,4.0)\n",
    "y2 = 0.76 + (1.89*x2)\n",
    "plt.plot(x2, y2, '-.', color='green', lw=2, label='Seyfert-LINER')\n",
    "\n",
    "plt.legend()"
   ]
  },
  {
   "cell_type": "markdown",
   "id": "465dcac7",
   "metadata": {},
   "source": [
    "Debajo de la línea roja: Regiones HII.  \n",
    "Encima de la línea Seyfert-LINER: Seyfert   \n",
    "Debajo de la línea Seyfert-LINER: LINER "
   ]
  },
  {
   "cell_type": "code",
   "execution_count": 12,
   "id": "d2c0f3d0",
   "metadata": {},
   "outputs": [
    {
     "data": {
      "text/plain": [
       "<matplotlib.legend.Legend at 0x1afca2d2460>"
      ]
     },
     "execution_count": 12,
     "metadata": {},
     "output_type": "execute_result"
    },
    {
     "data": {
      "image/png": "[encoded data removed]",
      "text/plain": [
       "<Figure size 432x288 with 1 Axes>"
      ]
     },
     "metadata": {
      "needs_background": "light"
     },
     "output_type": "display_data"
    }
   ],
   "source": [
    "fig = plt.figure()\n",
    "ax2 = fig.add_subplot() \n",
    "ax2.scatter(ejex_OH, ejey_OHb, marker=\"*\", color=\"cyan\")\n",
    "\n",
    "# Cuadrado:\n",
    "ax2.set_xlim([-10, 3])\n",
    "ax2.set_ylim([-3.5, 4])\n",
    "plt.title('BPT Clásico, Gráfico c')\n",
    "plt.ylabel('log [O III]/ Hβ')\n",
    "plt.xlabel('log [OI] /Hα')\n",
    "\n",
    "# Kewley\n",
    "x1 = np.linspace(-10,-0.7) \n",
    "y1 = 1.33 + (0.73/(x1+0.59))\n",
    "plt.plot(x1, y1, '-', color='red', lw=2, label= 'Kewley') \n",
    "\n",
    "\n",
    "# Seyfert-LINER\n",
    "x2 = np.linspace(-1.15,2)\n",
    "y2 = 1.30 + (1.18*x2) \n",
    "plt.plot(x2, y2, '-.', color='green', lw=2, label='Seyfert-LINER')\n",
    "\n",
    "plt.legend()"
   ]
  },
  {
   "cell_type": "markdown",
   "id": "2db55677",
   "metadata": {},
   "source": [
    "# Conclusiones:\n",
    "Con 20.000 objetos, distribuidos segun 4 clasificaciones se realizan los respectivos BPT, con las curvas teoricas de separacion, segun: The Host Galaxies and Classification of Active Galactic Nuclei - 2006 "
   ]
  }
 ],
 "metadata": {
  "kernelspec": {
   "display_name": "Python 3 (ipykernel)",
   "language": "python",
   "name": "python3"
  },
  "language_info": {
   "codemirror_mode": {
    "name": "ipython",
    "version": 3
   },
   "file_extension": ".py",
   "mimetype": "text/x-python",
   "name": "python",
   "nbconvert_exporter": "python",
   "pygments_lexer": "ipython3",
   "version": "3.9.7"
  }
 },
 "nbformat": 4,
 "nbformat_minor": 5
}
