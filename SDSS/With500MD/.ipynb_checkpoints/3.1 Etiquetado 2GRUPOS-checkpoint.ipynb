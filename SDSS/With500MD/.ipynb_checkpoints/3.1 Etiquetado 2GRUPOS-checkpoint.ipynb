{
 "cells": [
  {
   "cell_type": "markdown",
   "id": "07dd29e1",
   "metadata": {},
   "source": [
    "**Objetivo:**  \n",
    "\n",
    "Con 500.000 Galaxias, teniendo en cuenta The Host Galaxies and Classification of Active Galactic Nuclei - 2006 y Z < 0.8, pre etiquetar entre 2 grupos: \n",
    "\n",
    "**Galaxias infrarrojas y AGNs.**\n",
    "\n",
    "1 De manera Deductiva: Usando las curvas de las graficas.  \n",
    "2 De los datos de SLOAN.  \n",
    "3 ETIQUETAS FINALES."
   ]
  },
  {
   "cell_type": "markdown",
   "id": "3fa0e3cc",
   "metadata": {},
   "source": [
    "# 1. DE MANERA DEDUCTIVA: Usando las curvas de las graficas.\n",
    "**PROCEDIMIENTO:**  \n",
    "    1.1 Dados iniciales.  \n",
    "    1.2 Separación segun Kewley para C/u Gráfica:  \n",
    "        a. ejex_NH, ejey_OHb  \n",
    "        b. ejex_SH, ejey_OHb  \n",
    "        c. ejex_OH, ejey_OHb.    \n",
    "    1.3 Etiquetas Deductivas."
   ]
  },
  {
   "cell_type": "markdown",
   "id": "2800aaf1",
   "metadata": {},
   "source": [
    "#### 1.1 Dados iniciales. "
   ]
  },
  {
   "cell_type": "code",
   "execution_count": 1,
   "id": "502dbed6",
   "metadata": {},
   "outputs": [],
   "source": [
    "import numpy as np\n",
    "import pandas as pd\n",
    "import time\n",
    "from datetime import date\n",
    "import warnings\n",
    "warnings.filterwarnings \n",
    "import astropy.units as u\n",
    "from astropy.table import Table\n",
    "from astroquery.sdss import SDSS\n",
    "import matplotlib.pyplot as plt"
   ]
  },
  {
   "cell_type": "code",
   "execution_count": 2,
   "id": "f0362541",
   "metadata": {},
   "outputs": [
    {
     "name": "stderr",
     "output_type": "stream",
     "text": [
      "C:\\ProgramData\\Anaconda33\\lib\\site-packages\\astroquery\\sdss\\core.py:874: VisibleDeprecationWarning: Reading unicode strings without specifying the encoding argument is deprecated. Set the encoding, use None for the system default.\n",
      "  arr = np.atleast_1d(np.genfromtxt(io.BytesIO(response.content),\n"
     ]
    },
    {
     "data": {
      "text/html": [
       "<div><i>Table length=4</i>\n",
       "<table id=\"table1478997435584\" class=\"table-striped table-bordered table-condensed\">\n",
       "<thead><tr><th>specobjid</th><th>ra</th><th>dec</th><th>z</th><th>h_alpha_flux</th><th>h_beta_flux</th><th>oiii_5007_flux</th><th>nii_6548_flux</th><th>nii_6584_flux</th><th>sii_6717_flux</th><th>sii_6731_flux</th><th>oi_6300_flux</th><th>class</th><th>subclass</th></tr></thead>\n",
       "<thead><tr><th>int64</th><th>float64</th><th>float64</th><th>float64</th><th>float64</th><th>float64</th><th>float64</th><th>float64</th><th>float64</th><th>float64</th><th>float64</th><th>float64</th><th>bytes6</th><th>bytes11</th></tr></thead>\n",
       "<tr><td>299490502078654464</td><td>146.62857</td><td>-0.76513683</td><td>0.06465632</td><td>99.40005</td><td>25.64047</td><td>21.44437</td><td>17.10464</td><td>51.59155</td><td>35.33497</td><td>21.65778</td><td>8.490424</td><td>GALAXY</td><td>STARFORMING</td></tr>\n",
       "<tr><td>299491051364706304</td><td>146.9639</td><td>-0.54500256</td><td>0.05598787</td><td>181.5262</td><td>47.3665</td><td>11.85567</td><td>17.94872</td><td>54.13749</td><td>31.28298</td><td>19.16762</td><td>4.319232</td><td>GALAXY</td><td>STARBURST</td></tr>\n",
       "<tr><td>299491051834468352</td><td>146.63167</td><td>-0.98827781</td><td>0.05265425</td><td>127.3058</td><td>38.33226</td><td>35.46671</td><td>8.550285</td><td>25.78963</td><td>30.26996</td><td>25.72297</td><td>6.269853</td><td>GALAXY</td><td>STARFORMING</td></tr>\n",
       "<tr><td>299492700632147968</td><td>146.59272</td><td>-0.76025604</td><td>0.06502353</td><td>211.5018</td><td>53.18228</td><td>15.59901</td><td>25.31465</td><td>76.35482</td><td>41.6377</td><td>28.47964</td><td>7.211103</td><td>GALAXY</td><td>STARFORMING</td></tr>\n",
       "</table></div>"
      ],
      "text/plain": [
       "<Table length=4>\n",
       "    specobjid          ra        dec     ... oi_6300_flux class    subclass \n",
       "      int64         float64    float64   ...   float64    bytes6   bytes11  \n",
       "------------------ --------- ----------- ... ------------ ------ -----------\n",
       "299490502078654464 146.62857 -0.76513683 ...     8.490424 GALAXY STARFORMING\n",
       "299491051364706304  146.9639 -0.54500256 ...     4.319232 GALAXY   STARBURST\n",
       "299491051834468352 146.63167 -0.98827781 ...     6.269853 GALAXY STARFORMING\n",
       "299492700632147968 146.59272 -0.76025604 ...     7.211103 GALAXY STARFORMING"
      ]
     },
     "execution_count": 2,
     "metadata": {},
     "output_type": "execute_result"
    }
   ],
   "source": [
    "query = \"\"\"SELECT TOP 500000\n",
    "    s.specobjid, s.ra, s.dec, s.z, g.h_alpha_flux, g.h_beta_flux,\n",
    "    g.oiii_5007_flux, g.nii_6548_flux, g.nii_6584_flux,\n",
    "    g.sii_6717_flux, g.sii_6731_flux, g.oi_6300_flux, s.class, s.subclass\n",
    "\n",
    "    FROM SpecObjAll AS s\n",
    "    JOIN galSpecExtra AS ID ON ID.specObjID = s.specObjID\n",
    "    JOIN galSpecLine AS g ON g.specObjID = s.specObjID\n",
    "\n",
    "\n",
    "    WHERE subclass IN ('STARFORMING', 'STARBURST', 'AGN', 'BROADLINE')\n",
    "    AND NOT h_alpha_flux <='0' AND NOT h_beta_flux <='0'\n",
    "    AND NOT oiii_5007_flux <='0' AND NOT nii_6548_flux <='0'\n",
    "    AND NOT nii_6584_flux <='0' AND NOT sii_6717_flux <='0' \n",
    "    AND NOT sii_6731_flux <='0' AND NOT oi_6300_flux <='0'\n",
    "    AND z < 0.8\n",
    "\n",
    "    ORDER BY specobjid ASC\"\"\"\n",
    "\n",
    "data = SDSS.query_sql(query)\n",
    "data[1:5]"
   ]
  },
  {
   "cell_type": "markdown",
   "id": "7635e578",
   "metadata": {},
   "source": [
    "## Razones"
   ]
  },
  {
   "cell_type": "code",
   "execution_count": 3,
   "id": "687753a9",
   "metadata": {},
   "outputs": [],
   "source": [
    "ejey_OHb=np.log((data['oiii_5007_flux'])/(data['h_beta_flux']))\n",
    "\n",
    "ejex_NH=np.log((data['nii_6548_flux']+data['nii_6584_flux'])/data['h_alpha_flux'])\n",
    "ejex_SH=np.log((data['sii_6717_flux']+data['sii_6731_flux'])/data['h_alpha_flux'])\n",
    "ejex_OH=np.log((data['oi_6300_flux'])/(data['h_alpha_flux']))"
   ]
  },
  {
   "cell_type": "code",
   "execution_count": 4,
   "id": "611301dc",
   "metadata": {},
   "outputs": [],
   "source": [
    "# Ingresar las columnas de razones a la data.\n",
    "data.add_column(ejey_OHb, name='Ejey_OHB')\n",
    "data.add_column(ejex_NH, name='Ejex_NH')\n",
    "data.add_column(ejex_SH, name='Ejex_SH')\n",
    "data.add_column(ejex_OH, name='Ejex_OH')"
   ]
  },
  {
   "cell_type": "code",
   "execution_count": 5,
   "id": "6872ff98",
   "metadata": {},
   "outputs": [
    {
     "data": {
      "text/html": [
       "<div><i>Table length=4</i>\n",
       "<table id=\"table1477645513248\" class=\"table-striped table-bordered table-condensed\">\n",
       "<thead><tr><th>specobjid</th><th>ra</th><th>dec</th><th>z</th><th>h_alpha_flux</th><th>h_beta_flux</th><th>oiii_5007_flux</th><th>nii_6548_flux</th><th>nii_6584_flux</th><th>sii_6717_flux</th><th>sii_6731_flux</th><th>oi_6300_flux</th><th>class</th><th>subclass</th><th>Ejey_OHB</th><th>Ejex_NH</th><th>Ejex_SH</th><th>Ejex_OH</th></tr></thead>\n",
       "<thead><tr><th>int64</th><th>float64</th><th>float64</th><th>float64</th><th>float64</th><th>float64</th><th>float64</th><th>float64</th><th>float64</th><th>float64</th><th>float64</th><th>float64</th><th>bytes6</th><th>bytes11</th><th>float64</th><th>float64</th><th>float64</th><th>float64</th></tr></thead>\n",
       "<tr><td>299490502078654464</td><td>146.62857</td><td>-0.76513683</td><td>0.06465632</td><td>99.40005</td><td>25.64047</td><td>21.44437</td><td>17.10464</td><td>51.59155</td><td>35.33497</td><td>21.65778</td><td>8.490424</td><td>GALAXY</td><td>STARFORMING</td><td>-0.17870982255764298</td><td>-0.3694588775053708</td><td>-0.5562285499181298</td><td>-2.460213676497085</td></tr>\n",
       "<tr><td>299491051364706304</td><td>146.9639</td><td>-0.54500256</td><td>0.05598787</td><td>181.5262</td><td>47.3665</td><td>11.85567</td><td>17.94872</td><td>54.13749</td><td>31.28298</td><td>19.16762</td><td>4.319232</td><td>GALAXY</td><td>STARBURST</td><td>-1.3851089936216554</td><td>-0.9235372320421027</td><td>-1.2804053562119218</td><td>-3.73832238723025</td></tr>\n",
       "<tr><td>299491051834468352</td><td>146.63167</td><td>-0.98827781</td><td>0.05265425</td><td>127.3058</td><td>38.33226</td><td>35.46671</td><td>8.550285</td><td>25.78963</td><td>30.26996</td><td>25.72297</td><td>6.269853</td><td>GALAXY</td><td>STARFORMING</td><td>-0.07769732925993379</td><td>-1.310283685972076</td><td>-0.82136663342587</td><td>-3.010839156796902</td></tr>\n",
       "<tr><td>299492700632147968</td><td>146.59272</td><td>-0.76025604</td><td>0.06502353</td><td>211.5018</td><td>53.18228</td><td>15.59901</td><td>25.31465</td><td>76.35482</td><td>41.6377</td><td>28.47964</td><td>7.211103</td><td>GALAXY</td><td>STARFORMING</td><td>-1.2265178074532048</td><td>-0.7325064477587709</td><td>-1.104063384723556</td><td>-3.378611587522619</td></tr>\n",
       "</table></div>"
      ],
      "text/plain": [
       "<Table length=4>\n",
       "    specobjid          ra    ...       Ejex_SH            Ejex_OH      \n",
       "      int64         float64  ...       float64            float64      \n",
       "------------------ --------- ... ------------------- ------------------\n",
       "299490502078654464 146.62857 ... -0.5562285499181298 -2.460213676497085\n",
       "299491051364706304  146.9639 ... -1.2804053562119218  -3.73832238723025\n",
       "299491051834468352 146.63167 ...   -0.82136663342587 -3.010839156796902\n",
       "299492700632147968 146.59272 ...  -1.104063384723556 -3.378611587522619"
      ]
     },
     "execution_count": 5,
     "metadata": {},
     "output_type": "execute_result"
    }
   ],
   "source": [
    "data[1:5]"
   ]
  },
  {
   "cell_type": "markdown",
   "id": "42463fe6",
   "metadata": {},
   "source": [
    "#### 1.2 Separación segun Kewley para C/u Gráfica:"
   ]
  },
  {
   "cell_type": "markdown",
   "id": "5a36bb75",
   "metadata": {},
   "source": [
    "#### a. ejex_NH, ejey_OHb\n",
    "####  b. ejex_SH, ejey_OHb\n",
    "####  c. ejex_OH, ejey_OHb."
   ]
  },
  {
   "cell_type": "markdown",
   "id": "2882fbdd",
   "metadata": {},
   "source": [
    "### Gráfica \"a\" ejex_NH, ejey_OHb"
   ]
  },
  {
   "cell_type": "code",
   "execution_count": 6,
   "id": "193f42dd",
   "metadata": {},
   "outputs": [
    {
     "data": {
      "text/plain": [
       "[<matplotlib.lines.Line2D at 0x158797697f0>]"
      ]
     },
     "execution_count": 6,
     "metadata": {},
     "output_type": "execute_result"
    },
    {
     "data": {
      "image/png": "[encoded data removed]",
      "text/plain": [
       "<Figure size 432x288 with 1 Axes>"
      ]
     },
     "metadata": {
      "needs_background": "light"
     },
     "output_type": "display_data"
    }
   ],
   "source": [
    "fig = plt.figure()\n",
    "ax = fig.add_subplot()\n",
    "ax.scatter(ejex_NH, ejey_OHb, marker=\".\", color=\"purple\")\n",
    "# Cuadrado:\n",
    "ax.set_xlim([-10, 10])\n",
    "ax.set_ylim([-10, 10])\n",
    "plt.title('BPT Clásico, Gráfico a')\n",
    "plt.ylabel('log [O III]/ Hβ')\n",
    "plt.xlabel('log [NII] /Hα')\n",
    "\n",
    "# Kewley\n",
    "x1 = np.linspace(-10,0.4)  \n",
    "y1 = 1.19 + (0.61/(x1-0.47))\n",
    "plt.plot(x1, y1, '-', color='red', lw=2, label= 'Kewley') \n"
   ]
  },
  {
   "cell_type": "code",
   "execution_count": 7,
   "id": "0efad68b",
   "metadata": {},
   "outputs": [
    {
     "data": {
      "text/plain": [
       "329650"
      ]
     },
     "execution_count": 7,
     "metadata": {},
     "output_type": "execute_result"
    }
   ],
   "source": [
    "len(data)"
   ]
  },
  {
   "cell_type": "code",
   "execution_count": 9,
   "id": "a3359ab7",
   "metadata": {},
   "outputs": [],
   "source": [
    "num10 = []  ## valores evaluados en la función de kewley\n",
    "\n",
    "for i in range(len(ejex_NH)):\n",
    "    num10.append(1.19 + (0.61/(ejex_NH[i]-0.47)))"
   ]
  },
  {
   "cell_type": "code",
   "execution_count": 10,
   "id": "0a897243",
   "metadata": {},
   "outputs": [
    {
     "data": {
      "text/plain": [
       "True"
      ]
     },
     "execution_count": 10,
     "metadata": {},
     "output_type": "execute_result"
    }
   ],
   "source": [
    "ejey_OHb[0] < num10[0]  ## comparación"
   ]
  },
  {
   "cell_type": "code",
   "execution_count": 11,
   "id": "40ab296f",
   "metadata": {},
   "outputs": [],
   "source": [
    "# Si el valor evaluado esta por debajo de kewley guarde el x y el y\n",
    "num11 = []   ## valor ejex_NH debajo de kewley\n",
    "num12 = []   ## valor ejey_OHb debajo de kewley\n",
    "\n",
    "for i in range(len(ejey_OHb)):\n",
    "    if ejey_OHb[i] < num10[i]: \n",
    "        num11.append(ejex_NH[i])\n",
    "        num12.append(ejey_OHb[i])"
   ]
  },
  {
   "cell_type": "code",
   "execution_count": 12,
   "id": "9428e762",
   "metadata": {},
   "outputs": [],
   "source": [
    "# Descartar valores superiores a 0.4 en el eje x\n",
    "num13 = []\n",
    "num14 = []\n",
    "\n",
    "for ii in range(len(num11)):\n",
    "    if num11[ii] < 0.4: \n",
    "        num13.append(num11[ii])\n",
    "        num14.append(num12[ii])"
   ]
  },
  {
   "cell_type": "code",
   "execution_count": 13,
   "id": "460f4d09",
   "metadata": {},
   "outputs": [
    {
     "data": {
      "image/png": "[encoded data removed]",
      "text/plain": [
       "<Figure size 432x288 with 1 Axes>"
      ]
     },
     "metadata": {
      "needs_background": "light"
     },
     "output_type": "display_data"
    }
   ],
   "source": [
    "fig, ax = plt.subplots()\n",
    "ax.scatter(num13,num14, marker=\".\", color=\"purple\")\n",
    "ax.set_xlabel('x')\n",
    "ax.set_ylabel('y')\n",
    "\n",
    "ax.set_xlim([-10, 10])\n",
    "ax.set_ylim([-10, 10])\n",
    "\n",
    "# Kewley\n",
    "x1 = np.linspace(-10,0.4) \n",
    "y1 = 1.19 + (0.61/(x1-0.47))\n",
    "plt.plot(x1, y1, '-' , color='red', lw=2, label= 'Kewley') \n",
    "plt.title('BPT Clásico, Gráfico a')\n",
    "plt.ylabel('log [OIII]/ Hβ')\n",
    "plt.xlabel('log [NII] /Hα')\n",
    "plt.show()"
   ]
  },
  {
   "cell_type": "code",
   "execution_count": 14,
   "id": "b88d2032",
   "metadata": {},
   "outputs": [
    {
     "name": "stdout",
     "output_type": "stream",
     "text": [
      "-19.70349720879699\n"
     ]
    }
   ],
   "source": [
    "valor_minimo = min(num13)\n",
    "print(valor_minimo)"
   ]
  },
  {
   "cell_type": "code",
   "execution_count": 15,
   "id": "e44d8871",
   "metadata": {},
   "outputs": [
    {
     "name": "stdout",
     "output_type": "stream",
     "text": [
      "0.26748749000409683\n"
     ]
    }
   ],
   "source": [
    "valor_max = max(num13)\n",
    "print(valor_max)"
   ]
  },
  {
   "cell_type": "code",
   "execution_count": 16,
   "id": "fa8d696f",
   "metadata": {},
   "outputs": [
    {
     "name": "stdout",
     "output_type": "stream",
     "text": [
      "-6.786194442968223\n"
     ]
    }
   ],
   "source": [
    "valor_minimo = min(num14)\n",
    "print(valor_minimo)"
   ]
  },
  {
   "cell_type": "code",
   "execution_count": 17,
   "id": "0635d2b9",
   "metadata": {},
   "outputs": [
    {
     "name": "stdout",
     "output_type": "stream",
     "text": [
      "1.0205678763191743\n"
     ]
    }
   ],
   "source": [
    "valor_max = max(num14)\n",
    "print(valor_max)"
   ]
  },
  {
   "cell_type": "code",
   "execution_count": 18,
   "id": "7e6c56d2",
   "metadata": {},
   "outputs": [
    {
     "data": {
      "text/plain": [
       "287807"
      ]
     },
     "execution_count": 18,
     "metadata": {},
     "output_type": "execute_result"
    }
   ],
   "source": [
    "len(num13)"
   ]
  },
  {
   "cell_type": "code",
   "execution_count": 19,
   "id": "dd47a5a0",
   "metadata": {},
   "outputs": [
    {
     "data": {
      "text/plain": [
       "287807"
      ]
     },
     "execution_count": 19,
     "metadata": {},
     "output_type": "execute_result"
    }
   ],
   "source": [
    "len(num14)"
   ]
  },
  {
   "cell_type": "markdown",
   "id": "c18a13b4",
   "metadata": {},
   "source": [
    "### Gráfica \"b\" ejex_SH, ejey_OHb"
   ]
  },
  {
   "cell_type": "code",
   "execution_count": 20,
   "id": "370129b8",
   "metadata": {},
   "outputs": [
    {
     "data": {
      "text/plain": [
       "[<matplotlib.lines.Line2D at 0x15809569490>]"
      ]
     },
     "execution_count": 20,
     "metadata": {},
     "output_type": "execute_result"
    },
    {
     "data": {
      "image/png": "[encoded data removed]",
      "text/plain": [
       "<Figure size 432x288 with 1 Axes>"
      ]
     },
     "metadata": {
      "needs_background": "light"
     },
     "output_type": "display_data"
    }
   ],
   "source": [
    "fig = plt.figure()\n",
    "ax1 = fig.add_subplot()\n",
    "ax1.scatter(ejex_SH,ejey_OHb, marker=\"+\", color=\"blue\")\n",
    "# Cuadrado:\n",
    "ax1.set_xlim([-10, 10])\n",
    "ax1.set_ylim([-10, 10])\n",
    "plt.title('BPT Clásico, Gráfico b')\n",
    "plt.ylabel('log [O III]/ Hβ')\n",
    "plt.xlabel('log [SII] /Hα')\n",
    "\n",
    "# Kewley\n",
    "x1 = np.linspace(-10,0.3) \n",
    "y1 = 1.30 + (0.72/(x1-0.32))\n",
    "plt.plot(x1, y1, '-' , color='red', lw=2, label= 'Kewley') "
   ]
  },
  {
   "cell_type": "code",
   "execution_count": 21,
   "id": "33750d18",
   "metadata": {},
   "outputs": [],
   "source": [
    "num10b = []  ## valores evaluados en la función de kewley\n",
    "\n",
    "for i in range(len(ejex_SH)):\n",
    "    num10b.append(1.30 + (0.72/(ejex_SH[i]-0.32)))"
   ]
  },
  {
   "cell_type": "code",
   "execution_count": 22,
   "id": "97b8b48e",
   "metadata": {},
   "outputs": [],
   "source": [
    "# Si el valor evaluado esta por debajo de kewley guarde el x y el y\n",
    "num11b = []   ## valor ejex_NH debajo de kewley\n",
    "num12b = []   ## valor ejey_OHb debajo de kewley\n",
    "\n",
    "for i in range(len(ejey_OHb)):\n",
    "    if ejey_OHb[i] < num10b[i]: \n",
    "        num11b.append(ejex_SH[i])\n",
    "        num12b.append(ejey_OHb[i])"
   ]
  },
  {
   "cell_type": "code",
   "execution_count": 23,
   "id": "22112b4a",
   "metadata": {},
   "outputs": [],
   "source": [
    "# Descartar valores superiores a 0.3 en el eje x\n",
    "num13b = []\n",
    "num14b = []\n",
    "for ii in range(len(num11b)):\n",
    "    if num11b[ii] < 0.3: \n",
    "        num13b.append(num11b[ii])\n",
    "        num14b.append(num12b[ii])"
   ]
  },
  {
   "cell_type": "code",
   "execution_count": 24,
   "id": "38a95738",
   "metadata": {},
   "outputs": [
    {
     "data": {
      "image/png": "[encoded data removed]",
      "text/plain": [
       "<Figure size 432x288 with 1 Axes>"
      ]
     },
     "metadata": {
      "needs_background": "light"
     },
     "output_type": "display_data"
    }
   ],
   "source": [
    "fig, ax = plt.subplots()\n",
    "ax.scatter(num13b,num14b, marker=\"+\", color=\"blue\")\n",
    "ax.set_xlabel('SII/Hα')\n",
    "ax.set_ylabel('OIII/Hβ')\n",
    "ax.set_xlim(-10, 10)\n",
    "ax.set_ylim(-10, 10)\n",
    "\n",
    "# Kewley\n",
    "x1 = np.linspace(-10,0.3) \n",
    "y1 = 1.30 + (0.72/(x1-0.32))\n",
    "plt.plot(x1, y1, '-' , color='red', lw=2, label= 'Kewley') \n",
    "plt.title('BPT Clásico, Gráfico b')\n",
    "plt.ylabel('log [OIII]/ Hβ')\n",
    "plt.xlabel('log [SII] /Hα')\n",
    "plt.show()"
   ]
  },
  {
   "cell_type": "markdown",
   "id": "9f74b2e3",
   "metadata": {},
   "source": [
    "### Gráfica \"c\" ejex_OH, ejey_OHb."
   ]
  },
  {
   "cell_type": "code",
   "execution_count": 25,
   "id": "ba0e1b6e",
   "metadata": {},
   "outputs": [
    {
     "data": {
      "text/plain": [
       "[<matplotlib.lines.Line2D at 0x1580a0e1af0>]"
      ]
     },
     "execution_count": 25,
     "metadata": {},
     "output_type": "execute_result"
    },
    {
     "data": {
      "image/png": "[encoded data removed]",
      "text/plain": [
       "<Figure size 432x288 with 1 Axes>"
      ]
     },
     "metadata": {
      "needs_background": "light"
     },
     "output_type": "display_data"
    }
   ],
   "source": [
    "fig = plt.figure()\n",
    "ax2 = fig.add_subplot() \n",
    "ax2.scatter(ejex_OH, ejey_OHb, marker=\"*\", color=\"cyan\")\n",
    "# Cuadrado:\n",
    "ax2.set_xlim([-15, 10])\n",
    "ax2.set_ylim([-10, 10])\n",
    "plt.title('BPT Clásico, Gráfico c')\n",
    "plt.ylabel('log [O III]/ Hβ')\n",
    "plt.xlabel('log [OI] /Hα')\n",
    "\n",
    "# Kewley\n",
    "x1 = np.linspace(-15, -0.6) \n",
    "y1 = 1.33 + (0.73/(x1+0.59))\n",
    "plt.plot(x1, y1, '-', color='red', lw=2, label= 'Kewley') "
   ]
  },
  {
   "cell_type": "code",
   "execution_count": 26,
   "id": "ae81c246",
   "metadata": {},
   "outputs": [],
   "source": [
    "num10c = []  ## valores evaluados en la función de kewley\n",
    "\n",
    "for i in range(len(ejex_OH)):\n",
    "    num10c.append(1.33 + (0.73/(ejex_OH[i]+0.59)))"
   ]
  },
  {
   "cell_type": "code",
   "execution_count": 27,
   "id": "0cb9dcf6",
   "metadata": {},
   "outputs": [],
   "source": [
    "# Si el valor evaluado esta por debajo de kewley guarde el x y el y\n",
    "num11c = []   ## valor ejex_OH debajo de kewley\n",
    "num12c = []   ## valor ejey_OHb debajo de kewley\n",
    "\n",
    "for i in range(len(ejey_OHb)):\n",
    "    if ejey_OHb[i] < num10c[i]: \n",
    "        num11c.append(ejex_OH[i])\n",
    "        num12c.append(ejey_OHb[i])"
   ]
  },
  {
   "cell_type": "code",
   "execution_count": 28,
   "id": "6c3ae1e4",
   "metadata": {},
   "outputs": [],
   "source": [
    "# Descartar valores superiores a 0.469 en el eje x\n",
    "num13c = []\n",
    "num14c = []\n",
    "for ii in range(len(num11c)):\n",
    "    if num11c[ii] < -0.7: \n",
    "        num13c.append(num11c[ii])\n",
    "        num14c.append(num12c[ii])"
   ]
  },
  {
   "cell_type": "code",
   "execution_count": 29,
   "id": "0c1daa6a",
   "metadata": {},
   "outputs": [
    {
     "data": {
      "image/png": "[encoded data removed]",
      "text/plain": [
       "<Figure size 432x288 with 1 Axes>"
      ]
     },
     "metadata": {
      "needs_background": "light"
     },
     "output_type": "display_data"
    }
   ],
   "source": [
    "fig, ax = plt.subplots()\n",
    "ax.scatter(num13c,num14c, marker=\"*\", color=\"cyan\")\n",
    "ax.set_xlabel('OI/Hα')\n",
    "ax.set_ylabel('OIII/Hβ')\n",
    "ax.set_xlim([-15, 10])\n",
    "ax.set_ylim([-10, 10])\n",
    "\n",
    "# Kewley\n",
    "x1 = np.linspace(-15,-0.6) \n",
    "y1 = 1.33 + (0.73/(x1+0.59))\n",
    "plt.plot(x1, y1, '-' , color='red', lw=2, label= 'Kewley') \n",
    "plt.title('BPT Clásico, Gráfico C')\n",
    "plt.ylabel('log [OIII]/ Hβ')\n",
    "plt.xlabel('log [OI] /Hα')\n",
    "plt.show()"
   ]
  },
  {
   "cell_type": "markdown",
   "id": "c3a3dfac",
   "metadata": {},
   "source": [
    "#### 1.3 Etiquetas Deductivas."
   ]
  },
  {
   "cell_type": "markdown",
   "id": "19935e25",
   "metadata": {},
   "source": [
    "1.3.1 Etiquetado para Gráfico a (ejey_OHb Vs ejex_NH)  \n",
    "1.3.2 Etiquetado para Gráfico b (ejey_OHb Vs ejex_SH)   \n",
    "1.3.3 Etiquetado para Gráfico c (ejey_OHb Vs ejex_OH)  \n",
    "1.3.4 Etiquetas TOTALES EN 2 Categorias."
   ]
  },
  {
   "cell_type": "code",
   "execution_count": 30,
   "id": "b17a1b03",
   "metadata": {},
   "outputs": [],
   "source": [
    "# 1.3.1 Etiquetado para Gráfico \"a\" (ejey_OHb Vs ejex_NH)"
   ]
  },
  {
   "cell_type": "code",
   "execution_count": 31,
   "id": "4fdd0c29",
   "metadata": {},
   "outputs": [],
   "source": [
    "num131 = []   ## valores donde tenemos infrarojo en ejey_OH\n",
    "num132 = [] \n",
    "num133 = []   ## Valores agn\n",
    "num134 = []   ## ejex_NH agn\n",
    "num135 = []   ## valor ejey_OHb agn   \n",
    "\n",
    "\n",
    "for i in range(len(ejey_OHb)):\n",
    "    if ejey_OHb[i] in num14: \n",
    "        num131.append([i])\n",
    "        num132.append(\"Infrarroja\")\n",
    "    else:\n",
    "        num132.append(\"AGN\")\n",
    "        num133.append(i)        \n",
    "        num134.append(ejex_NH[i])     ## valor ejex_NH  \n",
    "        num135.append(ejey_OHb[i])     ## valor ejey_OHb agn "
   ]
  },
  {
   "cell_type": "code",
   "execution_count": 32,
   "id": "6dbea2a3",
   "metadata": {},
   "outputs": [
    {
     "name": "stdout",
     "output_type": "stream",
     "text": [
      "     specobjid          ra        dec     ...       Ejex_OH          A-I    \n",
      "------------------- --------- ----------- ... ------------------- ----------\n",
      " 299489677444933632 146.71421  -1.0413043 ...  -3.235340088468119 Infrarroja\n",
      " 299490502078654464 146.62857 -0.76513683 ...  -2.460213676497085 Infrarroja\n",
      " 299491051364706304  146.9639 -0.54500256 ...   -3.73832238723025 Infrarroja\n",
      " 299491051834468352 146.63167 -0.98827781 ...  -3.010839156796902 Infrarroja\n",
      " 299492700632147968 146.59272 -0.76025604 ...  -3.378611587522619 Infrarroja\n",
      " 299492701101910016  146.9639 -0.54500256 ...  -4.494237551220818 Infrarroja\n",
      " 299493250857723904 146.94999 -0.59220225 ...  -3.454972921982135 Infrarroja\n",
      " 299493525265868800 146.94999 -0.59220225 ...  -3.413581889881995 Infrarroja\n",
      " 299493800143775744 146.63167 -0.98827781 ...   -3.75536803597456 Infrarroja\n",
      " 299494075021682688 146.62857 -0.76513683 ... -2.9789064418384217 Infrarroja\n",
      "                ...       ...         ... ...                 ...        ...\n",
      "3348582255764203520 260.73569   31.341986 ... -2.6700906460704488        AGN\n",
      "3348582805520017408  260.6556   31.654756 ... -3.3596926906178335 Infrarroja\n",
      "3348583080397924352 260.90071   31.532274 ... -3.7364057500014396 Infrarroja\n",
      "3348583630153738240 260.90263   31.134108 ...  -3.323450964189463 Infrarroja\n",
      "3348584179909552128 260.91501   31.221169 ... -3.7856696371063476 Infrarroja\n",
      "3348590776979318784 260.67041   31.917043 ...  -4.170395407909091 Infrarroja\n",
      "3348592976002574336  261.1035   31.590881 ... -2.5693648051500055 Infrarroja\n",
      "3348593250880481280 261.13056   31.473702 ...  -2.338641184794022        AGN\n",
      "3348596274537457664 261.24627   31.260667 ... -3.5140753685637254 Infrarroja\n",
      "3348598748438620160 260.92678   31.854907 ...  -3.921307552547205 Infrarroja\n",
      "3348599023316527104 260.71475   32.361811 ...  -3.163625012845009 Infrarroja\n",
      "Length = 329650 rows\n"
     ]
    }
   ],
   "source": [
    "# Crear una tabla con dos columnas\n",
    "table = data\n",
    "\n",
    "# Agregar una tercera columna\n",
    "table.add_column(num132, name='A-I')\n",
    "\n",
    "# Imprimir la tabla\n",
    "print(table)"
   ]
  },
  {
   "cell_type": "code",
   "execution_count": 33,
   "id": "0b4d7af7",
   "metadata": {},
   "outputs": [
    {
     "data": {
      "text/plain": [
       "287807"
      ]
     },
     "execution_count": 33,
     "metadata": {},
     "output_type": "execute_result"
    }
   ],
   "source": [
    "ocurrencias_g1i = np.count_nonzero(table['A-I'] == 'Infrarroja')\n",
    "ocurrencias_g1i "
   ]
  },
  {
   "cell_type": "code",
   "execution_count": 34,
   "id": "e26f2fd9",
   "metadata": {},
   "outputs": [
    {
     "data": {
      "text/plain": [
       "41843"
      ]
     },
     "execution_count": 34,
     "metadata": {},
     "output_type": "execute_result"
    }
   ],
   "source": [
    "ocurrencias_g1a = np.count_nonzero(table['A-I'] == 'AGN')\n",
    "ocurrencias_g1a "
   ]
  },
  {
   "cell_type": "code",
   "execution_count": null,
   "id": "48bbd2cb",
   "metadata": {},
   "outputs": [],
   "source": []
  },
  {
   "cell_type": "code",
   "execution_count": null,
   "id": "c67b8783",
   "metadata": {},
   "outputs": [],
   "source": [
    "# 1.3.2 Etiquetado para Gráfico \"b\" (ejey_OHb Vs ejex_SH)"
   ]
  },
  {
   "cell_type": "code",
   "execution_count": 35,
   "id": "c359d40e",
   "metadata": {},
   "outputs": [],
   "source": [
    "num131b = []   ## valores donde tenemos infrarojo en ejey_OH\n",
    "num132b = [] \n",
    "num133b = []   ## Valores agn\n",
    "num134b = []   ## ejex_NH agn\n",
    "num135b = []   ## valor ejey_OHb agn \n",
    "\n",
    "for i in range(len(ejey_OHb)):\n",
    "    if ejey_OHb[i] in num14b: \n",
    "        num131b.append([i])\n",
    "        num132b.append(\"Infrarroja\")\n",
    "    else:\n",
    "        num132b.append(\"AGN\")\n",
    "        num133b.append(i) \n",
    "        num134b.append(ejex_SH[i])     ## valor ejex_NH  \n",
    "        num135b.append(ejey_OHb[i])     ## valor ejey_OHb agn  "
   ]
  },
  {
   "cell_type": "code",
   "execution_count": 36,
   "id": "68694b4e",
   "metadata": {},
   "outputs": [
    {
     "name": "stdout",
     "output_type": "stream",
     "text": [
      "     specobjid          ra        dec     ...    A-I        A-Ib   \n",
      "------------------- --------- ----------- ... ---------- ----------\n",
      " 299489677444933632 146.71421  -1.0413043 ... Infrarroja Infrarroja\n",
      " 299490502078654464 146.62857 -0.76513683 ... Infrarroja Infrarroja\n",
      " 299491051364706304  146.9639 -0.54500256 ... Infrarroja Infrarroja\n",
      " 299491051834468352 146.63167 -0.98827781 ... Infrarroja Infrarroja\n",
      " 299492700632147968 146.59272 -0.76025604 ... Infrarroja Infrarroja\n",
      " 299492701101910016  146.9639 -0.54500256 ... Infrarroja Infrarroja\n",
      " 299493250857723904 146.94999 -0.59220225 ... Infrarroja Infrarroja\n",
      " 299493525265868800 146.94999 -0.59220225 ... Infrarroja Infrarroja\n",
      " 299493800143775744 146.63167 -0.98827781 ... Infrarroja Infrarroja\n",
      " 299494075021682688 146.62857 -0.76513683 ... Infrarroja Infrarroja\n",
      "                ...       ...         ... ...        ...        ...\n",
      "3348582255764203520 260.73569   31.341986 ...        AGN        AGN\n",
      "3348582805520017408  260.6556   31.654756 ... Infrarroja Infrarroja\n",
      "3348583080397924352 260.90071   31.532274 ... Infrarroja Infrarroja\n",
      "3348583630153738240 260.90263   31.134108 ... Infrarroja Infrarroja\n",
      "3348584179909552128 260.91501   31.221169 ... Infrarroja Infrarroja\n",
      "3348590776979318784 260.67041   31.917043 ... Infrarroja Infrarroja\n",
      "3348592976002574336  261.1035   31.590881 ... Infrarroja Infrarroja\n",
      "3348593250880481280 261.13056   31.473702 ...        AGN Infrarroja\n",
      "3348596274537457664 261.24627   31.260667 ... Infrarroja Infrarroja\n",
      "3348598748438620160 260.92678   31.854907 ... Infrarroja Infrarroja\n",
      "3348599023316527104 260.71475   32.361811 ... Infrarroja Infrarroja\n",
      "Length = 329650 rows\n"
     ]
    }
   ],
   "source": [
    "# Crear una tabla con dos columnas\n",
    "table = data\n",
    "\n",
    "# Agregar una tercera columna\n",
    "table.add_column(num132b, name='A-Ib')\n",
    "\n",
    "# Imprimir la tabla\n",
    "print(table)"
   ]
  },
  {
   "cell_type": "code",
   "execution_count": 37,
   "id": "ede35a5b",
   "metadata": {},
   "outputs": [
    {
     "data": {
      "text/plain": [
       "294707"
      ]
     },
     "execution_count": 37,
     "metadata": {},
     "output_type": "execute_result"
    }
   ],
   "source": [
    "ocurrencias_g2i = np.count_nonzero(table['A-Ib'] == 'Infrarroja')\n",
    "ocurrencias_g2i "
   ]
  },
  {
   "cell_type": "code",
   "execution_count": 38,
   "id": "41f53d7f",
   "metadata": {},
   "outputs": [
    {
     "data": {
      "text/plain": [
       "34943"
      ]
     },
     "execution_count": 38,
     "metadata": {},
     "output_type": "execute_result"
    }
   ],
   "source": [
    "ocurrencias_g2a = np.count_nonzero(table['A-Ib'] == 'AGN')\n",
    "ocurrencias_g2a "
   ]
  },
  {
   "cell_type": "code",
   "execution_count": null,
   "id": "1e2e92d9",
   "metadata": {},
   "outputs": [],
   "source": []
  },
  {
   "cell_type": "code",
   "execution_count": null,
   "id": "b5556307",
   "metadata": {},
   "outputs": [],
   "source": [
    "# 1.3.2 Etiquetado para Gráfico \"c\" (ejey_OHb Vs ejex_OH)"
   ]
  },
  {
   "cell_type": "code",
   "execution_count": 39,
   "id": "23bd9378",
   "metadata": {},
   "outputs": [],
   "source": [
    "start_time = time.time()\n",
    "\n",
    "num131c = []   ## valores donde tenemos infrarojo en ejey_OH\n",
    "num132c = [] \n",
    "num133c = []   ## Valores agn\n",
    "num134c = []   ## ejex_NH agn\n",
    "num135c = []   ## valor ejey_OHb agn \n",
    "\n",
    "for i in range(len(ejey_OHb)):\n",
    "    if ejey_OHb[i] in num14c: \n",
    "        num131c.append([i])\n",
    "        num132c.append(\"Infrarroja\")\n",
    "    else:\n",
    "        num132c.append(\"AGN\")\n",
    "        num133c.append(i) \n",
    "        num134c.append(ejex_OH[i])     ## valor ejex_OH  \n",
    "        num135c.append(ejey_OHb[i])     ## valor ejey_OHb agn  \n",
    "        \n",
    "end_time = time.time()"
   ]
  },
  {
   "cell_type": "code",
   "execution_count": 40,
   "id": "8c8ea803",
   "metadata": {},
   "outputs": [
    {
     "data": {
      "text/plain": [
       "1296.6915669441223"
      ]
     },
     "execution_count": 40,
     "metadata": {},
     "output_type": "execute_result"
    }
   ],
   "source": [
    "elapsed_time = end_time - start_time\n",
    "elapsed_time"
   ]
  },
  {
   "cell_type": "code",
   "execution_count": 41,
   "id": "61ca52d0",
   "metadata": {},
   "outputs": [
    {
     "name": "stdout",
     "output_type": "stream",
     "text": [
      "     specobjid          ra        dec     ...    A-I        A-Ib       A-Ic   \n",
      "------------------- --------- ----------- ... ---------- ---------- ----------\n",
      " 299489677444933632 146.71421  -1.0413043 ... Infrarroja Infrarroja Infrarroja\n",
      " 299490502078654464 146.62857 -0.76513683 ... Infrarroja Infrarroja Infrarroja\n",
      " 299491051364706304  146.9639 -0.54500256 ... Infrarroja Infrarroja Infrarroja\n",
      " 299491051834468352 146.63167 -0.98827781 ... Infrarroja Infrarroja Infrarroja\n",
      " 299492700632147968 146.59272 -0.76025604 ... Infrarroja Infrarroja Infrarroja\n",
      " 299492701101910016  146.9639 -0.54500256 ... Infrarroja Infrarroja Infrarroja\n",
      " 299493250857723904 146.94999 -0.59220225 ... Infrarroja Infrarroja Infrarroja\n",
      " 299493525265868800 146.94999 -0.59220225 ... Infrarroja Infrarroja Infrarroja\n",
      " 299493800143775744 146.63167 -0.98827781 ... Infrarroja Infrarroja Infrarroja\n",
      " 299494075021682688 146.62857 -0.76513683 ... Infrarroja Infrarroja Infrarroja\n",
      "                ...       ...         ... ...        ...        ...        ...\n",
      "3348582255764203520 260.73569   31.341986 ...        AGN        AGN        AGN\n",
      "3348582805520017408  260.6556   31.654756 ... Infrarroja Infrarroja Infrarroja\n",
      "3348583080397924352 260.90071   31.532274 ... Infrarroja Infrarroja Infrarroja\n",
      "3348583630153738240 260.90263   31.134108 ... Infrarroja Infrarroja Infrarroja\n",
      "3348584179909552128 260.91501   31.221169 ... Infrarroja Infrarroja Infrarroja\n",
      "3348590776979318784 260.67041   31.917043 ... Infrarroja Infrarroja Infrarroja\n",
      "3348592976002574336  261.1035   31.590881 ... Infrarroja Infrarroja Infrarroja\n",
      "3348593250880481280 261.13056   31.473702 ...        AGN Infrarroja Infrarroja\n",
      "3348596274537457664 261.24627   31.260667 ... Infrarroja Infrarroja Infrarroja\n",
      "3348598748438620160 260.92678   31.854907 ... Infrarroja Infrarroja Infrarroja\n",
      "3348599023316527104 260.71475   32.361811 ... Infrarroja Infrarroja Infrarroja\n",
      "Length = 329650 rows\n"
     ]
    }
   ],
   "source": [
    "# Crear una tabla con dos columnas\n",
    "table = data\n",
    "\n",
    "# Agregar columna\n",
    "table.add_column(num132c, name='A-Ic')\n",
    "\n",
    "# Imprimir la tabla\n",
    "print(table)"
   ]
  },
  {
   "cell_type": "code",
   "execution_count": 42,
   "id": "8254b31d",
   "metadata": {},
   "outputs": [
    {
     "data": {
      "text/plain": [
       "308603"
      ]
     },
     "execution_count": 42,
     "metadata": {},
     "output_type": "execute_result"
    }
   ],
   "source": [
    "ocurrencias_g3i = np.count_nonzero(table['A-Ic'] == 'Infrarroja')\n",
    "ocurrencias_g3i "
   ]
  },
  {
   "cell_type": "code",
   "execution_count": 43,
   "id": "d3fa3514",
   "metadata": {},
   "outputs": [
    {
     "data": {
      "text/plain": [
       "21047"
      ]
     },
     "execution_count": 43,
     "metadata": {},
     "output_type": "execute_result"
    }
   ],
   "source": [
    "ocurrencias_g3a = np.count_nonzero(table['A-Ic'] == 'AGN')\n",
    "ocurrencias_g3a "
   ]
  },
  {
   "cell_type": "code",
   "execution_count": null,
   "id": "5ea67632",
   "metadata": {},
   "outputs": [],
   "source": []
  },
  {
   "cell_type": "code",
   "execution_count": 44,
   "id": "f2f96fee",
   "metadata": {},
   "outputs": [
    {
     "data": {
      "text/plain": [
       "astropy.table.table.Table"
      ]
     },
     "execution_count": 44,
     "metadata": {},
     "output_type": "execute_result"
    }
   ],
   "source": [
    "type(table)"
   ]
  },
  {
   "cell_type": "code",
   "execution_count": null,
   "id": "e970f911",
   "metadata": {},
   "outputs": [],
   "source": [
    "# 1.3.4 Etiquetas TOTALES EN 2 Categorias: Infrarroja, AGN."
   ]
  },
  {
   "cell_type": "code",
   "execution_count": 45,
   "id": "68130025",
   "metadata": {},
   "outputs": [
    {
     "data": {
      "text/plain": [
       "['specobjid',\n",
       " 'ra',\n",
       " 'dec',\n",
       " 'z',\n",
       " 'h_alpha_flux',\n",
       " 'h_beta_flux',\n",
       " 'oiii_5007_flux',\n",
       " 'nii_6548_flux',\n",
       " 'nii_6584_flux',\n",
       " 'sii_6717_flux',\n",
       " 'sii_6731_flux',\n",
       " 'oi_6300_flux',\n",
       " 'class',\n",
       " 'subclass',\n",
       " 'Ejey_OHB',\n",
       " 'Ejex_NH',\n",
       " 'Ejex_SH',\n",
       " 'Ejex_OH',\n",
       " 'A-I',\n",
       " 'A-Ib',\n",
       " 'A-Ic']"
      ]
     },
     "execution_count": 45,
     "metadata": {},
     "output_type": "execute_result"
    }
   ],
   "source": [
    "table.colnames"
   ]
  },
  {
   "cell_type": "code",
   "execution_count": 46,
   "id": "69eeded6",
   "metadata": {},
   "outputs": [],
   "source": [
    "# Etiqueta deducida. \n",
    "# Dejar etiqueta igual si coincide en dos o mas Etiquetas de la misma fila.\n",
    "\n",
    "etqtded = []\n",
    "for row in table:\n",
    "    if (row['A-I'] == 'Infrarroja' and row['A-Ib'] == 'Infrarroja' and row['A-Ic'] == 'Infrarroja') or \\\n",
    "       (row['A-I'] == 'Infrarroja' and row['A-Ib'] == 'Infrarroja' and row['A-Ic'] == 'AGN') or \\\n",
    "       (row['A-I'] == 'Infrarroja' and row['A-Ib'] == 'AGN' and row['A-Ic'] == 'Infrarroja') or \\\n",
    "       (row['A-I'] == 'AGN' and row['A-Ib'] == 'Infrarroja' and row['A-Ic'] == 'Infrarroja'):\n",
    "        etqtded.append('Infrarroja')\n",
    "    elif (row['A-I'] == 'AGN' and row['A-Ib'] == 'AGN' and row['A-Ic'] == 'AGN') or \\\n",
    "         (row['A-I'] == 'AGN' and row['A-Ib'] == 'AGN' and row['A-Ic'] == 'Infrarroja') or \\\n",
    "         (row['A-I'] == 'AGN' and row['A-Ib'] == 'Infrarroja' and row['A-Ic'] == 'AGN') or \\\n",
    "         (row['A-I'] == 'Infrarroja' and row['A-Ib'] == 'AGN' and row['A-Ic'] == 'AGN'):\n",
    "        etqtded.append('AGN')\n",
    "    else:\n",
    "        etqtded.append('')\n",
    "table['Etqtded'] = etqtded"
   ]
  },
  {
   "cell_type": "code",
   "execution_count": 47,
   "id": "15efc7c7",
   "metadata": {},
   "outputs": [
    {
     "name": "stdout",
     "output_type": "stream",
     "text": [
      "     specobjid          ra        dec     ...    A-Ib       A-Ic     Etqtded  \n",
      "------------------- --------- ----------- ... ---------- ---------- ----------\n",
      " 299489677444933632 146.71421  -1.0413043 ... Infrarroja Infrarroja Infrarroja\n",
      " 299490502078654464 146.62857 -0.76513683 ... Infrarroja Infrarroja Infrarroja\n",
      " 299491051364706304  146.9639 -0.54500256 ... Infrarroja Infrarroja Infrarroja\n",
      " 299491051834468352 146.63167 -0.98827781 ... Infrarroja Infrarroja Infrarroja\n",
      " 299492700632147968 146.59272 -0.76025604 ... Infrarroja Infrarroja Infrarroja\n",
      " 299492701101910016  146.9639 -0.54500256 ... Infrarroja Infrarroja Infrarroja\n",
      " 299493250857723904 146.94999 -0.59220225 ... Infrarroja Infrarroja Infrarroja\n",
      " 299493525265868800 146.94999 -0.59220225 ... Infrarroja Infrarroja Infrarroja\n",
      " 299493800143775744 146.63167 -0.98827781 ... Infrarroja Infrarroja Infrarroja\n",
      " 299494075021682688 146.62857 -0.76513683 ... Infrarroja Infrarroja Infrarroja\n",
      "                ...       ...         ... ...        ...        ...        ...\n",
      "3348582255764203520 260.73569   31.341986 ...        AGN        AGN        AGN\n",
      "3348582805520017408  260.6556   31.654756 ... Infrarroja Infrarroja Infrarroja\n",
      "3348583080397924352 260.90071   31.532274 ... Infrarroja Infrarroja Infrarroja\n",
      "3348583630153738240 260.90263   31.134108 ... Infrarroja Infrarroja Infrarroja\n",
      "3348584179909552128 260.91501   31.221169 ... Infrarroja Infrarroja Infrarroja\n",
      "3348590776979318784 260.67041   31.917043 ... Infrarroja Infrarroja Infrarroja\n",
      "3348592976002574336  261.1035   31.590881 ... Infrarroja Infrarroja Infrarroja\n",
      "3348593250880481280 261.13056   31.473702 ... Infrarroja Infrarroja Infrarroja\n",
      "3348596274537457664 261.24627   31.260667 ... Infrarroja Infrarroja Infrarroja\n",
      "3348598748438620160 260.92678   31.854907 ... Infrarroja Infrarroja Infrarroja\n",
      "3348599023316527104 260.71475   32.361811 ... Infrarroja Infrarroja Infrarroja\n",
      "Length = 329650 rows\n"
     ]
    }
   ],
   "source": [
    "print(table)"
   ]
  },
  {
   "cell_type": "code",
   "execution_count": 48,
   "id": "a11e4fb9",
   "metadata": {},
   "outputs": [
    {
     "data": {
      "text/plain": [
       "298381"
      ]
     },
     "execution_count": 48,
     "metadata": {},
     "output_type": "execute_result"
    }
   ],
   "source": [
    "ocurrencias_g4i = np.count_nonzero(table['Etqtded'] == 'Infrarroja')\n",
    "ocurrencias_g4i "
   ]
  },
  {
   "cell_type": "code",
   "execution_count": 49,
   "id": "8671f18a",
   "metadata": {},
   "outputs": [
    {
     "data": {
      "text/plain": [
       "31269"
      ]
     },
     "execution_count": 49,
     "metadata": {},
     "output_type": "execute_result"
    }
   ],
   "source": [
    "ocurrencias_g4a = np.count_nonzero(table['Etqtded'] == 'AGN')\n",
    "ocurrencias_g4a "
   ]
  },
  {
   "cell_type": "code",
   "execution_count": 50,
   "id": "9312a7e9",
   "metadata": {},
   "outputs": [
    {
     "data": {
      "text/html": [
       "<div><i>Table length=329650</i>\n",
       "<table id=\"table1477645512768\" class=\"table-striped table-bordered table-condensed\">\n",
       "<thead><tr><th>specobjid</th><th>ra</th><th>dec</th><th>z</th><th>h_alpha_flux</th><th>h_beta_flux</th><th>oiii_5007_flux</th><th>nii_6548_flux</th><th>nii_6584_flux</th><th>sii_6717_flux</th><th>sii_6731_flux</th><th>oi_6300_flux</th><th>class</th><th>subclass</th><th>Ejey_OHB</th><th>Ejex_NH</th><th>Ejex_SH</th><th>Ejex_OH</th><th>A-I</th><th>A-Ib</th><th>A-Ic</th><th>Etqtded</th></tr></thead>\n",
       "<thead><tr><th>int64</th><th>float64</th><th>float64</th><th>float64</th><th>float64</th><th>float64</th><th>float64</th><th>float64</th><th>float64</th><th>float64</th><th>float64</th><th>float64</th><th>bytes6</th><th>bytes11</th><th>float64</th><th>float64</th><th>float64</th><th>float64</th><th>str10</th><th>str10</th><th>str10</th><th>str10</th></tr></thead>\n",
       "<tr><td>299489677444933632</td><td>146.71421</td><td>-1.0413043</td><td>0.02122228</td><td>472.5904</td><td>119.4956</td><td>68.39606</td><td>74.30252</td><td>224.1136</td><td>124.7115</td><td>84.18053</td><td>18.59493</td><td>GALAXY</td><td>STARFORMING</td><td>-0.5579643299797622</td><td>-0.45974016306703563</td><td>-0.8164115357764966</td><td>-3.235340088468119</td><td>Infrarroja</td><td>Infrarroja</td><td>Infrarroja</td><td>Infrarroja</td></tr>\n",
       "<tr><td>299490502078654464</td><td>146.62857</td><td>-0.76513683</td><td>0.06465632</td><td>99.40005</td><td>25.64047</td><td>21.44437</td><td>17.10464</td><td>51.59155</td><td>35.33497</td><td>21.65778</td><td>8.490424</td><td>GALAXY</td><td>STARFORMING</td><td>-0.17870982255764298</td><td>-0.3694588775053708</td><td>-0.5562285499181298</td><td>-2.460213676497085</td><td>Infrarroja</td><td>Infrarroja</td><td>Infrarroja</td><td>Infrarroja</td></tr>\n",
       "<tr><td>299491051364706304</td><td>146.9639</td><td>-0.54500256</td><td>0.05598787</td><td>181.5262</td><td>47.3665</td><td>11.85567</td><td>17.94872</td><td>54.13749</td><td>31.28298</td><td>19.16762</td><td>4.319232</td><td>GALAXY</td><td>STARBURST</td><td>-1.3851089936216554</td><td>-0.9235372320421027</td><td>-1.2804053562119218</td><td>-3.73832238723025</td><td>Infrarroja</td><td>Infrarroja</td><td>Infrarroja</td><td>Infrarroja</td></tr>\n",
       "<tr><td>299491051834468352</td><td>146.63167</td><td>-0.98827781</td><td>0.05265425</td><td>127.3058</td><td>38.33226</td><td>35.46671</td><td>8.550285</td><td>25.78963</td><td>30.26996</td><td>25.72297</td><td>6.269853</td><td>GALAXY</td><td>STARFORMING</td><td>-0.07769732925993379</td><td>-1.310283685972076</td><td>-0.82136663342587</td><td>-3.010839156796902</td><td>Infrarroja</td><td>Infrarroja</td><td>Infrarroja</td><td>Infrarroja</td></tr>\n",
       "<tr><td>299492700632147968</td><td>146.59272</td><td>-0.76025604</td><td>0.06502353</td><td>211.5018</td><td>53.18228</td><td>15.59901</td><td>25.31465</td><td>76.35482</td><td>41.6377</td><td>28.47964</td><td>7.211103</td><td>GALAXY</td><td>STARFORMING</td><td>-1.2265178074532048</td><td>-0.7325064477587709</td><td>-1.104063384723556</td><td>-3.378611587522619</td><td>Infrarroja</td><td>Infrarroja</td><td>Infrarroja</td><td>Infrarroja</td></tr>\n",
       "<tr><td>299492701101910016</td><td>146.9639</td><td>-0.54500256</td><td>0.05598059</td><td>195.5197</td><td>42.86956</td><td>16.26119</td><td>20.29729</td><td>61.2213</td><td>33.027</td><td>24.30562</td><td>2.18458</td><td>GALAXY</td><td>STARFORMING</td><td>-0.9693807297960476</td><td>-0.8748300492162716</td><td>-1.2267913954046903</td><td>-4.494237551220818</td><td>Infrarroja</td><td>Infrarroja</td><td>Infrarroja</td><td>Infrarroja</td></tr>\n",
       "<tr><td>299493250857723904</td><td>146.94999</td><td>-0.59220225</td><td>0.06477907</td><td>229.1325</td><td>60.80691</td><td>29.73346</td><td>24.49155</td><td>73.87218</td><td>45.46917</td><td>33.85824</td><td>7.237874</td><td>GALAXY</td><td>STARFORMING</td><td>-0.7154304228316234</td><td>-0.8456283002999179</td><td>-1.0607167204980377</td><td>-3.454972921982135</td><td>Infrarroja</td><td>Infrarroja</td><td>Infrarroja</td><td>Infrarroja</td></tr>\n",
       "<tr><td>299493525265868800</td><td>146.94999</td><td>-0.59220225</td><td>0.06477667</td><td>233.1141</td><td>62.10917</td><td>35.72292</td><td>23.55069</td><td>71.03431</td><td>44.16328</td><td>32.56358</td><td>7.67483</td><td>GALAXY</td><td>STARFORMING</td><td>-0.5531011435066887</td><td>-0.9020291321551844</td><td>-1.1112761906366115</td><td>-3.413581889881995</td><td>Infrarroja</td><td>Infrarroja</td><td>Infrarroja</td><td>Infrarroja</td></tr>\n",
       "<tr><td>299493800143775744</td><td>146.63167</td><td>-0.98827781</td><td>0.05265867</td><td>116.8699</td><td>36.78978</td><td>32.56529</td><td>8.366628</td><td>25.23568</td><td>24.13779</td><td>23.1536</td><td>2.733802</td><td>GALAXY</td><td>STARFORMING</td><td>-0.12197309198786147</td><td>-1.2464665952068548</td><td>-0.9047331009629405</td><td>-3.75536803597456</td><td>Infrarroja</td><td>Infrarroja</td><td>Infrarroja</td><td>Infrarroja</td></tr>\n",
       "<tr><td>299494075021682688</td><td>146.62857</td><td>-0.76513683</td><td>0.06458879</td><td>99.23278</td><td>26.19861</td><td>17.2893</td><td>16.26318</td><td>49.0535</td><td>32.67037</td><td>18.77828</td><td>5.045829</td><td>GALAXY</td><td>STARFORMING</td><td>-0.41561854287888705</td><td>-0.418220963143552</td><td>-0.6568841803860165</td><td>-2.9789064418384217</td><td>Infrarroja</td><td>Infrarroja</td><td>Infrarroja</td><td>Infrarroja</td></tr>\n",
       "<tr><td>...</td><td>...</td><td>...</td><td>...</td><td>...</td><td>...</td><td>...</td><td>...</td><td>...</td><td>...</td><td>...</td><td>...</td><td>...</td><td>...</td><td>...</td><td>...</td><td>...</td><td>...</td><td>...</td><td>...</td><td>...</td><td>...</td></tr>\n",
       "<tr><td>3348582805520017408</td><td>260.6556</td><td>31.654756</td><td>0.1037587</td><td>147.1238</td><td>10.01381</td><td>5.291428</td><td>16.47892</td><td>49.70422</td><td>14.09084</td><td>10.59877</td><td>5.111954</td><td>GALAXY</td><td>STARFORMING</td><td>-0.6378769875592684</td><td>-0.7988486614911865</td><td>-1.7848919018539666</td><td>-3.3596926906178335</td><td>Infrarroja</td><td>Infrarroja</td><td>Infrarroja</td><td>Infrarroja</td></tr>\n",
       "<tr><td>3348583080397924352</td><td>260.90071</td><td>31.532274</td><td>0.04476599</td><td>580.5005</td><td>181.7541</td><td>309.282</td><td>28.71486</td><td>86.61065</td><td>95.26092</td><td>69.5303</td><td>13.83892</td><td>GALAXY</td><td>STARBURST</td><td>0.5315988074526773</td><td>-1.6161320107450647</td><td>-1.2592113231069295</td><td>-3.7364057500014396</td><td>Infrarroja</td><td>Infrarroja</td><td>Infrarroja</td><td>Infrarroja</td></tr>\n",
       "<tr><td>3348583630153738240</td><td>260.90263</td><td>31.134108</td><td>0.1077875</td><td>235.5058</td><td>53.69223</td><td>15.54064</td><td>24.7408</td><td>74.62396</td><td>34.6772</td><td>24.7855</td><td>8.48487</td><td>GALAXY</td><td>STARFORMING</td><td>-1.2398097701757387</td><td>-0.862938017963365</td><td>-1.3763863163861916</td><td>-3.323450964189463</td><td>Infrarroja</td><td>Infrarroja</td><td>Infrarroja</td><td>Infrarroja</td></tr>\n",
       "<tr><td>3348584179909552128</td><td>260.91501</td><td>31.221169</td><td>0.04529491</td><td>237.11</td><td>60.66751</td><td>26.8061</td><td>24.192</td><td>72.96865</td><td>47.35347</td><td>34.46716</td><td>5.380894</td><td>GALAXY</td><td>STARFORMING</td><td>-0.8167788258535255</td><td>-0.8921583743714091</td><td>-1.0639947561783845</td><td>-3.7856696371063476</td><td>Infrarroja</td><td>Infrarroja</td><td>Infrarroja</td><td>Infrarroja</td></tr>\n",
       "<tr><td>3348590776979318784</td><td>260.67041</td><td>31.917043</td><td>0.08008421</td><td>680.3397</td><td>177.0548</td><td>43.45304</td><td>94.28385</td><td>284.3819</td><td>92.26201</td><td>76.85968</td><td>10.50863</td><td>GALAXY</td><td>STARBURST</td><td>-1.4047784744345222</td><td>-0.5859383424203046</td><td>-1.3919737172792683</td><td>-4.170395407909091</td><td>Infrarroja</td><td>Infrarroja</td><td>Infrarroja</td><td>Infrarroja</td></tr>\n",
       "<tr><td>3348592976002574336</td><td>261.1035</td><td>31.590881</td><td>0.02503821</td><td>39.77857</td><td>9.911286</td><td>13.09216</td><td>2.22471</td><td>6.710238</td><td>12.47293</td><td>7.484834</td><td>3.046409</td><td>GALAXY</td><td>STARFORMING</td><td>0.2783394699340738</td><td>-1.493357996282554</td><td>-0.689710084507214</td><td>-2.5693648051500055</td><td>Infrarroja</td><td>Infrarroja</td><td>Infrarroja</td><td>Infrarroja</td></tr>\n",
       "<tr><td>3348593250880481280</td><td>261.13056</td><td>31.473702</td><td>0.1039688</td><td>59.28167</td><td>21.49873</td><td>29.87635</td><td>16.09959</td><td>48.56009</td><td>13.66697</td><td>9.502753</td><td>5.718228</td><td>GALAXY</td><td>STARFORMING</td><td>0.32907333389374593</td><td>0.08683767134019148</td><td>-0.939453768722589</td><td>-2.338641184794022</td><td>AGN</td><td>Infrarroja</td><td>Infrarroja</td><td>Infrarroja</td></tr>\n",
       "<tr><td>3348596274537457664</td><td>261.24627</td><td>31.260667</td><td>0.0460373</td><td>397.8261</td><td>111.9309</td><td>67.07775</td><td>32.80155</td><td>98.93704</td><td>81.22416</td><td>54.07962</td><td>11.8454</td><td>GALAXY</td><td>STARBURST</td><td>-0.5120293222554924</td><td>-1.1051953948716826</td><td>-1.078492502425073</td><td>-3.5140753685637254</td><td>Infrarroja</td><td>Infrarroja</td><td>Infrarroja</td><td>Infrarroja</td></tr>\n",
       "<tr><td>3348598748438620160</td><td>260.92678</td><td>31.854907</td><td>0.2105658</td><td>1131.192</td><td>326.4007</td><td>577.6545</td><td>123.0767</td><td>371.2277</td><td>33.13488</td><td>29.19988</td><td>22.41476</td><td>QSO</td><td>BROADLINE</td><td>0.5708501713875566</td><td>-0.827875701231384</td><td>-2.898508007356423</td><td>-3.921307552547205</td><td>Infrarroja</td><td>Infrarroja</td><td>Infrarroja</td><td>Infrarroja</td></tr>\n",
       "<tr><td>3348599023316527104</td><td>260.71475</td><td>32.361811</td><td>0.05442811</td><td>106.4705</td><td>19.75921</td><td>6.198793</td><td>14.73189</td><td>44.43478</td><td>20.47958</td><td>14.92415</td><td>4.500745</td><td>GALAXY</td><td>STARFORMING</td><td>-1.1592651160838423</td><td>-0.5875095748886426</td><td>-1.1010507696534</td><td>-3.163625012845009</td><td>Infrarroja</td><td>Infrarroja</td><td>Infrarroja</td><td>Infrarroja</td></tr>\n",
       "</table></div>"
      ],
      "text/plain": [
       "<Table length=329650>\n",
       "     specobjid          ra        dec     ...    A-Ib       A-Ic     Etqtded  \n",
       "       int64         float64    float64   ...   str10      str10      str10   \n",
       "------------------- --------- ----------- ... ---------- ---------- ----------\n",
       " 299489677444933632 146.71421  -1.0413043 ... Infrarroja Infrarroja Infrarroja\n",
       " 299490502078654464 146.62857 -0.76513683 ... Infrarroja Infrarroja Infrarroja\n",
       " 299491051364706304  146.9639 -0.54500256 ... Infrarroja Infrarroja Infrarroja\n",
       " 299491051834468352 146.63167 -0.98827781 ... Infrarroja Infrarroja Infrarroja\n",
       " 299492700632147968 146.59272 -0.76025604 ... Infrarroja Infrarroja Infrarroja\n",
       " 299492701101910016  146.9639 -0.54500256 ... Infrarroja Infrarroja Infrarroja\n",
       " 299493250857723904 146.94999 -0.59220225 ... Infrarroja Infrarroja Infrarroja\n",
       " 299493525265868800 146.94999 -0.59220225 ... Infrarroja Infrarroja Infrarroja\n",
       " 299493800143775744 146.63167 -0.98827781 ... Infrarroja Infrarroja Infrarroja\n",
       " 299494075021682688 146.62857 -0.76513683 ... Infrarroja Infrarroja Infrarroja\n",
       "                ...       ...         ... ...        ...        ...        ...\n",
       "3348582805520017408  260.6556   31.654756 ... Infrarroja Infrarroja Infrarroja\n",
       "3348583080397924352 260.90071   31.532274 ... Infrarroja Infrarroja Infrarroja\n",
       "3348583630153738240 260.90263   31.134108 ... Infrarroja Infrarroja Infrarroja\n",
       "3348584179909552128 260.91501   31.221169 ... Infrarroja Infrarroja Infrarroja\n",
       "3348590776979318784 260.67041   31.917043 ... Infrarroja Infrarroja Infrarroja\n",
       "3348592976002574336  261.1035   31.590881 ... Infrarroja Infrarroja Infrarroja\n",
       "3348593250880481280 261.13056   31.473702 ... Infrarroja Infrarroja Infrarroja\n",
       "3348596274537457664 261.24627   31.260667 ... Infrarroja Infrarroja Infrarroja\n",
       "3348598748438620160 260.92678   31.854907 ... Infrarroja Infrarroja Infrarroja\n",
       "3348599023316527104 260.71475   32.361811 ... Infrarroja Infrarroja Infrarroja"
      ]
     },
     "execution_count": 50,
     "metadata": {},
     "output_type": "execute_result"
    }
   ],
   "source": [
    "table"
   ]
  },
  {
   "cell_type": "code",
   "execution_count": null,
   "id": "abe9400f",
   "metadata": {},
   "outputs": [],
   "source": [
    "\"\"\"\n",
    "#Para ver todo debemos exportar:\n",
    "\n",
    "\n",
    "# Convertir la tabla a un DataFrame de pandas\n",
    "df = table.to_pandas()\n",
    "\n",
    "# Especificar la ruta y el nombre del archivo Excel\n",
    "archivo_excel = \"archivo2GRUPOS.xlsx\"\n",
    "df.to_excel(archivo_excel, index=False)\n",
    "\"\"\""
   ]
  },
  {
   "cell_type": "code",
   "execution_count": 51,
   "id": "9a57ab2e",
   "metadata": {},
   "outputs": [
    {
     "data": {
      "text/html": [
       "<div><i>Table length=5</i>\n",
       "<table id=\"table1477637176528\" class=\"table-striped table-bordered table-condensed\">\n",
       "<thead><tr><th>specobjid</th><th>ra</th><th>dec</th><th>z</th><th>h_alpha_flux</th><th>h_beta_flux</th><th>oiii_5007_flux</th><th>nii_6548_flux</th><th>nii_6584_flux</th><th>sii_6717_flux</th><th>sii_6731_flux</th><th>oi_6300_flux</th><th>class</th><th>subclass</th><th>Ejey_OHB</th><th>Ejex_NH</th><th>Ejex_SH</th><th>Ejex_OH</th><th>A-I</th><th>A-Ib</th><th>A-Ic</th><th>Etqtded</th></tr></thead>\n",
       "<thead><tr><th>int64</th><th>float64</th><th>float64</th><th>float64</th><th>float64</th><th>float64</th><th>float64</th><th>float64</th><th>float64</th><th>float64</th><th>float64</th><th>float64</th><th>bytes6</th><th>bytes11</th><th>float64</th><th>float64</th><th>float64</th><th>float64</th><th>str10</th><th>str10</th><th>str10</th><th>str10</th></tr></thead>\n",
       "<tr><td>299541354491439104</td><td>145.8774</td><td>-0.050187511</td><td>0.09099656</td><td>168.7761</td><td>37.64988</td><td>15.99098</td><td>21.92286</td><td>66.1244</td><td>36.86018</td><td>22.56966</td><td>7.836175</td><td>GALAXY</td><td>STARFORMING</td><td>-0.8563049537168252</td><td>-0.6506992686841983</td><td>-1.04377652732768</td><td>-3.069822151803861</td><td>Infrarroja</td><td>Infrarroja</td><td>Infrarroja</td><td>Infrarroja</td></tr>\n",
       "<tr><td>299542178655397888</td><td>145.83689</td><td>0.0028933788</td><td>0.1294421</td><td>32.36446</td><td>12.73415</td><td>15.29429</td><td>14.33108</td><td>43.22586</td><td>16.19875</td><td>5.258232</td><td>6.732329</td><td>GALAXY</td><td>STARFORMING</td><td>0.18319219511314272</td><td>0.5757138115199929</td><td>-0.411010813592515</td><td>-1.5701397609700458</td><td>AGN</td><td>Infrarroja</td><td>Infrarroja</td><td>Infrarroja</td></tr>\n",
       "<tr><td>299542728411211776</td><td>145.82273</td><td>-0.16028957</td><td>0.06265986</td><td>465.4098</td><td>112.6157</td><td>39.88118</td><td>48.93747</td><td>147.6067</td><td>86.92477</td><td>64.41814</td><td>11.68747</td><td>GALAXY</td><td>STARBURST</td><td>-1.038076604180049</td><td>-0.8620311180373734</td><td>-1.1233701184922813</td><td>-3.684400980035037</td><td>Infrarroja</td><td>Infrarroja</td><td>Infrarroja</td><td>Infrarroja</td></tr>\n",
       "<tr><td>299544103270508544</td><td>145.82273</td><td>-0.16028957</td><td>0.06265516</td><td>473.5915</td><td>119.7019</td><td>38.83449</td><td>47.84777</td><td>144.3199</td><td>92.08565</td><td>60.78732</td><td>9.701359</td><td>GALAXY</td><td>STARBURST</td><td>-1.1256957161520311</td><td>-0.9019768635840407</td><td>-1.1307378206769954</td><td>-3.8880791569850013</td><td>Infrarroja</td><td>Infrarroja</td><td>Infrarroja</td><td>Infrarroja</td></tr>\n",
       "<tr><td>299546026946095104</td><td>145.63394</td><td>-1.0506031</td><td>0.1432015</td><td>120.4901</td><td>18.01187</td><td>104.8663</td><td>33.91198</td><td>102.2864</td><td>38.69477</td><td>27.21209</td><td>12.92588</td><td>GALAXY</td><td>AGN</td><td>1.761655220443794</td><td>0.12254490749231242</td><td>-0.6033250586716581</td><td>-2.2323360886960444</td><td>AGN</td><td>AGN</td><td>AGN</td><td>AGN</td></tr>\n",
       "</table></div>"
      ],
      "text/plain": [
       "<Table length=5>\n",
       "    specobjid          ra        dec      ...    A-Ib       A-Ic     Etqtded  \n",
       "      int64         float64    float64    ...   str10      str10      str10   \n",
       "------------------ --------- ------------ ... ---------- ---------- ----------\n",
       "299541354491439104  145.8774 -0.050187511 ... Infrarroja Infrarroja Infrarroja\n",
       "299542178655397888 145.83689 0.0028933788 ... Infrarroja Infrarroja Infrarroja\n",
       "299542728411211776 145.82273  -0.16028957 ... Infrarroja Infrarroja Infrarroja\n",
       "299544103270508544 145.82273  -0.16028957 ... Infrarroja Infrarroja Infrarroja\n",
       "299546026946095104 145.63394   -1.0506031 ...        AGN        AGN        AGN"
      ]
     },
     "execution_count": 51,
     "metadata": {},
     "output_type": "execute_result"
    }
   ],
   "source": [
    "# Ejemplo AGN O Infrarroja.\n",
    "table[90:95]"
   ]
  },
  {
   "cell_type": "code",
   "execution_count": null,
   "id": "0779d11a",
   "metadata": {},
   "outputs": [],
   "source": []
  },
  {
   "cell_type": "code",
   "execution_count": null,
   "id": "376352b8",
   "metadata": {},
   "outputs": [],
   "source": []
  },
  {
   "cell_type": "markdown",
   "id": "54cc1ac6",
   "metadata": {},
   "source": [
    "# 2. DE LOS DATOS DE SLOAN"
   ]
  },
  {
   "cell_type": "code",
   "execution_count": null,
   "id": "0b8f8f06",
   "metadata": {},
   "outputs": [],
   "source": [
    "# Etiqueta SDSS.\n",
    "#etqtSDSS"
   ]
  },
  {
   "cell_type": "code",
   "execution_count": null,
   "id": "f86fe2e7",
   "metadata": {},
   "outputs": [],
   "source": [
    "# Convertir SSDO en SOLO 2GRUPOS:\n",
    "# Infrarroja O\n",
    "# AGN"
   ]
  },
  {
   "cell_type": "code",
   "execution_count": 52,
   "id": "f67d10e7",
   "metadata": {},
   "outputs": [
    {
     "name": "stdout",
     "output_type": "stream",
     "text": [
      "     specobjid          ra        dec     ...    A-Ic     Etqtded    EtqtSDSS \n",
      "------------------- --------- ----------- ... ---------- ---------- ----------\n",
      " 299489677444933632 146.71421  -1.0413043 ... Infrarroja Infrarroja Infrarroja\n",
      " 299490502078654464 146.62857 -0.76513683 ... Infrarroja Infrarroja Infrarroja\n",
      " 299491051364706304  146.9639 -0.54500256 ... Infrarroja Infrarroja Infrarroja\n",
      " 299491051834468352 146.63167 -0.98827781 ... Infrarroja Infrarroja Infrarroja\n",
      " 299492700632147968 146.59272 -0.76025604 ... Infrarroja Infrarroja Infrarroja\n",
      " 299492701101910016  146.9639 -0.54500256 ... Infrarroja Infrarroja Infrarroja\n",
      " 299493250857723904 146.94999 -0.59220225 ... Infrarroja Infrarroja Infrarroja\n",
      " 299493525265868800 146.94999 -0.59220225 ... Infrarroja Infrarroja Infrarroja\n",
      " 299493800143775744 146.63167 -0.98827781 ... Infrarroja Infrarroja Infrarroja\n",
      " 299494075021682688 146.62857 -0.76513683 ... Infrarroja Infrarroja Infrarroja\n",
      "                ...       ...         ... ...        ...        ...        ...\n",
      "3348582255764203520 260.73569   31.341986 ...        AGN        AGN        AGN\n",
      "3348582805520017408  260.6556   31.654756 ... Infrarroja Infrarroja Infrarroja\n",
      "3348583080397924352 260.90071   31.532274 ... Infrarroja Infrarroja Infrarroja\n",
      "3348583630153738240 260.90263   31.134108 ... Infrarroja Infrarroja Infrarroja\n",
      "3348584179909552128 260.91501   31.221169 ... Infrarroja Infrarroja Infrarroja\n",
      "3348590776979318784 260.67041   31.917043 ... Infrarroja Infrarroja Infrarroja\n",
      "3348592976002574336  261.1035   31.590881 ... Infrarroja Infrarroja Infrarroja\n",
      "3348593250880481280 261.13056   31.473702 ... Infrarroja Infrarroja Infrarroja\n",
      "3348596274537457664 261.24627   31.260667 ... Infrarroja Infrarroja Infrarroja\n",
      "3348598748438620160 260.92678   31.854907 ... Infrarroja Infrarroja        AGN\n",
      "3348599023316527104 260.71475   32.361811 ... Infrarroja Infrarroja Infrarroja\n",
      "Length = 329650 rows\n"
     ]
    }
   ],
   "source": [
    "# Crear una nueva columna llamada \"etiqueta\"\n",
    "table['EtqtSDSS'] = ['Infrarroja' if s in ['STARFORMING', 'STARBURST'] else 'AGN' for s in table['subclass']]\n",
    "\n",
    "# Imprimir la tabla con la nueva columna\n",
    "print(table)"
   ]
  },
  {
   "cell_type": "code",
   "execution_count": 53,
   "id": "0436bdfa",
   "metadata": {},
   "outputs": [
    {
     "data": {
      "text/plain": [
       "301823"
      ]
     },
     "execution_count": 53,
     "metadata": {},
     "output_type": "execute_result"
    }
   ],
   "source": [
    "ocurrencias_g5i = np.count_nonzero(table['EtqtSDSS'] == 'Infrarroja')\n",
    "ocurrencias_g5i "
   ]
  },
  {
   "cell_type": "code",
   "execution_count": 54,
   "id": "a20562a3",
   "metadata": {},
   "outputs": [
    {
     "data": {
      "text/plain": [
       "27827"
      ]
     },
     "execution_count": 54,
     "metadata": {},
     "output_type": "execute_result"
    }
   ],
   "source": [
    "ocurrencias_g5a = np.count_nonzero(table['EtqtSDSS'] == 'AGN')\n",
    "ocurrencias_g5a "
   ]
  },
  {
   "cell_type": "code",
   "execution_count": null,
   "id": "93d8870b",
   "metadata": {},
   "outputs": [],
   "source": []
  },
  {
   "cell_type": "markdown",
   "id": "df2524dd",
   "metadata": {},
   "source": [
    "# 3. ETIQUETAS FINALES"
   ]
  },
  {
   "cell_type": "markdown",
   "id": "48db0bf2",
   "metadata": {},
   "source": [
    "3.1 Es 0 o 1.\n",
    "\n",
    "3.2 Graficas resultantes.  \n",
    "3.2.1 Etiquetado para Gráfico a (ejey_OHb Vs ejex_NH)  \n",
    "3.2.2 Etiquetado para Gráfico b (ejey_OHb Vs ejex_SH)  \n",
    "3.2.3 Etiquetado para Gráfico c (ejey_OHb Vs ejex_OH)  \n",
    "\n",
    "3.3 Conclusiones"
   ]
  },
  {
   "cell_type": "markdown",
   "id": "49ec74f5",
   "metadata": {},
   "source": [
    "3.1 Es 0 o 1.\n",
    "\n",
    "Si mis etiquetas y SDSS son iguales marque como 0, sino 1.  \n",
    "Despues borrar 1."
   ]
  },
  {
   "cell_type": "code",
   "execution_count": 55,
   "id": "ac47d690",
   "metadata": {},
   "outputs": [
    {
     "name": "stdout",
     "output_type": "stream",
     "text": [
      "     specobjid          ra        dec     ...  Etqtded    EtqtSDSS  Nueva Col\n",
      "------------------- --------- ----------- ... ---------- ---------- ---------\n",
      " 299489677444933632 146.71421  -1.0413043 ... Infrarroja Infrarroja         0\n",
      " 299490502078654464 146.62857 -0.76513683 ... Infrarroja Infrarroja         0\n",
      " 299491051364706304  146.9639 -0.54500256 ... Infrarroja Infrarroja         0\n",
      " 299491051834468352 146.63167 -0.98827781 ... Infrarroja Infrarroja         0\n",
      " 299492700632147968 146.59272 -0.76025604 ... Infrarroja Infrarroja         0\n",
      " 299492701101910016  146.9639 -0.54500256 ... Infrarroja Infrarroja         0\n",
      " 299493250857723904 146.94999 -0.59220225 ... Infrarroja Infrarroja         0\n",
      " 299493525265868800 146.94999 -0.59220225 ... Infrarroja Infrarroja         0\n",
      " 299493800143775744 146.63167 -0.98827781 ... Infrarroja Infrarroja         0\n",
      " 299494075021682688 146.62857 -0.76513683 ... Infrarroja Infrarroja         0\n",
      "                ...       ...         ... ...        ...        ...       ...\n",
      "3348582255764203520 260.73569   31.341986 ...        AGN        AGN         0\n",
      "3348582805520017408  260.6556   31.654756 ... Infrarroja Infrarroja         0\n",
      "3348583080397924352 260.90071   31.532274 ... Infrarroja Infrarroja         0\n",
      "3348583630153738240 260.90263   31.134108 ... Infrarroja Infrarroja         0\n",
      "3348584179909552128 260.91501   31.221169 ... Infrarroja Infrarroja         0\n",
      "3348590776979318784 260.67041   31.917043 ... Infrarroja Infrarroja         0\n",
      "3348592976002574336  261.1035   31.590881 ... Infrarroja Infrarroja         0\n",
      "3348593250880481280 261.13056   31.473702 ... Infrarroja Infrarroja         0\n",
      "3348596274537457664 261.24627   31.260667 ... Infrarroja Infrarroja         0\n",
      "3348598748438620160 260.92678   31.854907 ... Infrarroja        AGN         1\n",
      "3348599023316527104 260.71475   32.361811 ... Infrarroja Infrarroja         0\n",
      "Length = 329650 rows\n"
     ]
    }
   ],
   "source": [
    "# Agregar una nueva columna \"Nueva Col\" con 0 para = y 1 para !=\n",
    "nueva_col = []\n",
    "for i in range(len(table)):\n",
    "    if table['Etqtded'][i] == table['EtqtSDSS'][i]:\n",
    "        nueva_col.append(0)\n",
    "    else:\n",
    "        nueva_col.append(1)\n",
    "table.add_column(nueva_col, name='Nueva Col')\n",
    "\n",
    "# Muestra la tabla resultante\n",
    "print(table)"
   ]
  },
  {
   "cell_type": "code",
   "execution_count": 56,
   "id": "86304c5e",
   "metadata": {},
   "outputs": [
    {
     "name": "stdout",
     "output_type": "stream",
     "text": [
      "19398\n"
     ]
    }
   ],
   "source": [
    "# Calcula la sumatoria de la columna \"Nueva Col\"\n",
    "suma = sum(table['Nueva Col'])\n",
    "\n",
    "# Muestra la sumatoria resultante\n",
    "print(suma)"
   ]
  },
  {
   "cell_type": "code",
   "execution_count": 57,
   "id": "a9605759",
   "metadata": {},
   "outputs": [
    {
     "name": "stdout",
     "output_type": "stream",
     "text": [
      "     specobjid          ra        dec      ...  Etqtded    EtqtSDSS  Nueva Col\n",
      "------------------- --------- ------------ ... ---------- ---------- ---------\n",
      " 299496274514700288 146.95607  -0.34230044 ...        AGN Infrarroja         1\n",
      " 299496548922845184 146.95607  -0.34230044 ...        AGN Infrarroja         1\n",
      " 299512766719354880 146.24259  -0.76261796 ...        AGN Infrarroja         1\n",
      " 299513041597261824 146.19262  -0.68840099 ...        AGN Infrarroja         1\n",
      " 299513866230982656 146.00779  -0.64227163 ...        AGN Infrarroja         1\n",
      " 299514966212372480 146.24259  -0.76261796 ...        AGN Infrarroja         1\n",
      " 299516890357721088 146.00779  -0.64227163 ...        AGN Infrarroja         1\n",
      " 299517714521679872 146.74174  -0.52469154 ... Infrarroja        AGN         1\n",
      " 299518539155400704 146.62966  -0.46568888 ...        AGN Infrarroja         1\n",
      " 299528984515864576 146.32316 -0.029989881 ...        AGN Infrarroja         1\n",
      "                ...       ...          ... ...        ...        ...       ...\n",
      "3348476152892123136 260.77019    30.004243 ...        AGN Infrarroja         1\n",
      "3348489347031656448 260.59734    30.107126 ...        AGN Infrarroja         1\n",
      "3348502541171189760 260.32594    30.233489 ...        AGN Infrarroja         1\n",
      "3348505015072352256 260.15232    30.494681 ... Infrarroja        AGN         1\n",
      "3348519858479327232 259.22521    31.904294 ...        AGN Infrarroja         1\n",
      "3348525356037466112 259.56483    31.954016 ...        AGN Infrarroja         1\n",
      "3348559715775834112 260.42405    31.356296 ... Infrarroja        AGN         1\n",
      "3348569336502577152 260.34879    32.044567 ... Infrarroja        AGN         1\n",
      "3348570985770018816 260.64573    31.807949 ...        AGN Infrarroja         1\n",
      "3348574009426995200 260.43013    31.792235 ... Infrarroja        AGN         1\n",
      "3348598748438620160 260.92678    31.854907 ... Infrarroja        AGN         1\n",
      "Length = 19398 rows\n"
     ]
    }
   ],
   "source": [
    "# Depurar los 305 datos que no coinciden:\n",
    "# Obtiene los datos donde \"Nueva Col\" es igual a 1\n",
    "mascara = table['Nueva Col'] == 1\n",
    "datos = table[mascara]\n",
    "\n",
    "# Muestra los datos resultantes\n",
    "print(datos)"
   ]
  },
  {
   "cell_type": "markdown",
   "id": "e6da7050",
   "metadata": {},
   "source": []
  },
  {
   "cell_type": "code",
   "execution_count": 58,
   "id": "2b1ef38d",
   "metadata": {},
   "outputs": [
    {
     "name": "stdout",
     "output_type": "stream",
     "text": [
      "     specobjid          ra        dec     ...  Etqtded    EtqtSDSS  Nueva Col\n",
      "------------------- --------- ----------- ... ---------- ---------- ---------\n",
      " 299489677444933632 146.71421  -1.0413043 ... Infrarroja Infrarroja         0\n",
      " 299490502078654464 146.62857 -0.76513683 ... Infrarroja Infrarroja         0\n",
      " 299491051364706304  146.9639 -0.54500256 ... Infrarroja Infrarroja         0\n",
      " 299491051834468352 146.63167 -0.98827781 ... Infrarroja Infrarroja         0\n",
      " 299492700632147968 146.59272 -0.76025604 ... Infrarroja Infrarroja         0\n",
      " 299492701101910016  146.9639 -0.54500256 ... Infrarroja Infrarroja         0\n",
      " 299493250857723904 146.94999 -0.59220225 ... Infrarroja Infrarroja         0\n",
      " 299493525265868800 146.94999 -0.59220225 ... Infrarroja Infrarroja         0\n",
      " 299493800143775744 146.63167 -0.98827781 ... Infrarroja Infrarroja         0\n",
      " 299494075021682688 146.62857 -0.76513683 ... Infrarroja Infrarroja         0\n",
      "                ...       ...         ... ...        ...        ...       ...\n",
      "3348581431130482688 260.73388   31.426465 ... Infrarroja Infrarroja         0\n",
      "3348582255764203520 260.73569   31.341986 ...        AGN        AGN         0\n",
      "3348582805520017408  260.6556   31.654756 ... Infrarroja Infrarroja         0\n",
      "3348583080397924352 260.90071   31.532274 ... Infrarroja Infrarroja         0\n",
      "3348583630153738240 260.90263   31.134108 ... Infrarroja Infrarroja         0\n",
      "3348584179909552128 260.91501   31.221169 ... Infrarroja Infrarroja         0\n",
      "3348590776979318784 260.67041   31.917043 ... Infrarroja Infrarroja         0\n",
      "3348592976002574336  261.1035   31.590881 ... Infrarroja Infrarroja         0\n",
      "3348593250880481280 261.13056   31.473702 ... Infrarroja Infrarroja         0\n",
      "3348596274537457664 261.24627   31.260667 ... Infrarroja Infrarroja         0\n",
      "3348599023316527104 260.71475   32.361811 ... Infrarroja Infrarroja         0\n",
      "Length = 310252 rows\n"
     ]
    }
   ],
   "source": [
    "# Guardar en una nueva tabla las Etiquetas finales:\n",
    "# Crea la nueva tabla sin las filas donde \"Nueva Col\" es igual a 1\n",
    "mascara = table['Nueva Col'] != 1\n",
    "TableFinal2G = table[mascara]\n",
    "\n",
    "# Muestra la nueva tabla resultante\n",
    "print(TableFinal2G)"
   ]
  },
  {
   "cell_type": "code",
   "execution_count": 59,
   "id": "fc4a8649",
   "metadata": {},
   "outputs": [
    {
     "data": {
      "text/html": [
       "<div><i>Table length=310252</i>\n",
       "<table id=\"table1477696281856\" class=\"table-striped table-bordered table-condensed\">\n",
       "<thead><tr><th>specobjid</th><th>ra</th><th>dec</th><th>z</th><th>h_alpha_flux</th><th>h_beta_flux</th><th>oiii_5007_flux</th><th>nii_6548_flux</th><th>nii_6584_flux</th><th>sii_6717_flux</th><th>sii_6731_flux</th><th>oi_6300_flux</th><th>class</th><th>subclass</th><th>Ejey_OHB</th><th>Ejex_NH</th><th>Ejex_SH</th><th>Ejex_OH</th><th>A-I</th><th>A-Ib</th><th>A-Ic</th><th>Etqtded</th><th>EtqtSDSS</th><th>Nueva Col</th></tr></thead>\n",
       "<thead><tr><th>int64</th><th>float64</th><th>float64</th><th>float64</th><th>float64</th><th>float64</th><th>float64</th><th>float64</th><th>float64</th><th>float64</th><th>float64</th><th>float64</th><th>bytes6</th><th>bytes11</th><th>float64</th><th>float64</th><th>float64</th><th>float64</th><th>str10</th><th>str10</th><th>str10</th><th>str10</th><th>str10</th><th>int32</th></tr></thead>\n",
       "<tr><td>299489677444933632</td><td>146.71421</td><td>-1.0413043</td><td>0.02122228</td><td>472.5904</td><td>119.4956</td><td>68.39606</td><td>74.30252</td><td>224.1136</td><td>124.7115</td><td>84.18053</td><td>18.59493</td><td>GALAXY</td><td>STARFORMING</td><td>-0.5579643299797622</td><td>-0.45974016306703563</td><td>-0.8164115357764966</td><td>-3.235340088468119</td><td>Infrarroja</td><td>Infrarroja</td><td>Infrarroja</td><td>Infrarroja</td><td>Infrarroja</td><td>0</td></tr>\n",
       "<tr><td>299490502078654464</td><td>146.62857</td><td>-0.76513683</td><td>0.06465632</td><td>99.40005</td><td>25.64047</td><td>21.44437</td><td>17.10464</td><td>51.59155</td><td>35.33497</td><td>21.65778</td><td>8.490424</td><td>GALAXY</td><td>STARFORMING</td><td>-0.17870982255764298</td><td>-0.3694588775053708</td><td>-0.5562285499181298</td><td>-2.460213676497085</td><td>Infrarroja</td><td>Infrarroja</td><td>Infrarroja</td><td>Infrarroja</td><td>Infrarroja</td><td>0</td></tr>\n",
       "<tr><td>299491051364706304</td><td>146.9639</td><td>-0.54500256</td><td>0.05598787</td><td>181.5262</td><td>47.3665</td><td>11.85567</td><td>17.94872</td><td>54.13749</td><td>31.28298</td><td>19.16762</td><td>4.319232</td><td>GALAXY</td><td>STARBURST</td><td>-1.3851089936216554</td><td>-0.9235372320421027</td><td>-1.2804053562119218</td><td>-3.73832238723025</td><td>Infrarroja</td><td>Infrarroja</td><td>Infrarroja</td><td>Infrarroja</td><td>Infrarroja</td><td>0</td></tr>\n",
       "<tr><td>299491051834468352</td><td>146.63167</td><td>-0.98827781</td><td>0.05265425</td><td>127.3058</td><td>38.33226</td><td>35.46671</td><td>8.550285</td><td>25.78963</td><td>30.26996</td><td>25.72297</td><td>6.269853</td><td>GALAXY</td><td>STARFORMING</td><td>-0.07769732925993379</td><td>-1.310283685972076</td><td>-0.82136663342587</td><td>-3.010839156796902</td><td>Infrarroja</td><td>Infrarroja</td><td>Infrarroja</td><td>Infrarroja</td><td>Infrarroja</td><td>0</td></tr>\n",
       "<tr><td>299492700632147968</td><td>146.59272</td><td>-0.76025604</td><td>0.06502353</td><td>211.5018</td><td>53.18228</td><td>15.59901</td><td>25.31465</td><td>76.35482</td><td>41.6377</td><td>28.47964</td><td>7.211103</td><td>GALAXY</td><td>STARFORMING</td><td>-1.2265178074532048</td><td>-0.7325064477587709</td><td>-1.104063384723556</td><td>-3.378611587522619</td><td>Infrarroja</td><td>Infrarroja</td><td>Infrarroja</td><td>Infrarroja</td><td>Infrarroja</td><td>0</td></tr>\n",
       "<tr><td>299492701101910016</td><td>146.9639</td><td>-0.54500256</td><td>0.05598059</td><td>195.5197</td><td>42.86956</td><td>16.26119</td><td>20.29729</td><td>61.2213</td><td>33.027</td><td>24.30562</td><td>2.18458</td><td>GALAXY</td><td>STARFORMING</td><td>-0.9693807297960476</td><td>-0.8748300492162716</td><td>-1.2267913954046903</td><td>-4.494237551220818</td><td>Infrarroja</td><td>Infrarroja</td><td>Infrarroja</td><td>Infrarroja</td><td>Infrarroja</td><td>0</td></tr>\n",
       "<tr><td>299493250857723904</td><td>146.94999</td><td>-0.59220225</td><td>0.06477907</td><td>229.1325</td><td>60.80691</td><td>29.73346</td><td>24.49155</td><td>73.87218</td><td>45.46917</td><td>33.85824</td><td>7.237874</td><td>GALAXY</td><td>STARFORMING</td><td>-0.7154304228316234</td><td>-0.8456283002999179</td><td>-1.0607167204980377</td><td>-3.454972921982135</td><td>Infrarroja</td><td>Infrarroja</td><td>Infrarroja</td><td>Infrarroja</td><td>Infrarroja</td><td>0</td></tr>\n",
       "<tr><td>299493525265868800</td><td>146.94999</td><td>-0.59220225</td><td>0.06477667</td><td>233.1141</td><td>62.10917</td><td>35.72292</td><td>23.55069</td><td>71.03431</td><td>44.16328</td><td>32.56358</td><td>7.67483</td><td>GALAXY</td><td>STARFORMING</td><td>-0.5531011435066887</td><td>-0.9020291321551844</td><td>-1.1112761906366115</td><td>-3.413581889881995</td><td>Infrarroja</td><td>Infrarroja</td><td>Infrarroja</td><td>Infrarroja</td><td>Infrarroja</td><td>0</td></tr>\n",
       "<tr><td>299493800143775744</td><td>146.63167</td><td>-0.98827781</td><td>0.05265867</td><td>116.8699</td><td>36.78978</td><td>32.56529</td><td>8.366628</td><td>25.23568</td><td>24.13779</td><td>23.1536</td><td>2.733802</td><td>GALAXY</td><td>STARFORMING</td><td>-0.12197309198786147</td><td>-1.2464665952068548</td><td>-0.9047331009629405</td><td>-3.75536803597456</td><td>Infrarroja</td><td>Infrarroja</td><td>Infrarroja</td><td>Infrarroja</td><td>Infrarroja</td><td>0</td></tr>\n",
       "<tr><td>299494075021682688</td><td>146.62857</td><td>-0.76513683</td><td>0.06458879</td><td>99.23278</td><td>26.19861</td><td>17.2893</td><td>16.26318</td><td>49.0535</td><td>32.67037</td><td>18.77828</td><td>5.045829</td><td>GALAXY</td><td>STARFORMING</td><td>-0.41561854287888705</td><td>-0.418220963143552</td><td>-0.6568841803860165</td><td>-2.9789064418384217</td><td>Infrarroja</td><td>Infrarroja</td><td>Infrarroja</td><td>Infrarroja</td><td>Infrarroja</td><td>0</td></tr>\n",
       "<tr><td>...</td><td>...</td><td>...</td><td>...</td><td>...</td><td>...</td><td>...</td><td>...</td><td>...</td><td>...</td><td>...</td><td>...</td><td>...</td><td>...</td><td>...</td><td>...</td><td>...</td><td>...</td><td>...</td><td>...</td><td>...</td><td>...</td><td>...</td><td>...</td></tr>\n",
       "<tr><td>3348582255764203520</td><td>260.73569</td><td>31.341986</td><td>0.01514336</td><td>547.5711</td><td>134.6994</td><td>503.1132</td><td>130.5208</td><td>393.6807</td><td>171.9935</td><td>129.7985</td><td>37.91708</td><td>GALAXY</td><td>AGN</td><td>1.3177695654182298</td><td>-0.04361616388442842</td><td>-0.5957542779114089</td><td>-2.6700906460704488</td><td>AGN</td><td>AGN</td><td>AGN</td><td>AGN</td><td>AGN</td><td>0</td></tr>\n",
       "<tr><td>3348582805520017408</td><td>260.6556</td><td>31.654756</td><td>0.1037587</td><td>147.1238</td><td>10.01381</td><td>5.291428</td><td>16.47892</td><td>49.70422</td><td>14.09084</td><td>10.59877</td><td>5.111954</td><td>GALAXY</td><td>STARFORMING</td><td>-0.6378769875592684</td><td>-0.7988486614911865</td><td>-1.7848919018539666</td><td>-3.3596926906178335</td><td>Infrarroja</td><td>Infrarroja</td><td>Infrarroja</td><td>Infrarroja</td><td>Infrarroja</td><td>0</td></tr>\n",
       "<tr><td>3348583080397924352</td><td>260.90071</td><td>31.532274</td><td>0.04476599</td><td>580.5005</td><td>181.7541</td><td>309.282</td><td>28.71486</td><td>86.61065</td><td>95.26092</td><td>69.5303</td><td>13.83892</td><td>GALAXY</td><td>STARBURST</td><td>0.5315988074526773</td><td>-1.6161320107450647</td><td>-1.2592113231069295</td><td>-3.7364057500014396</td><td>Infrarroja</td><td>Infrarroja</td><td>Infrarroja</td><td>Infrarroja</td><td>Infrarroja</td><td>0</td></tr>\n",
       "<tr><td>3348583630153738240</td><td>260.90263</td><td>31.134108</td><td>0.1077875</td><td>235.5058</td><td>53.69223</td><td>15.54064</td><td>24.7408</td><td>74.62396</td><td>34.6772</td><td>24.7855</td><td>8.48487</td><td>GALAXY</td><td>STARFORMING</td><td>-1.2398097701757387</td><td>-0.862938017963365</td><td>-1.3763863163861916</td><td>-3.323450964189463</td><td>Infrarroja</td><td>Infrarroja</td><td>Infrarroja</td><td>Infrarroja</td><td>Infrarroja</td><td>0</td></tr>\n",
       "<tr><td>3348584179909552128</td><td>260.91501</td><td>31.221169</td><td>0.04529491</td><td>237.11</td><td>60.66751</td><td>26.8061</td><td>24.192</td><td>72.96865</td><td>47.35347</td><td>34.46716</td><td>5.380894</td><td>GALAXY</td><td>STARFORMING</td><td>-0.8167788258535255</td><td>-0.8921583743714091</td><td>-1.0639947561783845</td><td>-3.7856696371063476</td><td>Infrarroja</td><td>Infrarroja</td><td>Infrarroja</td><td>Infrarroja</td><td>Infrarroja</td><td>0</td></tr>\n",
       "<tr><td>3348590776979318784</td><td>260.67041</td><td>31.917043</td><td>0.08008421</td><td>680.3397</td><td>177.0548</td><td>43.45304</td><td>94.28385</td><td>284.3819</td><td>92.26201</td><td>76.85968</td><td>10.50863</td><td>GALAXY</td><td>STARBURST</td><td>-1.4047784744345222</td><td>-0.5859383424203046</td><td>-1.3919737172792683</td><td>-4.170395407909091</td><td>Infrarroja</td><td>Infrarroja</td><td>Infrarroja</td><td>Infrarroja</td><td>Infrarroja</td><td>0</td></tr>\n",
       "<tr><td>3348592976002574336</td><td>261.1035</td><td>31.590881</td><td>0.02503821</td><td>39.77857</td><td>9.911286</td><td>13.09216</td><td>2.22471</td><td>6.710238</td><td>12.47293</td><td>7.484834</td><td>3.046409</td><td>GALAXY</td><td>STARFORMING</td><td>0.2783394699340738</td><td>-1.493357996282554</td><td>-0.689710084507214</td><td>-2.5693648051500055</td><td>Infrarroja</td><td>Infrarroja</td><td>Infrarroja</td><td>Infrarroja</td><td>Infrarroja</td><td>0</td></tr>\n",
       "<tr><td>3348593250880481280</td><td>261.13056</td><td>31.473702</td><td>0.1039688</td><td>59.28167</td><td>21.49873</td><td>29.87635</td><td>16.09959</td><td>48.56009</td><td>13.66697</td><td>9.502753</td><td>5.718228</td><td>GALAXY</td><td>STARFORMING</td><td>0.32907333389374593</td><td>0.08683767134019148</td><td>-0.939453768722589</td><td>-2.338641184794022</td><td>AGN</td><td>Infrarroja</td><td>Infrarroja</td><td>Infrarroja</td><td>Infrarroja</td><td>0</td></tr>\n",
       "<tr><td>3348596274537457664</td><td>261.24627</td><td>31.260667</td><td>0.0460373</td><td>397.8261</td><td>111.9309</td><td>67.07775</td><td>32.80155</td><td>98.93704</td><td>81.22416</td><td>54.07962</td><td>11.8454</td><td>GALAXY</td><td>STARBURST</td><td>-0.5120293222554924</td><td>-1.1051953948716826</td><td>-1.078492502425073</td><td>-3.5140753685637254</td><td>Infrarroja</td><td>Infrarroja</td><td>Infrarroja</td><td>Infrarroja</td><td>Infrarroja</td><td>0</td></tr>\n",
       "<tr><td>3348599023316527104</td><td>260.71475</td><td>32.361811</td><td>0.05442811</td><td>106.4705</td><td>19.75921</td><td>6.198793</td><td>14.73189</td><td>44.43478</td><td>20.47958</td><td>14.92415</td><td>4.500745</td><td>GALAXY</td><td>STARFORMING</td><td>-1.1592651160838423</td><td>-0.5875095748886426</td><td>-1.1010507696534</td><td>-3.163625012845009</td><td>Infrarroja</td><td>Infrarroja</td><td>Infrarroja</td><td>Infrarroja</td><td>Infrarroja</td><td>0</td></tr>\n",
       "</table></div>"
      ],
      "text/plain": [
       "<Table length=310252>\n",
       "     specobjid          ra        dec     ...  Etqtded    EtqtSDSS  Nueva Col\n",
       "       int64         float64    float64   ...   str10      str10      int32  \n",
       "------------------- --------- ----------- ... ---------- ---------- ---------\n",
       " 299489677444933632 146.71421  -1.0413043 ... Infrarroja Infrarroja         0\n",
       " 299490502078654464 146.62857 -0.76513683 ... Infrarroja Infrarroja         0\n",
       " 299491051364706304  146.9639 -0.54500256 ... Infrarroja Infrarroja         0\n",
       " 299491051834468352 146.63167 -0.98827781 ... Infrarroja Infrarroja         0\n",
       " 299492700632147968 146.59272 -0.76025604 ... Infrarroja Infrarroja         0\n",
       " 299492701101910016  146.9639 -0.54500256 ... Infrarroja Infrarroja         0\n",
       " 299493250857723904 146.94999 -0.59220225 ... Infrarroja Infrarroja         0\n",
       " 299493525265868800 146.94999 -0.59220225 ... Infrarroja Infrarroja         0\n",
       " 299493800143775744 146.63167 -0.98827781 ... Infrarroja Infrarroja         0\n",
       " 299494075021682688 146.62857 -0.76513683 ... Infrarroja Infrarroja         0\n",
       "                ...       ...         ... ...        ...        ...       ...\n",
       "3348582255764203520 260.73569   31.341986 ...        AGN        AGN         0\n",
       "3348582805520017408  260.6556   31.654756 ... Infrarroja Infrarroja         0\n",
       "3348583080397924352 260.90071   31.532274 ... Infrarroja Infrarroja         0\n",
       "3348583630153738240 260.90263   31.134108 ... Infrarroja Infrarroja         0\n",
       "3348584179909552128 260.91501   31.221169 ... Infrarroja Infrarroja         0\n",
       "3348590776979318784 260.67041   31.917043 ... Infrarroja Infrarroja         0\n",
       "3348592976002574336  261.1035   31.590881 ... Infrarroja Infrarroja         0\n",
       "3348593250880481280 261.13056   31.473702 ... Infrarroja Infrarroja         0\n",
       "3348596274537457664 261.24627   31.260667 ... Infrarroja Infrarroja         0\n",
       "3348599023316527104 260.71475   32.361811 ... Infrarroja Infrarroja         0"
      ]
     },
     "execution_count": 59,
     "metadata": {},
     "output_type": "execute_result"
    }
   ],
   "source": [
    "TableFinal2G"
   ]
  },
  {
   "cell_type": "code",
   "execution_count": null,
   "id": "08c6a714",
   "metadata": {},
   "outputs": [],
   "source": [
    "\"\"\"\n",
    "#Para ver todo debemos exportar a Excel:\n",
    "\n",
    "# Convertir la tabla a un DataFrame de pandas\n",
    "df = TableFinal2G.to_pandas()\n",
    "\n",
    "# Especificar la ruta y el nombre del archivo Excel\n",
    "archivo_excel = \"TableFinal2G.xlsx\"\n",
    "df.to_excel(archivo_excel, index=False)\n",
    "\"\"\""
   ]
  },
  {
   "cell_type": "code",
   "execution_count": 60,
   "id": "df4767e0",
   "metadata": {},
   "outputs": [
    {
     "data": {
      "text/plain": [
       "310252"
      ]
     },
     "execution_count": 60,
     "metadata": {},
     "output_type": "execute_result"
    }
   ],
   "source": [
    "total_filas = len(TableFinal2G)\n",
    "total_filas"
   ]
  },
  {
   "cell_type": "code",
   "execution_count": 61,
   "id": "9636510e",
   "metadata": {},
   "outputs": [
    {
     "data": {
      "text/plain": [
       "290403"
      ]
     },
     "execution_count": 61,
     "metadata": {},
     "output_type": "execute_result"
    }
   ],
   "source": [
    "ocurrencias_g6i = np.count_nonzero(TableFinal2G['EtqtSDSS'] == 'Infrarroja')\n",
    "ocurrencias_g6i "
   ]
  },
  {
   "cell_type": "code",
   "execution_count": 62,
   "id": "84392701",
   "metadata": {},
   "outputs": [
    {
     "data": {
      "text/plain": [
       "19849"
      ]
     },
     "execution_count": 62,
     "metadata": {},
     "output_type": "execute_result"
    }
   ],
   "source": [
    "ocurrencias_g6a = np.count_nonzero(TableFinal2G['EtqtSDSS'] == 'AGN')\n",
    "ocurrencias_g6a "
   ]
  },
  {
   "cell_type": "code",
   "execution_count": null,
   "id": "07120d80",
   "metadata": {},
   "outputs": [],
   "source": []
  },
  {
   "cell_type": "code",
   "execution_count": 63,
   "id": "42bff70b",
   "metadata": {},
   "outputs": [
    {
     "data": {
      "text/plain": [
       "290403"
      ]
     },
     "execution_count": 63,
     "metadata": {},
     "output_type": "execute_result"
    }
   ],
   "source": [
    "ocurrencias_g7i = np.count_nonzero(TableFinal2G['Etqtded'] == 'Infrarroja')\n",
    "ocurrencias_g7i "
   ]
  },
  {
   "cell_type": "code",
   "execution_count": 64,
   "id": "24d5721f",
   "metadata": {},
   "outputs": [
    {
     "data": {
      "text/plain": [
       "19849"
      ]
     },
     "execution_count": 64,
     "metadata": {},
     "output_type": "execute_result"
    }
   ],
   "source": [
    "ocurrencias_g7a = np.count_nonzero(TableFinal2G['Etqtded'] == 'AGN')\n",
    "ocurrencias_g7a "
   ]
  },
  {
   "cell_type": "markdown",
   "id": "1f26ce0e",
   "metadata": {},
   "source": [
    "# 3.2 Graficas resultantes:"
   ]
  },
  {
   "cell_type": "code",
   "execution_count": 65,
   "id": "06d50e9c",
   "metadata": {},
   "outputs": [
    {
     "data": {
      "text/plain": [
       "['specobjid',\n",
       " 'ra',\n",
       " 'dec',\n",
       " 'z',\n",
       " 'h_alpha_flux',\n",
       " 'h_beta_flux',\n",
       " 'oiii_5007_flux',\n",
       " 'nii_6548_flux',\n",
       " 'nii_6584_flux',\n",
       " 'sii_6717_flux',\n",
       " 'sii_6731_flux',\n",
       " 'oi_6300_flux',\n",
       " 'class',\n",
       " 'subclass',\n",
       " 'Ejey_OHB',\n",
       " 'Ejex_NH',\n",
       " 'Ejex_SH',\n",
       " 'Ejex_OH',\n",
       " 'A-I',\n",
       " 'A-Ib',\n",
       " 'A-Ic',\n",
       " 'Etqtded',\n",
       " 'EtqtSDSS',\n",
       " 'Nueva Col']"
      ]
     },
     "execution_count": 65,
     "metadata": {},
     "output_type": "execute_result"
    }
   ],
   "source": [
    "TableFinal2G.colnames"
   ]
  },
  {
   "cell_type": "markdown",
   "id": "4773ecf1",
   "metadata": {},
   "source": [
    "## Gráfica \"a\" ejex_NH, ejey_OHb"
   ]
  },
  {
   "cell_type": "code",
   "execution_count": 66,
   "id": "0032baeb",
   "metadata": {},
   "outputs": [],
   "source": [
    "# Obtener los datos de la tabla\n",
    "x = TableFinal2G['Ejex_NH']\n",
    "y = TableFinal2G['Ejey_OHB']\n",
    "e = TableFinal2G['Etqtded']"
   ]
  },
  {
   "cell_type": "code",
   "execution_count": 67,
   "id": "deb5b497",
   "metadata": {},
   "outputs": [
    {
     "data": {
      "text/plain": [
       "<matplotlib.legend.Legend at 0x1580cb99e80>"
      ]
     },
     "execution_count": 67,
     "metadata": {},
     "output_type": "execute_result"
    },
    {
     "data": {
      "image/png": "[encoded data removed]",
      "text/plain": [
       "<Figure size 432x288 with 1 Axes>"
      ]
     },
     "metadata": {
      "needs_background": "light"
     },
     "output_type": "display_data"
    }
   ],
   "source": [
    "# Crear el gráfico de dispersión con colores diferentes para cada categoría\n",
    "categorias = list(set(e))  \n",
    "colores = ['purple', 'goldenrod']  \n",
    "\n",
    "for categoria, color in zip(categorias, colores):\n",
    "    # Filtrar los puntos correspondientes a la categoría actual\n",
    "    x_categoria = [x[i] for i in range(len(x)) if e[i] == categoria]\n",
    "    y_categoria = [y[i] for i in range(len(y)) if e[i] == categoria]\n",
    "    \n",
    "    plt.scatter(x_categoria, y_categoria, color=color, label=categoria)\n",
    "\n",
    "\n",
    "plt.xlabel('ejex_NH')\n",
    "plt.ylabel('ejey_OHb')\n",
    "plt.title('Ejey_OHb Vs Ejex_NH')\n",
    "plt.legend()"
   ]
  },
  {
   "cell_type": "markdown",
   "id": "0956054c",
   "metadata": {},
   "source": [
    "## Gráfica \"b\" ejex_SH, ejey_OHb"
   ]
  },
  {
   "cell_type": "code",
   "execution_count": 68,
   "id": "0a13e637",
   "metadata": {},
   "outputs": [],
   "source": [
    "# Obtener los datos de la tabla\n",
    "xb = TableFinal2G['Ejex_SH']\n",
    "yb = TableFinal2G['Ejey_OHB']\n",
    "eb = TableFinal2G['Etqtded']"
   ]
  },
  {
   "cell_type": "code",
   "execution_count": 69,
   "id": "46212caf",
   "metadata": {},
   "outputs": [
    {
     "data": {
      "text/plain": [
       "<matplotlib.legend.Legend at 0x158605f4fd0>"
      ]
     },
     "execution_count": 69,
     "metadata": {},
     "output_type": "execute_result"
    },
    {
     "data": {
      "image/png": "[encoded data removed]",
      "text/plain": [
       "<Figure size 432x288 with 1 Axes>"
      ]
     },
     "metadata": {
      "needs_background": "light"
     },
     "output_type": "display_data"
    }
   ],
   "source": [
    "# Crear el gráfico de dispersión con colores diferentes para cada categoría\n",
    "categorias = list(set(eb))  \n",
    "colores = ['navy', 'darkgoldenrod']  \n",
    "\n",
    "for categoria, color in zip(categorias, colores):\n",
    "    # Filtrar los puntos correspondientes a la categoría actual\n",
    "    xb_categoria = [xb[i] for i in range(len(xb)) if e[i] == categoria]\n",
    "    yb_categoria = [yb[i] for i in range(len(yb)) if e[i] == categoria]\n",
    "    \n",
    "    plt.scatter(xb_categoria, yb_categoria, color=color, label=categoria)\n",
    "\n",
    "\n",
    "plt.xlabel('Ejex_SH')\n",
    "plt.ylabel('ejey_OHb')\n",
    "plt.title('Ejex_SH Vs Ejey_OHb')\n",
    "plt.legend()"
   ]
  },
  {
   "cell_type": "markdown",
   "id": "60cd9330",
   "metadata": {},
   "source": [
    "## Gráfica \"c\" ejex_OH, ejey_OHb."
   ]
  },
  {
   "cell_type": "code",
   "execution_count": 70,
   "id": "d8ee5ef4",
   "metadata": {},
   "outputs": [],
   "source": [
    "# Obtener los datos de la tabla\n",
    "xc = TableFinal2G['Ejex_OH']\n",
    "yc = TableFinal2G['Ejey_OHB']\n",
    "ec = TableFinal2G['Etqtded']"
   ]
  },
  {
   "cell_type": "code",
   "execution_count": 71,
   "id": "cb35b244",
   "metadata": {},
   "outputs": [
    {
     "data": {
      "text/plain": [
       "<matplotlib.legend.Legend at 0x1580a0c1d60>"
      ]
     },
     "execution_count": 71,
     "metadata": {},
     "output_type": "execute_result"
    },
    {
     "data": {
      "image/png": "[encoded data removed]",
      "text/plain": [
       "<Figure size 432x288 with 1 Axes>"
      ]
     },
     "metadata": {
      "needs_background": "light"
     },
     "output_type": "display_data"
    }
   ],
   "source": [
    "# Crear el gráfico de dispersión con colores diferentes para cada categoría\n",
    "categorias = list(set(ec))  \n",
    "colores = ['cyan', 'sienna']  \n",
    "\n",
    "for categoria, color in zip(categorias, colores):\n",
    "    # Filtrar los puntos correspondientes a la categoría actual\n",
    "    xc_categoria = [xc[i] for i in range(len(xc)) if e[i] == categoria]\n",
    "    yc_categoria = [yc[i] for i in range(len(yc)) if e[i] == categoria]\n",
    "    \n",
    "    plt.scatter(xc_categoria, yc_categoria, color=color, label=categoria)\n",
    "\n",
    "plt.xlabel('Ejex_OH')\n",
    "plt.ylabel('ejey_OHb')\n",
    "plt.title('Ejex_OH Vs Ejey_OHb')\n",
    "plt.legend()"
   ]
  },
  {
   "cell_type": "code",
   "execution_count": null,
   "id": "4e056318",
   "metadata": {},
   "outputs": [],
   "source": []
  },
  {
   "cell_type": "markdown",
   "id": "f5f579b7",
   "metadata": {},
   "source": [
    "# 3.3 CONCLUSIONES:"
   ]
  },
  {
   "cell_type": "markdown",
   "id": "1aa4ac9c",
   "metadata": {},
   "source": [
    "1. En el archivo TableFinal2G están las etiquetas \"Etqtded\" y \"EtqtSDSS\" estas ya son las etiquetas oficiales para 2 CATEGORÍAS: \"INFRARROJA\" O \"AGN\".  \n",
    "2. El total de datos etiquetados son: 18.822\n",
    "3. De las cuales el 93% fueron catalogados como INFRARROJA y el 7% restante como AGN"
   ]
  },
  {
   "cell_type": "code",
   "execution_count": null,
   "id": "ec2844d3",
   "metadata": {},
   "outputs": [],
   "source": []
  },
  {
   "cell_type": "code",
   "execution_count": null,
   "id": "a8c0766c",
   "metadata": {},
   "outputs": [],
   "source": []
  },
  {
   "cell_type": "markdown",
   "id": "ed26079e",
   "metadata": {},
   "source": [
    "## Próximos códigos:\n",
    "     \n",
    "    1. Hacer precisión para K-means.\n",
    "    2. Hacer Etiquetas para 3 y 4 Categorías. (3.1 y 3.2)"
   ]
  },
  {
   "cell_type": "markdown",
   "id": "02992a7a",
   "metadata": {},
   "source": [
    "## Resultado de lo anterior:\n",
    "\n",
    "    "
   ]
  }
 ],
 "metadata": {
  "kernelspec": {
   "display_name": "Python 3 (ipykernel)",
   "language": "python",
   "name": "python3"
  },
  "language_info": {
   "codemirror_mode": {
    "name": "ipython",
    "version": 3
   },
   "file_extension": ".py",
   "mimetype": "text/x-python",
   "name": "python",
   "nbconvert_exporter": "python",
   "pygments_lexer": "ipython3",
   "version": "3.9.7"
  }
 },
 "nbformat": 4,
 "nbformat_minor": 5
}
