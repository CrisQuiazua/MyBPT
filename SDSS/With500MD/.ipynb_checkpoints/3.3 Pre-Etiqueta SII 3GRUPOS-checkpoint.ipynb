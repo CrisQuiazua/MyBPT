{
 "cells": [
  {
   "cell_type": "markdown",
   "id": "07dd29e1",
   "metadata": {},
   "source": [
    "**Objetivo:**  \n",
    "\n",
    "Dados las gráficas 1.2 de 20.000 galaxias con curvas según: The Host Galaxies and Classification of Active Galactic Nuclei - 2006 y Z < 0.8, pre etiquetar entre 4 grupos, usando la curva \"b\" del diagrama BPT: SII   \n",
    "\n",
    "Analizando los datos de ejex_SH, ejey_OHb\n",
    "\n",
    "**Galaxias: Infrarroja, Seyfert o LINER**"
   ]
  },
  {
   "cell_type": "markdown",
   "id": "3fa0e3cc",
   "metadata": {},
   "source": [
    "**PROCEDIMIENTO:**  \n",
    "    **1.1** Dados iniciales.  \n",
    "    **1.2** Para SII.       \n",
    "        \n",
    "        a. Infrarroja = Abajo de Kewley.\n",
    "        aa. Pre-Etiquetado Infrarrojas\n",
    "                \n",
    "        b. Gráfico diferente de Infrarrojas.\n",
    "        \n",
    "        c. Seyfert = Arriba de la línea Seyfert-LINER.\n",
    "        cc. Pre-Etiquetado gráfico Seyfert\n",
    "        \n",
    "        d. LINER = Abajo de la línea Seyfert-LINER.\n",
    "        dd. Pre-Etiquetado gráfico LINER\n",
    "        \n",
    "        \n",
    "    **1.3** Etiquetas MANERA DEDUCTIVA.\n",
    "    1.3.1 Comprobación de cantidades.\n",
    "    1.3.2 Solucion de cantidades.\n",
    "    1.3.3 Matriz SII Deductiva.\n",
    "    1.3.4 Graficas de SII Deductiva."
   ]
  },
  {
   "cell_type": "markdown",
   "id": "2800aaf1",
   "metadata": {},
   "source": [
    "## 1.1 Dados iniciales. "
   ]
  },
  {
   "cell_type": "code",
   "execution_count": 1,
   "id": "502dbed6",
   "metadata": {},
   "outputs": [
    {
     "name": "stdout",
     "output_type": "stream",
     "text": [
      "Could not import regions, which is required for some of the functionalities of this module.\n",
      "Valores duplicados en la columna 'ra': [132.58559 179.51375 185.48906 351.8132 ]\n",
      "Índices de los valores duplicados en la columna 'ra': Int64Index([4105, 5929, 6215, 11228], dtype='int64')\n",
      "Índices de TODAS las ocurrencias de valores duplicados en la columna 'ra': Int64Index([4100, 4105, 5928, 5929, 6213, 6215, 11227, 11228], dtype='int64')\n"
     ]
    },
    {
     "name": "stderr",
     "output_type": "stream",
     "text": [
      "C:\\ProgramData\\Anaconda33\\lib\\site-packages\\astroquery\\sdss\\core.py:874: VisibleDeprecationWarning: Reading unicode strings without specifying the encoding argument is deprecated. Set the encoding, use None for the system default.\n",
      "  arr = np.atleast_1d(np.genfromtxt(io.BytesIO(response.content),\n"
     ]
    },
    {
     "name": "stdout",
     "output_type": "stream",
     "text": [
      "Número de valores únicos: 293697\n",
      "Número de valores repetidos 1 vez: 14895\n",
      "Número de valores repetidos 2 veces: 1239\n",
      "Número de valores repetidos 3 veces: 211\n",
      "Número de valores repetidos 4 veces: 242\n",
      "Número de valores repetidos 5 veces: 45\n",
      "Número de valores repetidos 6 veces: 14\n",
      "Número de valores repetidos 7 veces: 3\n",
      "Número de valores repetidos 8 veces: 0\n",
      "Número de valores repetidos 9 veces: 0\n",
      "Número de valores repetidos 10 veces: 0\n",
      "Valores duplicados en la columna 'ra': [146.9639  146.94999 146.63167 ... 257.38367 258.13561 257.98823]\n",
      "Índices de los valores duplicados en la columna 'ra': Int64Index([     5,      7,      8,      9,     10,     12,     15,     18,\n",
      "                20,     22,\n",
      "            ...\n",
      "            329098, 329099, 329100, 329102, 329103, 329116, 329285, 329438,\n",
      "            329439, 329576],\n",
      "           dtype='int64', length=19304)\n",
      "Índices donde el valor de 'ra' es igual a 145.51241: Int64Index([167, 170], dtype='int64')\n"
     ]
    }
   ],
   "source": [
    "%run \"C:\\Users\\Cristina Quiazúa M\\Desktop\\MyBPT\\Crossmatching\\1. Datos IRAS Y SDSS.ipynb\""
   ]
  },
  {
   "cell_type": "code",
   "execution_count": 2,
   "id": "f0362541",
   "metadata": {},
   "outputs": [],
   "source": [
    "#Convertir pandas.core.frame.DataFrame a astropy.table.table.Table\n",
    "astropy_table = Table.from_pandas(SDSS)"
   ]
  },
  {
   "cell_type": "code",
   "execution_count": 3,
   "id": "7b96cf49",
   "metadata": {},
   "outputs": [],
   "source": [
    "data = astropy_table"
   ]
  },
  {
   "cell_type": "markdown",
   "id": "7635e578",
   "metadata": {},
   "source": [
    "## Razones"
   ]
  },
  {
   "cell_type": "code",
   "execution_count": 4,
   "id": "687753a9",
   "metadata": {},
   "outputs": [],
   "source": [
    "ejey_OHb=np.log((data['oiii_5007_flux'])/(data['h_beta_flux']))\n",
    "\n",
    "ejex_NH=np.log((data['nii_6548_flux']+data['nii_6584_flux'])/data['h_alpha_flux'])\n",
    "ejex_SH=np.log((data['sii_6717_flux']+data['sii_6731_flux'])/data['h_alpha_flux'])\n",
    "ejex_OH=np.log((data['oi_6300_flux'])/(data['h_alpha_flux']))"
   ]
  },
  {
   "cell_type": "code",
   "execution_count": 5,
   "id": "611301dc",
   "metadata": {},
   "outputs": [],
   "source": [
    "# Ingresar las columnas de razones a la data.\n",
    "data.add_column(ejey_OHb, name='Ejey_OHB')\n",
    "data.add_column(ejex_NH, name='Ejex_NH')\n",
    "data.add_column(ejex_SH, name='Ejex_SH')\n",
    "data.add_column(ejex_OH, name='Ejex_OH')"
   ]
  },
  {
   "cell_type": "code",
   "execution_count": 6,
   "id": "6872ff98",
   "metadata": {},
   "outputs": [
    {
     "data": {
      "text/html": [
       "<div><i>Table length=4</i>\n",
       "<table id=\"table2322833281424\" class=\"table-striped table-bordered table-condensed\">\n",
       "<thead><tr><th>specobjid</th><th>ra</th><th>dec</th><th>z</th><th>h_alpha_flux</th><th>h_beta_flux</th><th>oiii_5007_flux</th><th>nii_6548_flux</th><th>nii_6584_flux</th><th>sii_6717_flux</th><th>sii_6731_flux</th><th>oi_6300_flux</th><th>class</th><th>subclass</th><th>Ejey_OHB</th><th>Ejex_NH</th><th>Ejex_SH</th><th>Ejex_OH</th></tr></thead>\n",
       "<thead><tr><th>int64</th><th>float64</th><th>float64</th><th>float64</th><th>float64</th><th>float64</th><th>float64</th><th>float64</th><th>float64</th><th>float64</th><th>float64</th><th>float64</th><th>bytes6</th><th>bytes11</th><th>float64</th><th>float64</th><th>float64</th><th>float64</th></tr></thead>\n",
       "<tr><td>299490502078654464</td><td>146.62857</td><td>-0.76513683</td><td>0.06465632</td><td>99.40005</td><td>25.64047</td><td>21.44437</td><td>17.10464</td><td>51.59155</td><td>35.33497</td><td>21.65778</td><td>8.490424</td><td>GALAXY</td><td>STARFORMING</td><td>-0.17870982255764298</td><td>-0.3694588775053708</td><td>-0.5562285499181298</td><td>-2.460213676497085</td></tr>\n",
       "<tr><td>299491051364706304</td><td>146.9639</td><td>-0.54500256</td><td>0.05598787</td><td>181.5262</td><td>47.3665</td><td>11.85567</td><td>17.94872</td><td>54.13749</td><td>31.28298</td><td>19.16762</td><td>4.319232</td><td>GALAXY</td><td>STARBURST</td><td>-1.3851089936216554</td><td>-0.9235372320421027</td><td>-1.2804053562119218</td><td>-3.73832238723025</td></tr>\n",
       "<tr><td>299491051834468352</td><td>146.63167</td><td>-0.98827781</td><td>0.05265425</td><td>127.3058</td><td>38.33226</td><td>35.46671</td><td>8.550285</td><td>25.78963</td><td>30.26996</td><td>25.72297</td><td>6.269853</td><td>GALAXY</td><td>STARFORMING</td><td>-0.07769732925993379</td><td>-1.310283685972076</td><td>-0.82136663342587</td><td>-3.010839156796902</td></tr>\n",
       "<tr><td>299492700632147968</td><td>146.59272</td><td>-0.76025604</td><td>0.06502353</td><td>211.5018</td><td>53.18228</td><td>15.59901</td><td>25.31465</td><td>76.35482</td><td>41.6377</td><td>28.47964</td><td>7.211103</td><td>GALAXY</td><td>STARFORMING</td><td>-1.2265178074532048</td><td>-0.7325064477587709</td><td>-1.104063384723556</td><td>-3.378611587522619</td></tr>\n",
       "</table></div>"
      ],
      "text/plain": [
       "<Table length=4>\n",
       "    specobjid          ra    ...       Ejex_SH            Ejex_OH      \n",
       "      int64         float64  ...       float64            float64      \n",
       "------------------ --------- ... ------------------- ------------------\n",
       "299490502078654464 146.62857 ... -0.5562285499181298 -2.460213676497085\n",
       "299491051364706304  146.9639 ... -1.2804053562119218  -3.73832238723025\n",
       "299491051834468352 146.63167 ...   -0.82136663342587 -3.010839156796902\n",
       "299492700632147968 146.59272 ...  -1.104063384723556 -3.378611587522619"
      ]
     },
     "execution_count": 6,
     "metadata": {},
     "output_type": "execute_result"
    }
   ],
   "source": [
    "data[1:5]"
   ]
  },
  {
   "cell_type": "markdown",
   "id": "69f6d25a",
   "metadata": {},
   "source": [
    "## 1.2 Para SII.\n",
    "\n",
    "    a. Infrarroja = Abajo de Kewley.\n",
    "    aa. Pre-Etiquetado Infrarrojas\n",
    "\n",
    "    b. Gráfico diferente de Infrarrojas.\n",
    "\n",
    "    c. Seyfert = Arriba de la línea Seyfert-LINER.\n",
    "    cc. Pre-Etiquetado gráfico Seyfert\n",
    "\n",
    "    d. LINER = Abajo de la línea Seyfert-LINER.\n",
    "    dd. Pre-Etiquetado gráfico LINER"
   ]
  },
  {
   "cell_type": "markdown",
   "id": "c1c62961",
   "metadata": {},
   "source": [
    "### a. Infrarroja = Abajo de Kewley."
   ]
  },
  {
   "cell_type": "code",
   "execution_count": 7,
   "id": "aa4f05ca",
   "metadata": {},
   "outputs": [],
   "source": [
    "# Convertir la tabla de datos en un DataFrame de Pandas\n",
    "df = data.to_pandas()"
   ]
  },
  {
   "cell_type": "code",
   "execution_count": 8,
   "id": "5dc552bf",
   "metadata": {},
   "outputs": [],
   "source": [
    "# Filtrar los datos que están por debajo de la línea de Kewley y tienen log [SII] /Hα <= 0.3\n",
    "filtrados = df.query(\"Ejey_OHB <= (1.3 + (0.72 / (Ejex_SH - 0.32))) and Ejex_SH <= 0.3\")"
   ]
  },
  {
   "cell_type": "code",
   "execution_count": 9,
   "id": "1e78112e",
   "metadata": {},
   "outputs": [
    {
     "data": {
      "text/plain": [
       "[<matplotlib.lines.Line2D at 0x21cdce4bcd0>]"
      ]
     },
     "execution_count": 9,
     "metadata": {},
     "output_type": "execute_result"
    },
    {
     "data": {
      "image/png": "[encoded data removed]",
      "text/plain": [
       "<Figure size 432x288 with 1 Axes>"
      ]
     },
     "metadata": {
      "needs_background": "light"
     },
     "output_type": "display_data"
    }
   ],
   "source": [
    "fig = plt.figure()\n",
    "ax = fig.add_subplot()\n",
    "\n",
    "ax.scatter(filtrados[\"Ejex_SH\"], filtrados[\"Ejey_OHB\"], marker=\"+\", color=\"olivedrab\")\n",
    "\n",
    "ax.set_xlim(-10, 10)\n",
    "ax.set_ylim(-10, 10)\n",
    "plt.title('Gráfico b: Preetiquetado de galaxias infrarrojas.')\n",
    "plt.ylabel('log [O III]/ Hβ')\n",
    "plt.xlabel('log [SII] /Hα')\n",
    "\n",
    "# Kewley\n",
    "x1 = np.linspace(-10,0.3) \n",
    "y1 = 1.30 + (0.72/(x1-0.32))\n",
    "plt.plot(x1, y1, '-' , color='red', lw=2, label= 'Kewley') \n"
   ]
  },
  {
   "cell_type": "markdown",
   "id": "cfcaba15",
   "metadata": {},
   "source": [
    "### aa. Pre-Etiquetado Infrarrojas"
   ]
  },
  {
   "cell_type": "code",
   "execution_count": 10,
   "id": "e495c6de",
   "metadata": {},
   "outputs": [],
   "source": [
    "# Agregar una nueva columna \"Infrarroja\" al DataFrame con los valores \"1\" o \"0\"\n",
    "df[\"Infrarroja\"] = df.apply(lambda row: 1 if (row[\"Ejey_OHB\"] <= (1.3 + (0.72 / (row[\"Ejex_SH\"] - 0.32)))) and (row[\"Ejex_SH\"] <= 0.3) else \"0\", axis=1)"
   ]
  },
  {
   "cell_type": "code",
   "execution_count": 11,
   "id": "0f733d54",
   "metadata": {},
   "outputs": [
    {
     "data": {
      "text/html": [
       "<div>\n",
       "<style scoped>\n",
       "    .dataframe tbody tr th:only-of-type {\n",
       "        vertical-align: middle;\n",
       "    }\n",
       "\n",
       "    .dataframe tbody tr th {\n",
       "        vertical-align: top;\n",
       "    }\n",
       "\n",
       "    .dataframe thead th {\n",
       "        text-align: right;\n",
       "    }\n",
       "</style>\n",
       "<table border=\"1\" class=\"dataframe\">\n",
       "  <thead>\n",
       "    <tr style=\"text-align: right;\">\n",
       "      <th></th>\n",
       "      <th>specobjid</th>\n",
       "      <th>ra</th>\n",
       "      <th>dec</th>\n",
       "      <th>z</th>\n",
       "      <th>h_alpha_flux</th>\n",
       "      <th>h_beta_flux</th>\n",
       "      <th>oiii_5007_flux</th>\n",
       "      <th>nii_6548_flux</th>\n",
       "      <th>nii_6584_flux</th>\n",
       "      <th>sii_6717_flux</th>\n",
       "      <th>sii_6731_flux</th>\n",
       "      <th>oi_6300_flux</th>\n",
       "      <th>class</th>\n",
       "      <th>subclass</th>\n",
       "      <th>Ejey_OHB</th>\n",
       "      <th>Ejex_NH</th>\n",
       "      <th>Ejex_SH</th>\n",
       "      <th>Ejex_OH</th>\n",
       "      <th>Infrarroja</th>\n",
       "    </tr>\n",
       "  </thead>\n",
       "  <tbody>\n",
       "    <tr>\n",
       "      <th>10</th>\n",
       "      <td>299500947439118336</td>\n",
       "      <td>146.56561</td>\n",
       "      <td>-1.084742</td>\n",
       "      <td>0.097556</td>\n",
       "      <td>169.8101</td>\n",
       "      <td>24.93788</td>\n",
       "      <td>135.89970</td>\n",
       "      <td>82.52895</td>\n",
       "      <td>248.92640</td>\n",
       "      <td>98.01175</td>\n",
       "      <td>76.62032</td>\n",
       "      <td>37.835190</td>\n",
       "      <td>b'GALAXY'</td>\n",
       "      <td>b'BROADLINE'</td>\n",
       "      <td>1.695529</td>\n",
       "      <td>0.668812</td>\n",
       "      <td>0.028001</td>\n",
       "      <td>-1.501441</td>\n",
       "      <td>0</td>\n",
       "    </tr>\n",
       "    <tr>\n",
       "      <th>11</th>\n",
       "      <td>299501497194932224</td>\n",
       "      <td>146.30548</td>\n",
       "      <td>-1.130551</td>\n",
       "      <td>0.154813</td>\n",
       "      <td>332.5545</td>\n",
       "      <td>73.13292</td>\n",
       "      <td>26.21341</td>\n",
       "      <td>31.17401</td>\n",
       "      <td>94.02802</td>\n",
       "      <td>51.57239</td>\n",
       "      <td>30.87200</td>\n",
       "      <td>25.812260</td>\n",
       "      <td>b'GALAXY'</td>\n",
       "      <td>b'STARBURST'</td>\n",
       "      <td>-1.026007</td>\n",
       "      <td>-0.976875</td>\n",
       "      <td>-1.394680</td>\n",
       "      <td>-2.555954</td>\n",
       "      <td>1</td>\n",
       "    </tr>\n",
       "    <tr>\n",
       "      <th>12</th>\n",
       "      <td>299503421340280832</td>\n",
       "      <td>146.51283</td>\n",
       "      <td>-0.845765</td>\n",
       "      <td>0.064902</td>\n",
       "      <td>1151.2110</td>\n",
       "      <td>257.94090</td>\n",
       "      <td>95.84792</td>\n",
       "      <td>186.80880</td>\n",
       "      <td>563.45860</td>\n",
       "      <td>194.40220</td>\n",
       "      <td>153.68080</td>\n",
       "      <td>32.057770</td>\n",
       "      <td>b'GALAXY'</td>\n",
       "      <td>b'STARFORMING'</td>\n",
       "      <td>-0.989968</td>\n",
       "      <td>-0.428140</td>\n",
       "      <td>-1.196129</td>\n",
       "      <td>-3.581030</td>\n",
       "      <td>1</td>\n",
       "    </tr>\n",
       "    <tr>\n",
       "      <th>13</th>\n",
       "      <td>299504520851908608</td>\n",
       "      <td>146.57273</td>\n",
       "      <td>-1.060836</td>\n",
       "      <td>0.060614</td>\n",
       "      <td>144.6518</td>\n",
       "      <td>30.73027</td>\n",
       "      <td>10.57220</td>\n",
       "      <td>18.58332</td>\n",
       "      <td>56.05157</td>\n",
       "      <td>31.04092</td>\n",
       "      <td>17.30779</td>\n",
       "      <td>6.340064</td>\n",
       "      <td>b'GALAXY'</td>\n",
       "      <td>b'STARFORMING'</td>\n",
       "      <td>-1.067020</td>\n",
       "      <td>-0.661721</td>\n",
       "      <td>-1.095890</td>\n",
       "      <td>-3.127441</td>\n",
       "      <td>1</td>\n",
       "    </tr>\n",
       "    <tr>\n",
       "      <th>14</th>\n",
       "      <td>299506444527495168</td>\n",
       "      <td>146.86432</td>\n",
       "      <td>-0.464072</td>\n",
       "      <td>0.065152</td>\n",
       "      <td>451.1271</td>\n",
       "      <td>104.85060</td>\n",
       "      <td>15.12925</td>\n",
       "      <td>50.27374</td>\n",
       "      <td>151.63720</td>\n",
       "      <td>64.19861</td>\n",
       "      <td>42.08566</td>\n",
       "      <td>6.879756</td>\n",
       "      <td>b'GALAXY'</td>\n",
       "      <td>b'STARFORMING'</td>\n",
       "      <td>-1.935907</td>\n",
       "      <td>-0.803922</td>\n",
       "      <td>-1.445632</td>\n",
       "      <td>-4.183166</td>\n",
       "      <td>1</td>\n",
       "    </tr>\n",
       "  </tbody>\n",
       "</table>\n",
       "</div>"
      ],
      "text/plain": [
       "             specobjid         ra       dec         z  h_alpha_flux  \\\n",
       "10  299500947439118336  146.56561 -1.084742  0.097556      169.8101   \n",
       "11  299501497194932224  146.30548 -1.130551  0.154813      332.5545   \n",
       "12  299503421340280832  146.51283 -0.845765  0.064902     1151.2110   \n",
       "13  299504520851908608  146.57273 -1.060836  0.060614      144.6518   \n",
       "14  299506444527495168  146.86432 -0.464072  0.065152      451.1271   \n",
       "\n",
       "    h_beta_flux  oiii_5007_flux  nii_6548_flux  nii_6584_flux  sii_6717_flux  \\\n",
       "10     24.93788       135.89970       82.52895      248.92640       98.01175   \n",
       "11     73.13292        26.21341       31.17401       94.02802       51.57239   \n",
       "12    257.94090        95.84792      186.80880      563.45860      194.40220   \n",
       "13     30.73027        10.57220       18.58332       56.05157       31.04092   \n",
       "14    104.85060        15.12925       50.27374      151.63720       64.19861   \n",
       "\n",
       "    sii_6731_flux  oi_6300_flux      class        subclass  Ejey_OHB  \\\n",
       "10       76.62032     37.835190  b'GALAXY'    b'BROADLINE'  1.695529   \n",
       "11       30.87200     25.812260  b'GALAXY'    b'STARBURST' -1.026007   \n",
       "12      153.68080     32.057770  b'GALAXY'  b'STARFORMING' -0.989968   \n",
       "13       17.30779      6.340064  b'GALAXY'  b'STARFORMING' -1.067020   \n",
       "14       42.08566      6.879756  b'GALAXY'  b'STARFORMING' -1.935907   \n",
       "\n",
       "     Ejex_NH   Ejex_SH   Ejex_OH Infrarroja  \n",
       "10  0.668812  0.028001 -1.501441          0  \n",
       "11 -0.976875 -1.394680 -2.555954          1  \n",
       "12 -0.428140 -1.196129 -3.581030          1  \n",
       "13 -0.661721 -1.095890 -3.127441          1  \n",
       "14 -0.803922 -1.445632 -4.183166          1  "
      ]
     },
     "execution_count": 11,
     "metadata": {},
     "output_type": "execute_result"
    }
   ],
   "source": [
    "df[10:15]"
   ]
  },
  {
   "cell_type": "code",
   "execution_count": 12,
   "id": "165a1d14",
   "metadata": {},
   "outputs": [
    {
     "data": {
      "text/plain": [
       "277329"
      ]
     },
     "execution_count": 12,
     "metadata": {},
     "output_type": "execute_result"
    }
   ],
   "source": [
    "conteo_i = df[\"Infrarroja\"].value_counts()[1]\n",
    "conteo_i"
   ]
  },
  {
   "cell_type": "code",
   "execution_count": 13,
   "id": "c8cf6a6a",
   "metadata": {},
   "outputs": [
    {
     "data": {
      "text/plain": [
       "33017"
      ]
     },
     "execution_count": 13,
     "metadata": {},
     "output_type": "execute_result"
    }
   ],
   "source": [
    "conteo_0 = df[\"Infrarroja\"].value_counts()[\"0\"]\n",
    "conteo_0"
   ]
  },
  {
   "cell_type": "code",
   "execution_count": 14,
   "id": "6f9d9a25",
   "metadata": {},
   "outputs": [
    {
     "data": {
      "text/plain": [
       "329650"
      ]
     },
     "execution_count": 14,
     "metadata": {},
     "output_type": "execute_result"
    }
   ],
   "source": [
    "suma=294707+34943\n",
    "suma"
   ]
  },
  {
   "cell_type": "markdown",
   "id": "41af4cbe",
   "metadata": {},
   "source": [
    "### b. Gráfico diferente de Infrarrojas."
   ]
  },
  {
   "cell_type": "code",
   "execution_count": 15,
   "id": "fef08535",
   "metadata": {},
   "outputs": [],
   "source": [
    "# Calcular los índices de datos que no están debajo de la curva de Kewley\n",
    "indices_no_kewley = ~((df[\"Ejey_OHB\"] <= (1.3 + (0.72 / (df[\"Ejex_SH\"] - 0.32)))) & (df[\"Ejex_SH\"] <= 0.3))\n",
    "\n",
    "# Seleccionar los datos que no están debajo de la curva de Kewley\n",
    "datos_no_kewley = df[indices_no_kewley]"
   ]
  },
  {
   "cell_type": "code",
   "execution_count": 16,
   "id": "ed9fac19",
   "metadata": {},
   "outputs": [
    {
     "data": {
      "text/plain": [
       "[<matplotlib.lines.Line2D at 0x21ce3ec6550>]"
      ]
     },
     "execution_count": 16,
     "metadata": {},
     "output_type": "execute_result"
    },
    {
     "data": {
      "image/png": "[encoded data removed]",
      "text/plain": [
       "<Figure size 432x288 with 1 Axes>"
      ]
     },
     "metadata": {
      "needs_background": "light"
     },
     "output_type": "display_data"
    }
   ],
   "source": [
    "# Crear una figura y un subárea de gráfico\n",
    "fig = plt.figure()\n",
    "ax = fig.add_subplot()\n",
    "\n",
    "ax.scatter(datos_no_kewley[\"Ejex_SH\"], datos_no_kewley[\"Ejey_OHB\"], marker=\"+\", color=\"limegreen\")\n",
    "\n",
    "ax.set_xlim(-10, 10)\n",
    "ax.set_ylim(-10, 10)\n",
    "plt.title('Diferente de Infrarrojas')\n",
    "plt.ylabel('log [O III]/ Hβ')\n",
    "plt.xlabel('log [SII] /Hα')\n",
    "\n",
    "# Trazar la línea de Kewley\n",
    "x1 = np.linspace(-10,0.3) \n",
    "y1 = 1.30 + (0.72 / (x1 - 0.32))\n",
    "plt.plot(x1, y1, '-', color='red', lw=2, label='Kewley')\n",
    "\n",
    "# Seyfert-LINER\n",
    "x2 = np.linspace(-0.32,4.0)\n",
    "y2 = 0.76 + (1.89*x2)\n",
    "plt.plot(x2, y2, '-.', color='green', lw=2, label='Seyfert-LINER')"
   ]
  },
  {
   "cell_type": "markdown",
   "id": "aac12c30",
   "metadata": {},
   "source": [
    "### c. Seyfert = Arriba de la línea Seyfert-LINER"
   ]
  },
  {
   "cell_type": "code",
   "execution_count": 17,
   "id": "ec409a4e",
   "metadata": {},
   "outputs": [],
   "source": [
    "# Calcular los índices de datos que están encima de la curva Seyfert-LINER y arriba de la curva Kewley\n",
    "IndSeyfert = (df[\"Ejey_OHB\"] > (0.76 + (1.89 * df[\"Ejex_SH\"]))) & (df[\"Ejey_OHB\"] > (1.3 + (0.72 / (df[\"Ejex_SH\"] - 0.32)))) \n",
    "\n",
    "# Seleccionar los datos que están al lado derecho de la curva Seyfert-LINER y arriba de la curva Kewley\n",
    "DatSeyfert = df[IndSeyfert]"
   ]
  },
  {
   "cell_type": "code",
   "execution_count": 18,
   "id": "c32d100c",
   "metadata": {},
   "outputs": [
    {
     "data": {
      "text/plain": [
       "[<matplotlib.lines.Line2D at 0x21ce2d6b340>]"
      ]
     },
     "execution_count": 18,
     "metadata": {},
     "output_type": "execute_result"
    },
    {
     "data": {
      "image/png": "[encoded data removed]",
      "text/plain": [
       "<Figure size 432x288 with 1 Axes>"
      ]
     },
     "metadata": {
      "needs_background": "light"
     },
     "output_type": "display_data"
    }
   ],
   "source": [
    "fig = plt.figure()\n",
    "ax = fig.add_subplot()\n",
    "\n",
    "ax.scatter(DatSeyfert[\"Ejex_SH\"], DatSeyfert[\"Ejey_OHB\"], marker=\"+\", color=\"yellowgreen\")\n",
    "ax.set_xlim(-10, 10)\n",
    "ax.set_ylim(-10, 10)\n",
    "plt.title('Gráfico b: Preetiquetado de galaxias Seyfert')\n",
    "plt.ylabel('log [O III]/ Hβ')\n",
    "plt.xlabel('log [SII] /Hα')\n",
    "\n",
    "# Kewley\n",
    "x1 = np.linspace(-10,0.3) \n",
    "y1 = 1.30 + (0.72 / (x1 - 0.32))\n",
    "plt.plot(x1, y1, '-', color='red', lw=2, label='Kewley')\n",
    "\n",
    "\n",
    "#Seyfert-LINER\n",
    "x2 = np.linspace(-0.32, 4.0)\n",
    "y2 = 0.76 + (1.89*x2)\n",
    "plt.plot(x2, y2, '-.', color='green', lw=2, label='Seyfert-LINER')"
   ]
  },
  {
   "cell_type": "markdown",
   "id": "881135fa",
   "metadata": {},
   "source": [
    "### cc. Pre-Etiquetado gráfico Seyferts"
   ]
  },
  {
   "cell_type": "code",
   "execution_count": 19,
   "id": "d90272f7",
   "metadata": {},
   "outputs": [],
   "source": [
    "# Crear una columna \"Seyfert\" llena de ceros en el DataFrame\n",
    "df['Seyfert'] = 0\n",
    "\n",
    "# Identificar las filas que cumplen las condiciones del código y establecer \"Seyfert\" en 1\n",
    "df.loc[IndSeyfert, 'Seyfert'] = 1"
   ]
  },
  {
   "cell_type": "code",
   "execution_count": 20,
   "id": "3112d73f",
   "metadata": {},
   "outputs": [
    {
     "data": {
      "text/plain": [
       "28034"
      ]
     },
     "execution_count": 20,
     "metadata": {},
     "output_type": "execute_result"
    }
   ],
   "source": [
    "conteo_s = df[\"Seyfert\"].value_counts()[1]\n",
    "conteo_s"
   ]
  },
  {
   "cell_type": "code",
   "execution_count": 21,
   "id": "4c41a573",
   "metadata": {},
   "outputs": [
    {
     "data": {
      "text/html": [
       "<div>\n",
       "<style scoped>\n",
       "    .dataframe tbody tr th:only-of-type {\n",
       "        vertical-align: middle;\n",
       "    }\n",
       "\n",
       "    .dataframe tbody tr th {\n",
       "        vertical-align: top;\n",
       "    }\n",
       "\n",
       "    .dataframe thead th {\n",
       "        text-align: right;\n",
       "    }\n",
       "</style>\n",
       "<table border=\"1\" class=\"dataframe\">\n",
       "  <thead>\n",
       "    <tr style=\"text-align: right;\">\n",
       "      <th></th>\n",
       "      <th>specobjid</th>\n",
       "      <th>ra</th>\n",
       "      <th>dec</th>\n",
       "      <th>z</th>\n",
       "      <th>h_alpha_flux</th>\n",
       "      <th>h_beta_flux</th>\n",
       "      <th>oiii_5007_flux</th>\n",
       "      <th>nii_6548_flux</th>\n",
       "      <th>nii_6584_flux</th>\n",
       "      <th>sii_6717_flux</th>\n",
       "      <th>sii_6731_flux</th>\n",
       "      <th>oi_6300_flux</th>\n",
       "      <th>class</th>\n",
       "      <th>subclass</th>\n",
       "      <th>Ejey_OHB</th>\n",
       "      <th>Ejex_NH</th>\n",
       "      <th>Ejex_SH</th>\n",
       "      <th>Ejex_OH</th>\n",
       "      <th>Infrarroja</th>\n",
       "      <th>Seyfert</th>\n",
       "    </tr>\n",
       "  </thead>\n",
       "  <tbody>\n",
       "    <tr>\n",
       "      <th>80</th>\n",
       "      <td>299568842282133504</td>\n",
       "      <td>145.35144</td>\n",
       "      <td>-1.238558</td>\n",
       "      <td>0.090671</td>\n",
       "      <td>90.53979</td>\n",
       "      <td>17.68659</td>\n",
       "      <td>12.115600</td>\n",
       "      <td>9.49044</td>\n",
       "      <td>28.62536</td>\n",
       "      <td>21.83678</td>\n",
       "      <td>26.102600</td>\n",
       "      <td>0.228003</td>\n",
       "      <td>b'GALAXY'</td>\n",
       "      <td>b'STARFORMING'</td>\n",
       "      <td>-0.378313</td>\n",
       "      <td>-0.865161</td>\n",
       "      <td>-0.635852</td>\n",
       "      <td>-5.984184</td>\n",
       "      <td>1</td>\n",
       "      <td>0</td>\n",
       "    </tr>\n",
       "    <tr>\n",
       "      <th>81</th>\n",
       "      <td>299569391568185344</td>\n",
       "      <td>145.16039</td>\n",
       "      <td>-0.655469</td>\n",
       "      <td>0.150483</td>\n",
       "      <td>214.04670</td>\n",
       "      <td>44.52553</td>\n",
       "      <td>8.760698</td>\n",
       "      <td>29.16867</td>\n",
       "      <td>87.97944</td>\n",
       "      <td>29.15227</td>\n",
       "      <td>16.120820</td>\n",
       "      <td>8.417680</td>\n",
       "      <td>b'GALAXY'</td>\n",
       "      <td>b'STARFORMING'</td>\n",
       "      <td>-1.625787</td>\n",
       "      <td>-0.602755</td>\n",
       "      <td>-1.553481</td>\n",
       "      <td>-3.235860</td>\n",
       "      <td>1</td>\n",
       "      <td>0</td>\n",
       "    </tr>\n",
       "    <tr>\n",
       "      <th>82</th>\n",
       "      <td>299569392037947392</td>\n",
       "      <td>145.36211</td>\n",
       "      <td>-0.714020</td>\n",
       "      <td>0.131562</td>\n",
       "      <td>179.59620</td>\n",
       "      <td>50.89903</td>\n",
       "      <td>15.694890</td>\n",
       "      <td>19.27914</td>\n",
       "      <td>58.15033</td>\n",
       "      <td>32.69051</td>\n",
       "      <td>28.506440</td>\n",
       "      <td>5.584886</td>\n",
       "      <td>b'GALAXY'</td>\n",
       "      <td>b'STARFORMING'</td>\n",
       "      <td>-1.176509</td>\n",
       "      <td>-0.841344</td>\n",
       "      <td>-1.076614</td>\n",
       "      <td>-3.470647</td>\n",
       "      <td>1</td>\n",
       "      <td>0</td>\n",
       "    </tr>\n",
       "    <tr>\n",
       "      <th>83</th>\n",
       "      <td>299572415694923776</td>\n",
       "      <td>145.32060</td>\n",
       "      <td>-0.252861</td>\n",
       "      <td>0.051954</td>\n",
       "      <td>390.58610</td>\n",
       "      <td>100.75610</td>\n",
       "      <td>25.626700</td>\n",
       "      <td>50.30121</td>\n",
       "      <td>151.72010</td>\n",
       "      <td>78.33469</td>\n",
       "      <td>57.551630</td>\n",
       "      <td>12.696890</td>\n",
       "      <td>b'GALAXY'</td>\n",
       "      <td>b'STARFORMING'</td>\n",
       "      <td>-1.369068</td>\n",
       "      <td>-0.659275</td>\n",
       "      <td>-1.055830</td>\n",
       "      <td>-3.426291</td>\n",
       "      <td>1</td>\n",
       "      <td>0</td>\n",
       "    </tr>\n",
       "    <tr>\n",
       "      <th>84</th>\n",
       "      <td>299573790084458496</td>\n",
       "      <td>145.32998</td>\n",
       "      <td>0.043081</td>\n",
       "      <td>0.120429</td>\n",
       "      <td>98.95401</td>\n",
       "      <td>21.90030</td>\n",
       "      <td>6.154003</td>\n",
       "      <td>12.73744</td>\n",
       "      <td>38.41905</td>\n",
       "      <td>19.43309</td>\n",
       "      <td>5.861248</td>\n",
       "      <td>5.244273</td>\n",
       "      <td>b'GALAXY'</td>\n",
       "      <td>b'STARFORMING'</td>\n",
       "      <td>-1.269398</td>\n",
       "      <td>-0.659766</td>\n",
       "      <td>-1.364075</td>\n",
       "      <td>-2.937519</td>\n",
       "      <td>1</td>\n",
       "      <td>0</td>\n",
       "    </tr>\n",
       "  </tbody>\n",
       "</table>\n",
       "</div>"
      ],
      "text/plain": [
       "             specobjid         ra       dec         z  h_alpha_flux  \\\n",
       "80  299568842282133504  145.35144 -1.238558  0.090671      90.53979   \n",
       "81  299569391568185344  145.16039 -0.655469  0.150483     214.04670   \n",
       "82  299569392037947392  145.36211 -0.714020  0.131562     179.59620   \n",
       "83  299572415694923776  145.32060 -0.252861  0.051954     390.58610   \n",
       "84  299573790084458496  145.32998  0.043081  0.120429      98.95401   \n",
       "\n",
       "    h_beta_flux  oiii_5007_flux  nii_6548_flux  nii_6584_flux  sii_6717_flux  \\\n",
       "80     17.68659       12.115600        9.49044       28.62536       21.83678   \n",
       "81     44.52553        8.760698       29.16867       87.97944       29.15227   \n",
       "82     50.89903       15.694890       19.27914       58.15033       32.69051   \n",
       "83    100.75610       25.626700       50.30121      151.72010       78.33469   \n",
       "84     21.90030        6.154003       12.73744       38.41905       19.43309   \n",
       "\n",
       "    sii_6731_flux  oi_6300_flux      class        subclass  Ejey_OHB  \\\n",
       "80      26.102600      0.228003  b'GALAXY'  b'STARFORMING' -0.378313   \n",
       "81      16.120820      8.417680  b'GALAXY'  b'STARFORMING' -1.625787   \n",
       "82      28.506440      5.584886  b'GALAXY'  b'STARFORMING' -1.176509   \n",
       "83      57.551630     12.696890  b'GALAXY'  b'STARFORMING' -1.369068   \n",
       "84       5.861248      5.244273  b'GALAXY'  b'STARFORMING' -1.269398   \n",
       "\n",
       "     Ejex_NH   Ejex_SH   Ejex_OH Infrarroja  Seyfert  \n",
       "80 -0.865161 -0.635852 -5.984184          1        0  \n",
       "81 -0.602755 -1.553481 -3.235860          1        0  \n",
       "82 -0.841344 -1.076614 -3.470647          1        0  \n",
       "83 -0.659275 -1.055830 -3.426291          1        0  \n",
       "84 -0.659766 -1.364075 -2.937519          1        0  "
      ]
     },
     "execution_count": 21,
     "metadata": {},
     "output_type": "execute_result"
    }
   ],
   "source": [
    "df[80:85]"
   ]
  },
  {
   "cell_type": "markdown",
   "id": "e2fc3d65",
   "metadata": {},
   "source": [
    "### d. LINER = Abajo de la línea Seyfert-LINER"
   ]
  },
  {
   "cell_type": "code",
   "execution_count": 22,
   "id": "fa637f68",
   "metadata": {},
   "outputs": [],
   "source": [
    "# Calcular los índices de datos que no están debajo de la curva de Kewley\n",
    "indices_no_kewley = ~((df[\"Ejey_OHB\"] <= (1.3 + (0.72 / (df[\"Ejex_SH\"] - 0.32)))) & (df[\"Ejex_SH\"] <= 0.3))"
   ]
  },
  {
   "cell_type": "code",
   "execution_count": 23,
   "id": "0e24c243",
   "metadata": {},
   "outputs": [],
   "source": [
    "# Calcular los índices de datos que están abajo de la curva Seyfert-LINER\n",
    "PreIndLiner = df[\"Ejey_OHB\"] < (0.76 + (1.89 * df[\"Ejex_SH\"]))"
   ]
  },
  {
   "cell_type": "code",
   "execution_count": 24,
   "id": "8a454d64",
   "metadata": {},
   "outputs": [],
   "source": [
    "# Combinar ambos conjuntos de índices para obtener los datos que están a la izquierda de Seyfert-LINER y no debajo de Kewley\n",
    "IndLiner = indices_no_kewley & PreIndLiner"
   ]
  },
  {
   "cell_type": "code",
   "execution_count": 25,
   "id": "6751e5ea",
   "metadata": {},
   "outputs": [],
   "source": [
    "# Seleccionar los datos que cumplen las condiciones\n",
    "Liner = df[IndLiner]"
   ]
  },
  {
   "cell_type": "code",
   "execution_count": 26,
   "id": "ccc3d16e",
   "metadata": {},
   "outputs": [
    {
     "data": {
      "image/png": "[encoded data removed]",
      "text/plain": [
       "<Figure size 432x288 with 1 Axes>"
      ]
     },
     "metadata": {
      "needs_background": "light"
     },
     "output_type": "display_data"
    }
   ],
   "source": [
    "# Crear una figura y un subárea de gráfico\n",
    "fig = plt.figure()\n",
    "ax = fig.add_subplot()\n",
    "\n",
    "ax.scatter(Liner[\"Ejex_SH\"], Liner[\"Ejey_OHB\"], marker=\"+\", color=\"gold\")\n",
    "\n",
    "ax.set_xlim(-10, 10)\n",
    "ax.set_ylim(-10, 10)\n",
    "plt.title('Gráfico b: Preetiquetado de galaxias LINER')\n",
    "plt.ylabel('log [O III]/ Hβ')\n",
    "plt.xlabel('log [SII] /Hα')\n",
    "\n",
    "# Trazar la línea de Kewley\n",
    "x1 = np.linspace(-10,0.3) \n",
    "y1 = 1.30 + (0.72 / (x1 - 0.32))\n",
    "plt.plot(x1, y1, '-', color='red', lw=2, label='Kewley')\n",
    "\n",
    "# Trazar la línea de Seyfert-LINER\n",
    "x2 = np.linspace(-0.32, 4.0)\n",
    "y2 = 0.76 + (1.89 * x2)\n",
    "plt.plot(x2, y2, '-.', color='green', lw=2, label='Seyfert-LINER')\n",
    "\n",
    "plt.legend()\n",
    "plt.show()"
   ]
  },
  {
   "cell_type": "markdown",
   "id": "e7095621",
   "metadata": {},
   "source": [
    "### dd. Pre-Etiquetado gráfico LINER"
   ]
  },
  {
   "cell_type": "code",
   "execution_count": 27,
   "id": "2b002517",
   "metadata": {},
   "outputs": [],
   "source": [
    "# Crear una columna \"LINER\" llena de ceros en el DataFrame\n",
    "df['LINER'] = 0\n",
    "\n",
    "# Identificar las filas que cumplen las condiciones del código y establecer \"LINER\" en 1\n",
    "df.loc[IndLiner, 'LINER'] = 1"
   ]
  },
  {
   "cell_type": "code",
   "execution_count": 28,
   "id": "b19bee47",
   "metadata": {},
   "outputs": [
    {
     "data": {
      "text/html": [
       "<div>\n",
       "<style scoped>\n",
       "    .dataframe tbody tr th:only-of-type {\n",
       "        vertical-align: middle;\n",
       "    }\n",
       "\n",
       "    .dataframe tbody tr th {\n",
       "        vertical-align: top;\n",
       "    }\n",
       "\n",
       "    .dataframe thead th {\n",
       "        text-align: right;\n",
       "    }\n",
       "</style>\n",
       "<table border=\"1\" class=\"dataframe\">\n",
       "  <thead>\n",
       "    <tr style=\"text-align: right;\">\n",
       "      <th></th>\n",
       "      <th>specobjid</th>\n",
       "      <th>ra</th>\n",
       "      <th>dec</th>\n",
       "      <th>z</th>\n",
       "      <th>h_alpha_flux</th>\n",
       "      <th>h_beta_flux</th>\n",
       "      <th>oiii_5007_flux</th>\n",
       "      <th>nii_6548_flux</th>\n",
       "      <th>nii_6584_flux</th>\n",
       "      <th>sii_6717_flux</th>\n",
       "      <th>...</th>\n",
       "      <th>oi_6300_flux</th>\n",
       "      <th>class</th>\n",
       "      <th>subclass</th>\n",
       "      <th>Ejey_OHB</th>\n",
       "      <th>Ejex_NH</th>\n",
       "      <th>Ejex_SH</th>\n",
       "      <th>Ejex_OH</th>\n",
       "      <th>Infrarroja</th>\n",
       "      <th>Seyfert</th>\n",
       "      <th>LINER</th>\n",
       "    </tr>\n",
       "  </thead>\n",
       "  <tbody>\n",
       "    <tr>\n",
       "      <th>45</th>\n",
       "      <td>299530909130975232</td>\n",
       "      <td>146.36539</td>\n",
       "      <td>-0.343515</td>\n",
       "      <td>0.052484</td>\n",
       "      <td>1031.95200</td>\n",
       "      <td>218.43720</td>\n",
       "      <td>145.175800</td>\n",
       "      <td>94.366330</td>\n",
       "      <td>284.63060</td>\n",
       "      <td>133.57140</td>\n",
       "      <td>...</td>\n",
       "      <td>36.250330</td>\n",
       "      <td>b'GALAXY'</td>\n",
       "      <td>b'STARBURST'</td>\n",
       "      <td>-0.408553</td>\n",
       "      <td>-1.001679</td>\n",
       "      <td>-1.452879</td>\n",
       "      <td>-3.348759</td>\n",
       "      <td>1</td>\n",
       "      <td>0</td>\n",
       "      <td>0</td>\n",
       "    </tr>\n",
       "    <tr>\n",
       "      <th>46</th>\n",
       "      <td>299531733764696064</td>\n",
       "      <td>146.39902</td>\n",
       "      <td>-0.350383</td>\n",
       "      <td>0.053548</td>\n",
       "      <td>376.79330</td>\n",
       "      <td>83.58832</td>\n",
       "      <td>70.260480</td>\n",
       "      <td>35.508530</td>\n",
       "      <td>107.10190</td>\n",
       "      <td>82.11623</td>\n",
       "      <td>...</td>\n",
       "      <td>18.670750</td>\n",
       "      <td>b'GALAXY'</td>\n",
       "      <td>b'STARBURST'</td>\n",
       "      <td>-0.173694</td>\n",
       "      <td>-0.971580</td>\n",
       "      <td>-0.986347</td>\n",
       "      <td>-3.004739</td>\n",
       "      <td>1</td>\n",
       "      <td>0</td>\n",
       "      <td>0</td>\n",
       "    </tr>\n",
       "    <tr>\n",
       "      <th>47</th>\n",
       "      <td>299532283050747904</td>\n",
       "      <td>146.32958</td>\n",
       "      <td>-0.306224</td>\n",
       "      <td>0.036459</td>\n",
       "      <td>135.44340</td>\n",
       "      <td>34.14171</td>\n",
       "      <td>105.466700</td>\n",
       "      <td>22.354670</td>\n",
       "      <td>67.42683</td>\n",
       "      <td>36.96299</td>\n",
       "      <td>...</td>\n",
       "      <td>10.733050</td>\n",
       "      <td>b'GALAXY'</td>\n",
       "      <td>b'AGN'</td>\n",
       "      <td>1.127875</td>\n",
       "      <td>-0.411175</td>\n",
       "      <td>-0.680129</td>\n",
       "      <td>-2.535226</td>\n",
       "      <td>0</td>\n",
       "      <td>1</td>\n",
       "      <td>0</td>\n",
       "    </tr>\n",
       "    <tr>\n",
       "      <th>48</th>\n",
       "      <td>299532283520509952</td>\n",
       "      <td>146.36979</td>\n",
       "      <td>0.082264</td>\n",
       "      <td>0.067523</td>\n",
       "      <td>121.19510</td>\n",
       "      <td>28.34829</td>\n",
       "      <td>8.509685</td>\n",
       "      <td>14.358510</td>\n",
       "      <td>43.30858</td>\n",
       "      <td>29.23752</td>\n",
       "      <td>...</td>\n",
       "      <td>2.016878</td>\n",
       "      <td>b'GALAXY'</td>\n",
       "      <td>b'STARFORMING'</td>\n",
       "      <td>-1.203362</td>\n",
       "      <td>-0.742715</td>\n",
       "      <td>-0.897806</td>\n",
       "      <td>-4.095851</td>\n",
       "      <td>1</td>\n",
       "      <td>0</td>\n",
       "      <td>0</td>\n",
       "    </tr>\n",
       "    <tr>\n",
       "      <th>49</th>\n",
       "      <td>299534207196096512</td>\n",
       "      <td>146.16563</td>\n",
       "      <td>-0.064166</td>\n",
       "      <td>0.063181</td>\n",
       "      <td>87.86826</td>\n",
       "      <td>26.95840</td>\n",
       "      <td>32.407270</td>\n",
       "      <td>15.373810</td>\n",
       "      <td>46.37096</td>\n",
       "      <td>27.08409</td>\n",
       "      <td>...</td>\n",
       "      <td>7.309364</td>\n",
       "      <td>b'GALAXY'</td>\n",
       "      <td>b'STARFORMING'</td>\n",
       "      <td>0.184088</td>\n",
       "      <td>-0.352829</td>\n",
       "      <td>-0.569962</td>\n",
       "      <td>-2.486682</td>\n",
       "      <td>1</td>\n",
       "      <td>0</td>\n",
       "      <td>0</td>\n",
       "    </tr>\n",
       "    <tr>\n",
       "      <th>50</th>\n",
       "      <td>299535582055393280</td>\n",
       "      <td>146.22225</td>\n",
       "      <td>-0.375888</td>\n",
       "      <td>0.067406</td>\n",
       "      <td>311.43940</td>\n",
       "      <td>64.81530</td>\n",
       "      <td>15.682440</td>\n",
       "      <td>30.352470</td>\n",
       "      <td>91.55006</td>\n",
       "      <td>34.36585</td>\n",
       "      <td>...</td>\n",
       "      <td>3.840776</td>\n",
       "      <td>b'GALAXY'</td>\n",
       "      <td>b'STARFORMING'</td>\n",
       "      <td>-1.419000</td>\n",
       "      <td>-0.937983</td>\n",
       "      <td>-1.701327</td>\n",
       "      <td>-4.395530</td>\n",
       "      <td>1</td>\n",
       "      <td>0</td>\n",
       "      <td>0</td>\n",
       "    </tr>\n",
       "    <tr>\n",
       "      <th>51</th>\n",
       "      <td>299536131341445120</td>\n",
       "      <td>145.98758</td>\n",
       "      <td>-0.342555</td>\n",
       "      <td>0.126277</td>\n",
       "      <td>147.21380</td>\n",
       "      <td>31.34226</td>\n",
       "      <td>6.973098</td>\n",
       "      <td>22.138150</td>\n",
       "      <td>66.77378</td>\n",
       "      <td>25.13584</td>\n",
       "      <td>...</td>\n",
       "      <td>2.473754</td>\n",
       "      <td>b'GALAXY'</td>\n",
       "      <td>b'STARFORMING'</td>\n",
       "      <td>-1.502908</td>\n",
       "      <td>-0.504240</td>\n",
       "      <td>-1.321737</td>\n",
       "      <td>-4.086149</td>\n",
       "      <td>1</td>\n",
       "      <td>0</td>\n",
       "      <td>0</td>\n",
       "    </tr>\n",
       "    <tr>\n",
       "      <th>52</th>\n",
       "      <td>299536681567021056</td>\n",
       "      <td>146.28301</td>\n",
       "      <td>0.064056</td>\n",
       "      <td>0.021580</td>\n",
       "      <td>136.37500</td>\n",
       "      <td>28.29921</td>\n",
       "      <td>28.876520</td>\n",
       "      <td>12.828280</td>\n",
       "      <td>38.69307</td>\n",
       "      <td>28.03231</td>\n",
       "      <td>...</td>\n",
       "      <td>2.880808</td>\n",
       "      <td>b'GALAXY'</td>\n",
       "      <td>b'STARFORMING'</td>\n",
       "      <td>0.020195</td>\n",
       "      <td>-0.973412</td>\n",
       "      <td>-0.997557</td>\n",
       "      <td>-3.857338</td>\n",
       "      <td>1</td>\n",
       "      <td>0</td>\n",
       "      <td>0</td>\n",
       "    </tr>\n",
       "    <tr>\n",
       "      <th>53</th>\n",
       "      <td>299540254979811328</td>\n",
       "      <td>145.89112</td>\n",
       "      <td>-0.467045</td>\n",
       "      <td>0.203196</td>\n",
       "      <td>69.34895</td>\n",
       "      <td>19.72272</td>\n",
       "      <td>5.917033</td>\n",
       "      <td>9.824159</td>\n",
       "      <td>29.63193</td>\n",
       "      <td>11.03379</td>\n",
       "      <td>...</td>\n",
       "      <td>2.605041</td>\n",
       "      <td>b'GALAXY'</td>\n",
       "      <td>b'STARFORMING'</td>\n",
       "      <td>-1.203936</td>\n",
       "      <td>-0.563963</td>\n",
       "      <td>-1.347158</td>\n",
       "      <td>-3.281703</td>\n",
       "      <td>1</td>\n",
       "      <td>0</td>\n",
       "      <td>0</td>\n",
       "    </tr>\n",
       "    <tr>\n",
       "      <th>54</th>\n",
       "      <td>299540529387956224</td>\n",
       "      <td>145.87740</td>\n",
       "      <td>-0.050188</td>\n",
       "      <td>0.090989</td>\n",
       "      <td>156.65570</td>\n",
       "      <td>32.74212</td>\n",
       "      <td>15.147410</td>\n",
       "      <td>20.458530</td>\n",
       "      <td>61.70764</td>\n",
       "      <td>27.77837</td>\n",
       "      <td>...</td>\n",
       "      <td>11.717160</td>\n",
       "      <td>b'GALAXY'</td>\n",
       "      <td>b'STARFORMING'</td>\n",
       "      <td>-0.770833</td>\n",
       "      <td>-0.645307</td>\n",
       "      <td>-0.990215</td>\n",
       "      <td>-2.592996</td>\n",
       "      <td>1</td>\n",
       "      <td>0</td>\n",
       "      <td>0</td>\n",
       "    </tr>\n",
       "  </tbody>\n",
       "</table>\n",
       "<p>10 rows × 21 columns</p>\n",
       "</div>"
      ],
      "text/plain": [
       "             specobjid         ra       dec         z  h_alpha_flux  \\\n",
       "45  299530909130975232  146.36539 -0.343515  0.052484    1031.95200   \n",
       "46  299531733764696064  146.39902 -0.350383  0.053548     376.79330   \n",
       "47  299532283050747904  146.32958 -0.306224  0.036459     135.44340   \n",
       "48  299532283520509952  146.36979  0.082264  0.067523     121.19510   \n",
       "49  299534207196096512  146.16563 -0.064166  0.063181      87.86826   \n",
       "50  299535582055393280  146.22225 -0.375888  0.067406     311.43940   \n",
       "51  299536131341445120  145.98758 -0.342555  0.126277     147.21380   \n",
       "52  299536681567021056  146.28301  0.064056  0.021580     136.37500   \n",
       "53  299540254979811328  145.89112 -0.467045  0.203196      69.34895   \n",
       "54  299540529387956224  145.87740 -0.050188  0.090989     156.65570   \n",
       "\n",
       "    h_beta_flux  oiii_5007_flux  nii_6548_flux  nii_6584_flux  sii_6717_flux  \\\n",
       "45    218.43720      145.175800      94.366330      284.63060      133.57140   \n",
       "46     83.58832       70.260480      35.508530      107.10190       82.11623   \n",
       "47     34.14171      105.466700      22.354670       67.42683       36.96299   \n",
       "48     28.34829        8.509685      14.358510       43.30858       29.23752   \n",
       "49     26.95840       32.407270      15.373810       46.37096       27.08409   \n",
       "50     64.81530       15.682440      30.352470       91.55006       34.36585   \n",
       "51     31.34226        6.973098      22.138150       66.77378       25.13584   \n",
       "52     28.29921       28.876520      12.828280       38.69307       28.03231   \n",
       "53     19.72272        5.917033       9.824159       29.63193       11.03379   \n",
       "54     32.74212       15.147410      20.458530       61.70764       27.77837   \n",
       "\n",
       "    ...  oi_6300_flux      class        subclass  Ejey_OHB   Ejex_NH  \\\n",
       "45  ...     36.250330  b'GALAXY'    b'STARBURST' -0.408553 -1.001679   \n",
       "46  ...     18.670750  b'GALAXY'    b'STARBURST' -0.173694 -0.971580   \n",
       "47  ...     10.733050  b'GALAXY'          b'AGN'  1.127875 -0.411175   \n",
       "48  ...      2.016878  b'GALAXY'  b'STARFORMING' -1.203362 -0.742715   \n",
       "49  ...      7.309364  b'GALAXY'  b'STARFORMING'  0.184088 -0.352829   \n",
       "50  ...      3.840776  b'GALAXY'  b'STARFORMING' -1.419000 -0.937983   \n",
       "51  ...      2.473754  b'GALAXY'  b'STARFORMING' -1.502908 -0.504240   \n",
       "52  ...      2.880808  b'GALAXY'  b'STARFORMING'  0.020195 -0.973412   \n",
       "53  ...      2.605041  b'GALAXY'  b'STARFORMING' -1.203936 -0.563963   \n",
       "54  ...     11.717160  b'GALAXY'  b'STARFORMING' -0.770833 -0.645307   \n",
       "\n",
       "     Ejex_SH   Ejex_OH  Infrarroja Seyfert  LINER  \n",
       "45 -1.452879 -3.348759           1       0      0  \n",
       "46 -0.986347 -3.004739           1       0      0  \n",
       "47 -0.680129 -2.535226           0       1      0  \n",
       "48 -0.897806 -4.095851           1       0      0  \n",
       "49 -0.569962 -2.486682           1       0      0  \n",
       "50 -1.701327 -4.395530           1       0      0  \n",
       "51 -1.321737 -4.086149           1       0      0  \n",
       "52 -0.997557 -3.857338           1       0      0  \n",
       "53 -1.347158 -3.281703           1       0      0  \n",
       "54 -0.990215 -2.592996           1       0      0  \n",
       "\n",
       "[10 rows x 21 columns]"
      ]
     },
     "execution_count": 28,
     "metadata": {},
     "output_type": "execute_result"
    }
   ],
   "source": [
    "df[45:55]"
   ]
  },
  {
   "cell_type": "code",
   "execution_count": 29,
   "id": "fe18061d",
   "metadata": {},
   "outputs": [
    {
     "data": {
      "text/plain": [
       "4956"
      ]
     },
     "execution_count": 29,
     "metadata": {},
     "output_type": "execute_result"
    }
   ],
   "source": [
    "conteo_L = df[\"LINER\"].value_counts()[1]\n",
    "conteo_L"
   ]
  },
  {
   "cell_type": "markdown",
   "id": "51d74a08",
   "metadata": {},
   "source": [
    "## 1.3 Etiquetas MANERA DEDUCTIVA."
   ]
  },
  {
   "cell_type": "markdown",
   "id": "880a3c2e",
   "metadata": {},
   "source": [
    "1.3.1 Comprobación de cantidades.  \n",
    "1.3.2 Solucion de cantidades.  \n",
    "1.3.3 Matriz SII Deductiva.  \n",
    "1.3.4 Graficas de SII Deductiva.  "
   ]
  },
  {
   "cell_type": "markdown",
   "id": "ffebbb75",
   "metadata": {},
   "source": [
    "### 1.3.1 Comprobación de cantidades."
   ]
  },
  {
   "cell_type": "code",
   "execution_count": 30,
   "id": "3a9bd3fc",
   "metadata": {},
   "outputs": [
    {
     "data": {
      "text/plain": [
       "277329"
      ]
     },
     "execution_count": 30,
     "metadata": {},
     "output_type": "execute_result"
    }
   ],
   "source": [
    "conteo_i = df[\"Infrarroja\"].value_counts()[1]\n",
    "conteo_i"
   ]
  },
  {
   "cell_type": "code",
   "execution_count": 31,
   "id": "16799422",
   "metadata": {},
   "outputs": [
    {
     "data": {
      "text/plain": [
       "28034"
      ]
     },
     "execution_count": 31,
     "metadata": {},
     "output_type": "execute_result"
    }
   ],
   "source": [
    "conteo_s = df[\"Seyfert\"].value_counts()[1]\n",
    "conteo_s"
   ]
  },
  {
   "cell_type": "code",
   "execution_count": 32,
   "id": "7876d37e",
   "metadata": {},
   "outputs": [
    {
     "data": {
      "text/plain": [
       "4956"
      ]
     },
     "execution_count": 32,
     "metadata": {},
     "output_type": "execute_result"
    }
   ],
   "source": [
    "conteo_L = df[\"LINER\"].value_counts()[1]\n",
    "conteo_L"
   ]
  },
  {
   "cell_type": "code",
   "execution_count": 33,
   "id": "61425772",
   "metadata": {},
   "outputs": [
    {
     "data": {
      "text/plain": [
       "310319"
      ]
     },
     "execution_count": 33,
     "metadata": {},
     "output_type": "execute_result"
    }
   ],
   "source": [
    "Suma= conteo_i + conteo_s + conteo_L\n",
    "Suma"
   ]
  },
  {
   "cell_type": "markdown",
   "id": "3c7aa486",
   "metadata": {},
   "source": [
    "### 1.3.2 Solucion de cantidades."
   ]
  },
  {
   "cell_type": "code",
   "execution_count": 34,
   "id": "ac1a663b",
   "metadata": {},
   "outputs": [
    {
     "data": {
      "text/plain": [
       "19331"
      ]
     },
     "execution_count": 34,
     "metadata": {},
     "output_type": "execute_result"
    }
   ],
   "source": [
    "SumaA = 329650 - Suma\n",
    "SumaA\n",
    "# Existen 29 Galaxias que no fueron identificadas, seguiran identificadas como 0."
   ]
  },
  {
   "cell_type": "markdown",
   "id": "0df53e9b",
   "metadata": {},
   "source": [
    "### 1.3.3 Matriz SII Deductiva."
   ]
  },
  {
   "cell_type": "code",
   "execution_count": 35,
   "id": "e2d6b18f",
   "metadata": {},
   "outputs": [],
   "source": [
    "# Obtener la lista de columnas que se deben evaluar\n",
    "columnas_evaluar = [\"Infrarroja\", \"Seyfert\", \"LINER\"]"
   ]
  },
  {
   "cell_type": "code",
   "execution_count": 36,
   "id": "f88be1bc",
   "metadata": {},
   "outputs": [],
   "source": [
    "# Crear la columna \"PreEtiqueta\" con los valores correspondientes, si no es 1, entonces: es combinada.\n",
    "def obtener_pre_etiqueta(row):\n",
    "    etiquetas = []\n",
    "    for etiqueta in columnas_evaluar:\n",
    "        if row[etiqueta] == 1:\n",
    "            etiquetas.append(etiqueta)\n",
    "    if len(etiquetas) == 1:\n",
    "        return etiquetas[0]\n",
    "    else:\n",
    "        return \"N/I\""
   ]
  },
  {
   "cell_type": "code",
   "execution_count": 37,
   "id": "06245bf5",
   "metadata": {},
   "outputs": [
    {
     "data": {
      "text/html": [
       "<div>\n",
       "<style scoped>\n",
       "    .dataframe tbody tr th:only-of-type {\n",
       "        vertical-align: middle;\n",
       "    }\n",
       "\n",
       "    .dataframe tbody tr th {\n",
       "        vertical-align: top;\n",
       "    }\n",
       "\n",
       "    .dataframe thead th {\n",
       "        text-align: right;\n",
       "    }\n",
       "</style>\n",
       "<table border=\"1\" class=\"dataframe\">\n",
       "  <thead>\n",
       "    <tr style=\"text-align: right;\">\n",
       "      <th></th>\n",
       "      <th>specobjid</th>\n",
       "      <th>ra</th>\n",
       "      <th>dec</th>\n",
       "      <th>z</th>\n",
       "      <th>h_alpha_flux</th>\n",
       "      <th>h_beta_flux</th>\n",
       "      <th>oiii_5007_flux</th>\n",
       "      <th>nii_6548_flux</th>\n",
       "      <th>nii_6584_flux</th>\n",
       "      <th>sii_6717_flux</th>\n",
       "      <th>...</th>\n",
       "      <th>class</th>\n",
       "      <th>subclass</th>\n",
       "      <th>Ejey_OHB</th>\n",
       "      <th>Ejex_NH</th>\n",
       "      <th>Ejex_SH</th>\n",
       "      <th>Ejex_OH</th>\n",
       "      <th>Infrarroja</th>\n",
       "      <th>Seyfert</th>\n",
       "      <th>LINER</th>\n",
       "      <th>PreEtiquetaSII</th>\n",
       "    </tr>\n",
       "  </thead>\n",
       "  <tbody>\n",
       "    <tr>\n",
       "      <th>45</th>\n",
       "      <td>299530909130975232</td>\n",
       "      <td>146.36539</td>\n",
       "      <td>-0.343515</td>\n",
       "      <td>0.052484</td>\n",
       "      <td>1031.95200</td>\n",
       "      <td>218.43720</td>\n",
       "      <td>145.175800</td>\n",
       "      <td>94.366330</td>\n",
       "      <td>284.63060</td>\n",
       "      <td>133.57140</td>\n",
       "      <td>...</td>\n",
       "      <td>b'GALAXY'</td>\n",
       "      <td>b'STARBURST'</td>\n",
       "      <td>-0.408553</td>\n",
       "      <td>-1.001679</td>\n",
       "      <td>-1.452879</td>\n",
       "      <td>-3.348759</td>\n",
       "      <td>1</td>\n",
       "      <td>0</td>\n",
       "      <td>0</td>\n",
       "      <td>Infrarroja</td>\n",
       "    </tr>\n",
       "    <tr>\n",
       "      <th>46</th>\n",
       "      <td>299531733764696064</td>\n",
       "      <td>146.39902</td>\n",
       "      <td>-0.350383</td>\n",
       "      <td>0.053548</td>\n",
       "      <td>376.79330</td>\n",
       "      <td>83.58832</td>\n",
       "      <td>70.260480</td>\n",
       "      <td>35.508530</td>\n",
       "      <td>107.10190</td>\n",
       "      <td>82.11623</td>\n",
       "      <td>...</td>\n",
       "      <td>b'GALAXY'</td>\n",
       "      <td>b'STARBURST'</td>\n",
       "      <td>-0.173694</td>\n",
       "      <td>-0.971580</td>\n",
       "      <td>-0.986347</td>\n",
       "      <td>-3.004739</td>\n",
       "      <td>1</td>\n",
       "      <td>0</td>\n",
       "      <td>0</td>\n",
       "      <td>Infrarroja</td>\n",
       "    </tr>\n",
       "    <tr>\n",
       "      <th>47</th>\n",
       "      <td>299532283050747904</td>\n",
       "      <td>146.32958</td>\n",
       "      <td>-0.306224</td>\n",
       "      <td>0.036459</td>\n",
       "      <td>135.44340</td>\n",
       "      <td>34.14171</td>\n",
       "      <td>105.466700</td>\n",
       "      <td>22.354670</td>\n",
       "      <td>67.42683</td>\n",
       "      <td>36.96299</td>\n",
       "      <td>...</td>\n",
       "      <td>b'GALAXY'</td>\n",
       "      <td>b'AGN'</td>\n",
       "      <td>1.127875</td>\n",
       "      <td>-0.411175</td>\n",
       "      <td>-0.680129</td>\n",
       "      <td>-2.535226</td>\n",
       "      <td>0</td>\n",
       "      <td>1</td>\n",
       "      <td>0</td>\n",
       "      <td>Seyfert</td>\n",
       "    </tr>\n",
       "    <tr>\n",
       "      <th>48</th>\n",
       "      <td>299532283520509952</td>\n",
       "      <td>146.36979</td>\n",
       "      <td>0.082264</td>\n",
       "      <td>0.067523</td>\n",
       "      <td>121.19510</td>\n",
       "      <td>28.34829</td>\n",
       "      <td>8.509685</td>\n",
       "      <td>14.358510</td>\n",
       "      <td>43.30858</td>\n",
       "      <td>29.23752</td>\n",
       "      <td>...</td>\n",
       "      <td>b'GALAXY'</td>\n",
       "      <td>b'STARFORMING'</td>\n",
       "      <td>-1.203362</td>\n",
       "      <td>-0.742715</td>\n",
       "      <td>-0.897806</td>\n",
       "      <td>-4.095851</td>\n",
       "      <td>1</td>\n",
       "      <td>0</td>\n",
       "      <td>0</td>\n",
       "      <td>Infrarroja</td>\n",
       "    </tr>\n",
       "    <tr>\n",
       "      <th>49</th>\n",
       "      <td>299534207196096512</td>\n",
       "      <td>146.16563</td>\n",
       "      <td>-0.064166</td>\n",
       "      <td>0.063181</td>\n",
       "      <td>87.86826</td>\n",
       "      <td>26.95840</td>\n",
       "      <td>32.407270</td>\n",
       "      <td>15.373810</td>\n",
       "      <td>46.37096</td>\n",
       "      <td>27.08409</td>\n",
       "      <td>...</td>\n",
       "      <td>b'GALAXY'</td>\n",
       "      <td>b'STARFORMING'</td>\n",
       "      <td>0.184088</td>\n",
       "      <td>-0.352829</td>\n",
       "      <td>-0.569962</td>\n",
       "      <td>-2.486682</td>\n",
       "      <td>1</td>\n",
       "      <td>0</td>\n",
       "      <td>0</td>\n",
       "      <td>Infrarroja</td>\n",
       "    </tr>\n",
       "    <tr>\n",
       "      <th>50</th>\n",
       "      <td>299535582055393280</td>\n",
       "      <td>146.22225</td>\n",
       "      <td>-0.375888</td>\n",
       "      <td>0.067406</td>\n",
       "      <td>311.43940</td>\n",
       "      <td>64.81530</td>\n",
       "      <td>15.682440</td>\n",
       "      <td>30.352470</td>\n",
       "      <td>91.55006</td>\n",
       "      <td>34.36585</td>\n",
       "      <td>...</td>\n",
       "      <td>b'GALAXY'</td>\n",
       "      <td>b'STARFORMING'</td>\n",
       "      <td>-1.419000</td>\n",
       "      <td>-0.937983</td>\n",
       "      <td>-1.701327</td>\n",
       "      <td>-4.395530</td>\n",
       "      <td>1</td>\n",
       "      <td>0</td>\n",
       "      <td>0</td>\n",
       "      <td>Infrarroja</td>\n",
       "    </tr>\n",
       "    <tr>\n",
       "      <th>51</th>\n",
       "      <td>299536131341445120</td>\n",
       "      <td>145.98758</td>\n",
       "      <td>-0.342555</td>\n",
       "      <td>0.126277</td>\n",
       "      <td>147.21380</td>\n",
       "      <td>31.34226</td>\n",
       "      <td>6.973098</td>\n",
       "      <td>22.138150</td>\n",
       "      <td>66.77378</td>\n",
       "      <td>25.13584</td>\n",
       "      <td>...</td>\n",
       "      <td>b'GALAXY'</td>\n",
       "      <td>b'STARFORMING'</td>\n",
       "      <td>-1.502908</td>\n",
       "      <td>-0.504240</td>\n",
       "      <td>-1.321737</td>\n",
       "      <td>-4.086149</td>\n",
       "      <td>1</td>\n",
       "      <td>0</td>\n",
       "      <td>0</td>\n",
       "      <td>Infrarroja</td>\n",
       "    </tr>\n",
       "    <tr>\n",
       "      <th>52</th>\n",
       "      <td>299536681567021056</td>\n",
       "      <td>146.28301</td>\n",
       "      <td>0.064056</td>\n",
       "      <td>0.021580</td>\n",
       "      <td>136.37500</td>\n",
       "      <td>28.29921</td>\n",
       "      <td>28.876520</td>\n",
       "      <td>12.828280</td>\n",
       "      <td>38.69307</td>\n",
       "      <td>28.03231</td>\n",
       "      <td>...</td>\n",
       "      <td>b'GALAXY'</td>\n",
       "      <td>b'STARFORMING'</td>\n",
       "      <td>0.020195</td>\n",
       "      <td>-0.973412</td>\n",
       "      <td>-0.997557</td>\n",
       "      <td>-3.857338</td>\n",
       "      <td>1</td>\n",
       "      <td>0</td>\n",
       "      <td>0</td>\n",
       "      <td>Infrarroja</td>\n",
       "    </tr>\n",
       "    <tr>\n",
       "      <th>53</th>\n",
       "      <td>299540254979811328</td>\n",
       "      <td>145.89112</td>\n",
       "      <td>-0.467045</td>\n",
       "      <td>0.203196</td>\n",
       "      <td>69.34895</td>\n",
       "      <td>19.72272</td>\n",
       "      <td>5.917033</td>\n",
       "      <td>9.824159</td>\n",
       "      <td>29.63193</td>\n",
       "      <td>11.03379</td>\n",
       "      <td>...</td>\n",
       "      <td>b'GALAXY'</td>\n",
       "      <td>b'STARFORMING'</td>\n",
       "      <td>-1.203936</td>\n",
       "      <td>-0.563963</td>\n",
       "      <td>-1.347158</td>\n",
       "      <td>-3.281703</td>\n",
       "      <td>1</td>\n",
       "      <td>0</td>\n",
       "      <td>0</td>\n",
       "      <td>Infrarroja</td>\n",
       "    </tr>\n",
       "    <tr>\n",
       "      <th>54</th>\n",
       "      <td>299540529387956224</td>\n",
       "      <td>145.87740</td>\n",
       "      <td>-0.050188</td>\n",
       "      <td>0.090989</td>\n",
       "      <td>156.65570</td>\n",
       "      <td>32.74212</td>\n",
       "      <td>15.147410</td>\n",
       "      <td>20.458530</td>\n",
       "      <td>61.70764</td>\n",
       "      <td>27.77837</td>\n",
       "      <td>...</td>\n",
       "      <td>b'GALAXY'</td>\n",
       "      <td>b'STARFORMING'</td>\n",
       "      <td>-0.770833</td>\n",
       "      <td>-0.645307</td>\n",
       "      <td>-0.990215</td>\n",
       "      <td>-2.592996</td>\n",
       "      <td>1</td>\n",
       "      <td>0</td>\n",
       "      <td>0</td>\n",
       "      <td>Infrarroja</td>\n",
       "    </tr>\n",
       "  </tbody>\n",
       "</table>\n",
       "<p>10 rows × 22 columns</p>\n",
       "</div>"
      ],
      "text/plain": [
       "             specobjid         ra       dec         z  h_alpha_flux  \\\n",
       "45  299530909130975232  146.36539 -0.343515  0.052484    1031.95200   \n",
       "46  299531733764696064  146.39902 -0.350383  0.053548     376.79330   \n",
       "47  299532283050747904  146.32958 -0.306224  0.036459     135.44340   \n",
       "48  299532283520509952  146.36979  0.082264  0.067523     121.19510   \n",
       "49  299534207196096512  146.16563 -0.064166  0.063181      87.86826   \n",
       "50  299535582055393280  146.22225 -0.375888  0.067406     311.43940   \n",
       "51  299536131341445120  145.98758 -0.342555  0.126277     147.21380   \n",
       "52  299536681567021056  146.28301  0.064056  0.021580     136.37500   \n",
       "53  299540254979811328  145.89112 -0.467045  0.203196      69.34895   \n",
       "54  299540529387956224  145.87740 -0.050188  0.090989     156.65570   \n",
       "\n",
       "    h_beta_flux  oiii_5007_flux  nii_6548_flux  nii_6584_flux  sii_6717_flux  \\\n",
       "45    218.43720      145.175800      94.366330      284.63060      133.57140   \n",
       "46     83.58832       70.260480      35.508530      107.10190       82.11623   \n",
       "47     34.14171      105.466700      22.354670       67.42683       36.96299   \n",
       "48     28.34829        8.509685      14.358510       43.30858       29.23752   \n",
       "49     26.95840       32.407270      15.373810       46.37096       27.08409   \n",
       "50     64.81530       15.682440      30.352470       91.55006       34.36585   \n",
       "51     31.34226        6.973098      22.138150       66.77378       25.13584   \n",
       "52     28.29921       28.876520      12.828280       38.69307       28.03231   \n",
       "53     19.72272        5.917033       9.824159       29.63193       11.03379   \n",
       "54     32.74212       15.147410      20.458530       61.70764       27.77837   \n",
       "\n",
       "    ...      class        subclass  Ejey_OHB   Ejex_NH   Ejex_SH   Ejex_OH  \\\n",
       "45  ...  b'GALAXY'    b'STARBURST' -0.408553 -1.001679 -1.452879 -3.348759   \n",
       "46  ...  b'GALAXY'    b'STARBURST' -0.173694 -0.971580 -0.986347 -3.004739   \n",
       "47  ...  b'GALAXY'          b'AGN'  1.127875 -0.411175 -0.680129 -2.535226   \n",
       "48  ...  b'GALAXY'  b'STARFORMING' -1.203362 -0.742715 -0.897806 -4.095851   \n",
       "49  ...  b'GALAXY'  b'STARFORMING'  0.184088 -0.352829 -0.569962 -2.486682   \n",
       "50  ...  b'GALAXY'  b'STARFORMING' -1.419000 -0.937983 -1.701327 -4.395530   \n",
       "51  ...  b'GALAXY'  b'STARFORMING' -1.502908 -0.504240 -1.321737 -4.086149   \n",
       "52  ...  b'GALAXY'  b'STARFORMING'  0.020195 -0.973412 -0.997557 -3.857338   \n",
       "53  ...  b'GALAXY'  b'STARFORMING' -1.203936 -0.563963 -1.347158 -3.281703   \n",
       "54  ...  b'GALAXY'  b'STARFORMING' -0.770833 -0.645307 -0.990215 -2.592996   \n",
       "\n",
       "    Infrarroja  Seyfert LINER  PreEtiquetaSII  \n",
       "45           1        0     0      Infrarroja  \n",
       "46           1        0     0      Infrarroja  \n",
       "47           0        1     0         Seyfert  \n",
       "48           1        0     0      Infrarroja  \n",
       "49           1        0     0      Infrarroja  \n",
       "50           1        0     0      Infrarroja  \n",
       "51           1        0     0      Infrarroja  \n",
       "52           1        0     0      Infrarroja  \n",
       "53           1        0     0      Infrarroja  \n",
       "54           1        0     0      Infrarroja  \n",
       "\n",
       "[10 rows x 22 columns]"
      ]
     },
     "execution_count": 37,
     "metadata": {},
     "output_type": "execute_result"
    }
   ],
   "source": [
    "df[\"PreEtiquetaSII\"] = df.apply(obtener_pre_etiqueta, axis=1)\n",
    "df[45:55]"
   ]
  },
  {
   "cell_type": "markdown",
   "id": "5db5162b",
   "metadata": {},
   "source": [
    "### 1.3.4 Graficas de SII Deductiva."
   ]
  },
  {
   "cell_type": "code",
   "execution_count": 40,
   "id": "06759062",
   "metadata": {},
   "outputs": [
    {
     "data": {
      "text/plain": [
       "<matplotlib.legend.Legend at 0x21ceb4fd040>"
      ]
     },
     "execution_count": 40,
     "metadata": {},
     "output_type": "execute_result"
    },
    {
     "data": {
      "image/png": "[encoded data removed]",
      "text/plain": [
       "<Figure size 432x288 with 1 Axes>"
      ]
     },
     "metadata": {
      "needs_background": "light"
     },
     "output_type": "display_data"
    }
   ],
   "source": [
    "import matplotlib.pyplot as plt\n",
    "\n",
    "# Crear la figura y los ejes\n",
    "fig, ax = plt.subplots()\n",
    "\n",
    "# Filtrar los datos por etiqueta\n",
    "datos_infrarroja = df[df[\"PreEtiquetaSII\"] == \"Infrarroja\"]\n",
    "datos_liner = df[df[\"PreEtiquetaSII\"] == \"LINER\"]\n",
    "datos_seyfert = df[df[\"PreEtiquetaSII\"] == \"Seyfert\"]\n",
    "\n",
    "# Graficar los puntos con colores según la etiqueta\n",
    "ax.scatter(datos_infrarroja[\"Ejex_SH\"], datos_infrarroja[\"Ejey_OHB\"], marker=\"+\", color=\"olivedrab\", label=\"Infrarroja\")\n",
    "ax.scatter(datos_seyfert[\"Ejex_SH\"], datos_seyfert[\"Ejey_OHB\"], marker=\"+\", color=\"yellowgreen\", label=\"Seyfert\")\n",
    "ax.scatter(datos_liner[\"Ejex_SH\"], datos_liner[\"Ejey_OHB\"], marker=\"+\", color=\"gold\", label=\"LINER\")\n",
    "\n",
    "# Configurar los límites de los ejes\n",
    "ax.set_xlim([-10, 10])\n",
    "ax.set_ylim([-10, 10])\n",
    "\n",
    "# Agregar etiquetas y título\n",
    "plt.xlabel(\"Ejex_SH\")\n",
    "plt.ylabel(\"Ejey_OHB\")\n",
    "plt.title(\"Gráfica b. Según PreEtiquetaSII\")\n",
    "plt.legend()"
   ]
  },
  {
   "cell_type": "code",
   "execution_count": 39,
   "id": "efe2db6f",
   "metadata": {},
   "outputs": [],
   "source": [
    "df2=df"
   ]
  }
 ],
 "metadata": {
  "kernelspec": {
   "display_name": "Python 3 (ipykernel)",
   "language": "python",
   "name": "python3"
  },
  "language_info": {
   "codemirror_mode": {
    "name": "ipython",
    "version": 3
   },
   "file_extension": ".py",
   "mimetype": "text/x-python",
   "name": "python",
   "nbconvert_exporter": "python",
   "pygments_lexer": "ipython3",
   "version": "3.9.7"
  }
 },
 "nbformat": 4,
 "nbformat_minor": 5
}
