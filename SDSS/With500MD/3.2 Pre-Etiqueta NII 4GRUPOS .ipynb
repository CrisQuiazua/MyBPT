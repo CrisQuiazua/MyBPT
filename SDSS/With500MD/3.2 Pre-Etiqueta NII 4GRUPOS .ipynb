{
 "cells": [
  {
   "cell_type": "markdown",
   "id": "07dd29e1",
   "metadata": {},
   "source": [
    "**Objetivo:**  \n",
    "\n",
    "Dados las gráficas 1.2 de 500.000 galaxias con curvas según: The Host Galaxies and Classification of Active Galactic Nuclei - 2006 y Z < 0.8, pre etiquetar entre 4 grupos, usando la curva \"a\" del diagrama BPT: NII   \n",
    "\n",
    "Analizando los datos de ejex_NH, ejey_OHb\n",
    "\n",
    "**Galaxias: Infrarroja, Compuesta, LINER o Seyfert.**"
   ]
  },
  {
   "cell_type": "markdown",
   "id": "3fa0e3cc",
   "metadata": {},
   "source": [
    "**PROCEDIMIENTO:**  \n",
    "    **1.1** Dados iniciales.  \n",
    "    **1.2** Para NII.  \n",
    "     \n",
    "        a. Infrarroja = Abajo de Kauffmann  \n",
    "        b. Compuesta = Arriba de Kauffmann y abajo de Kewley (Intermedias)   \n",
    "        c. LINER = Arriba de Kewley y abajo de Seyfert-LINER \n",
    "        d. Seyfert = Arriba de Kewley y arrriba de Seyfert-LINER.   \n",
    "        \n",
    "        aa. Etiquetado gráfico a\n",
    "        bb. Etiquetado gráfico b\n",
    "        cc. Etiquetado gráfico c\n",
    "        dd. Etiquetado gráfico d  \n",
    "        \n",
    "    **1.3** Etiquetas MANERA DEDUCTIVA.\n",
    "    1.3.1 Comprobación de cantidades.\n",
    "    1.3.2 Solucion de cantidades.\n",
    "    1.3.3 Matriz NII Deductiva.\n",
    "    1.3.4 Graficas de NII Deductiva."
   ]
  },
  {
   "cell_type": "markdown",
   "id": "2800aaf1",
   "metadata": {},
   "source": [
    "## 1.1 Dados iniciales. "
   ]
  },
  {
   "cell_type": "code",
   "execution_count": 1,
   "id": "502dbed6",
   "metadata": {},
   "outputs": [
    {
     "name": "stdout",
     "output_type": "stream",
     "text": [
      "Could not import regions, which is required for some of the functionalities of this module.\n",
      "Valores duplicados en la columna 'ra': [132.58559 179.51375 185.48906 351.8132 ]\n",
      "Índices de los valores duplicados en la columna 'ra': Int64Index([4105, 5929, 6215, 11228], dtype='int64')\n",
      "Índices de TODAS las ocurrencias de valores duplicados en la columna 'ra': Int64Index([4100, 4105, 5928, 5929, 6213, 6215, 11227, 11228], dtype='int64')\n"
     ]
    },
    {
     "name": "stderr",
     "output_type": "stream",
     "text": [
      "C:\\ProgramData\\Anaconda33\\lib\\site-packages\\astroquery\\sdss\\core.py:874: VisibleDeprecationWarning: Reading unicode strings without specifying the encoding argument is deprecated. Set the encoding, use None for the system default.\n",
      "  arr = np.atleast_1d(np.genfromtxt(io.BytesIO(response.content),\n"
     ]
    },
    {
     "name": "stdout",
     "output_type": "stream",
     "text": [
      "Número de valores únicos: 293697\n",
      "Número de valores repetidos 1 vez: 14895\n",
      "Número de valores repetidos 2 veces: 1239\n",
      "Número de valores repetidos 3 veces: 211\n",
      "Número de valores repetidos 4 veces: 242\n",
      "Número de valores repetidos 5 veces: 45\n",
      "Número de valores repetidos 6 veces: 14\n",
      "Número de valores repetidos 7 veces: 3\n",
      "Número de valores repetidos 8 veces: 0\n",
      "Número de valores repetidos 9 veces: 0\n",
      "Número de valores repetidos 10 veces: 0\n",
      "Valores duplicados en la columna 'ra': [146.9639  146.94999 146.63167 ... 257.38367 258.13561 257.98823]\n",
      "Índices de los valores duplicados en la columna 'ra': Int64Index([     5,      7,      8,      9,     10,     12,     15,     18,\n",
      "                20,     22,\n",
      "            ...\n",
      "            329098, 329099, 329100, 329102, 329103, 329116, 329285, 329438,\n",
      "            329439, 329576],\n",
      "           dtype='int64', length=19304)\n",
      "Índices donde el valor de 'ra' es igual a 145.51241: Int64Index([167, 170], dtype='int64')\n"
     ]
    }
   ],
   "source": [
    "%run \"C:\\Users\\Cristina Quiazúa M\\Desktop\\MyBPT\\Crossmatching\\1. Datos IRAS Y SDSS.ipynb\""
   ]
  },
  {
   "cell_type": "code",
   "execution_count": 2,
   "id": "139c6341",
   "metadata": {},
   "outputs": [
    {
     "data": {
      "text/html": [
       "<div>\n",
       "<style scoped>\n",
       "    .dataframe tbody tr th:only-of-type {\n",
       "        vertical-align: middle;\n",
       "    }\n",
       "\n",
       "    .dataframe tbody tr th {\n",
       "        vertical-align: top;\n",
       "    }\n",
       "\n",
       "    .dataframe thead th {\n",
       "        text-align: right;\n",
       "    }\n",
       "</style>\n",
       "<table border=\"1\" class=\"dataframe\">\n",
       "  <thead>\n",
       "    <tr style=\"text-align: right;\">\n",
       "      <th></th>\n",
       "      <th>specobjid</th>\n",
       "      <th>ra</th>\n",
       "      <th>dec</th>\n",
       "      <th>z</th>\n",
       "      <th>h_alpha_flux</th>\n",
       "      <th>h_beta_flux</th>\n",
       "      <th>oiii_5007_flux</th>\n",
       "      <th>nii_6548_flux</th>\n",
       "      <th>nii_6584_flux</th>\n",
       "      <th>sii_6717_flux</th>\n",
       "      <th>sii_6731_flux</th>\n",
       "      <th>oi_6300_flux</th>\n",
       "      <th>class</th>\n",
       "      <th>subclass</th>\n",
       "    </tr>\n",
       "  </thead>\n",
       "  <tbody>\n",
       "    <tr>\n",
       "      <th>0</th>\n",
       "      <td>299489677444933632</td>\n",
       "      <td>146.71421</td>\n",
       "      <td>-1.041304</td>\n",
       "      <td>0.021222</td>\n",
       "      <td>472.59040</td>\n",
       "      <td>119.49560</td>\n",
       "      <td>68.39606</td>\n",
       "      <td>74.302520</td>\n",
       "      <td>224.11360</td>\n",
       "      <td>124.71150</td>\n",
       "      <td>84.18053</td>\n",
       "      <td>18.594930</td>\n",
       "      <td>b'GALAXY'</td>\n",
       "      <td>b'STARFORMING'</td>\n",
       "    </tr>\n",
       "    <tr>\n",
       "      <th>1</th>\n",
       "      <td>299490502078654464</td>\n",
       "      <td>146.62857</td>\n",
       "      <td>-0.765137</td>\n",
       "      <td>0.064656</td>\n",
       "      <td>99.40005</td>\n",
       "      <td>25.64047</td>\n",
       "      <td>21.44437</td>\n",
       "      <td>17.104640</td>\n",
       "      <td>51.59155</td>\n",
       "      <td>35.33497</td>\n",
       "      <td>21.65778</td>\n",
       "      <td>8.490424</td>\n",
       "      <td>b'GALAXY'</td>\n",
       "      <td>b'STARFORMING'</td>\n",
       "    </tr>\n",
       "    <tr>\n",
       "      <th>2</th>\n",
       "      <td>299491051364706304</td>\n",
       "      <td>146.96390</td>\n",
       "      <td>-0.545003</td>\n",
       "      <td>0.055988</td>\n",
       "      <td>181.52620</td>\n",
       "      <td>47.36650</td>\n",
       "      <td>11.85567</td>\n",
       "      <td>17.948720</td>\n",
       "      <td>54.13749</td>\n",
       "      <td>31.28298</td>\n",
       "      <td>19.16762</td>\n",
       "      <td>4.319232</td>\n",
       "      <td>b'GALAXY'</td>\n",
       "      <td>b'STARBURST'</td>\n",
       "    </tr>\n",
       "    <tr>\n",
       "      <th>3</th>\n",
       "      <td>299491051834468352</td>\n",
       "      <td>146.63167</td>\n",
       "      <td>-0.988278</td>\n",
       "      <td>0.052654</td>\n",
       "      <td>127.30580</td>\n",
       "      <td>38.33226</td>\n",
       "      <td>35.46671</td>\n",
       "      <td>8.550285</td>\n",
       "      <td>25.78963</td>\n",
       "      <td>30.26996</td>\n",
       "      <td>25.72297</td>\n",
       "      <td>6.269853</td>\n",
       "      <td>b'GALAXY'</td>\n",
       "      <td>b'STARFORMING'</td>\n",
       "    </tr>\n",
       "    <tr>\n",
       "      <th>4</th>\n",
       "      <td>299492700632147968</td>\n",
       "      <td>146.59272</td>\n",
       "      <td>-0.760256</td>\n",
       "      <td>0.065024</td>\n",
       "      <td>211.50180</td>\n",
       "      <td>53.18228</td>\n",
       "      <td>15.59901</td>\n",
       "      <td>25.314650</td>\n",
       "      <td>76.35482</td>\n",
       "      <td>41.63770</td>\n",
       "      <td>28.47964</td>\n",
       "      <td>7.211103</td>\n",
       "      <td>b'GALAXY'</td>\n",
       "      <td>b'STARFORMING'</td>\n",
       "    </tr>\n",
       "  </tbody>\n",
       "</table>\n",
       "</div>"
      ],
      "text/plain": [
       "            specobjid         ra       dec         z  h_alpha_flux  \\\n",
       "0  299489677444933632  146.71421 -1.041304  0.021222     472.59040   \n",
       "1  299490502078654464  146.62857 -0.765137  0.064656      99.40005   \n",
       "2  299491051364706304  146.96390 -0.545003  0.055988     181.52620   \n",
       "3  299491051834468352  146.63167 -0.988278  0.052654     127.30580   \n",
       "4  299492700632147968  146.59272 -0.760256  0.065024     211.50180   \n",
       "\n",
       "   h_beta_flux  oiii_5007_flux  nii_6548_flux  nii_6584_flux  sii_6717_flux  \\\n",
       "0    119.49560        68.39606      74.302520      224.11360      124.71150   \n",
       "1     25.64047        21.44437      17.104640       51.59155       35.33497   \n",
       "2     47.36650        11.85567      17.948720       54.13749       31.28298   \n",
       "3     38.33226        35.46671       8.550285       25.78963       30.26996   \n",
       "4     53.18228        15.59901      25.314650       76.35482       41.63770   \n",
       "\n",
       "   sii_6731_flux  oi_6300_flux      class        subclass  \n",
       "0       84.18053     18.594930  b'GALAXY'  b'STARFORMING'  \n",
       "1       21.65778      8.490424  b'GALAXY'  b'STARFORMING'  \n",
       "2       19.16762      4.319232  b'GALAXY'    b'STARBURST'  \n",
       "3       25.72297      6.269853  b'GALAXY'  b'STARFORMING'  \n",
       "4       28.47964      7.211103  b'GALAXY'  b'STARFORMING'  "
      ]
     },
     "execution_count": 2,
     "metadata": {},
     "output_type": "execute_result"
    }
   ],
   "source": [
    "SDSS[0:5]"
   ]
  },
  {
   "cell_type": "code",
   "execution_count": 3,
   "id": "532a403f",
   "metadata": {},
   "outputs": [
    {
     "data": {
      "text/plain": [
       "310346"
      ]
     },
     "execution_count": 3,
     "metadata": {},
     "output_type": "execute_result"
    }
   ],
   "source": [
    "len(SDSS)"
   ]
  },
  {
   "cell_type": "code",
   "execution_count": 4,
   "id": "dd432b0a",
   "metadata": {},
   "outputs": [
    {
     "data": {
      "text/plain": [
       "pandas.core.frame.DataFrame"
      ]
     },
     "execution_count": 4,
     "metadata": {},
     "output_type": "execute_result"
    }
   ],
   "source": [
    "type(SDSS)"
   ]
  },
  {
   "cell_type": "code",
   "execution_count": 5,
   "id": "71916750",
   "metadata": {},
   "outputs": [],
   "source": [
    "#Convertir pandas.core.frame.DataFrame a astropy.table.table.Table\n",
    "astropy_table = Table.from_pandas(SDSS)"
   ]
  },
  {
   "cell_type": "code",
   "execution_count": 6,
   "id": "8ac87007",
   "metadata": {},
   "outputs": [
    {
     "data": {
      "text/plain": [
       "astropy.table.table.Table"
      ]
     },
     "execution_count": 6,
     "metadata": {},
     "output_type": "execute_result"
    }
   ],
   "source": [
    "type(astropy_table)"
   ]
  },
  {
   "cell_type": "code",
   "execution_count": 7,
   "id": "829df17a",
   "metadata": {},
   "outputs": [],
   "source": [
    "data = astropy_table"
   ]
  },
  {
   "cell_type": "markdown",
   "id": "7635e578",
   "metadata": {},
   "source": [
    "## Razones"
   ]
  },
  {
   "cell_type": "code",
   "execution_count": 8,
   "id": "687753a9",
   "metadata": {},
   "outputs": [],
   "source": [
    "ejey_OHb=np.log((data['oiii_5007_flux'])/(data['h_beta_flux']))\n",
    "\n",
    "ejex_NH=np.log((data['nii_6548_flux']+data['nii_6584_flux'])/data['h_alpha_flux'])\n",
    "ejex_SH=np.log((data['sii_6717_flux']+data['sii_6731_flux'])/data['h_alpha_flux'])\n",
    "ejex_OH=np.log((data['oi_6300_flux'])/(data['h_alpha_flux']))"
   ]
  },
  {
   "cell_type": "code",
   "execution_count": 9,
   "id": "611301dc",
   "metadata": {},
   "outputs": [],
   "source": [
    "# Ingresar las columnas de razones a la data.\n",
    "data.add_column(ejey_OHb, name='Ejey_OHB')\n",
    "data.add_column(ejex_NH, name='Ejex_NH')\n",
    "data.add_column(ejex_SH, name='Ejex_SH')\n",
    "data.add_column(ejex_OH, name='Ejex_OH')"
   ]
  },
  {
   "cell_type": "code",
   "execution_count": 10,
   "id": "6872ff98",
   "metadata": {},
   "outputs": [
    {
     "data": {
      "text/html": [
       "<div><i>Table length=4</i>\n",
       "<table id=\"table1845835436480\" class=\"table-striped table-bordered table-condensed\">\n",
       "<thead><tr><th>specobjid</th><th>ra</th><th>dec</th><th>z</th><th>h_alpha_flux</th><th>h_beta_flux</th><th>oiii_5007_flux</th><th>nii_6548_flux</th><th>nii_6584_flux</th><th>sii_6717_flux</th><th>sii_6731_flux</th><th>oi_6300_flux</th><th>class</th><th>subclass</th><th>Ejey_OHB</th><th>Ejex_NH</th><th>Ejex_SH</th><th>Ejex_OH</th></tr></thead>\n",
       "<thead><tr><th>int64</th><th>float64</th><th>float64</th><th>float64</th><th>float64</th><th>float64</th><th>float64</th><th>float64</th><th>float64</th><th>float64</th><th>float64</th><th>float64</th><th>bytes6</th><th>bytes11</th><th>float64</th><th>float64</th><th>float64</th><th>float64</th></tr></thead>\n",
       "<tr><td>299490502078654464</td><td>146.62857</td><td>-0.76513683</td><td>0.06465632</td><td>99.40005</td><td>25.64047</td><td>21.44437</td><td>17.10464</td><td>51.59155</td><td>35.33497</td><td>21.65778</td><td>8.490424</td><td>GALAXY</td><td>STARFORMING</td><td>-0.17870982255764298</td><td>-0.3694588775053708</td><td>-0.5562285499181298</td><td>-2.460213676497085</td></tr>\n",
       "<tr><td>299491051364706304</td><td>146.9639</td><td>-0.54500256</td><td>0.05598787</td><td>181.5262</td><td>47.3665</td><td>11.85567</td><td>17.94872</td><td>54.13749</td><td>31.28298</td><td>19.16762</td><td>4.319232</td><td>GALAXY</td><td>STARBURST</td><td>-1.3851089936216554</td><td>-0.9235372320421027</td><td>-1.2804053562119218</td><td>-3.73832238723025</td></tr>\n",
       "<tr><td>299491051834468352</td><td>146.63167</td><td>-0.98827781</td><td>0.05265425</td><td>127.3058</td><td>38.33226</td><td>35.46671</td><td>8.550285</td><td>25.78963</td><td>30.26996</td><td>25.72297</td><td>6.269853</td><td>GALAXY</td><td>STARFORMING</td><td>-0.07769732925993379</td><td>-1.310283685972076</td><td>-0.82136663342587</td><td>-3.010839156796902</td></tr>\n",
       "<tr><td>299492700632147968</td><td>146.59272</td><td>-0.76025604</td><td>0.06502353</td><td>211.5018</td><td>53.18228</td><td>15.59901</td><td>25.31465</td><td>76.35482</td><td>41.6377</td><td>28.47964</td><td>7.211103</td><td>GALAXY</td><td>STARFORMING</td><td>-1.2265178074532048</td><td>-0.7325064477587709</td><td>-1.104063384723556</td><td>-3.378611587522619</td></tr>\n",
       "</table></div>"
      ],
      "text/plain": [
       "<Table length=4>\n",
       "    specobjid          ra    ...       Ejex_SH            Ejex_OH      \n",
       "      int64         float64  ...       float64            float64      \n",
       "------------------ --------- ... ------------------- ------------------\n",
       "299490502078654464 146.62857 ... -0.5562285499181298 -2.460213676497085\n",
       "299491051364706304  146.9639 ... -1.2804053562119218  -3.73832238723025\n",
       "299491051834468352 146.63167 ...   -0.82136663342587 -3.010839156796902\n",
       "299492700632147968 146.59272 ...  -1.104063384723556 -3.378611587522619"
      ]
     },
     "execution_count": 10,
     "metadata": {},
     "output_type": "execute_result"
    }
   ],
   "source": [
    "data[1:5]"
   ]
  },
  {
   "cell_type": "markdown",
   "id": "42463fe6",
   "metadata": {},
   "source": [
    "## 1.2 Para NII.\n",
    "\n",
    "a. Infrarroja = Abajo de Kauffmann  \n",
    "b. Compuesta = Arriba de Kauffmann y abajo de Kewley (Intermedias)   \n",
    "c. LINER = Arriba de Kewley y abajo de Seyfert-LINER   \n",
    "d. Seyfert = Arriba de Kewley y arrriba de Seyfert-LINER.       \n",
    "\n",
    "aa. Etiquetado gráfico a  \n",
    "bb. Etiquetado gráfico b  \n",
    "cc. Etiquetado gráfico c  \n",
    "dd. Etiquetado gráfico d   "
   ]
  },
  {
   "cell_type": "markdown",
   "id": "fb70c024",
   "metadata": {},
   "source": [
    "### 1.2 Para NII. \n",
    "### a. Infrarroja = Abajo de Kauffmann "
   ]
  },
  {
   "cell_type": "code",
   "execution_count": 11,
   "id": "062122a2",
   "metadata": {},
   "outputs": [],
   "source": [
    "# Convertir la tabla de datos en un DataFrame de Pandas\n",
    "df = data.to_pandas()"
   ]
  },
  {
   "cell_type": "code",
   "execution_count": 12,
   "id": "58b5eb80",
   "metadata": {},
   "outputs": [],
   "source": [
    "# Filtrar los datos que están por debajo de la línea de Kauffmann y tienen log [NII] /Hα <= 0\n",
    "filtrados = df.query(\"Ejey_OHB <= (1.3 + (0.61 / (Ejex_NH - 0.05))) and Ejex_NH <= 0\")"
   ]
  },
  {
   "cell_type": "code",
   "execution_count": 13,
   "id": "f18514cb",
   "metadata": {},
   "outputs": [
    {
     "data": {
      "text/plain": [
       "[<matplotlib.lines.Line2D at 0x1adcda79490>]"
      ]
     },
     "execution_count": 13,
     "metadata": {},
     "output_type": "execute_result"
    },
    {
     "data": {
      "image/png": "[encoded data removed]",
      "text/plain": [
       "<Figure size 432x288 with 1 Axes>"
      ]
     },
     "metadata": {
      "needs_background": "light"
     },
     "output_type": "display_data"
    }
   ],
   "source": [
    "fig = plt.figure()\n",
    "ax = fig.add_subplot()\n",
    "ax.scatter(filtrados[\"Ejex_NH\"], filtrados[\"Ejey_OHB\"], marker=\".\", color=\"indigo\")\n",
    "\n",
    "# Cuadrado:\n",
    "ax.set_xlim(-5, 1.5)\n",
    "ax.set_ylim(-4, 4)\n",
    "plt.title('Gráfico a: Preetiquetado de galaxias infrarrojas.')\n",
    "plt.ylabel('log [O III]/ Hβ')\n",
    "plt.xlabel('log [NII] /Hα')\n",
    "\n",
    "# Kauffmann\n",
    "x2 = np.linspace(-10,0)\n",
    "y2 = 1.3 + (0.61/(x2-0.05))\n",
    "plt.plot(x2, y2, '--', color='blue', lw=2, label='Kauffman')"
   ]
  },
  {
   "cell_type": "markdown",
   "id": "ce19e1ce",
   "metadata": {},
   "source": [
    "## 1.2 Para NII.\n",
    "## a. Infrarroja = Abajo de Kauffmann   \n",
    "## aa. Etiquetado gráfico a"
   ]
  },
  {
   "cell_type": "code",
   "execution_count": 14,
   "id": "9225e1c4",
   "metadata": {},
   "outputs": [],
   "source": [
    "# Agregar una nueva columna \"Infrarroja\" al DataFrame con los valores \"1\" o \"0\"\n",
    "df[\"Infrarroja\"] = df.apply(lambda row: 1 if (row[\"Ejey_OHB\"] <= (1.3 + (0.61 / (row[\"Ejex_NH\"] - 0.05)))) and (row[\"Ejex_NH\"] <= 0) else \"0\", axis=1)"
   ]
  },
  {
   "cell_type": "code",
   "execution_count": 15,
   "id": "e8ce1225",
   "metadata": {},
   "outputs": [
    {
     "data": {
      "text/html": [
       "<div>\n",
       "<style scoped>\n",
       "    .dataframe tbody tr th:only-of-type {\n",
       "        vertical-align: middle;\n",
       "    }\n",
       "\n",
       "    .dataframe tbody tr th {\n",
       "        vertical-align: top;\n",
       "    }\n",
       "\n",
       "    .dataframe thead th {\n",
       "        text-align: right;\n",
       "    }\n",
       "</style>\n",
       "<table border=\"1\" class=\"dataframe\">\n",
       "  <thead>\n",
       "    <tr style=\"text-align: right;\">\n",
       "      <th></th>\n",
       "      <th>specobjid</th>\n",
       "      <th>ra</th>\n",
       "      <th>dec</th>\n",
       "      <th>z</th>\n",
       "      <th>h_alpha_flux</th>\n",
       "      <th>h_beta_flux</th>\n",
       "      <th>oiii_5007_flux</th>\n",
       "      <th>nii_6548_flux</th>\n",
       "      <th>nii_6584_flux</th>\n",
       "      <th>sii_6717_flux</th>\n",
       "      <th>sii_6731_flux</th>\n",
       "      <th>oi_6300_flux</th>\n",
       "      <th>class</th>\n",
       "      <th>subclass</th>\n",
       "      <th>Ejey_OHB</th>\n",
       "      <th>Ejex_NH</th>\n",
       "      <th>Ejex_SH</th>\n",
       "      <th>Ejex_OH</th>\n",
       "      <th>Infrarroja</th>\n",
       "    </tr>\n",
       "  </thead>\n",
       "  <tbody>\n",
       "    <tr>\n",
       "      <th>10</th>\n",
       "      <td>299500947439118336</td>\n",
       "      <td>146.56561</td>\n",
       "      <td>-1.084742</td>\n",
       "      <td>0.097556</td>\n",
       "      <td>169.8101</td>\n",
       "      <td>24.93788</td>\n",
       "      <td>135.89970</td>\n",
       "      <td>82.52895</td>\n",
       "      <td>248.92640</td>\n",
       "      <td>98.01175</td>\n",
       "      <td>76.62032</td>\n",
       "      <td>37.835190</td>\n",
       "      <td>b'GALAXY'</td>\n",
       "      <td>b'BROADLINE'</td>\n",
       "      <td>1.695529</td>\n",
       "      <td>0.668812</td>\n",
       "      <td>0.028001</td>\n",
       "      <td>-1.501441</td>\n",
       "      <td>0</td>\n",
       "    </tr>\n",
       "    <tr>\n",
       "      <th>11</th>\n",
       "      <td>299501497194932224</td>\n",
       "      <td>146.30548</td>\n",
       "      <td>-1.130551</td>\n",
       "      <td>0.154813</td>\n",
       "      <td>332.5545</td>\n",
       "      <td>73.13292</td>\n",
       "      <td>26.21341</td>\n",
       "      <td>31.17401</td>\n",
       "      <td>94.02802</td>\n",
       "      <td>51.57239</td>\n",
       "      <td>30.87200</td>\n",
       "      <td>25.812260</td>\n",
       "      <td>b'GALAXY'</td>\n",
       "      <td>b'STARBURST'</td>\n",
       "      <td>-1.026007</td>\n",
       "      <td>-0.976875</td>\n",
       "      <td>-1.394680</td>\n",
       "      <td>-2.555954</td>\n",
       "      <td>1</td>\n",
       "    </tr>\n",
       "    <tr>\n",
       "      <th>12</th>\n",
       "      <td>299503421340280832</td>\n",
       "      <td>146.51283</td>\n",
       "      <td>-0.845765</td>\n",
       "      <td>0.064902</td>\n",
       "      <td>1151.2110</td>\n",
       "      <td>257.94090</td>\n",
       "      <td>95.84792</td>\n",
       "      <td>186.80880</td>\n",
       "      <td>563.45860</td>\n",
       "      <td>194.40220</td>\n",
       "      <td>153.68080</td>\n",
       "      <td>32.057770</td>\n",
       "      <td>b'GALAXY'</td>\n",
       "      <td>b'STARFORMING'</td>\n",
       "      <td>-0.989968</td>\n",
       "      <td>-0.428140</td>\n",
       "      <td>-1.196129</td>\n",
       "      <td>-3.581030</td>\n",
       "      <td>1</td>\n",
       "    </tr>\n",
       "    <tr>\n",
       "      <th>13</th>\n",
       "      <td>299504520851908608</td>\n",
       "      <td>146.57273</td>\n",
       "      <td>-1.060836</td>\n",
       "      <td>0.060614</td>\n",
       "      <td>144.6518</td>\n",
       "      <td>30.73027</td>\n",
       "      <td>10.57220</td>\n",
       "      <td>18.58332</td>\n",
       "      <td>56.05157</td>\n",
       "      <td>31.04092</td>\n",
       "      <td>17.30779</td>\n",
       "      <td>6.340064</td>\n",
       "      <td>b'GALAXY'</td>\n",
       "      <td>b'STARFORMING'</td>\n",
       "      <td>-1.067020</td>\n",
       "      <td>-0.661721</td>\n",
       "      <td>-1.095890</td>\n",
       "      <td>-3.127441</td>\n",
       "      <td>1</td>\n",
       "    </tr>\n",
       "    <tr>\n",
       "      <th>14</th>\n",
       "      <td>299506444527495168</td>\n",
       "      <td>146.86432</td>\n",
       "      <td>-0.464072</td>\n",
       "      <td>0.065152</td>\n",
       "      <td>451.1271</td>\n",
       "      <td>104.85060</td>\n",
       "      <td>15.12925</td>\n",
       "      <td>50.27374</td>\n",
       "      <td>151.63720</td>\n",
       "      <td>64.19861</td>\n",
       "      <td>42.08566</td>\n",
       "      <td>6.879756</td>\n",
       "      <td>b'GALAXY'</td>\n",
       "      <td>b'STARFORMING'</td>\n",
       "      <td>-1.935907</td>\n",
       "      <td>-0.803922</td>\n",
       "      <td>-1.445632</td>\n",
       "      <td>-4.183166</td>\n",
       "      <td>1</td>\n",
       "    </tr>\n",
       "  </tbody>\n",
       "</table>\n",
       "</div>"
      ],
      "text/plain": [
       "             specobjid         ra       dec         z  h_alpha_flux  \\\n",
       "10  299500947439118336  146.56561 -1.084742  0.097556      169.8101   \n",
       "11  299501497194932224  146.30548 -1.130551  0.154813      332.5545   \n",
       "12  299503421340280832  146.51283 -0.845765  0.064902     1151.2110   \n",
       "13  299504520851908608  146.57273 -1.060836  0.060614      144.6518   \n",
       "14  299506444527495168  146.86432 -0.464072  0.065152      451.1271   \n",
       "\n",
       "    h_beta_flux  oiii_5007_flux  nii_6548_flux  nii_6584_flux  sii_6717_flux  \\\n",
       "10     24.93788       135.89970       82.52895      248.92640       98.01175   \n",
       "11     73.13292        26.21341       31.17401       94.02802       51.57239   \n",
       "12    257.94090        95.84792      186.80880      563.45860      194.40220   \n",
       "13     30.73027        10.57220       18.58332       56.05157       31.04092   \n",
       "14    104.85060        15.12925       50.27374      151.63720       64.19861   \n",
       "\n",
       "    sii_6731_flux  oi_6300_flux      class        subclass  Ejey_OHB  \\\n",
       "10       76.62032     37.835190  b'GALAXY'    b'BROADLINE'  1.695529   \n",
       "11       30.87200     25.812260  b'GALAXY'    b'STARBURST' -1.026007   \n",
       "12      153.68080     32.057770  b'GALAXY'  b'STARFORMING' -0.989968   \n",
       "13       17.30779      6.340064  b'GALAXY'  b'STARFORMING' -1.067020   \n",
       "14       42.08566      6.879756  b'GALAXY'  b'STARFORMING' -1.935907   \n",
       "\n",
       "     Ejex_NH   Ejex_SH   Ejex_OH Infrarroja  \n",
       "10  0.668812  0.028001 -1.501441          0  \n",
       "11 -0.976875 -1.394680 -2.555954          1  \n",
       "12 -0.428140 -1.196129 -3.581030          1  \n",
       "13 -0.661721 -1.095890 -3.127441          1  \n",
       "14 -0.803922 -1.445632 -4.183166          1  "
      ]
     },
     "execution_count": 15,
     "metadata": {},
     "output_type": "execute_result"
    }
   ],
   "source": [
    "df[10:15]"
   ]
  },
  {
   "cell_type": "code",
   "execution_count": 16,
   "id": "5404f985",
   "metadata": {},
   "outputs": [
    {
     "data": {
      "text/plain": [
       "252625"
      ]
     },
     "execution_count": 16,
     "metadata": {},
     "output_type": "execute_result"
    }
   ],
   "source": [
    "conteo_infrarrojas = df[\"Infrarroja\"].value_counts()[1]\n",
    "conteo_infrarrojas"
   ]
  },
  {
   "cell_type": "code",
   "execution_count": 17,
   "id": "ae8c8d95",
   "metadata": {},
   "outputs": [
    {
     "data": {
      "text/plain": [
       "57721"
      ]
     },
     "execution_count": 17,
     "metadata": {},
     "output_type": "execute_result"
    }
   ],
   "source": [
    "conteo_0 = df[\"Infrarroja\"].value_counts()[\"0\"]\n",
    "conteo_0"
   ]
  },
  {
   "cell_type": "code",
   "execution_count": 18,
   "id": "1abc1297",
   "metadata": {},
   "outputs": [
    {
     "data": {
      "text/plain": [
       "20000"
      ]
     },
     "execution_count": 18,
     "metadata": {},
     "output_type": "execute_result"
    }
   ],
   "source": [
    "suma=16228+3772\n",
    "suma"
   ]
  },
  {
   "cell_type": "markdown",
   "id": "00e8e86c",
   "metadata": {},
   "source": [
    "## 1.2 Para NII.\n",
    "## b. Compuesta = Arriba de Kauffmann y abajo de Kewley (Intermedias)   "
   ]
  },
  {
   "cell_type": "code",
   "execution_count": 19,
   "id": "57df1171",
   "metadata": {},
   "outputs": [],
   "source": [
    "# Kewley\n",
    "x1 = np.linspace(-10, 0.4)  \n",
    "y1 = 1.19 + (0.61/(x1 - 0.47))\n",
    "\n",
    "# Kauffmann\n",
    "x2 = np.linspace(-10, 0)\n",
    "y2 = 1.3 + (0.61/(x2 - 0.05))"
   ]
  },
  {
   "cell_type": "code",
   "execution_count": 20,
   "id": "ce48c1de",
   "metadata": {},
   "outputs": [],
   "source": [
    "# Filtrar los datos entre las curvas de Kauffmann y Kewley\n",
    "interp_y1 = np.interp(df[\"Ejex_NH\"], x1, y1) # Kew\n",
    "interp_y2 = np.interp(df[\"Ejex_NH\"], x2, y2) # Kauff\n",
    "\n",
    "indices = np.where((df[\"Ejey_OHB\"] < interp_y1) & (df[\"Ejey_OHB\"] > interp_y2))\n",
    "datos_entre_kauffmann_kewley = df.loc[indices]"
   ]
  },
  {
   "cell_type": "code",
   "execution_count": 21,
   "id": "5dedd10c",
   "metadata": {},
   "outputs": [
    {
     "data": {
      "text/plain": [
       "Text(0.5, 0, 'log [NII] /Hα')"
      ]
     },
     "execution_count": 21,
     "metadata": {},
     "output_type": "execute_result"
    },
    {
     "data": {
      "image/png": "[encoded data removed]",
      "text/plain": [
       "<Figure size 432x288 with 1 Axes>"
      ]
     },
     "metadata": {
      "needs_background": "light"
     },
     "output_type": "display_data"
    }
   ],
   "source": [
    "# Graficar los datos\n",
    "fig = plt.figure()\n",
    "ax = fig.add_subplot()\n",
    "\n",
    "ax.scatter(datos_entre_kauffmann_kewley[\"Ejex_NH\"], datos_entre_kauffmann_kewley[\"Ejey_OHB\"], marker=\".\", color=\"maroon\")\n",
    "\n",
    "ax.set_xlim([-4, 1.5])\n",
    "ax.set_ylim([-4, 4])\n",
    "\n",
    "plt.title('Etiquetado Compuestas')\n",
    "plt.ylabel('log [O III]/ Hβ')\n",
    "plt.xlabel('log [NII] /Hα')"
   ]
  },
  {
   "cell_type": "code",
   "execution_count": 22,
   "id": "f473446f",
   "metadata": {},
   "outputs": [],
   "source": [
    "# La otra porcion: "
   ]
  },
  {
   "cell_type": "code",
   "execution_count": 23,
   "id": "75e479b4",
   "metadata": {},
   "outputs": [],
   "source": [
    "# Obtener los datos que están entre Kauffmann y Kewley\n",
    "x1 = np.linspace(-4, 0.4)\n",
    "y1 = 1.19 + (0.61 / (x1 - 0.47))\n",
    "\n",
    "x2 = np.linspace(-4, 0)\n",
    "y2 = 1.3 + (0.61 / (x2 - 0.05))\n",
    "\n",
    "interp_y1 = np.interp(df[\"Ejex_NH\"], x1, y1)\n",
    "interp_y2 = np.interp(df[\"Ejex_NH\"], x2, y2)\n",
    "\n",
    "indices = np.where((df[\"Ejey_OHB\"] < interp_y2) & (df[\"Ejey_OHB\"] > interp_y1))\n",
    "\n",
    "datos_entre_kauffmann_kewley = df.loc[indices]"
   ]
  },
  {
   "cell_type": "code",
   "execution_count": 24,
   "id": "2d2ee721",
   "metadata": {},
   "outputs": [
    {
     "data": {
      "text/plain": [
       "Text(0.5, 0, 'log [NII] /Hα')"
      ]
     },
     "execution_count": 24,
     "metadata": {},
     "output_type": "execute_result"
    },
    {
     "data": {
      "image/png": "[encoded data removed]",
      "text/plain": [
       "<Figure size 432x288 with 1 Axes>"
      ]
     },
     "metadata": {
      "needs_background": "light"
     },
     "output_type": "display_data"
    }
   ],
   "source": [
    "# Graficar los datos\n",
    "fig = plt.figure()\n",
    "ax = fig.add_subplot()\n",
    "\n",
    "ax.scatter(datos_entre_kauffmann_kewley[\"Ejex_NH\"], datos_entre_kauffmann_kewley[\"Ejey_OHB\"], marker=\".\", color=\"firebrick\")\n",
    "\n",
    "ax.set_xlim([-4, 1.5])\n",
    "ax.set_ylim([-4, 4])\n",
    "\n",
    "plt.title('Etiquetado Compuestas')\n",
    "plt.ylabel('log [O III]/ Hβ')\n",
    "plt.xlabel('log [NII] /Hα')"
   ]
  },
  {
   "cell_type": "code",
   "execution_count": 25,
   "id": "e665419b",
   "metadata": {},
   "outputs": [],
   "source": [
    "# Ahora todo junto"
   ]
  },
  {
   "cell_type": "code",
   "execution_count": 26,
   "id": "13e17d49",
   "metadata": {},
   "outputs": [],
   "source": [
    "# Kewley\n",
    "x1 = np.linspace(-10, 0.4)  \n",
    "y1 = 1.19 + (0.61/(x1-0.47))\n",
    "\n",
    "# Kauffmann\n",
    "x2 = np.linspace(-10,0)\n",
    "y2 = 1.3 + (0.61/(x2 - 0.05))"
   ]
  },
  {
   "cell_type": "code",
   "execution_count": 27,
   "id": "113c3891",
   "metadata": {},
   "outputs": [],
   "source": [
    "# Filtrar los datos entre las curvas de Kauffmann y Kewley\n",
    "interp_y1 = np.interp(df[\"Ejex_NH\"], x1, y1)  # Kew\n",
    "interp_y2 = np.interp(df[\"Ejex_NH\"], x2, y2)  # Kauff\n",
    "\n",
    "indices1 = np.where((df[\"Ejey_OHB\"] < interp_y1) & (df[\"Ejey_OHB\"] > interp_y2))\n",
    "datos_entre_kauffmann_kewley1 = df.loc[indices1]\n",
    "\n",
    "indices2 = np.where((df[\"Ejey_OHB\"] < interp_y2) & (df[\"Ejey_OHB\"] > interp_y1))\n",
    "datos_entre_kauffmann_kewley2 = df.loc[indices2]"
   ]
  },
  {
   "cell_type": "code",
   "execution_count": 28,
   "id": "760624ef",
   "metadata": {},
   "outputs": [
    {
     "data": {
      "text/plain": [
       "Text(0.5, 0, 'log [NII] /Hα')"
      ]
     },
     "execution_count": 28,
     "metadata": {},
     "output_type": "execute_result"
    },
    {
     "data": {
      "image/png": "[encoded data removed]",
      "text/plain": [
       "<Figure size 432x288 with 1 Axes>"
      ]
     },
     "metadata": {
      "needs_background": "light"
     },
     "output_type": "display_data"
    }
   ],
   "source": [
    "# Graficar los datos\n",
    "fig = plt.figure()\n",
    "ax = fig.add_subplot()\n",
    "\n",
    "ax.scatter(datos_entre_kauffmann_kewley1[\"Ejex_NH\"], datos_entre_kauffmann_kewley1[\"Ejey_OHB\"], marker=\".\", color=\"maroon\")\n",
    "ax.scatter(datos_entre_kauffmann_kewley2[\"Ejex_NH\"], datos_entre_kauffmann_kewley2[\"Ejey_OHB\"], marker=\".\", color=\"firebrick\")\n",
    "\n",
    "ax.set_xlim([-4, 1.5])\n",
    "ax.set_ylim([-4, 4])\n",
    "\n",
    "# Agregar las líneas de Kauffmann y Kewley al mismo gráfico\n",
    "# ax.plot(x1, y1, '-', color='red', lw=2, label='Kewley')\n",
    "# ax.plot(x2, y2, '--', color='blue', lw=2, label='Kauffmann')\n",
    "\n",
    "plt.title('Gráfico a: Preetiquetado de galaxias compuestas.')\n",
    "plt.ylabel('log [O III]/ Hβ')\n",
    "plt.xlabel('log [NII] /Hα')\n",
    "# plt.legend()"
   ]
  },
  {
   "cell_type": "code",
   "execution_count": 29,
   "id": "2d2adc09",
   "metadata": {},
   "outputs": [
    {
     "data": {
      "text/plain": [
       "20828"
      ]
     },
     "execution_count": 29,
     "metadata": {},
     "output_type": "execute_result"
    }
   ],
   "source": [
    "len(datos_entre_kauffmann_kewley1)"
   ]
  },
  {
   "cell_type": "code",
   "execution_count": 30,
   "id": "0967aa0b",
   "metadata": {},
   "outputs": [
    {
     "data": {
      "text/plain": [
       "1396"
      ]
     },
     "execution_count": 30,
     "metadata": {},
     "output_type": "execute_result"
    }
   ],
   "source": [
    "len(datos_entre_kauffmann_kewley2)"
   ]
  },
  {
   "cell_type": "code",
   "execution_count": 31,
   "id": "b3aa97db",
   "metadata": {},
   "outputs": [
    {
     "data": {
      "text/plain": [
       "23417"
      ]
     },
     "execution_count": 31,
     "metadata": {},
     "output_type": "execute_result"
    }
   ],
   "source": [
    "suma= 21887+1530\n",
    "suma"
   ]
  },
  {
   "cell_type": "markdown",
   "id": "a5f98438",
   "metadata": {},
   "source": [
    "## 1.2 Para NII.\n",
    "## b. Compuesta = Arriba de Kauffmann y abajo de Kewley (Intermedias)   \n",
    "## bb. Etiquetado gráfico b"
   ]
  },
  {
   "cell_type": "code",
   "execution_count": 32,
   "id": "0575c04f",
   "metadata": {},
   "outputs": [],
   "source": [
    "# Crear la columna Etiqueta4 en df\n",
    "df[\"Combinada\"] = \"0\""
   ]
  },
  {
   "cell_type": "code",
   "execution_count": 33,
   "id": "969e2709",
   "metadata": {},
   "outputs": [],
   "source": [
    "# Obtener los índices de los datos entre las curvas de Kauffmann y Kewley\n",
    "indices1 = np.where((df[\"Ejey_OHB\"] < interp_y1) & (df[\"Ejey_OHB\"] > interp_y2))[0]\n",
    "indices2 = np.where((df[\"Ejey_OHB\"] < interp_y2) & (df[\"Ejey_OHB\"] > interp_y1))[0]"
   ]
  },
  {
   "cell_type": "code",
   "execution_count": 34,
   "id": "4d3cfe08",
   "metadata": {},
   "outputs": [],
   "source": [
    "# Asignar la etiqueta \"Combinada\" a los datos entre las curvas\n",
    "df.loc[indices1, \"Combinada\"] = 1\n",
    "df.loc[indices2, \"Combinada\"] = 1"
   ]
  },
  {
   "cell_type": "code",
   "execution_count": 35,
   "id": "ea3293a8",
   "metadata": {},
   "outputs": [
    {
     "data": {
      "text/html": [
       "<div>\n",
       "<style scoped>\n",
       "    .dataframe tbody tr th:only-of-type {\n",
       "        vertical-align: middle;\n",
       "    }\n",
       "\n",
       "    .dataframe tbody tr th {\n",
       "        vertical-align: top;\n",
       "    }\n",
       "\n",
       "    .dataframe thead th {\n",
       "        text-align: right;\n",
       "    }\n",
       "</style>\n",
       "<table border=\"1\" class=\"dataframe\">\n",
       "  <thead>\n",
       "    <tr style=\"text-align: right;\">\n",
       "      <th></th>\n",
       "      <th>specobjid</th>\n",
       "      <th>ra</th>\n",
       "      <th>dec</th>\n",
       "      <th>z</th>\n",
       "      <th>h_alpha_flux</th>\n",
       "      <th>h_beta_flux</th>\n",
       "      <th>oiii_5007_flux</th>\n",
       "      <th>nii_6548_flux</th>\n",
       "      <th>nii_6584_flux</th>\n",
       "      <th>sii_6717_flux</th>\n",
       "      <th>sii_6731_flux</th>\n",
       "      <th>oi_6300_flux</th>\n",
       "      <th>class</th>\n",
       "      <th>subclass</th>\n",
       "      <th>Ejey_OHB</th>\n",
       "      <th>Ejex_NH</th>\n",
       "      <th>Ejex_SH</th>\n",
       "      <th>Ejex_OH</th>\n",
       "      <th>Infrarroja</th>\n",
       "      <th>Combinada</th>\n",
       "    </tr>\n",
       "  </thead>\n",
       "  <tbody>\n",
       "    <tr>\n",
       "      <th>0</th>\n",
       "      <td>299489677444933632</td>\n",
       "      <td>146.71421</td>\n",
       "      <td>-1.041304</td>\n",
       "      <td>0.021222</td>\n",
       "      <td>472.59040</td>\n",
       "      <td>119.49560</td>\n",
       "      <td>68.39606</td>\n",
       "      <td>74.302520</td>\n",
       "      <td>224.11360</td>\n",
       "      <td>124.71150</td>\n",
       "      <td>84.18053</td>\n",
       "      <td>18.594930</td>\n",
       "      <td>b'GALAXY'</td>\n",
       "      <td>b'STARFORMING'</td>\n",
       "      <td>-0.557964</td>\n",
       "      <td>-0.459740</td>\n",
       "      <td>-0.816412</td>\n",
       "      <td>-3.235340</td>\n",
       "      <td>1</td>\n",
       "      <td>0</td>\n",
       "    </tr>\n",
       "    <tr>\n",
       "      <th>1</th>\n",
       "      <td>299490502078654464</td>\n",
       "      <td>146.62857</td>\n",
       "      <td>-0.765137</td>\n",
       "      <td>0.064656</td>\n",
       "      <td>99.40005</td>\n",
       "      <td>25.64047</td>\n",
       "      <td>21.44437</td>\n",
       "      <td>17.104640</td>\n",
       "      <td>51.59155</td>\n",
       "      <td>35.33497</td>\n",
       "      <td>21.65778</td>\n",
       "      <td>8.490424</td>\n",
       "      <td>b'GALAXY'</td>\n",
       "      <td>b'STARFORMING'</td>\n",
       "      <td>-0.178710</td>\n",
       "      <td>-0.369459</td>\n",
       "      <td>-0.556229</td>\n",
       "      <td>-2.460214</td>\n",
       "      <td>1</td>\n",
       "      <td>1</td>\n",
       "    </tr>\n",
       "    <tr>\n",
       "      <th>2</th>\n",
       "      <td>299491051364706304</td>\n",
       "      <td>146.96390</td>\n",
       "      <td>-0.545003</td>\n",
       "      <td>0.055988</td>\n",
       "      <td>181.52620</td>\n",
       "      <td>47.36650</td>\n",
       "      <td>11.85567</td>\n",
       "      <td>17.948720</td>\n",
       "      <td>54.13749</td>\n",
       "      <td>31.28298</td>\n",
       "      <td>19.16762</td>\n",
       "      <td>4.319232</td>\n",
       "      <td>b'GALAXY'</td>\n",
       "      <td>b'STARBURST'</td>\n",
       "      <td>-1.385109</td>\n",
       "      <td>-0.923537</td>\n",
       "      <td>-1.280405</td>\n",
       "      <td>-3.738322</td>\n",
       "      <td>1</td>\n",
       "      <td>0</td>\n",
       "    </tr>\n",
       "    <tr>\n",
       "      <th>3</th>\n",
       "      <td>299491051834468352</td>\n",
       "      <td>146.63167</td>\n",
       "      <td>-0.988278</td>\n",
       "      <td>0.052654</td>\n",
       "      <td>127.30580</td>\n",
       "      <td>38.33226</td>\n",
       "      <td>35.46671</td>\n",
       "      <td>8.550285</td>\n",
       "      <td>25.78963</td>\n",
       "      <td>30.26996</td>\n",
       "      <td>25.72297</td>\n",
       "      <td>6.269853</td>\n",
       "      <td>b'GALAXY'</td>\n",
       "      <td>b'STARFORMING'</td>\n",
       "      <td>-0.077697</td>\n",
       "      <td>-1.310284</td>\n",
       "      <td>-0.821367</td>\n",
       "      <td>-3.010839</td>\n",
       "      <td>1</td>\n",
       "      <td>0</td>\n",
       "    </tr>\n",
       "    <tr>\n",
       "      <th>4</th>\n",
       "      <td>299492700632147968</td>\n",
       "      <td>146.59272</td>\n",
       "      <td>-0.760256</td>\n",
       "      <td>0.065024</td>\n",
       "      <td>211.50180</td>\n",
       "      <td>53.18228</td>\n",
       "      <td>15.59901</td>\n",
       "      <td>25.314650</td>\n",
       "      <td>76.35482</td>\n",
       "      <td>41.63770</td>\n",
       "      <td>28.47964</td>\n",
       "      <td>7.211103</td>\n",
       "      <td>b'GALAXY'</td>\n",
       "      <td>b'STARFORMING'</td>\n",
       "      <td>-1.226518</td>\n",
       "      <td>-0.732506</td>\n",
       "      <td>-1.104063</td>\n",
       "      <td>-3.378612</td>\n",
       "      <td>1</td>\n",
       "      <td>0</td>\n",
       "    </tr>\n",
       "  </tbody>\n",
       "</table>\n",
       "</div>"
      ],
      "text/plain": [
       "            specobjid         ra       dec         z  h_alpha_flux  \\\n",
       "0  299489677444933632  146.71421 -1.041304  0.021222     472.59040   \n",
       "1  299490502078654464  146.62857 -0.765137  0.064656      99.40005   \n",
       "2  299491051364706304  146.96390 -0.545003  0.055988     181.52620   \n",
       "3  299491051834468352  146.63167 -0.988278  0.052654     127.30580   \n",
       "4  299492700632147968  146.59272 -0.760256  0.065024     211.50180   \n",
       "\n",
       "   h_beta_flux  oiii_5007_flux  nii_6548_flux  nii_6584_flux  sii_6717_flux  \\\n",
       "0    119.49560        68.39606      74.302520      224.11360      124.71150   \n",
       "1     25.64047        21.44437      17.104640       51.59155       35.33497   \n",
       "2     47.36650        11.85567      17.948720       54.13749       31.28298   \n",
       "3     38.33226        35.46671       8.550285       25.78963       30.26996   \n",
       "4     53.18228        15.59901      25.314650       76.35482       41.63770   \n",
       "\n",
       "   sii_6731_flux  oi_6300_flux      class        subclass  Ejey_OHB   Ejex_NH  \\\n",
       "0       84.18053     18.594930  b'GALAXY'  b'STARFORMING' -0.557964 -0.459740   \n",
       "1       21.65778      8.490424  b'GALAXY'  b'STARFORMING' -0.178710 -0.369459   \n",
       "2       19.16762      4.319232  b'GALAXY'    b'STARBURST' -1.385109 -0.923537   \n",
       "3       25.72297      6.269853  b'GALAXY'  b'STARFORMING' -0.077697 -1.310284   \n",
       "4       28.47964      7.211103  b'GALAXY'  b'STARFORMING' -1.226518 -0.732506   \n",
       "\n",
       "    Ejex_SH   Ejex_OH Infrarroja Combinada  \n",
       "0 -0.816412 -3.235340          1         0  \n",
       "1 -0.556229 -2.460214          1         1  \n",
       "2 -1.280405 -3.738322          1         0  \n",
       "3 -0.821367 -3.010839          1         0  \n",
       "4 -1.104063 -3.378612          1         0  "
      ]
     },
     "execution_count": 35,
     "metadata": {},
     "output_type": "execute_result"
    }
   ],
   "source": [
    "df[0:5]"
   ]
  },
  {
   "cell_type": "code",
   "execution_count": 36,
   "id": "75b63702",
   "metadata": {},
   "outputs": [
    {
     "data": {
      "text/plain": [
       "22224"
      ]
     },
     "execution_count": 36,
     "metadata": {},
     "output_type": "execute_result"
    }
   ],
   "source": [
    "count_combinada = df[\"Combinada\"].value_counts()[1]\n",
    "count_combinada"
   ]
  },
  {
   "cell_type": "markdown",
   "id": "4faf171e",
   "metadata": {},
   "source": [
    "## 1.2 Para NII.\n",
    "## c. LINER = Arriba de Kewley y abajo de Seyfert-LINER"
   ]
  },
  {
   "cell_type": "markdown",
   "id": "428608a7",
   "metadata": {},
   "source": [
    "Gráfica general AGNs:"
   ]
  },
  {
   "cell_type": "code",
   "execution_count": 37,
   "id": "eccc0aa6",
   "metadata": {},
   "outputs": [
    {
     "data": {
      "text/plain": [
       "[<matplotlib.lines.Line2D at 0x1adcdbde100>]"
      ]
     },
     "execution_count": 37,
     "metadata": {},
     "output_type": "execute_result"
    },
    {
     "data": {
      "image/png": "[encoded data removed]",
      "text/plain": [
       "<Figure size 432x288 with 1 Axes>"
      ]
     },
     "metadata": {
      "needs_background": "light"
     },
     "output_type": "display_data"
    }
   ],
   "source": [
    "indices = np.where((df[\"Ejey_OHB\"] > interp_y1) & (df[\"Ejey_OHB\"] > interp_y2))\n",
    "datos_entre_kauffmann_kewley = df.loc[indices]\n",
    "\n",
    "# Graficar los datos\n",
    "fig = plt.figure()\n",
    "ax = fig.add_subplot()\n",
    "\n",
    "ax.scatter(datos_entre_kauffmann_kewley[\"Ejex_NH\"], datos_entre_kauffmann_kewley[\"Ejey_OHB\"], marker=\".\", color=\"peru\")\n",
    "\n",
    "ax.set_xlim([-6, 4])\n",
    "ax.set_ylim([-4, 6])\n",
    "\n",
    "plt.title('Arriba de Kewley y abajo de Seyfert-LINER')\n",
    "plt.ylabel('log [O III]/ Hβ')\n",
    "plt.xlabel('log [NII] /Hα')\n",
    "\n",
    "ax.plot(x1, y1, '-', color='red', lw=2, label='Kewley')\n",
    "\n",
    "# Seyfert-LINER\n",
    "x3 = np.linspace(-0.2, 5)\n",
    "y3 = 1.01 * x3 + 0.48\n",
    "ax.plot(x3, y3, '-.', color='green', lw=2, label='Seyfert-LINER')"
   ]
  },
  {
   "cell_type": "code",
   "execution_count": 38,
   "id": "e25ae769",
   "metadata": {},
   "outputs": [
    {
     "data": {
      "text/plain": [
       "<matplotlib.legend.Legend at 0x1add1270fd0>"
      ]
     },
     "execution_count": 38,
     "metadata": {},
     "output_type": "execute_result"
    },
    {
     "data": {
      "image/png": "[encoded data removed]",
      "text/plain": [
       "<Figure size 432x288 with 1 Axes>"
      ]
     },
     "metadata": {
      "needs_background": "light"
     },
     "output_type": "display_data"
    }
   ],
   "source": [
    "fig = plt.figure()\n",
    "ax = fig.add_subplot()\n",
    "\n",
    "ax.scatter(datos_entre_kauffmann_kewley[\"Ejex_NH\"], datos_entre_kauffmann_kewley[\"Ejey_OHB\"], marker=\".\", color=\"chocolate\")\n",
    "\n",
    "ax.set_xlim([-6, 4])\n",
    "ax.set_ylim([-4, 6])\n",
    "\n",
    "\n",
    "# Línea Seyfert-LINER\n",
    "x3 = np.linspace(-0.2, 5)\n",
    "y3 = 1.01 * x3 + 0.48\n",
    "ax.plot(x3, y3, '-.', color='green', lw=2, label='Seyfert-LINER')\n",
    "\n",
    "plt.title('Seyfert-LINER')\n",
    "plt.ylabel('log [O III]/ Hβ')\n",
    "plt.xlabel('log [NII] /Hα')\n",
    "plt.legend()"
   ]
  },
  {
   "cell_type": "markdown",
   "id": "d97ad47d",
   "metadata": {},
   "source": [
    "### Abajo de Seyfert-LINER y arriba de Kewley = LINER"
   ]
  },
  {
   "cell_type": "code",
   "execution_count": 39,
   "id": "3fca9dc9",
   "metadata": {},
   "outputs": [],
   "source": [
    "interp_y3 = np.interp(df[\"Ejex_NH\"], x3, y3)"
   ]
  },
  {
   "cell_type": "code",
   "execution_count": 40,
   "id": "89c5557c",
   "metadata": {},
   "outputs": [],
   "source": [
    "# Obtener los datos por debajo de la curva Seyfert-LINER pero por encima de la curva Kewley\n",
    "indices = np.where((df[\"Ejey_OHB\"] < interp_y3) & (df[\"Ejey_OHB\"] > interp_y1))\n",
    "datos_entre_seyfert_kewley = df.loc[indices]"
   ]
  },
  {
   "cell_type": "code",
   "execution_count": 41,
   "id": "a9a352ea",
   "metadata": {},
   "outputs": [
    {
     "data": {
      "text/plain": [
       "<matplotlib.legend.Legend at 0x1add12dbee0>"
      ]
     },
     "execution_count": 41,
     "metadata": {},
     "output_type": "execute_result"
    },
    {
     "data": {
      "image/png": "[encoded data removed]",
      "text/plain": [
       "<Figure size 432x288 with 1 Axes>"
      ]
     },
     "metadata": {
      "needs_background": "light"
     },
     "output_type": "display_data"
    }
   ],
   "source": [
    "# Graficar los datos por debajo de la curva Seyfert-LINER pero por encima de la curva Kewley\n",
    "fig = plt.figure()\n",
    "ax = fig.add_subplot()\n",
    "\n",
    "ax.scatter(datos_entre_seyfert_kewley[\"Ejex_NH\"], datos_entre_seyfert_kewley[\"Ejey_OHB\"], marker=\".\", color=\"lightsalmon\")\n",
    "\n",
    "\n",
    "ax.set_xlim([-6, 4])\n",
    "ax.set_ylim([-4, 6])\n",
    "\n",
    "ax.plot(x3, y3, '-.', color='green', lw=2, label='Seyfert-LINER')\n",
    "\n",
    "plt.title('Gráfico a: Preetiquetado de galaxias LINER')\n",
    "plt.ylabel('log [O III]/ Hβ')\n",
    "plt.xlabel('log [NII] /Hα')\n",
    "plt.legend()"
   ]
  },
  {
   "cell_type": "markdown",
   "id": "4a42f534",
   "metadata": {},
   "source": [
    "## 1.2 Para NII.\n",
    "## c. LINER = Arriba de Kewley y abajo de Seyfert-LINER\n",
    "## cc. Etiquetado gráfico c"
   ]
  },
  {
   "cell_type": "code",
   "execution_count": 42,
   "id": "7cf431ba",
   "metadata": {},
   "outputs": [],
   "source": [
    "# Crear la columna Etiqueta3 en df y asignar \"0\" a todos los valores\n",
    "df[\"LINER\"] = \"0\""
   ]
  },
  {
   "cell_type": "code",
   "execution_count": 43,
   "id": "9ecd885d",
   "metadata": {},
   "outputs": [],
   "source": [
    "# Obtener los índices de los datos encima de la línea Kewley y debajo de la línea Seyfert-LINER\n",
    "indices3 = np.where((df[\"Ejey_OHB\"] < interp_y3) & (df[\"Ejey_OHB\"] > interp_y1))"
   ]
  },
  {
   "cell_type": "code",
   "execution_count": 44,
   "id": "8f092ffa",
   "metadata": {},
   "outputs": [],
   "source": [
    "# Asignar la etiqueta \"LINER\" a los datos que cumplen la condición\n",
    "df.loc[indices3[0], \"LINER\"] = 1"
   ]
  },
  {
   "cell_type": "code",
   "execution_count": 45,
   "id": "88c9922f",
   "metadata": {},
   "outputs": [
    {
     "data": {
      "text/html": [
       "<div>\n",
       "<style scoped>\n",
       "    .dataframe tbody tr th:only-of-type {\n",
       "        vertical-align: middle;\n",
       "    }\n",
       "\n",
       "    .dataframe tbody tr th {\n",
       "        vertical-align: top;\n",
       "    }\n",
       "\n",
       "    .dataframe thead th {\n",
       "        text-align: right;\n",
       "    }\n",
       "</style>\n",
       "<table border=\"1\" class=\"dataframe\">\n",
       "  <thead>\n",
       "    <tr style=\"text-align: right;\">\n",
       "      <th></th>\n",
       "      <th>specobjid</th>\n",
       "      <th>ra</th>\n",
       "      <th>dec</th>\n",
       "      <th>z</th>\n",
       "      <th>h_alpha_flux</th>\n",
       "      <th>h_beta_flux</th>\n",
       "      <th>oiii_5007_flux</th>\n",
       "      <th>nii_6548_flux</th>\n",
       "      <th>nii_6584_flux</th>\n",
       "      <th>sii_6717_flux</th>\n",
       "      <th>...</th>\n",
       "      <th>oi_6300_flux</th>\n",
       "      <th>class</th>\n",
       "      <th>subclass</th>\n",
       "      <th>Ejey_OHB</th>\n",
       "      <th>Ejex_NH</th>\n",
       "      <th>Ejex_SH</th>\n",
       "      <th>Ejex_OH</th>\n",
       "      <th>Infrarroja</th>\n",
       "      <th>Combinada</th>\n",
       "      <th>LINER</th>\n",
       "    </tr>\n",
       "  </thead>\n",
       "  <tbody>\n",
       "    <tr>\n",
       "      <th>10012</th>\n",
       "      <td>375084961604069376</td>\n",
       "      <td>185.63903</td>\n",
       "      <td>-2.025531</td>\n",
       "      <td>0.113787</td>\n",
       "      <td>236.63420</td>\n",
       "      <td>50.47549</td>\n",
       "      <td>35.885880</td>\n",
       "      <td>62.169280</td>\n",
       "      <td>187.516900</td>\n",
       "      <td>48.228320</td>\n",
       "      <td>...</td>\n",
       "      <td>17.834850</td>\n",
       "      <td>b'GALAXY'</td>\n",
       "      <td>b'AGN'</td>\n",
       "      <td>-0.341144</td>\n",
       "      <td>0.053689</td>\n",
       "      <td>-1.029303</td>\n",
       "      <td>-2.585361</td>\n",
       "      <td>0</td>\n",
       "      <td>0</td>\n",
       "      <td>1</td>\n",
       "    </tr>\n",
       "    <tr>\n",
       "      <th>10013</th>\n",
       "      <td>375085786237790208</td>\n",
       "      <td>185.58043</td>\n",
       "      <td>-2.051581</td>\n",
       "      <td>0.020578</td>\n",
       "      <td>652.12550</td>\n",
       "      <td>193.83600</td>\n",
       "      <td>338.761300</td>\n",
       "      <td>30.979140</td>\n",
       "      <td>93.440230</td>\n",
       "      <td>127.072300</td>\n",
       "      <td>...</td>\n",
       "      <td>22.316440</td>\n",
       "      <td>b'GALAXY'</td>\n",
       "      <td>b'STARFORMING'</td>\n",
       "      <td>0.558283</td>\n",
       "      <td>-1.656579</td>\n",
       "      <td>-1.179680</td>\n",
       "      <td>-3.374913</td>\n",
       "      <td>1</td>\n",
       "      <td>0</td>\n",
       "      <td>0</td>\n",
       "    </tr>\n",
       "    <tr>\n",
       "      <th>10014</th>\n",
       "      <td>375086885749417984</td>\n",
       "      <td>185.55596</td>\n",
       "      <td>-1.911560</td>\n",
       "      <td>0.071662</td>\n",
       "      <td>265.63420</td>\n",
       "      <td>63.94186</td>\n",
       "      <td>44.332970</td>\n",
       "      <td>42.022200</td>\n",
       "      <td>126.748600</td>\n",
       "      <td>45.455810</td>\n",
       "      <td>...</td>\n",
       "      <td>9.183011</td>\n",
       "      <td>b'GALAXY'</td>\n",
       "      <td>b'STARFORMING'</td>\n",
       "      <td>-0.366246</td>\n",
       "      <td>-0.453579</td>\n",
       "      <td>-1.250180</td>\n",
       "      <td>-3.364765</td>\n",
       "      <td>1</td>\n",
       "      <td>0</td>\n",
       "      <td>0</td>\n",
       "    </tr>\n",
       "    <tr>\n",
       "      <th>10015</th>\n",
       "      <td>375087435505231872</td>\n",
       "      <td>185.52538</td>\n",
       "      <td>-2.494154</td>\n",
       "      <td>0.120141</td>\n",
       "      <td>108.07980</td>\n",
       "      <td>15.88303</td>\n",
       "      <td>6.810206</td>\n",
       "      <td>12.831380</td>\n",
       "      <td>38.702420</td>\n",
       "      <td>20.423690</td>\n",
       "      <td>...</td>\n",
       "      <td>4.481755</td>\n",
       "      <td>b'GALAXY'</td>\n",
       "      <td>b'STARFORMING'</td>\n",
       "      <td>-0.846829</td>\n",
       "      <td>-0.740632</td>\n",
       "      <td>-1.128273</td>\n",
       "      <td>-3.182855</td>\n",
       "      <td>1</td>\n",
       "      <td>0</td>\n",
       "      <td>0</td>\n",
       "    </tr>\n",
       "    <tr>\n",
       "      <th>10016</th>\n",
       "      <td>375094307452905472</td>\n",
       "      <td>185.64360</td>\n",
       "      <td>-1.546461</td>\n",
       "      <td>0.021536</td>\n",
       "      <td>43.63894</td>\n",
       "      <td>16.14518</td>\n",
       "      <td>23.058880</td>\n",
       "      <td>2.751872</td>\n",
       "      <td>8.300282</td>\n",
       "      <td>9.276609</td>\n",
       "      <td>...</td>\n",
       "      <td>2.913616</td>\n",
       "      <td>b'GALAXY'</td>\n",
       "      <td>b'STARFORMING'</td>\n",
       "      <td>0.356429</td>\n",
       "      <td>-1.373325</td>\n",
       "      <td>-0.924161</td>\n",
       "      <td>-2.706555</td>\n",
       "      <td>1</td>\n",
       "      <td>0</td>\n",
       "      <td>0</td>\n",
       "    </tr>\n",
       "  </tbody>\n",
       "</table>\n",
       "<p>5 rows × 21 columns</p>\n",
       "</div>"
      ],
      "text/plain": [
       "                specobjid         ra       dec         z  h_alpha_flux  \\\n",
       "10012  375084961604069376  185.63903 -2.025531  0.113787     236.63420   \n",
       "10013  375085786237790208  185.58043 -2.051581  0.020578     652.12550   \n",
       "10014  375086885749417984  185.55596 -1.911560  0.071662     265.63420   \n",
       "10015  375087435505231872  185.52538 -2.494154  0.120141     108.07980   \n",
       "10016  375094307452905472  185.64360 -1.546461  0.021536      43.63894   \n",
       "\n",
       "       h_beta_flux  oiii_5007_flux  nii_6548_flux  nii_6584_flux  \\\n",
       "10012     50.47549       35.885880      62.169280     187.516900   \n",
       "10013    193.83600      338.761300      30.979140      93.440230   \n",
       "10014     63.94186       44.332970      42.022200     126.748600   \n",
       "10015     15.88303        6.810206      12.831380      38.702420   \n",
       "10016     16.14518       23.058880       2.751872       8.300282   \n",
       "\n",
       "       sii_6717_flux  ...  oi_6300_flux      class        subclass  Ejey_OHB  \\\n",
       "10012      48.228320  ...     17.834850  b'GALAXY'          b'AGN' -0.341144   \n",
       "10013     127.072300  ...     22.316440  b'GALAXY'  b'STARFORMING'  0.558283   \n",
       "10014      45.455810  ...      9.183011  b'GALAXY'  b'STARFORMING' -0.366246   \n",
       "10015      20.423690  ...      4.481755  b'GALAXY'  b'STARFORMING' -0.846829   \n",
       "10016       9.276609  ...      2.913616  b'GALAXY'  b'STARFORMING'  0.356429   \n",
       "\n",
       "        Ejex_NH   Ejex_SH   Ejex_OH  Infrarroja Combinada LINER  \n",
       "10012  0.053689 -1.029303 -2.585361           0         0     1  \n",
       "10013 -1.656579 -1.179680 -3.374913           1         0     0  \n",
       "10014 -0.453579 -1.250180 -3.364765           1         0     0  \n",
       "10015 -0.740632 -1.128273 -3.182855           1         0     0  \n",
       "10016 -1.373325 -0.924161 -2.706555           1         0     0  \n",
       "\n",
       "[5 rows x 21 columns]"
      ]
     },
     "execution_count": 45,
     "metadata": {},
     "output_type": "execute_result"
    }
   ],
   "source": [
    "df[10012:10017]"
   ]
  },
  {
   "cell_type": "code",
   "execution_count": 46,
   "id": "3063c716",
   "metadata": {},
   "outputs": [
    {
     "data": {
      "text/plain": [
       "14270"
      ]
     },
     "execution_count": 46,
     "metadata": {},
     "output_type": "execute_result"
    }
   ],
   "source": [
    "contador_liner = df[\"LINER\"].value_counts()[1]\n",
    "contador_liner"
   ]
  },
  {
   "cell_type": "markdown",
   "id": "a736113f",
   "metadata": {},
   "source": [
    "## 1.2 Para NII.\n",
    "## d. Seyfert = Arriba de Kewley y arrriba de Seyfert-LINER."
   ]
  },
  {
   "cell_type": "code",
   "execution_count": 47,
   "id": "df62c726",
   "metadata": {},
   "outputs": [],
   "source": [
    "# Arriba de Seyfert-LINER y Kewley"
   ]
  },
  {
   "cell_type": "code",
   "execution_count": 48,
   "id": "d875f1e2",
   "metadata": {},
   "outputs": [],
   "source": [
    "interp_y4 = np.interp(df[\"Ejex_NH\"], x3, y3)"
   ]
  },
  {
   "cell_type": "code",
   "execution_count": 49,
   "id": "e6e2a3ce",
   "metadata": {},
   "outputs": [],
   "source": [
    "# Obtener los datos por debajo de la curva Seyfert-LINER pero por encima de la curva Kewley\n",
    "indices = np.where((df[\"Ejey_OHB\"] > interp_y4) & (df[\"Ejey_OHB\"] > interp_y1))\n",
    "datos_entre_seyfert_kewley = df.loc[indices]"
   ]
  },
  {
   "cell_type": "code",
   "execution_count": 50,
   "id": "8f7c00b3",
   "metadata": {},
   "outputs": [
    {
     "data": {
      "text/plain": [
       "<matplotlib.legend.Legend at 0x1add210fdf0>"
      ]
     },
     "execution_count": 50,
     "metadata": {},
     "output_type": "execute_result"
    },
    {
     "data": {
      "image/png": "[encoded data removed]",
      "text/plain": [
       "<Figure size 432x288 with 1 Axes>"
      ]
     },
     "metadata": {
      "needs_background": "light"
     },
     "output_type": "display_data"
    }
   ],
   "source": [
    "# Graficar los datos por encima de la curva Seyfert-LINER y encima de la curva Kewley\n",
    "fig = plt.figure()\n",
    "ax = fig.add_subplot()\n",
    "\n",
    "ax.scatter(datos_entre_seyfert_kewley[\"Ejex_NH\"], datos_entre_seyfert_kewley[\"Ejey_OHB\"], marker=\".\", color=\"salmon\")\n",
    "\n",
    "ax.set_xlim([-6, 4])\n",
    "ax.set_ylim([-4, 6])\n",
    "\n",
    "ax.plot(x3, y3, '-.', color='green', lw=2, label='Seyfert-LINER')\n",
    "\n",
    "plt.title('Gráfico a: Preetiquetado de galaxias Seyfert.')\n",
    "plt.ylabel('log [O III]/ Hβ')\n",
    "plt.xlabel('log [NII] /Hα')\n",
    "plt.legend()"
   ]
  },
  {
   "cell_type": "markdown",
   "id": "66f80618",
   "metadata": {},
   "source": [
    "## 1.2 Para NII.\n",
    "## d. Seyfert = Arriba de Kewley y arrriba de Seyfert-LINER.\n",
    "## dd. Etiquetado gráfico d"
   ]
  },
  {
   "cell_type": "code",
   "execution_count": 51,
   "id": "2b1f9f8e",
   "metadata": {},
   "outputs": [],
   "source": [
    "# Crear la columna Etiqueta4 en df\n",
    "df[\"Seyfert\"] = \"0\""
   ]
  },
  {
   "cell_type": "code",
   "execution_count": 52,
   "id": "9000d768",
   "metadata": {},
   "outputs": [],
   "source": [
    "# Obtener los índices de los datos que están encima de la curva Seyfert-LINER y encima de la curva Kewley\n",
    "indices4 = np.where((df[\"Ejey_OHB\"] > interp_y4) & (df[\"Ejey_OHB\"] > interp_y1))"
   ]
  },
  {
   "cell_type": "code",
   "execution_count": 53,
   "id": "4aab5878",
   "metadata": {},
   "outputs": [],
   "source": [
    "# Asignar la etiqueta \"Seyfert\" a los datos correspondientes en la columna Etiqueta4\n",
    "df.loc[indices4[0], \"Seyfert\"] = 1"
   ]
  },
  {
   "cell_type": "code",
   "execution_count": 54,
   "id": "bce1c25f",
   "metadata": {
    "scrolled": true
   },
   "outputs": [
    {
     "data": {
      "text/html": [
       "<div>\n",
       "<style scoped>\n",
       "    .dataframe tbody tr th:only-of-type {\n",
       "        vertical-align: middle;\n",
       "    }\n",
       "\n",
       "    .dataframe tbody tr th {\n",
       "        vertical-align: top;\n",
       "    }\n",
       "\n",
       "    .dataframe thead th {\n",
       "        text-align: right;\n",
       "    }\n",
       "</style>\n",
       "<table border=\"1\" class=\"dataframe\">\n",
       "  <thead>\n",
       "    <tr style=\"text-align: right;\">\n",
       "      <th></th>\n",
       "      <th>specobjid</th>\n",
       "      <th>ra</th>\n",
       "      <th>dec</th>\n",
       "      <th>z</th>\n",
       "      <th>h_alpha_flux</th>\n",
       "      <th>h_beta_flux</th>\n",
       "      <th>oiii_5007_flux</th>\n",
       "      <th>nii_6548_flux</th>\n",
       "      <th>nii_6584_flux</th>\n",
       "      <th>sii_6717_flux</th>\n",
       "      <th>...</th>\n",
       "      <th>class</th>\n",
       "      <th>subclass</th>\n",
       "      <th>Ejey_OHB</th>\n",
       "      <th>Ejex_NH</th>\n",
       "      <th>Ejex_SH</th>\n",
       "      <th>Ejex_OH</th>\n",
       "      <th>Infrarroja</th>\n",
       "      <th>Combinada</th>\n",
       "      <th>LINER</th>\n",
       "      <th>Seyfert</th>\n",
       "    </tr>\n",
       "  </thead>\n",
       "  <tbody>\n",
       "    <tr>\n",
       "      <th>0</th>\n",
       "      <td>299489677444933632</td>\n",
       "      <td>146.71421</td>\n",
       "      <td>-1.041304</td>\n",
       "      <td>0.021222</td>\n",
       "      <td>472.59040</td>\n",
       "      <td>119.49560</td>\n",
       "      <td>68.39606</td>\n",
       "      <td>74.302520</td>\n",
       "      <td>224.11360</td>\n",
       "      <td>124.71150</td>\n",
       "      <td>...</td>\n",
       "      <td>b'GALAXY'</td>\n",
       "      <td>b'STARFORMING'</td>\n",
       "      <td>-0.557964</td>\n",
       "      <td>-0.459740</td>\n",
       "      <td>-0.816412</td>\n",
       "      <td>-3.235340</td>\n",
       "      <td>1</td>\n",
       "      <td>0</td>\n",
       "      <td>0</td>\n",
       "      <td>0</td>\n",
       "    </tr>\n",
       "    <tr>\n",
       "      <th>1</th>\n",
       "      <td>299490502078654464</td>\n",
       "      <td>146.62857</td>\n",
       "      <td>-0.765137</td>\n",
       "      <td>0.064656</td>\n",
       "      <td>99.40005</td>\n",
       "      <td>25.64047</td>\n",
       "      <td>21.44437</td>\n",
       "      <td>17.104640</td>\n",
       "      <td>51.59155</td>\n",
       "      <td>35.33497</td>\n",
       "      <td>...</td>\n",
       "      <td>b'GALAXY'</td>\n",
       "      <td>b'STARFORMING'</td>\n",
       "      <td>-0.178710</td>\n",
       "      <td>-0.369459</td>\n",
       "      <td>-0.556229</td>\n",
       "      <td>-2.460214</td>\n",
       "      <td>1</td>\n",
       "      <td>1</td>\n",
       "      <td>0</td>\n",
       "      <td>0</td>\n",
       "    </tr>\n",
       "    <tr>\n",
       "      <th>2</th>\n",
       "      <td>299491051364706304</td>\n",
       "      <td>146.96390</td>\n",
       "      <td>-0.545003</td>\n",
       "      <td>0.055988</td>\n",
       "      <td>181.52620</td>\n",
       "      <td>47.36650</td>\n",
       "      <td>11.85567</td>\n",
       "      <td>17.948720</td>\n",
       "      <td>54.13749</td>\n",
       "      <td>31.28298</td>\n",
       "      <td>...</td>\n",
       "      <td>b'GALAXY'</td>\n",
       "      <td>b'STARBURST'</td>\n",
       "      <td>-1.385109</td>\n",
       "      <td>-0.923537</td>\n",
       "      <td>-1.280405</td>\n",
       "      <td>-3.738322</td>\n",
       "      <td>1</td>\n",
       "      <td>0</td>\n",
       "      <td>0</td>\n",
       "      <td>0</td>\n",
       "    </tr>\n",
       "    <tr>\n",
       "      <th>3</th>\n",
       "      <td>299491051834468352</td>\n",
       "      <td>146.63167</td>\n",
       "      <td>-0.988278</td>\n",
       "      <td>0.052654</td>\n",
       "      <td>127.30580</td>\n",
       "      <td>38.33226</td>\n",
       "      <td>35.46671</td>\n",
       "      <td>8.550285</td>\n",
       "      <td>25.78963</td>\n",
       "      <td>30.26996</td>\n",
       "      <td>...</td>\n",
       "      <td>b'GALAXY'</td>\n",
       "      <td>b'STARFORMING'</td>\n",
       "      <td>-0.077697</td>\n",
       "      <td>-1.310284</td>\n",
       "      <td>-0.821367</td>\n",
       "      <td>-3.010839</td>\n",
       "      <td>1</td>\n",
       "      <td>0</td>\n",
       "      <td>0</td>\n",
       "      <td>0</td>\n",
       "    </tr>\n",
       "    <tr>\n",
       "      <th>4</th>\n",
       "      <td>299492700632147968</td>\n",
       "      <td>146.59272</td>\n",
       "      <td>-0.760256</td>\n",
       "      <td>0.065024</td>\n",
       "      <td>211.50180</td>\n",
       "      <td>53.18228</td>\n",
       "      <td>15.59901</td>\n",
       "      <td>25.314650</td>\n",
       "      <td>76.35482</td>\n",
       "      <td>41.63770</td>\n",
       "      <td>...</td>\n",
       "      <td>b'GALAXY'</td>\n",
       "      <td>b'STARFORMING'</td>\n",
       "      <td>-1.226518</td>\n",
       "      <td>-0.732506</td>\n",
       "      <td>-1.104063</td>\n",
       "      <td>-3.378612</td>\n",
       "      <td>1</td>\n",
       "      <td>0</td>\n",
       "      <td>0</td>\n",
       "      <td>0</td>\n",
       "    </tr>\n",
       "  </tbody>\n",
       "</table>\n",
       "<p>5 rows × 22 columns</p>\n",
       "</div>"
      ],
      "text/plain": [
       "            specobjid         ra       dec         z  h_alpha_flux  \\\n",
       "0  299489677444933632  146.71421 -1.041304  0.021222     472.59040   \n",
       "1  299490502078654464  146.62857 -0.765137  0.064656      99.40005   \n",
       "2  299491051364706304  146.96390 -0.545003  0.055988     181.52620   \n",
       "3  299491051834468352  146.63167 -0.988278  0.052654     127.30580   \n",
       "4  299492700632147968  146.59272 -0.760256  0.065024     211.50180   \n",
       "\n",
       "   h_beta_flux  oiii_5007_flux  nii_6548_flux  nii_6584_flux  sii_6717_flux  \\\n",
       "0    119.49560        68.39606      74.302520      224.11360      124.71150   \n",
       "1     25.64047        21.44437      17.104640       51.59155       35.33497   \n",
       "2     47.36650        11.85567      17.948720       54.13749       31.28298   \n",
       "3     38.33226        35.46671       8.550285       25.78963       30.26996   \n",
       "4     53.18228        15.59901      25.314650       76.35482       41.63770   \n",
       "\n",
       "   ...      class        subclass  Ejey_OHB   Ejex_NH   Ejex_SH   Ejex_OH  \\\n",
       "0  ...  b'GALAXY'  b'STARFORMING' -0.557964 -0.459740 -0.816412 -3.235340   \n",
       "1  ...  b'GALAXY'  b'STARFORMING' -0.178710 -0.369459 -0.556229 -2.460214   \n",
       "2  ...  b'GALAXY'    b'STARBURST' -1.385109 -0.923537 -1.280405 -3.738322   \n",
       "3  ...  b'GALAXY'  b'STARFORMING' -0.077697 -1.310284 -0.821367 -3.010839   \n",
       "4  ...  b'GALAXY'  b'STARFORMING' -1.226518 -0.732506 -1.104063 -3.378612   \n",
       "\n",
       "   Infrarroja  Combinada LINER Seyfert  \n",
       "0           1          0     0       0  \n",
       "1           1          1     0       0  \n",
       "2           1          0     0       0  \n",
       "3           1          0     0       0  \n",
       "4           1          0     0       0  \n",
       "\n",
       "[5 rows x 22 columns]"
      ]
     },
     "execution_count": 54,
     "metadata": {},
     "output_type": "execute_result"
    }
   ],
   "source": [
    "df[0:5]"
   ]
  },
  {
   "cell_type": "markdown",
   "id": "ec0389c5",
   "metadata": {},
   "source": [
    "# 1.3 Etiquetas MANERA DEDUCTIVA."
   ]
  },
  {
   "cell_type": "markdown",
   "id": "30682d74",
   "metadata": {},
   "source": [
    "1.3.1 Comprobación de cantidades.  \n",
    "1.3.2 Solucion de cantidades.  \n",
    "1.3.3 Matriz NII Deductiva.  \n",
    "1.3.4 Graficas de NII Deductiva.  "
   ]
  },
  {
   "cell_type": "markdown",
   "id": "8963127f",
   "metadata": {},
   "source": [
    "### 1.3.1 Comprobación de cantidades: "
   ]
  },
  {
   "cell_type": "code",
   "execution_count": 55,
   "id": "7876f272",
   "metadata": {},
   "outputs": [
    {
     "data": {
      "text/plain": [
       "25847"
      ]
     },
     "execution_count": 55,
     "metadata": {},
     "output_type": "execute_result"
    }
   ],
   "source": [
    "contador_Seyfert = df[\"Seyfert\"].value_counts()[1]\n",
    "contador_Seyfert"
   ]
  },
  {
   "cell_type": "code",
   "execution_count": 56,
   "id": "b4dd58f8",
   "metadata": {},
   "outputs": [
    {
     "data": {
      "text/plain": [
       "pandas.core.frame.DataFrame"
      ]
     },
     "execution_count": 56,
     "metadata": {},
     "output_type": "execute_result"
    }
   ],
   "source": [
    "type(df)"
   ]
  },
  {
   "cell_type": "code",
   "execution_count": 57,
   "id": "13af9404",
   "metadata": {},
   "outputs": [
    {
     "data": {
      "text/plain": [
       "252625"
      ]
     },
     "execution_count": 57,
     "metadata": {},
     "output_type": "execute_result"
    }
   ],
   "source": [
    "conteo_infrarrojas = df[\"Infrarroja\"].value_counts()[1]\n",
    "conteo_infrarrojas"
   ]
  },
  {
   "cell_type": "code",
   "execution_count": 58,
   "id": "bee24b35",
   "metadata": {},
   "outputs": [
    {
     "data": {
      "text/plain": [
       "22224"
      ]
     },
     "execution_count": 58,
     "metadata": {},
     "output_type": "execute_result"
    }
   ],
   "source": [
    "count_combinada = df[\"Combinada\"].value_counts()[1]\n",
    "count_combinada"
   ]
  },
  {
   "cell_type": "code",
   "execution_count": 59,
   "id": "a5d094be",
   "metadata": {},
   "outputs": [
    {
     "data": {
      "text/plain": [
       "14270"
      ]
     },
     "execution_count": 59,
     "metadata": {},
     "output_type": "execute_result"
    }
   ],
   "source": [
    "contador_LINER = df[\"LINER\"].value_counts()[1]\n",
    "contador_LINER"
   ]
  },
  {
   "cell_type": "code",
   "execution_count": 60,
   "id": "f5331217",
   "metadata": {},
   "outputs": [
    {
     "data": {
      "text/plain": [
       "25847"
      ]
     },
     "execution_count": 60,
     "metadata": {},
     "output_type": "execute_result"
    }
   ],
   "source": [
    "contador_Seyfert = df[\"Seyfert\"].value_counts()[1]\n",
    "contador_Seyfert"
   ]
  },
  {
   "cell_type": "code",
   "execution_count": 61,
   "id": "695af62f",
   "metadata": {},
   "outputs": [
    {
     "data": {
      "text/plain": [
       "334649"
      ]
     },
     "execution_count": 61,
     "metadata": {},
     "output_type": "execute_result"
    }
   ],
   "source": [
    "Suma= 268908+23417+14796+27528\n",
    "Suma"
   ]
  },
  {
   "cell_type": "code",
   "execution_count": 62,
   "id": "fb6870e6",
   "metadata": {},
   "outputs": [],
   "source": [
    "# Son solo 329.650 hay 4.999 repetidas"
   ]
  },
  {
   "cell_type": "markdown",
   "id": "e44425b3",
   "metadata": {},
   "source": [
    "## Hay una parte que se debe anexar, espacio que queda entre arriba de Kauffman, abajo de Kewley, asi que se llamaran \"Combinado\""
   ]
  },
  {
   "cell_type": "markdown",
   "id": "afaebe8d",
   "metadata": {},
   "source": [
    "### 1.3.2 Solucion de cantidades."
   ]
  },
  {
   "cell_type": "code",
   "execution_count": 63,
   "id": "05d068fa",
   "metadata": {},
   "outputs": [],
   "source": [
    "# Crear la columna \"Sumas\" que muestra la suma de los valores en las columnas \"Infrarroja\", \"Combinada\", \"LINER\" y \"Seyfert\"\n",
    "df[\"Sumas\"] = df[[\"Infrarroja\", \"Combinada\", \"LINER\", \"Seyfert\"]].astype(int).sum(axis=1)"
   ]
  },
  {
   "cell_type": "code",
   "execution_count": 64,
   "id": "e9baac8c",
   "metadata": {},
   "outputs": [
    {
     "data": {
      "text/html": [
       "<div>\n",
       "<style scoped>\n",
       "    .dataframe tbody tr th:only-of-type {\n",
       "        vertical-align: middle;\n",
       "    }\n",
       "\n",
       "    .dataframe tbody tr th {\n",
       "        vertical-align: top;\n",
       "    }\n",
       "\n",
       "    .dataframe thead th {\n",
       "        text-align: right;\n",
       "    }\n",
       "</style>\n",
       "<table border=\"1\" class=\"dataframe\">\n",
       "  <thead>\n",
       "    <tr style=\"text-align: right;\">\n",
       "      <th></th>\n",
       "      <th>specobjid</th>\n",
       "      <th>ra</th>\n",
       "      <th>dec</th>\n",
       "      <th>z</th>\n",
       "      <th>h_alpha_flux</th>\n",
       "      <th>h_beta_flux</th>\n",
       "      <th>oiii_5007_flux</th>\n",
       "      <th>nii_6548_flux</th>\n",
       "      <th>nii_6584_flux</th>\n",
       "      <th>sii_6717_flux</th>\n",
       "      <th>...</th>\n",
       "      <th>subclass</th>\n",
       "      <th>Ejey_OHB</th>\n",
       "      <th>Ejex_NH</th>\n",
       "      <th>Ejex_SH</th>\n",
       "      <th>Ejex_OH</th>\n",
       "      <th>Infrarroja</th>\n",
       "      <th>Combinada</th>\n",
       "      <th>LINER</th>\n",
       "      <th>Seyfert</th>\n",
       "      <th>Sumas</th>\n",
       "    </tr>\n",
       "  </thead>\n",
       "  <tbody>\n",
       "    <tr>\n",
       "      <th>0</th>\n",
       "      <td>299489677444933632</td>\n",
       "      <td>146.71421</td>\n",
       "      <td>-1.041304</td>\n",
       "      <td>0.021222</td>\n",
       "      <td>472.59040</td>\n",
       "      <td>119.495600</td>\n",
       "      <td>68.396060</td>\n",
       "      <td>74.302520</td>\n",
       "      <td>224.113600</td>\n",
       "      <td>124.71150</td>\n",
       "      <td>...</td>\n",
       "      <td>b'STARFORMING'</td>\n",
       "      <td>-0.557964</td>\n",
       "      <td>-0.459740</td>\n",
       "      <td>-0.816412</td>\n",
       "      <td>-3.235340</td>\n",
       "      <td>1</td>\n",
       "      <td>0</td>\n",
       "      <td>0</td>\n",
       "      <td>0</td>\n",
       "      <td>1</td>\n",
       "    </tr>\n",
       "    <tr>\n",
       "      <th>1</th>\n",
       "      <td>299490502078654464</td>\n",
       "      <td>146.62857</td>\n",
       "      <td>-0.765137</td>\n",
       "      <td>0.064656</td>\n",
       "      <td>99.40005</td>\n",
       "      <td>25.640470</td>\n",
       "      <td>21.444370</td>\n",
       "      <td>17.104640</td>\n",
       "      <td>51.591550</td>\n",
       "      <td>35.33497</td>\n",
       "      <td>...</td>\n",
       "      <td>b'STARFORMING'</td>\n",
       "      <td>-0.178710</td>\n",
       "      <td>-0.369459</td>\n",
       "      <td>-0.556229</td>\n",
       "      <td>-2.460214</td>\n",
       "      <td>1</td>\n",
       "      <td>1</td>\n",
       "      <td>0</td>\n",
       "      <td>0</td>\n",
       "      <td>2</td>\n",
       "    </tr>\n",
       "    <tr>\n",
       "      <th>2</th>\n",
       "      <td>299491051364706304</td>\n",
       "      <td>146.96390</td>\n",
       "      <td>-0.545003</td>\n",
       "      <td>0.055988</td>\n",
       "      <td>181.52620</td>\n",
       "      <td>47.366500</td>\n",
       "      <td>11.855670</td>\n",
       "      <td>17.948720</td>\n",
       "      <td>54.137490</td>\n",
       "      <td>31.28298</td>\n",
       "      <td>...</td>\n",
       "      <td>b'STARBURST'</td>\n",
       "      <td>-1.385109</td>\n",
       "      <td>-0.923537</td>\n",
       "      <td>-1.280405</td>\n",
       "      <td>-3.738322</td>\n",
       "      <td>1</td>\n",
       "      <td>0</td>\n",
       "      <td>0</td>\n",
       "      <td>0</td>\n",
       "      <td>1</td>\n",
       "    </tr>\n",
       "    <tr>\n",
       "      <th>3</th>\n",
       "      <td>299491051834468352</td>\n",
       "      <td>146.63167</td>\n",
       "      <td>-0.988278</td>\n",
       "      <td>0.052654</td>\n",
       "      <td>127.30580</td>\n",
       "      <td>38.332260</td>\n",
       "      <td>35.466710</td>\n",
       "      <td>8.550285</td>\n",
       "      <td>25.789630</td>\n",
       "      <td>30.26996</td>\n",
       "      <td>...</td>\n",
       "      <td>b'STARFORMING'</td>\n",
       "      <td>-0.077697</td>\n",
       "      <td>-1.310284</td>\n",
       "      <td>-0.821367</td>\n",
       "      <td>-3.010839</td>\n",
       "      <td>1</td>\n",
       "      <td>0</td>\n",
       "      <td>0</td>\n",
       "      <td>0</td>\n",
       "      <td>1</td>\n",
       "    </tr>\n",
       "    <tr>\n",
       "      <th>4</th>\n",
       "      <td>299492700632147968</td>\n",
       "      <td>146.59272</td>\n",
       "      <td>-0.760256</td>\n",
       "      <td>0.065024</td>\n",
       "      <td>211.50180</td>\n",
       "      <td>53.182280</td>\n",
       "      <td>15.599010</td>\n",
       "      <td>25.314650</td>\n",
       "      <td>76.354820</td>\n",
       "      <td>41.63770</td>\n",
       "      <td>...</td>\n",
       "      <td>b'STARFORMING'</td>\n",
       "      <td>-1.226518</td>\n",
       "      <td>-0.732506</td>\n",
       "      <td>-1.104063</td>\n",
       "      <td>-3.378612</td>\n",
       "      <td>1</td>\n",
       "      <td>0</td>\n",
       "      <td>0</td>\n",
       "      <td>0</td>\n",
       "      <td>1</td>\n",
       "    </tr>\n",
       "    <tr>\n",
       "      <th>...</th>\n",
       "      <td>...</td>\n",
       "      <td>...</td>\n",
       "      <td>...</td>\n",
       "      <td>...</td>\n",
       "      <td>...</td>\n",
       "      <td>...</td>\n",
       "      <td>...</td>\n",
       "      <td>...</td>\n",
       "      <td>...</td>\n",
       "      <td>...</td>\n",
       "      <td>...</td>\n",
       "      <td>...</td>\n",
       "      <td>...</td>\n",
       "      <td>...</td>\n",
       "      <td>...</td>\n",
       "      <td>...</td>\n",
       "      <td>...</td>\n",
       "      <td>...</td>\n",
       "      <td>...</td>\n",
       "      <td>...</td>\n",
       "      <td>...</td>\n",
       "    </tr>\n",
       "    <tr>\n",
       "      <th>310341</th>\n",
       "      <td>3348592976002574336</td>\n",
       "      <td>261.10350</td>\n",
       "      <td>31.590881</td>\n",
       "      <td>0.025038</td>\n",
       "      <td>39.77857</td>\n",
       "      <td>9.911286</td>\n",
       "      <td>13.092160</td>\n",
       "      <td>2.224710</td>\n",
       "      <td>6.710238</td>\n",
       "      <td>12.47293</td>\n",
       "      <td>...</td>\n",
       "      <td>b'STARFORMING'</td>\n",
       "      <td>0.278339</td>\n",
       "      <td>-1.493358</td>\n",
       "      <td>-0.689710</td>\n",
       "      <td>-2.569365</td>\n",
       "      <td>1</td>\n",
       "      <td>0</td>\n",
       "      <td>0</td>\n",
       "      <td>0</td>\n",
       "      <td>1</td>\n",
       "    </tr>\n",
       "    <tr>\n",
       "      <th>310342</th>\n",
       "      <td>3348593250880481280</td>\n",
       "      <td>261.13056</td>\n",
       "      <td>31.473702</td>\n",
       "      <td>0.103969</td>\n",
       "      <td>59.28167</td>\n",
       "      <td>21.498730</td>\n",
       "      <td>29.876350</td>\n",
       "      <td>16.099590</td>\n",
       "      <td>48.560090</td>\n",
       "      <td>13.66697</td>\n",
       "      <td>...</td>\n",
       "      <td>b'STARFORMING'</td>\n",
       "      <td>0.329073</td>\n",
       "      <td>0.086838</td>\n",
       "      <td>-0.939454</td>\n",
       "      <td>-2.338641</td>\n",
       "      <td>0</td>\n",
       "      <td>0</td>\n",
       "      <td>1</td>\n",
       "      <td>0</td>\n",
       "      <td>1</td>\n",
       "    </tr>\n",
       "    <tr>\n",
       "      <th>310343</th>\n",
       "      <td>3348596274537457664</td>\n",
       "      <td>261.24627</td>\n",
       "      <td>31.260667</td>\n",
       "      <td>0.046037</td>\n",
       "      <td>397.82610</td>\n",
       "      <td>111.930900</td>\n",
       "      <td>67.077750</td>\n",
       "      <td>32.801550</td>\n",
       "      <td>98.937040</td>\n",
       "      <td>81.22416</td>\n",
       "      <td>...</td>\n",
       "      <td>b'STARBURST'</td>\n",
       "      <td>-0.512029</td>\n",
       "      <td>-1.105195</td>\n",
       "      <td>-1.078493</td>\n",
       "      <td>-3.514075</td>\n",
       "      <td>1</td>\n",
       "      <td>0</td>\n",
       "      <td>0</td>\n",
       "      <td>0</td>\n",
       "      <td>1</td>\n",
       "    </tr>\n",
       "    <tr>\n",
       "      <th>310344</th>\n",
       "      <td>3348598748438620160</td>\n",
       "      <td>260.92678</td>\n",
       "      <td>31.854907</td>\n",
       "      <td>0.210566</td>\n",
       "      <td>1131.19200</td>\n",
       "      <td>326.400700</td>\n",
       "      <td>577.654500</td>\n",
       "      <td>123.076700</td>\n",
       "      <td>371.227700</td>\n",
       "      <td>33.13488</td>\n",
       "      <td>...</td>\n",
       "      <td>b'BROADLINE'</td>\n",
       "      <td>0.570850</td>\n",
       "      <td>-0.827876</td>\n",
       "      <td>-2.898508</td>\n",
       "      <td>-3.921308</td>\n",
       "      <td>1</td>\n",
       "      <td>0</td>\n",
       "      <td>0</td>\n",
       "      <td>0</td>\n",
       "      <td>1</td>\n",
       "    </tr>\n",
       "    <tr>\n",
       "      <th>310345</th>\n",
       "      <td>3348599023316527104</td>\n",
       "      <td>260.71475</td>\n",
       "      <td>32.361811</td>\n",
       "      <td>0.054428</td>\n",
       "      <td>106.47050</td>\n",
       "      <td>19.759210</td>\n",
       "      <td>6.198793</td>\n",
       "      <td>14.731890</td>\n",
       "      <td>44.434780</td>\n",
       "      <td>20.47958</td>\n",
       "      <td>...</td>\n",
       "      <td>b'STARFORMING'</td>\n",
       "      <td>-1.159265</td>\n",
       "      <td>-0.587510</td>\n",
       "      <td>-1.101051</td>\n",
       "      <td>-3.163625</td>\n",
       "      <td>1</td>\n",
       "      <td>0</td>\n",
       "      <td>0</td>\n",
       "      <td>0</td>\n",
       "      <td>1</td>\n",
       "    </tr>\n",
       "  </tbody>\n",
       "</table>\n",
       "<p>310346 rows × 23 columns</p>\n",
       "</div>"
      ],
      "text/plain": [
       "                  specobjid         ra        dec         z  h_alpha_flux  \\\n",
       "0        299489677444933632  146.71421  -1.041304  0.021222     472.59040   \n",
       "1        299490502078654464  146.62857  -0.765137  0.064656      99.40005   \n",
       "2        299491051364706304  146.96390  -0.545003  0.055988     181.52620   \n",
       "3        299491051834468352  146.63167  -0.988278  0.052654     127.30580   \n",
       "4        299492700632147968  146.59272  -0.760256  0.065024     211.50180   \n",
       "...                     ...        ...        ...       ...           ...   \n",
       "310341  3348592976002574336  261.10350  31.590881  0.025038      39.77857   \n",
       "310342  3348593250880481280  261.13056  31.473702  0.103969      59.28167   \n",
       "310343  3348596274537457664  261.24627  31.260667  0.046037     397.82610   \n",
       "310344  3348598748438620160  260.92678  31.854907  0.210566    1131.19200   \n",
       "310345  3348599023316527104  260.71475  32.361811  0.054428     106.47050   \n",
       "\n",
       "        h_beta_flux  oiii_5007_flux  nii_6548_flux  nii_6584_flux  \\\n",
       "0        119.495600       68.396060      74.302520     224.113600   \n",
       "1         25.640470       21.444370      17.104640      51.591550   \n",
       "2         47.366500       11.855670      17.948720      54.137490   \n",
       "3         38.332260       35.466710       8.550285      25.789630   \n",
       "4         53.182280       15.599010      25.314650      76.354820   \n",
       "...             ...             ...            ...            ...   \n",
       "310341     9.911286       13.092160       2.224710       6.710238   \n",
       "310342    21.498730       29.876350      16.099590      48.560090   \n",
       "310343   111.930900       67.077750      32.801550      98.937040   \n",
       "310344   326.400700      577.654500     123.076700     371.227700   \n",
       "310345    19.759210        6.198793      14.731890      44.434780   \n",
       "\n",
       "        sii_6717_flux  ...        subclass  Ejey_OHB   Ejex_NH   Ejex_SH  \\\n",
       "0           124.71150  ...  b'STARFORMING' -0.557964 -0.459740 -0.816412   \n",
       "1            35.33497  ...  b'STARFORMING' -0.178710 -0.369459 -0.556229   \n",
       "2            31.28298  ...    b'STARBURST' -1.385109 -0.923537 -1.280405   \n",
       "3            30.26996  ...  b'STARFORMING' -0.077697 -1.310284 -0.821367   \n",
       "4            41.63770  ...  b'STARFORMING' -1.226518 -0.732506 -1.104063   \n",
       "...               ...  ...             ...       ...       ...       ...   \n",
       "310341       12.47293  ...  b'STARFORMING'  0.278339 -1.493358 -0.689710   \n",
       "310342       13.66697  ...  b'STARFORMING'  0.329073  0.086838 -0.939454   \n",
       "310343       81.22416  ...    b'STARBURST' -0.512029 -1.105195 -1.078493   \n",
       "310344       33.13488  ...    b'BROADLINE'  0.570850 -0.827876 -2.898508   \n",
       "310345       20.47958  ...  b'STARFORMING' -1.159265 -0.587510 -1.101051   \n",
       "\n",
       "         Ejex_OH  Infrarroja  Combinada  LINER Seyfert Sumas  \n",
       "0      -3.235340           1          0      0       0     1  \n",
       "1      -2.460214           1          1      0       0     2  \n",
       "2      -3.738322           1          0      0       0     1  \n",
       "3      -3.010839           1          0      0       0     1  \n",
       "4      -3.378612           1          0      0       0     1  \n",
       "...          ...         ...        ...    ...     ...   ...  \n",
       "310341 -2.569365           1          0      0       0     1  \n",
       "310342 -2.338641           0          0      1       0     1  \n",
       "310343 -3.514075           1          0      0       0     1  \n",
       "310344 -3.921308           1          0      0       0     1  \n",
       "310345 -3.163625           1          0      0       0     1  \n",
       "\n",
       "[310346 rows x 23 columns]"
      ]
     },
     "execution_count": 64,
     "metadata": {},
     "output_type": "execute_result"
    }
   ],
   "source": [
    "df"
   ]
  },
  {
   "cell_type": "code",
   "execution_count": 65,
   "id": "f93280c7",
   "metadata": {},
   "outputs": [
    {
     "name": "stdout",
     "output_type": "stream",
     "text": [
      "La suma total de la columna 'Sumas' es: 314966\n"
     ]
    }
   ],
   "source": [
    "suma_total = df[\"Sumas\"].sum()\n",
    "print(\"La suma total de la columna 'Sumas' es:\", suma_total)"
   ]
  },
  {
   "cell_type": "code",
   "execution_count": 66,
   "id": "7f093fa6",
   "metadata": {},
   "outputs": [],
   "source": [
    "# filas donde el valor sea = o superior a 2\n",
    "filas_superior_2 = df[df[\"Sumas\"] >= 2]"
   ]
  },
  {
   "cell_type": "code",
   "execution_count": 67,
   "id": "f475dc13",
   "metadata": {},
   "outputs": [
    {
     "data": {
      "text/html": [
       "<div>\n",
       "<style scoped>\n",
       "    .dataframe tbody tr th:only-of-type {\n",
       "        vertical-align: middle;\n",
       "    }\n",
       "\n",
       "    .dataframe tbody tr th {\n",
       "        vertical-align: top;\n",
       "    }\n",
       "\n",
       "    .dataframe thead th {\n",
       "        text-align: right;\n",
       "    }\n",
       "</style>\n",
       "<table border=\"1\" class=\"dataframe\">\n",
       "  <thead>\n",
       "    <tr style=\"text-align: right;\">\n",
       "      <th></th>\n",
       "      <th>specobjid</th>\n",
       "      <th>ra</th>\n",
       "      <th>dec</th>\n",
       "      <th>z</th>\n",
       "      <th>h_alpha_flux</th>\n",
       "      <th>h_beta_flux</th>\n",
       "      <th>oiii_5007_flux</th>\n",
       "      <th>nii_6548_flux</th>\n",
       "      <th>nii_6584_flux</th>\n",
       "      <th>sii_6717_flux</th>\n",
       "      <th>...</th>\n",
       "      <th>subclass</th>\n",
       "      <th>Ejey_OHB</th>\n",
       "      <th>Ejex_NH</th>\n",
       "      <th>Ejex_SH</th>\n",
       "      <th>Ejex_OH</th>\n",
       "      <th>Infrarroja</th>\n",
       "      <th>Combinada</th>\n",
       "      <th>LINER</th>\n",
       "      <th>Seyfert</th>\n",
       "      <th>Sumas</th>\n",
       "    </tr>\n",
       "  </thead>\n",
       "  <tbody>\n",
       "    <tr>\n",
       "      <th>1</th>\n",
       "      <td>299490502078654464</td>\n",
       "      <td>146.62857</td>\n",
       "      <td>-0.765137</td>\n",
       "      <td>0.064656</td>\n",
       "      <td>99.40005</td>\n",
       "      <td>25.640470</td>\n",
       "      <td>21.444370</td>\n",
       "      <td>17.104640</td>\n",
       "      <td>51.59155</td>\n",
       "      <td>35.334970</td>\n",
       "      <td>...</td>\n",
       "      <td>b'STARFORMING'</td>\n",
       "      <td>-0.178710</td>\n",
       "      <td>-0.369459</td>\n",
       "      <td>-0.556229</td>\n",
       "      <td>-2.460214</td>\n",
       "      <td>1</td>\n",
       "      <td>1</td>\n",
       "      <td>0</td>\n",
       "      <td>0</td>\n",
       "      <td>2</td>\n",
       "    </tr>\n",
       "    <tr>\n",
       "      <th>103</th>\n",
       "      <td>299599628137949184</td>\n",
       "      <td>145.89128</td>\n",
       "      <td>1.116524</td>\n",
       "      <td>0.051580</td>\n",
       "      <td>3334.86300</td>\n",
       "      <td>953.794400</td>\n",
       "      <td>2399.147000</td>\n",
       "      <td>146.455800</td>\n",
       "      <td>441.74460</td>\n",
       "      <td>437.355600</td>\n",
       "      <td>...</td>\n",
       "      <td>b'STARBURST'</td>\n",
       "      <td>0.922420</td>\n",
       "      <td>-1.735119</td>\n",
       "      <td>-1.495513</td>\n",
       "      <td>-3.761929</td>\n",
       "      <td>1</td>\n",
       "      <td>1</td>\n",
       "      <td>0</td>\n",
       "      <td>1</td>\n",
       "      <td>3</td>\n",
       "    </tr>\n",
       "    <tr>\n",
       "      <th>136</th>\n",
       "      <td>299627115928643584</td>\n",
       "      <td>146.58882</td>\n",
       "      <td>0.172600</td>\n",
       "      <td>0.057323</td>\n",
       "      <td>268.20910</td>\n",
       "      <td>67.070590</td>\n",
       "      <td>39.181660</td>\n",
       "      <td>49.027270</td>\n",
       "      <td>147.87760</td>\n",
       "      <td>59.298250</td>\n",
       "      <td>...</td>\n",
       "      <td>b'STARFORMING'</td>\n",
       "      <td>-0.537537</td>\n",
       "      <td>-0.309046</td>\n",
       "      <td>-0.956265</td>\n",
       "      <td>-2.959593</td>\n",
       "      <td>1</td>\n",
       "      <td>1</td>\n",
       "      <td>0</td>\n",
       "      <td>0</td>\n",
       "      <td>2</td>\n",
       "    </tr>\n",
       "    <tr>\n",
       "      <th>268</th>\n",
       "      <td>300707111325689856</td>\n",
       "      <td>147.30638</td>\n",
       "      <td>1.177761</td>\n",
       "      <td>0.025023</td>\n",
       "      <td>132.14540</td>\n",
       "      <td>35.754170</td>\n",
       "      <td>24.186400</td>\n",
       "      <td>23.542550</td>\n",
       "      <td>71.00978</td>\n",
       "      <td>33.325010</td>\n",
       "      <td>...</td>\n",
       "      <td>b'STARFORMING'</td>\n",
       "      <td>-0.390876</td>\n",
       "      <td>-0.334749</td>\n",
       "      <td>-0.813633</td>\n",
       "      <td>-2.704082</td>\n",
       "      <td>1</td>\n",
       "      <td>1</td>\n",
       "      <td>0</td>\n",
       "      <td>0</td>\n",
       "      <td>2</td>\n",
       "    </tr>\n",
       "    <tr>\n",
       "      <th>287</th>\n",
       "      <td>300727452290803712</td>\n",
       "      <td>147.72594</td>\n",
       "      <td>1.192665</td>\n",
       "      <td>0.028337</td>\n",
       "      <td>403.53220</td>\n",
       "      <td>133.776400</td>\n",
       "      <td>352.655700</td>\n",
       "      <td>11.002880</td>\n",
       "      <td>33.18724</td>\n",
       "      <td>65.234860</td>\n",
       "      <td>...</td>\n",
       "      <td>b'STARFORMING'</td>\n",
       "      <td>0.969322</td>\n",
       "      <td>-2.211755</td>\n",
       "      <td>-1.320015</td>\n",
       "      <td>-3.241421</td>\n",
       "      <td>1</td>\n",
       "      <td>1</td>\n",
       "      <td>0</td>\n",
       "      <td>1</td>\n",
       "      <td>3</td>\n",
       "    </tr>\n",
       "    <tr>\n",
       "      <th>...</th>\n",
       "      <td>...</td>\n",
       "      <td>...</td>\n",
       "      <td>...</td>\n",
       "      <td>...</td>\n",
       "      <td>...</td>\n",
       "      <td>...</td>\n",
       "      <td>...</td>\n",
       "      <td>...</td>\n",
       "      <td>...</td>\n",
       "      <td>...</td>\n",
       "      <td>...</td>\n",
       "      <td>...</td>\n",
       "      <td>...</td>\n",
       "      <td>...</td>\n",
       "      <td>...</td>\n",
       "      <td>...</td>\n",
       "      <td>...</td>\n",
       "      <td>...</td>\n",
       "      <td>...</td>\n",
       "      <td>...</td>\n",
       "      <td>...</td>\n",
       "    </tr>\n",
       "    <tr>\n",
       "      <th>309783</th>\n",
       "      <td>3344059964388829184</td>\n",
       "      <td>245.91614</td>\n",
       "      <td>18.933752</td>\n",
       "      <td>0.036520</td>\n",
       "      <td>193.73260</td>\n",
       "      <td>63.602810</td>\n",
       "      <td>175.141100</td>\n",
       "      <td>5.532828</td>\n",
       "      <td>16.68829</td>\n",
       "      <td>31.153630</td>\n",
       "      <td>...</td>\n",
       "      <td>b'STARFORMING'</td>\n",
       "      <td>1.012934</td>\n",
       "      <td>-2.165436</td>\n",
       "      <td>-1.255149</td>\n",
       "      <td>-2.891368</td>\n",
       "      <td>1</td>\n",
       "      <td>1</td>\n",
       "      <td>0</td>\n",
       "      <td>1</td>\n",
       "      <td>3</td>\n",
       "    </tr>\n",
       "    <tr>\n",
       "      <th>310042</th>\n",
       "      <td>3346321934634739712</td>\n",
       "      <td>257.60509</td>\n",
       "      <td>36.805484</td>\n",
       "      <td>0.071378</td>\n",
       "      <td>495.56340</td>\n",
       "      <td>163.093100</td>\n",
       "      <td>427.001600</td>\n",
       "      <td>13.881580</td>\n",
       "      <td>41.87006</td>\n",
       "      <td>74.627560</td>\n",
       "      <td>...</td>\n",
       "      <td>b'STARBURST'</td>\n",
       "      <td>0.962467</td>\n",
       "      <td>-2.184788</td>\n",
       "      <td>-1.376649</td>\n",
       "      <td>-3.126752</td>\n",
       "      <td>1</td>\n",
       "      <td>1</td>\n",
       "      <td>0</td>\n",
       "      <td>1</td>\n",
       "      <td>3</td>\n",
       "    </tr>\n",
       "    <tr>\n",
       "      <th>310060</th>\n",
       "      <td>3346337877553342464</td>\n",
       "      <td>258.35634</td>\n",
       "      <td>35.525279</td>\n",
       "      <td>0.056110</td>\n",
       "      <td>1230.87300</td>\n",
       "      <td>376.200000</td>\n",
       "      <td>955.639100</td>\n",
       "      <td>52.633700</td>\n",
       "      <td>158.75540</td>\n",
       "      <td>154.906300</td>\n",
       "      <td>...</td>\n",
       "      <td>b'STARBURST'</td>\n",
       "      <td>0.932259</td>\n",
       "      <td>-1.761778</td>\n",
       "      <td>-1.516880</td>\n",
       "      <td>-3.778407</td>\n",
       "      <td>1</td>\n",
       "      <td>1</td>\n",
       "      <td>0</td>\n",
       "      <td>1</td>\n",
       "      <td>3</td>\n",
       "    </tr>\n",
       "    <tr>\n",
       "      <th>310139</th>\n",
       "      <td>3347407427573147648</td>\n",
       "      <td>258.13935</td>\n",
       "      <td>34.066741</td>\n",
       "      <td>0.085044</td>\n",
       "      <td>30.92933</td>\n",
       "      <td>8.266856</td>\n",
       "      <td>6.287621</td>\n",
       "      <td>5.416677</td>\n",
       "      <td>16.33795</td>\n",
       "      <td>3.519217</td>\n",
       "      <td>...</td>\n",
       "      <td>b'STARFORMING'</td>\n",
       "      <td>-0.273671</td>\n",
       "      <td>-0.351878</td>\n",
       "      <td>-1.326638</td>\n",
       "      <td>-2.013121</td>\n",
       "      <td>1</td>\n",
       "      <td>1</td>\n",
       "      <td>0</td>\n",
       "      <td>0</td>\n",
       "      <td>2</td>\n",
       "    </tr>\n",
       "    <tr>\n",
       "      <th>310174</th>\n",
       "      <td>3347440962677794816</td>\n",
       "      <td>259.49877</td>\n",
       "      <td>33.334450</td>\n",
       "      <td>0.015087</td>\n",
       "      <td>6263.58200</td>\n",
       "      <td>1815.981000</td>\n",
       "      <td>4630.146000</td>\n",
       "      <td>260.897700</td>\n",
       "      <td>786.92760</td>\n",
       "      <td>891.441400</td>\n",
       "      <td>...</td>\n",
       "      <td>b'STARBURST'</td>\n",
       "      <td>0.935963</td>\n",
       "      <td>-1.788035</td>\n",
       "      <td>-1.392424</td>\n",
       "      <td>-3.548168</td>\n",
       "      <td>1</td>\n",
       "      <td>1</td>\n",
       "      <td>0</td>\n",
       "      <td>1</td>\n",
       "      <td>3</td>\n",
       "    </tr>\n",
       "  </tbody>\n",
       "</table>\n",
       "<p>3224 rows × 23 columns</p>\n",
       "</div>"
      ],
      "text/plain": [
       "                  specobjid         ra        dec         z  h_alpha_flux  \\\n",
       "1        299490502078654464  146.62857  -0.765137  0.064656      99.40005   \n",
       "103      299599628137949184  145.89128   1.116524  0.051580    3334.86300   \n",
       "136      299627115928643584  146.58882   0.172600  0.057323     268.20910   \n",
       "268      300707111325689856  147.30638   1.177761  0.025023     132.14540   \n",
       "287      300727452290803712  147.72594   1.192665  0.028337     403.53220   \n",
       "...                     ...        ...        ...       ...           ...   \n",
       "309783  3344059964388829184  245.91614  18.933752  0.036520     193.73260   \n",
       "310042  3346321934634739712  257.60509  36.805484  0.071378     495.56340   \n",
       "310060  3346337877553342464  258.35634  35.525279  0.056110    1230.87300   \n",
       "310139  3347407427573147648  258.13935  34.066741  0.085044      30.92933   \n",
       "310174  3347440962677794816  259.49877  33.334450  0.015087    6263.58200   \n",
       "\n",
       "        h_beta_flux  oiii_5007_flux  nii_6548_flux  nii_6584_flux  \\\n",
       "1         25.640470       21.444370      17.104640       51.59155   \n",
       "103      953.794400     2399.147000     146.455800      441.74460   \n",
       "136       67.070590       39.181660      49.027270      147.87760   \n",
       "268       35.754170       24.186400      23.542550       71.00978   \n",
       "287      133.776400      352.655700      11.002880       33.18724   \n",
       "...             ...             ...            ...            ...   \n",
       "309783    63.602810      175.141100       5.532828       16.68829   \n",
       "310042   163.093100      427.001600      13.881580       41.87006   \n",
       "310060   376.200000      955.639100      52.633700      158.75540   \n",
       "310139     8.266856        6.287621       5.416677       16.33795   \n",
       "310174  1815.981000     4630.146000     260.897700      786.92760   \n",
       "\n",
       "        sii_6717_flux  ...        subclass  Ejey_OHB   Ejex_NH   Ejex_SH  \\\n",
       "1           35.334970  ...  b'STARFORMING' -0.178710 -0.369459 -0.556229   \n",
       "103        437.355600  ...    b'STARBURST'  0.922420 -1.735119 -1.495513   \n",
       "136         59.298250  ...  b'STARFORMING' -0.537537 -0.309046 -0.956265   \n",
       "268         33.325010  ...  b'STARFORMING' -0.390876 -0.334749 -0.813633   \n",
       "287         65.234860  ...  b'STARFORMING'  0.969322 -2.211755 -1.320015   \n",
       "...               ...  ...             ...       ...       ...       ...   \n",
       "309783      31.153630  ...  b'STARFORMING'  1.012934 -2.165436 -1.255149   \n",
       "310042      74.627560  ...    b'STARBURST'  0.962467 -2.184788 -1.376649   \n",
       "310060     154.906300  ...    b'STARBURST'  0.932259 -1.761778 -1.516880   \n",
       "310139       3.519217  ...  b'STARFORMING' -0.273671 -0.351878 -1.326638   \n",
       "310174     891.441400  ...    b'STARBURST'  0.935963 -1.788035 -1.392424   \n",
       "\n",
       "         Ejex_OH  Infrarroja  Combinada  LINER Seyfert Sumas  \n",
       "1      -2.460214           1          1      0       0     2  \n",
       "103    -3.761929           1          1      0       1     3  \n",
       "136    -2.959593           1          1      0       0     2  \n",
       "268    -2.704082           1          1      0       0     2  \n",
       "287    -3.241421           1          1      0       1     3  \n",
       "...          ...         ...        ...    ...     ...   ...  \n",
       "309783 -2.891368           1          1      0       1     3  \n",
       "310042 -3.126752           1          1      0       1     3  \n",
       "310060 -3.778407           1          1      0       1     3  \n",
       "310139 -2.013121           1          1      0       0     2  \n",
       "310174 -3.548168           1          1      0       1     3  \n",
       "\n",
       "[3224 rows x 23 columns]"
      ]
     },
     "execution_count": 67,
     "metadata": {},
     "output_type": "execute_result"
    }
   ],
   "source": [
    "filas_superior_2"
   ]
  },
  {
   "cell_type": "code",
   "execution_count": 68,
   "id": "e9e7af6e",
   "metadata": {},
   "outputs": [
    {
     "data": {
      "text/plain": [
       "3224"
      ]
     },
     "execution_count": 68,
     "metadata": {},
     "output_type": "execute_result"
    }
   ],
   "source": [
    "len(filas_superior_2)"
   ]
  },
  {
   "cell_type": "code",
   "execution_count": 69,
   "id": "9b88d57d",
   "metadata": {},
   "outputs": [],
   "source": [
    "# Obtener la lista de columnas que se deben evaluar\n",
    "columnas_evaluar = [\"Infrarroja\", \"Combinada\", \"LINER\", \"Seyfert\"]"
   ]
  },
  {
   "cell_type": "code",
   "execution_count": 70,
   "id": "7c650d73",
   "metadata": {},
   "outputs": [],
   "source": [
    "# Crear la columna \"PreEtiqueta\" con los valores correspondientes, si no es 1, entonces: es combinada.\n",
    "def obtener_pre_etiqueta(row):\n",
    "    etiquetas = []\n",
    "    for etiqueta in columnas_evaluar:\n",
    "        if row[etiqueta] == 1:\n",
    "            etiquetas.append(etiqueta)\n",
    "    if len(etiquetas) == 1:\n",
    "        return etiquetas[0]\n",
    "    else:\n",
    "        return \"Combinada\""
   ]
  },
  {
   "cell_type": "code",
   "execution_count": 71,
   "id": "ca562934",
   "metadata": {},
   "outputs": [],
   "source": [
    "df[\"PreEtiquetaNII\"] = df.apply(obtener_pre_etiqueta, axis=1)"
   ]
  },
  {
   "cell_type": "markdown",
   "id": "d770bfef",
   "metadata": {},
   "source": [
    "### 1.3.3 Matriz NII Deductiva."
   ]
  },
  {
   "cell_type": "code",
   "execution_count": 72,
   "id": "64f0552f",
   "metadata": {},
   "outputs": [
    {
     "data": {
      "text/html": [
       "<div>\n",
       "<style scoped>\n",
       "    .dataframe tbody tr th:only-of-type {\n",
       "        vertical-align: middle;\n",
       "    }\n",
       "\n",
       "    .dataframe tbody tr th {\n",
       "        vertical-align: top;\n",
       "    }\n",
       "\n",
       "    .dataframe thead th {\n",
       "        text-align: right;\n",
       "    }\n",
       "</style>\n",
       "<table border=\"1\" class=\"dataframe\">\n",
       "  <thead>\n",
       "    <tr style=\"text-align: right;\">\n",
       "      <th></th>\n",
       "      <th>specobjid</th>\n",
       "      <th>ra</th>\n",
       "      <th>dec</th>\n",
       "      <th>z</th>\n",
       "      <th>h_alpha_flux</th>\n",
       "      <th>h_beta_flux</th>\n",
       "      <th>oiii_5007_flux</th>\n",
       "      <th>nii_6548_flux</th>\n",
       "      <th>nii_6584_flux</th>\n",
       "      <th>sii_6717_flux</th>\n",
       "      <th>...</th>\n",
       "      <th>Ejey_OHB</th>\n",
       "      <th>Ejex_NH</th>\n",
       "      <th>Ejex_SH</th>\n",
       "      <th>Ejex_OH</th>\n",
       "      <th>Infrarroja</th>\n",
       "      <th>Combinada</th>\n",
       "      <th>LINER</th>\n",
       "      <th>Seyfert</th>\n",
       "      <th>Sumas</th>\n",
       "      <th>PreEtiquetaNII</th>\n",
       "    </tr>\n",
       "  </thead>\n",
       "  <tbody>\n",
       "    <tr>\n",
       "      <th>0</th>\n",
       "      <td>299489677444933632</td>\n",
       "      <td>146.71421</td>\n",
       "      <td>-1.041304</td>\n",
       "      <td>0.021222</td>\n",
       "      <td>472.59040</td>\n",
       "      <td>119.49560</td>\n",
       "      <td>68.39606</td>\n",
       "      <td>74.302520</td>\n",
       "      <td>224.11360</td>\n",
       "      <td>124.71150</td>\n",
       "      <td>...</td>\n",
       "      <td>-0.557964</td>\n",
       "      <td>-0.459740</td>\n",
       "      <td>-0.816412</td>\n",
       "      <td>-3.235340</td>\n",
       "      <td>1</td>\n",
       "      <td>0</td>\n",
       "      <td>0</td>\n",
       "      <td>0</td>\n",
       "      <td>1</td>\n",
       "      <td>Infrarroja</td>\n",
       "    </tr>\n",
       "    <tr>\n",
       "      <th>1</th>\n",
       "      <td>299490502078654464</td>\n",
       "      <td>146.62857</td>\n",
       "      <td>-0.765137</td>\n",
       "      <td>0.064656</td>\n",
       "      <td>99.40005</td>\n",
       "      <td>25.64047</td>\n",
       "      <td>21.44437</td>\n",
       "      <td>17.104640</td>\n",
       "      <td>51.59155</td>\n",
       "      <td>35.33497</td>\n",
       "      <td>...</td>\n",
       "      <td>-0.178710</td>\n",
       "      <td>-0.369459</td>\n",
       "      <td>-0.556229</td>\n",
       "      <td>-2.460214</td>\n",
       "      <td>1</td>\n",
       "      <td>1</td>\n",
       "      <td>0</td>\n",
       "      <td>0</td>\n",
       "      <td>2</td>\n",
       "      <td>Combinada</td>\n",
       "    </tr>\n",
       "    <tr>\n",
       "      <th>2</th>\n",
       "      <td>299491051364706304</td>\n",
       "      <td>146.96390</td>\n",
       "      <td>-0.545003</td>\n",
       "      <td>0.055988</td>\n",
       "      <td>181.52620</td>\n",
       "      <td>47.36650</td>\n",
       "      <td>11.85567</td>\n",
       "      <td>17.948720</td>\n",
       "      <td>54.13749</td>\n",
       "      <td>31.28298</td>\n",
       "      <td>...</td>\n",
       "      <td>-1.385109</td>\n",
       "      <td>-0.923537</td>\n",
       "      <td>-1.280405</td>\n",
       "      <td>-3.738322</td>\n",
       "      <td>1</td>\n",
       "      <td>0</td>\n",
       "      <td>0</td>\n",
       "      <td>0</td>\n",
       "      <td>1</td>\n",
       "      <td>Infrarroja</td>\n",
       "    </tr>\n",
       "    <tr>\n",
       "      <th>3</th>\n",
       "      <td>299491051834468352</td>\n",
       "      <td>146.63167</td>\n",
       "      <td>-0.988278</td>\n",
       "      <td>0.052654</td>\n",
       "      <td>127.30580</td>\n",
       "      <td>38.33226</td>\n",
       "      <td>35.46671</td>\n",
       "      <td>8.550285</td>\n",
       "      <td>25.78963</td>\n",
       "      <td>30.26996</td>\n",
       "      <td>...</td>\n",
       "      <td>-0.077697</td>\n",
       "      <td>-1.310284</td>\n",
       "      <td>-0.821367</td>\n",
       "      <td>-3.010839</td>\n",
       "      <td>1</td>\n",
       "      <td>0</td>\n",
       "      <td>0</td>\n",
       "      <td>0</td>\n",
       "      <td>1</td>\n",
       "      <td>Infrarroja</td>\n",
       "    </tr>\n",
       "    <tr>\n",
       "      <th>4</th>\n",
       "      <td>299492700632147968</td>\n",
       "      <td>146.59272</td>\n",
       "      <td>-0.760256</td>\n",
       "      <td>0.065024</td>\n",
       "      <td>211.50180</td>\n",
       "      <td>53.18228</td>\n",
       "      <td>15.59901</td>\n",
       "      <td>25.314650</td>\n",
       "      <td>76.35482</td>\n",
       "      <td>41.63770</td>\n",
       "      <td>...</td>\n",
       "      <td>-1.226518</td>\n",
       "      <td>-0.732506</td>\n",
       "      <td>-1.104063</td>\n",
       "      <td>-3.378612</td>\n",
       "      <td>1</td>\n",
       "      <td>0</td>\n",
       "      <td>0</td>\n",
       "      <td>0</td>\n",
       "      <td>1</td>\n",
       "      <td>Infrarroja</td>\n",
       "    </tr>\n",
       "    <tr>\n",
       "      <th>5</th>\n",
       "      <td>299493250857723904</td>\n",
       "      <td>146.94999</td>\n",
       "      <td>-0.592202</td>\n",
       "      <td>0.064779</td>\n",
       "      <td>229.13250</td>\n",
       "      <td>60.80691</td>\n",
       "      <td>29.73346</td>\n",
       "      <td>24.491550</td>\n",
       "      <td>73.87218</td>\n",
       "      <td>45.46917</td>\n",
       "      <td>...</td>\n",
       "      <td>-0.715430</td>\n",
       "      <td>-0.845628</td>\n",
       "      <td>-1.060717</td>\n",
       "      <td>-3.454973</td>\n",
       "      <td>1</td>\n",
       "      <td>0</td>\n",
       "      <td>0</td>\n",
       "      <td>0</td>\n",
       "      <td>1</td>\n",
       "      <td>Infrarroja</td>\n",
       "    </tr>\n",
       "    <tr>\n",
       "      <th>6</th>\n",
       "      <td>299496274514700288</td>\n",
       "      <td>146.95607</td>\n",
       "      <td>-0.342300</td>\n",
       "      <td>0.134680</td>\n",
       "      <td>77.04804</td>\n",
       "      <td>22.93367</td>\n",
       "      <td>20.20715</td>\n",
       "      <td>19.518040</td>\n",
       "      <td>58.87090</td>\n",
       "      <td>36.77939</td>\n",
       "      <td>...</td>\n",
       "      <td>-0.126570</td>\n",
       "      <td>0.017254</td>\n",
       "      <td>-0.041851</td>\n",
       "      <td>-1.819342</td>\n",
       "      <td>0</td>\n",
       "      <td>0</td>\n",
       "      <td>1</td>\n",
       "      <td>0</td>\n",
       "      <td>1</td>\n",
       "      <td>LINER</td>\n",
       "    </tr>\n",
       "    <tr>\n",
       "      <th>7</th>\n",
       "      <td>299496824270514176</td>\n",
       "      <td>147.17639</td>\n",
       "      <td>-0.354057</td>\n",
       "      <td>0.006283</td>\n",
       "      <td>129.30380</td>\n",
       "      <td>47.89519</td>\n",
       "      <td>62.74385</td>\n",
       "      <td>4.237359</td>\n",
       "      <td>12.78085</td>\n",
       "      <td>23.64687</td>\n",
       "      <td>...</td>\n",
       "      <td>0.270045</td>\n",
       "      <td>-2.027881</td>\n",
       "      <td>-1.185132</td>\n",
       "      <td>-4.847947</td>\n",
       "      <td>1</td>\n",
       "      <td>0</td>\n",
       "      <td>0</td>\n",
       "      <td>0</td>\n",
       "      <td>1</td>\n",
       "      <td>Infrarroja</td>\n",
       "    </tr>\n",
       "    <tr>\n",
       "      <th>8</th>\n",
       "      <td>299498473068193792</td>\n",
       "      <td>147.32951</td>\n",
       "      <td>0.028903</td>\n",
       "      <td>0.048096</td>\n",
       "      <td>493.31230</td>\n",
       "      <td>108.99000</td>\n",
       "      <td>56.12985</td>\n",
       "      <td>104.337700</td>\n",
       "      <td>314.70670</td>\n",
       "      <td>86.07532</td>\n",
       "      <td>...</td>\n",
       "      <td>-0.663588</td>\n",
       "      <td>-0.163166</td>\n",
       "      <td>-1.176673</td>\n",
       "      <td>-3.149075</td>\n",
       "      <td>0</td>\n",
       "      <td>1</td>\n",
       "      <td>0</td>\n",
       "      <td>0</td>\n",
       "      <td>1</td>\n",
       "      <td>Combinada</td>\n",
       "    </tr>\n",
       "    <tr>\n",
       "      <th>9</th>\n",
       "      <td>299500672561211392</td>\n",
       "      <td>146.57134</td>\n",
       "      <td>-0.957211</td>\n",
       "      <td>0.065183</td>\n",
       "      <td>351.30450</td>\n",
       "      <td>66.98206</td>\n",
       "      <td>18.08399</td>\n",
       "      <td>49.037670</td>\n",
       "      <td>147.90900</td>\n",
       "      <td>48.68991</td>\n",
       "      <td>...</td>\n",
       "      <td>-1.309398</td>\n",
       "      <td>-0.578720</td>\n",
       "      <td>-1.411553</td>\n",
       "      <td>-3.877328</td>\n",
       "      <td>1</td>\n",
       "      <td>0</td>\n",
       "      <td>0</td>\n",
       "      <td>0</td>\n",
       "      <td>1</td>\n",
       "      <td>Infrarroja</td>\n",
       "    </tr>\n",
       "  </tbody>\n",
       "</table>\n",
       "<p>10 rows × 24 columns</p>\n",
       "</div>"
      ],
      "text/plain": [
       "            specobjid         ra       dec         z  h_alpha_flux  \\\n",
       "0  299489677444933632  146.71421 -1.041304  0.021222     472.59040   \n",
       "1  299490502078654464  146.62857 -0.765137  0.064656      99.40005   \n",
       "2  299491051364706304  146.96390 -0.545003  0.055988     181.52620   \n",
       "3  299491051834468352  146.63167 -0.988278  0.052654     127.30580   \n",
       "4  299492700632147968  146.59272 -0.760256  0.065024     211.50180   \n",
       "5  299493250857723904  146.94999 -0.592202  0.064779     229.13250   \n",
       "6  299496274514700288  146.95607 -0.342300  0.134680      77.04804   \n",
       "7  299496824270514176  147.17639 -0.354057  0.006283     129.30380   \n",
       "8  299498473068193792  147.32951  0.028903  0.048096     493.31230   \n",
       "9  299500672561211392  146.57134 -0.957211  0.065183     351.30450   \n",
       "\n",
       "   h_beta_flux  oiii_5007_flux  nii_6548_flux  nii_6584_flux  sii_6717_flux  \\\n",
       "0    119.49560        68.39606      74.302520      224.11360      124.71150   \n",
       "1     25.64047        21.44437      17.104640       51.59155       35.33497   \n",
       "2     47.36650        11.85567      17.948720       54.13749       31.28298   \n",
       "3     38.33226        35.46671       8.550285       25.78963       30.26996   \n",
       "4     53.18228        15.59901      25.314650       76.35482       41.63770   \n",
       "5     60.80691        29.73346      24.491550       73.87218       45.46917   \n",
       "6     22.93367        20.20715      19.518040       58.87090       36.77939   \n",
       "7     47.89519        62.74385       4.237359       12.78085       23.64687   \n",
       "8    108.99000        56.12985     104.337700      314.70670       86.07532   \n",
       "9     66.98206        18.08399      49.037670      147.90900       48.68991   \n",
       "\n",
       "   ...  Ejey_OHB   Ejex_NH   Ejex_SH   Ejex_OH  Infrarroja  Combinada  LINER  \\\n",
       "0  ... -0.557964 -0.459740 -0.816412 -3.235340           1          0      0   \n",
       "1  ... -0.178710 -0.369459 -0.556229 -2.460214           1          1      0   \n",
       "2  ... -1.385109 -0.923537 -1.280405 -3.738322           1          0      0   \n",
       "3  ... -0.077697 -1.310284 -0.821367 -3.010839           1          0      0   \n",
       "4  ... -1.226518 -0.732506 -1.104063 -3.378612           1          0      0   \n",
       "5  ... -0.715430 -0.845628 -1.060717 -3.454973           1          0      0   \n",
       "6  ... -0.126570  0.017254 -0.041851 -1.819342           0          0      1   \n",
       "7  ...  0.270045 -2.027881 -1.185132 -4.847947           1          0      0   \n",
       "8  ... -0.663588 -0.163166 -1.176673 -3.149075           0          1      0   \n",
       "9  ... -1.309398 -0.578720 -1.411553 -3.877328           1          0      0   \n",
       "\n",
       "   Seyfert Sumas PreEtiquetaNII  \n",
       "0        0     1     Infrarroja  \n",
       "1        0     2      Combinada  \n",
       "2        0     1     Infrarroja  \n",
       "3        0     1     Infrarroja  \n",
       "4        0     1     Infrarroja  \n",
       "5        0     1     Infrarroja  \n",
       "6        0     1          LINER  \n",
       "7        0     1     Infrarroja  \n",
       "8        0     1      Combinada  \n",
       "9        0     1     Infrarroja  \n",
       "\n",
       "[10 rows x 24 columns]"
      ]
     },
     "execution_count": 72,
     "metadata": {},
     "output_type": "execute_result"
    }
   ],
   "source": [
    "df[0:10]"
   ]
  },
  {
   "cell_type": "code",
   "execution_count": 73,
   "id": "31988c97",
   "metadata": {},
   "outputs": [
    {
     "data": {
      "text/plain": [
       "249401"
      ]
     },
     "execution_count": 73,
     "metadata": {},
     "output_type": "execute_result"
    }
   ],
   "source": [
    "conteo_infrarroja = df[\"PreEtiquetaNII\"].value_counts()[\"Infrarroja\"]\n",
    "conteo_infrarroja"
   ]
  },
  {
   "cell_type": "code",
   "execution_count": 74,
   "id": "0bccd4bf",
   "metadata": {},
   "outputs": [
    {
     "data": {
      "text/plain": [
       "22237"
      ]
     },
     "execution_count": 74,
     "metadata": {},
     "output_type": "execute_result"
    }
   ],
   "source": [
    "conteo_combinada = df[\"PreEtiquetaNII\"].value_counts()[\"Combinada\"]\n",
    "conteo_combinada"
   ]
  },
  {
   "cell_type": "code",
   "execution_count": 75,
   "id": "67922277",
   "metadata": {},
   "outputs": [
    {
     "data": {
      "text/plain": [
       "14270"
      ]
     },
     "execution_count": 75,
     "metadata": {},
     "output_type": "execute_result"
    }
   ],
   "source": [
    "conteo_Liner = df[\"PreEtiquetaNII\"].value_counts()[\"LINER\"]\n",
    "conteo_Liner"
   ]
  },
  {
   "cell_type": "code",
   "execution_count": 76,
   "id": "07008992",
   "metadata": {},
   "outputs": [
    {
     "data": {
      "text/plain": [
       "24438"
      ]
     },
     "execution_count": 76,
     "metadata": {},
     "output_type": "execute_result"
    }
   ],
   "source": [
    "conteo_seyfert = df[\"PreEtiquetaNII\"].value_counts()[\"Seyfert\"]\n",
    "conteo_seyfert"
   ]
  },
  {
   "cell_type": "code",
   "execution_count": 81,
   "id": "6449ee86",
   "metadata": {},
   "outputs": [
    {
     "data": {
      "text/plain": [
       "310346"
      ]
     },
     "execution_count": 81,
     "metadata": {},
     "output_type": "execute_result"
    }
   ],
   "source": [
    "sumat= conteo_infrarroja+ conteo_combinada + conteo_Liner + conteo_seyfert\n",
    "sumat"
   ]
  },
  {
   "cell_type": "markdown",
   "id": "0eb63209",
   "metadata": {},
   "source": [
    "## Ahora si estan correctamente etiquetadas las 310.346!"
   ]
  },
  {
   "cell_type": "markdown",
   "id": "c34e75f1",
   "metadata": {},
   "source": [
    "### 1.3.4 Graficas de NII Deductiva."
   ]
  },
  {
   "cell_type": "code",
   "execution_count": 82,
   "id": "d938deea",
   "metadata": {},
   "outputs": [
    {
     "data": {
      "text/plain": [
       "<matplotlib.legend.Legend at 0x1adcdaa8d90>"
      ]
     },
     "execution_count": 82,
     "metadata": {},
     "output_type": "execute_result"
    },
    {
     "data": {
      "image/png": "[encoded data removed]",
      "text/plain": [
       "<Figure size 432x288 with 1 Axes>"
      ]
     },
     "metadata": {
      "needs_background": "light"
     },
     "output_type": "display_data"
    }
   ],
   "source": [
    "import matplotlib.pyplot as plt\n",
    "\n",
    "# Crear la figura y los ejes\n",
    "fig, ax = plt.subplots()\n",
    "\n",
    "# Configurar los colores según la columna \"PreEtiqueta\"\n",
    "colores = {\n",
    "    \"Infrarroja\": \"indigo\",\n",
    "    \"Combinada\": \"firebrick\",\n",
    "    \"LINER\": \"lightsalmon\",\n",
    "    \"Seyfert\": \"salmon\"\n",
    "}\n",
    "\n",
    "# Filtrar los datos por etiqueta\n",
    "datos_infrarroja = df[df[\"PreEtiquetaNII\"] == \"Infrarroja\"]\n",
    "datos_combinada = df[df[\"PreEtiquetaNII\"] == \"Combinada\"]\n",
    "datos_liner = df[df[\"PreEtiquetaNII\"] == \"LINER\"]\n",
    "datos_seyfert = df[df[\"PreEtiquetaNII\"] == \"Seyfert\"]\n",
    "\n",
    "# Graficar los puntos con colores según la etiqueta\n",
    "ax.scatter(datos_infrarroja[\"Ejex_NH\"], datos_infrarroja[\"Ejey_OHB\"], color=\"indigo\", label=\"Infrarroja\")\n",
    "ax.scatter(datos_combinada[\"Ejex_NH\"], datos_combinada[\"Ejey_OHB\"], color=\"firebrick\", label=\"Combinada\")\n",
    "ax.scatter(datos_liner[\"Ejex_NH\"], datos_liner[\"Ejey_OHB\"], color=\"lightsalmon\", label=\"LINER\")\n",
    "ax.scatter(datos_seyfert[\"Ejex_NH\"], datos_seyfert[\"Ejey_OHB\"], color=\"salmon\", label=\"Seyfert\")\n",
    "\n",
    "# Configurar los límites de los ejes\n",
    "ax.set_xlim([-7.5, 4])\n",
    "ax.set_ylim([-7.5, 7.5])\n",
    "\n",
    "# Agregar etiquetas y título\n",
    "plt.xlabel(\"Ejex_NH\")\n",
    "plt.ylabel(\"Ejey_OHB\")\n",
    "plt.title(\"Gráfica a. Según PreEtiquetaNII\")\n",
    "plt.legend()"
   ]
  },
  {
   "cell_type": "code",
   "execution_count": 79,
   "id": "8964c8a9",
   "metadata": {},
   "outputs": [],
   "source": [
    "df1=df"
   ]
  },
  {
   "cell_type": "code",
   "execution_count": 80,
   "id": "33fc0f56",
   "metadata": {},
   "outputs": [
    {
     "data": {
      "text/html": [
       "<div>\n",
       "<style scoped>\n",
       "    .dataframe tbody tr th:only-of-type {\n",
       "        vertical-align: middle;\n",
       "    }\n",
       "\n",
       "    .dataframe tbody tr th {\n",
       "        vertical-align: top;\n",
       "    }\n",
       "\n",
       "    .dataframe thead th {\n",
       "        text-align: right;\n",
       "    }\n",
       "</style>\n",
       "<table border=\"1\" class=\"dataframe\">\n",
       "  <thead>\n",
       "    <tr style=\"text-align: right;\">\n",
       "      <th></th>\n",
       "      <th>specobjid</th>\n",
       "      <th>ra</th>\n",
       "      <th>dec</th>\n",
       "      <th>z</th>\n",
       "      <th>h_alpha_flux</th>\n",
       "      <th>h_beta_flux</th>\n",
       "      <th>oiii_5007_flux</th>\n",
       "      <th>nii_6548_flux</th>\n",
       "      <th>nii_6584_flux</th>\n",
       "      <th>sii_6717_flux</th>\n",
       "      <th>...</th>\n",
       "      <th>Ejey_OHB</th>\n",
       "      <th>Ejex_NH</th>\n",
       "      <th>Ejex_SH</th>\n",
       "      <th>Ejex_OH</th>\n",
       "      <th>Infrarroja</th>\n",
       "      <th>Combinada</th>\n",
       "      <th>LINER</th>\n",
       "      <th>Seyfert</th>\n",
       "      <th>Sumas</th>\n",
       "      <th>PreEtiquetaNII</th>\n",
       "    </tr>\n",
       "  </thead>\n",
       "  <tbody>\n",
       "    <tr>\n",
       "      <th>0</th>\n",
       "      <td>299489677444933632</td>\n",
       "      <td>146.71421</td>\n",
       "      <td>-1.041304</td>\n",
       "      <td>0.021222</td>\n",
       "      <td>472.59040</td>\n",
       "      <td>119.49560</td>\n",
       "      <td>68.39606</td>\n",
       "      <td>74.30252</td>\n",
       "      <td>224.11360</td>\n",
       "      <td>124.71150</td>\n",
       "      <td>...</td>\n",
       "      <td>-0.557964</td>\n",
       "      <td>-0.459740</td>\n",
       "      <td>-0.816412</td>\n",
       "      <td>-3.235340</td>\n",
       "      <td>1</td>\n",
       "      <td>0</td>\n",
       "      <td>0</td>\n",
       "      <td>0</td>\n",
       "      <td>1</td>\n",
       "      <td>Infrarroja</td>\n",
       "    </tr>\n",
       "    <tr>\n",
       "      <th>1</th>\n",
       "      <td>299490502078654464</td>\n",
       "      <td>146.62857</td>\n",
       "      <td>-0.765137</td>\n",
       "      <td>0.064656</td>\n",
       "      <td>99.40005</td>\n",
       "      <td>25.64047</td>\n",
       "      <td>21.44437</td>\n",
       "      <td>17.10464</td>\n",
       "      <td>51.59155</td>\n",
       "      <td>35.33497</td>\n",
       "      <td>...</td>\n",
       "      <td>-0.178710</td>\n",
       "      <td>-0.369459</td>\n",
       "      <td>-0.556229</td>\n",
       "      <td>-2.460214</td>\n",
       "      <td>1</td>\n",
       "      <td>1</td>\n",
       "      <td>0</td>\n",
       "      <td>0</td>\n",
       "      <td>2</td>\n",
       "      <td>Combinada</td>\n",
       "    </tr>\n",
       "    <tr>\n",
       "      <th>2</th>\n",
       "      <td>299491051364706304</td>\n",
       "      <td>146.96390</td>\n",
       "      <td>-0.545003</td>\n",
       "      <td>0.055988</td>\n",
       "      <td>181.52620</td>\n",
       "      <td>47.36650</td>\n",
       "      <td>11.85567</td>\n",
       "      <td>17.94872</td>\n",
       "      <td>54.13749</td>\n",
       "      <td>31.28298</td>\n",
       "      <td>...</td>\n",
       "      <td>-1.385109</td>\n",
       "      <td>-0.923537</td>\n",
       "      <td>-1.280405</td>\n",
       "      <td>-3.738322</td>\n",
       "      <td>1</td>\n",
       "      <td>0</td>\n",
       "      <td>0</td>\n",
       "      <td>0</td>\n",
       "      <td>1</td>\n",
       "      <td>Infrarroja</td>\n",
       "    </tr>\n",
       "  </tbody>\n",
       "</table>\n",
       "<p>3 rows × 24 columns</p>\n",
       "</div>"
      ],
      "text/plain": [
       "            specobjid         ra       dec         z  h_alpha_flux  \\\n",
       "0  299489677444933632  146.71421 -1.041304  0.021222     472.59040   \n",
       "1  299490502078654464  146.62857 -0.765137  0.064656      99.40005   \n",
       "2  299491051364706304  146.96390 -0.545003  0.055988     181.52620   \n",
       "\n",
       "   h_beta_flux  oiii_5007_flux  nii_6548_flux  nii_6584_flux  sii_6717_flux  \\\n",
       "0    119.49560        68.39606       74.30252      224.11360      124.71150   \n",
       "1     25.64047        21.44437       17.10464       51.59155       35.33497   \n",
       "2     47.36650        11.85567       17.94872       54.13749       31.28298   \n",
       "\n",
       "   ...  Ejey_OHB   Ejex_NH   Ejex_SH   Ejex_OH  Infrarroja  Combinada  LINER  \\\n",
       "0  ... -0.557964 -0.459740 -0.816412 -3.235340           1          0      0   \n",
       "1  ... -0.178710 -0.369459 -0.556229 -2.460214           1          1      0   \n",
       "2  ... -1.385109 -0.923537 -1.280405 -3.738322           1          0      0   \n",
       "\n",
       "   Seyfert Sumas PreEtiquetaNII  \n",
       "0        0     1     Infrarroja  \n",
       "1        0     2      Combinada  \n",
       "2        0     1     Infrarroja  \n",
       "\n",
       "[3 rows x 24 columns]"
      ]
     },
     "execution_count": 80,
     "metadata": {},
     "output_type": "execute_result"
    }
   ],
   "source": [
    "df1[0:3]"
   ]
  },
  {
   "cell_type": "markdown",
   "id": "f6d46910",
   "metadata": {},
   "source": [
    "## Conclusiones:  \n",
    "    Se logra identificacion en 4 Grupos principales para NII: Infrarroja, Combinada, LINER y Seyfert."
   ]
  }
 ],
 "metadata": {
  "kernelspec": {
   "display_name": "Python 3 (ipykernel)",
   "language": "python",
   "name": "python3"
  },
  "language_info": {
   "codemirror_mode": {
    "name": "ipython",
    "version": 3
   },
   "file_extension": ".py",
   "mimetype": "text/x-python",
   "name": "python",
   "nbconvert_exporter": "python",
   "pygments_lexer": "ipython3",
   "version": "3.9.7"
  }
 },
 "nbformat": 4,
 "nbformat_minor": 5
}
